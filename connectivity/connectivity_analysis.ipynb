{
 "cells": [
  {
   "cell_type": "code",
   "execution_count": 34,
   "id": "initial_id",
   "metadata": {
    "collapsed": true,
    "ExecuteTime": {
     "end_time": "2024-02-19T10:39:01.872325Z",
     "start_time": "2024-02-19T10:39:01.864969Z"
    }
   },
   "outputs": [],
   "source": [
    "import os\n",
    "import mne\n",
    "import json\n",
    "import numpy as np\n",
    "import pandas as pd\n",
    "import seaborn as sns\n",
    "import matplotlib.pyplot as plt\n",
    "from mne_connectivity import spectral_connectivity_epochs\n",
    "\n",
    "from helper_functions import save_figure"
   ]
  },
  {
   "cell_type": "code",
   "outputs": [],
   "source": [
    "with open('../settings.json', \"r\") as f:\n",
    "    settings = json.load(f)\n",
    "    \n",
    "epoch_folder = settings['epochs_folder']\n",
    "plot_folder = settings['plots_folder']"
   ],
   "metadata": {
    "collapsed": false,
    "ExecuteTime": {
     "end_time": "2024-02-19T09:01:26.666349Z",
     "start_time": "2024-02-19T09:01:26.659834Z"
    }
   },
   "id": "368564f252aaef87",
   "execution_count": 2
  },
  {
   "cell_type": "code",
   "outputs": [],
   "source": [
    "bad_chans = {\n",
    "    \"80630\": [\"OFC_R\"],\n",
    "    \"80625\": [\"OFC_L\"],\n",
    "    \"81193\": [\"OFC_R\", \"OFC_L\"]\n",
    "}"
   ],
   "metadata": {
    "collapsed": false,
    "ExecuteTime": {
     "end_time": "2024-02-20T15:22:17.044724Z",
     "start_time": "2024-02-20T15:22:16.972821Z"
    }
   },
   "id": "77d69d3679df6a6c",
   "execution_count": 223
  },
  {
   "cell_type": "code",
   "outputs": [],
   "source": [
    "freq_bands = {'Delta': (2, 4), 'Theta': (4, 8), 'Alpha': (8, 13), 'Beta': (13, 30), 'Gamma': (30, 100)}"
   ],
   "metadata": {
    "collapsed": false,
    "ExecuteTime": {
     "end_time": "2024-02-19T09:49:11.752200Z",
     "start_time": "2024-02-19T09:49:11.728443Z"
    }
   },
   "id": "e590b0ae0e64b931",
   "execution_count": 21
  },
  {
   "cell_type": "markdown",
   "source": [
    "Import the epoch file and drop unwanted EMG channels"
   ],
   "metadata": {
    "collapsed": false
   },
   "id": "cc8cd16c21968e6f"
  },
  {
   "cell_type": "code",
   "outputs": [
    {
     "data": {
      "text/plain": "<EpochsFIF |  21980 events (all good), 0 – 4.99853 s, baseline off, ~6.22 GB, data loaded, with metadata,\n '1': 21980>",
      "text/html": "<table class=\"table table-hover table-striped table-sm table-responsive small\">\n    <tr>\n        <th>Number of events</th>\n        <td>21980</td>\n    </tr>\n    <tr>\n        <th>Events</th>\n        \n        <td>1: 21980</td>\n        \n    </tr>\n    <tr>\n        <th>Time range</th>\n        <td>0.000 – 4.999 s</td>\n    </tr>\n    <tr>\n        <th>Baseline</th>\n        <td>off</td>\n    </tr>\n</table>"
     },
     "execution_count": 4,
     "metadata": {},
     "output_type": "execute_result"
    }
   ],
   "source": [
    "filtered_epochs = mne.read_epochs(os.path.join(epoch_folder, \"filtered_epochs_w_movement-epo.fif\"), preload=True)\n",
    "filtered_epochs.drop_channels(['EMG_L', 'EMG_R'])"
   ],
   "metadata": {
    "collapsed": false,
    "ExecuteTime": {
     "end_time": "2024-02-19T09:05:18.916505Z",
     "start_time": "2024-02-19T09:01:29.318758Z"
    }
   },
   "id": "d12fee8ddd7cfc60",
   "execution_count": 4
  },
  {
   "cell_type": "markdown",
   "source": [
    "We want to investigate differences between resting and non-resting, so let's split the epochs on this behaviour using the metadata"
   ],
   "metadata": {
    "collapsed": false
   },
   "id": "4d59c1f1ead863cc"
  },
  {
   "cell_type": "code",
   "outputs": [],
   "source": [
    "movement_epochs = filtered_epochs[filtered_epochs.metadata[\"movement\"] == 1]\n",
    "non_movement_epochs = filtered_epochs[filtered_epochs.metadata[\"movement\"] == 0]"
   ],
   "metadata": {
    "collapsed": false,
    "ExecuteTime": {
     "end_time": "2024-02-19T09:17:22.057415Z",
     "start_time": "2024-02-19T09:16:03.930292Z"
    }
   },
   "id": "e047840cab5ae97c",
   "execution_count": 6
  },
  {
   "cell_type": "markdown",
   "source": [
    "### General fucntions\n",
    "\n",
    "Let's create a function that takes a connectivity measure method as an argument and computes it"
   ],
   "metadata": {
    "collapsed": false
   },
   "id": "f568d29872622cbf"
  },
  {
   "cell_type": "code",
   "outputs": [],
   "source": [
    "def compute_con(epochs, method, fmin=0, fmax=100):\n",
    "    # Compute spectral connectivity\n",
    "    con= spectral_connectivity_epochs(\n",
    "        epochs, method=method, mode='multitaper', sfreq=epochs.info['sfreq'],\n",
    "        fmin=fmin, fmax=fmax, faverage=True, verbose=False, gc_n_lags=40)\n",
    "    return con.get_data(output='dense')"
   ],
   "metadata": {
    "collapsed": false,
    "ExecuteTime": {
     "end_time": "2024-02-19T09:18:37.999212Z",
     "start_time": "2024-02-19T09:18:37.962154Z"
    }
   },
   "id": "7d66bedeb286093e",
   "execution_count": 7
  },
  {
   "cell_type": "markdown",
   "source": [
    "And now a general function that allows us to generate a connectivity measure dataframe for a given measure. Note that we omit the channel-channel connectivity measures for the 'low qaulity' channels that are manually entered into the *bad_chans* dictionary defined above."
   ],
   "metadata": {
    "collapsed": false
   },
   "id": "2dbd776d614add1e"
  },
  {
   "cell_type": "code",
   "outputs": [],
   "source": [
    "def connectivity_df(epochs, method):\n",
    "    results_df = pd.DataFrame()\n",
    "    subject_ids = epochs.metadata['animal_id'].unique()\n",
    "\n",
    "    # per subject, calculate the given measure for all epochs\n",
    "    for idx, subject_id in enumerate(subject_ids):\n",
    "        # subset of the data for this subject\n",
    "        mouse_epochs = epochs[epochs.metadata['animal_id']==subject_id].copy()\n",
    "        genotype = mouse_epochs.metadata['genotype'].unique()[0]\n",
    "    \n",
    "        # compute the given connectivity measure for every frequency band\n",
    "        for band_name, (fmin, fmax) in freq_bands.items():\n",
    "            # compute the connectivity using the provided method\n",
    "            con = compute_con(mouse_epochs, method, fmin, fmax)\n",
    "            \n",
    "            # loop through first channel of connectivity pair\n",
    "            for i in range(con.shape[1]):\n",
    "                # loop through second channel of connectivity pair\n",
    "                for j in range(i+1, con.shape[0]):\n",
    "                    # if looped channel for this subject in bad channel dict, skip it\n",
    "                    if subject_id in bad_chans.keys():\n",
    "                        if epochs.ch_names[i] in bad_chans[subject_id] or epochs.ch_names[j] in bad_chans[subject_id]:\n",
    "                            continue\n",
    "                    # add the data\n",
    "                    results_df = pd.concat([results_df, pd.DataFrame({\n",
    "                        'con' : con[j, i, 0],\n",
    "                        'node1' : epochs.ch_names[i],\n",
    "                        'node2' : epochs.ch_names[j],\n",
    "                        'band' : band_name,\n",
    "                        'subject_id': subject_id,\n",
    "                        'genotype': genotype\n",
    "                    }, index=[0])], ignore_index=True)\n",
    "                    \n",
    "    return results_df"
   ],
   "metadata": {
    "collapsed": false,
    "ExecuteTime": {
     "end_time": "2024-02-20T15:33:07.556834Z",
     "start_time": "2024-02-20T15:33:07.526879Z"
    }
   },
   "id": "8f687e869ebbaa28",
   "execution_count": 230
  },
  {
   "cell_type": "markdown",
   "source": [
    "And a function which allows us to generate neat heatmaps of a given connectivity measure"
   ],
   "metadata": {
    "collapsed": false
   },
   "id": "b0518c3bca6e4fa"
  },
  {
   "cell_type": "code",
   "outputs": [],
   "source": [
    "def generate_con_heatmap(df, freq_band, cmap, fig_title='', method='', ax=None):\n",
    "    # subset the data for a given frequency band\n",
    "    filtered_df = df[df['band'] == freq_band]\n",
    "\n",
    "    # generate pivot table with mean 'method' values\n",
    "    pivot_table = filtered_df.pivot_table(index='node1', columns='node2', values='con', aggfunc='mean')\n",
    "\n",
    "    # make table symmetric by filling missing values\n",
    "    pivot_table = pivot_table.combine_first(pivot_table.T)\n",
    "\n",
    "    # set diagonal and upper triangle values to NaN, this way we still plot all data\n",
    "    for i in range(pivot_table.shape[0]):\n",
    "        for j in range(i, pivot_table.shape[1]):\n",
    "            pivot_table.iat[i, j] = np.nan\n",
    "\n",
    "    fig = sns.heatmap(pivot_table, cmap=cmap, annot=True, fmt=\".2f\",  vmin=0, vmax=1, ax=ax, square=True, cbar_kws={'shrink': 0.75})\n",
    "    fig.set_title(fig_title)\n",
    "\n",
    "    cbar = fig.collections[0].colorbar\n",
    "    cbar.set_label(f'Mean {method}', fontsize=12)\n",
    "    cbar.outline.set_edgecolor('black')\n",
    "    cbar.outline.set_linewidth(1)"
   ],
   "metadata": {
    "collapsed": false,
    "ExecuteTime": {
     "end_time": "2024-02-19T12:30:36.965839Z",
     "start_time": "2024-02-19T12:30:36.948308Z"
    }
   },
   "id": "d96395ac2b43bcce",
   "execution_count": 46
  },
  {
   "cell_type": "markdown",
   "source": [
    "### Connectivity: Coherence\n",
    "\n",
    "Let's first get the coherence"
   ],
   "metadata": {
    "collapsed": false
   },
   "id": "ab8b8e9499ff008"
  },
  {
   "cell_type": "code",
   "outputs": [],
   "source": [
    "coh_movement = connectivity_df(movement_epochs, \"coh\")\n",
    "coh_non_movement = connectivity_df(non_movement_epochs, \"coh\")"
   ],
   "metadata": {
    "collapsed": false,
    "ExecuteTime": {
     "end_time": "2024-02-20T15:45:19.853524Z",
     "start_time": "2024-02-20T15:33:11.667553Z"
    }
   },
   "id": "9de983318da2d412",
   "execution_count": 231
  },
  {
   "cell_type": "code",
   "outputs": [
    {
     "name": "stdout",
     "output_type": "stream",
     "text": [
      "(1470, 6) (1470, 6)\n"
     ]
    },
    {
     "data": {
      "text/plain": "        con  node1  node2   band subject_id genotype\n0  0.029061  OFC_R  OFC_L  Delta      81193  DRD2-KO\n1  0.029815  OFC_R     CG  Delta      81193  DRD2-KO\n2  0.064617  OFC_R  STR_R  Delta      81193  DRD2-KO\n3  0.022797  OFC_R   S1_L  Delta      81193  DRD2-KO\n4  0.017348  OFC_R   S1_R  Delta      81193  DRD2-KO\n5  0.030248  OFC_R   V1_R  Delta      81193  DRD2-KO\n6  0.787733  OFC_L     CG  Delta      81193  DRD2-KO\n7  0.603405  OFC_L  STR_R  Delta      81193  DRD2-KO\n8  0.581972  OFC_L   S1_L  Delta      81193  DRD2-KO\n9  0.657827  OFC_L   S1_R  Delta      81193  DRD2-KO",
      "text/html": "<div>\n<style scoped>\n    .dataframe tbody tr th:only-of-type {\n        vertical-align: middle;\n    }\n\n    .dataframe tbody tr th {\n        vertical-align: top;\n    }\n\n    .dataframe thead th {\n        text-align: right;\n    }\n</style>\n<table border=\"1\" class=\"dataframe\">\n  <thead>\n    <tr style=\"text-align: right;\">\n      <th></th>\n      <th>con</th>\n      <th>node1</th>\n      <th>node2</th>\n      <th>band</th>\n      <th>subject_id</th>\n      <th>genotype</th>\n    </tr>\n  </thead>\n  <tbody>\n    <tr>\n      <th>0</th>\n      <td>0.029061</td>\n      <td>OFC_R</td>\n      <td>OFC_L</td>\n      <td>Delta</td>\n      <td>81193</td>\n      <td>DRD2-KO</td>\n    </tr>\n    <tr>\n      <th>1</th>\n      <td>0.029815</td>\n      <td>OFC_R</td>\n      <td>CG</td>\n      <td>Delta</td>\n      <td>81193</td>\n      <td>DRD2-KO</td>\n    </tr>\n    <tr>\n      <th>2</th>\n      <td>0.064617</td>\n      <td>OFC_R</td>\n      <td>STR_R</td>\n      <td>Delta</td>\n      <td>81193</td>\n      <td>DRD2-KO</td>\n    </tr>\n    <tr>\n      <th>3</th>\n      <td>0.022797</td>\n      <td>OFC_R</td>\n      <td>S1_L</td>\n      <td>Delta</td>\n      <td>81193</td>\n      <td>DRD2-KO</td>\n    </tr>\n    <tr>\n      <th>4</th>\n      <td>0.017348</td>\n      <td>OFC_R</td>\n      <td>S1_R</td>\n      <td>Delta</td>\n      <td>81193</td>\n      <td>DRD2-KO</td>\n    </tr>\n    <tr>\n      <th>5</th>\n      <td>0.030248</td>\n      <td>OFC_R</td>\n      <td>V1_R</td>\n      <td>Delta</td>\n      <td>81193</td>\n      <td>DRD2-KO</td>\n    </tr>\n    <tr>\n      <th>6</th>\n      <td>0.787733</td>\n      <td>OFC_L</td>\n      <td>CG</td>\n      <td>Delta</td>\n      <td>81193</td>\n      <td>DRD2-KO</td>\n    </tr>\n    <tr>\n      <th>7</th>\n      <td>0.603405</td>\n      <td>OFC_L</td>\n      <td>STR_R</td>\n      <td>Delta</td>\n      <td>81193</td>\n      <td>DRD2-KO</td>\n    </tr>\n    <tr>\n      <th>8</th>\n      <td>0.581972</td>\n      <td>OFC_L</td>\n      <td>S1_L</td>\n      <td>Delta</td>\n      <td>81193</td>\n      <td>DRD2-KO</td>\n    </tr>\n    <tr>\n      <th>9</th>\n      <td>0.657827</td>\n      <td>OFC_L</td>\n      <td>S1_R</td>\n      <td>Delta</td>\n      <td>81193</td>\n      <td>DRD2-KO</td>\n    </tr>\n  </tbody>\n</table>\n</div>"
     },
     "execution_count": 14,
     "metadata": {},
     "output_type": "execute_result"
    }
   ],
   "source": [
    "print(coh_movement.shape, coh_non_movement.shape)\n",
    "coh_movement.head(10)"
   ],
   "metadata": {
    "collapsed": false,
    "ExecuteTime": {
     "end_time": "2024-02-19T09:30:20.019272Z",
     "start_time": "2024-02-19T09:30:20.008183Z"
    }
   },
   "id": "32189a0a06c0fb2c",
   "execution_count": 14
  },
  {
   "cell_type": "markdown",
   "source": [
    "Let's test the plotting for one genotype and one frequency band"
   ],
   "metadata": {
    "collapsed": false
   },
   "id": "84972656032a5f8a"
  },
  {
   "cell_type": "code",
   "outputs": [
    {
     "data": {
      "text/plain": "<Figure size 640x480 with 2 Axes>",
      "image/png": "[encoded data removed]"
     },
     "metadata": {},
     "output_type": "display_data"
    }
   ],
   "source": [
    "generate_con_heatmap(coh_movement[coh_movement['genotype'] == \"DRD2-KO\"], 'Delta', fig_title='DRD2-KO - Gamma band', cmap='flare')"
   ],
   "metadata": {
    "collapsed": false,
    "ExecuteTime": {
     "end_time": "2024-02-19T09:46:19.745180Z",
     "start_time": "2024-02-19T09:46:18.611634Z"
    }
   },
   "id": "4c259e5be70f6e01",
   "execution_count": 20
  },
  {
   "cell_type": "markdown",
   "source": [
    "Now, let's create a function that allows the creation of a grid that holds a subplot per frequency band and genotype."
   ],
   "metadata": {
    "collapsed": false
   },
   "id": "4add24aa011bb342"
  },
  {
   "cell_type": "code",
   "outputs": [],
   "source": [
    "def generate_grid_plot(data, method, behaviour, cmap='flare'):\n",
    "    fig, ax = plt.subplots(nrows=2, ncols=5, figsize=(24, 10))\n",
    "    \n",
    "    freq_band_names = freq_bands.keys()\n",
    "    genotypes = movement_epochs.metadata['genotype'].unique()\n",
    "    \n",
    "    # loop through genotypes\n",
    "    for i, genotype in enumerate(genotypes):\n",
    "        genotype_data = data[data['genotype'] == genotype]\n",
    "        # make a subplot for every band of each genotype\n",
    "        for j, band in enumerate(freq_band_names):\n",
    "            generate_con_heatmap(genotype_data, band, cmap=cmap, fig_title=f'{genotype} - {band} Band', method=method, ax=ax[i, j])\n",
    "    \n",
    "    plt.suptitle(f\"Behaviour: {behaviour}\")\n",
    "    plt.tight_layout()\n",
    "    save_figure(os.path.join(plot_folder, f\"connectivity/{method}_grid_{behaviour}.pdf\"))"
   ],
   "metadata": {
    "collapsed": false,
    "ExecuteTime": {
     "end_time": "2024-02-20T15:55:14.300026Z",
     "start_time": "2024-02-20T15:55:14.182404Z"
    }
   },
   "id": "b24e5d714322fe8f",
   "execution_count": 235
  },
  {
   "cell_type": "code",
   "outputs": [],
   "source": [
    "generate_grid_plot(coh_movement, 'coh', \"Movement\")\n",
    "generate_grid_plot(coh_non_movement, 'coh', \"Non-movement\")"
   ],
   "metadata": {
    "collapsed": false,
    "ExecuteTime": {
     "end_time": "2024-02-20T15:56:55.760444Z",
     "start_time": "2024-02-20T15:56:12.441043Z"
    }
   },
   "id": "1ff29343cb0a819f",
   "execution_count": 236
  },
  {
   "cell_type": "markdown",
   "source": [
    "### Phase Lag Index (PLI)\n",
    "\n",
    "* For PLI, means that signal leads and lags signal equally often, while a value greater than means that there is an imbalance in the likelihood for signal to be leading or lagging. A value of means that signal only leads or only lags signal.\n",
    "*\n",
    "* For wPLI, means that the total weight (not the quantity) of all leading relationships equals the total weight of lagging relationships, while a value greater than means that there is an imbalance between these weights. A value of, just as in PLI, means that signal only leads or only lags signal.\n",
    "*\n",
    "* With dPLI, we gain the ability to distinguish whether signal is leading or lagging signal, complementing the information provided by PLI or wPLI. A value of  means that signal leads and lags signal equally often. A value in the range means that signal leads signal  more often than it lags, with a value of meaning that signal always leads signal. A value in the range means that signal lags signal more often than it leads, with a value of meaning that signal always lags signal. The PLI can actually be extracted from the dPLI by the relationship, but this relationship is not invertible (dPLI can not be estimated from the PLI)."
   ],
   "metadata": {
    "collapsed": false
   },
   "id": "5a5192a19ce1120d"
  },
  {
   "cell_type": "markdown",
   "source": [
    "#### Regular PLI"
   ],
   "metadata": {
    "collapsed": false
   },
   "id": "244c6e849b81e9da"
  },
  {
   "cell_type": "code",
   "outputs": [],
   "source": [
    "pli_movement = connectivity_df(movement_epochs, \"pli\")\n",
    "pli_non_movement = connectivity_df(non_movement_epochs, \"pli\")"
   ],
   "metadata": {
    "collapsed": false,
    "ExecuteTime": {
     "end_time": "2024-02-20T16:04:17.098474Z",
     "start_time": "2024-02-20T15:56:55.775653Z"
    }
   },
   "id": "5950ab74e63f8a1c",
   "execution_count": 237
  },
  {
   "cell_type": "code",
   "outputs": [],
   "source": [
    "generate_grid_plot(pli_movement, 'pli', \"Movement\")\n",
    "generate_grid_plot(pli_non_movement, 'pli', \"Non-movement\")"
   ],
   "metadata": {
    "collapsed": false,
    "ExecuteTime": {
     "end_time": "2024-02-20T16:04:40.537831Z",
     "start_time": "2024-02-20T16:04:16.845456Z"
    }
   },
   "id": "e66405545bfe71d4",
   "execution_count": 238
  },
  {
   "cell_type": "markdown",
   "source": [
    "#### Directed PLI (DPLI)"
   ],
   "metadata": {
    "collapsed": false
   },
   "id": "f30eaa792eada9a6"
  },
  {
   "cell_type": "code",
   "outputs": [],
   "source": [
    "dpli_movement = connectivity_df(movement_epochs, \"dpli\")\n",
    "dpli_non_movement = connectivity_df(non_movement_epochs, \"dpli\")"
   ],
   "metadata": {
    "collapsed": false,
    "ExecuteTime": {
     "end_time": "2024-02-20T16:11:54.859983Z",
     "start_time": "2024-02-20T16:04:37.841228Z"
    }
   },
   "id": "248ec1d4fbdfb1ed",
   "execution_count": 239
  },
  {
   "cell_type": "code",
   "outputs": [],
   "source": [
    "generate_grid_plot(dpli_movement, 'dpli', \"Movement\")\n",
    "generate_grid_plot(dpli_non_movement, 'dpli', \"Non-movement\")"
   ],
   "metadata": {
    "collapsed": false,
    "ExecuteTime": {
     "end_time": "2024-02-20T16:12:16.801715Z",
     "start_time": "2024-02-20T16:11:54.849834Z"
    }
   },
   "id": "c9d88d8b8c5dfa30",
   "execution_count": 240
  },
  {
   "cell_type": "markdown",
   "source": [
    "#### Weighted PLI (WPLI)"
   ],
   "metadata": {
    "collapsed": false
   },
   "id": "1d30da537914e4f0"
  },
  {
   "cell_type": "code",
   "outputs": [],
   "source": [
    "wpli_movement = connectivity_df(movement_epochs, \"wpli\")\n",
    "wpli_non_movement = connectivity_df(non_movement_epochs, \"wpli\")"
   ],
   "metadata": {
    "collapsed": false,
    "ExecuteTime": {
     "end_time": "2024-02-20T16:19:35.273433Z",
     "start_time": "2024-02-20T16:12:16.750209Z"
    }
   },
   "id": "54606177c7fc3f37",
   "execution_count": 241
  },
  {
   "cell_type": "code",
   "outputs": [],
   "source": [
    "generate_grid_plot(wpli_movement, 'wpli', \"Movement\")\n",
    "generate_grid_plot(wpli_non_movement, 'wpli', \"Non-movement\")"
   ],
   "metadata": {
    "collapsed": false,
    "ExecuteTime": {
     "end_time": "2024-02-20T16:19:56.483115Z",
     "start_time": "2024-02-20T16:19:35.367418Z"
    }
   },
   "id": "d59da23a488e512f",
   "execution_count": 242
  },
  {
   "cell_type": "markdown",
   "source": [
    "#### WPLI2 debiased"
   ],
   "metadata": {
    "collapsed": false
   },
   "id": "b9da9ab58a4f350e"
  },
  {
   "cell_type": "code",
   "outputs": [],
   "source": [
    "wpli2_movement = connectivity_df(movement_epochs, \"wpli2_debiased\")\n",
    "wpli2_non_movement = connectivity_df(non_movement_epochs, \"wpli2_debiased\")"
   ],
   "metadata": {
    "collapsed": false,
    "ExecuteTime": {
     "end_time": "2024-02-20T16:27:05.782765Z",
     "start_time": "2024-02-20T16:19:56.484842Z"
    }
   },
   "id": "fab62edf6e326841",
   "execution_count": 243
  },
  {
   "cell_type": "code",
   "outputs": [],
   "source": [
    "generate_grid_plot(wpli2_movement, 'wpli2_debiased', \"Movement\")\n",
    "generate_grid_plot(wpli2_non_movement, 'wpli2_debiased', \"Non-movement\")"
   ],
   "metadata": {
    "collapsed": false,
    "ExecuteTime": {
     "end_time": "2024-02-20T16:27:31.578278Z",
     "start_time": "2024-02-20T16:27:05.740441Z"
    }
   },
   "id": "5d534885b7805fd8",
   "execution_count": 244
  },
  {
   "cell_type": "markdown",
   "source": [
    "### Barplotting\n",
    "\n",
    "Let's define a general function that takes our pre-generated dataframes holding the connectivity measure data, and generates a barplot per unique channel combination (hue on genotype)."
   ],
   "metadata": {
    "collapsed": false
   },
   "id": "5047d9f3d493ed57"
  },
  {
   "cell_type": "code",
   "outputs": [],
   "source": [
    "def generate_barplots(data, method, behaviour):\n",
    "    combinations = data['node1'] + '-' + data['node2']\n",
    "    unique_combinations = combinations.unique()\n",
    "    \n",
    "    for combination in unique_combinations:\n",
    "        # subset the data\n",
    "        chan1, chan2 = combination.split('-')\n",
    "        data_subset = data[(data['node1'] == chan1) & (data['node2'] == chan2)]\n",
    "        \n",
    "        sns.barplot(data_subset, x=\"band\", y=\"con\", hue=\"genotype\", palette=['darkorange', 'dodgerblue'])\n",
    "        plt.title(f\"Connectivity in the two genotypes: {chan1} <-> {chan2}\\nMeasure: {method.upper()}, Behaviour: {behaviour}\")\n",
    "        plt.xlabel(\"Frequency band\")\n",
    "        plt.ylabel(f\"Connectivity ({method.upper()})\")\n",
    "        save_figure(os.path.join(plot_folder, f\"connectivity/barplots/{method}/{chan1}_{chan2}_{behaviour}.png\"))\n",
    "        plt.close()"
   ],
   "metadata": {
    "collapsed": false,
    "ExecuteTime": {
     "end_time": "2024-02-21T08:14:00.093327Z",
     "start_time": "2024-02-21T08:13:59.990212Z"
    }
   },
   "id": "12c4013779798016",
   "execution_count": 256
  },
  {
   "cell_type": "markdown",
   "source": [
    "Let's generate the figures for all data"
   ],
   "metadata": {
    "collapsed": false
   },
   "id": "675277205403990"
  },
  {
   "cell_type": "code",
   "outputs": [
    {
     "data": {
      "text/plain": "<Figure size 640x480 with 1 Axes>",
      "image/png": "[encoded data removed]"
     },
     "metadata": {},
     "output_type": "display_data"
    }
   ],
   "source": [
    "generate_barplots(wpli_movement, \"wpli\", \"Movement\")\n",
    "generate_barplots(wpli_non_movement, \"wpli\", \"Non-movement\")"
   ],
   "metadata": {
    "collapsed": false,
    "ExecuteTime": {
     "end_time": "2024-02-21T08:13:40.871965Z",
     "start_time": "2024-02-21T08:13:38.844037Z"
    }
   },
   "id": "63cc719cbe472f42",
   "execution_count": 255
  },
  {
   "cell_type": "code",
   "outputs": [],
   "source": [
    "generate_barplots(coh_movement, \"coh\", \"Movement\")\n",
    "generate_barplots(coh_non_movement, \"coh\", \"Non-movement\")"
   ],
   "metadata": {
    "collapsed": false,
    "ExecuteTime": {
     "end_time": "2024-02-20T17:19:56.134153Z",
     "start_time": "2024-02-20T17:19:00.408598Z"
    }
   },
   "id": "861ca42576f0791c",
   "execution_count": 247
  },
  {
   "cell_type": "code",
   "outputs": [],
   "source": [
    "generate_barplots(pli_movement, \"pli\", \"Movement\")\n",
    "generate_barplots(pli_non_movement, \"pli\", \"Non-movement\")"
   ],
   "metadata": {
    "collapsed": false,
    "ExecuteTime": {
     "end_time": "2024-02-20T17:20:38.871223Z",
     "start_time": "2024-02-20T17:19:56.150473Z"
    }
   },
   "id": "24d331f1745045cb",
   "execution_count": 248
  },
  {
   "cell_type": "code",
   "outputs": [],
   "source": [
    "generate_barplots(dpli_movement, \"dpli\", \"Movement\")\n",
    "generate_barplots(dpli_non_movement, \"dpli\", \"Non-movement\")"
   ],
   "metadata": {
    "collapsed": false,
    "ExecuteTime": {
     "end_time": "2024-02-20T17:21:22.834881Z",
     "start_time": "2024-02-20T17:20:38.880844Z"
    }
   },
   "id": "6d0c0f78f5a731e3",
   "execution_count": 249
  },
  {
   "cell_type": "markdown",
   "source": [
    "Let's create figures where the WT and KO movement is compared to the non-movement"
   ],
   "metadata": {
    "collapsed": false
   },
   "id": "65d9b5fcc1947632"
  },
  {
   "cell_type": "code",
   "outputs": [],
   "source": [
    "def generate_barplots_mov_vs_non_mov(method, movement_data, non_movement_data, genotype):\n",
    "    # combine the data of both behaviours\n",
    "    ss1 = movement_data[movement_data['genotype'] == genotype]\n",
    "    ss2 = non_movement_data[non_movement_data['genotype'] == genotype]\n",
    "    ss1[\"movement\"] = 1\n",
    "    ss2[\"movement\"] = 0\n",
    "    concatted = pd.concat([ss1, ss2])\n",
    "    \n",
    "    combinations = concatted['node1'] + '-' + concatted['node2']\n",
    "    unique_combinations = combinations.unique()\n",
    "    \n",
    "    for combination in unique_combinations:\n",
    "        # subset the data\n",
    "        chan1, chan2 = combination.split('-')\n",
    "        data_subset = concatted[(concatted['node1'] == chan1) & (concatted['node2'] == chan2)]\n",
    "        \n",
    "        sns.barplot(data_subset, x=\"band\", y=\"con\", hue=\"movement\")\n",
    "        plt.title(f\"DRD2-WT: Connectivity of {chan1} and {chan2} ({method.upper()}) in\\n movement and non-movement epochs\", fontweight='bold')\n",
    "        plt.xlabel(\"Frequency band\")\n",
    "        plt.ylabel(f\"Connectivity ({method.upper()})\")\n",
    "        plt.plot()\n",
    "        save_figure(os.path.join(plot_folder, f\"connectivity/barplots/mov_vs_non_mov/{genotype}/{method.upper()}/{chan1}_{chan2}.png\"))"
   ],
   "metadata": {
    "collapsed": false,
    "ExecuteTime": {
     "end_time": "2024-02-20T17:50:47.260119Z",
     "start_time": "2024-02-20T17:50:47.227942Z"
    }
   },
   "id": "3ed6a733d436d087",
   "execution_count": 250
  },
  {
   "cell_type": "markdown",
   "source": [
    "Let's run it for the WT subjects"
   ],
   "metadata": {
    "collapsed": false
   },
   "id": "3ae7c61cb229cf0d"
  },
  {
   "cell_type": "code",
   "outputs": [
    {
     "name": "stderr",
     "output_type": "stream",
     "text": [
      "/var/folders/rf/xrxwkkr96qq6kyy5jfx9hvgw0000gn/T/ipykernel_1019/2395336691.py:5: SettingWithCopyWarning: \n",
      "A value is trying to be set on a copy of a slice from a DataFrame.\n",
      "Try using .loc[row_indexer,col_indexer] = value instead\n",
      "\n",
      "See the caveats in the documentation: https://pandas.pydata.org/pandas-docs/stable/user_guide/indexing.html#returning-a-view-versus-a-copy\n",
      "  ss1[\"movement\"] = 1\n",
      "/var/folders/rf/xrxwkkr96qq6kyy5jfx9hvgw0000gn/T/ipykernel_1019/2395336691.py:6: SettingWithCopyWarning: \n",
      "A value is trying to be set on a copy of a slice from a DataFrame.\n",
      "Try using .loc[row_indexer,col_indexer] = value instead\n",
      "\n",
      "See the caveats in the documentation: https://pandas.pydata.org/pandas-docs/stable/user_guide/indexing.html#returning-a-view-versus-a-copy\n",
      "  ss2[\"movement\"] = 0\n",
      "/var/folders/rf/xrxwkkr96qq6kyy5jfx9hvgw0000gn/T/ipykernel_1019/2395336691.py:5: SettingWithCopyWarning: \n",
      "A value is trying to be set on a copy of a slice from a DataFrame.\n",
      "Try using .loc[row_indexer,col_indexer] = value instead\n",
      "\n",
      "See the caveats in the documentation: https://pandas.pydata.org/pandas-docs/stable/user_guide/indexing.html#returning-a-view-versus-a-copy\n",
      "  ss1[\"movement\"] = 1\n",
      "/var/folders/rf/xrxwkkr96qq6kyy5jfx9hvgw0000gn/T/ipykernel_1019/2395336691.py:6: SettingWithCopyWarning: \n",
      "A value is trying to be set on a copy of a slice from a DataFrame.\n",
      "Try using .loc[row_indexer,col_indexer] = value instead\n",
      "\n",
      "See the caveats in the documentation: https://pandas.pydata.org/pandas-docs/stable/user_guide/indexing.html#returning-a-view-versus-a-copy\n",
      "  ss2[\"movement\"] = 0\n",
      "/var/folders/rf/xrxwkkr96qq6kyy5jfx9hvgw0000gn/T/ipykernel_1019/2395336691.py:5: SettingWithCopyWarning: \n",
      "A value is trying to be set on a copy of a slice from a DataFrame.\n",
      "Try using .loc[row_indexer,col_indexer] = value instead\n",
      "\n",
      "See the caveats in the documentation: https://pandas.pydata.org/pandas-docs/stable/user_guide/indexing.html#returning-a-view-versus-a-copy\n",
      "  ss1[\"movement\"] = 1\n",
      "/var/folders/rf/xrxwkkr96qq6kyy5jfx9hvgw0000gn/T/ipykernel_1019/2395336691.py:6: SettingWithCopyWarning: \n",
      "A value is trying to be set on a copy of a slice from a DataFrame.\n",
      "Try using .loc[row_indexer,col_indexer] = value instead\n",
      "\n",
      "See the caveats in the documentation: https://pandas.pydata.org/pandas-docs/stable/user_guide/indexing.html#returning-a-view-versus-a-copy\n",
      "  ss2[\"movement\"] = 0\n",
      "/var/folders/rf/xrxwkkr96qq6kyy5jfx9hvgw0000gn/T/ipykernel_1019/2395336691.py:5: SettingWithCopyWarning: \n",
      "A value is trying to be set on a copy of a slice from a DataFrame.\n",
      "Try using .loc[row_indexer,col_indexer] = value instead\n",
      "\n",
      "See the caveats in the documentation: https://pandas.pydata.org/pandas-docs/stable/user_guide/indexing.html#returning-a-view-versus-a-copy\n",
      "  ss1[\"movement\"] = 1\n",
      "/var/folders/rf/xrxwkkr96qq6kyy5jfx9hvgw0000gn/T/ipykernel_1019/2395336691.py:6: SettingWithCopyWarning: \n",
      "A value is trying to be set on a copy of a slice from a DataFrame.\n",
      "Try using .loc[row_indexer,col_indexer] = value instead\n",
      "\n",
      "See the caveats in the documentation: https://pandas.pydata.org/pandas-docs/stable/user_guide/indexing.html#returning-a-view-versus-a-copy\n",
      "  ss2[\"movement\"] = 0\n"
     ]
    }
   ],
   "source": [
    "generate_barplots_mov_vs_non_mov(method='coh', movement_data=coh_movement, non_movement_data=coh_non_movement, genotype=\"DRD2-WT\")\n",
    "generate_barplots_mov_vs_non_mov(method='pli', movement_data=pli_movement, non_movement_data=pli_non_movement, genotype=\"DRD2-WT\")\n",
    "generate_barplots_mov_vs_non_mov(method='dpli', movement_data=dpli_movement, non_movement_data=dpli_non_movement, genotype=\"DRD2-WT\")\n",
    "generate_barplots_mov_vs_non_mov(method='wpli', movement_data=wpli_movement, non_movement_data=wpli_non_movement, genotype=\"DRD2-WT\")"
   ],
   "metadata": {
    "collapsed": false,
    "ExecuteTime": {
     "end_time": "2024-02-20T17:52:34.203995Z",
     "start_time": "2024-02-20T17:50:49.644227Z"
    }
   },
   "id": "d643d59a620cfb61",
   "execution_count": 251
  },
  {
   "cell_type": "markdown",
   "source": [
    "And for the KO subjects"
   ],
   "metadata": {
    "collapsed": false
   },
   "id": "5f84a1c4a718e704"
  },
  {
   "cell_type": "code",
   "outputs": [
    {
     "name": "stderr",
     "output_type": "stream",
     "text": [
      "/var/folders/rf/xrxwkkr96qq6kyy5jfx9hvgw0000gn/T/ipykernel_1019/2395336691.py:5: SettingWithCopyWarning: \n",
      "A value is trying to be set on a copy of a slice from a DataFrame.\n",
      "Try using .loc[row_indexer,col_indexer] = value instead\n",
      "\n",
      "See the caveats in the documentation: https://pandas.pydata.org/pandas-docs/stable/user_guide/indexing.html#returning-a-view-versus-a-copy\n",
      "  ss1[\"movement\"] = 1\n",
      "/var/folders/rf/xrxwkkr96qq6kyy5jfx9hvgw0000gn/T/ipykernel_1019/2395336691.py:6: SettingWithCopyWarning: \n",
      "A value is trying to be set on a copy of a slice from a DataFrame.\n",
      "Try using .loc[row_indexer,col_indexer] = value instead\n",
      "\n",
      "See the caveats in the documentation: https://pandas.pydata.org/pandas-docs/stable/user_guide/indexing.html#returning-a-view-versus-a-copy\n",
      "  ss2[\"movement\"] = 0\n",
      "/var/folders/rf/xrxwkkr96qq6kyy5jfx9hvgw0000gn/T/ipykernel_1019/2395336691.py:5: SettingWithCopyWarning: \n",
      "A value is trying to be set on a copy of a slice from a DataFrame.\n",
      "Try using .loc[row_indexer,col_indexer] = value instead\n",
      "\n",
      "See the caveats in the documentation: https://pandas.pydata.org/pandas-docs/stable/user_guide/indexing.html#returning-a-view-versus-a-copy\n",
      "  ss1[\"movement\"] = 1\n",
      "/var/folders/rf/xrxwkkr96qq6kyy5jfx9hvgw0000gn/T/ipykernel_1019/2395336691.py:6: SettingWithCopyWarning: \n",
      "A value is trying to be set on a copy of a slice from a DataFrame.\n",
      "Try using .loc[row_indexer,col_indexer] = value instead\n",
      "\n",
      "See the caveats in the documentation: https://pandas.pydata.org/pandas-docs/stable/user_guide/indexing.html#returning-a-view-versus-a-copy\n",
      "  ss2[\"movement\"] = 0\n",
      "/var/folders/rf/xrxwkkr96qq6kyy5jfx9hvgw0000gn/T/ipykernel_1019/2395336691.py:5: SettingWithCopyWarning: \n",
      "A value is trying to be set on a copy of a slice from a DataFrame.\n",
      "Try using .loc[row_indexer,col_indexer] = value instead\n",
      "\n",
      "See the caveats in the documentation: https://pandas.pydata.org/pandas-docs/stable/user_guide/indexing.html#returning-a-view-versus-a-copy\n",
      "  ss1[\"movement\"] = 1\n",
      "/var/folders/rf/xrxwkkr96qq6kyy5jfx9hvgw0000gn/T/ipykernel_1019/2395336691.py:6: SettingWithCopyWarning: \n",
      "A value is trying to be set on a copy of a slice from a DataFrame.\n",
      "Try using .loc[row_indexer,col_indexer] = value instead\n",
      "\n",
      "See the caveats in the documentation: https://pandas.pydata.org/pandas-docs/stable/user_guide/indexing.html#returning-a-view-versus-a-copy\n",
      "  ss2[\"movement\"] = 0\n",
      "/var/folders/rf/xrxwkkr96qq6kyy5jfx9hvgw0000gn/T/ipykernel_1019/2395336691.py:5: SettingWithCopyWarning: \n",
      "A value is trying to be set on a copy of a slice from a DataFrame.\n",
      "Try using .loc[row_indexer,col_indexer] = value instead\n",
      "\n",
      "See the caveats in the documentation: https://pandas.pydata.org/pandas-docs/stable/user_guide/indexing.html#returning-a-view-versus-a-copy\n",
      "  ss1[\"movement\"] = 1\n",
      "/var/folders/rf/xrxwkkr96qq6kyy5jfx9hvgw0000gn/T/ipykernel_1019/2395336691.py:6: SettingWithCopyWarning: \n",
      "A value is trying to be set on a copy of a slice from a DataFrame.\n",
      "Try using .loc[row_indexer,col_indexer] = value instead\n",
      "\n",
      "See the caveats in the documentation: https://pandas.pydata.org/pandas-docs/stable/user_guide/indexing.html#returning-a-view-versus-a-copy\n",
      "  ss2[\"movement\"] = 0\n"
     ]
    }
   ],
   "source": [
    "generate_barplots_mov_vs_non_mov(method='coh', movement_data=coh_movement, non_movement_data=coh_non_movement, genotype=\"DRD2-KO\")\n",
    "generate_barplots_mov_vs_non_mov(method='pli', movement_data=pli_movement, non_movement_data=pli_non_movement, genotype=\"DRD2-KO\")\n",
    "generate_barplots_mov_vs_non_mov(method='dpli', movement_data=dpli_movement, non_movement_data=dpli_non_movement, genotype=\"DRD2-KO\")\n",
    "generate_barplots_mov_vs_non_mov(method='wpli', movement_data=wpli_movement, non_movement_data=wpli_non_movement, genotype=\"DRD2-KO\")"
   ],
   "metadata": {
    "collapsed": false,
    "ExecuteTime": {
     "end_time": "2024-02-20T17:55:59.545914Z",
     "start_time": "2024-02-20T17:52:34.209644Z"
    }
   },
   "id": "428167fda4a97cd9",
   "execution_count": 252
  },
  {
   "cell_type": "code",
   "outputs": [],
   "source": [],
   "metadata": {
    "collapsed": false
   },
   "id": "48fc06ed718fc5b9"
  }
 ],
 "metadata": {
  "kernelspec": {
   "display_name": "Python 3",
   "language": "python",
   "name": "python3"
  },
  "language_info": {
   "codemirror_mode": {
    "name": "ipython",
    "version": 2
   },
   "file_extension": ".py",
   "mimetype": "text/x-python",
   "name": "python",
   "nbconvert_exporter": "python",
   "pygments_lexer": "ipython2",
   "version": "2.7.6"
  }
 },
 "nbformat": 4,
 "nbformat_minor": 5
}
