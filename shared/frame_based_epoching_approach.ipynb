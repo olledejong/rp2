{
 "cells": [
  {
   "cell_type": "code",
   "id": "initial_id",
   "metadata": {
    "collapsed": true,
    "ExecuteTime": {
     "end_time": "2024-06-06T11:43:30.223782Z",
     "start_time": "2024-06-06T11:43:29.349555Z"
    }
   },
   "source": [
    "import os\n",
    "import ndx_events\n",
    "import pandas as pd\n",
    "\n",
    "from pynwb import NWBHDF5IO\n",
    "\n",
    "from settings_general import subject_id_batch_cage_dict\n",
    "from shared.create_frame_based_epochs import create_cleaned_event_df, get_led_onsets\n",
    "from shared.eeg_video_alignment_functions import adjust_fps, get_first_ttl_offset"
   ],
   "outputs": [],
   "execution_count": 1
  },
  {
   "metadata": {
    "ExecuteTime": {
     "end_time": "2024-06-06T11:43:30.226957Z",
     "start_time": "2024-06-06T11:43:30.223782Z"
    }
   },
   "cell_type": "code",
   "source": [
    "nwb_file = r\"C:\\Users\\Olle de Jong\\Documents\\MSc Biology\\rp2\\rp2_data\\3C_sociability\\output\\nwb\\3c_sociability_39508.nwb\"\n",
    "behaviour_data_folder = r\"C:\\Users\\Olle de Jong\\Documents\\MSc Biology\\rp2\\rp2_data\\3C_sociability\\input\\behavioural_data\""
   ],
   "id": "977a14d3c0958bb7",
   "outputs": [],
   "execution_count": 2
  },
  {
   "metadata": {},
   "cell_type": "markdown",
   "source": "Read NWB file to later extract EEG data from",
   "id": "667deee554ad09d2"
  },
  {
   "metadata": {
    "ExecuteTime": {
     "end_time": "2024-06-06T11:43:31.043893Z",
     "start_time": "2024-06-06T11:43:30.226957Z"
    }
   },
   "cell_type": "code",
   "source": [
    "nwb_file_path = os.path.join(nwb_file)\n",
    "with NWBHDF5IO(nwb_file_path, \"r\") as io:\n",
    "    nwb = io.read()\n",
    "    filtered_eeg = nwb.acquisition['filtered_EEG'].data[:].T[0]\n",
    "    s_freq = nwb.acquisition['filtered_EEG'].rate\n",
    "    eeg_ttl_onsets_secs = list(nwb.acquisition[\"TTL_1\"].timestamps)  # timestamps of the TTL onsets in seconds\n",
    "    genotype = nwb.subject.genotype\n",
    "    subject_id = nwb.subject.subject_id"
   ],
   "id": "788e08bbf6ed113d",
   "outputs": [],
   "execution_count": 3
  },
  {
   "metadata": {
    "ExecuteTime": {
     "end_time": "2024-06-06T11:43:31.048920Z",
     "start_time": "2024-06-06T11:43:31.043893Z"
    }
   },
   "cell_type": "code",
   "source": "print(subject_id, s_freq, genotype)",
   "id": "99f27accedb3e585",
   "outputs": [
    {
     "name": "stdout",
     "output_type": "stream",
     "text": [
      "39508 1084.719057764039 DRD2-WT\n"
     ]
    }
   ],
   "execution_count": 4
  },
  {
   "metadata": {},
   "cell_type": "markdown",
   "source": "Let's retrieve the behaviour data",
   "id": "b94f23fca1df732e"
  },
  {
   "metadata": {
    "ExecuteTime": {
     "end_time": "2024-06-06T11:43:31.310386Z",
     "start_time": "2024-06-06T11:43:31.049927Z"
    }
   },
   "cell_type": "code",
   "source": [
    "batch_cage = subject_id_batch_cage_dict[int(subject_id)]\n",
    "print(f'\\nGetting {batch_cage}.xlsx file belonging to subject {subject_id}')\n",
    "\n",
    "# load the behavioural data and then merge start/stop events\n",
    "# tracking data from BORIS software has 2 rows for each state event (start/stop), we want one for each\n",
    "beh_data = pd.read_excel(os.path.join(behaviour_data_folder, f'{batch_cage}.xlsx'))\n",
    "beh_data = create_cleaned_event_df(beh_data, batch_cage, subject_id, genotype)\n",
    "beh_data.head()"
   ],
   "id": "f6649d6d0847329e",
   "outputs": [
    {
     "name": "stdout",
     "output_type": "stream",
     "text": [
      "\n",
      "Getting batch6_cage2.xlsx file belonging to subject 39508\n"
     ]
    },
    {
     "data": {
      "text/plain": [
       "  Observation id subject_id genotype         Observation date  \\\n",
       "0   batch6_cage2      39508  DRD2-WT  2024-04-10 13:59:34.258   \n",
       "1   batch6_cage2      39508  DRD2-WT  2024-04-10 13:59:34.258   \n",
       "2   batch6_cage2      39508  DRD2-WT  2024-04-10 13:59:34.258   \n",
       "3   batch6_cage2      39508  DRD2-WT  2024-04-10 13:59:34.258   \n",
       "4   batch6_cage2      39508  DRD2-WT  2024-04-10 13:59:34.258   \n",
       "\n",
       "   Observation duration  Media duration (s)   FPS        Behavior  \\\n",
       "0                455.17            1956.323  30.0  non-social_cup   \n",
       "1                455.17            1956.323  30.0  non-social_cup   \n",
       "2                455.17            1956.323  30.0  non-social_cup   \n",
       "3                455.17            1956.323  30.0  non-social_cup   \n",
       "4                455.17            1956.323  30.0  non-social_cup   \n",
       "\n",
       "                                     Media file name  Frame start  Frame stop  \\\n",
       "0  C:/Users/Olle de Jong/Documents/MSc Biology/rp...        40060       40078   \n",
       "1  C:/Users/Olle de Jong/Documents/MSc Biology/rp...        40346       40429   \n",
       "2  C:/Users/Olle de Jong/Documents/MSc Biology/rp...        40461       40566   \n",
       "3  C:/Users/Olle de Jong/Documents/MSc Biology/rp...        41707       41947   \n",
       "4  C:/Users/Olle de Jong/Documents/MSc Biology/rp...        42027       42197   \n",
       "\n",
       "   Event duration  \n",
       "0           0.600  \n",
       "1           2.768  \n",
       "2           3.502  \n",
       "3           8.003  \n",
       "4           5.668  "
      ],
      "text/html": [
       "<div>\n",
       "<style scoped>\n",
       "    .dataframe tbody tr th:only-of-type {\n",
       "        vertical-align: middle;\n",
       "    }\n",
       "\n",
       "    .dataframe tbody tr th {\n",
       "        vertical-align: top;\n",
       "    }\n",
       "\n",
       "    .dataframe thead th {\n",
       "        text-align: right;\n",
       "    }\n",
       "</style>\n",
       "<table border=\"1\" class=\"dataframe\">\n",
       "  <thead>\n",
       "    <tr style=\"text-align: right;\">\n",
       "      <th></th>\n",
       "      <th>Observation id</th>\n",
       "      <th>subject_id</th>\n",
       "      <th>genotype</th>\n",
       "      <th>Observation date</th>\n",
       "      <th>Observation duration</th>\n",
       "      <th>Media duration (s)</th>\n",
       "      <th>FPS</th>\n",
       "      <th>Behavior</th>\n",
       "      <th>Media file name</th>\n",
       "      <th>Frame start</th>\n",
       "      <th>Frame stop</th>\n",
       "      <th>Event duration</th>\n",
       "    </tr>\n",
       "  </thead>\n",
       "  <tbody>\n",
       "    <tr>\n",
       "      <th>0</th>\n",
       "      <td>batch6_cage2</td>\n",
       "      <td>39508</td>\n",
       "      <td>DRD2-WT</td>\n",
       "      <td>2024-04-10 13:59:34.258</td>\n",
       "      <td>455.17</td>\n",
       "      <td>1956.323</td>\n",
       "      <td>30.0</td>\n",
       "      <td>non-social_cup</td>\n",
       "      <td>C:/Users/Olle de Jong/Documents/MSc Biology/rp...</td>\n",
       "      <td>40060</td>\n",
       "      <td>40078</td>\n",
       "      <td>0.600</td>\n",
       "    </tr>\n",
       "    <tr>\n",
       "      <th>1</th>\n",
       "      <td>batch6_cage2</td>\n",
       "      <td>39508</td>\n",
       "      <td>DRD2-WT</td>\n",
       "      <td>2024-04-10 13:59:34.258</td>\n",
       "      <td>455.17</td>\n",
       "      <td>1956.323</td>\n",
       "      <td>30.0</td>\n",
       "      <td>non-social_cup</td>\n",
       "      <td>C:/Users/Olle de Jong/Documents/MSc Biology/rp...</td>\n",
       "      <td>40346</td>\n",
       "      <td>40429</td>\n",
       "      <td>2.768</td>\n",
       "    </tr>\n",
       "    <tr>\n",
       "      <th>2</th>\n",
       "      <td>batch6_cage2</td>\n",
       "      <td>39508</td>\n",
       "      <td>DRD2-WT</td>\n",
       "      <td>2024-04-10 13:59:34.258</td>\n",
       "      <td>455.17</td>\n",
       "      <td>1956.323</td>\n",
       "      <td>30.0</td>\n",
       "      <td>non-social_cup</td>\n",
       "      <td>C:/Users/Olle de Jong/Documents/MSc Biology/rp...</td>\n",
       "      <td>40461</td>\n",
       "      <td>40566</td>\n",
       "      <td>3.502</td>\n",
       "    </tr>\n",
       "    <tr>\n",
       "      <th>3</th>\n",
       "      <td>batch6_cage2</td>\n",
       "      <td>39508</td>\n",
       "      <td>DRD2-WT</td>\n",
       "      <td>2024-04-10 13:59:34.258</td>\n",
       "      <td>455.17</td>\n",
       "      <td>1956.323</td>\n",
       "      <td>30.0</td>\n",
       "      <td>non-social_cup</td>\n",
       "      <td>C:/Users/Olle de Jong/Documents/MSc Biology/rp...</td>\n",
       "      <td>41707</td>\n",
       "      <td>41947</td>\n",
       "      <td>8.003</td>\n",
       "    </tr>\n",
       "    <tr>\n",
       "      <th>4</th>\n",
       "      <td>batch6_cage2</td>\n",
       "      <td>39508</td>\n",
       "      <td>DRD2-WT</td>\n",
       "      <td>2024-04-10 13:59:34.258</td>\n",
       "      <td>455.17</td>\n",
       "      <td>1956.323</td>\n",
       "      <td>30.0</td>\n",
       "      <td>non-social_cup</td>\n",
       "      <td>C:/Users/Olle de Jong/Documents/MSc Biology/rp...</td>\n",
       "      <td>42027</td>\n",
       "      <td>42197</td>\n",
       "      <td>5.668</td>\n",
       "    </tr>\n",
       "  </tbody>\n",
       "</table>\n",
       "</div>"
      ]
     },
     "execution_count": 5,
     "metadata": {},
     "output_type": "execute_result"
    }
   ],
   "execution_count": 5
  },
  {
   "metadata": {},
   "cell_type": "markdown",
   "source": "Because the FPS is not the theoretical 30.0, we have to re-calculate it.",
   "id": "a6b85bd1d93b87cf"
  },
  {
   "metadata": {},
   "cell_type": "markdown",
   "source": "And get the LED onsets from the video output folder",
   "id": "1f7bbc9f212f9b64"
  },
  {
   "metadata": {
    "ExecuteTime": {
     "end_time": "2024-06-06T11:43:31.329147Z",
     "start_time": "2024-06-06T11:43:31.310386Z"
    }
   },
   "cell_type": "code",
   "source": [
    "# get the LED states for this subject (i.e. get the LED states of the correct video)\n",
    "# and then get the frames where the LED turned ON (i.e. get all boolean event changes from OFF to ON (0 to 1)\n",
    "led_onsets = get_led_onsets(r\"C:\\Users\\Olle de Jong\\Documents\\MSc Biology\\rp2\\rp2_data\\3C_sociability\\output\\videos\", batch_cage)\n",
    "led_onsets"
   ],
   "id": "c96c91428db2aee7",
   "outputs": [
    {
     "data": {
      "text/plain": [
       "array([  180,   210,   240, 58422, 58452, 58482], dtype=int64)"
      ]
     },
     "execution_count": 6,
     "metadata": {},
     "output_type": "execute_result"
    }
   ],
   "execution_count": 6
  },
  {
   "metadata": {},
   "cell_type": "markdown",
   "source": "After each second, there's another LED flash",
   "id": "2da7d08bd0f688c7"
  },
  {
   "metadata": {
    "ExecuteTime": {
     "end_time": "2024-06-06T11:43:31.334409Z",
     "start_time": "2024-06-06T11:43:31.330154Z"
    }
   },
   "cell_type": "code",
   "source": [
    "adjusted_fps = adjust_fps(filtered_eeg, eeg_ttl_onsets_secs, led_onsets, s_freq, verbose=False)\n",
    "first_ttl_offset = get_first_ttl_offset(eeg_ttl_onsets_secs, led_onsets, adjusted_fps, s_freq)\n",
    "\n",
    "print(f\"Theoretical FPS: {beh_data.FPS.iloc[0]}. True FPS: {adjusted_fps}\")\n",
    "print(f\"\\nFirst TTL offset: {first_ttl_offset}. This means that the TTL onset comes {first_ttl_offset} seconds later in the EEG data than in the Video.\")"
   ],
   "id": "f574cd3781602a9c",
   "outputs": [
    {
     "name": "stdout",
     "output_type": "stream",
     "text": [
      "Theoretical FPS: 30.0. True FPS: 29.969207081269676\n",
      "\n",
      "First TTL offset: 12.349735088399871. This means that the TTL onset comes 12.349735088399871 seconds later in the EEG data than in the Video.\n"
     ]
    }
   ],
   "execution_count": 7
  },
  {
   "metadata": {},
   "cell_type": "markdown",
   "source": "Let's get the actual event start and end timepoints",
   "id": "7bfa3310d3ac2f1b"
  },
  {
   "metadata": {
    "ExecuteTime": {
     "end_time": "2024-06-06T11:43:31.338919Z",
     "start_time": "2024-06-06T11:43:31.334409Z"
    }
   },
   "cell_type": "code",
   "source": "beh_data.iloc[1]",
   "id": "6211321ac922e8",
   "outputs": [
    {
     "data": {
      "text/plain": [
       "Observation id                                               batch6_cage2\n",
       "subject_id                                                          39508\n",
       "genotype                                                          DRD2-WT\n",
       "Observation date                                  2024-04-10 13:59:34.258\n",
       "Observation duration                                               455.17\n",
       "Media duration (s)                                               1956.323\n",
       "FPS                                                                  30.0\n",
       "Behavior                                                   non-social_cup\n",
       "Media file name         C:/Users/Olle de Jong/Documents/MSc Biology/rp...\n",
       "Frame start                                                         40346\n",
       "Frame stop                                                          40429\n",
       "Event duration                                                      2.768\n",
       "Name: 1, dtype: object"
      ]
     },
     "execution_count": 8,
     "metadata": {},
     "output_type": "execute_result"
    }
   ],
   "execution_count": 8
  },
  {
   "metadata": {},
   "cell_type": "markdown",
   "source": "Let's validate whether the frames actually point to a non-social cup event.",
   "id": "813b4a6af77f649e"
  },
  {
   "metadata": {
    "ExecuteTime": {
     "end_time": "2024-06-06T11:43:31.430478Z",
     "start_time": "2024-06-06T11:43:31.338919Z"
    }
   },
   "cell_type": "code",
   "source": [
    "import cv2\n",
    "\n",
    "\n",
    "def extract_clip(input_video_path, output_video_path, start_frame, end_frame):\n",
    "    # Open the video file\n",
    "    cap = cv2.VideoCapture(input_video_path)\n",
    "    \n",
    "    # Check if the video opened successfully\n",
    "    if not cap.isOpened():\n",
    "        print(\"Error: Could not open video file.\")\n",
    "        return\n",
    "\n",
    "    # Get the frames per second (fps) of the video\n",
    "    fps = int(cap.get(cv2.CAP_PROP_FPS))\n",
    "    \n",
    "    # Get the width and height of the frames\n",
    "    width = int(cap.get(cv2.CAP_PROP_FRAME_WIDTH))\n",
    "    height = int(cap.get(cv2.CAP_PROP_FRAME_HEIGHT))\n",
    "    \n",
    "    # Define the codec and create VideoWriter object\n",
    "    fourcc = cv2.VideoWriter_fourcc(*'mp4v')  # You can change the codec according to your output format\n",
    "    out = cv2.VideoWriter(output_video_path, fourcc, fps, (width, height))\n",
    "    \n",
    "    # Set the frame position to the start frame\n",
    "    cap.set(cv2.CAP_PROP_POS_FRAMES, start_frame)\n",
    "    \n",
    "    current_frame = start_frame\n",
    "    while current_frame <= end_frame:\n",
    "        ret, frame = cap.read()\n",
    "        \n",
    "        if not ret:\n",
    "            break\n",
    "        \n",
    "        out.write(frame)\n",
    "        current_frame += 1\n",
    "\n",
    "    # Release everything when the job is finished\n",
    "    cap.release()\n",
    "    out.release()\n",
    "    print(f\"Clip has been saved to {output_video_path}\")"
   ],
   "id": "d22d94be84e80a8e",
   "outputs": [],
   "execution_count": 9
  },
  {
   "metadata": {
    "ExecuteTime": {
     "end_time": "2024-06-06T11:43:31.434164Z",
     "start_time": "2024-06-06T11:43:31.430478Z"
    }
   },
   "cell_type": "code",
   "source": "print(f'Start frame of event: {beh_data.iloc[1][\"Frame start\"]}, end frame of event: {beh_data.iloc[1][\"Frame stop\"]}')",
   "id": "e33d46266cba5e89",
   "outputs": [
    {
     "name": "stdout",
     "output_type": "stream",
     "text": [
      "Start frame of event: 40346, end frame of event: 40429\n"
     ]
    }
   ],
   "execution_count": 10
  },
  {
   "metadata": {
    "ExecuteTime": {
     "end_time": "2024-06-06T11:43:32.023702Z",
     "start_time": "2024-06-06T11:43:31.434164Z"
    }
   },
   "cell_type": "code",
   "source": [
    "input_video_path = r\"C:\\Users\\Olle de Jong\\Documents\\MSc Biology\\rp2\\rp2_data\\3C_sociability\\input\\videos\\drd2_batch6_3C-sociability_cage2 Camera 1 20-12-2023 10_34_53 1.mp4\"\n",
    "output_video_path = r\"C:\\Users\\Olle de Jong\\Desktop\\test\\clip\\clip1.mp4\"\n",
    "\n",
    "extract_clip(input_video_path, output_video_path, beh_data.iloc[1][\"Frame start\"], beh_data.iloc[1][\"Frame stop\"])"
   ],
   "id": "e14cd90f1ce75358",
   "outputs": [
    {
     "name": "stdout",
     "output_type": "stream",
     "text": [
      "Clip has been saved to C:\\Users\\Olle de Jong\\Desktop\\test\\clip\\clip1.mp4\n"
     ]
    }
   ],
   "execution_count": 11
  },
  {
   "metadata": {},
   "cell_type": "markdown",
   "source": "That seems to check out. Now we extract the EEG that belongs to the clip. First define a function that calculates sample from frame number.",
   "id": "27d2642a4fc7f4a0"
  },
  {
   "metadata": {
    "ExecuteTime": {
     "end_time": "2024-06-06T11:43:32.027747Z",
     "start_time": "2024-06-06T11:43:32.024708Z"
    }
   },
   "cell_type": "code",
   "source": [
    "def frame_to_sample(video_frame, adjusted_fps, offset, s_freq):\n",
    "    \"\"\"\n",
    "    Function that calculates the EEG sample from the video frame using the adjusted FPS and the calculated offset\n",
    "\n",
    "    :param video_frame: frame in video that needs to be transformed to EEG sample\n",
    "    :param adjusted_fps: adjusted FPS (see adjust_fps_get_offset function)\n",
    "    :param s_freq: EEG sampling frequency\n",
    "    :param offset:\n",
    "    :return:\n",
    "    \"\"\"\n",
    "    # go from video frame to seconds\n",
    "    video_tp_secs = video_frame / adjusted_fps\n",
    "\n",
    "    # first TTL onset always later in EEG than video, so to go from video tp in seconds to the eeg tp in seconds\n",
    "    # we add the calculated offset\n",
    "    eeg_tp_secs = video_tp_secs + offset\n",
    "\n",
    "    return eeg_tp_secs * s_freq  # go to samples"
   ],
   "id": "4e9b3f78768c2893",
   "outputs": [],
   "execution_count": 12
  },
  {
   "metadata": {},
   "cell_type": "markdown",
   "source": "Now, using that function, let's calculate the actual EEG sample start and end tps",
   "id": "4a2e123e4a8a583d"
  },
  {
   "metadata": {
    "ExecuteTime": {
     "end_time": "2024-06-06T11:43:32.031830Z",
     "start_time": "2024-06-06T11:43:32.028261Z"
    }
   },
   "cell_type": "code",
   "source": [
    "picked_event = beh_data.iloc[1]  # pick random event to test\n",
    "\n",
    "# get the start and stop frame time-point of this event\n",
    "start_frame, stop_frame = int(picked_event['Frame start']), int(picked_event['Frame stop'])\n",
    "\n",
    "# total event duration\n",
    "event_duration = picked_event['Event duration']\n",
    "\n",
    "# using the adjusted FPS and the offset of the first TTL, get the start/stop time-points of the event in samples\n",
    "event_start = int(frame_to_sample(start_frame, adjusted_fps, first_ttl_offset, s_freq))\n",
    "event_end = int(frame_to_sample(stop_frame, adjusted_fps, first_ttl_offset, s_freq))\n",
    "\n",
    "print(f'Event start and end timepoints in samples: {event_start, event_end}')"
   ],
   "id": "da4498fea5f7a3f",
   "outputs": [
    {
     "name": "stdout",
     "output_type": "stream",
     "text": [
      "Event start and end timepoints in samples: (1473697, 1476701)\n"
     ]
    }
   ],
   "execution_count": 13
  },
  {
   "metadata": {},
   "cell_type": "markdown",
   "source": "Let's get the EEG using those timepoints",
   "id": "26e9285f24016758"
  },
  {
   "metadata": {
    "ExecuteTime": {
     "end_time": "2024-06-06T11:43:32.093764Z",
     "start_time": "2024-06-06T11:43:32.031830Z"
    }
   },
   "cell_type": "code",
   "source": [
    "from shared.nwb_retrieval_functions import get_eeg\n",
    "\n",
    "event_eeg, chans = get_eeg(nwb_file_path, 'filtered_EEG', (event_start, event_end), True)\n",
    "\n",
    "print(event_eeg.shape)"
   ],
   "id": "15943e69dfe8c62b",
   "outputs": [
    {
     "name": "stdout",
     "output_type": "stream",
     "text": [
      "(9, 3004)\n"
     ]
    }
   ],
   "execution_count": 14
  },
  {
   "metadata": {},
   "cell_type": "markdown",
   "source": "Now, let's tag periods of package-loss",
   "id": "61fd268bd9e346bc"
  },
  {
   "metadata": {
    "ExecuteTime": {
     "end_time": "2024-06-06T11:43:32.097080Z",
     "start_time": "2024-06-06T11:43:32.094769Z"
    }
   },
   "cell_type": "code",
   "source": [
    "resampled = False  # our data is not resampled\n",
    "package_loss_cutoff = .15  # set package loss cutoff for testing purposes"
   ],
   "id": "52343ce45c7f052a",
   "outputs": [],
   "execution_count": 15
  },
  {
   "metadata": {
    "ExecuteTime": {
     "end_time": "2024-06-06T11:43:32.164142Z",
     "start_time": "2024-06-06T11:43:32.097080Z"
    }
   },
   "cell_type": "code",
   "source": [
    "from shared.nwb_retrieval_functions import get_package_loss\n",
    "import numpy as np\n",
    "\n",
    "# do not handle events that have too much package loss\n",
    "if not resampled:\n",
    "    event_duration = event_end - event_start  # in EEG samples\n",
    "    too_much_package_loss = False\n",
    "\n",
    "    # get package loss\n",
    "    ploss, _ = get_package_loss(nwb_file_path, (event_start, event_end))\n",
    "\n",
    "    # calc total package loss per channel, and if there's too much package loss in a channel, skip this event\n",
    "    chans_to_check = [chan for chan in chans if 'EMG' not in chan]\n",
    "    for chan in chans_to_check:\n",
    "        package_loss = np.sum(np.isnan(ploss[chan]))  # for this channel in EEG samples\n",
    "        \n",
    "        too_much_package_loss = True if (package_loss / event_duration) > package_loss_cutoff else False\n",
    "\n",
    "        # don't need to check them all if we know there's too much in one channel\n",
    "        if too_much_package_loss:\n",
    "            break\n",
    "\n",
    "    if too_much_package_loss:  # then skip this event\n",
    "        print(f'Skipping {picked_event[\"Behavior\"]} event 1 because there is more than '\n",
    "              f'{package_loss_cutoff * 100:.2f}% package loss in one of the channels')\n",
    "    else:\n",
    "        print('This event is fine')"
   ],
   "id": "2bac3ae321941ad7",
   "outputs": [
    {
     "name": "stdout",
     "output_type": "stream",
     "text": [
      "This event is fine\n"
     ]
    }
   ],
   "execution_count": 16
  },
  {
   "metadata": {},
   "cell_type": "markdown",
   "source": "Let's generate epochs",
   "id": "e40a131fd22fa86f"
  },
  {
   "metadata": {
    "ExecuteTime": {
     "end_time": "2024-06-06T11:43:32.447898Z",
     "start_time": "2024-06-06T11:43:32.164142Z"
    }
   },
   "cell_type": "code",
   "source": [
    "import mne\n",
    "\n",
    "ch_types = [\"emg\" if \"EMG\" in chan else \"eeg\" for chan in chans]\n",
    "info = mne.create_info(ch_names=list(chans), sfreq=s_freq, ch_types=ch_types, verbose=\"WARNING\")\n",
    "raw = mne.io.RawArray(event_eeg, info, verbose=\"WARNING\")\n",
    "\n",
    "# make fixed length epochs of 'desired_epoch_length' length\n",
    "epochs = mne.make_fixed_length_epochs(\n",
    "    raw, duration=1.0, overlap=0.0, preload=True, verbose=\"WARNING\"\n",
    ")\n",
    "\n",
    "# create metadata dataframe and add to epochs array\n",
    "metadata = pd.DataFrame({\n",
    "    'subject_id': [subject_id] * len(epochs),\n",
    "    'genotype': [genotype] * len(epochs),\n",
    "    'event_n': [1] * len(epochs),\n",
    "    'event_part_n': range(1, len(epochs) + 1),\n",
    "    'event_kind': [picked_event[\"Behavior\"]] * len(epochs),\n",
    "    'total_event_duration': [picked_event[\"Event duration\"]] * len(epochs),\n",
    "    'epoch_length': [1.0] * len(epochs),\n",
    "})\n",
    "epochs.metadata = metadata"
   ],
   "id": "b160e61fe4dc1af3",
   "outputs": [],
   "execution_count": 17
  },
  {
   "metadata": {
    "ExecuteTime": {
     "end_time": "2024-06-06T11:43:32.451323Z",
     "start_time": "2024-06-06T11:43:32.448406Z"
    }
   },
   "cell_type": "code",
   "source": "print(epochs)",
   "id": "77071cecd01f79f3",
   "outputs": [
    {
     "name": "stdout",
     "output_type": "stream",
     "text": [
      "<Epochs |  2 events (all good), 0 – 0.999337 s, baseline off, ~165 kB, data loaded, with metadata,\n",
      " '1': 2>\n"
     ]
    }
   ],
   "execution_count": 18
  },
  {
   "metadata": {
    "ExecuteTime": {
     "end_time": "2024-06-06T11:43:41.809025Z",
     "start_time": "2024-06-06T11:43:41.805006Z"
    }
   },
   "cell_type": "code",
   "source": "epochs.info['sfreq']",
   "id": "6f038c2beb5b7dc5",
   "outputs": [
    {
     "data": {
      "text/plain": [
       "1084.719057764039"
      ]
     },
     "execution_count": 19,
     "metadata": {},
     "output_type": "execute_result"
    }
   ],
   "execution_count": 19
  }
 ],
 "metadata": {
  "kernelspec": {
   "display_name": "Python 3",
   "language": "python",
   "name": "python3"
  },
  "language_info": {
   "codemirror_mode": {
    "name": "ipython",
    "version": 2
   },
   "file_extension": ".py",
   "mimetype": "text/x-python",
   "name": "python",
   "nbconvert_exporter": "python",
   "pygments_lexer": "ipython2",
   "version": "2.7.6"
  }
 },
 "nbformat": 4,
 "nbformat_minor": 5
}
