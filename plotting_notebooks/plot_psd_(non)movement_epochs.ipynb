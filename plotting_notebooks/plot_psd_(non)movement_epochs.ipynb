{
 "cells": [
  {
   "cell_type": "code",
   "execution_count": 1,
   "id": "initial_id",
   "metadata": {
    "collapsed": true,
    "ExecuteTime": {
     "end_time": "2024-02-15T09:05:24.159622Z",
     "start_time": "2024-02-15T09:05:20.087950Z"
    }
   },
   "outputs": [],
   "source": [
    "import os\n",
    "import mne\n",
    "import json\n",
    "import numpy as np\n",
    "import pandas as pd\n",
    "import matplotlib.pyplot as plt\n",
    "import matplotlib.patches as mpatches\n",
    "from mne.time_frequency import psd_array_multitaper\n",
    "from mne import Epochs\n",
    "\n",
    "from helper_functions import save_figure"
   ]
  },
  {
   "cell_type": "code",
   "outputs": [],
   "source": [
    "with open('../settings.json', \"r\") as f:\n",
    "    settings = json.load(f)\n",
    "    \n",
    "epoch_folder = settings['epochs_folder']\n",
    "plot_folder = settings['plots_folder']"
   ],
   "metadata": {
    "collapsed": false,
    "ExecuteTime": {
     "end_time": "2024-02-15T09:07:12.260645Z",
     "start_time": "2024-02-15T09:07:12.243301Z"
    }
   },
   "id": "8214b6360b91184d",
   "execution_count": 3
  },
  {
   "cell_type": "markdown",
   "source": [
    "Let's load the epoch object"
   ],
   "metadata": {
    "collapsed": false
   },
   "id": "b7f15723794eaa52"
  },
  {
   "cell_type": "code",
   "outputs": [],
   "source": [
    "# let's load the epochs file\n",
    "epochs = mne.read_epochs(os.path.join(epoch_folder, \"filtered_epochs_w_movement-epo.fif\"), preload=True)"
   ],
   "metadata": {
    "collapsed": false,
    "ExecuteTime": {
     "end_time": "2024-02-15T11:11:00.324568Z",
     "start_time": "2024-02-15T11:07:34.477612Z"
    }
   },
   "id": "e5e463b3bc91e2c2",
   "execution_count": 33
  },
  {
   "cell_type": "markdown",
   "source": [
    "Establish a dictionary holding channels to be omitted from consideration"
   ],
   "metadata": {
    "collapsed": false
   },
   "id": "723ab6ae4e3fbdee"
  },
  {
   "cell_type": "code",
   "outputs": [],
   "source": [
    "bad_epochs_per_subject = {\n",
    "    \"80630\": [\"OFC_R\"],\n",
    "    \"81193\": [\"OFC_R\"]\n",
    "}"
   ],
   "metadata": {
    "collapsed": false,
    "ExecuteTime": {
     "end_time": "2024-02-15T11:11:04.924830Z",
     "start_time": "2024-02-15T11:11:04.808907Z"
    }
   },
   "id": "1614e1f05de01b64",
   "execution_count": 34
  },
  {
   "cell_type": "markdown",
   "source": [
    "Get the names of the channels we want to plot"
   ],
   "metadata": {
    "collapsed": false
   },
   "id": "d5d5fd0d58d2f20c"
  },
  {
   "cell_type": "code",
   "outputs": [
    {
     "name": "stdout",
     "output_type": "stream",
     "text": [
      "['OFC_R', 'OFC_L', 'CG', 'STR_R', 'S1_L', 'S1_R', 'V1_R']\n"
     ]
    }
   ],
   "source": [
    "wanted_chans = [channel for channel in epochs.info[\"ch_names\"] if not channel in ['EMG_L', 'EMG_R']]\n",
    "print(wanted_chans)"
   ],
   "metadata": {
    "collapsed": false,
    "ExecuteTime": {
     "end_time": "2024-02-15T11:11:05.904793Z",
     "start_time": "2024-02-15T11:11:05.865555Z"
    }
   },
   "id": "ecc41f97df69de33",
   "execution_count": 35
  },
  {
   "cell_type": "markdown",
   "source": [
    "Now, let's plot the average PSD for each channel that holds either movement or non-movement epochs, annotated by genotype"
   ],
   "metadata": {
    "collapsed": false
   },
   "id": "cf814088fe60326e"
  },
  {
   "cell_type": "code",
   "outputs": [],
   "source": [
    "movement_epochs = epochs[epochs.metadata[\"movement\"] == 1]\n",
    "non_movement_epochs = epochs[epochs.metadata[\"movement\"] == 0]"
   ],
   "metadata": {
    "collapsed": false,
    "ExecuteTime": {
     "end_time": "2024-02-15T11:13:04.361531Z",
     "start_time": "2024-02-15T11:11:07.540071Z"
    }
   },
   "id": "7b3f060ac0567cee",
   "execution_count": 36
  },
  {
   "cell_type": "code",
   "outputs": [
    {
     "name": "stdout",
     "output_type": "stream",
     "text": [
      "Plotting all subject traces\n"
     ]
    },
    {
     "name": "stderr",
     "output_type": "stream",
     "text": [
      "/var/folders/rf/xrxwkkr96qq6kyy5jfx9hvgw0000gn/T/ipykernel_1862/2757728217.py:32: FutureWarning: The behavior of DataFrame concatenation with empty or all-NA entries is deprecated. In a future version, this will no longer exclude empty or all-NA columns when determining the result dtypes. To retain the old behavior, exclude the relevant entries before the concat operation.\n",
      "  df = pd.concat([df, pd.DataFrame({\n",
      "No artists with labels found to put in legend.  Note that artists whose label start with an underscore are ignored when legend() is called with no argument.\n"
     ]
    },
    {
     "name": "stdout",
     "output_type": "stream",
     "text": [
      "genotype\n",
      "DRD2-KO    2.027366e-07\n",
      "DRD2-WT    2.951520e-07\n",
      "Name: psd (means), dtype: float64\n",
      "Done plotting all subject traces, proceeding to the averages..\n"
     ]
    }
   ],
   "source": [
    "for i, behaviour_epochs in enumerate([movement_epochs, non_movement_epochs]):\n",
    "    s_freq = behaviour_epochs.info['sfreq']\n",
    "    \n",
    "    # loop through channels, as we want a plot for every channel\n",
    "    for channel in wanted_chans:\n",
    "        fig, ax = plt.subplots(figsize=(12, 8))  # initiate plot\n",
    "        \n",
    "        wt_epochs = behaviour_epochs[behaviour_epochs.metadata[\"genotype\"] == \"DRD2-WT\"]\n",
    "        ko_epochs = behaviour_epochs[behaviour_epochs.metadata[\"genotype\"] == \"DRD2-KO\"]\n",
    "        \n",
    "        df = pd.DataFrame(columns=['freq', 'psd (means)', 'subject_id', 'genotype', 'channel'])\n",
    "\n",
    "        print(\"Plotting all subject traces\")\n",
    "        # for each genotype, plot the subject average PSD\n",
    "        for genotype_data in [wt_epochs, ko_epochs]:\n",
    "            genotype = genotype_data.metadata[\"genotype\"].iloc[0]\n",
    "            for subject_id in genotype_data.metadata[\"animal_id\"].unique():\n",
    "                if subject_id in bad_epochs_per_subject.keys():\n",
    "                    if channel in bad_epochs_per_subject[subject_id]:  # skip bad channel data\n",
    "                        continue\n",
    "                subject_data = genotype_data[genotype_data.metadata[\"animal_id\"] == subject_id]\n",
    "                psds_sub, freqs = psd_array_multitaper(\n",
    "                    subject_data.get_data(picks=channel),\n",
    "                    fmin=0, fmax=100,\n",
    "                    sfreq=s_freq,\n",
    "                    n_jobs=-1\n",
    "                )\n",
    "                mean_psd_sub = np.mean(psds_sub[:, 0, :], axis=0)\n",
    "                ax.plot(freqs, 10 * np.log10(mean_psd_sub), linewidth=1, alpha=0.2, color=\"#c23616\" if genotype == \"DRD2-KO\" else \"#0097e6\")\n",
    "                \n",
    "                # save the average of this subject\n",
    "                df = pd.concat([df, pd.DataFrame({\n",
    "                    \"freq\": freqs,\n",
    "                    \"psd (means)\": mean_psd_sub,\n",
    "                    \"subject_id\": subject_id,\n",
    "                    \"genotype\": genotype,\n",
    "                })])\n",
    "        \n",
    "        mean_psd_by_genotype = df.groupby('genotype')['psd (means)'].mean()\n",
    "        print(mean_psd_by_genotype)\n",
    "        \n",
    "        print(\"Done plotting all subject traces, proceeding to the averages..\")\n",
    "\n",
    "        # ax.plot(freqs, 10 * np.log10(mean_psd_wt), linewidth=3, alpha=1, color=\"#0097e6\", label=\"DRD2-WT\")\n",
    "        # ax.plot(freqs, 10 * np.log10(mean_psd_ko), linewidth=3, alpha=1, color=\"#c23616\", label=\"DRD2-KO\")\n",
    "        # \n",
    "        ax.set_xlabel('Frequency (Hz)')\n",
    "        ax.set_ylabel('Power/Frequency (dB/Hz)')\n",
    "        ax.set_title(f'Average PSD of all {\"movement\" if i == 0 else \"non_movement\"} epochs ({channel})')\n",
    "        plt.legend()\n",
    "        save_figure(os.path.join(plot_folder, f\"movement_vs_non_movement/wt_vs_ko/{'movement' if i == 0 else 'non_movement'}_{channel}\"))\n",
    "        \n",
    "        break\n",
    "    break"
   ],
   "metadata": {
    "collapsed": false,
    "ExecuteTime": {
     "end_time": "2024-02-15T11:19:17.170043Z",
     "start_time": "2024-02-15T11:16:57.552834Z"
    }
   },
   "id": "6aa387cf046d54e",
   "execution_count": 38
  },
  {
   "cell_type": "code",
   "outputs": [],
   "source": [],
   "metadata": {
    "collapsed": false
   },
   "id": "812c134574d76759"
  }
 ],
 "metadata": {
  "kernelspec": {
   "display_name": "Python 3",
   "language": "python",
   "name": "python3"
  },
  "language_info": {
   "codemirror_mode": {
    "name": "ipython",
    "version": 2
   },
   "file_extension": ".py",
   "mimetype": "text/x-python",
   "name": "python",
   "nbconvert_exporter": "python",
   "pygments_lexer": "ipython2",
   "version": "2.7.6"
  }
 },
 "nbformat": 4,
 "nbformat_minor": 5
}
