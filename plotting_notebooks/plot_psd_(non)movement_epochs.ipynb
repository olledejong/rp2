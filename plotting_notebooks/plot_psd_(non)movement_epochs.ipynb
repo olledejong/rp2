{
 "cells": [
  {
   "cell_type": "code",
   "execution_count": 38,
   "id": "initial_id",
   "metadata": {
    "collapsed": true,
    "ExecuteTime": {
     "end_time": "2024-02-16T11:03:21.510683100Z",
     "start_time": "2024-02-16T11:03:21.347111500Z"
    }
   },
   "outputs": [],
   "source": [
    "import os\n",
    "import mne\n",
    "import json\n",
    "import numpy as np\n",
    "import pandas as pd\n",
    "import seaborn as sns\n",
    "import matplotlib.pyplot as plt\n",
    "import matplotlib.patches as mpatches\n",
    "from mne.time_frequency import psd_array_multitaper\n",
    "from mne import Epochs\n",
    "\n",
    "from helper_functions import save_figure"
   ]
  },
  {
   "cell_type": "code",
   "outputs": [],
   "source": [
    "mne.set_log_level()"
   ],
   "metadata": {
    "collapsed": false
   },
   "id": "42b1d187267d9014"
  },
  {
   "cell_type": "code",
   "outputs": [],
   "source": [
    "with open('../settings.json', \"r\") as f:\n",
    "    settings = json.load(f)\n",
    "    \n",
    "epoch_folder = settings['epochs_folder']\n",
    "plot_folder = settings['plots_folder']"
   ],
   "metadata": {
    "collapsed": false,
    "ExecuteTime": {
     "end_time": "2024-02-16T08:17:20.244261900Z",
     "start_time": "2024-02-16T08:17:20.233526700Z"
    }
   },
   "id": "8214b6360b91184d",
   "execution_count": 2
  },
  {
   "cell_type": "markdown",
   "source": [
    "Let's load the epoch object"
   ],
   "metadata": {
    "collapsed": false
   },
   "id": "b7f15723794eaa52"
  },
  {
   "cell_type": "code",
   "outputs": [
    {
     "name": "stdout",
     "output_type": "stream",
     "text": [
      "Reading C:\\Users\\Olle de Jong\\Documents\\MSc Biology\\rp2\\rp2_data\\resting_state\\output\\epochs\\filtered_epochs_w_movement-epo.fif ...\n",
      "Isotrak not found\n",
      "    Found the data of interest:\n",
      "        t =       0.00 ...    4998.53 ms\n",
      "        0 CTF compensation matrices available\n",
      "Reading C:\\Users\\Olle de Jong\\Documents\\MSc Biology\\rp2\\rp2_data\\resting_state\\output\\epochs\\filtered_epochs_w_movement-epo-1.fif ...\n",
      "Isotrak not found\n",
      "    Found the data of interest:\n",
      "        t =       0.00 ...    4998.53 ms\n",
      "        0 CTF compensation matrices available\n",
      "Reading C:\\Users\\Olle de Jong\\Documents\\MSc Biology\\rp2\\rp2_data\\resting_state\\output\\epochs\\filtered_epochs_w_movement-epo-2.fif ...\n",
      "Isotrak not found\n",
      "    Found the data of interest:\n",
      "        t =       0.00 ...    4998.53 ms\n",
      "        0 CTF compensation matrices available\n",
      "Adding metadata with 4 columns\n",
      "21980 matching events found\n",
      "No baseline correction applied\n",
      "0 projection items activated\n"
     ]
    }
   ],
   "source": [
    "# let's load the epochs file\n",
    "epochs = mne.read_epochs(os.path.join(epoch_folder, \"filtered_epochs_w_movement-epo.fif\"), preload=True)"
   ],
   "metadata": {
    "collapsed": false,
    "ExecuteTime": {
     "end_time": "2024-02-16T08:18:10.445841600Z",
     "start_time": "2024-02-16T08:17:21.622540800Z"
    }
   },
   "id": "e5e463b3bc91e2c2",
   "execution_count": 3
  },
  {
   "cell_type": "markdown",
   "source": [
    "Establish a dictionary holding channels to be omitted from consideration"
   ],
   "metadata": {
    "collapsed": false
   },
   "id": "723ab6ae4e3fbdee"
  },
  {
   "cell_type": "code",
   "outputs": [],
   "source": [
    "bad_epochs_per_subject = {\n",
    "    \"80630\": [\"OFC_R\"],\n",
    "    \"80625\": [\"OFC_L\"],\n",
    "    \"81193\": [\"OFC_R\", \"OFC_L\"]\n",
    "}"
   ],
   "metadata": {
    "collapsed": false,
    "ExecuteTime": {
     "end_time": "2024-02-16T11:33:17.729550500Z",
     "start_time": "2024-02-16T11:33:17.724307100Z"
    }
   },
   "id": "1614e1f05de01b64",
   "execution_count": 53
  },
  {
   "cell_type": "markdown",
   "source": [
    "Get the names of the channels we want to plot"
   ],
   "metadata": {
    "collapsed": false
   },
   "id": "d5d5fd0d58d2f20c"
  },
  {
   "cell_type": "code",
   "outputs": [],
   "source": [
    "wanted_chans = [channel for channel in epochs.info[\"ch_names\"] if not channel in ['EMG_L', 'EMG_R']]"
   ],
   "metadata": {
    "collapsed": false,
    "ExecuteTime": {
     "end_time": "2024-02-16T11:33:18.638855900Z",
     "start_time": "2024-02-16T11:33:18.628982600Z"
    }
   },
   "id": "ecc41f97df69de33",
   "execution_count": 54
  },
  {
   "cell_type": "markdown",
   "source": [
    "#### DRD2-WT and DRD2-KO average PSD for movement and non-movement epochs"
   ],
   "metadata": {
    "collapsed": false
   },
   "id": "960400a1671d00a4"
  },
  {
   "cell_type": "markdown",
   "source": [
    "Define the frequency domains"
   ],
   "metadata": {
    "collapsed": false
   },
   "id": "6ae7e20bffe3e008"
  },
  {
   "cell_type": "code",
   "outputs": [],
   "source": [
    "freq_bands = {\n",
    "    r'$\\delta$': (1, 4),  # Delta\n",
    "    r'$\\theta$': (4, 8),  # Theta\n",
    "    r'$\\alpha$': (8, 13),  # Alpha\n",
    "    r'$\\beta$': (13, 30),  # Beta\n",
    "    r'$\\gamma$': (30, 100)  # Gamma\n",
    "}"
   ],
   "metadata": {
    "collapsed": false,
    "ExecuteTime": {
     "end_time": "2024-02-16T11:33:20.171160200Z",
     "start_time": "2024-02-16T11:33:20.164392900Z"
    }
   },
   "id": "326f04f9b955c5d",
   "execution_count": 55
  },
  {
   "cell_type": "markdown",
   "source": [
    "For now, we want to separate the movement and non-movement data, so let's do that"
   ],
   "metadata": {
    "collapsed": false
   },
   "id": "6ddd9a7a84eb52d7"
  },
  {
   "cell_type": "code",
   "outputs": [],
   "source": [
    "movement_epochs = epochs[epochs.metadata[\"movement\"] == 1]\n",
    "non_movement_epochs = epochs[epochs.metadata[\"movement\"] == 0]"
   ],
   "metadata": {
    "collapsed": false
   },
   "id": "ff80e75006849d7a",
   "execution_count": 7
  },
  {
   "cell_type": "markdown",
   "source": [
    "First, let's create a dataframe that holds all PSD means per subject, and is annotated with the genotype of the subject"
   ],
   "metadata": {
    "collapsed": false
   },
   "id": "90b95cde8e28402b"
  },
  {
   "cell_type": "code",
   "outputs": [
    {
     "name": "stdout",
     "output_type": "stream",
     "text": [
      "Generating movement dataframe.\n",
      "Omitting channel OFC_R for subject 81193.\n"
     ]
    },
    {
     "name": "stderr",
     "output_type": "stream",
     "text": [
      "C:\\Users\\Olle de Jong\\AppData\\Local\\Temp\\ipykernel_8184\\841759186.py:30: FutureWarning: The behavior of DataFrame concatenation with empty or all-NA entries is deprecated. In a future version, this will no longer exclude empty or all-NA columns when determining the result dtypes. To retain the old behavior, exclude the relevant entries before the concat operation.\n",
      "  df = pd.concat([df, pd.DataFrame({\n"
     ]
    },
    {
     "name": "stdout",
     "output_type": "stream",
     "text": [
      "Omitting channel OFC_R for subject 80630.\n",
      "Omitting channel OFC_L for subject 81193.\n",
      "Omitting channel OFC_L for subject 80625.\n",
      "Generating non_movement dataframe.\n",
      "Omitting channel OFC_R for subject 81193.\n"
     ]
    },
    {
     "name": "stderr",
     "output_type": "stream",
     "text": [
      "C:\\Users\\Olle de Jong\\AppData\\Local\\Temp\\ipykernel_8184\\841759186.py:30: FutureWarning: The behavior of DataFrame concatenation with empty or all-NA entries is deprecated. In a future version, this will no longer exclude empty or all-NA columns when determining the result dtypes. To retain the old behavior, exclude the relevant entries before the concat operation.\n",
      "  df = pd.concat([df, pd.DataFrame({\n"
     ]
    },
    {
     "name": "stdout",
     "output_type": "stream",
     "text": [
      "Omitting channel OFC_R for subject 80630.\n",
      "Omitting channel OFC_L for subject 81193.\n",
      "Omitting channel OFC_L for subject 80625.\n"
     ]
    }
   ],
   "source": [
    "behavioral_dfs = {}\n",
    "for behaviour, epochs in {'movement': movement_epochs, 'non_movement': non_movement_epochs}.items():\n",
    "    print(f\"Generating {behaviour} dataframe.\")\n",
    "    # loop through channels, as we want data per channel\n",
    "    \n",
    "    df = pd.DataFrame(columns=['freq', 'psd (means)', 'subject_id', 'genotype'])\n",
    "\n",
    "    for channel in wanted_chans:\n",
    "        for subject_id in epochs.metadata[\"animal_id\"].unique():\n",
    "            \n",
    "            subject_data = epochs[epochs.metadata[\"animal_id\"] == subject_id]\n",
    "            genotype = subject_data.metadata[\"genotype\"].iloc[0]\n",
    "\n",
    "            # skip plotting data of bad quality\n",
    "            if subject_id in bad_epochs_per_subject.keys():\n",
    "                if channel in bad_epochs_per_subject[subject_id]: \n",
    "                    print(f\"Omitting channel {channel} for subject {subject_id}.\")\n",
    "                    continue\n",
    "            \n",
    "            # get the average PSD for this subject\n",
    "            psds_sub, freqs = psd_array_multitaper(\n",
    "                subject_data.get_data(picks=channel),\n",
    "                fmin=0, fmax=100,\n",
    "                sfreq=subject_data.info['sfreq'],\n",
    "                n_jobs=-1\n",
    "            )\n",
    "            mean_psd_sub = np.mean(psds_sub[:, 0, :], axis=0)\n",
    "            \n",
    "            # save the average of this subject, so we can later plot the mean of the subject averages\n",
    "            df = pd.concat([df, pd.DataFrame({\n",
    "                \"freq\": freqs,\n",
    "                \"psd (means)\": mean_psd_sub,\n",
    "                \"subject_id\": subject_id,\n",
    "                \"genotype\": genotype,\n",
    "                \"channel\": channel,\n",
    "            })])\n",
    "                \n",
    "    behavioral_dfs[behaviour] = df"
   ],
   "metadata": {
    "collapsed": false,
    "ExecuteTime": {
     "end_time": "2024-02-16T11:36:14.446439500Z",
     "start_time": "2024-02-16T11:34:47.161466400Z"
    }
   },
   "id": "674f4307c17c5089",
   "execution_count": 59
  },
  {
   "cell_type": "markdown",
   "source": [
    "Now we have a dataframe for both movement, and non-movement data, let's generate a plot per channel where we average the PSDs of all WT and all KO subjects"
   ],
   "metadata": {
    "collapsed": false
   },
   "id": "d18a099bb86a82b7"
  },
  {
   "cell_type": "code",
   "outputs": [],
   "source": [
    "for behaviour, df in behavioral_dfs.items():\n",
    "    for channel in df.channel.unique():\n",
    "        fig, ax = plt.subplots(figsize=(12, 8))  # initiate plot\n",
    "        \n",
    "        channel_data = df[df.channel == channel]\n",
    "        \n",
    "        palette = {'DRD2-WT': '#2D6D8E', 'DRD2-KO': '#9B2B11'}\n",
    "\n",
    "        sns.lineplot(data=channel_data, x='freq', y='psd (means)', palette=palette, hue_order=['DRD2-WT', 'DRD2-KO'], hue='genotype', legend=True, ax=ax,errorbar=('ci', 95))\n",
    "        \n",
    "        # add frequency bands\n",
    "        for band, (start, end) in freq_bands.items():\n",
    "            ax.axvline(x=start, color='gray', linestyle='--', alpha=0.3)\n",
    "            ax.axvline(x=end, color='gray', linestyle='--', alpha=0.3)\n",
    "            ax.text((start + end) / 2, ax.get_ylim()[1] * 1.01, band, horizontalalignment='center', verticalalignment='top', fontsize=8, color='black')\n",
    "        \n",
    "        ax.set_yscale('log')\n",
    "        ax.set_xlabel('Frequency (Hz)')\n",
    "        ax.set_ylabel('Power/Frequency (dB/Hz)')\n",
    "        ax.set_title(f'Average PSD of all {behaviour} epochs ({channel})')\n",
    "        plt.legend(loc='best')\n",
    "        save_figure(os.path.join(plot_folder, f\"movement_vs_non_movement/wt_vs_ko/{behaviour}_{channel}\"))"
   ],
   "metadata": {
    "collapsed": false,
    "ExecuteTime": {
     "end_time": "2024-02-16T14:01:50.671900100Z",
     "start_time": "2024-02-16T13:59:22.186163400Z"
    }
   },
   "id": "ced4a7af84cce40f",
   "execution_count": 78
  },
  {
   "cell_type": "markdown",
   "source": [
    "Let's also instead hue by subject_id to see what subject averages stand out to us."
   ],
   "metadata": {
    "collapsed": false
   },
   "id": "4814bb379f81cada"
  },
  {
   "cell_type": "code",
   "outputs": [],
   "source": [
    "for behaviour, df in behavioral_dfs.items():\n",
    "    for channel in df.channel.unique():\n",
    "        fig, ax = plt.subplots(figsize=(12, 8))  # initiate plot\n",
    "        \n",
    "        channel_data = df[df.channel == channel]\n",
    "        sns.lineplot(data=channel_data, x='freq', y='psd (means)', hue='subject_id', legend=True, ax=ax)\n",
    "        \n",
    "        # add frequency bands\n",
    "        for band, (start, end) in freq_bands.items():\n",
    "            ax.axvline(x=start, color='gray', linestyle='--', alpha=0.3)\n",
    "            ax.axvline(x=end, color='gray', linestyle='--', alpha=0.3)\n",
    "            ax.text((start + end) / 2, ax.get_ylim()[1] * 1.01, band, horizontalalignment='center', verticalalignment='top', fontsize=8, color='black')\n",
    "        \n",
    "        ax.set_yscale('log')\n",
    "        ax.set_xlabel('Frequency (Hz)')\n",
    "        ax.set_ylabel('Power/Frequency (dB/Hz)')\n",
    "        ax.set_title(f'Average PSD of {behaviour} epochs per subject ({channel})')\n",
    "        plt.legend(loc='best')\n",
    "        save_figure(os.path.join(plot_folder, f\"movement_vs_non_movement/all_subjects_{behaviour}_{channel}\"))"
   ],
   "metadata": {
    "collapsed": false,
    "ExecuteTime": {
     "end_time": "2024-02-16T14:02:00.602311100Z",
     "start_time": "2024-02-16T14:01:50.675413400Z"
    }
   },
   "id": "e22ce0fce16f4407",
   "execution_count": 79
  },
  {
   "cell_type": "markdown",
   "source": [
    "Now let's plot both behaviours in the same plot and hue on genotype"
   ],
   "metadata": {
    "collapsed": false
   },
   "id": "e2f070b7cec8e1b1"
  },
  {
   "cell_type": "code",
   "outputs": [],
   "source": [
    "for channel in wanted_chans:\n",
    "    fig, ax = plt.subplots(figsize=(12, 8))  # initiate plot\n",
    "    \n",
    "    mov_df = behavioral_dfs['movement']\n",
    "    non_mov_df = behavioral_dfs['non_movement']\n",
    "    channel_data_mov = mov_df[mov_df.channel == channel]\n",
    "    channel_data_non = non_mov_df[non_mov_df.channel == channel]\n",
    "    \n",
    "    palette_mov = {'DRD2-WT': '#2D6D8E', 'DRD2-KO': '#9B2B11'}\n",
    "    palette_non = {'DRD2-WT': '#4CB6ED', 'DRD2-KO': '#B96A58'}\n",
    "    \n",
    "    sns.lineplot(data=channel_data_mov, x='freq', y='psd (means)', palette=palette_mov, hue_order=['DRD2-WT', 'DRD2-KO'], hue='genotype', legend=True, ax=ax, errorbar=None)\n",
    "    sns.lineplot(data=channel_data_non, x='freq', y='psd (means)', palette=palette_non, hue_order=['DRD2-WT', 'DRD2-KO'], hue='genotype', legend=True, ax=ax, errorbar=None)\n",
    "    \n",
    "    # add frequency bands\n",
    "    for band, (start, end) in freq_bands.items():\n",
    "        ax.axvline(x=start, color='gray', linestyle='--', alpha=0.3)\n",
    "        ax.axvline(x=end, color='gray', linestyle='--', alpha=0.3)\n",
    "        ax.text((start + end) / 2, ax.get_ylim()[1] * 1.01, band, horizontalalignment='center', verticalalignment='top', fontsize=8, color='black')\n",
    "    \n",
    "    ax.set_yscale('log')\n",
    "    ax.set_xlabel('Frequency (Hz)')\n",
    "    ax.set_ylabel('Power/Frequency (dB/Hz)')\n",
    "    ax.set_title(f'Average PSD - ({channel})')\n",
    "    \n",
    "    handles = []\n",
    "    patch1 = mpatches.Patch(color='#2D6D8E', linestyle='-', label='DRD2-WT - Movement')\n",
    "    patch2 = mpatches.Patch(color='#9B2B11', linestyle='-', label='DRD2-KO - Movement')\n",
    "    patch3 = mpatches.Patch(color='#4CB6ED', linestyle='-', label='DRD2-WT - Idle')\n",
    "    patch4 = mpatches.Patch(color='#B96A58', linestyle='-', label='DRD2-KO - Idle')\n",
    "    [handles.append(patch) for patch in [patch1, patch2, patch3, patch4]]\n",
    "    plt.legend(loc='upper right', handles=handles)\n",
    "    \n",
    "    save_figure(os.path.join(plot_folder, f\"movement_vs_non_movement/wt_vs_ko/combined/{channel}\"))"
   ],
   "metadata": {
    "collapsed": false,
    "ExecuteTime": {
     "end_time": "2024-02-16T14:02:06.814276600Z",
     "start_time": "2024-02-16T14:02:00.602311100Z"
    }
   },
   "id": "76d25ee4ca35173d",
   "execution_count": 80
  },
  {
   "cell_type": "code",
   "outputs": [],
   "source": [],
   "metadata": {
    "collapsed": false
   },
   "id": "56188e9d22f9c12b"
  }
 ],
 "metadata": {
  "kernelspec": {
   "display_name": "Python 3",
   "language": "python",
   "name": "python3"
  },
  "language_info": {
   "codemirror_mode": {
    "name": "ipython",
    "version": 2
   },
   "file_extension": ".py",
   "mimetype": "text/x-python",
   "name": "python",
   "nbconvert_exporter": "python",
   "pygments_lexer": "ipython2",
   "version": "2.7.6"
  }
 },
 "nbformat": 4,
 "nbformat_minor": 5
}
