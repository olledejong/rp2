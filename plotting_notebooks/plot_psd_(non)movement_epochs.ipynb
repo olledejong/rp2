{
 "cells": [
  {
   "cell_type": "code",
   "execution_count": 1,
   "id": "initial_id",
   "metadata": {
    "collapsed": true,
    "ExecuteTime": {
     "end_time": "2024-02-16T08:17:18.032422800Z",
     "start_time": "2024-02-16T08:17:16.365900100Z"
    }
   },
   "outputs": [],
   "source": [
    "import os\n",
    "import mne\n",
    "import json\n",
    "import numpy as np\n",
    "import pandas as pd\n",
    "import matplotlib.pyplot as plt\n",
    "import matplotlib.patches as mpatches\n",
    "from mne.time_frequency import psd_array_multitaper\n",
    "from mne import Epochs\n",
    "\n",
    "from helper_functions import save_figure"
   ]
  },
  {
   "cell_type": "code",
   "outputs": [],
   "source": [
    "mne.set_log_level()"
   ],
   "metadata": {
    "collapsed": false
   },
   "id": "42b1d187267d9014"
  },
  {
   "cell_type": "code",
   "outputs": [],
   "source": [
    "with open('../settings.json', \"r\") as f:\n",
    "    settings = json.load(f)\n",
    "    \n",
    "epoch_folder = settings['epochs_folder']\n",
    "plot_folder = settings['plots_folder']"
   ],
   "metadata": {
    "collapsed": false,
    "ExecuteTime": {
     "end_time": "2024-02-16T08:17:20.244261900Z",
     "start_time": "2024-02-16T08:17:20.233526700Z"
    }
   },
   "id": "8214b6360b91184d",
   "execution_count": 2
  },
  {
   "cell_type": "markdown",
   "source": [
    "Let's load the epoch object"
   ],
   "metadata": {
    "collapsed": false
   },
   "id": "b7f15723794eaa52"
  },
  {
   "cell_type": "code",
   "outputs": [
    {
     "name": "stdout",
     "output_type": "stream",
     "text": [
      "Reading C:\\Users\\Olle de Jong\\Documents\\MSc Biology\\rp2\\rp2_data\\resting_state\\output\\epochs\\filtered_epochs_w_movement-epo.fif ...\n",
      "Isotrak not found\n",
      "    Found the data of interest:\n",
      "        t =       0.00 ...    4998.53 ms\n",
      "        0 CTF compensation matrices available\n",
      "Reading C:\\Users\\Olle de Jong\\Documents\\MSc Biology\\rp2\\rp2_data\\resting_state\\output\\epochs\\filtered_epochs_w_movement-epo-1.fif ...\n",
      "Isotrak not found\n",
      "    Found the data of interest:\n",
      "        t =       0.00 ...    4998.53 ms\n",
      "        0 CTF compensation matrices available\n",
      "Reading C:\\Users\\Olle de Jong\\Documents\\MSc Biology\\rp2\\rp2_data\\resting_state\\output\\epochs\\filtered_epochs_w_movement-epo-2.fif ...\n",
      "Isotrak not found\n",
      "    Found the data of interest:\n",
      "        t =       0.00 ...    4998.53 ms\n",
      "        0 CTF compensation matrices available\n",
      "Adding metadata with 4 columns\n",
      "21980 matching events found\n",
      "No baseline correction applied\n",
      "0 projection items activated\n"
     ]
    }
   ],
   "source": [
    "# let's load the epochs file\n",
    "epochs = mne.read_epochs(os.path.join(epoch_folder, \"filtered_epochs_w_movement-epo.fif\"), preload=True)"
   ],
   "metadata": {
    "collapsed": false,
    "ExecuteTime": {
     "end_time": "2024-02-16T08:18:10.445841600Z",
     "start_time": "2024-02-16T08:17:21.622540800Z"
    }
   },
   "id": "e5e463b3bc91e2c2",
   "execution_count": 3
  },
  {
   "cell_type": "markdown",
   "source": [
    "Establish a dictionary holding channels to be omitted from consideration"
   ],
   "metadata": {
    "collapsed": false
   },
   "id": "723ab6ae4e3fbdee"
  },
  {
   "cell_type": "code",
   "outputs": [],
   "source": [
    "bad_epochs_per_subject = {\n",
    "    \"80630\": [\"OFC_R\"],\n",
    "    \"81193\": [\"OFC_R\"]\n",
    "}"
   ],
   "metadata": {
    "collapsed": false,
    "ExecuteTime": {
     "end_time": "2024-02-16T08:18:31.595481200Z",
     "start_time": "2024-02-16T08:18:31.585592800Z"
    }
   },
   "id": "1614e1f05de01b64",
   "execution_count": 5
  },
  {
   "cell_type": "markdown",
   "source": [
    "Get the names of the channels we want to plot"
   ],
   "metadata": {
    "collapsed": false
   },
   "id": "d5d5fd0d58d2f20c"
  },
  {
   "cell_type": "code",
   "outputs": [
    {
     "name": "stdout",
     "output_type": "stream",
     "text": [
      "['OFC_R', 'OFC_L', 'CG', 'STR_R', 'S1_L', 'S1_R', 'V1_R']\n"
     ]
    }
   ],
   "source": [
    "wanted_chans = [channel for channel in epochs.info[\"ch_names\"] if not channel in ['EMG_L', 'EMG_R']]"
   ],
   "metadata": {
    "collapsed": false,
    "ExecuteTime": {
     "end_time": "2024-02-16T08:18:32.400378600Z",
     "start_time": "2024-02-16T08:18:32.394339400Z"
    }
   },
   "id": "ecc41f97df69de33",
   "execution_count": 6
  },
  {
   "cell_type": "markdown",
   "source": [
    "#### DRD2-WT and DRD2-KO average PSD for movement and non-movement epochs"
   ],
   "metadata": {
    "collapsed": false
   },
   "id": "960400a1671d00a4"
  },
  {
   "cell_type": "markdown",
   "source": [
    "Define the frequency domains"
   ],
   "metadata": {
    "collapsed": false
   },
   "id": "6ae7e20bffe3e008"
  },
  {
   "cell_type": "code",
   "outputs": [],
   "source": [
    "freq_bands = {\n",
    "    r'$\\delta$': (1, 4),  # Delta\n",
    "    r'$\\theta$': (4, 8),  # Theta\n",
    "    r'$\\alpha$': (8, 13),  # Alpha\n",
    "    r'$\\beta$': (13, 30),  # Beta\n",
    "    r'$\\gamma$': (30, 100)  # Gamma\n",
    "}"
   ],
   "metadata": {
    "collapsed": false
   },
   "id": "326f04f9b955c5d",
   "execution_count": 25
  },
  {
   "cell_type": "markdown",
   "source": [
    "For now, we want to separate the movement and non-movement data, so let's do that"
   ],
   "metadata": {
    "collapsed": false
   },
   "id": "6ddd9a7a84eb52d7"
  },
  {
   "cell_type": "code",
   "outputs": [],
   "source": [
    "movement_epochs = epochs[epochs.metadata[\"movement\"] == 1]\n",
    "non_movement_epochs = epochs[epochs.metadata[\"movement\"] == 0]"
   ],
   "metadata": {
    "collapsed": false
   },
   "id": "ff80e75006849d7a",
   "execution_count": 7
  },
  {
   "cell_type": "markdown",
   "source": [
    "First, let's create a dataframe that holds all PSD means per subject, and is annotated with the genotype of the subject"
   ],
   "metadata": {
    "collapsed": false
   },
   "id": "90b95cde8e28402b"
  },
  {
   "cell_type": "code",
   "outputs": [],
   "source": [
    "behavioral_dfs = {}\n",
    "for behaviour, epochs in {'movement': movement_epochs, 'non_movement': non_movement_epochs}.items():\n",
    "    # loop through channels, as we want data per channel\n",
    "    \n",
    "    df = pd.DataFrame(columns=['freq', 'psd (means)', 'subject_id', 'genotype'])\n",
    "\n",
    "    for channel in wanted_chans:\n",
    "        for subject_id in epochs.metadata[\"animal_id\"].unique():\n",
    "            \n",
    "            subject_data = epochs[epochs.metadata[\"animal_id\"] == subject_id]\n",
    "            genotype = subject_data.metadata[\"genotype\"].iloc[0]\n",
    "\n",
    "            # skip plotting data of bad quality\n",
    "            if subject_id in bad_epochs_per_subject.keys():\n",
    "                if channel in bad_epochs_per_subject[subject_id]: \n",
    "                    continue\n",
    "            \n",
    "            # get the average PSD for this subject\n",
    "            psds_sub, freqs = psd_array_multitaper(\n",
    "                subject_data.get_data(picks=channel),\n",
    "                fmin=0, fmax=100,\n",
    "                sfreq=subject_data.info['sfreq'],\n",
    "                n_jobs=-1\n",
    "            )\n",
    "            mean_psd_sub = np.mean(psds_sub[:, 0, :], axis=0)\n",
    "            \n",
    "            # save the average of this subject, so we can later plot the mean of the subject averages\n",
    "            df = pd.concat([df, pd.DataFrame({\n",
    "                \"freq\": freqs,\n",
    "                \"psd (means)\": mean_psd_sub,\n",
    "                \"subject_id\": subject_id,\n",
    "                \"genotype\": genotype,\n",
    "                \"channel\": channel,\n",
    "            })])\n",
    "                \n",
    "    behavioral_dfs[behaviour] = df"
   ],
   "metadata": {
    "collapsed": false
   },
   "id": "674f4307c17c5089",
   "execution_count": null
  },
  {
   "cell_type": "markdown",
   "source": [
    "Now we have a dataframe for both movement, and non-movement data, let's generate a plot per channel with it."
   ],
   "metadata": {
    "collapsed": false
   },
   "id": "d18a099bb86a82b7"
  },
  {
   "cell_type": "code",
   "outputs": [
    {
     "name": "stderr",
     "output_type": "stream",
     "text": [
      "C:\\Users\\Olle de Jong\\AppData\\Local\\Temp\\ipykernel_8184\\216157384.py:18: FutureWarning: A grouping was used that is not in the columns of the DataFrame and so was excluded from the result. This grouping will be included in a future version of pandas. Add the grouping as a column of the DataFrame to silence this warning.\n",
      "  mean_psd_by_genotype = channel_data.groupby(['genotype', channel_data.index], as_index=False).agg({'freq': 'first', 'psd (means)': 'mean', 'genotype': 'first'})\n",
      "C:\\Users\\Olle de Jong\\AppData\\Local\\Temp\\ipykernel_8184\\216157384.py:19: FutureWarning: A grouping was used that is not in the columns of the DataFrame and so was excluded from the result. This grouping will be included in a future version of pandas. Add the grouping as a column of the DataFrame to silence this warning.\n",
      "  std_psd_by_genotype = channel_data.groupby(['genotype', channel_data.index], as_index=False).agg({'freq': 'first', 'psd (means)': 'std', 'genotype': 'first'})\n",
      "C:\\Users\\Olle de Jong\\AppData\\Local\\Temp\\ipykernel_8184\\216157384.py:18: FutureWarning: A grouping was used that is not in the columns of the DataFrame and so was excluded from the result. This grouping will be included in a future version of pandas. Add the grouping as a column of the DataFrame to silence this warning.\n",
      "  mean_psd_by_genotype = channel_data.groupby(['genotype', channel_data.index], as_index=False).agg({'freq': 'first', 'psd (means)': 'mean', 'genotype': 'first'})\n",
      "C:\\Users\\Olle de Jong\\AppData\\Local\\Temp\\ipykernel_8184\\216157384.py:19: FutureWarning: A grouping was used that is not in the columns of the DataFrame and so was excluded from the result. This grouping will be included in a future version of pandas. Add the grouping as a column of the DataFrame to silence this warning.\n",
      "  std_psd_by_genotype = channel_data.groupby(['genotype', channel_data.index], as_index=False).agg({'freq': 'first', 'psd (means)': 'std', 'genotype': 'first'})\n",
      "C:\\Users\\Olle de Jong\\AppData\\Local\\Temp\\ipykernel_8184\\216157384.py:18: FutureWarning: A grouping was used that is not in the columns of the DataFrame and so was excluded from the result. This grouping will be included in a future version of pandas. Add the grouping as a column of the DataFrame to silence this warning.\n",
      "  mean_psd_by_genotype = channel_data.groupby(['genotype', channel_data.index], as_index=False).agg({'freq': 'first', 'psd (means)': 'mean', 'genotype': 'first'})\n",
      "C:\\Users\\Olle de Jong\\AppData\\Local\\Temp\\ipykernel_8184\\216157384.py:19: FutureWarning: A grouping was used that is not in the columns of the DataFrame and so was excluded from the result. This grouping will be included in a future version of pandas. Add the grouping as a column of the DataFrame to silence this warning.\n",
      "  std_psd_by_genotype = channel_data.groupby(['genotype', channel_data.index], as_index=False).agg({'freq': 'first', 'psd (means)': 'std', 'genotype': 'first'})\n",
      "C:\\Users\\Olle de Jong\\AppData\\Local\\Temp\\ipykernel_8184\\216157384.py:18: FutureWarning: A grouping was used that is not in the columns of the DataFrame and so was excluded from the result. This grouping will be included in a future version of pandas. Add the grouping as a column of the DataFrame to silence this warning.\n",
      "  mean_psd_by_genotype = channel_data.groupby(['genotype', channel_data.index], as_index=False).agg({'freq': 'first', 'psd (means)': 'mean', 'genotype': 'first'})\n",
      "C:\\Users\\Olle de Jong\\AppData\\Local\\Temp\\ipykernel_8184\\216157384.py:19: FutureWarning: A grouping was used that is not in the columns of the DataFrame and so was excluded from the result. This grouping will be included in a future version of pandas. Add the grouping as a column of the DataFrame to silence this warning.\n",
      "  std_psd_by_genotype = channel_data.groupby(['genotype', channel_data.index], as_index=False).agg({'freq': 'first', 'psd (means)': 'std', 'genotype': 'first'})\n",
      "C:\\Users\\Olle de Jong\\AppData\\Local\\Temp\\ipykernel_8184\\216157384.py:18: FutureWarning: A grouping was used that is not in the columns of the DataFrame and so was excluded from the result. This grouping will be included in a future version of pandas. Add the grouping as a column of the DataFrame to silence this warning.\n",
      "  mean_psd_by_genotype = channel_data.groupby(['genotype', channel_data.index], as_index=False).agg({'freq': 'first', 'psd (means)': 'mean', 'genotype': 'first'})\n",
      "C:\\Users\\Olle de Jong\\AppData\\Local\\Temp\\ipykernel_8184\\216157384.py:19: FutureWarning: A grouping was used that is not in the columns of the DataFrame and so was excluded from the result. This grouping will be included in a future version of pandas. Add the grouping as a column of the DataFrame to silence this warning.\n",
      "  std_psd_by_genotype = channel_data.groupby(['genotype', channel_data.index], as_index=False).agg({'freq': 'first', 'psd (means)': 'std', 'genotype': 'first'})\n",
      "C:\\Users\\Olle de Jong\\AppData\\Local\\Temp\\ipykernel_8184\\216157384.py:18: FutureWarning: A grouping was used that is not in the columns of the DataFrame and so was excluded from the result. This grouping will be included in a future version of pandas. Add the grouping as a column of the DataFrame to silence this warning.\n",
      "  mean_psd_by_genotype = channel_data.groupby(['genotype', channel_data.index], as_index=False).agg({'freq': 'first', 'psd (means)': 'mean', 'genotype': 'first'})\n",
      "C:\\Users\\Olle de Jong\\AppData\\Local\\Temp\\ipykernel_8184\\216157384.py:19: FutureWarning: A grouping was used that is not in the columns of the DataFrame and so was excluded from the result. This grouping will be included in a future version of pandas. Add the grouping as a column of the DataFrame to silence this warning.\n",
      "  std_psd_by_genotype = channel_data.groupby(['genotype', channel_data.index], as_index=False).agg({'freq': 'first', 'psd (means)': 'std', 'genotype': 'first'})\n",
      "C:\\Users\\Olle de Jong\\AppData\\Local\\Temp\\ipykernel_8184\\216157384.py:18: FutureWarning: A grouping was used that is not in the columns of the DataFrame and so was excluded from the result. This grouping will be included in a future version of pandas. Add the grouping as a column of the DataFrame to silence this warning.\n",
      "  mean_psd_by_genotype = channel_data.groupby(['genotype', channel_data.index], as_index=False).agg({'freq': 'first', 'psd (means)': 'mean', 'genotype': 'first'})\n",
      "C:\\Users\\Olle de Jong\\AppData\\Local\\Temp\\ipykernel_8184\\216157384.py:19: FutureWarning: A grouping was used that is not in the columns of the DataFrame and so was excluded from the result. This grouping will be included in a future version of pandas. Add the grouping as a column of the DataFrame to silence this warning.\n",
      "  std_psd_by_genotype = channel_data.groupby(['genotype', channel_data.index], as_index=False).agg({'freq': 'first', 'psd (means)': 'std', 'genotype': 'first'})\n",
      "C:\\Users\\Olle de Jong\\AppData\\Local\\Temp\\ipykernel_8184\\216157384.py:18: FutureWarning: A grouping was used that is not in the columns of the DataFrame and so was excluded from the result. This grouping will be included in a future version of pandas. Add the grouping as a column of the DataFrame to silence this warning.\n",
      "  mean_psd_by_genotype = channel_data.groupby(['genotype', channel_data.index], as_index=False).agg({'freq': 'first', 'psd (means)': 'mean', 'genotype': 'first'})\n",
      "C:\\Users\\Olle de Jong\\AppData\\Local\\Temp\\ipykernel_8184\\216157384.py:19: FutureWarning: A grouping was used that is not in the columns of the DataFrame and so was excluded from the result. This grouping will be included in a future version of pandas. Add the grouping as a column of the DataFrame to silence this warning.\n",
      "  std_psd_by_genotype = channel_data.groupby(['genotype', channel_data.index], as_index=False).agg({'freq': 'first', 'psd (means)': 'std', 'genotype': 'first'})\n",
      "C:\\Users\\Olle de Jong\\AppData\\Local\\Temp\\ipykernel_8184\\216157384.py:18: FutureWarning: A grouping was used that is not in the columns of the DataFrame and so was excluded from the result. This grouping will be included in a future version of pandas. Add the grouping as a column of the DataFrame to silence this warning.\n",
      "  mean_psd_by_genotype = channel_data.groupby(['genotype', channel_data.index], as_index=False).agg({'freq': 'first', 'psd (means)': 'mean', 'genotype': 'first'})\n",
      "C:\\Users\\Olle de Jong\\AppData\\Local\\Temp\\ipykernel_8184\\216157384.py:19: FutureWarning: A grouping was used that is not in the columns of the DataFrame and so was excluded from the result. This grouping will be included in a future version of pandas. Add the grouping as a column of the DataFrame to silence this warning.\n",
      "  std_psd_by_genotype = channel_data.groupby(['genotype', channel_data.index], as_index=False).agg({'freq': 'first', 'psd (means)': 'std', 'genotype': 'first'})\n",
      "C:\\Users\\Olle de Jong\\AppData\\Local\\Temp\\ipykernel_8184\\216157384.py:18: FutureWarning: A grouping was used that is not in the columns of the DataFrame and so was excluded from the result. This grouping will be included in a future version of pandas. Add the grouping as a column of the DataFrame to silence this warning.\n",
      "  mean_psd_by_genotype = channel_data.groupby(['genotype', channel_data.index], as_index=False).agg({'freq': 'first', 'psd (means)': 'mean', 'genotype': 'first'})\n",
      "C:\\Users\\Olle de Jong\\AppData\\Local\\Temp\\ipykernel_8184\\216157384.py:19: FutureWarning: A grouping was used that is not in the columns of the DataFrame and so was excluded from the result. This grouping will be included in a future version of pandas. Add the grouping as a column of the DataFrame to silence this warning.\n",
      "  std_psd_by_genotype = channel_data.groupby(['genotype', channel_data.index], as_index=False).agg({'freq': 'first', 'psd (means)': 'std', 'genotype': 'first'})\n",
      "C:\\Users\\Olle de Jong\\AppData\\Local\\Temp\\ipykernel_8184\\216157384.py:18: FutureWarning: A grouping was used that is not in the columns of the DataFrame and so was excluded from the result. This grouping will be included in a future version of pandas. Add the grouping as a column of the DataFrame to silence this warning.\n",
      "  mean_psd_by_genotype = channel_data.groupby(['genotype', channel_data.index], as_index=False).agg({'freq': 'first', 'psd (means)': 'mean', 'genotype': 'first'})\n",
      "C:\\Users\\Olle de Jong\\AppData\\Local\\Temp\\ipykernel_8184\\216157384.py:19: FutureWarning: A grouping was used that is not in the columns of the DataFrame and so was excluded from the result. This grouping will be included in a future version of pandas. Add the grouping as a column of the DataFrame to silence this warning.\n",
      "  std_psd_by_genotype = channel_data.groupby(['genotype', channel_data.index], as_index=False).agg({'freq': 'first', 'psd (means)': 'std', 'genotype': 'first'})\n",
      "C:\\Users\\Olle de Jong\\AppData\\Local\\Temp\\ipykernel_8184\\216157384.py:18: FutureWarning: A grouping was used that is not in the columns of the DataFrame and so was excluded from the result. This grouping will be included in a future version of pandas. Add the grouping as a column of the DataFrame to silence this warning.\n",
      "  mean_psd_by_genotype = channel_data.groupby(['genotype', channel_data.index], as_index=False).agg({'freq': 'first', 'psd (means)': 'mean', 'genotype': 'first'})\n",
      "C:\\Users\\Olle de Jong\\AppData\\Local\\Temp\\ipykernel_8184\\216157384.py:19: FutureWarning: A grouping was used that is not in the columns of the DataFrame and so was excluded from the result. This grouping will be included in a future version of pandas. Add the grouping as a column of the DataFrame to silence this warning.\n",
      "  std_psd_by_genotype = channel_data.groupby(['genotype', channel_data.index], as_index=False).agg({'freq': 'first', 'psd (means)': 'std', 'genotype': 'first'})\n",
      "C:\\Users\\Olle de Jong\\AppData\\Local\\Temp\\ipykernel_8184\\216157384.py:18: FutureWarning: A grouping was used that is not in the columns of the DataFrame and so was excluded from the result. This grouping will be included in a future version of pandas. Add the grouping as a column of the DataFrame to silence this warning.\n",
      "  mean_psd_by_genotype = channel_data.groupby(['genotype', channel_data.index], as_index=False).agg({'freq': 'first', 'psd (means)': 'mean', 'genotype': 'first'})\n",
      "C:\\Users\\Olle de Jong\\AppData\\Local\\Temp\\ipykernel_8184\\216157384.py:19: FutureWarning: A grouping was used that is not in the columns of the DataFrame and so was excluded from the result. This grouping will be included in a future version of pandas. Add the grouping as a column of the DataFrame to silence this warning.\n",
      "  std_psd_by_genotype = channel_data.groupby(['genotype', channel_data.index], as_index=False).agg({'freq': 'first', 'psd (means)': 'std', 'genotype': 'first'})\n",
      "C:\\Users\\Olle de Jong\\AppData\\Local\\Temp\\ipykernel_8184\\216157384.py:18: FutureWarning: A grouping was used that is not in the columns of the DataFrame and so was excluded from the result. This grouping will be included in a future version of pandas. Add the grouping as a column of the DataFrame to silence this warning.\n",
      "  mean_psd_by_genotype = channel_data.groupby(['genotype', channel_data.index], as_index=False).agg({'freq': 'first', 'psd (means)': 'mean', 'genotype': 'first'})\n",
      "C:\\Users\\Olle de Jong\\AppData\\Local\\Temp\\ipykernel_8184\\216157384.py:19: FutureWarning: A grouping was used that is not in the columns of the DataFrame and so was excluded from the result. This grouping will be included in a future version of pandas. Add the grouping as a column of the DataFrame to silence this warning.\n",
      "  std_psd_by_genotype = channel_data.groupby(['genotype', channel_data.index], as_index=False).agg({'freq': 'first', 'psd (means)': 'std', 'genotype': 'first'})\n"
     ]
    }
   ],
   "source": [
    "for behaviour, df in behavioral_dfs.items():\n",
    "    for channel in df.channel.unique():\n",
    "        fig, ax = plt.subplots(figsize=(12, 8))  # initiate plot\n",
    "        \n",
    "        channel_data = df[df.channel == channel]\n",
    "        \n",
    "        # plot individual subject traces traces\n",
    "        for subject_id in channel_data[\"subject_id\"].unique():\n",
    "            \n",
    "            subject_data = channel_data[channel_data[\"subject_id\"] == subject_id]\n",
    "            genotype = subject_data[\"genotype\"].iloc[0]\n",
    "            \n",
    "            # get actual data to plot and plot data for this subject\n",
    "            freqs, mean_psd_sub = subject_data.freq, subject_data[\"psd (means)\"]\n",
    "            ax.plot(freqs, 10 * np.log10(mean_psd_sub), linewidth=1, alpha=0.2, color=\"#c23616\" if genotype == \"DRD2-KO\" else \"#0097e6\")\n",
    "            \n",
    "        # group by genotype and index and take the mean of the PSD traces as well as the STD\n",
    "        mean_psd_by_genotype = channel_data.groupby(['genotype', channel_data.index], as_index=False).agg({'freq': 'first', 'psd (means)': 'mean', 'genotype': 'first'})\n",
    "        std_psd_by_genotype = channel_data.groupby(['genotype', channel_data.index], as_index=False).agg({'freq': 'first', 'psd (means)': 'std', 'genotype': 'first'})\n",
    "        \n",
    "        # split into ko and wt data\n",
    "        mean_psd_wt, mean_psd_ko = mean_psd_by_genotype[mean_psd_by_genotype.genotype == \"DRD2-WT\"], mean_psd_by_genotype[mean_psd_by_genotype.genotype == \"DRD2-KO\"]\n",
    "        std_psd_wt, std_psd_ko = std_psd_by_genotype[std_psd_by_genotype.genotype == \"DRD2-WT\"], std_psd_by_genotype[std_psd_by_genotype.genotype == \"DRD2-KO\"]\n",
    "        \n",
    "        conf_int_wt = 1.96 * std_psd_wt['psd (means)'] / np.sqrt(len(std_psd_wt['psd (means)']))  # 95% confidence interval\n",
    "        conf_int_ko = 1.96 * std_psd_ko['psd (means)'] / np.sqrt(len(std_psd_ko['psd (means)']))  # 95% confidence interval\n",
    "    \n",
    "        ax.plot(mean_psd_wt.freq, 10 * np.log10(mean_psd_wt[\"psd (means)\"]), linewidth=3, alpha=1, color=\"#0097e6\", label=\"DRD2-WT\")\n",
    "        ax.plot(mean_psd_ko.freq, 10 * np.log10(mean_psd_ko[\"psd (means)\"]), linewidth=3, alpha=1, color=\"#c23616\", label=\"DRD2-KO\")\n",
    "        ax.fill_between(mean_psd_wt.freq, 10 * np.log10(mean_psd_wt[\"psd (means)\"] - conf_int_wt), 10 * np.log10(mean_psd_wt[\"psd (means)\"] + conf_int_wt), alpha=0.2)\n",
    "        ax.fill_between(mean_psd_ko.freq, 10 * np.log10(mean_psd_ko[\"psd (means)\"] - conf_int_ko), 10 * np.log10(mean_psd_ko[\"psd (means)\"] + conf_int_ko), alpha=0.2)\n",
    "        \n",
    "        # Add vertical lines and labels for frequency bands\n",
    "        for band, (start, end) in freq_bands.items():\n",
    "            ax.axvline(x=start, color='gray', linestyle='--', alpha=0.3)\n",
    "            ax.axvline(x=end, color='gray', linestyle='--', alpha=0.3)\n",
    "            ax.text((start + end) / 2, ax.get_ylim()[1] * 1.01, band, horizontalalignment='center', verticalalignment='top', fontsize=8, color='black')\n",
    "        \n",
    "        plt.legend(loc='upper right', bbox_to_anchor=(1, 1))\n",
    "    \n",
    "        ax.set_xlabel('Frequency (Hz)')\n",
    "        ax.set_ylabel('Power/Frequency (dB/Hz)')\n",
    "        ax.set_title(f'Average PSD of all {behaviour} epochs ({channel})')\n",
    "        plt.legend()\n",
    "        save_figure(os.path.join(plot_folder, f\"movement_vs_non_movement/wt_vs_ko/{behaviour}_{channel}\"))"
   ],
   "metadata": {
    "collapsed": false,
    "ExecuteTime": {
     "end_time": "2024-02-16T10:08:32.642264900Z",
     "start_time": "2024-02-16T10:08:24.133551300Z"
    }
   },
   "id": "a3610556a37bcd35",
   "execution_count": 32
  },
  {
   "cell_type": "code",
   "outputs": [],
   "source": [],
   "metadata": {
    "collapsed": false
   },
   "id": "ced4a7af84cce40f"
  }
 ],
 "metadata": {
  "kernelspec": {
   "display_name": "Python 3",
   "language": "python",
   "name": "python3"
  },
  "language_info": {
   "codemirror_mode": {
    "name": "ipython",
    "version": 2
   },
   "file_extension": ".py",
   "mimetype": "text/x-python",
   "name": "python",
   "nbconvert_exporter": "python",
   "pygments_lexer": "ipython2",
   "version": "2.7.6"
  }
 },
 "nbformat": 4,
 "nbformat_minor": 5
}
