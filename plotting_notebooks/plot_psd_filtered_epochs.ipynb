{
 "cells": [
  {
   "cell_type": "code",
   "outputs": [],
   "source": [
    "import os\n",
    "import mne\n",
    "import json\n",
    "import numpy as np\n",
    "import pandas as pd\n",
    "import matplotlib.pyplot as plt\n",
    "import matplotlib.patches as mpatches\n",
    "from mne.time_frequency import psd_array_multitaper"
   ],
   "metadata": {
    "collapsed": false,
    "ExecuteTime": {
     "end_time": "2024-02-09T10:15:37.954507700Z",
     "start_time": "2024-02-09T10:15:37.946840700Z"
    }
   },
   "id": "9ca36d5e4d7b87e2",
   "execution_count": 41
  },
  {
   "cell_type": "code",
   "outputs": [],
   "source": [
    "with open('../settings.json', \"r\") as f:\n",
    "    settings = json.load(f)\n",
    "    \n",
    "epoch_folder = settings['epochs_folder']\n",
    "plot_folder = settings['plots_folder']"
   ],
   "metadata": {
    "collapsed": false,
    "ExecuteTime": {
     "end_time": "2024-02-09T10:15:40.501810Z",
     "start_time": "2024-02-09T10:15:40.487765700Z"
    }
   },
   "id": "93e1af75dfbb7490",
   "execution_count": 42
  },
  {
   "cell_type": "markdown",
   "source": [
    "Load the epoch files"
   ],
   "metadata": {
    "collapsed": false
   },
   "id": "7afa4ae7826e1ade"
  },
  {
   "cell_type": "code",
   "outputs": [
    {
     "name": "stdout",
     "output_type": "stream",
     "text": [
      "Reading C:\\Users\\Olle de Jong\\Documents\\MSc Biology\\rp2\\rp2_data\\resting_state\\output\\epochs\\filtered_epochs_resting_state_39489-epo.fif ...\n",
      "Isotrak not found\n",
      "    Found the data of interest:\n",
      "        t =       0.00 ...    4998.53 ms\n",
      "        0 CTF compensation matrices available\n",
      "Adding metadata with 3 columns\n",
      "1197 matching events found\n",
      "No baseline correction applied\n",
      "0 projection items activated\n",
      "Reading C:\\Users\\Olle de Jong\\Documents\\MSc Biology\\rp2\\rp2_data\\resting_state\\output\\epochs\\filtered_epochs_resting_state_39508-epo.fif ...\n",
      "Isotrak not found\n",
      "    Found the data of interest:\n",
      "        t =       0.00 ...    4998.53 ms\n",
      "        0 CTF compensation matrices available\n",
      "Adding metadata with 3 columns\n",
      "2013 matching events found\n",
      "No baseline correction applied\n",
      "0 projection items activated\n",
      "Reading C:\\Users\\Olle de Jong\\Documents\\MSc Biology\\rp2\\rp2_data\\resting_state\\output\\epochs\\filtered_epochs_resting_state_78211-epo.fif ...\n",
      "Isotrak not found\n",
      "    Found the data of interest:\n",
      "        t =       0.00 ...    4998.53 ms\n",
      "        0 CTF compensation matrices available\n",
      "Adding metadata with 3 columns\n",
      "1128 matching events found\n",
      "No baseline correction applied\n",
      "0 projection items activated\n",
      "Reading C:\\Users\\Olle de Jong\\Documents\\MSc Biology\\rp2\\rp2_data\\resting_state\\output\\epochs\\filtered_epochs_resting_state_78227-epo.fif ...\n",
      "Isotrak not found\n",
      "    Found the data of interest:\n",
      "        t =       0.00 ...    4998.53 ms\n",
      "        0 CTF compensation matrices available\n",
      "Adding metadata with 3 columns\n",
      "770 matching events found\n",
      "No baseline correction applied\n",
      "0 projection items activated\n",
      "Reading C:\\Users\\Olle de Jong\\Documents\\MSc Biology\\rp2\\rp2_data\\resting_state\\output\\epochs\\filtered_epochs_resting_state_78233-epo.fif ...\n",
      "Isotrak not found\n",
      "    Found the data of interest:\n",
      "        t =       0.00 ...    4998.53 ms\n",
      "        0 CTF compensation matrices available\n",
      "Adding metadata with 3 columns\n",
      "1974 matching events found\n",
      "No baseline correction applied\n",
      "0 projection items activated\n",
      "Reading C:\\Users\\Olle de Jong\\Documents\\MSc Biology\\rp2\\rp2_data\\resting_state\\output\\epochs\\filtered_epochs_resting_state_78244-epo.fif ...\n",
      "Isotrak not found\n",
      "    Found the data of interest:\n",
      "        t =       0.00 ...    4998.53 ms\n",
      "        0 CTF compensation matrices available\n",
      "Adding metadata with 3 columns\n",
      "1438 matching events found\n",
      "No baseline correction applied\n",
      "0 projection items activated\n",
      "Reading C:\\Users\\Olle de Jong\\Documents\\MSc Biology\\rp2\\rp2_data\\resting_state\\output\\epochs\\filtered_epochs_resting_state_79592-epo.fif ...\n",
      "Isotrak not found\n",
      "    Found the data of interest:\n",
      "        t =       0.00 ...    4998.53 ms\n",
      "        0 CTF compensation matrices available\n",
      "Adding metadata with 3 columns\n",
      "838 matching events found\n",
      "No baseline correction applied\n",
      "0 projection items activated\n",
      "Reading C:\\Users\\Olle de Jong\\Documents\\MSc Biology\\rp2\\rp2_data\\resting_state\\output\\epochs\\filtered_epochs_resting_state_79593-epo.fif ...\n",
      "Isotrak not found\n",
      "    Found the data of interest:\n",
      "        t =       0.00 ...    4998.53 ms\n",
      "        0 CTF compensation matrices available\n",
      "Adding metadata with 3 columns\n",
      "1108 matching events found\n",
      "No baseline correction applied\n",
      "0 projection items activated\n",
      "Reading C:\\Users\\Olle de Jong\\Documents\\MSc Biology\\rp2\\rp2_data\\resting_state\\output\\epochs\\filtered_epochs_resting_state_79602-epo.fif ...\n",
      "Isotrak not found\n",
      "    Found the data of interest:\n",
      "        t =       0.00 ...    4998.53 ms\n",
      "        0 CTF compensation matrices available\n",
      "Adding metadata with 3 columns\n",
      "1729 matching events found\n",
      "No baseline correction applied\n",
      "0 projection items activated\n",
      "Reading C:\\Users\\Olle de Jong\\Documents\\MSc Biology\\rp2\\rp2_data\\resting_state\\output\\epochs\\filtered_epochs_resting_state_79604-epo.fif ...\n",
      "Isotrak not found\n",
      "    Found the data of interest:\n",
      "        t =       0.00 ...    4998.53 ms\n",
      "        0 CTF compensation matrices available\n",
      "Adding metadata with 3 columns\n",
      "1445 matching events found\n",
      "No baseline correction applied\n",
      "0 projection items activated\n",
      "Reading C:\\Users\\Olle de Jong\\Documents\\MSc Biology\\rp2\\rp2_data\\resting_state\\output\\epochs\\filtered_epochs_resting_state_80620-epo.fif ...\n",
      "Isotrak not found\n",
      "    Found the data of interest:\n",
      "        t =       0.00 ...    4998.53 ms\n",
      "        0 CTF compensation matrices available\n",
      "Adding metadata with 3 columns\n",
      "2023 matching events found\n",
      "No baseline correction applied\n",
      "0 projection items activated\n",
      "Reading C:\\Users\\Olle de Jong\\Documents\\MSc Biology\\rp2\\rp2_data\\resting_state\\output\\epochs\\filtered_epochs_resting_state_80625-epo.fif ...\n",
      "Isotrak not found\n",
      "    Found the data of interest:\n",
      "        t =       0.00 ...    4998.53 ms\n",
      "        0 CTF compensation matrices available\n",
      "Adding metadata with 3 columns\n",
      "938 matching events found\n",
      "No baseline correction applied\n",
      "0 projection items activated\n",
      "Reading C:\\Users\\Olle de Jong\\Documents\\MSc Biology\\rp2\\rp2_data\\resting_state\\output\\epochs\\filtered_epochs_resting_state_80630-epo.fif ...\n",
      "Isotrak not found\n",
      "    Found the data of interest:\n",
      "        t =       0.00 ...    4998.53 ms\n",
      "        0 CTF compensation matrices available\n",
      "Adding metadata with 3 columns\n",
      "2244 matching events found\n",
      "No baseline correction applied\n",
      "0 projection items activated\n",
      "Reading C:\\Users\\Olle de Jong\\Documents\\MSc Biology\\rp2\\rp2_data\\resting_state\\output\\epochs\\filtered_epochs_resting_state_81175-epo.fif ...\n",
      "Isotrak not found\n",
      "    Found the data of interest:\n",
      "        t =       0.00 ...    4998.53 ms\n",
      "        0 CTF compensation matrices available\n",
      "Adding metadata with 3 columns\n",
      "2384 matching events found\n",
      "No baseline correction applied\n",
      "0 projection items activated\n",
      "Reading C:\\Users\\Olle de Jong\\Documents\\MSc Biology\\rp2\\rp2_data\\resting_state\\output\\epochs\\filtered_epochs_resting_state_81193-epo.fif ...\n",
      "Isotrak not found\n",
      "    Found the data of interest:\n",
      "        t =       0.00 ...    4998.53 ms\n",
      "        0 CTF compensation matrices available\n",
      "Adding metadata with 3 columns\n",
      "2005 matching events found\n",
      "No baseline correction applied\n",
      "0 projection items activated\n",
      "Reading C:\\Users\\Olle de Jong\\Documents\\MSc Biology\\rp2\\rp2_data\\resting_state\\output\\epochs\\filtered_epochs_resting_state_81207-epo.fif ...\n",
      "Isotrak not found\n",
      "    Found the data of interest:\n",
      "        t =       0.00 ...    4998.53 ms\n",
      "        0 CTF compensation matrices available\n",
      "Adding metadata with 3 columns\n",
      "1956 matching events found\n",
      "No baseline correction applied\n",
      "0 projection items activated\n",
      "Reading C:\\Users\\Olle de Jong\\Documents\\MSc Biology\\rp2\\rp2_data\\resting_state\\output\\epochs\\filtered_epochs_resting_state_81217-epo.fif ...\n",
      "Isotrak not found\n",
      "    Found the data of interest:\n",
      "        t =       0.00 ...    4998.53 ms\n",
      "        0 CTF compensation matrices available\n",
      "Adding metadata with 3 columns\n",
      "682 matching events found\n",
      "No baseline correction applied\n",
      "0 projection items activated\n",
      "Reading C:\\Users\\Olle de Jong\\Documents\\MSc Biology\\rp2\\rp2_data\\resting_state\\output\\epochs\\filtered_epochs_resting_state_81218-epo.fif ...\n",
      "Isotrak not found\n",
      "    Found the data of interest:\n",
      "        t =       0.00 ...    4998.53 ms\n",
      "        0 CTF compensation matrices available\n",
      "Adding metadata with 3 columns\n",
      "2371 matching events found\n",
      "No baseline correction applied\n",
      "0 projection items activated\n"
     ]
    }
   ],
   "source": [
    "epoch_objects = []\n",
    "for file in os.listdir(epoch_folder):\n",
    "    if not \"filtered_epochs_r\" in file: # skipping entire KO/WT filtered epoch objects and raw epoch objects\n",
    "        continue\n",
    "    epoch_objects.append(mne.read_epochs(os.path.join(epoch_folder, file), preload=True))"
   ],
   "metadata": {
    "collapsed": false,
    "ExecuteTime": {
     "end_time": "2024-02-09T08:49:44.548422500Z",
     "start_time": "2024-02-09T08:48:29.281380700Z"
    }
   },
   "id": "3a6ce9be36a05655",
   "execution_count": 14
  },
  {
   "cell_type": "markdown",
   "source": [
    "Let's split up the filtered epoch array objects into WT and KO"
   ],
   "metadata": {
    "collapsed": false
   },
   "id": "82cbba2c8e6fd80c"
  },
  {
   "cell_type": "code",
   "outputs": [
    {
     "name": "stdout",
     "output_type": "stream",
     "text": [
      "8 10\n"
     ]
    }
   ],
   "source": [
    "filtered_epochs_per_subj_WT = []\n",
    "filtered_epochs_per_subj_KO = []\n",
    "# split WT and KO epoch objects\n",
    "[filtered_epochs_per_subj_WT.append(object) if object.metadata[\"genotype\"][0] == \"DRD2-WT\" else filtered_epochs_per_subj_KO.append(object) for object in epoch_objects]\n",
    "print(len(filtered_epochs_per_subj_WT), len(filtered_epochs_per_subj_KO))"
   ],
   "metadata": {
    "collapsed": false,
    "ExecuteTime": {
     "end_time": "2024-02-09T08:50:35.577739900Z",
     "start_time": "2024-02-09T08:50:35.521953500Z"
    }
   },
   "id": "b4c434962740fce7",
   "execution_count": 15
  },
  {
   "cell_type": "markdown",
   "source": [
    "Let's report the average number of epochs that passed the filtering (WT vs KO) "
   ],
   "metadata": {
    "collapsed": false
   },
   "id": "ea00d9405d22f4fb"
  },
  {
   "cell_type": "code",
   "outputs": [
    {
     "name": "stdout",
     "output_type": "stream",
     "text": [
      "Average number of epochs for DRD2-WT subjects:  1757.375\n",
      "Average number of epochs for DRD2-KO subjects:  1418.4\n"
     ]
    }
   ],
   "source": [
    "num_epochs_wt = [len(epoch_obj) for epoch_obj in filtered_epochs_per_subj_WT]\n",
    "num_epochs_ko = [len(epoch_obj) for epoch_obj in filtered_epochs_per_subj_KO]\n",
    "print(\"Average number of epochs for DRD2-WT subjects: \", np.mean(num_epochs_wt))\n",
    "print(\"Average number of epochs for DRD2-KO subjects: \", np.mean(num_epochs_ko))"
   ],
   "metadata": {
    "collapsed": false,
    "ExecuteTime": {
     "end_time": "2024-02-08T13:17:57.229857500Z",
     "start_time": "2024-02-08T13:17:57.213954800Z"
    }
   },
   "id": "1d991d3e007ce190",
   "execution_count": 10
  },
  {
   "cell_type": "markdown",
   "source": [
    "### Average PSD of all epochs per subject (WT/KO)\n",
    "\n",
    "We now want to generate a figure per channel that displays the average PSD traces of all distinct subjects with a certain genotype (WT or DRD2-KO), while also plotting again the average of those traces. This way we can see how much each subject influences the total average PSD in a certain genotype.\n",
    "\n",
    "Let's first create the data that is needed to plot this. This might take a while to run."
   ],
   "metadata": {
    "collapsed": false
   },
   "id": "b2ebe483cc5f0c23"
  },
  {
   "cell_type": "code",
   "outputs": [],
   "source": [
    "# let's create a chan name list that does not contain the EMG chans (reused quite often)\n",
    "wanted_chans = [channel for channel in filtered_epochs_per_subj_WT[0].info[\"ch_names\"] if channel not in ['EMG_L', 'EMG_R']]"
   ],
   "metadata": {
    "collapsed": false
   },
   "id": "d09c34177590072e",
   "execution_count": 0
  },
  {
   "cell_type": "code",
   "execution_count": null,
   "outputs": [],
   "source": [
    "freqs = np.array([])\n",
    "\n",
    "# we want to plot for every channel\n",
    "df_av_psds_WT = pd.DataFrame([])\n",
    "df_av_psds_KO = pd.DataFrame([])\n",
    "\n",
    "df_subj_psds_WT = pd.DataFrame([])\n",
    "df_subj_psds_KO = pd.DataFrame([])\n",
    "\n",
    "for channel in wanted_chans:\n",
    "\n",
    "    channel_psds_WT = pd.DataFrame([])\n",
    "    channel_psds_KO = pd.DataFrame([])\n",
    "\n",
    "    # calculate the average PSD of all epochs of each WT subject  # TODO code can be more efficient when looping through all subjects and using 'subj_epochs.metadata[\"genotype\"][0] == \"DRD2-WT\"'\n",
    "    for subject_wt in filtered_epochs_per_subj_WT:\n",
    "        id_WT = subject_wt.metadata[\"animal_id\"][0]\n",
    "        psds_WT, freqs = psd_array_multitaper(subject_wt.get_data(picks=channel), fmin=0, fmax=100, sfreq=subject_wt.info['sfreq'], n_jobs=-1)\n",
    "        channel_psds_WT[f\"{id_WT}-{channel}\"] = np.mean(psds_WT[:, 0, :], axis=0)  # take the average of the psds of all epochs\n",
    "\n",
    "    # calculate the average PSD of all epochs of each KO subject\n",
    "    for subject_ko in filtered_epochs_per_subj_KO:\n",
    "        id_KO = subject_ko.metadata[\"animal_id\"][0]\n",
    "        psds_KO, freqs = psd_array_multitaper(subject_ko.get_data(picks=channel), fmin=0, fmax=100, sfreq=subject_ko.info['sfreq'], n_jobs=-1)\n",
    "        channel_psds_KO[f\"{id_KO}-{channel}\"] = np.mean(psds_KO[:, 0, :], axis=0)  # take the average of the psds of all epochs\n",
    "\n",
    "    # add the individual psd means to the larger dataframe\n",
    "    df_subj_psds_WT = pd.concat([df_subj_psds_WT, channel_psds_WT], axis=1)\n",
    "    df_subj_psds_KO = pd.concat([df_subj_psds_KO, channel_psds_KO], axis=1)\n",
    "\n",
    "    # save the averaged subject psds (after this there's one trace for KO and WT)\n",
    "    df_av_psds_WT['freqs'] = freqs\n",
    "    df_av_psds_KO['freqs'] = freqs\n",
    "    df_av_psds_WT[channel] = channel_psds_WT.mean(axis=1)\n",
    "    df_av_psds_KO[channel] = channel_psds_KO.mean(axis=1)"
   ],
   "metadata": {
    "collapsed": false
   },
   "id": "575ae4fd4b39b1e6"
  },
  {
   "cell_type": "markdown",
   "source": [
    "Let's generate all the desired plots; one per channel for both WT and KO. Each plot contains the average PSD per subject for that channel, as well as the average of those."
   ],
   "metadata": {
    "collapsed": false
   },
   "id": "23e98ba0f51560c4"
  },
  {
   "cell_type": "code",
   "execution_count": 61,
   "outputs": [],
   "source": [
    "# df_av_psds_WT: holds WT total average PSD and freqs (x-axis for our plots)\n",
    "# df_av_psds_KO: holds KO total average PSD and freqs (x-axis for our plots)\n",
    "# df_subj_psds_WT: holds WT average PSD traces per channel for all subjects\n",
    "# df_subj_psds_KO: holds KO average PSD traces per channel for all subjects\n",
    "\n",
    "# loop through the two genotypes and their accompanying dataframe holding the indivudal subject's psd averages per channel\n",
    "for genotype, df_subj_psds in zip([\"DRD2-WT\", \"DRD2-KO\"], [df_subj_psds_WT, df_subj_psds_KO]):\n",
    "    freqs = df_av_psds_WT.freqs  # doesn't matter which one we retrieve (are equal)\n",
    "\n",
    "    # we want to create a plot per genotype and channel\n",
    "    for channel in wanted_chans:\n",
    "        fig, ax = plt.subplots(figsize=(12, 8))  # initiate plot\n",
    "        cols_to_plot = [col for col in df_subj_psds.columns if channel in col]\n",
    "\n",
    "        # plot the PSD for every subject for this channel\n",
    "        for col in cols_to_plot:\n",
    "            subj_id = int(col.split('-')[0])  # subject id from column name\n",
    "            ax.plot(freqs, 10 * np.log10(df_subj_psds[col]), label=f\"id: {subj_id}\", linewidth=0.8, alpha=0.6)\n",
    "\n",
    "        # add average of the psd of all WT subjects for this channel\n",
    "        av_psd_of_all_subj = df_av_psds_WT[channel] if genotype == \"DRD2-WT\" else df_av_psds_KO[channel]\n",
    "        ax.plot(freqs, 10 * np.log10(av_psd_of_all_subj), label=\"Average\", linewidth=3, color=\"#c23616\" if genotype == \"DRD2-KO\" else \"#0097e6\", alpha=1.0)\n",
    "\n",
    "        # add axis labels and title\n",
    "        ax.set_xlabel('Frequency (Hz)')\n",
    "        ax.set_ylabel('Power/Frequency (dB/Hz)')\n",
    "        ax.set_title(f'Average PSD of {genotype} subjects - {channel}')\n",
    "        plt.legend()\n",
    "        plt.savefig(os.path.join(plot_folder, f\"averaged_per_subject/averaged_per_subj_{genotype}_{channel}.png\"), bbox_inches=\"tight\", dpi=300)\n",
    "        plt.close()"
   ],
   "metadata": {
    "collapsed": false,
    "ExecuteTime": {
     "end_time": "2024-02-08T14:48:20.769858700Z",
     "start_time": "2024-02-08T14:48:14.820791200Z"
    }
   },
   "id": "c6124f8b4fb3a36b"
  },
  {
   "cell_type": "markdown",
   "source": [
    "Now let's create one figure where we include all subjects (separate them by color), and the averages of WT and KO."
   ],
   "metadata": {
    "collapsed": false
   },
   "id": "299707d5f9c438d6"
  },
  {
   "cell_type": "code",
   "execution_count": 65,
   "outputs": [],
   "source": [
    "for channel in wanted_chans:\n",
    "    fig, ax = plt.subplots(figsize=(12, 8))  # initiate plot\n",
    "\n",
    "    for genotype, df_subj_psds in zip([\"DRD2-WT\", \"DRD2-KO\"], [df_subj_psds_WT, df_subj_psds_KO]):\n",
    "\n",
    "        cols_to_plot = [col for col in df_subj_psds.columns if channel in col]\n",
    "\n",
    "        # plot the PSD for every subject for this channel\n",
    "        for col in cols_to_plot:\n",
    "            subj_id = int(col.split('-')[0])  # subject id from column name\n",
    "            ax.plot(freqs, 10 * np.log10(df_subj_psds[col]), linewidth=0.8, alpha=0.4, color=\"#c23616\" if genotype == \"DRD2-KO\" else \"#0097e6\")\n",
    "\n",
    "        # add average of the psd of all WT subjects for this channel\n",
    "        av_psd_of_all_subj = df_av_psds_WT[channel] if genotype == \"DRD2-WT\" else df_av_psds_KO[channel]\n",
    "        ax.plot(freqs, 10 * np.log10(av_psd_of_all_subj), label=f\"{'WT' if genotype == 'DRD2-WT' else 'KO'} Average\", linewidth=3, color=\"#c23616\" if genotype == \"DRD2-KO\" else \"#0097e6\", alpha=1.0)\n",
    "\n",
    "    # add axis labels and title\n",
    "    ax.set_xlabel('Frequency (Hz)')\n",
    "    ax.set_ylabel('Power/Frequency (dB/Hz)')\n",
    "    ax.set_title(f'Average PSD - {channel}')\n",
    "    plt.legend()\n",
    "    plt.savefig(os.path.join(plot_folder, f\"averaged_per_subj_combined_{channel}.png\"), bbox_inches=\"tight\", dpi=300)\n",
    "    plt.close()"
   ],
   "metadata": {
    "collapsed": false,
    "ExecuteTime": {
     "end_time": "2024-02-08T15:04:59.902233100Z",
     "start_time": "2024-02-08T15:04:57.071984800Z"
    }
   },
   "id": "f437e76f895513e5"
  },
  {
   "cell_type": "markdown",
   "source": [
    "### Contribution of individual epochs to subject average\n",
    "\n",
    "This plotting chunk can take a while since it generates (n-subjects x n-channels) plots."
   ],
   "metadata": {
    "collapsed": false
   },
   "id": "c3ac68ad5c755f2e"
  },
  {
   "cell_type": "code",
   "outputs": [
    {
     "name": "stdout",
     "output_type": "stream",
     "text": [
      "    Using multitaper spectrum estimation with 7 DPSS windows\n"
     ]
    },
    {
     "name": "stderr",
     "output_type": "stream",
     "text": [
      "C:\\Users\\Olle de Jong\\AppData\\Local\\Temp\\ipykernel_10908\\1184373693.py:13: RuntimeWarning: divide by zero encountered in log10\n",
      "  ax.plot(freqs, 10 * np.log10(psds[i, 0, :]), linewidth=0.1, alpha=0.1, color=\"grey\")\n"
     ]
    },
    {
     "name": "stdout",
     "output_type": "stream",
     "text": [
      "    Using multitaper spectrum estimation with 7 DPSS windows\n",
      "    Using multitaper spectrum estimation with 7 DPSS windows\n",
      "    Using multitaper spectrum estimation with 7 DPSS windows\n",
      "    Using multitaper spectrum estimation with 7 DPSS windows\n",
      "    Using multitaper spectrum estimation with 7 DPSS windows\n",
      "    Using multitaper spectrum estimation with 7 DPSS windows\n",
      "    Using multitaper spectrum estimation with 7 DPSS windows\n",
      "    Using multitaper spectrum estimation with 7 DPSS windows\n",
      "    Using multitaper spectrum estimation with 7 DPSS windows\n",
      "    Using multitaper spectrum estimation with 7 DPSS windows\n",
      "    Using multitaper spectrum estimation with 7 DPSS windows\n",
      "    Using multitaper spectrum estimation with 7 DPSS windows\n",
      "    Using multitaper spectrum estimation with 7 DPSS windows\n",
      "    Using multitaper spectrum estimation with 7 DPSS windows\n",
      "    Using multitaper spectrum estimation with 7 DPSS windows\n",
      "    Using multitaper spectrum estimation with 7 DPSS windows\n",
      "    Using multitaper spectrum estimation with 7 DPSS windows\n",
      "    Using multitaper spectrum estimation with 7 DPSS windows\n",
      "    Using multitaper spectrum estimation with 7 DPSS windows\n",
      "    Using multitaper spectrum estimation with 7 DPSS windows\n",
      "    Using multitaper spectrum estimation with 7 DPSS windows\n",
      "    Using multitaper spectrum estimation with 7 DPSS windows\n",
      "    Using multitaper spectrum estimation with 7 DPSS windows\n",
      "    Using multitaper spectrum estimation with 7 DPSS windows\n",
      "    Using multitaper spectrum estimation with 7 DPSS windows\n",
      "    Using multitaper spectrum estimation with 7 DPSS windows\n",
      "    Using multitaper spectrum estimation with 7 DPSS windows\n",
      "    Using multitaper spectrum estimation with 7 DPSS windows\n",
      "    Using multitaper spectrum estimation with 7 DPSS windows\n",
      "    Using multitaper spectrum estimation with 7 DPSS windows\n",
      "    Using multitaper spectrum estimation with 7 DPSS windows\n",
      "    Using multitaper spectrum estimation with 7 DPSS windows\n",
      "    Using multitaper spectrum estimation with 7 DPSS windows\n",
      "    Using multitaper spectrum estimation with 7 DPSS windows\n",
      "    Using multitaper spectrum estimation with 7 DPSS windows\n",
      "    Using multitaper spectrum estimation with 7 DPSS windows\n",
      "    Using multitaper spectrum estimation with 7 DPSS windows\n",
      "    Using multitaper spectrum estimation with 7 DPSS windows\n",
      "    Using multitaper spectrum estimation with 7 DPSS windows\n",
      "    Using multitaper spectrum estimation with 7 DPSS windows\n",
      "    Using multitaper spectrum estimation with 7 DPSS windows\n",
      "    Using multitaper spectrum estimation with 7 DPSS windows\n",
      "    Using multitaper spectrum estimation with 7 DPSS windows\n",
      "    Using multitaper spectrum estimation with 7 DPSS windows\n",
      "    Using multitaper spectrum estimation with 7 DPSS windows\n",
      "    Using multitaper spectrum estimation with 7 DPSS windows\n",
      "    Using multitaper spectrum estimation with 7 DPSS windows\n",
      "    Using multitaper spectrum estimation with 7 DPSS windows\n",
      "    Using multitaper spectrum estimation with 7 DPSS windows\n",
      "    Using multitaper spectrum estimation with 7 DPSS windows\n",
      "    Using multitaper spectrum estimation with 7 DPSS windows\n",
      "    Using multitaper spectrum estimation with 7 DPSS windows\n",
      "    Using multitaper spectrum estimation with 7 DPSS windows\n",
      "    Using multitaper spectrum estimation with 7 DPSS windows\n",
      "    Using multitaper spectrum estimation with 7 DPSS windows\n",
      "    Using multitaper spectrum estimation with 7 DPSS windows\n",
      "    Using multitaper spectrum estimation with 7 DPSS windows\n",
      "    Using multitaper spectrum estimation with 7 DPSS windows\n",
      "    Using multitaper spectrum estimation with 7 DPSS windows\n",
      "    Using multitaper spectrum estimation with 7 DPSS windows\n",
      "    Using multitaper spectrum estimation with 7 DPSS windows\n",
      "    Using multitaper spectrum estimation with 7 DPSS windows\n",
      "    Using multitaper spectrum estimation with 7 DPSS windows\n",
      "    Using multitaper spectrum estimation with 7 DPSS windows\n",
      "    Using multitaper spectrum estimation with 7 DPSS windows\n",
      "    Using multitaper spectrum estimation with 7 DPSS windows\n",
      "    Using multitaper spectrum estimation with 7 DPSS windows\n",
      "    Using multitaper spectrum estimation with 7 DPSS windows\n",
      "    Using multitaper spectrum estimation with 7 DPSS windows\n",
      "    Using multitaper spectrum estimation with 7 DPSS windows\n",
      "    Using multitaper spectrum estimation with 7 DPSS windows\n",
      "    Using multitaper spectrum estimation with 7 DPSS windows\n",
      "    Using multitaper spectrum estimation with 7 DPSS windows\n",
      "    Using multitaper spectrum estimation with 7 DPSS windows\n",
      "    Using multitaper spectrum estimation with 7 DPSS windows\n",
      "    Using multitaper spectrum estimation with 7 DPSS windows\n",
      "    Using multitaper spectrum estimation with 7 DPSS windows\n",
      "    Using multitaper spectrum estimation with 7 DPSS windows\n",
      "    Using multitaper spectrum estimation with 7 DPSS windows\n",
      "    Using multitaper spectrum estimation with 7 DPSS windows\n",
      "    Using multitaper spectrum estimation with 7 DPSS windows\n",
      "    Using multitaper spectrum estimation with 7 DPSS windows\n",
      "    Using multitaper spectrum estimation with 7 DPSS windows\n",
      "    Using multitaper spectrum estimation with 7 DPSS windows\n",
      "    Using multitaper spectrum estimation with 7 DPSS windows\n",
      "    Using multitaper spectrum estimation with 7 DPSS windows\n",
      "    Using multitaper spectrum estimation with 7 DPSS windows\n",
      "    Using multitaper spectrum estimation with 7 DPSS windows\n",
      "    Using multitaper spectrum estimation with 7 DPSS windows\n",
      "    Using multitaper spectrum estimation with 7 DPSS windows\n",
      "    Using multitaper spectrum estimation with 7 DPSS windows\n",
      "    Using multitaper spectrum estimation with 7 DPSS windows\n",
      "    Using multitaper spectrum estimation with 7 DPSS windows\n",
      "    Using multitaper spectrum estimation with 7 DPSS windows\n",
      "    Using multitaper spectrum estimation with 7 DPSS windows\n",
      "    Using multitaper spectrum estimation with 7 DPSS windows\n",
      "    Using multitaper spectrum estimation with 7 DPSS windows\n",
      "    Using multitaper spectrum estimation with 7 DPSS windows\n",
      "    Using multitaper spectrum estimation with 7 DPSS windows\n",
      "    Using multitaper spectrum estimation with 7 DPSS windows\n",
      "    Using multitaper spectrum estimation with 7 DPSS windows\n",
      "    Using multitaper spectrum estimation with 7 DPSS windows\n",
      "    Using multitaper spectrum estimation with 7 DPSS windows\n",
      "    Using multitaper spectrum estimation with 7 DPSS windows\n",
      "    Using multitaper spectrum estimation with 7 DPSS windows\n",
      "    Using multitaper spectrum estimation with 7 DPSS windows\n",
      "    Using multitaper spectrum estimation with 7 DPSS windows\n",
      "    Using multitaper spectrum estimation with 7 DPSS windows\n",
      "    Using multitaper spectrum estimation with 7 DPSS windows\n",
      "    Using multitaper spectrum estimation with 7 DPSS windows\n",
      "    Using multitaper spectrum estimation with 7 DPSS windows\n",
      "    Using multitaper spectrum estimation with 7 DPSS windows\n",
      "    Using multitaper spectrum estimation with 7 DPSS windows\n",
      "    Using multitaper spectrum estimation with 7 DPSS windows\n",
      "    Using multitaper spectrum estimation with 7 DPSS windows\n",
      "    Using multitaper spectrum estimation with 7 DPSS windows\n",
      "    Using multitaper spectrum estimation with 7 DPSS windows\n",
      "    Using multitaper spectrum estimation with 7 DPSS windows\n",
      "    Using multitaper spectrum estimation with 7 DPSS windows\n",
      "    Using multitaper spectrum estimation with 7 DPSS windows\n",
      "    Using multitaper spectrum estimation with 7 DPSS windows\n",
      "    Using multitaper spectrum estimation with 7 DPSS windows\n",
      "    Using multitaper spectrum estimation with 7 DPSS windows\n",
      "    Using multitaper spectrum estimation with 7 DPSS windows\n",
      "    Using multitaper spectrum estimation with 7 DPSS windows\n"
     ]
    }
   ],
   "source": [
    "# we want to generate a plot for every channel (wt / ko)\n",
    "for subject in epoch_objects:\n",
    "    genotype_short = 'KO' if subject.metadata[\"genotype\"][0] == 'DRD2-KO' else 'WT'\n",
    "    \n",
    "    for channel in wanted_chans:\n",
    "        fig, ax = plt.subplots(figsize=(12, 8))  # initiate plot\n",
    "\n",
    "        subj_id = subject.metadata[\"animal_id\"][0]\n",
    "        psds, freqs = psd_array_multitaper(subject.get_data(picks=channel), fmin=0, fmax=100, sfreq=subject.info['sfreq'], n_jobs=-1)\n",
    "        subj_mean_psd = np.mean(psds[:, 0, :], axis=0)  # take the average of the psds of all epochs\n",
    "        \n",
    "        for i in range(psds.shape[0]):\n",
    "            ax.plot(freqs, 10 * np.log10(psds[i, 0, :]), linewidth=0.1, alpha=0.1, color=\"grey\")\n",
    "        \n",
    "        ax.plot(freqs, 10 * np.log10(subj_mean_psd), label=\"Average\", linewidth=2, color=\"#c23616\" if genotype_short == \"KO\" else \"#0097e6\", alpha=1.0)\n",
    "        \n",
    "        handles, labels = ax.get_legend_handles_labels()\n",
    "        patch = mpatches.Patch(color='grey', linestyle='--', label='Individual Epochs')\n",
    "        handles.append(patch) \n",
    "\n",
    "        ax.set_xlabel('Frequency (Hz)')\n",
    "        ax.set_ylabel('Power/Frequency (dB/Hz)')\n",
    "        ax.set_title(f'Epoch (n={psds.shape[0]}) and Average PSD for subject {subj_id} ({channel})')\n",
    "        plt.legend(handles=handles)\n",
    "        plt.savefig(os.path.join(plot_folder, f\"averaged_per_subject/individual_epochs/subject_{subj_id}_{genotype_short}_{channel}.png\"), bbox_inches=\"tight\", dpi=300)\n",
    "        plt.close()"
   ],
   "metadata": {
    "collapsed": false,
    "ExecuteTime": {
     "end_time": "2024-02-09T10:06:52.680364Z",
     "start_time": "2024-02-09T09:56:15.666815300Z"
    }
   },
   "id": "99a9cf3709f7b0ac",
   "execution_count": 39
  },
  {
   "cell_type": "markdown",
   "source": [
    "### Average PSD of all epochs of a genotype (WT/KO)\n",
    "\n",
    "Now, we instead take the average PSD of all epochs of one channel for both WT and KO."
   ],
   "metadata": {
    "collapsed": false
   },
   "id": "7351eeeba8bd0ca9"
  },
  {
   "cell_type": "code",
   "execution_count": 3,
   "outputs": [
    {
     "name": "stdout",
     "output_type": "stream",
     "text": [
      "Reading C:\\Users\\Olle de Jong\\Documents\\MSc Biology\\rp2\\rp2_data\\resting_state\\output\\epochs\\filtered_epochs_WT-epo.fif ...\n",
      "Isotrak not found\n",
      "    Found the data of interest:\n",
      "        t =       0.00 ...    4998.53 ms\n",
      "        0 CTF compensation matrices available\n",
      "Reading C:\\Users\\Olle de Jong\\Documents\\MSc Biology\\rp2\\rp2_data\\resting_state\\output\\epochs\\filtered_epochs_WT-epo-1.fif ...\n",
      "Isotrak not found\n",
      "    Found the data of interest:\n",
      "        t =       0.00 ...    4998.53 ms\n",
      "        0 CTF compensation matrices available\n",
      "Adding metadata with 3 columns\n",
      "14059 matching events found\n",
      "No baseline correction applied\n",
      "0 projection items activated\n",
      "Reading C:\\Users\\Olle de Jong\\Documents\\MSc Biology\\rp2\\rp2_data\\resting_state\\output\\epochs\\filtered_epochs_KO-epo.fif ...\n",
      "Isotrak not found\n",
      "    Found the data of interest:\n",
      "        t =       0.00 ...    4998.53 ms\n",
      "        0 CTF compensation matrices available\n",
      "Reading C:\\Users\\Olle de Jong\\Documents\\MSc Biology\\rp2\\rp2_data\\resting_state\\output\\epochs\\filtered_epochs_KO-epo-1.fif ...\n",
      "Isotrak not found\n",
      "    Found the data of interest:\n",
      "        t =       0.00 ...    4998.53 ms\n",
      "        0 CTF compensation matrices available\n",
      "Adding metadata with 3 columns\n",
      "14184 matching events found\n",
      "No baseline correction applied\n",
      "0 projection items activated\n"
     ]
    }
   ],
   "source": [
    "# let's load the two files that hold either all WT or KO combined epochs\n",
    "wt_epochs = mne.read_epochs(os.path.join(epoch_folder, \"filtered_epochs_WT-epo.fif\"), preload=True)\n",
    "ko_epochs = mne.read_epochs(os.path.join(epoch_folder, \"filtered_epochs_KO-epo.fif\"), preload=True)"
   ],
   "metadata": {
    "collapsed": false,
    "ExecuteTime": {
     "end_time": "2024-02-09T08:28:21.887025Z",
     "start_time": "2024-02-09T08:27:56.670522800Z"
    }
   },
   "id": "2c214b88af75c38a"
  },
  {
   "cell_type": "code",
   "execution_count": 4,
   "outputs": [
    {
     "name": "stdout",
     "output_type": "stream",
     "text": [
      "Number of DRD2-WT and DRD2-KO epochs, respectively: 14059, 14184\n"
     ]
    }
   ],
   "source": [
    "print(f\"Number of DRD2-WT and DRD2-KO epochs, respectively: {len(wt_epochs)}, {len(ko_epochs)}\")"
   ],
   "metadata": {
    "collapsed": false,
    "ExecuteTime": {
     "end_time": "2024-02-09T08:40:02.229695Z",
     "start_time": "2024-02-09T08:40:02.217786800Z"
    }
   },
   "id": "ff6b8e86f13a0965"
  },
  {
   "cell_type": "code",
   "outputs": [],
   "source": [
    "wanted_chans = [channel for channel in wt_epochs.info[\"ch_names\"] if not channel in ['EMG_L', 'EMG_R']]"
   ],
   "metadata": {
    "collapsed": false,
    "ExecuteTime": {
     "end_time": "2024-02-09T08:41:55.783590400Z",
     "start_time": "2024-02-09T08:41:55.772222400Z"
    }
   },
   "id": "354fbaffc493481f",
   "execution_count": 6
  },
  {
   "cell_type": "code",
   "outputs": [
    {
     "name": "stdout",
     "output_type": "stream",
     "text": [
      "    Using multitaper spectrum estimation with 7 DPSS windows\n",
      "    Using multitaper spectrum estimation with 7 DPSS windows\n",
      "    Using multitaper spectrum estimation with 7 DPSS windows\n",
      "    Using multitaper spectrum estimation with 7 DPSS windows\n",
      "    Using multitaper spectrum estimation with 7 DPSS windows\n",
      "    Using multitaper spectrum estimation with 7 DPSS windows\n",
      "    Using multitaper spectrum estimation with 7 DPSS windows\n",
      "    Using multitaper spectrum estimation with 7 DPSS windows\n",
      "    Using multitaper spectrum estimation with 7 DPSS windows\n",
      "    Using multitaper spectrum estimation with 7 DPSS windows\n",
      "    Using multitaper spectrum estimation with 7 DPSS windows\n",
      "    Using multitaper spectrum estimation with 7 DPSS windows\n",
      "    Using multitaper spectrum estimation with 7 DPSS windows\n",
      "    Using multitaper spectrum estimation with 7 DPSS windows\n"
     ]
    }
   ],
   "source": [
    "# loop through desired channels\n",
    "for chan in wanted_chans:\n",
    "    # calculate the psd of all epochs in both WT and KO for this channel\n",
    "    psds_wt, freqs = psd_array_multitaper(wt_epochs.get_data(picks=chan), fmin=0, fmax=100, sfreq=wt_epochs.info['sfreq'])\n",
    "    psds_ko, freqs = psd_array_multitaper(ko_epochs.get_data(picks=chan), fmin=0, fmax=100, sfreq=ko_epochs.info['sfreq'])\n",
    "\n",
    "    # take the average of all epochs in this channel\n",
    "    mean_psd_wt = np.mean(psds_wt[:, 0, :], axis=0)\n",
    "    mean_psd_ko = np.mean(psds_ko[:, 0, :], axis=0)\n",
    "\n",
    "    # conf_int_wt = 1.96 * np.std(psds_wt[:, 0, :], axis=0) / np.sqrt(psds_wt.shape[0])  # 95% confidence interval\n",
    "    # conf_int_ko = 1.96 * np.std(psds_ko[:, 0, :], axis=0) / np.sqrt(psds_ko.shape[0])  # 95% confidence interval\n",
    "\n",
    "    fig, ax = plt.subplots(figsize=(8, 6))\n",
    "    ax.plot(freqs, 10 * np.log10(mean_psd_wt), label='DRD2-WT', color=\"#0097e6\")\n",
    "    ax.plot(freqs, 10 * np.log10(mean_psd_ko), label='DRD2-KO', color=\"#c23616\")\n",
    "    # ax.fill_between(freqs, 10 * np.log10(mean_psd_wt - conf_int_wt), 10 * np.log10(mean_psd_wt + conf_int_wt), alpha=0.2)\n",
    "    # ax.fill_between(freqs, 10 * np.log10(mean_psd_ko - conf_int_ko), 10 * np.log10(mean_psd_ko + conf_int_ko), alpha=0.2)\n",
    "    ax.set_xlabel('Frequency (Hz)')\n",
    "    ax.set_ylabel('Power/Frequency (dB/Hz)')\n",
    "    ax.set_title(f'Average PSD - Channel {chan}')\n",
    "    plt.legend()\n",
    "    plt.savefig(os.path.join(plot_folder, f\"averaged_all_epochs/psd_wt_vs_ko_{chan}.png\"), dpi=300, bbox_inches='tight')\n",
    "    plt.close()"
   ],
   "metadata": {
    "collapsed": false,
    "ExecuteTime": {
     "end_time": "2024-02-09T08:47:44.504931500Z",
     "start_time": "2024-02-09T08:46:18.683309500Z"
    }
   },
   "id": "3db4d9d719f14354",
   "execution_count": 13
  }
 ],
 "metadata": {
  "kernelspec": {
   "display_name": "Python 3",
   "language": "python",
   "name": "python3"
  },
  "language_info": {
   "codemirror_mode": {
    "name": "ipython",
    "version": 2
   },
   "file_extension": ".py",
   "mimetype": "text/x-python",
   "name": "python",
   "nbconvert_exporter": "python",
   "pygments_lexer": "ipython2",
   "version": "2.7.6"
  }
 },
 "nbformat": 4,
 "nbformat_minor": 5
}
