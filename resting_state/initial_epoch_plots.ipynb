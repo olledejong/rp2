{
 "cells": [
  {
   "cell_type": "markdown",
   "source": [
    "### Notebook for generating grid PSD plots"
   ],
   "metadata": {
    "collapsed": false
   },
   "id": "46642568f2c34b95"
  },
  {
   "cell_type": "code",
   "outputs": [],
   "source": [
    "import os\n",
    "import mne\n",
    "import numpy as np\n",
    "import pandas as pd\n",
    "import seaborn as sns\n",
    "import matplotlib.pyplot as plt\n",
    "from mne.time_frequency import psd_array_multitaper\n",
    "\n",
    "from shared.helper_functions import save_figure\n",
    "from resting_state.settings import paths_resting_state"
   ],
   "metadata": {
    "collapsed": false,
    "ExecuteTime": {
     "end_time": "2024-02-28T10:52:28.949006Z",
     "start_time": "2024-02-28T10:52:28.570426Z"
    }
   },
   "id": "f23abc41a6c93fb5",
   "execution_count": 1
  },
  {
   "cell_type": "code",
   "outputs": [],
   "source": [
    "epoch_folder = paths_resting_state['epochs_folder']\n",
    "plot_folder = paths_resting_state['plots_folder']"
   ],
   "metadata": {
    "collapsed": false,
    "ExecuteTime": {
     "end_time": "2024-02-28T12:47:42.033707Z",
     "start_time": "2024-02-28T12:47:41.977603Z"
    }
   },
   "id": "5dbd584b3eda424e",
   "execution_count": 12
  },
  {
   "cell_type": "code",
   "outputs": [],
   "source": [
    "freq_bands = {\n",
    "    r'$\\delta$': (1, 4),  # Delta\n",
    "    r'$\\theta$': (4, 8),  # Theta\n",
    "    r'$\\alpha$': (8, 13),  # Alpha\n",
    "    r'$\\beta$': (13, 30),  # Beta\n",
    "    r'$\\gamma$': (30, 100)  # Gamma\n",
    "}"
   ],
   "metadata": {
    "collapsed": false,
    "ExecuteTime": {
     "end_time": "2024-02-28T10:52:41.387579Z",
     "start_time": "2024-02-28T10:52:41.382592Z"
    }
   },
   "id": "82ec991c7c2026d9",
   "execution_count": 3
  },
  {
   "cell_type": "markdown",
   "source": [
    "Let's load the epoch objects"
   ],
   "metadata": {
    "collapsed": false
   },
   "id": "5e768b05d32d70cd"
  },
  {
   "cell_type": "code",
   "outputs": [],
   "source": [
    "epoch_objects = []\n",
    "for file in os.listdir(epoch_folder):\n",
    "    if not \"filtered_epochs_r\" in file: # skipping entire KO/WT filtered epoch objects and raw epoch objects\n",
    "        continue\n",
    "    epoch_objects.append(mne.read_epochs(os.path.join(epoch_folder, file), preload=True))"
   ],
   "metadata": {
    "collapsed": false,
    "ExecuteTime": {
     "end_time": "2024-02-28T10:54:59.266007Z",
     "start_time": "2024-02-28T10:52:42.623842Z"
    }
   },
   "id": "754177f7c169b477",
   "execution_count": 4
  },
  {
   "cell_type": "markdown",
   "source": [
    "Establish a dictionary holding channels to be omitted from consideration because of quality issues (or extreme outliers)"
   ],
   "metadata": {
    "collapsed": false
   },
   "id": "6bef542bf54e04e1"
  },
  {
   "cell_type": "code",
   "outputs": [],
   "source": [
    "bad_epochs_per_subject = {\n",
    "    \"80630\": [\"OFC_R\"],\n",
    "    \"39489\": [\"OFC_R\"],\n",
    "    \"80625\": [\"OFC_L\"],\n",
    "    \"81193\": [\"OFC_R\", \"OFC_L\"]\n",
    "}"
   ],
   "metadata": {
    "collapsed": false
   },
   "id": "26bbf714d32d0bdc",
   "execution_count": 5
  },
  {
   "cell_type": "markdown",
   "source": [
    "Get the names of the channels we want to plot"
   ],
   "metadata": {
    "collapsed": false
   },
   "id": "89b0d3365ead5124"
  },
  {
   "cell_type": "code",
   "outputs": [
    {
     "data": {
      "text/plain": "['OFC_R', 'OFC_L', 'CG', 'STR_R', 'S1_L', 'S1_R', 'V1_R']"
     },
     "execution_count": 6,
     "metadata": {},
     "output_type": "execute_result"
    }
   ],
   "source": [
    "wanted_chans = [channel for channel in epoch_objects[0].info[\"ch_names\"] if not channel in ['EMG_L', 'EMG_R']]\n",
    "wanted_chans"
   ],
   "metadata": {
    "collapsed": false
   },
   "id": "9bdef59a4d747d96",
   "execution_count": 6
  },
  {
   "cell_type": "markdown",
   "source": [
    "Let's generate a dataframe that holds the PSD averages for each channel for all subjects"
   ],
   "metadata": {
    "collapsed": false
   },
   "id": "66abe714a6eaed84"
  },
  {
   "cell_type": "code",
   "outputs": [
    {
     "name": "stdout",
     "output_type": "stream",
     "text": [
      "Omitting channel OFC_R for subject 81193.\n",
      "Omitting channel OFC_R for subject 39489.\n",
      "Omitting channel OFC_R for subject 80630.\n",
      "0% done..\n",
      "Omitting channel OFC_L for subject 81193.\n",
      "Omitting channel OFC_L for subject 80625.\n",
      "14% done..\n",
      "29% done..\n",
      "43% done..\n",
      "57% done..\n",
      "71% done..\n",
      "86% done..\n"
     ]
    }
   ],
   "source": [
    "df = pd.DataFrame()\n",
    "\n",
    "for i, channel in enumerate(wanted_chans):\n",
    "    for subject_epochs in epoch_objects:\n",
    "        subject_epochs = subject_epochs[:-1]  # last epoch would cause weird error (because it is 0)\n",
    "        \n",
    "        subject_id = subject_epochs.metadata[\"animal_id\"][0]\n",
    "        genotype = subject_epochs.metadata[\"genotype\"].iloc[0]\n",
    "\n",
    "        # skip plotting data of bad quality\n",
    "        if subject_id in bad_epochs_per_subject.keys():\n",
    "            if channel in bad_epochs_per_subject[subject_id]: \n",
    "                print(f\"Omitting channel {channel} for subject {subject_id}.\")\n",
    "                continue\n",
    "        \n",
    "        # get the average PSD for this subject\n",
    "        psds_sub, freqs = psd_array_multitaper(\n",
    "            subject_epochs.get_data(picks=channel),\n",
    "            fmin=0, fmax=100,\n",
    "            sfreq=subject_epochs.info['sfreq'],\n",
    "            n_jobs=-1\n",
    "        )\n",
    "        total_power = np.sum(psds_sub, axis=-1)\n",
    "        psds_sub_norm = psds_sub / total_power[:, np.newaxis]\n",
    "        \n",
    "        mean_psd_sub = np.mean(psds_sub[:, 0, :], axis=0)\n",
    "        mean_psd_sub_norm = np.mean(psds_sub_norm[:, 0, :], axis=0)\n",
    "\n",
    "        # save the average of this subject, so we can later plot the mean of the subject averages\n",
    "        df = pd.concat([df, pd.DataFrame({\n",
    "            \"freq\": freqs,\n",
    "            \"psd (means)\": mean_psd_sub,\n",
    "            \"psd (norm)\": mean_psd_sub_norm,\n",
    "            \"subject_id\": subject_id,\n",
    "            \"genotype\": genotype,\n",
    "            \"channel\": channel,\n",
    "        })])\n",
    "    print(f\"{round(i/len(wanted_chans)*100)}% done..\")"
   ],
   "metadata": {
    "collapsed": false,
    "ExecuteTime": {
     "end_time": "2024-02-28T11:18:40.984964Z",
     "start_time": "2024-02-28T10:54:59.363963Z"
    }
   },
   "id": "8a62911673ab5411",
   "execution_count": 7
  },
  {
   "cell_type": "markdown",
   "source": [
    "And now let's generate a grid plot of the PSD averages per genotype (PDF)"
   ],
   "metadata": {
    "collapsed": false
   },
   "id": "f73251259ece34b7"
  },
  {
   "cell_type": "code",
   "outputs": [],
   "source": [
    "for y_axis in ['psd (means)', 'psd (norm)']:\n",
    "    # Create a figure and axes for subplots\n",
    "    fig, axs = plt.subplots(2, 4, figsize=(35, 15), sharex=True, sharey=True)\n",
    "    axs = axs.ravel()\n",
    "    \n",
    "    subjects = df[\"subject_id\"].unique()\n",
    "    for i, channel in enumerate(wanted_chans):\n",
    "    \n",
    "        channel_data = df[df.channel == channel]\n",
    "        channel_data = channel_data[(channel_data.freq > 52) | (channel_data.freq < 48)]  # remove the 50Hz peak\n",
    "        \n",
    "        palette = {'DRD2-WT': '#427C99', 'DRD2-KO': '#AF5541'}\n",
    "        sns.lineplot(data=channel_data, x='freq', y=y_axis, palette=palette, hue_order=['DRD2-WT', 'DRD2-KO'], hue='genotype', legend=True, ax=axs[i], errorbar='se')\n",
    "        \n",
    "        for band, (start, end) in freq_bands.items():\n",
    "            axs[i].axvline(x=start, color='gray', linestyle='--', alpha=0.3)\n",
    "            axs[i].axvline(x=end, color='gray', linestyle='--', alpha=0.3)\n",
    "            axs[i].text((start + end) / 2, axs[i].get_ylim()[1] * 1.01, band, horizontalalignment='center', verticalalignment='top', fontsize=8, color='black')\n",
    "        \n",
    "        axs[i].set_yscale('log')\n",
    "        axs[i].set_xlabel('Frequency (Hz)')\n",
    "        axs[i].set_ylabel('Power/Frequency (dB/Hz)')\n",
    "        axs[i].set_title(f'Average PSD per genotype ({channel})')\n",
    "    \n",
    "    plt.subplots_adjust(wspace=0.08, hspace=0.08)\n",
    "    axs[-1].remove()\n",
    "    save_figure(os.path.join(plot_folder, f\"WT_vs_KO_{'norm' if 'norm' in y_axis else 'abs'}_PSD_averages.pdf\"))"
   ],
   "metadata": {
    "collapsed": false,
    "ExecuteTime": {
     "end_time": "2024-02-28T12:54:18.721484Z",
     "start_time": "2024-02-28T12:54:01.599724Z"
    }
   },
   "id": "8054b1a4ca2b1a00",
   "execution_count": 16
  },
  {
   "cell_type": "markdown",
   "source": [
    "Now, let's also add the subject averages to that plot."
   ],
   "metadata": {
    "collapsed": false
   },
   "id": "35f51bdfe52c28e"
  },
  {
   "cell_type": "code",
   "outputs": [],
   "source": [
    "for y_axis in ['psd (means)', 'psd (norm)']:\n",
    "    fig, axs = plt.subplots(2, 4, figsize=(35, 15), sharex=True, sharey=True)\n",
    "    axs = axs.ravel()\n",
    "    \n",
    "    subjects = df[\"subject_id\"].unique()\n",
    "    palettes = {}\n",
    "    for subject in subjects:\n",
    "        if df[df[\"subject_id\"] == subject].genotype.iloc[0] == \"DRD2-WT\":\n",
    "            palettes[subject] = '#427C99'\n",
    "        else:\n",
    "            palettes[subject] = '#AF5541'\n",
    "    \n",
    "    for i, channel in enumerate(wanted_chans):\n",
    "    \n",
    "        channel_data = df[df.channel == channel]\n",
    "        channel_data = channel_data[(channel_data.freq > 52) | (channel_data.freq < 48)]  # remove the 50Hz peak\n",
    "        \n",
    "        palette = {'DRD2-WT': '#427C99', 'DRD2-KO': '#AF5541'}\n",
    "        sns.lineplot(data=channel_data, x='freq', y=y_axis, palette=palette, hue_order=['DRD2-WT', 'DRD2-KO'], hue='genotype', legend=True, ax=axs[i], errorbar='se')\n",
    "        sns.lineplot(data=channel_data, x='freq', y=y_axis, palette=palettes, hue='subject_id', linewidth=.3, legend=False, ax=axs[i], alpha=.4)\n",
    "        \n",
    "        for band, (start, end) in freq_bands.items():\n",
    "            axs[i].axvline(x=start, color='gray', linestyle='--', alpha=0.3)\n",
    "            axs[i].axvline(x=end, color='gray', linestyle='--', alpha=0.3)\n",
    "            axs[i].text((start + end) / 2, axs[i].get_ylim()[1] * 1.01, band, horizontalalignment='center', verticalalignment='top', fontsize=8, color='black')\n",
    "        \n",
    "        axs[i].set_yscale('log')\n",
    "        axs[i].set_xlabel('Frequency (Hz)')\n",
    "        axs[i].set_ylabel('Power/Frequency (dB/Hz)')\n",
    "        axs[i].set_title(f'Average PSD per genotype ({channel})')\n",
    "    \n",
    "    plt.subplots_adjust(wspace=0.08, hspace=0.08)\n",
    "    axs[-1].remove()\n",
    "    save_figure(os.path.join(plot_folder, f\"WT_vs_KO_{'norm' if 'norm' in y_axis else 'abs'}_PSD_averages_w_subjects.pdf\"))"
   ],
   "metadata": {
    "collapsed": false,
    "ExecuteTime": {
     "end_time": "2024-02-28T12:54:49.776061Z",
     "start_time": "2024-02-28T12:54:27.418999Z"
    }
   },
   "id": "c806df78189eb138",
   "execution_count": 17
  },
  {
   "cell_type": "markdown",
   "source": [
    "And make one with only the individual PSD averages, so that we can identify possible outliers"
   ],
   "metadata": {
    "collapsed": false
   },
   "id": "459b587070e1f5cd"
  },
  {
   "cell_type": "code",
   "outputs": [],
   "source": [
    "for y_axis in ['psd (means)', 'psd (norm)']:\n",
    "    fig, axs = plt.subplots(2, 4, figsize=(35, 15), sharex=True, sharey=True)\n",
    "    axs = axs.ravel()\n",
    "    \n",
    "    for i, channel in enumerate(wanted_chans):\n",
    "    \n",
    "        channel_data = df[df.channel == channel]\n",
    "        channel_data = channel_data[(channel_data.freq > 52) | (channel_data.freq < 48)]  # remove the 50Hz peak\n",
    "        \n",
    "        sns.lineplot(data=channel_data, x='freq', y=y_axis, hue='subject_id', legend=True, linewidth=1, ax=axs[i])\n",
    "        \n",
    "        for band, (start, end) in freq_bands.items():\n",
    "            axs[i].axvline(x=start, color='gray', linestyle='--', alpha=0.3)\n",
    "            axs[i].axvline(x=end, color='gray', linestyle='--', alpha=0.3)\n",
    "            axs[i].text((start + end) / 2, axs[i].get_ylim()[1] * 1.01, band, horizontalalignment='center', verticalalignment='top', fontsize=8, color='black')\n",
    "        \n",
    "        axs[i].set_yscale('log')\n",
    "        axs[i].set_xlabel('Frequency (Hz)')\n",
    "        axs[i].set_ylabel('Power/Frequency (dB/Hz)')\n",
    "        axs[i].set_title(f'Average PSD per genotype ({channel})')\n",
    "    \n",
    "    plt.subplots_adjust(wspace=0.08, hspace=0.08)\n",
    "    axs[-1].remove()\n",
    "    save_figure(os.path.join(plot_folder, f\"{'norm' if 'norm' in y_axis else 'abs'}_PSD_average_per_subject.pdf\"))"
   ],
   "metadata": {
    "collapsed": false,
    "ExecuteTime": {
     "end_time": "2024-02-28T12:55:59.264077Z",
     "start_time": "2024-02-28T12:55:40.727030Z"
    }
   },
   "id": "276647e4b3ea7d7f",
   "execution_count": 18
  }
 ],
 "metadata": {
  "kernelspec": {
   "display_name": "Python 3",
   "language": "python",
   "name": "python3"
  },
  "language_info": {
   "codemirror_mode": {
    "name": "ipython",
    "version": 2
   },
   "file_extension": ".py",
   "mimetype": "text/x-python",
   "name": "python",
   "nbconvert_exporter": "python",
   "pygments_lexer": "ipython2",
   "version": "2.7.6"
  }
 },
 "nbformat": 4,
 "nbformat_minor": 5
}
