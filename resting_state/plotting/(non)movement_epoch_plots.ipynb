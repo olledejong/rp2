{
 "cells": [
  {
   "cell_type": "markdown",
   "source": [
    "### Notebook for plotting epochs based on behaviour (movement/non-movement)"
   ],
   "metadata": {
    "collapsed": false
   },
   "id": "416ad37ecc8baada"
  },
  {
   "cell_type": "code",
   "execution_count": 2,
   "id": "initial_id",
   "metadata": {
    "collapsed": true,
    "ExecuteTime": {
     "end_time": "2024-02-26T08:51:33.750488Z",
     "start_time": "2024-02-26T08:51:32.481784Z"
    }
   },
   "outputs": [],
   "source": [
    "import os\n",
    "import mne\n",
    "import json\n",
    "import numpy as np\n",
    "import pandas as pd\n",
    "import seaborn as sns\n",
    "import matplotlib.pyplot as plt\n",
    "import matplotlib.patches as mpatches\n",
    "from mne.time_frequency import psd_array_multitaper\n",
    "\n",
    "from helper_functions import save_figure\n",
    "from settings import paths"
   ]
  },
  {
   "cell_type": "code",
   "outputs": [],
   "source": [
    "epoch_folder = paths['epochs_folder']\n",
    "plot_folder = paths['plots_folder']"
   ],
   "metadata": {
    "collapsed": false,
    "ExecuteTime": {
     "end_time": "2024-02-26T08:52:31.606842Z",
     "start_time": "2024-02-26T08:52:31.553732Z"
    }
   },
   "id": "8214b6360b91184d",
   "execution_count": 4
  },
  {
   "cell_type": "markdown",
   "source": [
    "Let's load the epoch object"
   ],
   "metadata": {
    "collapsed": false
   },
   "id": "b7f15723794eaa52"
  },
  {
   "cell_type": "code",
   "outputs": [],
   "source": [
    "# let's load the epochs file\n",
    "epochs = mne.read_epochs(os.path.join(epoch_folder, \"filtered_epochs_w_movement-epo.fif\"), preload=True)"
   ],
   "metadata": {
    "collapsed": false,
    "ExecuteTime": {
     "end_time": "2024-02-26T08:56:24.923489Z",
     "start_time": "2024-02-26T08:52:46.058769Z"
    }
   },
   "id": "e5e463b3bc91e2c2",
   "execution_count": 5
  },
  {
   "cell_type": "markdown",
   "source": [
    "Establish a dictionary holding channels to be omitted from consideration"
   ],
   "metadata": {
    "collapsed": false
   },
   "id": "723ab6ae4e3fbdee"
  },
  {
   "cell_type": "code",
   "outputs": [],
   "source": [
    "bad_epochs_per_subject = {\n",
    "    \"80630\": [\"OFC_R\"],\n",
    "    \"39489\": [\"OFC_R\"],\n",
    "    \"80625\": [\"OFC_L\"],\n",
    "    \"81193\": [\"OFC_R\", \"OFC_L\"]\n",
    "}"
   ],
   "metadata": {
    "collapsed": false,
    "ExecuteTime": {
     "end_time": "2024-02-26T08:56:24.990525Z",
     "start_time": "2024-02-26T08:56:24.886168Z"
    }
   },
   "id": "1614e1f05de01b64",
   "execution_count": 6
  },
  {
   "cell_type": "markdown",
   "source": [
    "Get the names of the channels we want to plot"
   ],
   "metadata": {
    "collapsed": false
   },
   "id": "d5d5fd0d58d2f20c"
  },
  {
   "cell_type": "code",
   "outputs": [
    {
     "data": {
      "text/plain": "['OFC_R', 'OFC_L', 'CG', 'STR_R', 'S1_L', 'S1_R', 'V1_R']"
     },
     "execution_count": 7,
     "metadata": {},
     "output_type": "execute_result"
    }
   ],
   "source": [
    "wanted_chans = [channel for channel in epochs.info[\"ch_names\"] if not channel in ['EMG_L', 'EMG_R']]\n",
    "wanted_chans"
   ],
   "metadata": {
    "collapsed": false,
    "ExecuteTime": {
     "end_time": "2024-02-26T08:56:26.573937Z",
     "start_time": "2024-02-26T08:56:24.965921Z"
    }
   },
   "id": "ecc41f97df69de33",
   "execution_count": 7
  },
  {
   "cell_type": "markdown",
   "source": [
    "#### DRD2-WT and DRD2-KO average PSD for movement and non-movement epochs"
   ],
   "metadata": {
    "collapsed": false
   },
   "id": "960400a1671d00a4"
  },
  {
   "cell_type": "markdown",
   "source": [
    "Define the frequency domains"
   ],
   "metadata": {
    "collapsed": false
   },
   "id": "6ae7e20bffe3e008"
  },
  {
   "cell_type": "code",
   "outputs": [],
   "source": [
    "freq_bands = {\n",
    "    r'$\\delta$': (1, 4),  # Delta\n",
    "    r'$\\theta$': (4, 8),  # Theta\n",
    "    r'$\\alpha$': (8, 13),  # Alpha\n",
    "    r'$\\beta$': (13, 30),  # Beta\n",
    "    r'$\\gamma$': (30, 100)  # Gamma\n",
    "}"
   ],
   "metadata": {
    "collapsed": false,
    "ExecuteTime": {
     "end_time": "2024-02-26T08:56:26.575010Z",
     "start_time": "2024-02-26T08:56:25.030799Z"
    }
   },
   "id": "326f04f9b955c5d",
   "execution_count": 8
  },
  {
   "cell_type": "markdown",
   "source": [
    "For now, we want to separate the movement and non-movement data, so let's do that"
   ],
   "metadata": {
    "collapsed": false
   },
   "id": "6ddd9a7a84eb52d7"
  },
  {
   "cell_type": "code",
   "outputs": [],
   "source": [
    "movement_epochs = epochs[epochs.metadata[\"movement\"] == 1]\n",
    "non_movement_epochs = epochs[epochs.metadata[\"movement\"] == 0]"
   ],
   "metadata": {
    "collapsed": false,
    "ExecuteTime": {
     "end_time": "2024-02-26T08:58:10.643443Z",
     "start_time": "2024-02-26T08:56:25.136552Z"
    }
   },
   "id": "ff80e75006849d7a",
   "execution_count": 9
  },
  {
   "cell_type": "markdown",
   "source": [
    "First, let's create a dataframe that holds all PSD means per subject, and is annotated with the genotype of the subject"
   ],
   "metadata": {
    "collapsed": false
   },
   "id": "90b95cde8e28402b"
  },
  {
   "cell_type": "code",
   "outputs": [
    {
     "name": "stdout",
     "output_type": "stream",
     "text": [
      "Generating movement dataframe.\n",
      "Omitting channel OFC_R for subject 81193.\n",
      "Omitting channel OFC_R for subject 39489.\n",
      "Omitting channel OFC_R for subject 80630.\n",
      "Omitting channel OFC_L for subject 81193.\n",
      "Omitting channel OFC_L for subject 80625.\n",
      "Generating non_movement dataframe.\n",
      "Omitting channel OFC_R for subject 81193.\n",
      "Omitting channel OFC_R for subject 39489.\n",
      "Omitting channel OFC_R for subject 80630.\n",
      "Omitting channel OFC_L for subject 81193.\n",
      "Omitting channel OFC_L for subject 80625.\n"
     ]
    }
   ],
   "source": [
    "behavioral_dfs = {}\n",
    "for behaviour, epochs in {'movement': movement_epochs, 'non_movement': non_movement_epochs}.items():\n",
    "    print(f\"Generating {behaviour} dataframe.\")\n",
    "    # loop through channels, as we want data per channel\n",
    "    \n",
    "    df = pd.DataFrame()\n",
    "\n",
    "    for channel in wanted_chans:\n",
    "        for subject_id in epochs.metadata[\"animal_id\"].unique():\n",
    "            \n",
    "            subject_data = epochs[epochs.metadata[\"animal_id\"] == subject_id]\n",
    "            genotype = subject_data.metadata[\"genotype\"].iloc[0]\n",
    "\n",
    "            # skip plotting data of bad quality\n",
    "            if subject_id in bad_epochs_per_subject.keys():\n",
    "                if channel in bad_epochs_per_subject[subject_id]: \n",
    "                    print(f\"Omitting channel {channel} for subject {subject_id}.\")\n",
    "                    continue\n",
    "            \n",
    "            # get the average PSD for this subject\n",
    "            psds_sub, freqs = psd_array_multitaper(\n",
    "                subject_data.get_data(picks=channel),\n",
    "                fmin=0, fmax=100,\n",
    "                sfreq=subject_data.info['sfreq'],\n",
    "                n_jobs=-1\n",
    "            )\n",
    "            mean_psd_sub = np.mean(psds_sub[:, 0, :], axis=0)\n",
    "            \n",
    "            # save the average of this subject, so we can later plot the mean of the subject averages\n",
    "            df = pd.concat([df, pd.DataFrame({\n",
    "                \"freq\": freqs,\n",
    "                \"psd (means)\": mean_psd_sub,\n",
    "                \"subject_id\": subject_id,\n",
    "                \"genotype\": genotype,\n",
    "                \"channel\": channel,\n",
    "            })])\n",
    "                \n",
    "    behavioral_dfs[behaviour] = df"
   ],
   "metadata": {
    "collapsed": false,
    "ExecuteTime": {
     "end_time": "2024-02-26T09:15:25.322321Z",
     "start_time": "2024-02-26T09:04:56.424961Z"
    }
   },
   "id": "674f4307c17c5089",
   "execution_count": 13
  },
  {
   "cell_type": "markdown",
   "source": [
    "Now we have a dataframe for both movement, and non-movement data, let's generate a plot per channel where we average the PSDs of all WT and all KO subjects"
   ],
   "metadata": {
    "collapsed": false
   },
   "id": "d18a099bb86a82b7"
  },
  {
   "cell_type": "code",
   "outputs": [
    {
     "name": "stdout",
     "output_type": "stream",
     "text": [
      "Generating plot grid for behaviour: movement\n",
      "Generating plot grid for behaviour: non_movement\n"
     ]
    }
   ],
   "source": [
    "for behaviour, df in behavioral_dfs.items():\n",
    "    # create palette for WT and KO subjects (background lines)\n",
    "    palettes, subjects = {}, df[\"subject_id\"].unique()\n",
    "    [palettes.update({subject: '#427C99'}) if (df[df[\"subject_id\"] == subject].genotype.iloc[0] == \"DRD2-WT\") else palettes.update({subject: '#AF5541'}) for subject in subjects]\n",
    "\n",
    "    print(f\"Generating plot grid for behaviour: {behaviour}\")\n",
    "    fig, axs = plt.subplots(2, 4, figsize=(35, 15), sharex=True, sharey=True)\n",
    "    axs = axs.ravel()\n",
    "    \n",
    "    for i, channel in enumerate(wanted_chans):\n",
    "    \n",
    "        channel_data = df[df.channel == channel]\n",
    "        channel_data = channel_data[(channel_data.freq > 52) | (channel_data.freq < 48)]  # remove the 50Hz peak\n",
    "        \n",
    "        palette = {'DRD2-WT': '#427C99', 'DRD2-KO': '#AF5541'}\n",
    "        sns.lineplot(data=channel_data, x='freq', y='psd (means)', palette=palette, hue_order=['DRD2-WT', 'DRD2-KO'], hue='genotype', legend=True, ax=axs[i], errorbar='se')\n",
    "        sns.lineplot(data=channel_data, x='freq', y='psd (means)', palette=palettes, hue='subject_id', linewidth=.4, legend=False, ax=axs[i], alpha=.5)\n",
    "        \n",
    "        for band, (start, end) in freq_bands.items():\n",
    "            axs[i].axvline(x=start, color='gray', linestyle='--', alpha=0.3)\n",
    "            axs[i].axvline(x=end, color='gray', linestyle='--', alpha=0.3)\n",
    "            axs[i].text((start + end) / 2, axs[i].get_ylim()[1] * 1.01, band, horizontalalignment='center', verticalalignment='top', fontsize=8, color='black')\n",
    "        \n",
    "        axs[i].set_yscale('log')\n",
    "        axs[i].set_xlabel('Frequency (Hz)')\n",
    "        axs[i].set_ylabel('Power/Frequency (dB/Hz)')\n",
    "        axs[i].set_title(f'Average PSD per genotype ({channel}) - Behaviour: {behaviour}')\n",
    "    \n",
    "    plt.subplots_adjust(wspace=0.08, hspace=0.08)\n",
    "    axs[-1].remove()\n",
    "    save_figure(os.path.join(plot_folder, f\"with_behaviour/WT_vs_KO_PSD_averages_{behaviour}.pdf\"))"
   ],
   "metadata": {
    "collapsed": false,
    "ExecuteTime": {
     "end_time": "2024-02-26T10:31:13.595316Z",
     "start_time": "2024-02-26T10:30:37.087583Z"
    }
   },
   "id": "4ed86eaf6c7ea38b",
   "execution_count": 54
  },
  {
   "cell_type": "markdown",
   "source": [
    "Let's concatenate the two behaviour dataframes"
   ],
   "metadata": {
    "collapsed": false
   },
   "id": "96caa4082706d61e"
  },
  {
   "cell_type": "code",
   "outputs": [],
   "source": [
    "behavioral_dfs[\"movement\"][\"behaviour\"] = \"Movement\"\n",
    "behavioral_dfs[\"non_movement\"][\"behaviour\"] = \"Non-movement\"\n",
    "total_df = pd.concat([behavioral_dfs[\"movement\"], behavioral_dfs[\"non_movement\"]])"
   ],
   "metadata": {
    "collapsed": false,
    "ExecuteTime": {
     "end_time": "2024-02-26T09:50:10.655420Z",
     "start_time": "2024-02-26T09:50:10.570853Z"
    }
   },
   "id": "da2fd41d0407e6f9",
   "execution_count": 37
  },
  {
   "cell_type": "markdown",
   "source": [
    "Now we plot the movement and non-movement epochs separately, so hue'ing on behaviour instead of genotype"
   ],
   "metadata": {
    "collapsed": false
   },
   "id": "6a63feedfae5417d"
  },
  {
   "cell_type": "code",
   "outputs": [],
   "source": [
    "fig, axs = plt.subplots(2, 4, figsize=(35, 15), sharex=True, sharey=True)\n",
    "axs = axs.ravel()\n",
    "\n",
    "for i, channel in enumerate(wanted_chans):\n",
    "    \n",
    "    channel_data = total_df[total_df.channel == channel]\n",
    "    channel_data = channel_data[(channel_data.freq > 52) | (channel_data.freq < 48)]  # remove the 50Hz peak\n",
    "    \n",
    "    sns.lineplot(data=channel_data, x='freq', y='psd (means)', hue=\"behaviour\", legend=True, ax=axs[i], errorbar='se')\n",
    "    \n",
    "    for band, (start, end) in freq_bands.items():\n",
    "        axs[i].axvline(x=start, color='gray', linestyle='--', alpha=0.3)\n",
    "        axs[i].axvline(x=end, color='gray', linestyle='--', alpha=0.3)\n",
    "        axs[i].text((start + end) / 2, axs[i].get_ylim()[1] * 1.01, band, horizontalalignment='center', verticalalignment='top', fontsize=8, color='black')\n",
    "    \n",
    "    axs[i].set_yscale('log')\n",
    "    axs[i].set_xlabel('Frequency (Hz)')\n",
    "    axs[i].set_ylabel('Power/Frequency (dB/Hz)')\n",
    "    axs[i].set_title(f'Average PSD, movement vs non-movement ({channel})')\n",
    "\n",
    "plt.subplots_adjust(wspace=0.08, hspace=0.08)\n",
    "axs[-1].remove()\n",
    "save_figure(os.path.join(plot_folder, f\"with_behaviour/mov_vs_nonmov_PSD_averages.pdf\"))"
   ],
   "metadata": {
    "collapsed": false,
    "ExecuteTime": {
     "end_time": "2024-02-26T09:50:23.195395Z",
     "start_time": "2024-02-26T09:50:12.323605Z"
    }
   },
   "id": "474a8d76b5115e58",
   "execution_count": 38
  },
  {
   "cell_type": "markdown",
   "source": [
    "Let's alter the data some more, so we can create a plot that includes traces for movement-wt, movement-ko, non-movement-wt, non-movement-ko."
   ],
   "metadata": {
    "collapsed": false
   },
   "id": "8fd866d96d685a0b"
  },
  {
   "cell_type": "code",
   "outputs": [],
   "source": [
    "total_df[\"mov_geno\"] = total_df['genotype'] + \" - \" + total_df['behaviour']"
   ],
   "metadata": {
    "collapsed": false,
    "ExecuteTime": {
     "end_time": "2024-02-26T09:50:44.492736Z",
     "start_time": "2024-02-26T09:50:44.466479Z"
    }
   },
   "id": "ac03ced616f03143",
   "execution_count": 39
  },
  {
   "cell_type": "markdown",
   "source": [
    "And plot it"
   ],
   "metadata": {
    "collapsed": false
   },
   "id": "89fcbc98a0014a5"
  },
  {
   "cell_type": "code",
   "outputs": [],
   "source": [
    "fig, axs = plt.subplots(2, 4, figsize=(35, 15), sharex=True, sharey=True)\n",
    "axs = axs.ravel()\n",
    "\n",
    "for i, channel in enumerate(wanted_chans):\n",
    "    \n",
    "    channel_data = total_df[total_df.channel == channel]\n",
    "    channel_data = channel_data[(channel_data.freq > 52) | (channel_data.freq < 48)]  # remove the 50Hz peak\n",
    "    \n",
    "    hue_order = ['DRD2-WT - Movement', 'DRD2-KO - Movement', 'DRD2-WT - Non-movement', 'DRD2-KO - Non-movement']\n",
    "    sns.lineplot(data=channel_data, x='freq', y='psd (means)', hue=\"mov_geno\", hue_order=hue_order, ax=axs[i], errorbar='se')\n",
    "\n",
    "    for band, (start, end) in freq_bands.items():\n",
    "        axs[i].axvline(x=start, color='gray', linestyle='--', alpha=0.3)\n",
    "        axs[i].axvline(x=end, color='gray', linestyle='--', alpha=0.3)\n",
    "        axs[i].text((start + end) / 2, axs[i].get_ylim()[1] * 1.01, band, horizontalalignment='center', verticalalignment='top', fontsize=8, color='black')\n",
    "    \n",
    "    axs[i].set_yscale('log')\n",
    "    axs[i].set_xlabel('Frequency (Hz)')\n",
    "    axs[i].set_ylabel('Power/Frequency (dB/Hz)')\n",
    "    axs[i].set_title(f'Average PSD of different genotype-behaviour combinations ({channel})')\n",
    "    axs[i].legend(title=\"Genotype - Behaviour\")\n",
    "\n",
    "plt.subplots_adjust(wspace=0.08, hspace=0.08)\n",
    "axs[-1].remove()\n",
    "save_figure(os.path.join(plot_folder, f\"with_behaviour/mov_vs_nonmov_WT_vs_KO_PSD_averages2.pdf\"))"
   ],
   "metadata": {
    "collapsed": false,
    "ExecuteTime": {
     "end_time": "2024-02-26T10:17:19.507134Z",
     "start_time": "2024-02-26T10:17:06.153548Z"
    }
   },
   "id": "7e6199bd6a41b2c7",
   "execution_count": 50
  }
 ],
 "metadata": {
  "kernelspec": {
   "display_name": "Python 3",
   "language": "python",
   "name": "python3"
  },
  "language_info": {
   "codemirror_mode": {
    "name": "ipython",
    "version": 2
   },
   "file_extension": ".py",
   "mimetype": "text/x-python",
   "name": "python",
   "nbconvert_exporter": "python",
   "pygments_lexer": "ipython2",
   "version": "2.7.6"
  }
 },
 "nbformat": 4,
 "nbformat_minor": 5
}
