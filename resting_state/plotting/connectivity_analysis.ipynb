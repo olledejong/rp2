{
 "cells": [
  {
   "cell_type": "code",
   "execution_count": 186,
   "id": "initial_id",
   "metadata": {
    "collapsed": true,
    "ExecuteTime": {
     "end_time": "2024-02-27T13:08:27.171301Z",
     "start_time": "2024-02-27T13:08:27.138736Z"
    }
   },
   "outputs": [],
   "source": [
    "import os\n",
    "import mne\n",
    "import numpy as np\n",
    "import pandas as pd\n",
    "import seaborn as sns\n",
    "import matplotlib.pyplot as plt\n",
    "from mne_connectivity import spectral_connectivity_epochs, spectral_connectivity_time\n",
    "\n",
    "from helper_functions import save_figure\n",
    "from settings import paths"
   ]
  },
  {
   "cell_type": "code",
   "outputs": [],
   "source": [
    "epoch_folder = paths['epochs_folder']\n",
    "plot_folder = paths['plots_folder']"
   ],
   "metadata": {
    "collapsed": false,
    "ExecuteTime": {
     "end_time": "2024-02-26T12:14:26.583367Z",
     "start_time": "2024-02-26T12:14:26.557365Z"
    }
   },
   "id": "368564f252aaef87",
   "execution_count": 11
  },
  {
   "cell_type": "code",
   "outputs": [],
   "source": [
    "bad_chans = {\n",
    "    \"80630\": [\"OFC_R\"],\n",
    "    \"39489\": [\"OFC_R\"],\n",
    "    \"80625\": [\"OFC_L\"],\n",
    "    \"81193\": [\"OFC_R\", \"OFC_L\"]\n",
    "}"
   ],
   "metadata": {
    "collapsed": false,
    "ExecuteTime": {
     "end_time": "2024-02-26T12:14:27.135717Z",
     "start_time": "2024-02-26T12:14:27.108608Z"
    }
   },
   "id": "77d69d3679df6a6c",
   "execution_count": 12
  },
  {
   "cell_type": "code",
   "outputs": [],
   "source": [
    "freq_bands = {\n",
    "    'Delta': (2, 4), \n",
    "    'Theta': (4, 8), \n",
    "    'Alpha': (8, 13), \n",
    "    'Beta': (13, 30), \n",
    "    'Gamma': (30, 100)\n",
    "}"
   ],
   "metadata": {
    "collapsed": false,
    "ExecuteTime": {
     "end_time": "2024-02-26T12:14:27.815613Z",
     "start_time": "2024-02-26T12:14:27.784925Z"
    }
   },
   "id": "e590b0ae0e64b931",
   "execution_count": 13
  },
  {
   "cell_type": "markdown",
   "source": [
    "Import the epoch file and drop unwanted EMG channels"
   ],
   "metadata": {
    "collapsed": false
   },
   "id": "cc8cd16c21968e6f"
  },
  {
   "cell_type": "code",
   "outputs": [
    {
     "data": {
      "text/plain": "<EpochsFIF |  28243 events (all good), 0 – 4.99853 s, baseline off, ~7.99 GB, data loaded, with metadata,\n '1': 28243>",
      "text/html": "<table class=\"table table-hover table-striped table-sm table-responsive small\">\n    <tr>\n        <th>Number of events</th>\n        <td>28243</td>\n    </tr>\n    <tr>\n        <th>Events</th>\n        \n        <td>1: 28243</td>\n        \n    </tr>\n    <tr>\n        <th>Time range</th>\n        <td>0.000 – 4.999 s</td>\n    </tr>\n    <tr>\n        <th>Baseline</th>\n        <td>off</td>\n    </tr>\n</table>"
     },
     "execution_count": 14,
     "metadata": {},
     "output_type": "execute_result"
    }
   ],
   "source": [
    "filtered_epochs = mne.read_epochs(os.path.join(epoch_folder, \"filtered_epochs_w_movement-epo.fif\"), preload=True)\n",
    "filtered_epochs.drop_channels(['EMG_L', 'EMG_R'])"
   ],
   "metadata": {
    "collapsed": false,
    "ExecuteTime": {
     "end_time": "2024-02-26T12:21:30.939804Z",
     "start_time": "2024-02-26T12:14:33.611016Z"
    }
   },
   "id": "d12fee8ddd7cfc60",
   "execution_count": 14
  },
  {
   "cell_type": "markdown",
   "source": [
    "We want to investigate differences between resting and non-resting, so let's split the epochs on this behaviour using the metadata"
   ],
   "metadata": {
    "collapsed": false
   },
   "id": "4d59c1f1ead863cc"
  },
  {
   "cell_type": "code",
   "outputs": [],
   "source": [
    "movement_epochs = filtered_epochs[filtered_epochs.metadata[\"movement\"] == 1]\n",
    "non_movement_epochs = filtered_epochs[filtered_epochs.metadata[\"movement\"] == 0]"
   ],
   "metadata": {
    "collapsed": false,
    "ExecuteTime": {
     "end_time": "2024-02-26T12:26:34.205831Z",
     "start_time": "2024-02-26T12:24:56.434775Z"
    }
   },
   "id": "e047840cab5ae97c",
   "execution_count": 15
  },
  {
   "cell_type": "markdown",
   "source": [
    "### General functions\n",
    "\n",
    "Let's create a function that takes a connectivity measure method as an argument and computes it"
   ],
   "metadata": {
    "collapsed": false
   },
   "id": "f568d29872622cbf"
  },
  {
   "cell_type": "code",
   "outputs": [],
   "source": [
    "def compute_con(epochs, method, fmin=0, fmax=100):\n",
    "    # Compute spectral connectivity\n",
    "    con = spectral_connectivity_epochs(\n",
    "        epochs, method=method, mode='multitaper', sfreq=epochs.info['sfreq'],\n",
    "        fmin=fmin, fmax=fmax, faverage=True, verbose=False, gc_n_lags=40)\n",
    "    return con.get_data(output='dense')"
   ],
   "metadata": {
    "collapsed": false,
    "ExecuteTime": {
     "end_time": "2024-02-26T12:50:53.287773Z",
     "start_time": "2024-02-26T12:50:53.267423Z"
    }
   },
   "id": "7d66bedeb286093e",
   "execution_count": 38
  },
  {
   "cell_type": "markdown",
   "source": [
    "And now a general function that allows us to generate a connectivity measure dataframe for a given measure. Note that we omit the channel-channel connectivity measures for the 'low qaulity' channels that are manually entered into the *bad_chans* dictionary defined above."
   ],
   "metadata": {
    "collapsed": false
   },
   "id": "2dbd776d614add1e"
  },
  {
   "cell_type": "code",
   "outputs": [],
   "source": [
    "def connectivity_df(epochs, method):\n",
    "    results_df = pd.DataFrame()\n",
    "    subject_ids = epochs.metadata['animal_id'].unique()\n",
    "\n",
    "    # per subject, calculate the given measure for all epochs\n",
    "    for idx, subject_id in enumerate(subject_ids):\n",
    "        # subset of the data for this subject\n",
    "        mouse_epochs = epochs[epochs.metadata['animal_id']==subject_id].copy()\n",
    "        genotype = mouse_epochs.metadata['genotype'].unique()[0]\n",
    "    \n",
    "        # compute the given connectivity measure for every frequency band\n",
    "        for band_name, (fmin, fmax) in freq_bands.items():\n",
    "            # compute the connectivity using the provided method\n",
    "            con = compute_con(mouse_epochs, method, fmin, fmax)\n",
    "            \n",
    "            # loop through first channel of connectivity pair\n",
    "            for i in range(con.shape[1]):\n",
    "                # loop through second channel of connectivity pair\n",
    "                for j in range(i+1, con.shape[0]):\n",
    "                    # if looped channel for this subject in bad channel dict, skip it\n",
    "                    if subject_id in bad_chans.keys():\n",
    "                        if epochs.ch_names[i] in bad_chans[subject_id] or epochs.ch_names[j] in bad_chans[subject_id]:\n",
    "                            continue\n",
    "                    # add the data\n",
    "                    results_df = pd.concat([results_df, pd.DataFrame({\n",
    "                        'con' : con[j, i, 0],\n",
    "                        'node1' : epochs.ch_names[i],\n",
    "                        'node2' : epochs.ch_names[j],\n",
    "                        'band' : band_name,\n",
    "                        'subject_id': subject_id,\n",
    "                        'genotype': genotype\n",
    "                    }, index=[0])], ignore_index=True)\n",
    "                    \n",
    "    return results_df"
   ],
   "metadata": {
    "collapsed": false,
    "ExecuteTime": {
     "end_time": "2024-02-26T12:50:55.454843Z",
     "start_time": "2024-02-26T12:50:55.442626Z"
    }
   },
   "id": "8f687e869ebbaa28",
   "execution_count": 39
  },
  {
   "cell_type": "markdown",
   "source": [
    "And a function which allows us to generate neat heatmaps of a given connectivity measure"
   ],
   "metadata": {
    "collapsed": false
   },
   "id": "b0518c3bca6e4fa"
  },
  {
   "cell_type": "code",
   "outputs": [],
   "source": [
    "def generate_con_heatmap(df, freq_band, cmap, fig_title='', method='', ax=None):\n",
    "    # subset the data for a given frequency band\n",
    "    filtered_df = df[df['band'] == freq_band]\n",
    "\n",
    "    # generate pivot table with mean 'method' values\n",
    "    pivot_table = filtered_df.pivot_table(index='node1', columns='node2', values='con', aggfunc='mean')\n",
    "\n",
    "    # make table symmetric by filling missing values\n",
    "    pivot_table = pivot_table.combine_first(pivot_table.T)\n",
    "\n",
    "    # set diagonal and upper triangle values to NaN, this way we still plot all data\n",
    "    for i in range(pivot_table.shape[0]):\n",
    "        for j in range(i, pivot_table.shape[1]):\n",
    "            pivot_table.iat[i, j] = np.nan\n",
    "\n",
    "    fig = sns.heatmap(pivot_table, cmap=cmap, annot=True, fmt=\".2f\", vmin=0, vmax=1, ax=ax, square=True, cbar_kws={'shrink': 0.75})\n",
    "    fig.set_title(fig_title)\n",
    "\n",
    "    cbar = fig.collections[0].colorbar\n",
    "    cbar.set_label(f'Mean {method}', fontsize=12)\n",
    "    cbar.outline.set_edgecolor('black')\n",
    "    cbar.outline.set_linewidth(1)"
   ],
   "metadata": {
    "collapsed": false,
    "ExecuteTime": {
     "end_time": "2024-02-26T12:51:00.145038Z",
     "start_time": "2024-02-26T12:51:00.117754Z"
    }
   },
   "id": "d96395ac2b43bcce",
   "execution_count": 40
  },
  {
   "cell_type": "markdown",
   "source": [
    "Now, let's create a function that generates a grid that holds a subplot per frequency band and genotype."
   ],
   "metadata": {
    "collapsed": false
   },
   "id": "65528af2deddac2e"
  },
  {
   "cell_type": "code",
   "outputs": [],
   "source": [
    "def generate_grid_plot(data, method, behaviour, cmap='flare'):\n",
    "    fig, ax = plt.subplots(nrows=2, ncols=5, figsize=(24, 10))\n",
    "    \n",
    "    freq_band_names = freq_bands.keys()\n",
    "    genotypes = data['genotype'].unique()\n",
    "    \n",
    "    # loop through genotypes\n",
    "    for i, genotype in enumerate(genotypes):\n",
    "        genotype_data = data[data['genotype'] == genotype]\n",
    "        # make a subplot for every band of each genotype\n",
    "        for j, band in enumerate(freq_band_names):\n",
    "            generate_con_heatmap(genotype_data, band, cmap=cmap, fig_title=f'{genotype} - {band} Band', method=method, ax=ax[i, j])\n",
    "    \n",
    "    plt.tight_layout()\n",
    "    plt.subplots_adjust(wspace=0.25, hspace=-0.1)\n",
    "    save_figure(os.path.join(plot_folder, f\"mov_vs_non_mov/connectivity/{method}_grid_{behaviour}.pdf\"))"
   ],
   "metadata": {
    "collapsed": false,
    "ExecuteTime": {
     "end_time": "2024-02-26T14:12:44.180843Z",
     "start_time": "2024-02-26T14:12:44.154745Z"
    }
   },
   "id": "9cc5d22986cb321b",
   "execution_count": 84
  },
  {
   "cell_type": "markdown",
   "source": [
    "### Connectivity: Coherence\n",
    "\n",
    "Let's first get the coherence"
   ],
   "metadata": {
    "collapsed": false
   },
   "id": "ab8b8e9499ff008"
  },
  {
   "cell_type": "code",
   "outputs": [],
   "source": [
    "coh_movement = connectivity_df(movement_epochs, \"coh\")\n",
    "generate_grid_plot(coh_movement, 'coh', \"Movement\")"
   ],
   "metadata": {
    "collapsed": false,
    "ExecuteTime": {
     "end_time": "2024-02-26T13:24:52.608029Z",
     "start_time": "2024-02-26T13:24:41.541640Z"
    }
   },
   "id": "9de983318da2d412",
   "execution_count": 74
  },
  {
   "cell_type": "code",
   "outputs": [],
   "source": [
    "coh_non_movement = connectivity_df(non_movement_epochs, \"coh\")\n",
    "generate_grid_plot(coh_non_movement, 'coh', \"Non-movement\")"
   ],
   "metadata": {
    "collapsed": false,
    "ExecuteTime": {
     "end_time": "2024-02-26T13:30:46.403001Z",
     "start_time": "2024-02-26T13:25:23.636821Z"
    }
   },
   "id": "1ff29343cb0a819f",
   "execution_count": 76
  },
  {
   "cell_type": "markdown",
   "source": [
    "### Phase Lag Index (PLI)\n",
    "\n",
    "* For PLI, means that signal leads and lags signal equally often, while a value greater than means that there is an imbalance in the likelihood for signal to be leading or lagging. A value of means that signal only leads or only lags signal.\n",
    "*\n",
    "* For wPLI, means that the total weight (not the quantity) of all leading relationships equals the total weight of lagging relationships, while a value greater than means that there is an imbalance between these weights. A value of, just as in PLI, means that signal only leads or only lags signal.\n",
    "*\n",
    "* With dPLI, we gain the ability to distinguish whether signal is leading or lagging signal, complementing the information provided by PLI or wPLI. A value of  means that signal leads and lags signal equally often. A value in the range means that signal leads signal  more often than it lags, with a value of meaning that signal always leads signal. A value in the range means that signal lags signal more often than it leads, with a value of meaning that signal always lags signal. The PLI can actually be extracted from the dPLI by the relationship, but this relationship is not invertible (dPLI can not be estimated from the PLI)."
   ],
   "metadata": {
    "collapsed": false
   },
   "id": "5a5192a19ce1120d"
  },
  {
   "cell_type": "markdown",
   "source": [
    "#### Regular PLI"
   ],
   "metadata": {
    "collapsed": false
   },
   "id": "244c6e849b81e9da"
  },
  {
   "cell_type": "code",
   "outputs": [],
   "source": [
    "pli_movement = connectivity_df(movement_epochs, \"pli\")\n",
    "generate_grid_plot(pli_movement, 'pli', \"Movement\")"
   ],
   "metadata": {
    "collapsed": false,
    "ExecuteTime": {
     "end_time": "2024-02-26T13:41:31.320916Z",
     "start_time": "2024-02-26T13:32:37.221136Z"
    }
   },
   "id": "5950ab74e63f8a1c",
   "execution_count": 78
  },
  {
   "cell_type": "code",
   "outputs": [],
   "source": [
    "pli_non_movement = connectivity_df(non_movement_epochs, \"pli\")\n",
    "generate_grid_plot(pli_non_movement, 'pli', \"Non-movement\")"
   ],
   "metadata": {
    "collapsed": false,
    "ExecuteTime": {
     "end_time": "2024-02-26T13:45:49.855279Z",
     "start_time": "2024-02-26T13:41:31.339822Z"
    }
   },
   "id": "e66405545bfe71d4",
   "execution_count": 79
  },
  {
   "cell_type": "markdown",
   "source": [
    "#### Directed PLI (DPLI)"
   ],
   "metadata": {
    "collapsed": false
   },
   "id": "f30eaa792eada9a6"
  },
  {
   "cell_type": "code",
   "outputs": [],
   "source": [
    "dpli_movement = connectivity_df(movement_epochs, \"dpli\")\n",
    "generate_grid_plot(dpli_movement, 'dpli', \"Movement\")"
   ],
   "metadata": {
    "collapsed": false,
    "ExecuteTime": {
     "end_time": "2024-02-26T13:54:14.622230Z",
     "start_time": "2024-02-26T13:45:49.837410Z"
    }
   },
   "id": "248ec1d4fbdfb1ed",
   "execution_count": 80
  },
  {
   "cell_type": "code",
   "outputs": [],
   "source": [
    "dpli_non_movement = connectivity_df(non_movement_epochs, \"dpli\")\n",
    "generate_grid_plot(dpli_non_movement, 'dpli', \"Non-movement\")"
   ],
   "metadata": {
    "collapsed": false,
    "ExecuteTime": {
     "end_time": "2024-02-26T13:59:19.499222Z",
     "start_time": "2024-02-26T13:54:14.616345Z"
    }
   },
   "id": "c9d88d8b8c5dfa30",
   "execution_count": 81
  },
  {
   "cell_type": "markdown",
   "source": [
    "#### Weighted PLI (WPLI)"
   ],
   "metadata": {
    "collapsed": false
   },
   "id": "1d30da537914e4f0"
  },
  {
   "cell_type": "code",
   "outputs": [],
   "source": [
    "wpli_movement = connectivity_df(movement_epochs, \"wpli\")\n",
    "generate_grid_plot(wpli_movement, 'wpli', \"Movement\")"
   ],
   "metadata": {
    "collapsed": false,
    "ExecuteTime": {
     "end_time": "2024-02-26T14:08:20.744312Z",
     "start_time": "2024-02-26T13:59:19.523345Z"
    }
   },
   "id": "54606177c7fc3f37",
   "execution_count": 82
  },
  {
   "cell_type": "code",
   "outputs": [],
   "source": [
    "wpli_non_movement = connectivity_df(non_movement_epochs, \"wpli\")\n",
    "generate_grid_plot(wpli_non_movement, 'wpli', \"Non-movement\")"
   ],
   "metadata": {
    "collapsed": false,
    "ExecuteTime": {
     "end_time": "2024-02-26T14:12:44.138906Z",
     "start_time": "2024-02-26T14:08:20.795658Z"
    }
   },
   "id": "d59da23a488e512f",
   "execution_count": 83
  },
  {
   "cell_type": "markdown",
   "source": [
    "#### WPLI2 debiased"
   ],
   "metadata": {
    "collapsed": false
   },
   "id": "b9da9ab58a4f350e"
  },
  {
   "cell_type": "code",
   "outputs": [],
   "source": [
    "wpli2_movement = connectivity_df(movement_epochs, \"wpli2_debiased\")\n",
    "generate_grid_plot(wpli2_movement, 'wpli2_debiased', \"Movement\")"
   ],
   "metadata": {
    "collapsed": false,
    "ExecuteTime": {
     "end_time": "2024-02-26T14:22:48.768812Z",
     "start_time": "2024-02-26T14:13:44.521052Z"
    }
   },
   "id": "fab62edf6e326841",
   "execution_count": 85
  },
  {
   "cell_type": "code",
   "outputs": [],
   "source": [
    "wpli2_non_movement = connectivity_df(non_movement_epochs, \"wpli2_debiased\")\n",
    "generate_grid_plot(wpli2_non_movement, 'wpli2_debiased', \"Non-movement\")"
   ],
   "metadata": {
    "collapsed": false,
    "ExecuteTime": {
     "end_time": "2024-02-26T14:27:49.428411Z",
     "start_time": "2024-02-26T14:22:48.737260Z"
    }
   },
   "id": "5d534885b7805fd8",
   "execution_count": 86
  },
  {
   "cell_type": "markdown",
   "source": [
    "## Barplotting\n",
    "\n",
    "Let's define a general function that takes our pre-generated dataframes holding the connectivity measure data, and generates a barplot per unique channel combination (hue on genotype).\n",
    "\n",
    "But first, we need all unique channel combinations for the purpose of uniformal plotting"
   ],
   "metadata": {
    "collapsed": false
   },
   "id": "5047d9f3d493ed57"
  },
  {
   "cell_type": "code",
   "outputs": [],
   "source": [
    "combinations = coh_movement['node1'] + '-' + coh_movement['node2']\n",
    "unique_combinations = combinations.unique()"
   ],
   "metadata": {
    "collapsed": false,
    "ExecuteTime": {
     "end_time": "2024-02-26T15:27:06.335564Z",
     "start_time": "2024-02-26T15:27:06.313590Z"
    }
   },
   "id": "997a7ceee8bf4b7f",
   "execution_count": 150
  },
  {
   "cell_type": "code",
   "outputs": [],
   "source": [
    "def generate_barplots(data, method, behaviour):\n",
    "    \n",
    "    fig, axs = plt.subplots(nrows=3, ncols=7, figsize=(35, 15), sharey=True)\n",
    "    axs = axs.ravel()\n",
    "    \n",
    "    for i, combination in enumerate(unique_combinations):\n",
    "        # subset the data\n",
    "        chan1, chan2 = combination.split('-')\n",
    "        data_subset = data[(data['node1'] == chan1) & (data['node2'] == chan2)]\n",
    "        palette = {'DRD2-WT': '#427C99', 'DRD2-KO': '#AF5541'}\n",
    "        \n",
    "        sns.barplot(data=data_subset, x=\"band\", y=\"con\", hue=\"genotype\", palette=palette, hue_order=[\"DRD2-WT\", \"DRD2-KO\"], ax=axs[i], errorbar=None)\n",
    "        sns.stripplot(data=data_subset, x=\"band\", y=\"con\", hue=\"genotype\", palette='dark:black', hue_order=[\"DRD2-WT\", \"DRD2-KO\"], alpha=0.4, dodge=True, legend=False, ax=axs[i])\n",
    "        \n",
    "        axs[i].set_title(f\"Connectivity of {chan1} and {chan2} ({behaviour} / {method.upper()})\")\n",
    "        axs[i].set_xlabel(\"Frequency band\")\n",
    "        axs[i].set_ylabel(f\"Connectivity ({method.upper()})\")\n",
    "    \n",
    "    plt.subplots_adjust(wspace=0.3, hspace=0.3)\n",
    "    plt.tight_layout()\n",
    "    save_figure(os.path.join(plot_folder, f\"mov_vs_non_mov/connectivity/barplots/{method}_grid_{behaviour}.pdf\"))"
   ],
   "metadata": {
    "collapsed": false,
    "ExecuteTime": {
     "end_time": "2024-02-26T15:31:49.478244Z",
     "start_time": "2024-02-26T15:31:49.444072Z"
    }
   },
   "id": "12c4013779798016",
   "execution_count": 160
  },
  {
   "cell_type": "markdown",
   "source": [
    "Let's generate the figures for all data"
   ],
   "metadata": {
    "collapsed": false
   },
   "id": "675277205403990"
  },
  {
   "cell_type": "code",
   "outputs": [],
   "source": [
    "generate_barplots(wpli_movement, \"wpli\", \"Movement\")\n",
    "generate_barplots(wpli_non_movement, \"wpli\", \"Non-movement\")"
   ],
   "metadata": {
    "collapsed": false,
    "ExecuteTime": {
     "end_time": "2024-02-26T15:32:16.035137Z",
     "start_time": "2024-02-26T15:31:51.724082Z"
    }
   },
   "id": "63cc719cbe472f42",
   "execution_count": 161
  },
  {
   "cell_type": "code",
   "outputs": [],
   "source": [
    "generate_barplots(coh_movement, \"coh\", \"Movement\")\n",
    "generate_barplots(coh_non_movement, \"coh\", \"Non-movement\")"
   ],
   "metadata": {
    "collapsed": false,
    "ExecuteTime": {
     "end_time": "2024-02-26T15:32:38.588145Z",
     "start_time": "2024-02-26T15:32:16.039658Z"
    }
   },
   "id": "861ca42576f0791c",
   "execution_count": 162
  },
  {
   "cell_type": "code",
   "outputs": [],
   "source": [
    "generate_barplots(pli_movement, \"pli\", \"Movement\")\n",
    "generate_barplots(pli_non_movement, \"pli\", \"Non-movement\")"
   ],
   "metadata": {
    "collapsed": false,
    "ExecuteTime": {
     "end_time": "2024-02-26T15:33:05.238031Z",
     "start_time": "2024-02-26T15:32:38.636933Z"
    }
   },
   "id": "24d331f1745045cb",
   "execution_count": 163
  },
  {
   "cell_type": "code",
   "outputs": [],
   "source": [
    "generate_barplots(dpli_movement, \"dpli\", \"Movement\")\n",
    "generate_barplots(dpli_non_movement, \"dpli\", \"Non-movement\")"
   ],
   "metadata": {
    "collapsed": false,
    "ExecuteTime": {
     "end_time": "2024-02-26T15:33:27.507264Z",
     "start_time": "2024-02-26T15:33:05.263077Z"
    }
   },
   "id": "6d0c0f78f5a731e3",
   "execution_count": 164
  },
  {
   "cell_type": "code",
   "outputs": [],
   "source": [
    "generate_barplots(wpli2_movement, \"wpli2_debiased\", \"Movement\")\n",
    "generate_barplots(wpli2_non_movement, \"wpli2_debiased\", \"Non-movement\")"
   ],
   "metadata": {
    "collapsed": false,
    "ExecuteTime": {
     "end_time": "2024-02-26T15:33:50.161240Z",
     "start_time": "2024-02-26T15:33:26.959829Z"
    }
   },
   "id": "837f7f58cbdcbeea",
   "execution_count": 165
  },
  {
   "cell_type": "markdown",
   "source": [
    "Let's create figures where the WT and KO movement is compared to the non-movement"
   ],
   "metadata": {
    "collapsed": false
   },
   "id": "65d9b5fcc1947632"
  },
  {
   "cell_type": "code",
   "outputs": [],
   "source": [
    "def generate_barplots_mov_vs_non_mov(method, movement_data, non_movement_data, genotype):\n",
    "    fig, axs = plt.subplots(nrows=3, ncols=7, figsize=(35, 15), sharex=True, sharey=True)\n",
    "    axs = axs.ravel()\n",
    "    \n",
    "    # combine the data of both behaviours\n",
    "    ss1 = movement_data[movement_data['genotype'] == genotype]\n",
    "    ss2 = non_movement_data[non_movement_data['genotype'] == genotype]\n",
    "    ss1[\"behaviour\"] = \"Movement\"\n",
    "    ss2[\"behaviour\"] = \"Non-movement\"\n",
    "    concatted = pd.concat([ss1, ss2])\n",
    "    \n",
    "    for i, combination in enumerate(unique_combinations):\n",
    "        chan1, chan2 = combination.split('-')\n",
    "        data_subset = concatted[(concatted['node1'] == chan1) & (concatted['node2'] == chan2)]\n",
    "        \n",
    "        sns.barplot(data=data_subset, x=\"band\", y=\"con\", hue=\"behaviour\", hue_order=[\"Movement\", \"Non-movement\"], ax=axs[i], errorbar=None)\n",
    "        sns.stripplot(data=data_subset, x=\"band\", y=\"con\", hue=\"behaviour\", hue_order=[\"Movement\", \"Non-movement\"], palette='dark:black', alpha=0.4, legend=None, dodge=True, ax=axs[i])\n",
    "        \n",
    "        axs[i].set_title(f\"Movement vs Non-movement: {chan1} and {chan2} ({method.upper()})\")\n",
    "        axs[i].set_xlabel(\"Frequency band\")\n",
    "        axs[i].set_ylabel(f\"Connectivity ({method.upper()})\")\n",
    "    \n",
    "    plt.subplots_adjust(wspace=0.3, hspace=0.3)\n",
    "    plt.tight_layout()\n",
    "    save_figure(os.path.join(plot_folder, f\"mov_vs_non_mov/connectivity/barplots/mov_vs_non_mov/{method.upper()}_{genotype}.png\"))"
   ],
   "metadata": {
    "collapsed": false,
    "ExecuteTime": {
     "end_time": "2024-02-26T15:36:00.590020Z",
     "start_time": "2024-02-26T15:36:00.576600Z"
    }
   },
   "id": "3ed6a733d436d087",
   "execution_count": 166
  },
  {
   "cell_type": "markdown",
   "source": [
    "Let's run it for the WT subjects"
   ],
   "metadata": {
    "collapsed": false
   },
   "id": "3ae7c61cb229cf0d"
  },
  {
   "cell_type": "code",
   "outputs": [
    {
     "name": "stderr",
     "output_type": "stream",
     "text": [
      "/var/folders/rf/xrxwkkr96qq6kyy5jfx9hvgw0000gn/T/ipykernel_2712/3027015320.py:8: SettingWithCopyWarning: \n",
      "A value is trying to be set on a copy of a slice from a DataFrame.\n",
      "Try using .loc[row_indexer,col_indexer] = value instead\n",
      "\n",
      "See the caveats in the documentation: https://pandas.pydata.org/pandas-docs/stable/user_guide/indexing.html#returning-a-view-versus-a-copy\n",
      "  ss1[\"behaviour\"] = \"Movement\"\n",
      "/var/folders/rf/xrxwkkr96qq6kyy5jfx9hvgw0000gn/T/ipykernel_2712/3027015320.py:9: SettingWithCopyWarning: \n",
      "A value is trying to be set on a copy of a slice from a DataFrame.\n",
      "Try using .loc[row_indexer,col_indexer] = value instead\n",
      "\n",
      "See the caveats in the documentation: https://pandas.pydata.org/pandas-docs/stable/user_guide/indexing.html#returning-a-view-versus-a-copy\n",
      "  ss2[\"behaviour\"] = \"Non-movement\"\n",
      "/var/folders/rf/xrxwkkr96qq6kyy5jfx9hvgw0000gn/T/ipykernel_2712/3027015320.py:8: SettingWithCopyWarning: \n",
      "A value is trying to be set on a copy of a slice from a DataFrame.\n",
      "Try using .loc[row_indexer,col_indexer] = value instead\n",
      "\n",
      "See the caveats in the documentation: https://pandas.pydata.org/pandas-docs/stable/user_guide/indexing.html#returning-a-view-versus-a-copy\n",
      "  ss1[\"behaviour\"] = \"Movement\"\n",
      "/var/folders/rf/xrxwkkr96qq6kyy5jfx9hvgw0000gn/T/ipykernel_2712/3027015320.py:9: SettingWithCopyWarning: \n",
      "A value is trying to be set on a copy of a slice from a DataFrame.\n",
      "Try using .loc[row_indexer,col_indexer] = value instead\n",
      "\n",
      "See the caveats in the documentation: https://pandas.pydata.org/pandas-docs/stable/user_guide/indexing.html#returning-a-view-versus-a-copy\n",
      "  ss2[\"behaviour\"] = \"Non-movement\"\n",
      "/var/folders/rf/xrxwkkr96qq6kyy5jfx9hvgw0000gn/T/ipykernel_2712/3027015320.py:8: SettingWithCopyWarning: \n",
      "A value is trying to be set on a copy of a slice from a DataFrame.\n",
      "Try using .loc[row_indexer,col_indexer] = value instead\n",
      "\n",
      "See the caveats in the documentation: https://pandas.pydata.org/pandas-docs/stable/user_guide/indexing.html#returning-a-view-versus-a-copy\n",
      "  ss1[\"behaviour\"] = \"Movement\"\n",
      "/var/folders/rf/xrxwkkr96qq6kyy5jfx9hvgw0000gn/T/ipykernel_2712/3027015320.py:9: SettingWithCopyWarning: \n",
      "A value is trying to be set on a copy of a slice from a DataFrame.\n",
      "Try using .loc[row_indexer,col_indexer] = value instead\n",
      "\n",
      "See the caveats in the documentation: https://pandas.pydata.org/pandas-docs/stable/user_guide/indexing.html#returning-a-view-versus-a-copy\n",
      "  ss2[\"behaviour\"] = \"Non-movement\"\n",
      "/var/folders/rf/xrxwkkr96qq6kyy5jfx9hvgw0000gn/T/ipykernel_2712/3027015320.py:8: SettingWithCopyWarning: \n",
      "A value is trying to be set on a copy of a slice from a DataFrame.\n",
      "Try using .loc[row_indexer,col_indexer] = value instead\n",
      "\n",
      "See the caveats in the documentation: https://pandas.pydata.org/pandas-docs/stable/user_guide/indexing.html#returning-a-view-versus-a-copy\n",
      "  ss1[\"behaviour\"] = \"Movement\"\n",
      "/var/folders/rf/xrxwkkr96qq6kyy5jfx9hvgw0000gn/T/ipykernel_2712/3027015320.py:9: SettingWithCopyWarning: \n",
      "A value is trying to be set on a copy of a slice from a DataFrame.\n",
      "Try using .loc[row_indexer,col_indexer] = value instead\n",
      "\n",
      "See the caveats in the documentation: https://pandas.pydata.org/pandas-docs/stable/user_guide/indexing.html#returning-a-view-versus-a-copy\n",
      "  ss2[\"behaviour\"] = \"Non-movement\"\n",
      "/var/folders/rf/xrxwkkr96qq6kyy5jfx9hvgw0000gn/T/ipykernel_2712/3027015320.py:8: SettingWithCopyWarning: \n",
      "A value is trying to be set on a copy of a slice from a DataFrame.\n",
      "Try using .loc[row_indexer,col_indexer] = value instead\n",
      "\n",
      "See the caveats in the documentation: https://pandas.pydata.org/pandas-docs/stable/user_guide/indexing.html#returning-a-view-versus-a-copy\n",
      "  ss1[\"behaviour\"] = \"Movement\"\n",
      "/var/folders/rf/xrxwkkr96qq6kyy5jfx9hvgw0000gn/T/ipykernel_2712/3027015320.py:9: SettingWithCopyWarning: \n",
      "A value is trying to be set on a copy of a slice from a DataFrame.\n",
      "Try using .loc[row_indexer,col_indexer] = value instead\n",
      "\n",
      "See the caveats in the documentation: https://pandas.pydata.org/pandas-docs/stable/user_guide/indexing.html#returning-a-view-versus-a-copy\n",
      "  ss2[\"behaviour\"] = \"Non-movement\"\n"
     ]
    }
   ],
   "source": [
    "generate_barplots_mov_vs_non_mov(method='coh', movement_data=coh_movement, non_movement_data=coh_non_movement, genotype=\"DRD2-WT\")\n",
    "generate_barplots_mov_vs_non_mov(method='pli', movement_data=pli_movement, non_movement_data=pli_non_movement, genotype=\"DRD2-WT\")\n",
    "generate_barplots_mov_vs_non_mov(method='dpli', movement_data=dpli_movement, non_movement_data=dpli_non_movement, genotype=\"DRD2-WT\")\n",
    "generate_barplots_mov_vs_non_mov(method='wpli', movement_data=wpli_movement, non_movement_data=wpli_non_movement, genotype=\"DRD2-WT\")\n",
    "generate_barplots_mov_vs_non_mov(method='wpli2_debiased', movement_data=wpli2_movement, non_movement_data=wpli2_non_movement, genotype=\"DRD2-WT\")"
   ],
   "metadata": {
    "collapsed": false,
    "ExecuteTime": {
     "end_time": "2024-02-26T15:37:19.095835Z",
     "start_time": "2024-02-26T15:36:02.062619Z"
    }
   },
   "id": "55bd6c4f62046cb0",
   "execution_count": 167
  },
  {
   "cell_type": "markdown",
   "source": [
    "And for the KO subjects"
   ],
   "metadata": {
    "collapsed": false
   },
   "id": "5f84a1c4a718e704"
  },
  {
   "cell_type": "code",
   "outputs": [
    {
     "name": "stderr",
     "output_type": "stream",
     "text": [
      "/var/folders/rf/xrxwkkr96qq6kyy5jfx9hvgw0000gn/T/ipykernel_2712/3027015320.py:8: SettingWithCopyWarning: \n",
      "A value is trying to be set on a copy of a slice from a DataFrame.\n",
      "Try using .loc[row_indexer,col_indexer] = value instead\n",
      "\n",
      "See the caveats in the documentation: https://pandas.pydata.org/pandas-docs/stable/user_guide/indexing.html#returning-a-view-versus-a-copy\n",
      "  ss1[\"behaviour\"] = \"Movement\"\n",
      "/var/folders/rf/xrxwkkr96qq6kyy5jfx9hvgw0000gn/T/ipykernel_2712/3027015320.py:9: SettingWithCopyWarning: \n",
      "A value is trying to be set on a copy of a slice from a DataFrame.\n",
      "Try using .loc[row_indexer,col_indexer] = value instead\n",
      "\n",
      "See the caveats in the documentation: https://pandas.pydata.org/pandas-docs/stable/user_guide/indexing.html#returning-a-view-versus-a-copy\n",
      "  ss2[\"behaviour\"] = \"Non-movement\"\n",
      "/var/folders/rf/xrxwkkr96qq6kyy5jfx9hvgw0000gn/T/ipykernel_2712/3027015320.py:8: SettingWithCopyWarning: \n",
      "A value is trying to be set on a copy of a slice from a DataFrame.\n",
      "Try using .loc[row_indexer,col_indexer] = value instead\n",
      "\n",
      "See the caveats in the documentation: https://pandas.pydata.org/pandas-docs/stable/user_guide/indexing.html#returning-a-view-versus-a-copy\n",
      "  ss1[\"behaviour\"] = \"Movement\"\n",
      "/var/folders/rf/xrxwkkr96qq6kyy5jfx9hvgw0000gn/T/ipykernel_2712/3027015320.py:9: SettingWithCopyWarning: \n",
      "A value is trying to be set on a copy of a slice from a DataFrame.\n",
      "Try using .loc[row_indexer,col_indexer] = value instead\n",
      "\n",
      "See the caveats in the documentation: https://pandas.pydata.org/pandas-docs/stable/user_guide/indexing.html#returning-a-view-versus-a-copy\n",
      "  ss2[\"behaviour\"] = \"Non-movement\"\n",
      "/var/folders/rf/xrxwkkr96qq6kyy5jfx9hvgw0000gn/T/ipykernel_2712/3027015320.py:8: SettingWithCopyWarning: \n",
      "A value is trying to be set on a copy of a slice from a DataFrame.\n",
      "Try using .loc[row_indexer,col_indexer] = value instead\n",
      "\n",
      "See the caveats in the documentation: https://pandas.pydata.org/pandas-docs/stable/user_guide/indexing.html#returning-a-view-versus-a-copy\n",
      "  ss1[\"behaviour\"] = \"Movement\"\n",
      "/var/folders/rf/xrxwkkr96qq6kyy5jfx9hvgw0000gn/T/ipykernel_2712/3027015320.py:9: SettingWithCopyWarning: \n",
      "A value is trying to be set on a copy of a slice from a DataFrame.\n",
      "Try using .loc[row_indexer,col_indexer] = value instead\n",
      "\n",
      "See the caveats in the documentation: https://pandas.pydata.org/pandas-docs/stable/user_guide/indexing.html#returning-a-view-versus-a-copy\n",
      "  ss2[\"behaviour\"] = \"Non-movement\"\n",
      "/var/folders/rf/xrxwkkr96qq6kyy5jfx9hvgw0000gn/T/ipykernel_2712/3027015320.py:8: SettingWithCopyWarning: \n",
      "A value is trying to be set on a copy of a slice from a DataFrame.\n",
      "Try using .loc[row_indexer,col_indexer] = value instead\n",
      "\n",
      "See the caveats in the documentation: https://pandas.pydata.org/pandas-docs/stable/user_guide/indexing.html#returning-a-view-versus-a-copy\n",
      "  ss1[\"behaviour\"] = \"Movement\"\n",
      "/var/folders/rf/xrxwkkr96qq6kyy5jfx9hvgw0000gn/T/ipykernel_2712/3027015320.py:9: SettingWithCopyWarning: \n",
      "A value is trying to be set on a copy of a slice from a DataFrame.\n",
      "Try using .loc[row_indexer,col_indexer] = value instead\n",
      "\n",
      "See the caveats in the documentation: https://pandas.pydata.org/pandas-docs/stable/user_guide/indexing.html#returning-a-view-versus-a-copy\n",
      "  ss2[\"behaviour\"] = \"Non-movement\"\n",
      "/var/folders/rf/xrxwkkr96qq6kyy5jfx9hvgw0000gn/T/ipykernel_2712/3027015320.py:8: SettingWithCopyWarning: \n",
      "A value is trying to be set on a copy of a slice from a DataFrame.\n",
      "Try using .loc[row_indexer,col_indexer] = value instead\n",
      "\n",
      "See the caveats in the documentation: https://pandas.pydata.org/pandas-docs/stable/user_guide/indexing.html#returning-a-view-versus-a-copy\n",
      "  ss1[\"behaviour\"] = \"Movement\"\n",
      "/var/folders/rf/xrxwkkr96qq6kyy5jfx9hvgw0000gn/T/ipykernel_2712/3027015320.py:9: SettingWithCopyWarning: \n",
      "A value is trying to be set on a copy of a slice from a DataFrame.\n",
      "Try using .loc[row_indexer,col_indexer] = value instead\n",
      "\n",
      "See the caveats in the documentation: https://pandas.pydata.org/pandas-docs/stable/user_guide/indexing.html#returning-a-view-versus-a-copy\n",
      "  ss2[\"behaviour\"] = \"Non-movement\"\n"
     ]
    }
   ],
   "source": [
    "generate_barplots_mov_vs_non_mov(method='coh', movement_data=coh_movement, non_movement_data=coh_non_movement, genotype=\"DRD2-KO\")\n",
    "generate_barplots_mov_vs_non_mov(method='pli', movement_data=pli_movement, non_movement_data=pli_non_movement, genotype=\"DRD2-KO\")\n",
    "generate_barplots_mov_vs_non_mov(method='dpli', movement_data=dpli_movement, non_movement_data=dpli_non_movement, genotype=\"DRD2-KO\")\n",
    "generate_barplots_mov_vs_non_mov(method='wpli', movement_data=wpli_movement, non_movement_data=wpli_non_movement, genotype=\"DRD2-KO\")\n",
    "generate_barplots_mov_vs_non_mov(method='wpli2_debiased', movement_data=wpli2_movement, non_movement_data=wpli2_non_movement, genotype=\"DRD2-KO\")"
   ],
   "metadata": {
    "collapsed": false,
    "ExecuteTime": {
     "end_time": "2024-02-26T15:38:43.145336Z",
     "start_time": "2024-02-26T15:37:19.149524Z"
    }
   },
   "id": "428167fda4a97cd9",
   "execution_count": 168
  },
  {
   "cell_type": "markdown",
   "source": [
    "#### Investigation of good/bad epoch distribution\n",
    "spectral_connectivity_epochs vs spectral_connectivity_time "
   ],
   "metadata": {
    "collapsed": false
   },
   "id": "6928886f3bb41b3e"
  },
  {
   "cell_type": "code",
   "outputs": [],
   "source": [
    "epochs_81207_bad = mne.read_epochs(\"/Users/olledejong/Documents/MSc_Biology/ResearchProject2/rp2_data/resting_state/output/epochs/filtered_epochs_resting_state_81207-epo.fif\", preload=True)"
   ],
   "metadata": {
    "collapsed": false
   },
   "id": "bf820ca2b3424631",
   "execution_count": null
  },
  {
   "cell_type": "code",
   "outputs": [],
   "source": [
    "epochs_79593_good = mne.read_epochs(\"/Users/olledejong/Documents/MSc_Biology/ResearchProject2/rp2_data/resting_state/output/epochs/filtered_epochs_resting_state_79593-epo.fif\", preload=True)"
   ],
   "metadata": {
    "collapsed": false,
    "ExecuteTime": {
     "end_time": "2024-02-27T14:20:10.503594Z",
     "start_time": "2024-02-27T14:20:08.248692Z"
    }
   },
   "id": "18a83f391e00b35",
   "execution_count": 230
  },
  {
   "cell_type": "code",
   "outputs": [
    {
     "name": "stderr",
     "output_type": "stream",
     "text": [
      "/Users/olledejong/Documents/MSc_Biology/ResearchProject2/rp2/venv/lib/python3.9/site-packages/mne_connectivity/spectral/time.py:1180: RuntimeWarning: invalid value encountered in divide\n",
      "  wpli = con_num / con_den\n"
     ]
    }
   ],
   "source": [
    "freqs = np.arange(1, 4, .5)  # Example frequency range from 7 to 30 Hz with a step of 2 Hz\n",
    "\n",
    "con = spectral_connectivity_time(\n",
    "    epochs_81207_bad.get_data(picks=[\"OFC_R\", \"OFC_L\"]), freqs, method=\"wpli\", mode='multitaper', sfreq=epochs_81207_bad.info['sfreq'],\n",
    "    fmin=0, fmax=100, faverage=True, verbose=False, n_cycles=freqs, n_jobs=-1\n",
    ")\n",
    "dat_81207_bad = con.get_data(output='dense')"
   ],
   "metadata": {
    "collapsed": false,
    "ExecuteTime": {
     "end_time": "2024-02-27T14:19:10.756711Z",
     "start_time": "2024-02-27T14:14:47.227142Z"
    }
   },
   "id": "eeb4ea806d2097c3",
   "execution_count": 228
  },
  {
   "cell_type": "code",
   "outputs": [
    {
     "name": "stderr",
     "output_type": "stream",
     "text": [
      "/Users/olledejong/Documents/MSc_Biology/ResearchProject2/rp2/venv/lib/python3.9/site-packages/mne_connectivity/spectral/time.py:1180: RuntimeWarning: invalid value encountered in divide\n",
      "  wpli = con_num / con_den\n"
     ]
    }
   ],
   "source": [
    "freqs = np.arange(1, 4, .5)  # Example frequency range from 7 to 30 Hz with a step of 2 Hz\n",
    "\n",
    "con = spectral_connectivity_time(\n",
    "    epochs_79593_good.get_data(picks=[\"OFC_R\", \"OFC_L\"]), freqs, method=\"wpli\", mode='multitaper', sfreq=epochs_79593_good.info['sfreq'],\n",
    "    fmin=0, fmax=100, faverage=True, verbose=False, n_cycles=freqs, n_jobs=-1\n",
    ")\n",
    "dat_79593_good = con.get_data(output='dense')"
   ],
   "metadata": {
    "collapsed": false,
    "ExecuteTime": {
     "end_time": "2024-02-27T14:24:38.234138Z",
     "start_time": "2024-02-27T14:22:18.091988Z"
    }
   },
   "id": "802a1d9be8a03527",
   "execution_count": 238
  },
  {
   "cell_type": "code",
   "outputs": [
    {
     "data": {
      "text/plain": "(0.7794653392317148, 0.7052075034105866)"
     },
     "execution_count": 260,
     "metadata": {},
     "output_type": "execute_result"
    }
   ],
   "source": [
    "np.mean(dat_81207_bad[:-1, 1, 0, 0]), np.mean(dat_79593_good[:-1, 1, 0, 0])"
   ],
   "metadata": {
    "collapsed": false
   },
   "id": "35f1bcf91a9e637b",
   "execution_count": 260
  },
  {
   "cell_type": "code",
   "outputs": [
    {
     "data": {
      "text/plain": "<Axes: ylabel='Count'>"
     },
     "execution_count": 237,
     "metadata": {},
     "output_type": "execute_result"
    },
    {
     "data": {
      "text/plain": "<Figure size 640x480 with 1 Axes>",
      "image/png": "[encoded data removed]"
     },
     "metadata": {},
     "output_type": "display_data"
    }
   ],
   "source": [
    "sns.histplot(dat_81207_bad[:, 1, 0, 0])"
   ],
   "metadata": {
    "collapsed": false,
    "ExecuteTime": {
     "end_time": "2024-02-27T14:21:47.575474Z",
     "start_time": "2024-02-27T14:21:47.125453Z"
    }
   },
   "id": "279f321d64435d",
   "execution_count": 237
  },
  {
   "cell_type": "code",
   "outputs": [
    {
     "data": {
      "text/plain": "<Axes: ylabel='Count'>"
     },
     "execution_count": 251,
     "metadata": {},
     "output_type": "execute_result"
    },
    {
     "data": {
      "text/plain": "<Figure size 640x480 with 1 Axes>",
      "image/png": "[encoded data removed]"
     },
     "metadata": {},
     "output_type": "display_data"
    }
   ],
   "source": [
    "sns.histplot(dat_79593_good[:, 1, 0, 0])"
   ],
   "metadata": {
    "collapsed": false,
    "ExecuteTime": {
     "end_time": "2024-02-27T14:41:39.342667Z",
     "start_time": "2024-02-27T14:41:38.532752Z"
    }
   },
   "id": "53ad9aa8a883ce5b",
   "execution_count": 251
  },
  {
   "cell_type": "code",
   "outputs": [],
   "source": [],
   "metadata": {
    "collapsed": false
   },
   "id": "30dcce5e211b1fa9"
  }
 ],
 "metadata": {
  "kernelspec": {
   "display_name": "Python 3",
   "language": "python",
   "name": "python3"
  },
  "language_info": {
   "codemirror_mode": {
    "name": "ipython",
    "version": 2
   },
   "file_extension": ".py",
   "mimetype": "text/x-python",
   "name": "python",
   "nbconvert_exporter": "python",
   "pygments_lexer": "ipython2",
   "version": "2.7.6"
  }
 },
 "nbformat": 4,
 "nbformat_minor": 5
}
