{
 "cells": [
  {
   "cell_type": "code",
   "source": [
    "import os\n",
    "import mne\n",
    "import numpy as np\n",
    "import pandas as pd\n",
    "import seaborn as sns\n",
    "import matplotlib.pyplot as plt\n",
    "from mne_connectivity import spectral_connectivity_epochs, seed_target_indices\n",
    "from scipy.stats import ttest_ind\n",
    "\n",
    "from resting_state.settings import *\n",
    "from shared.helper_functions import save_figure, select_folder, select_or_create_folder\n",
    "from settings_general import low_qual_chans, freq_bands_eeg"
   ],
   "metadata": {
    "collapsed": false,
    "ExecuteTime": {
     "end_time": "2024-05-28T07:30:56.201433Z",
     "start_time": "2024-05-28T07:30:55.801355Z"
    }
   },
   "id": "7470c82f9621167f",
   "outputs": [],
   "execution_count": 1
  },
  {
   "metadata": {},
   "cell_type": "markdown",
   "source": "Change plot theme",
   "id": "9d3a5b5829baa7bb"
  },
  {
   "metadata": {
    "ExecuteTime": {
     "end_time": "2024-05-28T07:30:56.204914Z",
     "start_time": "2024-05-28T07:30:56.201433Z"
    }
   },
   "cell_type": "code",
   "source": "sns.set_theme()",
   "id": "85bacc30ec002f93",
   "outputs": [],
   "execution_count": 2
  },
  {
   "metadata": {},
   "cell_type": "markdown",
   "source": "And define a palette to plot with",
   "id": "25f31f13c9b25fe5"
  },
  {
   "metadata": {
    "ExecuteTime": {
     "end_time": "2024-05-28T07:30:56.208203Z",
     "start_time": "2024-05-28T07:30:56.204914Z"
    }
   },
   "cell_type": "code",
   "source": [
    "palette = {'DRD2-WT': '#49A078', 'DRD2-KO': '#ED7D3A'}\n",
    "cmap_palette = 'YlOrBr'"
   ],
   "id": "e5ab7429332b451d",
   "outputs": [],
   "execution_count": 3
  },
  {
   "metadata": {},
   "cell_type": "markdown",
   "source": "Let the user select the needed folders",
   "id": "19d219341ec81d3c"
  },
  {
   "cell_type": "code",
   "source": [
    "epoch_folder = select_folder(\"Select the folder that holds epoch files starting with 'epochs_w_cluster_annotations'\")\n",
    "plot_folder = select_or_create_folder(\"Create or select a folder the plots will be saved to\")"
   ],
   "metadata": {
    "collapsed": false,
    "ExecuteTime": {
     "end_time": "2024-05-28T07:31:15.769383Z",
     "start_time": "2024-05-28T07:30:56.208203Z"
    }
   },
   "id": "4c9b36f914db9ab",
   "outputs": [],
   "execution_count": 4
  },
  {
   "metadata": {},
   "cell_type": "markdown",
   "source": [
    "\n",
    "List with channels we're not interested in"
   ],
   "id": "9041015122f8f08b"
  },
  {
   "cell_type": "code",
   "source": [
    "excluded_chans = ['EMG_L', 'EMG_R']"
   ],
   "metadata": {
    "collapsed": false,
    "ExecuteTime": {
     "end_time": "2024-05-28T07:31:18.281265Z",
     "start_time": "2024-05-28T07:31:18.264133Z"
    }
   },
   "id": "7b0e6d20b66ccd53",
   "outputs": [],
   "execution_count": 5
  },
  {
   "cell_type": "markdown",
   "source": [
    "## Let's load all needed epochs"
   ],
   "metadata": {
    "collapsed": false
   },
   "id": "f27e5c1e249cd4dd"
  },
  {
   "cell_type": "code",
   "source": [
    "all_subject_epochs = []\n",
    "for file in os.listdir(epoch_folder):\n",
    "    subj_id = file.split('_')[-1].split('-')[0]\n",
    "    if not file.startswith('epochs_w_cluster_annotations') or int(subj_id) in omitted_after_clustering or int(\n",
    "            subj_id) in omitted_other:\n",
    "        continue\n",
    "    all_subject_epochs.append(mne.read_epochs(os.path.join(epoch_folder, file), preload=True, verbose='WARNING'))"
   ],
   "metadata": {
    "collapsed": false,
    "ExecuteTime": {
     "end_time": "2024-05-28T07:34:55.529957Z",
     "start_time": "2024-05-28T07:34:50.165447Z"
    }
   },
   "id": "d1e5fd720352dc15",
   "outputs": [],
   "execution_count": 14
  },
  {
   "cell_type": "markdown",
   "source": [
    "## Regular connectivity analysis\n",
    "\n",
    "Let's first define a function that allows us to compute the connectivity using a provided method/metric"
   ],
   "metadata": {
    "collapsed": false
   },
   "id": "fcf7778a52063a5c"
  },
  {
   "cell_type": "code",
   "source": [
    "def compute_con(epochs, method, fmin=0, fmax=100):\n",
    "    # Compute spectral connectivity\n",
    "    con = spectral_connectivity_epochs(\n",
    "        epochs, method=method, mode='multitaper', sfreq=epochs.info['sfreq'],\n",
    "        fmin=fmin, fmax=fmax, faverage=True, verbose='WARNING', gc_n_lags=40)\n",
    "    return con.get_data(output='dense')"
   ],
   "metadata": {
    "collapsed": false,
    "ExecuteTime": {
     "end_time": "2024-05-28T07:31:47.081131Z",
     "start_time": "2024-05-28T07:31:47.060809Z"
    }
   },
   "id": "8b629c12c5636131",
   "outputs": [],
   "execution_count": 7
  },
  {
   "cell_type": "markdown",
   "source": [
    "And a function that computes a dataframe holding the connectivity for all the subject's epochs."
   ],
   "metadata": {
    "collapsed": false
   },
   "id": "be9dfb58c5a5f03"
  },
  {
   "cell_type": "code",
   "source": [
    "def connectivity_df(subject_epoch_objects, subject_ids, method):\n",
    "    print(f'Computing {method} connectivity for subjects:\\n {subject_ids}')\n",
    "    results_df = pd.DataFrame()\n",
    "\n",
    "    # per subject, calculate the given measure for all epochs\n",
    "    for subject_epochs in subject_epoch_objects:\n",
    "        subject_id = int(subject_epochs.metadata['animal_id'].iloc[0])\n",
    "        if subject_id not in subject_ids or subject_id in omitted_after_clustering or subject_id in omitted_other:\n",
    "            print(f'Not computing connectivity measure for subject {subject_id} because of quality')\n",
    "            continue\n",
    "            \n",
    "        genotype = subject_epochs.metadata['genotype'].iloc[0]\n",
    "        \n",
    "        # get only resting-state epochs\n",
    "        annotations = cluster_annotations[int(subject_id)]\n",
    "        resting_epochs = subject_epochs[subject_epochs.metadata[\"cluster\"] == annotations['rest']]\n",
    "        resting_epochs = resting_epochs.drop_channels(excluded_chans)\n",
    "    \n",
    "        # compute the given connectivity measure for every frequency band\n",
    "        for band_name, (fmin, fmax) in freq_bands_eeg.items():\n",
    "            # compute the connectivity using the provided method\n",
    "            con = compute_con(resting_epochs, method, fmin, fmax)\n",
    "            \n",
    "            # loop through every channel combination\n",
    "            for i in range(con.shape[1]):\n",
    "                for j in range(i+1, con.shape[0]):\n",
    "                    if subject_id in low_qual_chans.keys():\n",
    "                        if resting_epochs.ch_names[i] in low_qual_chans[subject_id] or resting_epochs.ch_names[j] in low_qual_chans[subject_id]:\n",
    "                            continue\n",
    "                    # add the data\n",
    "                    results_df = pd.concat([results_df, pd.DataFrame({\n",
    "                        'con' : con[j, i, 0],\n",
    "                        'node1' : resting_epochs.ch_names[i],\n",
    "                        'node2' : resting_epochs.ch_names[j],\n",
    "                        'band' : band_name,\n",
    "                        'subject_id': subject_id,\n",
    "                        'genotype': genotype,\n",
    "                        'method': method\n",
    "                    }, index=[0])], ignore_index=True)\n",
    "    print(f'Done computing {method} connectivity.')\n",
    "    return results_df"
   ],
   "metadata": {
    "collapsed": false,
    "ExecuteTime": {
     "end_time": "2024-05-28T07:31:47.837919Z",
     "start_time": "2024-05-28T07:31:47.814944Z"
    }
   },
   "id": "6a4b16e283fd2d4",
   "outputs": [],
   "execution_count": 8
  },
  {
   "cell_type": "markdown",
   "source": [
    "And also a function that allows us to generate a heatmap of the connectivity per channel combination"
   ],
   "metadata": {
    "collapsed": false
   },
   "id": "659f69555261bd4b"
  },
  {
   "cell_type": "code",
   "source": [
    "def generate_con_heatmap(df, freq_band, cmap, fig_title='', method='', ax=None):\n",
    "    # subset the data for a given frequency band\n",
    "    filtered_df = df[df['band'] == freq_band]\n",
    "\n",
    "    # generate pivot table with mean 'method' values\n",
    "    pivot_table = filtered_df.pivot_table(index='node1', columns='node2', values='con', aggfunc='mean')\n",
    "\n",
    "    # make table symmetric by filling missing values\n",
    "    pivot_table = pivot_table.combine_first(pivot_table.T)\n",
    "\n",
    "    # set diagonal and upper triangle values to NaN, this way we still plot all data\n",
    "    for i in range(pivot_table.shape[0]):\n",
    "        for j in range(i, pivot_table.shape[1]):\n",
    "            pivot_table.iat[i, j] = np.nan\n",
    "\n",
    "    fig = sns.heatmap(pivot_table, cmap=cmap, annot=True, fmt=\".2f\", vmin=0, vmax=1, ax=ax, square=True, cbar_kws={'shrink': 0.75})\n",
    "    fig.set_title(fig_title)\n",
    "\n",
    "    cbar = fig.collections[0].colorbar\n",
    "    cbar.set_label(f'Mean {method}', fontsize=12)\n",
    "    cbar.outline.set_edgecolor('black')\n",
    "    cbar.outline.set_linewidth(1)"
   ],
   "metadata": {
    "collapsed": false,
    "ExecuteTime": {
     "end_time": "2024-05-28T07:31:48.748649Z",
     "start_time": "2024-05-28T07:31:48.733846Z"
    }
   },
   "id": "1b1bb310ed8c6c82",
   "outputs": [],
   "execution_count": 9
  },
  {
   "metadata": {},
   "cell_type": "markdown",
   "source": "Let's quickly check how this works",
   "id": "4503b23d777de03b"
  },
  {
   "metadata": {
    "ExecuteTime": {
     "end_time": "2024-05-28T07:33:42.979727Z",
     "start_time": "2024-05-28T07:33:42.822946Z"
    }
   },
   "cell_type": "code",
   "source": [
    "filtered_df = pd.DataFrame({\n",
    "    'node1': [1, 1, 1, 1, 2, 2, 2, 2, 3, 3, 3, 3, 4, 4, 4, 4],\n",
    "    'node2': [1, 2, 3, 4, 1, 2, 3, 4, 1, 2, 3, 4, 1, 2, 3, 4],\n",
    "    'con':  [.1,.2,.3,.4,.5,.6,.7,.8,.9,.0,.1,.2,.3,.4,.5,.6,]\n",
    "})\n",
    "\n",
    "# generate pivot table with mean 'method' values\n",
    "pivot_table = filtered_df.pivot_table(index='node1', columns='node2', values='con', aggfunc='mean')\n",
    "\n",
    "# make table symmetric by filling missing values\n",
    "pivot_table = pivot_table.combine_first(pivot_table.T)\n",
    "\n",
    "# set diagonal and upper triangle values to NaN, this way we still plot all data\n",
    "for i in range(pivot_table.shape[0]):\n",
    "    for j in range(i, pivot_table.shape[1]):\n",
    "        pivot_table.iat[i, j] = np.nan\n",
    "\n",
    "fig = sns.heatmap(pivot_table, cmap='flare', annot=True, fmt=\".2f\", vmin=0, vmax=1, square=True, cbar_kws={'shrink': 0.75})"
   ],
   "id": "648087b908c11612",
   "outputs": [
    {
     "data": {
      "text/plain": [
       "<Figure size 640x480 with 2 Axes>"
      ],
      "image/png": "[encoded data removed]"
     },
     "metadata": {},
     "output_type": "display_data"
    }
   ],
   "execution_count": 11
  },
  {
   "metadata": {},
   "cell_type": "markdown",
   "source": "Now we can see that the reference signal (i, see the dPLI documentation) is on the left.",
   "id": "42619e3dbaf5b2f2"
  },
  {
   "cell_type": "markdown",
   "source": [
    "And a function that allows us to plot the connectivity differences between the two genotypes for the 4 channels of interest"
   ],
   "metadata": {
    "collapsed": false
   },
   "id": "79f7a47ab0dcc421"
  },
  {
   "cell_type": "code",
   "source": [
    "def generate_grid_plot_wt_vs_ko(data):\n",
    "    fig, ax = plt.subplots(nrows=2, ncols=5, figsize=(24, 10))\n",
    "    method = data['method'].iloc[0]\n",
    "    freq_band_names = freq_bands_eeg.keys()\n",
    "    genotypes = data['genotype'].unique()\n",
    "    \n",
    "    if method == 'dpli':  # as you interpret dpli differently, change the color palette to a diverging one\n",
    "        cmap_palette = sns.color_palette('icefire')\n",
    "        \n",
    "    # loop through genotypes\n",
    "    for i, genotype in enumerate(genotypes):\n",
    "        genotype_data = data[data['genotype'] == genotype]\n",
    "        for j, band in enumerate(freq_band_names):\n",
    "            generate_con_heatmap(genotype_data, band, cmap=cmap_palette, fig_title=f'{genotype} - {band} Band', method=method, ax=ax[i, j])\n",
    "    \n",
    "    plt.tight_layout()\n",
    "    plt.subplots_adjust(wspace=0.25, hspace=-0.1)\n",
    "    save_figure(os.path.join(plot_folder, f\"connectivity/{method.upper()}_heatmap.pdf\"))"
   ],
   "metadata": {
    "collapsed": false,
    "ExecuteTime": {
     "end_time": "2024-05-28T07:34:26.364294Z",
     "start_time": "2024-05-28T07:34:26.344409Z"
    }
   },
   "id": "9b779562c2c23164",
   "outputs": [],
   "execution_count": 12
  },
  {
   "cell_type": "markdown",
   "source": [
    "Lastly a function that allows us to generate barplots of the connectivity measures"
   ],
   "metadata": {
    "collapsed": false
   },
   "id": "279324b73df777c9"
  },
  {
   "cell_type": "code",
   "source": [
    "def generate_barplots(data):\n",
    "    combinations = data['node1'] + '-' + data['node2']\n",
    "    unique_combinations = combinations.unique()\n",
    "    \n",
    "    fig, axs = plt.subplots(nrows=3, ncols=7, figsize=(35, 18), sharey=True, sharex=True)\n",
    "    axs = axs.ravel()\n",
    "    \n",
    "    method = data['method'].iloc[0]\n",
    "    \n",
    "    for i, combination in enumerate(unique_combinations):\n",
    "        # subset the data\n",
    "        chan1, chan2 = combination.split('-')\n",
    "        data_subset = data[(data['node1'] == chan1) & (data['node2'] == chan2)]\n",
    "        \n",
    "        sns.barplot(data=data_subset, x=\"band\", y=\"con\", hue=\"genotype\", palette=palette, hue_order=[\"DRD2-WT\", \"DRD2-KO\"], ax=axs[i], errorbar=None)\n",
    "        sns.stripplot(data=data_subset, x=\"band\", y=\"con\", hue=\"genotype\", palette='dark:black', hue_order=[\"DRD2-WT\", \"DRD2-KO\"], alpha=0.4, dodge=True, legend=False, ax=axs[i])\n",
    "        \n",
    "        axs[i].set_title(f\"Connectivity of {chan1} and {chan2} ({method.upper()})\")\n",
    "        axs[i].set_xlabel(\"Frequency band\")\n",
    "        axs[i].set_ylabel(f\"Connectivity ({method.upper()})\")\n",
    "    \n",
    "    plt.subplots_adjust(wspace=0.3, hspace=0.3)\n",
    "    plt.tight_layout()\n",
    "    save_figure(os.path.join(plot_folder, f\"connectivity/{method.upper()}_bar_grid.pdf\"))"
   ],
   "metadata": {
    "collapsed": false,
    "ExecuteTime": {
     "end_time": "2024-05-28T07:34:27.309154Z",
     "start_time": "2024-05-28T07:34:27.296816Z"
    }
   },
   "id": "aa314952cc016de3",
   "outputs": [],
   "execution_count": 13
  },
  {
   "cell_type": "markdown",
   "source": [
    "### Testing on a single subject (30958)\n",
    "\n",
    "#### Phase Lag Index exploration"
   ],
   "metadata": {
    "collapsed": false
   },
   "id": "da2669fdf3845a4"
  },
  {
   "metadata": {
    "ExecuteTime": {
     "end_time": "2024-05-27T07:19:35.890811Z",
     "start_time": "2024-05-27T07:19:35.835364Z"
    }
   },
   "cell_type": "code",
   "source": [
    "for obj in all_subject_epochs:\n",
    "    if obj.metadata.animal_id.iloc[0] == '39508':\n",
    "        epochs_39508 = obj.copy()\n",
    "        \n",
    "epochs_39508.drop_channels(['S1_L', 'S1_R', 'V1_R', 'EMG_L', 'EMG_R'])\n",
    "epochs_39508.info['ch_names']"
   ],
   "id": "aa3ac65ad316dab0",
   "outputs": [
    {
     "data": {
      "text/plain": [
       "['OFC_R', 'OFC_L', 'CG', 'STR_R']"
      ]
     },
     "execution_count": 13,
     "metadata": {},
     "output_type": "execute_result"
    }
   ],
   "execution_count": 13
  },
  {
   "cell_type": "code",
   "source": [
    "fig = plt.figure(figsize=(16, 3))\n",
    "plt.plot(epochs_39508[100].get_data(picks='CG')[0,0,:], label='GC')\n",
    "plt.plot(epochs_39508[100].get_data(picks='STR_R')[0,0,:], label='STR_R')\n",
    "plt.legend()"
   ],
   "metadata": {
    "collapsed": false,
    "ExecuteTime": {
     "end_time": "2024-05-27T07:19:37.054279Z",
     "start_time": "2024-05-27T07:19:36.877522Z"
    }
   },
   "id": "591d69d3a3433359",
   "outputs": [
    {
     "data": {
      "text/plain": [
       "<matplotlib.legend.Legend at 0x19c8318ab90>"
      ]
     },
     "execution_count": 14,
     "metadata": {},
     "output_type": "execute_result"
    },
    {
     "data": {
      "text/plain": [
       "<Figure size 1600x300 with 1 Axes>"
      ],
      "image/png": "[encoded data removed]"
     },
     "metadata": {},
     "output_type": "display_data"
    }
   ],
   "execution_count": 14
  },
  {
   "cell_type": "markdown",
   "source": [
    "Visually, it doesn't seem like one signal is leading or lagging the other."
   ],
   "metadata": {
    "collapsed": false
   },
   "id": "bba13cb53ea4bcd7"
  },
  {
   "cell_type": "code",
   "source": [
    "seeds = [idx for idx, ch_info in enumerate(['OFC_R', 'OFC_L', 'CG', 'STR_R'])]\n",
    "targets = [idx for idx, ch_info in enumerate(['OFC_R', 'OFC_L', 'CG', 'STR_R'])]\n",
    "indices = seed_target_indices(seeds, targets)\n",
    "print(f'Bi-variate indexes used for pairwise connectivity calculations:\\n {indices}')\n",
    "\n",
    "# calculate dpli for one specific epoch\n",
    "dpli_test = spectral_connectivity_epochs(\n",
    "    epochs_39508[100], indices=indices, sfreq=epochs_39508.info['sfreq'], method=\"dpli\", fmin=0, fmax=100\n",
    ")\n",
    "\n",
    "# report some stuff\n",
    "print(f'\\nShape of the dpli output: {dpli_test.get_data(output=\"dense\").shape}')\n",
    "print(f'\\nLength of the frequency array (holds at which the dPLI is calculated): {len(dpli_test.freqs)}')\n",
    "print(f'\\nThe dPLI output:\\n {dpli_test.get_data(output=\"dense\")}')"
   ],
   "metadata": {
    "collapsed": false,
    "ExecuteTime": {
     "end_time": "2024-05-27T07:19:50.125805Z",
     "start_time": "2024-05-27T07:19:50.083934Z"
    }
   },
   "id": "8e065737060619a7",
   "outputs": [
    {
     "name": "stdout",
     "output_type": "stream",
     "text": [
      "Bi-variate indexes used for pairwise connectivity calculations:\n",
      " (array([0, 0, 0, 0, 1, 1, 1, 1, 2, 2, 2, 2, 3, 3, 3, 3]), array([0, 1, 2, 3, 0, 1, 2, 3, 0, 1, 2, 3, 0, 1, 2, 3]))\n",
      "\n",
      "Shape of the dpli output: (4, 4, 500)\n",
      "\n",
      "Length of the frequency array (holds at which the dPLI is calculated): 500\n",
      "\n",
      "The dPLI output:\n",
      " [[[0.5 1.  0.  ... 1.  1.  0. ]\n",
      "  [0.5 1.  1.  ... 0.  0.  0. ]\n",
      "  [0.5 1.  1.  ... 0.  0.  0. ]\n",
      "  [0.5 0.  1.  ... 0.  0.  0. ]]\n",
      "\n",
      " [[0.5 0.  0.  ... 1.  1.  1. ]\n",
      "  [0.5 0.  1.  ... 0.  1.  0. ]\n",
      "  [0.5 0.  0.  ... 1.  1.  1. ]\n",
      "  [0.5 0.  0.  ... 1.  1.  1. ]]\n",
      "\n",
      " [[0.5 0.  0.  ... 1.  1.  1. ]\n",
      "  [0.5 1.  1.  ... 0.  0.  0. ]\n",
      "  [0.5 1.  0.  ... 0.  0.  0. ]\n",
      "  [0.5 0.  0.  ... 1.  1.  1. ]]\n",
      "\n",
      " [[0.5 1.  0.  ... 1.  1.  1. ]\n",
      "  [0.5 1.  1.  ... 0.  0.  0. ]\n",
      "  [0.5 1.  1.  ... 0.  0.  0. ]\n",
      "  [0.5 1.  1.  ... 0.  1.  1. ]]]\n"
     ]
    },
    {
     "name": "stderr",
     "output_type": "stream",
     "text": [
      "C:\\Users\\Olle de Jong\\Documents\\MSc Biology\\rp2\\social-experiments\\venv\\Lib\\site-packages\\mne_connectivity\\spectral\\epochs.py:186: RuntimeWarning: divide by zero encountered in scalar divide\n",
      "  5.0 / np.min(fmin),\n",
      "C:\\Users\\Olle de Jong\\AppData\\Local\\Temp\\ipykernel_2008\\3843220468.py:7: RuntimeWarning: fmin=0.000 Hz corresponds to 0.000 < 5 cycles based on the epoch length 4.999 sec, need at least inf sec epochs or fmin=1.000. Spectrum estimate will be unreliable.\n",
      "  dpli_test = spectral_connectivity_epochs(\n"
     ]
    }
   ],
   "execution_count": 15
  },
  {
   "cell_type": "markdown",
   "source": [
    "Above, we calculated the dpli connectivity measure for one specific epoch. Because we put 'OFC_R', 'OFC_L', 'CG', 'STR_R' in as indices, we get 4x4 = 16 dPLI values per chan to chan comparison. However, we receive a dPLI value per frequency, here resulting in 495 values, which describe the connectivity a different frequencies (see len(dpli_test.freqs))\n",
    "\n",
    "As we compared the GC and STR_R channels of epoch at index 100 of the resting epochs of 39508, we grab the dPLI values for that specific comparison. Note: this is both from CG to STR_R, but also the other way around. Then we average the dPLI for both."
   ],
   "metadata": {
    "collapsed": false
   },
   "id": "4b1b435f3e6c0dbd"
  },
  {
   "cell_type": "code",
   "source": [
    "print(f'Mean dPLI for CG --> STR_R:  {np.average(dpli_test.get_data(output=\"dense\")[2,3,:])}')\n",
    "print(f'Mean dPLI for STR_R --> CG:  {np.average(dpli_test.get_data(output=\"dense\")[3,2,:])}')"
   ],
   "metadata": {
    "collapsed": false,
    "ExecuteTime": {
     "end_time": "2024-05-27T07:19:55.504306Z",
     "start_time": "2024-05-27T07:19:55.490365Z"
    }
   },
   "id": "83ff658477792b94",
   "outputs": [
    {
     "name": "stdout",
     "output_type": "stream",
     "text": [
      "Mean dPLI for CG --> STR_R:  0.681\n",
      "Mean dPLI for STR_R --> CG:  0.319\n"
     ]
    }
   ],
   "execution_count": 16
  },
  {
   "cell_type": "markdown",
   "source": [
    "We can, from these, observe that they are each others opposites, which makes sense, as we calculate the **directed** phase-lag index here. If one leads or lags the other, the score of the reverse is gonna be the opposite. Note; the dPLI ranges from 0 to 1.\n",
    "\n",
    "Now, how do we interpret this?\n",
    "\n",
    "The reference (first provided signal) is lagging the other signal if dPLI is between 0 and 0.5, and the reference signal is leading the other signal is the dPLI is between 0.5 and 1.0.\n",
    "\n",
    "So, the CG is leading the STR_R signal, or, the STR_R is lagging the CG signal.\n"
   ],
   "metadata": {
    "collapsed": false
   },
   "id": "33e707ffaf10f044"
  },
  {
   "cell_type": "markdown",
   "source": "#### Granger Causality exploration",
   "metadata": {
    "collapsed": false
   },
   "id": "1b93a923a2aec545"
  },
  {
   "cell_type": "code",
   "source": [
    "# parietal sensors\n",
    "signals_a = [\n",
    "    idx\n",
    "    for idx, ch_info in enumerate(epochs_39508.info[\"chs\"])\n",
    "    if ch_info[\"ch_name\"] == \"STR_R\" # TODO can add condition for channel here\n",
    "]\n",
    "# occipital sensors\n",
    "signals_b = [\n",
    "    idx\n",
    "    for idx, ch_info in enumerate(epochs_39508.info[\"chs\"])\n",
    "    if ch_info[\"ch_name\"] == \"CG\"\n",
    "]\n",
    "\n",
    "indices_ab = (np.array([signals_a]), np.array([signals_b]))  # A => B\n",
    "indices_ba = (np.array([signals_b]), np.array([signals_a]))  # B => A\n",
    "print(indices_ab)\n",
    "print(indices_ba)"
   ],
   "metadata": {
    "collapsed": false,
    "ExecuteTime": {
     "end_time": "2024-05-16T15:29:09.671784Z",
     "start_time": "2024-05-16T15:29:09.655653Z"
    }
   },
   "id": "22243db37abadfd8",
   "execution_count": 53,
   "outputs": []
  },
  {
   "cell_type": "code",
   "source": [
    "gc_ab = spectral_connectivity_epochs(\n",
    "    epochs_39508[100],\n",
    "    method=[\"gc\"],\n",
    "    indices=indices_ab,\n",
    "    fmin=5,\n",
    "    fmax=30,\n",
    "    gc_n_lags=20,\n",
    "    verbose='WARNING'\n",
    ")  # A => B\n",
    "gc_ba = spectral_connectivity_epochs(\n",
    "    epochs_39508[100],\n",
    "    method=[\"gc\"],\n",
    "    indices=indices_ba,\n",
    "    fmin=5,\n",
    "    fmax=30,\n",
    "    gc_n_lags=20,\n",
    "    verbose='WARNING'\n",
    ")  # B => A\n",
    "freqs = gc_ab.freqs\n",
    "print(gc_ab.shape)\n",
    "print(gc_ab)"
   ],
   "metadata": {
    "collapsed": false,
    "ExecuteTime": {
     "end_time": "2024-05-16T15:29:10.747094Z",
     "start_time": "2024-05-16T15:29:10.643333Z"
    }
   },
   "id": "e40442878dce9d17",
   "execution_count": 54,
   "outputs": []
  },
  {
   "cell_type": "code",
   "source": [
    "fig, axis = plt.subplots(1, 1)\n",
    "axis.plot(freqs, gc_ab.get_data()[0], linewidth=2)\n",
    "axis.set_xlabel(\"Frequency (Hz)\")\n",
    "axis.set_ylabel(\"Connectivity (A.U.)\")\n",
    "fig.suptitle(\"Granger Causality: [STR_R => CG]\")\n",
    "plt.show()"
   ],
   "metadata": {
    "collapsed": false,
    "ExecuteTime": {
     "end_time": "2024-05-16T15:29:11.054414Z",
     "start_time": "2024-05-16T15:29:10.943491Z"
    }
   },
   "id": "1592740469455578",
   "execution_count": 55,
   "outputs": []
  },
  {
   "cell_type": "code",
   "source": [
    "fig, axis = plt.subplots(1, 1)\n",
    "axis.plot(freqs, gc_ba.get_data()[0], linewidth=2)\n",
    "axis.set_xlabel(\"Frequency (Hz)\")\n",
    "axis.set_ylabel(\"Connectivity (A.U.)\")\n",
    "fig.suptitle(\"Granger Causality: [CG => STR_R]\")\n",
    "plt.show()"
   ],
   "metadata": {
    "collapsed": false,
    "ExecuteTime": {
     "end_time": "2024-05-16T15:29:11.335887Z",
     "start_time": "2024-05-16T15:29:11.226160Z"
    }
   },
   "id": "ab69f6f33829f8ed",
   "execution_count": 56,
   "outputs": []
  },
  {
   "cell_type": "code",
   "source": [
    "net_gc = gc_ab.get_data() - gc_ba.get_data()  # [A => B] - [B => A]\n",
    "\n",
    "fig, axis = plt.subplots(1, 1)\n",
    "axis.plot((freqs[0], freqs[-1]), (0, 0), linewidth=2, linestyle=\"--\", color=\"k\")\n",
    "axis.plot(freqs, net_gc[0], linewidth=2)\n",
    "axis.set_xlabel(\"Frequency (Hz)\")\n",
    "axis.set_ylabel(\"Connectivity (A.U.)\")\n",
    "fig.suptitle(\"Net Granger Causality: [STR_R => CG] - [CG => STR_R]\")"
   ],
   "metadata": {
    "collapsed": false,
    "ExecuteTime": {
     "end_time": "2024-05-16T15:29:11.594916Z",
     "start_time": "2024-05-16T15:29:11.451889Z"
    }
   },
   "id": "4511a556001507ef",
   "execution_count": 57,
   "outputs": []
  },
  {
   "cell_type": "markdown",
   "source": [
    "By subtracting the flow of information from CG to STR_R from the flow of information of the reverse we get the net granger causality.\n",
    "\n",
    "This tells us, that for this specific epoch, there's more information flow from the Cingulate Cortex to the Right Striatum than the other way around.\n",
    "\n",
    "#### Time-traversed Granger Causality"
   ],
   "metadata": {
    "collapsed": false
   },
   "id": "83caf04c77b88463"
  },
  {
   "cell_type": "code",
   "source": [
    "# compute GC on time-reversed signals\n",
    "gc_tr_ab = spectral_connectivity_epochs(\n",
    "    epochs_39508[100],\n",
    "    method=[\"gc_tr\"],\n",
    "    indices=indices_ab,\n",
    "    fmin=5,\n",
    "    fmax=30,\n",
    "    gc_n_lags=20,\n",
    "    verbose='WARNING'\n",
    ")  # TR[A => B]\n",
    "gc_tr_ba = spectral_connectivity_epochs(\n",
    "    epochs_39508[100],\n",
    "    method=[\"gc_tr\"],\n",
    "    indices=indices_ba,\n",
    "    fmin=5,\n",
    "    fmax=30,\n",
    "    gc_n_lags=20,\n",
    "    verbose='WARNING'\n",
    ")  # TR[B => A]\n",
    "\n",
    "# compute net GC on time-reversed signals (TR[A => B] - TR[B => A])\n",
    "net_gc_tr = gc_tr_ab.get_data() - gc_tr_ba.get_data()\n",
    "\n",
    "# compute TRGC\n",
    "trgc = net_gc - net_gc_tr"
   ],
   "metadata": {
    "collapsed": false,
    "ExecuteTime": {
     "end_time": "2024-05-16T15:29:12.766625Z",
     "start_time": "2024-05-16T15:29:12.655631Z"
    }
   },
   "id": "ed4c47c5ff9887a2",
   "execution_count": 58,
   "outputs": []
  },
  {
   "cell_type": "markdown",
   "source": [
    "Plot the net time-traversed GC"
   ],
   "metadata": {
    "collapsed": false
   },
   "id": "49d2f49146e7d4bc"
  },
  {
   "cell_type": "code",
   "source": [
    "fig, axis = plt.subplots(1, 1)\n",
    "axis.plot((freqs[0], freqs[-1]), (0, 0), linewidth=2, linestyle=\"--\", color=\"k\")\n",
    "axis.plot(freqs, trgc[0], linewidth=2)\n",
    "axis.set_xlabel(\"Frequency (Hz)\")\n",
    "axis.set_ylabel(\"Connectivity (A.U.)\")\n",
    "fig.suptitle(\"TRGC: net[STR_R => CG] - net time-reversed[CG => STR_R]\")"
   ],
   "metadata": {
    "collapsed": false,
    "ExecuteTime": {
     "end_time": "2024-05-16T15:29:14.521049Z",
     "start_time": "2024-05-16T15:29:14.317073Z"
    }
   },
   "id": "771031291672220e",
   "execution_count": 59,
   "outputs": []
  },
  {
   "cell_type": "markdown",
   "source": [
    "Let's compute the net time-reversed granger causality for the frequencies 0 through 100 Hz."
   ],
   "metadata": {
    "collapsed": false
   },
   "id": "c97afc7309f8fa81"
  },
  {
   "cell_type": "code",
   "source": [
    "gc_ab = spectral_connectivity_epochs(\n",
    "    epochs_39508[100],\n",
    "    method=[\"gc\"],\n",
    "    indices=indices_ab,\n",
    "    fmin=1.01,\n",
    "    fmax=100,\n",
    "    gc_n_lags=20,\n",
    "    verbose='WARNING'\n",
    ")  # A => B\n",
    "gc_ba = spectral_connectivity_epochs(\n",
    "    epochs_39508[100],\n",
    "    method=[\"gc\"],\n",
    "    indices=indices_ba,\n",
    "    fmin=1.01,\n",
    "    fmax=100,\n",
    "    gc_n_lags=20,\n",
    "    verbose='WARNING'\n",
    ")  # B => A\n",
    "freqs = gc_ab.freqs\n",
    "net_gc = gc_ab.get_data() - gc_ba.get_data()  # [A => B] - [B => A]\n",
    "# compute GC on time-reversed signals\n",
    "gc_tr_ab = spectral_connectivity_epochs(\n",
    "    epochs_39508[100],\n",
    "    method=[\"gc_tr\"],\n",
    "    indices=indices_ab,\n",
    "    fmin=1.01,\n",
    "    fmax=100,\n",
    "    gc_n_lags=20,\n",
    "    verbose='WARNING'\n",
    ")  # TR[A => B]\n",
    "gc_tr_ba = spectral_connectivity_epochs(\n",
    "    epochs_39508[100],\n",
    "    method=[\"gc_tr\"],\n",
    "    indices=indices_ba,\n",
    "    fmin=1.01,\n",
    "    fmax=100,\n",
    "    gc_n_lags=20,\n",
    "    verbose='WARNING'\n",
    ")  # TR[B => A]\n",
    "\n",
    "# compute net GC on time-reversed signals (TR[A => B] - TR[B => A])\n",
    "net_gc_tr = gc_tr_ab.get_data() - gc_tr_ba.get_data()\n",
    "\n",
    "# compute TRGC\n",
    "trgc = net_gc - net_gc_tr\n",
    "\n",
    "fig, axis = plt.subplots(1, 1)\n",
    "axis.plot((freqs[0], freqs[-1]), (0, 0), linewidth=2, linestyle=\"--\", color=\"k\")\n",
    "axis.plot(freqs, trgc[0], linewidth=2)\n",
    "for band, (start, end) in freq_bands_eeg.items():\n",
    "    axis.axvline(x=start, color='gray', linestyle='--', alpha=0.3)\n",
    "    axis.axvline(x=end, color='gray', linestyle='--', alpha=0.3)\n",
    "    axis.text((start + end) / 2, axis.get_ylim()[1] * 1.01, band, horizontalalignment='center', verticalalignment='top', fontsize=8, color='black')\n",
    "\n",
    "axis.set_xlabel(\"Frequency (Hz)\")\n",
    "axis.set_ylabel(\"Connectivity (A.U.)\")\n",
    "fig.suptitle(f\"TRGC: net[STR_R => CG] - net time-reversed[CG => STR_R]\")\n",
    "plt.show()"
   ],
   "metadata": {
    "collapsed": false,
    "ExecuteTime": {
     "end_time": "2024-05-16T15:29:23.505975Z",
     "start_time": "2024-05-16T15:29:22.434164Z"
    }
   },
   "id": "d8b4022fdb7b773",
   "execution_count": 60,
   "outputs": []
  },
  {
   "cell_type": "markdown",
   "source": [
    "### Resting-state, DRD2-KO vs DRD2-WT\n",
    "\n",
    "As mentioned in the 'rest_psd_analysis.ipynb' notebook, there are a few animals of which the quality is quite poor. We omitted them from the power analysis, so we will do the same here."
   ],
   "metadata": {
    "collapsed": false
   },
   "id": "a7dfeacfe7075187"
  },
  {
   "metadata": {
    "ExecuteTime": {
     "end_time": "2024-05-28T07:35:08.603852Z",
     "start_time": "2024-05-28T07:35:08.584701Z"
    }
   },
   "cell_type": "code",
   "source": [
    "wt_ids = [sub_obj.metadata[\"animal_id\"].iloc[0] for sub_obj in all_subject_epochs if sub_obj.metadata[\"genotype\"].iloc[0] == \"DRD2-WT\"]\n",
    "ko_ids = [sub_obj.metadata[\"animal_id\"].iloc[0] for sub_obj in all_subject_epochs if sub_obj.metadata[\"genotype\"].iloc[0] == \"DRD2-KO\"]\n",
    "print(wt_ids)\n",
    "print(ko_ids)"
   ],
   "id": "22bf67e60a18f573",
   "outputs": [
    {
     "name": "stdout",
     "output_type": "stream",
     "text": [
      "['39508', '79602', '80620', '80630', '81207', '81217']\n",
      "['39489', '78211', '78227', '79592', '79593', '79604', '80625', '81175', '81193', '81218']\n"
     ]
    }
   ],
   "execution_count": 15
  },
  {
   "metadata": {},
   "cell_type": "markdown",
   "source": "We thus remove 81217, 79604, 81193, and 39489.",
   "id": "c48ee89f8e40376e"
  },
  {
   "metadata": {
    "ExecuteTime": {
     "end_time": "2024-05-28T07:35:09.456784Z",
     "start_time": "2024-05-28T07:35:09.452190Z"
    }
   },
   "cell_type": "code",
   "source": [
    "[wt_ids.remove(x) for x in ['81217', '79604', '81193', '39489'] if x in wt_ids]\n",
    "[ko_ids.remove(x) for x in ['81217', '79604', '81193', '39489'] if x in ko_ids]\n",
    "print(wt_ids)\n",
    "print(ko_ids)"
   ],
   "id": "3ae8dd02ceab2d0",
   "outputs": [
    {
     "name": "stdout",
     "output_type": "stream",
     "text": [
      "['39508', '79602', '80620', '80630', '81207']\n",
      "['78211', '78227', '79592', '79593', '80625', '81175', '81218']\n"
     ]
    }
   ],
   "execution_count": 16
  },
  {
   "metadata": {
    "ExecuteTime": {
     "end_time": "2024-05-28T07:35:11.019236Z",
     "start_time": "2024-05-28T07:35:11.007109Z"
    }
   },
   "cell_type": "code",
   "source": [
    "passed_subject_ids = wt_ids + ko_ids\n",
    "passed_subject_ids = [int(x) for x in passed_subject_ids]\n",
    "passed_subject_ids"
   ],
   "id": "7b887b3f31a9b8fe",
   "outputs": [
    {
     "data": {
      "text/plain": [
       "[39508,\n",
       " 79602,\n",
       " 80620,\n",
       " 80630,\n",
       " 81207,\n",
       " 78211,\n",
       " 78227,\n",
       " 79592,\n",
       " 79593,\n",
       " 80625,\n",
       " 81175,\n",
       " 81218]"
      ]
     },
     "execution_count": 17,
     "metadata": {},
     "output_type": "execute_result"
    }
   ],
   "execution_count": 17
  },
  {
   "cell_type": "markdown",
   "source": "### Coherence (coh)",
   "metadata": {
    "collapsed": false
   },
   "id": "319d9c85e4844ba1"
  },
  {
   "cell_type": "code",
   "source": [
    "coh = connectivity_df(all_subject_epochs, passed_subject_ids, \"coh\")\n",
    "coh.head()"
   ],
   "metadata": {
    "collapsed": false,
    "ExecuteTime": {
     "end_time": "2024-05-16T15:53:39.502655Z",
     "start_time": "2024-05-16T15:53:31.046254Z"
    }
   },
   "id": "f9f8ac3760ccf216",
   "execution_count": 89,
   "outputs": []
  },
  {
   "cell_type": "code",
   "source": [
    "generate_grid_plot_wt_vs_ko(coh)\n",
    "generate_barplots(coh)"
   ],
   "metadata": {
    "collapsed": false,
    "ExecuteTime": {
     "end_time": "2024-05-16T16:01:13.156551Z",
     "start_time": "2024-05-16T16:01:00.047732Z"
    }
   },
   "id": "3e49b2f2324d839a",
   "execution_count": 110,
   "outputs": []
  },
  {
   "cell_type": "markdown",
   "source": [
    "#### Phase Lag Index (PLI)"
   ],
   "metadata": {
    "collapsed": false
   },
   "id": "c035b33310b06030"
  },
  {
   "cell_type": "code",
   "source": [
    "pli = connectivity_df(all_subject_epochs, passed_subject_ids, \"pli\")\n",
    "pli.head()"
   ],
   "metadata": {
    "collapsed": false,
    "ExecuteTime": {
     "end_time": "2024-05-16T16:01:22.089379Z",
     "start_time": "2024-05-16T16:01:13.156551Z"
    }
   },
   "id": "51d8916f8b087a4c",
   "execution_count": 111,
   "outputs": []
  },
  {
   "cell_type": "code",
   "source": [
    "generate_grid_plot_wt_vs_ko(pli)\n",
    "generate_barplots(pli)"
   ],
   "metadata": {
    "collapsed": false,
    "ExecuteTime": {
     "end_time": "2024-05-16T16:01:33.644379Z",
     "start_time": "2024-05-16T16:01:22.089379Z"
    }
   },
   "id": "567cd03a6bd6f60d",
   "execution_count": 112,
   "outputs": []
  },
  {
   "cell_type": "markdown",
   "source": [
    "#### Directed Phase Lag Index (dPLI)"
   ],
   "metadata": {
    "collapsed": false
   },
   "id": "9f3ee6d42e5e592a"
  },
  {
   "cell_type": "code",
   "source": [
    "dpli = connectivity_df(all_subject_epochs, passed_subject_ids, \"dpli\")\n",
    "dpli.head()"
   ],
   "metadata": {
    "collapsed": false,
    "ExecuteTime": {
     "end_time": "2024-05-28T07:35:29.317131Z",
     "start_time": "2024-05-28T07:35:20.607461Z"
    }
   },
   "id": "4b20106d699741d4",
   "outputs": [
    {
     "name": "stdout",
     "output_type": "stream",
     "text": [
      "Computing dpli connectivity for subjects:\n",
      " [39508, 79602, 80620, 80630, 81207, 78211, 78227, 79592, 79593, 80625, 81175, 81218]\n",
      "Not computing connectivity measure for subject 39489 because of quality\n"
     ]
    },
    {
     "name": "stderr",
     "output_type": "stream",
     "text": [
      "C:\\Users\\Olle de Jong\\AppData\\Local\\Temp\\ipykernel_244\\398803393.py:3: RuntimeWarning: fmin=1.000 Hz corresponds to 4.999 < 5 cycles based on the epoch length 4.999 sec, need at least 5.000 sec epochs or fmin=1.000. Spectrum estimate will be unreliable.\n",
      "  con = spectral_connectivity_epochs(\n",
      "C:\\Users\\Olle de Jong\\AppData\\Local\\Temp\\ipykernel_244\\398803393.py:3: RuntimeWarning: fmin=1.000 Hz corresponds to 4.999 < 5 cycles based on the epoch length 4.999 sec, need at least 5.000 sec epochs or fmin=1.000. Spectrum estimate will be unreliable.\n",
      "  con = spectral_connectivity_epochs(\n",
      "C:\\Users\\Olle de Jong\\AppData\\Local\\Temp\\ipykernel_244\\398803393.py:3: RuntimeWarning: fmin=1.000 Hz corresponds to 4.999 < 5 cycles based on the epoch length 4.999 sec, need at least 5.000 sec epochs or fmin=1.000. Spectrum estimate will be unreliable.\n",
      "  con = spectral_connectivity_epochs(\n",
      "C:\\Users\\Olle de Jong\\AppData\\Local\\Temp\\ipykernel_244\\398803393.py:3: RuntimeWarning: fmin=1.000 Hz corresponds to 4.999 < 5 cycles based on the epoch length 4.999 sec, need at least 5.000 sec epochs or fmin=1.000. Spectrum estimate will be unreliable.\n",
      "  con = spectral_connectivity_epochs(\n",
      "C:\\Users\\Olle de Jong\\AppData\\Local\\Temp\\ipykernel_244\\398803393.py:3: RuntimeWarning: fmin=1.000 Hz corresponds to 4.999 < 5 cycles based on the epoch length 4.999 sec, need at least 5.000 sec epochs or fmin=1.000. Spectrum estimate will be unreliable.\n",
      "  con = spectral_connectivity_epochs(\n",
      "C:\\Users\\Olle de Jong\\AppData\\Local\\Temp\\ipykernel_244\\398803393.py:3: RuntimeWarning: fmin=1.000 Hz corresponds to 4.999 < 5 cycles based on the epoch length 4.999 sec, need at least 5.000 sec epochs or fmin=1.000. Spectrum estimate will be unreliable.\n",
      "  con = spectral_connectivity_epochs(\n"
     ]
    },
    {
     "name": "stdout",
     "output_type": "stream",
     "text": [
      "Not computing connectivity measure for subject 79604 because of quality\n"
     ]
    },
    {
     "name": "stderr",
     "output_type": "stream",
     "text": [
      "C:\\Users\\Olle de Jong\\AppData\\Local\\Temp\\ipykernel_244\\398803393.py:3: RuntimeWarning: fmin=1.000 Hz corresponds to 4.999 < 5 cycles based on the epoch length 4.999 sec, need at least 5.000 sec epochs or fmin=1.000. Spectrum estimate will be unreliable.\n",
      "  con = spectral_connectivity_epochs(\n",
      "C:\\Users\\Olle de Jong\\AppData\\Local\\Temp\\ipykernel_244\\398803393.py:3: RuntimeWarning: fmin=1.000 Hz corresponds to 4.999 < 5 cycles based on the epoch length 4.999 sec, need at least 5.000 sec epochs or fmin=1.000. Spectrum estimate will be unreliable.\n",
      "  con = spectral_connectivity_epochs(\n",
      "C:\\Users\\Olle de Jong\\AppData\\Local\\Temp\\ipykernel_244\\398803393.py:3: RuntimeWarning: fmin=1.000 Hz corresponds to 4.999 < 5 cycles based on the epoch length 4.999 sec, need at least 5.000 sec epochs or fmin=1.000. Spectrum estimate will be unreliable.\n",
      "  con = spectral_connectivity_epochs(\n",
      "C:\\Users\\Olle de Jong\\AppData\\Local\\Temp\\ipykernel_244\\398803393.py:3: RuntimeWarning: fmin=1.000 Hz corresponds to 4.999 < 5 cycles based on the epoch length 4.999 sec, need at least 5.000 sec epochs or fmin=1.000. Spectrum estimate will be unreliable.\n",
      "  con = spectral_connectivity_epochs(\n"
     ]
    },
    {
     "name": "stdout",
     "output_type": "stream",
     "text": [
      "Not computing connectivity measure for subject 81193 because of quality\n"
     ]
    },
    {
     "name": "stderr",
     "output_type": "stream",
     "text": [
      "C:\\Users\\Olle de Jong\\AppData\\Local\\Temp\\ipykernel_244\\398803393.py:3: RuntimeWarning: fmin=1.000 Hz corresponds to 4.999 < 5 cycles based on the epoch length 4.999 sec, need at least 5.000 sec epochs or fmin=1.000. Spectrum estimate will be unreliable.\n",
      "  con = spectral_connectivity_epochs(\n"
     ]
    },
    {
     "name": "stdout",
     "output_type": "stream",
     "text": [
      "Not computing connectivity measure for subject 81217 because of quality\n"
     ]
    },
    {
     "name": "stderr",
     "output_type": "stream",
     "text": [
      "C:\\Users\\Olle de Jong\\AppData\\Local\\Temp\\ipykernel_244\\398803393.py:3: RuntimeWarning: fmin=1.000 Hz corresponds to 4.999 < 5 cycles based on the epoch length 4.999 sec, need at least 5.000 sec epochs or fmin=1.000. Spectrum estimate will be unreliable.\n",
      "  con = spectral_connectivity_epochs(\n"
     ]
    },
    {
     "name": "stdout",
     "output_type": "stream",
     "text": [
      "Done computing dpli connectivity.\n"
     ]
    },
    {
     "data": {
      "text/plain": [
       "        con  node1  node2      band  subject_id genotype method\n",
       "0  0.582051  OFC_R  OFC_L  $\\delta$       39508  DRD2-WT   dpli\n",
       "1  0.651282  OFC_R     CG  $\\delta$       39508  DRD2-WT   dpli\n",
       "2  0.202564  OFC_R  STR_R  $\\delta$       39508  DRD2-WT   dpli\n",
       "3  0.705128  OFC_R   S1_L  $\\delta$       39508  DRD2-WT   dpli\n",
       "4  0.615385  OFC_R   S1_R  $\\delta$       39508  DRD2-WT   dpli"
      ],
      "text/html": [
       "<div>\n",
       "<style scoped>\n",
       "    .dataframe tbody tr th:only-of-type {\n",
       "        vertical-align: middle;\n",
       "    }\n",
       "\n",
       "    .dataframe tbody tr th {\n",
       "        vertical-align: top;\n",
       "    }\n",
       "\n",
       "    .dataframe thead th {\n",
       "        text-align: right;\n",
       "    }\n",
       "</style>\n",
       "<table border=\"1\" class=\"dataframe\">\n",
       "  <thead>\n",
       "    <tr style=\"text-align: right;\">\n",
       "      <th></th>\n",
       "      <th>con</th>\n",
       "      <th>node1</th>\n",
       "      <th>node2</th>\n",
       "      <th>band</th>\n",
       "      <th>subject_id</th>\n",
       "      <th>genotype</th>\n",
       "      <th>method</th>\n",
       "    </tr>\n",
       "  </thead>\n",
       "  <tbody>\n",
       "    <tr>\n",
       "      <th>0</th>\n",
       "      <td>0.582051</td>\n",
       "      <td>OFC_R</td>\n",
       "      <td>OFC_L</td>\n",
       "      <td>$\\delta$</td>\n",
       "      <td>39508</td>\n",
       "      <td>DRD2-WT</td>\n",
       "      <td>dpli</td>\n",
       "    </tr>\n",
       "    <tr>\n",
       "      <th>1</th>\n",
       "      <td>0.651282</td>\n",
       "      <td>OFC_R</td>\n",
       "      <td>CG</td>\n",
       "      <td>$\\delta$</td>\n",
       "      <td>39508</td>\n",
       "      <td>DRD2-WT</td>\n",
       "      <td>dpli</td>\n",
       "    </tr>\n",
       "    <tr>\n",
       "      <th>2</th>\n",
       "      <td>0.202564</td>\n",
       "      <td>OFC_R</td>\n",
       "      <td>STR_R</td>\n",
       "      <td>$\\delta$</td>\n",
       "      <td>39508</td>\n",
       "      <td>DRD2-WT</td>\n",
       "      <td>dpli</td>\n",
       "    </tr>\n",
       "    <tr>\n",
       "      <th>3</th>\n",
       "      <td>0.705128</td>\n",
       "      <td>OFC_R</td>\n",
       "      <td>S1_L</td>\n",
       "      <td>$\\delta$</td>\n",
       "      <td>39508</td>\n",
       "      <td>DRD2-WT</td>\n",
       "      <td>dpli</td>\n",
       "    </tr>\n",
       "    <tr>\n",
       "      <th>4</th>\n",
       "      <td>0.615385</td>\n",
       "      <td>OFC_R</td>\n",
       "      <td>S1_R</td>\n",
       "      <td>$\\delta$</td>\n",
       "      <td>39508</td>\n",
       "      <td>DRD2-WT</td>\n",
       "      <td>dpli</td>\n",
       "    </tr>\n",
       "  </tbody>\n",
       "</table>\n",
       "</div>"
      ]
     },
     "execution_count": 18,
     "metadata": {},
     "output_type": "execute_result"
    }
   ],
   "execution_count": 18
  },
  {
   "metadata": {
    "ExecuteTime": {
     "end_time": "2024-05-28T07:46:35.332100Z",
     "start_time": "2024-05-28T07:46:35.259289Z"
    }
   },
   "cell_type": "code",
   "source": [
    "for combi_data in dpli.groupby(['node1', 'node2']):\n",
    "    combi, data = combi_data[0], combi_data[1]\n",
    "    for band in ['$\\\\delta$', '$\\\\theta$', '$\\\\alpha$']:\n",
    "        band_data = data[data.band == band]\n",
    "        wt_data, ko_data = band_data[band_data.genotype == 'DRD2-WT'], band_data[band_data.genotype == 'DRD2-KO']\n",
    "        \n",
    "        t_stat, p_val = ttest_ind(wt_data.con, ko_data.con)\n",
    "        if p_val < 0.05:\n",
    "            print(f'Significant! Combination {combi[0]}-->{combi[1]} has a p-value of {p_val} in band {band}')\n",
    "        else:\n",
    "            print(f'Not significant, Combination {combi[0]}-->{combi[1]} has p-value {p_val} in band {band}')"
   ],
   "id": "2e9e16b4f07bec35",
   "outputs": [
    {
     "name": "stdout",
     "output_type": "stream",
     "text": [
      "Not significant, Combination CG-->S1_L has p-value 0.5397074461451781 in band $\\delta$\n",
      "Not significant, Combination CG-->S1_L has p-value 0.6810533247768034 in band $\\theta$\n",
      "Not significant, Combination CG-->S1_L has p-value 0.8640070625461769 in band $\\alpha$\n",
      "Not significant, Combination CG-->S1_R has p-value 0.47459282688355275 in band $\\delta$\n",
      "Not significant, Combination CG-->S1_R has p-value 0.4810985328359285 in band $\\theta$\n",
      "Not significant, Combination CG-->S1_R has p-value 0.4353475770349815 in band $\\alpha$\n",
      "Not significant, Combination CG-->STR_R has p-value 0.07571924879600679 in band $\\delta$\n",
      "Not significant, Combination CG-->STR_R has p-value 0.09190906183264355 in band $\\theta$\n",
      "Not significant, Combination CG-->STR_R has p-value 0.17935538165635995 in band $\\alpha$\n",
      "Not significant, Combination CG-->V1_R has p-value 0.31349996361002214 in band $\\delta$\n",
      "Not significant, Combination CG-->V1_R has p-value 0.8969698406979529 in band $\\theta$\n",
      "Not significant, Combination CG-->V1_R has p-value 0.5629421355182634 in band $\\alpha$\n",
      "Not significant, Combination OFC_L-->CG has p-value 0.48428097417781224 in band $\\delta$\n",
      "Not significant, Combination OFC_L-->CG has p-value 0.1915807214814769 in band $\\theta$\n",
      "Not significant, Combination OFC_L-->CG has p-value 0.3627776022395829 in band $\\alpha$\n",
      "Not significant, Combination OFC_L-->S1_L has p-value 0.7425651081258995 in band $\\delta$\n",
      "Not significant, Combination OFC_L-->S1_L has p-value 0.9859759331432247 in band $\\theta$\n",
      "Not significant, Combination OFC_L-->S1_L has p-value 0.22769319244699324 in band $\\alpha$\n",
      "Not significant, Combination OFC_L-->S1_R has p-value 0.6836056530119738 in band $\\delta$\n",
      "Not significant, Combination OFC_L-->S1_R has p-value 0.10478310588339904 in band $\\theta$\n",
      "Not significant, Combination OFC_L-->S1_R has p-value 0.9978397892241713 in band $\\alpha$\n",
      "Not significant, Combination OFC_L-->STR_R has p-value 0.27403046879999804 in band $\\delta$\n",
      "Not significant, Combination OFC_L-->STR_R has p-value 0.36779965837645945 in band $\\theta$\n",
      "Not significant, Combination OFC_L-->STR_R has p-value 0.6438931690539579 in band $\\alpha$\n",
      "Not significant, Combination OFC_L-->V1_R has p-value 0.47450406604062145 in band $\\delta$\n",
      "Not significant, Combination OFC_L-->V1_R has p-value 0.46976942893033213 in band $\\theta$\n",
      "Not significant, Combination OFC_L-->V1_R has p-value 0.25145132175433443 in band $\\alpha$\n",
      "Not significant, Combination OFC_R-->CG has p-value 0.5691593605482568 in band $\\delta$\n",
      "Not significant, Combination OFC_R-->CG has p-value 0.2815417015334804 in band $\\theta$\n",
      "Not significant, Combination OFC_R-->CG has p-value 0.9046884839017442 in band $\\alpha$\n",
      "Not significant, Combination OFC_R-->OFC_L has p-value 0.7951464425509612 in band $\\delta$\n",
      "Not significant, Combination OFC_R-->OFC_L has p-value 0.981304393787094 in band $\\theta$\n",
      "Not significant, Combination OFC_R-->OFC_L has p-value 0.7816040781004056 in band $\\alpha$\n",
      "Not significant, Combination OFC_R-->S1_L has p-value 0.9474714664158816 in band $\\delta$\n",
      "Not significant, Combination OFC_R-->S1_L has p-value 0.6324393863087661 in band $\\theta$\n",
      "Not significant, Combination OFC_R-->S1_L has p-value 0.5605363482955759 in band $\\alpha$\n",
      "Not significant, Combination OFC_R-->S1_R has p-value 0.9849974557342803 in band $\\delta$\n",
      "Not significant, Combination OFC_R-->S1_R has p-value 0.13312456987856722 in band $\\theta$\n",
      "Not significant, Combination OFC_R-->S1_R has p-value 0.09525369608949058 in band $\\alpha$\n",
      "Not significant, Combination OFC_R-->STR_R has p-value 0.22478192806632435 in band $\\delta$\n",
      "Not significant, Combination OFC_R-->STR_R has p-value 0.1334815419289659 in band $\\theta$\n",
      "Not significant, Combination OFC_R-->STR_R has p-value 0.14423753942489026 in band $\\alpha$\n",
      "Not significant, Combination OFC_R-->V1_R has p-value 0.41146420713405896 in band $\\delta$\n",
      "Not significant, Combination OFC_R-->V1_R has p-value 0.9660782272998314 in band $\\theta$\n",
      "Not significant, Combination OFC_R-->V1_R has p-value 0.5150920992649444 in band $\\alpha$\n",
      "Not significant, Combination S1_L-->S1_R has p-value 0.07501158619943299 in band $\\delta$\n",
      "Not significant, Combination S1_L-->S1_R has p-value 0.3619639427014575 in band $\\theta$\n",
      "Not significant, Combination S1_L-->S1_R has p-value 0.4856303053227442 in band $\\alpha$\n",
      "Not significant, Combination S1_L-->V1_R has p-value 0.46285374538183766 in band $\\delta$\n",
      "Not significant, Combination S1_L-->V1_R has p-value 0.8340909485006962 in band $\\theta$\n",
      "Not significant, Combination S1_L-->V1_R has p-value 0.47152490278902004 in band $\\alpha$\n",
      "Not significant, Combination S1_R-->V1_R has p-value 0.4558680894272299 in band $\\delta$\n",
      "Not significant, Combination S1_R-->V1_R has p-value 0.7812255125230396 in band $\\theta$\n",
      "Not significant, Combination S1_R-->V1_R has p-value 0.8438939994470067 in band $\\alpha$\n",
      "Not significant, Combination STR_R-->S1_L has p-value 0.2873623413287089 in band $\\delta$\n",
      "Not significant, Combination STR_R-->S1_L has p-value 0.37249813866499526 in band $\\theta$\n",
      "Not significant, Combination STR_R-->S1_L has p-value 0.8710844065419412 in band $\\alpha$\n",
      "Not significant, Combination STR_R-->S1_R has p-value 0.2802033680161693 in band $\\delta$\n",
      "Not significant, Combination STR_R-->S1_R has p-value 0.9930464619449064 in band $\\theta$\n",
      "Not significant, Combination STR_R-->S1_R has p-value 0.17782972827295884 in band $\\alpha$\n",
      "Not significant, Combination STR_R-->V1_R has p-value 0.29730046172579544 in band $\\delta$\n",
      "Not significant, Combination STR_R-->V1_R has p-value 0.48788680704786414 in band $\\theta$\n",
      "Not significant, Combination STR_R-->V1_R has p-value 0.9955084824771614 in band $\\alpha$\n"
     ]
    }
   ],
   "execution_count": 32
  },
  {
   "cell_type": "code",
   "source": [
    "generate_grid_plot_wt_vs_ko(dpli)\n",
    "generate_barplots(dpli)"
   ],
   "metadata": {
    "collapsed": false,
    "ExecuteTime": {
     "end_time": "2024-05-17T09:21:45.097353Z",
     "start_time": "2024-05-17T09:21:33.716079Z"
    }
   },
   "id": "b8f061f03d8b1b1c",
   "execution_count": 57,
   "outputs": []
  },
  {
   "cell_type": "markdown",
   "source": [
    "When it comes to dPLI. The reference (first provided signal) is lagging the other signal if dPLI is between 0 and 0.5, and the reference signal is leading the other signal is the dPLI is between 0.5 and 1.0.\n",
    "\n",
    "In the heatmaps we create here, the first provided signal is always on the bottom"
   ],
   "metadata": {
    "collapsed": false
   },
   "id": "c49975d6ca5ac773"
  },
  {
   "cell_type": "markdown",
   "source": [
    "#### Weighted Phase Lag Index (wPLI)"
   ],
   "metadata": {
    "collapsed": false
   },
   "id": "aeebf6bba50e5593"
  },
  {
   "cell_type": "code",
   "source": [
    "wpli = connectivity_df(all_subject_epochs, passed_subject_ids, \"wpli\")\n",
    "wpli.head()"
   ],
   "metadata": {
    "collapsed": false,
    "ExecuteTime": {
     "end_time": "2024-05-28T07:47:47.408366Z",
     "start_time": "2024-05-28T07:47:37.404101Z"
    }
   },
   "id": "b37256bd1af90aeb",
   "outputs": [
    {
     "name": "stdout",
     "output_type": "stream",
     "text": [
      "Computing wpli connectivity for subjects:\n",
      " [39508, 79602, 80620, 80630, 81207, 78211, 78227, 79592, 79593, 80625, 81175, 81218]\n",
      "Not computing connectivity measure for subject 39489 because of quality\n"
     ]
    },
    {
     "name": "stderr",
     "output_type": "stream",
     "text": [
      "C:\\Users\\Olle de Jong\\AppData\\Local\\Temp\\ipykernel_244\\398803393.py:3: RuntimeWarning: fmin=1.000 Hz corresponds to 4.999 < 5 cycles based on the epoch length 4.999 sec, need at least 5.000 sec epochs or fmin=1.000. Spectrum estimate will be unreliable.\n",
      "  con = spectral_connectivity_epochs(\n",
      "C:\\Users\\Olle de Jong\\AppData\\Local\\Temp\\ipykernel_244\\398803393.py:3: RuntimeWarning: fmin=1.000 Hz corresponds to 4.999 < 5 cycles based on the epoch length 4.999 sec, need at least 5.000 sec epochs or fmin=1.000. Spectrum estimate will be unreliable.\n",
      "  con = spectral_connectivity_epochs(\n",
      "C:\\Users\\Olle de Jong\\AppData\\Local\\Temp\\ipykernel_244\\398803393.py:3: RuntimeWarning: fmin=1.000 Hz corresponds to 4.999 < 5 cycles based on the epoch length 4.999 sec, need at least 5.000 sec epochs or fmin=1.000. Spectrum estimate will be unreliable.\n",
      "  con = spectral_connectivity_epochs(\n",
      "C:\\Users\\Olle de Jong\\AppData\\Local\\Temp\\ipykernel_244\\398803393.py:3: RuntimeWarning: fmin=1.000 Hz corresponds to 4.999 < 5 cycles based on the epoch length 4.999 sec, need at least 5.000 sec epochs or fmin=1.000. Spectrum estimate will be unreliable.\n",
      "  con = spectral_connectivity_epochs(\n",
      "C:\\Users\\Olle de Jong\\AppData\\Local\\Temp\\ipykernel_244\\398803393.py:3: RuntimeWarning: fmin=1.000 Hz corresponds to 4.999 < 5 cycles based on the epoch length 4.999 sec, need at least 5.000 sec epochs or fmin=1.000. Spectrum estimate will be unreliable.\n",
      "  con = spectral_connectivity_epochs(\n",
      "C:\\Users\\Olle de Jong\\AppData\\Local\\Temp\\ipykernel_244\\398803393.py:3: RuntimeWarning: fmin=1.000 Hz corresponds to 4.999 < 5 cycles based on the epoch length 4.999 sec, need at least 5.000 sec epochs or fmin=1.000. Spectrum estimate will be unreliable.\n",
      "  con = spectral_connectivity_epochs(\n"
     ]
    },
    {
     "name": "stdout",
     "output_type": "stream",
     "text": [
      "Not computing connectivity measure for subject 79604 because of quality\n"
     ]
    },
    {
     "name": "stderr",
     "output_type": "stream",
     "text": [
      "C:\\Users\\Olle de Jong\\AppData\\Local\\Temp\\ipykernel_244\\398803393.py:3: RuntimeWarning: fmin=1.000 Hz corresponds to 4.999 < 5 cycles based on the epoch length 4.999 sec, need at least 5.000 sec epochs or fmin=1.000. Spectrum estimate will be unreliable.\n",
      "  con = spectral_connectivity_epochs(\n",
      "C:\\Users\\Olle de Jong\\AppData\\Local\\Temp\\ipykernel_244\\398803393.py:3: RuntimeWarning: fmin=1.000 Hz corresponds to 4.999 < 5 cycles based on the epoch length 4.999 sec, need at least 5.000 sec epochs or fmin=1.000. Spectrum estimate will be unreliable.\n",
      "  con = spectral_connectivity_epochs(\n",
      "C:\\Users\\Olle de Jong\\AppData\\Local\\Temp\\ipykernel_244\\398803393.py:3: RuntimeWarning: fmin=1.000 Hz corresponds to 4.999 < 5 cycles based on the epoch length 4.999 sec, need at least 5.000 sec epochs or fmin=1.000. Spectrum estimate will be unreliable.\n",
      "  con = spectral_connectivity_epochs(\n",
      "C:\\Users\\Olle de Jong\\AppData\\Local\\Temp\\ipykernel_244\\398803393.py:3: RuntimeWarning: fmin=1.000 Hz corresponds to 4.999 < 5 cycles based on the epoch length 4.999 sec, need at least 5.000 sec epochs or fmin=1.000. Spectrum estimate will be unreliable.\n",
      "  con = spectral_connectivity_epochs(\n"
     ]
    },
    {
     "name": "stdout",
     "output_type": "stream",
     "text": [
      "Not computing connectivity measure for subject 81193 because of quality\n"
     ]
    },
    {
     "name": "stderr",
     "output_type": "stream",
     "text": [
      "C:\\Users\\Olle de Jong\\AppData\\Local\\Temp\\ipykernel_244\\398803393.py:3: RuntimeWarning: fmin=1.000 Hz corresponds to 4.999 < 5 cycles based on the epoch length 4.999 sec, need at least 5.000 sec epochs or fmin=1.000. Spectrum estimate will be unreliable.\n",
      "  con = spectral_connectivity_epochs(\n"
     ]
    },
    {
     "name": "stdout",
     "output_type": "stream",
     "text": [
      "Not computing connectivity measure for subject 81217 because of quality\n"
     ]
    },
    {
     "name": "stderr",
     "output_type": "stream",
     "text": [
      "C:\\Users\\Olle de Jong\\AppData\\Local\\Temp\\ipykernel_244\\398803393.py:3: RuntimeWarning: fmin=1.000 Hz corresponds to 4.999 < 5 cycles based on the epoch length 4.999 sec, need at least 5.000 sec epochs or fmin=1.000. Spectrum estimate will be unreliable.\n",
      "  con = spectral_connectivity_epochs(\n"
     ]
    },
    {
     "name": "stdout",
     "output_type": "stream",
     "text": [
      "Done computing wpli connectivity.\n"
     ]
    },
    {
     "data": {
      "text/plain": [
       "        con  node1  node2      band  subject_id genotype method\n",
       "0  0.346771  OFC_R  OFC_L  $\\delta$       39508  DRD2-WT   wpli\n",
       "1  0.427274  OFC_R     CG  $\\delta$       39508  DRD2-WT   wpli\n",
       "2  0.891064  OFC_R  STR_R  $\\delta$       39508  DRD2-WT   wpli\n",
       "3  0.465942  OFC_R   S1_L  $\\delta$       39508  DRD2-WT   wpli\n",
       "4  0.247446  OFC_R   S1_R  $\\delta$       39508  DRD2-WT   wpli"
      ],
      "text/html": [
       "<div>\n",
       "<style scoped>\n",
       "    .dataframe tbody tr th:only-of-type {\n",
       "        vertical-align: middle;\n",
       "    }\n",
       "\n",
       "    .dataframe tbody tr th {\n",
       "        vertical-align: top;\n",
       "    }\n",
       "\n",
       "    .dataframe thead th {\n",
       "        text-align: right;\n",
       "    }\n",
       "</style>\n",
       "<table border=\"1\" class=\"dataframe\">\n",
       "  <thead>\n",
       "    <tr style=\"text-align: right;\">\n",
       "      <th></th>\n",
       "      <th>con</th>\n",
       "      <th>node1</th>\n",
       "      <th>node2</th>\n",
       "      <th>band</th>\n",
       "      <th>subject_id</th>\n",
       "      <th>genotype</th>\n",
       "      <th>method</th>\n",
       "    </tr>\n",
       "  </thead>\n",
       "  <tbody>\n",
       "    <tr>\n",
       "      <th>0</th>\n",
       "      <td>0.346771</td>\n",
       "      <td>OFC_R</td>\n",
       "      <td>OFC_L</td>\n",
       "      <td>$\\delta$</td>\n",
       "      <td>39508</td>\n",
       "      <td>DRD2-WT</td>\n",
       "      <td>wpli</td>\n",
       "    </tr>\n",
       "    <tr>\n",
       "      <th>1</th>\n",
       "      <td>0.427274</td>\n",
       "      <td>OFC_R</td>\n",
       "      <td>CG</td>\n",
       "      <td>$\\delta$</td>\n",
       "      <td>39508</td>\n",
       "      <td>DRD2-WT</td>\n",
       "      <td>wpli</td>\n",
       "    </tr>\n",
       "    <tr>\n",
       "      <th>2</th>\n",
       "      <td>0.891064</td>\n",
       "      <td>OFC_R</td>\n",
       "      <td>STR_R</td>\n",
       "      <td>$\\delta$</td>\n",
       "      <td>39508</td>\n",
       "      <td>DRD2-WT</td>\n",
       "      <td>wpli</td>\n",
       "    </tr>\n",
       "    <tr>\n",
       "      <th>3</th>\n",
       "      <td>0.465942</td>\n",
       "      <td>OFC_R</td>\n",
       "      <td>S1_L</td>\n",
       "      <td>$\\delta$</td>\n",
       "      <td>39508</td>\n",
       "      <td>DRD2-WT</td>\n",
       "      <td>wpli</td>\n",
       "    </tr>\n",
       "    <tr>\n",
       "      <th>4</th>\n",
       "      <td>0.247446</td>\n",
       "      <td>OFC_R</td>\n",
       "      <td>S1_R</td>\n",
       "      <td>$\\delta$</td>\n",
       "      <td>39508</td>\n",
       "      <td>DRD2-WT</td>\n",
       "      <td>wpli</td>\n",
       "    </tr>\n",
       "  </tbody>\n",
       "</table>\n",
       "</div>"
      ]
     },
     "execution_count": 33,
     "metadata": {},
     "output_type": "execute_result"
    }
   ],
   "execution_count": 33
  },
  {
   "metadata": {
    "ExecuteTime": {
     "end_time": "2024-05-28T07:48:14.961925Z",
     "start_time": "2024-05-28T07:48:14.895895Z"
    }
   },
   "cell_type": "code",
   "source": [
    "for combi_data in wpli.groupby(['node1', 'node2']):\n",
    "    combi, data = combi_data[0], combi_data[1]\n",
    "    for band in ['$\\\\delta$', '$\\\\theta$', '$\\\\alpha$']:\n",
    "        band_data = data[data.band == band]\n",
    "        wt_data, ko_data = band_data[band_data.genotype == 'DRD2-WT'], band_data[band_data.genotype == 'DRD2-KO']\n",
    "        \n",
    "        t_stat, p_val = ttest_ind(wt_data.con, ko_data.con)\n",
    "        if p_val < 0.05:\n",
    "            print(f'Significant! Combination {combi[0]}-->{combi[1]} has a p-value of {p_val} in band {band}')\n",
    "        else:\n",
    "            print(f'Not significant, Combination {combi[0]}-->{combi[1]} has p-value {p_val} in band {band}')"
   ],
   "id": "2871cfdeebfa033a",
   "outputs": [
    {
     "name": "stdout",
     "output_type": "stream",
     "text": [
      "Not significant, Combination CG-->S1_L has p-value 0.926635690625883 in band $\\delta$\n",
      "Not significant, Combination CG-->S1_L has p-value 0.991275876804794 in band $\\theta$\n",
      "Not significant, Combination CG-->S1_L has p-value 0.877672831591011 in band $\\alpha$\n",
      "Not significant, Combination CG-->S1_R has p-value 0.14238287224578203 in band $\\delta$\n",
      "Not significant, Combination CG-->S1_R has p-value 0.4266874626801037 in band $\\theta$\n",
      "Not significant, Combination CG-->S1_R has p-value 0.578770093090583 in band $\\alpha$\n",
      "Not significant, Combination CG-->STR_R has p-value 0.31227267013294246 in band $\\delta$\n",
      "Not significant, Combination CG-->STR_R has p-value 0.10346484899900703 in band $\\theta$\n",
      "Not significant, Combination CG-->STR_R has p-value 0.1338343561331454 in band $\\alpha$\n",
      "Significant! Combination CG-->V1_R has a p-value of 0.034356259349587484 in band $\\delta$\n",
      "Not significant, Combination CG-->V1_R has p-value 0.09446355814640733 in band $\\theta$\n",
      "Not significant, Combination CG-->V1_R has p-value 0.6653941529100853 in band $\\alpha$\n",
      "Not significant, Combination OFC_L-->CG has p-value 0.09212045561510607 in band $\\delta$\n",
      "Not significant, Combination OFC_L-->CG has p-value 0.9307437043463282 in band $\\theta$\n",
      "Not significant, Combination OFC_L-->CG has p-value 0.9206888813763454 in band $\\alpha$\n",
      "Not significant, Combination OFC_L-->S1_L has p-value 0.5296569809364707 in band $\\delta$\n",
      "Not significant, Combination OFC_L-->S1_L has p-value 0.9277263969357804 in band $\\theta$\n",
      "Not significant, Combination OFC_L-->S1_L has p-value 0.4628893890794604 in band $\\alpha$\n",
      "Not significant, Combination OFC_L-->S1_R has p-value 0.29841468080961475 in band $\\delta$\n",
      "Not significant, Combination OFC_L-->S1_R has p-value 0.18540168380254196 in band $\\theta$\n",
      "Not significant, Combination OFC_L-->S1_R has p-value 0.96242845313529 in band $\\alpha$\n",
      "Not significant, Combination OFC_L-->STR_R has p-value 0.20798252171245696 in band $\\delta$\n",
      "Not significant, Combination OFC_L-->STR_R has p-value 0.34499983928628897 in band $\\theta$\n",
      "Not significant, Combination OFC_L-->STR_R has p-value 0.9134947333574142 in band $\\alpha$\n",
      "Not significant, Combination OFC_L-->V1_R has p-value 0.17599027672358972 in band $\\delta$\n",
      "Significant! Combination OFC_L-->V1_R has a p-value of 0.0286799677377772 in band $\\theta$\n",
      "Not significant, Combination OFC_L-->V1_R has p-value 0.33487477873934807 in band $\\alpha$\n",
      "Not significant, Combination OFC_R-->CG has p-value 0.9885369098017951 in band $\\delta$\n",
      "Not significant, Combination OFC_R-->CG has p-value 0.12137329780047115 in band $\\theta$\n",
      "Not significant, Combination OFC_R-->CG has p-value 0.7834701250472738 in band $\\alpha$\n",
      "Not significant, Combination OFC_R-->OFC_L has p-value 0.36631047070693723 in band $\\delta$\n",
      "Not significant, Combination OFC_R-->OFC_L has p-value 0.7186987576508533 in band $\\theta$\n",
      "Not significant, Combination OFC_R-->OFC_L has p-value 0.971749311357582 in band $\\alpha$\n",
      "Not significant, Combination OFC_R-->S1_L has p-value 0.8290344440515162 in band $\\delta$\n",
      "Not significant, Combination OFC_R-->S1_L has p-value 0.18816245235887136 in band $\\theta$\n",
      "Not significant, Combination OFC_R-->S1_L has p-value 0.4044601791376855 in band $\\alpha$\n",
      "Not significant, Combination OFC_R-->S1_R has p-value 0.5002087721911863 in band $\\delta$\n",
      "Not significant, Combination OFC_R-->S1_R has p-value 0.8193913500760488 in band $\\theta$\n",
      "Significant! Combination OFC_R-->S1_R has a p-value of 0.03468962603353701 in band $\\alpha$\n",
      "Not significant, Combination OFC_R-->STR_R has p-value 0.5783765965706767 in band $\\delta$\n",
      "Not significant, Combination OFC_R-->STR_R has p-value 0.6152896686269369 in band $\\theta$\n",
      "Not significant, Combination OFC_R-->STR_R has p-value 0.7774550070988058 in band $\\alpha$\n",
      "Not significant, Combination OFC_R-->V1_R has p-value 0.1740599672914037 in band $\\delta$\n",
      "Not significant, Combination OFC_R-->V1_R has p-value 0.09805166422984 in band $\\theta$\n",
      "Not significant, Combination OFC_R-->V1_R has p-value 0.47081710351104566 in band $\\alpha$\n",
      "Not significant, Combination S1_L-->S1_R has p-value 0.30518161559871 in band $\\delta$\n",
      "Not significant, Combination S1_L-->S1_R has p-value 0.34420514297619853 in band $\\theta$\n",
      "Not significant, Combination S1_L-->S1_R has p-value 0.9947977129094677 in band $\\alpha$\n",
      "Not significant, Combination S1_L-->V1_R has p-value 0.6339062953640864 in band $\\delta$\n",
      "Not significant, Combination S1_L-->V1_R has p-value 0.6499155428268892 in band $\\theta$\n",
      "Not significant, Combination S1_L-->V1_R has p-value 0.4193145600535093 in band $\\alpha$\n",
      "Not significant, Combination S1_R-->V1_R has p-value 0.4808577894757855 in band $\\delta$\n",
      "Not significant, Combination S1_R-->V1_R has p-value 0.5382468993234332 in band $\\theta$\n",
      "Not significant, Combination S1_R-->V1_R has p-value 0.5772111515828655 in band $\\alpha$\n",
      "Not significant, Combination STR_R-->S1_L has p-value 0.3732533440769147 in band $\\delta$\n",
      "Not significant, Combination STR_R-->S1_L has p-value 0.38560886325562993 in band $\\theta$\n",
      "Not significant, Combination STR_R-->S1_L has p-value 0.8802150283037316 in band $\\alpha$\n",
      "Not significant, Combination STR_R-->S1_R has p-value 0.5992106107328973 in band $\\delta$\n",
      "Not significant, Combination STR_R-->S1_R has p-value 0.5945644027718959 in band $\\theta$\n",
      "Not significant, Combination STR_R-->S1_R has p-value 0.1481750085272789 in band $\\alpha$\n",
      "Not significant, Combination STR_R-->V1_R has p-value 0.25645962203436784 in band $\\delta$\n",
      "Not significant, Combination STR_R-->V1_R has p-value 0.5168250973817301 in band $\\theta$\n",
      "Not significant, Combination STR_R-->V1_R has p-value 0.5364870012726095 in band $\\alpha$\n"
     ]
    }
   ],
   "execution_count": 34
  },
  {
   "cell_type": "code",
   "source": [
    "generate_grid_plot_wt_vs_ko(wpli)\n",
    "generate_barplots(wpli)"
   ],
   "metadata": {
    "collapsed": false,
    "ExecuteTime": {
     "end_time": "2024-05-16T16:02:13.790949Z",
     "start_time": "2024-05-16T16:02:02.198911Z"
    }
   },
   "id": "86e708d91f224929",
   "execution_count": 116,
   "outputs": []
  },
  {
   "cell_type": "markdown",
   "source": [
    "#### Debiased estimator of squared WPLI (wPLI2 debiased)"
   ],
   "metadata": {
    "collapsed": false
   },
   "id": "205436b12da45709"
  },
  {
   "cell_type": "code",
   "source": [
    "wpli2 = connectivity_df(all_subject_epochs, passed_subject_ids, \"wpli2_debiased\")\n",
    "wpli2.head()"
   ],
   "metadata": {
    "collapsed": false,
    "ExecuteTime": {
     "end_time": "2024-05-28T07:49:08.092743Z",
     "start_time": "2024-05-28T07:48:58.228219Z"
    }
   },
   "id": "8fedfb8d11ea209e",
   "outputs": [
    {
     "name": "stdout",
     "output_type": "stream",
     "text": [
      "Computing wpli2_debiased connectivity for subjects:\n",
      " [39508, 79602, 80620, 80630, 81207, 78211, 78227, 79592, 79593, 80625, 81175, 81218]\n",
      "Not computing connectivity measure for subject 39489 because of quality\n"
     ]
    },
    {
     "name": "stderr",
     "output_type": "stream",
     "text": [
      "C:\\Users\\Olle de Jong\\AppData\\Local\\Temp\\ipykernel_244\\398803393.py:3: RuntimeWarning: fmin=1.000 Hz corresponds to 4.999 < 5 cycles based on the epoch length 4.999 sec, need at least 5.000 sec epochs or fmin=1.000. Spectrum estimate will be unreliable.\n",
      "  con = spectral_connectivity_epochs(\n",
      "C:\\Users\\Olle de Jong\\AppData\\Local\\Temp\\ipykernel_244\\398803393.py:3: RuntimeWarning: fmin=1.000 Hz corresponds to 4.999 < 5 cycles based on the epoch length 4.999 sec, need at least 5.000 sec epochs or fmin=1.000. Spectrum estimate will be unreliable.\n",
      "  con = spectral_connectivity_epochs(\n",
      "C:\\Users\\Olle de Jong\\AppData\\Local\\Temp\\ipykernel_244\\398803393.py:3: RuntimeWarning: fmin=1.000 Hz corresponds to 4.999 < 5 cycles based on the epoch length 4.999 sec, need at least 5.000 sec epochs or fmin=1.000. Spectrum estimate will be unreliable.\n",
      "  con = spectral_connectivity_epochs(\n",
      "C:\\Users\\Olle de Jong\\AppData\\Local\\Temp\\ipykernel_244\\398803393.py:3: RuntimeWarning: fmin=1.000 Hz corresponds to 4.999 < 5 cycles based on the epoch length 4.999 sec, need at least 5.000 sec epochs or fmin=1.000. Spectrum estimate will be unreliable.\n",
      "  con = spectral_connectivity_epochs(\n",
      "C:\\Users\\Olle de Jong\\AppData\\Local\\Temp\\ipykernel_244\\398803393.py:3: RuntimeWarning: fmin=1.000 Hz corresponds to 4.999 < 5 cycles based on the epoch length 4.999 sec, need at least 5.000 sec epochs or fmin=1.000. Spectrum estimate will be unreliable.\n",
      "  con = spectral_connectivity_epochs(\n",
      "C:\\Users\\Olle de Jong\\AppData\\Local\\Temp\\ipykernel_244\\398803393.py:3: RuntimeWarning: fmin=1.000 Hz corresponds to 4.999 < 5 cycles based on the epoch length 4.999 sec, need at least 5.000 sec epochs or fmin=1.000. Spectrum estimate will be unreliable.\n",
      "  con = spectral_connectivity_epochs(\n"
     ]
    },
    {
     "name": "stdout",
     "output_type": "stream",
     "text": [
      "Not computing connectivity measure for subject 79604 because of quality\n"
     ]
    },
    {
     "name": "stderr",
     "output_type": "stream",
     "text": [
      "C:\\Users\\Olle de Jong\\AppData\\Local\\Temp\\ipykernel_244\\398803393.py:3: RuntimeWarning: fmin=1.000 Hz corresponds to 4.999 < 5 cycles based on the epoch length 4.999 sec, need at least 5.000 sec epochs or fmin=1.000. Spectrum estimate will be unreliable.\n",
      "  con = spectral_connectivity_epochs(\n",
      "C:\\Users\\Olle de Jong\\AppData\\Local\\Temp\\ipykernel_244\\398803393.py:3: RuntimeWarning: fmin=1.000 Hz corresponds to 4.999 < 5 cycles based on the epoch length 4.999 sec, need at least 5.000 sec epochs or fmin=1.000. Spectrum estimate will be unreliable.\n",
      "  con = spectral_connectivity_epochs(\n",
      "C:\\Users\\Olle de Jong\\AppData\\Local\\Temp\\ipykernel_244\\398803393.py:3: RuntimeWarning: fmin=1.000 Hz corresponds to 4.999 < 5 cycles based on the epoch length 4.999 sec, need at least 5.000 sec epochs or fmin=1.000. Spectrum estimate will be unreliable.\n",
      "  con = spectral_connectivity_epochs(\n",
      "C:\\Users\\Olle de Jong\\AppData\\Local\\Temp\\ipykernel_244\\398803393.py:3: RuntimeWarning: fmin=1.000 Hz corresponds to 4.999 < 5 cycles based on the epoch length 4.999 sec, need at least 5.000 sec epochs or fmin=1.000. Spectrum estimate will be unreliable.\n",
      "  con = spectral_connectivity_epochs(\n"
     ]
    },
    {
     "name": "stdout",
     "output_type": "stream",
     "text": [
      "Not computing connectivity measure for subject 81193 because of quality\n"
     ]
    },
    {
     "name": "stderr",
     "output_type": "stream",
     "text": [
      "C:\\Users\\Olle de Jong\\AppData\\Local\\Temp\\ipykernel_244\\398803393.py:3: RuntimeWarning: fmin=1.000 Hz corresponds to 4.999 < 5 cycles based on the epoch length 4.999 sec, need at least 5.000 sec epochs or fmin=1.000. Spectrum estimate will be unreliable.\n",
      "  con = spectral_connectivity_epochs(\n"
     ]
    },
    {
     "name": "stdout",
     "output_type": "stream",
     "text": [
      "Not computing connectivity measure for subject 81217 because of quality\n"
     ]
    },
    {
     "name": "stderr",
     "output_type": "stream",
     "text": [
      "C:\\Users\\Olle de Jong\\AppData\\Local\\Temp\\ipykernel_244\\398803393.py:3: RuntimeWarning: fmin=1.000 Hz corresponds to 4.999 < 5 cycles based on the epoch length 4.999 sec, need at least 5.000 sec epochs or fmin=1.000. Spectrum estimate will be unreliable.\n",
      "  con = spectral_connectivity_epochs(\n"
     ]
    },
    {
     "name": "stdout",
     "output_type": "stream",
     "text": [
      "Done computing wpli2_debiased connectivity.\n"
     ]
    },
    {
     "data": {
      "text/plain": [
       "        con  node1  node2      band  subject_id genotype          method\n",
       "0  0.105801  OFC_R  OFC_L  $\\delta$       39508  DRD2-WT  wpli2_debiased\n",
       "1  0.171709  OFC_R     CG  $\\delta$       39508  DRD2-WT  wpli2_debiased\n",
       "2  0.780848  OFC_R  STR_R  $\\delta$       39508  DRD2-WT  wpli2_debiased\n",
       "3  0.166352  OFC_R   S1_L  $\\delta$       39508  DRD2-WT  wpli2_debiased\n",
       "4  0.032247  OFC_R   S1_R  $\\delta$       39508  DRD2-WT  wpli2_debiased"
      ],
      "text/html": [
       "<div>\n",
       "<style scoped>\n",
       "    .dataframe tbody tr th:only-of-type {\n",
       "        vertical-align: middle;\n",
       "    }\n",
       "\n",
       "    .dataframe tbody tr th {\n",
       "        vertical-align: top;\n",
       "    }\n",
       "\n",
       "    .dataframe thead th {\n",
       "        text-align: right;\n",
       "    }\n",
       "</style>\n",
       "<table border=\"1\" class=\"dataframe\">\n",
       "  <thead>\n",
       "    <tr style=\"text-align: right;\">\n",
       "      <th></th>\n",
       "      <th>con</th>\n",
       "      <th>node1</th>\n",
       "      <th>node2</th>\n",
       "      <th>band</th>\n",
       "      <th>subject_id</th>\n",
       "      <th>genotype</th>\n",
       "      <th>method</th>\n",
       "    </tr>\n",
       "  </thead>\n",
       "  <tbody>\n",
       "    <tr>\n",
       "      <th>0</th>\n",
       "      <td>0.105801</td>\n",
       "      <td>OFC_R</td>\n",
       "      <td>OFC_L</td>\n",
       "      <td>$\\delta$</td>\n",
       "      <td>39508</td>\n",
       "      <td>DRD2-WT</td>\n",
       "      <td>wpli2_debiased</td>\n",
       "    </tr>\n",
       "    <tr>\n",
       "      <th>1</th>\n",
       "      <td>0.171709</td>\n",
       "      <td>OFC_R</td>\n",
       "      <td>CG</td>\n",
       "      <td>$\\delta$</td>\n",
       "      <td>39508</td>\n",
       "      <td>DRD2-WT</td>\n",
       "      <td>wpli2_debiased</td>\n",
       "    </tr>\n",
       "    <tr>\n",
       "      <th>2</th>\n",
       "      <td>0.780848</td>\n",
       "      <td>OFC_R</td>\n",
       "      <td>STR_R</td>\n",
       "      <td>$\\delta$</td>\n",
       "      <td>39508</td>\n",
       "      <td>DRD2-WT</td>\n",
       "      <td>wpli2_debiased</td>\n",
       "    </tr>\n",
       "    <tr>\n",
       "      <th>3</th>\n",
       "      <td>0.166352</td>\n",
       "      <td>OFC_R</td>\n",
       "      <td>S1_L</td>\n",
       "      <td>$\\delta$</td>\n",
       "      <td>39508</td>\n",
       "      <td>DRD2-WT</td>\n",
       "      <td>wpli2_debiased</td>\n",
       "    </tr>\n",
       "    <tr>\n",
       "      <th>4</th>\n",
       "      <td>0.032247</td>\n",
       "      <td>OFC_R</td>\n",
       "      <td>S1_R</td>\n",
       "      <td>$\\delta$</td>\n",
       "      <td>39508</td>\n",
       "      <td>DRD2-WT</td>\n",
       "      <td>wpli2_debiased</td>\n",
       "    </tr>\n",
       "  </tbody>\n",
       "</table>\n",
       "</div>"
      ]
     },
     "execution_count": 35,
     "metadata": {},
     "output_type": "execute_result"
    }
   ],
   "execution_count": 35
  },
  {
   "metadata": {
    "ExecuteTime": {
     "end_time": "2024-05-28T07:49:10.424670Z",
     "start_time": "2024-05-28T07:49:10.356672Z"
    }
   },
   "cell_type": "code",
   "source": [
    "for combi_data in wpli2.groupby(['node1', 'node2']):\n",
    "    combi, data = combi_data[0], combi_data[1]\n",
    "    for band in ['$\\\\delta$', '$\\\\theta$', '$\\\\alpha$']:\n",
    "        band_data = data[data.band == band]\n",
    "        wt_data, ko_data = band_data[band_data.genotype == 'DRD2-WT'], band_data[band_data.genotype == 'DRD2-KO']\n",
    "        \n",
    "        t_stat, p_val = ttest_ind(wt_data.con, ko_data.con)\n",
    "        if p_val < 0.05:\n",
    "            print(f'Significant! Combination {combi[0]}-->{combi[1]} has a p-value of {p_val} in band {band}')\n",
    "        else:\n",
    "            print(f'Not significant, Combination {combi[0]}-->{combi[1]} has p-value {p_val} in band {band}')"
   ],
   "id": "fb2f3fab7b6ec553",
   "outputs": [
    {
     "name": "stdout",
     "output_type": "stream",
     "text": [
      "Not significant, Combination CG-->S1_L has p-value 0.989202207280722 in band $\\delta$\n",
      "Not significant, Combination CG-->S1_L has p-value 0.9728347368276832 in band $\\theta$\n",
      "Not significant, Combination CG-->S1_L has p-value 0.8635654772538692 in band $\\alpha$\n",
      "Not significant, Combination CG-->S1_R has p-value 0.12926621576188932 in band $\\delta$\n",
      "Not significant, Combination CG-->S1_R has p-value 0.5037274590679375 in band $\\theta$\n",
      "Not significant, Combination CG-->S1_R has p-value 0.5320826706487202 in band $\\alpha$\n",
      "Not significant, Combination CG-->STR_R has p-value 0.324530581189968 in band $\\delta$\n",
      "Not significant, Combination CG-->STR_R has p-value 0.10907861520299077 in band $\\theta$\n",
      "Not significant, Combination CG-->STR_R has p-value 0.1529759387879988 in band $\\alpha$\n",
      "Significant! Combination CG-->V1_R has a p-value of 0.03400075579102431 in band $\\delta$\n",
      "Not significant, Combination CG-->V1_R has p-value 0.15220402335016683 in band $\\theta$\n",
      "Not significant, Combination CG-->V1_R has p-value 0.6394197296012529 in band $\\alpha$\n",
      "Not significant, Combination OFC_L-->CG has p-value 0.08653526255585837 in band $\\delta$\n",
      "Not significant, Combination OFC_L-->CG has p-value 0.7928831565372991 in band $\\theta$\n",
      "Not significant, Combination OFC_L-->CG has p-value 0.8808397485546062 in band $\\alpha$\n",
      "Not significant, Combination OFC_L-->S1_L has p-value 0.6617009873147308 in band $\\delta$\n",
      "Not significant, Combination OFC_L-->S1_L has p-value 0.7522914917292649 in band $\\theta$\n",
      "Not significant, Combination OFC_L-->S1_L has p-value 0.45651035066744183 in band $\\alpha$\n",
      "Not significant, Combination OFC_L-->S1_R has p-value 0.26786136971334473 in band $\\delta$\n",
      "Significant! Combination OFC_L-->S1_R has a p-value of 0.04766437273754513 in band $\\theta$\n",
      "Not significant, Combination OFC_L-->S1_R has p-value 0.90899820366335 in band $\\alpha$\n",
      "Not significant, Combination OFC_L-->STR_R has p-value 0.14750334247581795 in band $\\delta$\n",
      "Not significant, Combination OFC_L-->STR_R has p-value 0.28269319620781785 in band $\\theta$\n",
      "Not significant, Combination OFC_L-->STR_R has p-value 0.9600201627175411 in band $\\alpha$\n",
      "Not significant, Combination OFC_L-->V1_R has p-value 0.08659819376270514 in band $\\delta$\n",
      "Significant! Combination OFC_L-->V1_R has a p-value of 0.018758758384713296 in band $\\theta$\n",
      "Not significant, Combination OFC_L-->V1_R has p-value 0.28403305761453485 in band $\\alpha$\n",
      "Not significant, Combination OFC_R-->CG has p-value 0.9904319650449763 in band $\\delta$\n",
      "Not significant, Combination OFC_R-->CG has p-value 0.1456871989136157 in band $\\theta$\n",
      "Not significant, Combination OFC_R-->CG has p-value 0.742868523485489 in band $\\alpha$\n",
      "Not significant, Combination OFC_R-->OFC_L has p-value 0.4230593107906442 in band $\\delta$\n",
      "Not significant, Combination OFC_R-->OFC_L has p-value 0.5738790565091973 in band $\\theta$\n",
      "Not significant, Combination OFC_R-->OFC_L has p-value 0.9864294950341594 in band $\\alpha$\n",
      "Not significant, Combination OFC_R-->S1_L has p-value 0.9298379875595875 in band $\\delta$\n",
      "Not significant, Combination OFC_R-->S1_L has p-value 0.18073979857795647 in band $\\theta$\n",
      "Not significant, Combination OFC_R-->S1_L has p-value 0.3824153858237809 in band $\\alpha$\n",
      "Not significant, Combination OFC_R-->S1_R has p-value 0.29170768133696556 in band $\\delta$\n",
      "Not significant, Combination OFC_R-->S1_R has p-value 0.9634635905727289 in band $\\theta$\n",
      "Significant! Combination OFC_R-->S1_R has a p-value of 0.03494293394252489 in band $\\alpha$\n",
      "Not significant, Combination OFC_R-->STR_R has p-value 0.5616362267977055 in band $\\delta$\n",
      "Not significant, Combination OFC_R-->STR_R has p-value 0.536247573005942 in band $\\theta$\n",
      "Not significant, Combination OFC_R-->STR_R has p-value 0.8570334753026169 in band $\\alpha$\n",
      "Not significant, Combination OFC_R-->V1_R has p-value 0.07679797470346444 in band $\\delta$\n",
      "Not significant, Combination OFC_R-->V1_R has p-value 0.13478661259429173 in band $\\theta$\n",
      "Not significant, Combination OFC_R-->V1_R has p-value 0.608953280873314 in band $\\alpha$\n",
      "Not significant, Combination S1_L-->S1_R has p-value 0.23989766690635797 in band $\\delta$\n",
      "Not significant, Combination S1_L-->S1_R has p-value 0.4997074052873657 in band $\\theta$\n",
      "Not significant, Combination S1_L-->S1_R has p-value 0.8982333246650935 in band $\\alpha$\n",
      "Not significant, Combination S1_L-->V1_R has p-value 0.9010314608732022 in band $\\delta$\n",
      "Not significant, Combination S1_L-->V1_R has p-value 0.44471621763166913 in band $\\theta$\n",
      "Not significant, Combination S1_L-->V1_R has p-value 0.5094768244809671 in band $\\alpha$\n",
      "Not significant, Combination S1_R-->V1_R has p-value 0.512717238469728 in band $\\delta$\n",
      "Not significant, Combination S1_R-->V1_R has p-value 0.7645823232959092 in band $\\theta$\n",
      "Not significant, Combination S1_R-->V1_R has p-value 0.7197029266389148 in band $\\alpha$\n",
      "Not significant, Combination STR_R-->S1_L has p-value 0.2922993782183254 in band $\\delta$\n",
      "Not significant, Combination STR_R-->S1_L has p-value 0.37683919057946424 in band $\\theta$\n",
      "Not significant, Combination STR_R-->S1_L has p-value 0.7856619545760005 in band $\\alpha$\n",
      "Not significant, Combination STR_R-->S1_R has p-value 0.5297069553468547 in band $\\delta$\n",
      "Not significant, Combination STR_R-->S1_R has p-value 0.5648961489157208 in band $\\theta$\n",
      "Not significant, Combination STR_R-->S1_R has p-value 0.11145581836066289 in band $\\alpha$\n",
      "Not significant, Combination STR_R-->V1_R has p-value 0.21380362346399537 in band $\\delta$\n",
      "Not significant, Combination STR_R-->V1_R has p-value 0.561941341074867 in band $\\theta$\n",
      "Not significant, Combination STR_R-->V1_R has p-value 0.6774388617599867 in band $\\alpha$\n"
     ]
    }
   ],
   "execution_count": 36
  },
  {
   "cell_type": "code",
   "source": [
    "generate_grid_plot_wt_vs_ko(wpli2)\n",
    "generate_barplots(wpli2)"
   ],
   "metadata": {
    "collapsed": false,
    "ExecuteTime": {
     "end_time": "2024-05-16T16:02:34.489358Z",
     "start_time": "2024-05-16T16:02:22.769759Z"
    }
   },
   "id": "8087eb26d729d6cd",
   "execution_count": 118,
   "outputs": []
  },
  {
   "cell_type": "markdown",
   "source": [
    "#### Pairwise Phase Consistency (PPC)"
   ],
   "metadata": {
    "collapsed": false
   },
   "id": "fbcfe804b7cdff9b"
  },
  {
   "cell_type": "code",
   "source": [
    "ppc = connectivity_df(all_subject_epochs, passed_subject_ids, \"ppc\")\n",
    "ppc.head()"
   ],
   "metadata": {
    "collapsed": false,
    "ExecuteTime": {
     "end_time": "2024-05-28T07:50:09.347716Z",
     "start_time": "2024-05-28T07:50:00.390736Z"
    }
   },
   "id": "c5df4d3dea98da54",
   "outputs": [
    {
     "name": "stdout",
     "output_type": "stream",
     "text": [
      "Computing ppc connectivity for subjects:\n",
      " [39508, 79602, 80620, 80630, 81207, 78211, 78227, 79592, 79593, 80625, 81175, 81218]\n",
      "Not computing connectivity measure for subject 39489 because of quality\n"
     ]
    },
    {
     "name": "stderr",
     "output_type": "stream",
     "text": [
      "C:\\Users\\Olle de Jong\\AppData\\Local\\Temp\\ipykernel_244\\398803393.py:3: RuntimeWarning: fmin=1.000 Hz corresponds to 4.999 < 5 cycles based on the epoch length 4.999 sec, need at least 5.000 sec epochs or fmin=1.000. Spectrum estimate will be unreliable.\n",
      "  con = spectral_connectivity_epochs(\n",
      "C:\\Users\\Olle de Jong\\AppData\\Local\\Temp\\ipykernel_244\\398803393.py:3: RuntimeWarning: fmin=1.000 Hz corresponds to 4.999 < 5 cycles based on the epoch length 4.999 sec, need at least 5.000 sec epochs or fmin=1.000. Spectrum estimate will be unreliable.\n",
      "  con = spectral_connectivity_epochs(\n",
      "C:\\Users\\Olle de Jong\\AppData\\Local\\Temp\\ipykernel_244\\398803393.py:3: RuntimeWarning: fmin=1.000 Hz corresponds to 4.999 < 5 cycles based on the epoch length 4.999 sec, need at least 5.000 sec epochs or fmin=1.000. Spectrum estimate will be unreliable.\n",
      "  con = spectral_connectivity_epochs(\n",
      "C:\\Users\\Olle de Jong\\AppData\\Local\\Temp\\ipykernel_244\\398803393.py:3: RuntimeWarning: fmin=1.000 Hz corresponds to 4.999 < 5 cycles based on the epoch length 4.999 sec, need at least 5.000 sec epochs or fmin=1.000. Spectrum estimate will be unreliable.\n",
      "  con = spectral_connectivity_epochs(\n",
      "C:\\Users\\Olle de Jong\\AppData\\Local\\Temp\\ipykernel_244\\398803393.py:3: RuntimeWarning: fmin=1.000 Hz corresponds to 4.999 < 5 cycles based on the epoch length 4.999 sec, need at least 5.000 sec epochs or fmin=1.000. Spectrum estimate will be unreliable.\n",
      "  con = spectral_connectivity_epochs(\n",
      "C:\\Users\\Olle de Jong\\AppData\\Local\\Temp\\ipykernel_244\\398803393.py:3: RuntimeWarning: fmin=1.000 Hz corresponds to 4.999 < 5 cycles based on the epoch length 4.999 sec, need at least 5.000 sec epochs or fmin=1.000. Spectrum estimate will be unreliable.\n",
      "  con = spectral_connectivity_epochs(\n"
     ]
    },
    {
     "name": "stdout",
     "output_type": "stream",
     "text": [
      "Not computing connectivity measure for subject 79604 because of quality\n"
     ]
    },
    {
     "name": "stderr",
     "output_type": "stream",
     "text": [
      "C:\\Users\\Olle de Jong\\AppData\\Local\\Temp\\ipykernel_244\\398803393.py:3: RuntimeWarning: fmin=1.000 Hz corresponds to 4.999 < 5 cycles based on the epoch length 4.999 sec, need at least 5.000 sec epochs or fmin=1.000. Spectrum estimate will be unreliable.\n",
      "  con = spectral_connectivity_epochs(\n",
      "C:\\Users\\Olle de Jong\\AppData\\Local\\Temp\\ipykernel_244\\398803393.py:3: RuntimeWarning: fmin=1.000 Hz corresponds to 4.999 < 5 cycles based on the epoch length 4.999 sec, need at least 5.000 sec epochs or fmin=1.000. Spectrum estimate will be unreliable.\n",
      "  con = spectral_connectivity_epochs(\n",
      "C:\\Users\\Olle de Jong\\AppData\\Local\\Temp\\ipykernel_244\\398803393.py:3: RuntimeWarning: fmin=1.000 Hz corresponds to 4.999 < 5 cycles based on the epoch length 4.999 sec, need at least 5.000 sec epochs or fmin=1.000. Spectrum estimate will be unreliable.\n",
      "  con = spectral_connectivity_epochs(\n",
      "C:\\Users\\Olle de Jong\\AppData\\Local\\Temp\\ipykernel_244\\398803393.py:3: RuntimeWarning: fmin=1.000 Hz corresponds to 4.999 < 5 cycles based on the epoch length 4.999 sec, need at least 5.000 sec epochs or fmin=1.000. Spectrum estimate will be unreliable.\n",
      "  con = spectral_connectivity_epochs(\n"
     ]
    },
    {
     "name": "stdout",
     "output_type": "stream",
     "text": [
      "Not computing connectivity measure for subject 81193 because of quality\n"
     ]
    },
    {
     "name": "stderr",
     "output_type": "stream",
     "text": [
      "C:\\Users\\Olle de Jong\\AppData\\Local\\Temp\\ipykernel_244\\398803393.py:3: RuntimeWarning: fmin=1.000 Hz corresponds to 4.999 < 5 cycles based on the epoch length 4.999 sec, need at least 5.000 sec epochs or fmin=1.000. Spectrum estimate will be unreliable.\n",
      "  con = spectral_connectivity_epochs(\n"
     ]
    },
    {
     "name": "stdout",
     "output_type": "stream",
     "text": [
      "Not computing connectivity measure for subject 81217 because of quality\n"
     ]
    },
    {
     "name": "stderr",
     "output_type": "stream",
     "text": [
      "C:\\Users\\Olle de Jong\\AppData\\Local\\Temp\\ipykernel_244\\398803393.py:3: RuntimeWarning: fmin=1.000 Hz corresponds to 4.999 < 5 cycles based on the epoch length 4.999 sec, need at least 5.000 sec epochs or fmin=1.000. Spectrum estimate will be unreliable.\n",
      "  con = spectral_connectivity_epochs(\n"
     ]
    },
    {
     "name": "stdout",
     "output_type": "stream",
     "text": [
      "Done computing ppc connectivity.\n"
     ]
    },
    {
     "data": {
      "text/plain": [
       "        con  node1  node2      band  subject_id genotype method\n",
       "0  0.834933  OFC_R  OFC_L  $\\delta$       39508  DRD2-WT    ppc\n",
       "1  0.883217  OFC_R     CG  $\\delta$       39508  DRD2-WT    ppc\n",
       "2  0.906560  OFC_R  STR_R  $\\delta$       39508  DRD2-WT    ppc\n",
       "3  0.514237  OFC_R   S1_L  $\\delta$       39508  DRD2-WT    ppc\n",
       "4  0.513965  OFC_R   S1_R  $\\delta$       39508  DRD2-WT    ppc"
      ],
      "text/html": [
       "<div>\n",
       "<style scoped>\n",
       "    .dataframe tbody tr th:only-of-type {\n",
       "        vertical-align: middle;\n",
       "    }\n",
       "\n",
       "    .dataframe tbody tr th {\n",
       "        vertical-align: top;\n",
       "    }\n",
       "\n",
       "    .dataframe thead th {\n",
       "        text-align: right;\n",
       "    }\n",
       "</style>\n",
       "<table border=\"1\" class=\"dataframe\">\n",
       "  <thead>\n",
       "    <tr style=\"text-align: right;\">\n",
       "      <th></th>\n",
       "      <th>con</th>\n",
       "      <th>node1</th>\n",
       "      <th>node2</th>\n",
       "      <th>band</th>\n",
       "      <th>subject_id</th>\n",
       "      <th>genotype</th>\n",
       "      <th>method</th>\n",
       "    </tr>\n",
       "  </thead>\n",
       "  <tbody>\n",
       "    <tr>\n",
       "      <th>0</th>\n",
       "      <td>0.834933</td>\n",
       "      <td>OFC_R</td>\n",
       "      <td>OFC_L</td>\n",
       "      <td>$\\delta$</td>\n",
       "      <td>39508</td>\n",
       "      <td>DRD2-WT</td>\n",
       "      <td>ppc</td>\n",
       "    </tr>\n",
       "    <tr>\n",
       "      <th>1</th>\n",
       "      <td>0.883217</td>\n",
       "      <td>OFC_R</td>\n",
       "      <td>CG</td>\n",
       "      <td>$\\delta$</td>\n",
       "      <td>39508</td>\n",
       "      <td>DRD2-WT</td>\n",
       "      <td>ppc</td>\n",
       "    </tr>\n",
       "    <tr>\n",
       "      <th>2</th>\n",
       "      <td>0.906560</td>\n",
       "      <td>OFC_R</td>\n",
       "      <td>STR_R</td>\n",
       "      <td>$\\delta$</td>\n",
       "      <td>39508</td>\n",
       "      <td>DRD2-WT</td>\n",
       "      <td>ppc</td>\n",
       "    </tr>\n",
       "    <tr>\n",
       "      <th>3</th>\n",
       "      <td>0.514237</td>\n",
       "      <td>OFC_R</td>\n",
       "      <td>S1_L</td>\n",
       "      <td>$\\delta$</td>\n",
       "      <td>39508</td>\n",
       "      <td>DRD2-WT</td>\n",
       "      <td>ppc</td>\n",
       "    </tr>\n",
       "    <tr>\n",
       "      <th>4</th>\n",
       "      <td>0.513965</td>\n",
       "      <td>OFC_R</td>\n",
       "      <td>S1_R</td>\n",
       "      <td>$\\delta$</td>\n",
       "      <td>39508</td>\n",
       "      <td>DRD2-WT</td>\n",
       "      <td>ppc</td>\n",
       "    </tr>\n",
       "  </tbody>\n",
       "</table>\n",
       "</div>"
      ]
     },
     "execution_count": 37,
     "metadata": {},
     "output_type": "execute_result"
    }
   ],
   "execution_count": 37
  },
  {
   "metadata": {
    "ExecuteTime": {
     "end_time": "2024-05-28T07:50:16.814875Z",
     "start_time": "2024-05-28T07:50:16.740824Z"
    }
   },
   "cell_type": "code",
   "source": [
    "for combi_data in ppc.groupby(['node1', 'node2']):\n",
    "    combi, data = combi_data[0], combi_data[1]\n",
    "    for band in ['$\\\\delta$', '$\\\\theta$', '$\\\\alpha$']:\n",
    "        band_data = data[data.band == band]\n",
    "        wt_data, ko_data = band_data[band_data.genotype == 'DRD2-WT'], band_data[band_data.genotype == 'DRD2-KO']\n",
    "        \n",
    "        t_stat, p_val = ttest_ind(wt_data.con, ko_data.con)\n",
    "        if p_val < 0.05:\n",
    "            print(f'Significant! Combination {combi[0]}-->{combi[1]} has a p-value of {p_val} in band {band}')\n",
    "        else:\n",
    "            print(f'Not significant, Combination {combi[0]}-->{combi[1]} has p-value {p_val} in band {band}')"
   ],
   "id": "d0a0be3fd0c8c96c",
   "outputs": [
    {
     "name": "stdout",
     "output_type": "stream",
     "text": [
      "Not significant, Combination CG-->S1_L has p-value 0.2722069259059845 in band $\\delta$\n",
      "Not significant, Combination CG-->S1_L has p-value 0.3549269228583575 in band $\\theta$\n",
      "Not significant, Combination CG-->S1_L has p-value 0.7435144168418546 in band $\\alpha$\n",
      "Not significant, Combination CG-->S1_R has p-value 0.2890751781357318 in band $\\delta$\n",
      "Not significant, Combination CG-->S1_R has p-value 0.816688475187142 in band $\\theta$\n",
      "Not significant, Combination CG-->S1_R has p-value 0.726985712162321 in band $\\alpha$\n",
      "Not significant, Combination CG-->STR_R has p-value 0.11756281504057317 in band $\\delta$\n",
      "Not significant, Combination CG-->STR_R has p-value 0.12977963625902106 in band $\\theta$\n",
      "Not significant, Combination CG-->STR_R has p-value 0.10897676776756518 in band $\\alpha$\n",
      "Not significant, Combination CG-->V1_R has p-value 0.5916079971801464 in band $\\delta$\n",
      "Not significant, Combination CG-->V1_R has p-value 0.3769475228181587 in band $\\theta$\n",
      "Not significant, Combination CG-->V1_R has p-value 0.23208494656545364 in band $\\alpha$\n",
      "Significant! Combination OFC_L-->CG has a p-value of 0.019549454322726693 in band $\\delta$\n",
      "Significant! Combination OFC_L-->CG has a p-value of 0.029845375806179734 in band $\\theta$\n",
      "Significant! Combination OFC_L-->CG has a p-value of 0.04879338029578942 in band $\\alpha$\n",
      "Not significant, Combination OFC_L-->S1_L has p-value 0.997557585767145 in band $\\delta$\n",
      "Not significant, Combination OFC_L-->S1_L has p-value 0.9577243749785636 in band $\\theta$\n",
      "Not significant, Combination OFC_L-->S1_L has p-value 0.5039621746087868 in band $\\alpha$\n",
      "Not significant, Combination OFC_L-->S1_R has p-value 0.6714603818582154 in band $\\delta$\n",
      "Not significant, Combination OFC_L-->S1_R has p-value 0.6672921504365514 in band $\\theta$\n",
      "Not significant, Combination OFC_L-->S1_R has p-value 0.5128955173524093 in band $\\alpha$\n",
      "Not significant, Combination OFC_L-->STR_R has p-value 0.9444290078246959 in band $\\delta$\n",
      "Not significant, Combination OFC_L-->STR_R has p-value 0.5827567444162861 in band $\\theta$\n",
      "Not significant, Combination OFC_L-->STR_R has p-value 0.6139375603193138 in band $\\alpha$\n",
      "Not significant, Combination OFC_L-->V1_R has p-value 0.543184932472808 in band $\\delta$\n",
      "Not significant, Combination OFC_L-->V1_R has p-value 0.3939914283127002 in band $\\theta$\n",
      "Not significant, Combination OFC_L-->V1_R has p-value 0.22843996943326753 in band $\\alpha$\n",
      "Not significant, Combination OFC_R-->CG has p-value 0.3429150439950487 in band $\\delta$\n",
      "Not significant, Combination OFC_R-->CG has p-value 0.24052985256926826 in band $\\theta$\n",
      "Not significant, Combination OFC_R-->CG has p-value 0.939906657049669 in band $\\alpha$\n",
      "Not significant, Combination OFC_R-->OFC_L has p-value 0.6198894174269078 in band $\\delta$\n",
      "Not significant, Combination OFC_R-->OFC_L has p-value 0.4355382091430917 in band $\\theta$\n",
      "Not significant, Combination OFC_R-->OFC_L has p-value 0.7974617400024513 in band $\\alpha$\n",
      "Not significant, Combination OFC_R-->S1_L has p-value 0.3938347110504974 in band $\\delta$\n",
      "Not significant, Combination OFC_R-->S1_L has p-value 0.29386956278317405 in band $\\theta$\n",
      "Not significant, Combination OFC_R-->S1_L has p-value 0.1676931998073599 in band $\\alpha$\n",
      "Not significant, Combination OFC_R-->S1_R has p-value 0.2685591822070409 in band $\\delta$\n",
      "Not significant, Combination OFC_R-->S1_R has p-value 0.05915497195944786 in band $\\theta$\n",
      "Not significant, Combination OFC_R-->S1_R has p-value 0.17269196205378412 in band $\\alpha$\n",
      "Not significant, Combination OFC_R-->STR_R has p-value 0.39906203636310933 in band $\\delta$\n",
      "Not significant, Combination OFC_R-->STR_R has p-value 0.21932143835026355 in band $\\theta$\n",
      "Not significant, Combination OFC_R-->STR_R has p-value 0.3584391332092056 in band $\\alpha$\n",
      "Not significant, Combination OFC_R-->V1_R has p-value 0.25257861845224744 in band $\\delta$\n",
      "Not significant, Combination OFC_R-->V1_R has p-value 0.3429317396716439 in band $\\theta$\n",
      "Not significant, Combination OFC_R-->V1_R has p-value 0.8876206554280393 in band $\\alpha$\n",
      "Not significant, Combination S1_L-->S1_R has p-value 0.5729972042703616 in band $\\delta$\n",
      "Not significant, Combination S1_L-->S1_R has p-value 0.44787572746589255 in band $\\theta$\n",
      "Not significant, Combination S1_L-->S1_R has p-value 0.575196418531716 in band $\\alpha$\n",
      "Not significant, Combination S1_L-->V1_R has p-value 0.5347510745612505 in band $\\delta$\n",
      "Significant! Combination S1_L-->V1_R has a p-value of 0.0387715418157215 in band $\\theta$\n",
      "Not significant, Combination S1_L-->V1_R has p-value 0.14318890669666653 in band $\\alpha$\n",
      "Not significant, Combination S1_R-->V1_R has p-value 0.545989673950285 in band $\\delta$\n",
      "Not significant, Combination S1_R-->V1_R has p-value 0.32782567151044784 in band $\\theta$\n",
      "Not significant, Combination S1_R-->V1_R has p-value 0.4839513538849194 in band $\\alpha$\n",
      "Not significant, Combination STR_R-->S1_L has p-value 0.35831669581280223 in band $\\delta$\n",
      "Not significant, Combination STR_R-->S1_L has p-value 0.23662046929204889 in band $\\theta$\n",
      "Not significant, Combination STR_R-->S1_L has p-value 0.3914794665540565 in band $\\alpha$\n",
      "Not significant, Combination STR_R-->S1_R has p-value 0.3523521241860774 in band $\\delta$\n",
      "Not significant, Combination STR_R-->S1_R has p-value 0.16856429698724232 in band $\\theta$\n",
      "Not significant, Combination STR_R-->S1_R has p-value 0.36742191921488054 in band $\\alpha$\n",
      "Not significant, Combination STR_R-->V1_R has p-value 0.24421291608580606 in band $\\delta$\n",
      "Not significant, Combination STR_R-->V1_R has p-value 0.3735421411732718 in band $\\theta$\n",
      "Not significant, Combination STR_R-->V1_R has p-value 0.6914709500844173 in band $\\alpha$\n"
     ]
    }
   ],
   "execution_count": 38
  },
  {
   "cell_type": "code",
   "source": [
    "generate_grid_plot_wt_vs_ko(ppc)\n",
    "generate_barplots(ppc)"
   ],
   "metadata": {
    "collapsed": false,
    "ExecuteTime": {
     "end_time": "2024-05-16T16:02:55.268181Z",
     "start_time": "2024-05-16T16:02:43.807039Z"
    }
   },
   "id": "7ae7506525f134a4",
   "execution_count": 120,
   "outputs": []
  },
  {
   "cell_type": "markdown",
   "source": [
    "### Granger Causality between brain-regions; WT vs. KO comparison\n",
    "\n",
    "First, let's define two functions that allow us to compute the time-reversed Granger Causality between two electrodes."
   ],
   "metadata": {
    "collapsed": false
   },
   "id": "c1617a8b45e8f9e3"
  },
  {
   "cell_type": "code",
   "source": [
    "def compute_indices(subject_epochs, channel_a, channel_b):\n",
    "    signals_a = [\n",
    "        idx\n",
    "        for idx, ch_info in enumerate(subject_epochs.info[\"chs\"])\n",
    "        if ch_info[\"ch_name\"] == channel_a\n",
    "    ]\n",
    "    # occipital sensors\n",
    "    signals_b = [\n",
    "        idx\n",
    "        for idx, ch_info in enumerate(subject_epochs.info[\"chs\"])\n",
    "        if ch_info[\"ch_name\"] == channel_b\n",
    "    ]\n",
    "    \n",
    "    indices_ab = (np.array([signals_a]), np.array([signals_b]))  # A => B\n",
    "    indices_ba = (np.array([signals_b]), np.array([signals_a]))  # B => A\n",
    "    \n",
    "    return indices_ab, indices_ba"
   ],
   "metadata": {
    "collapsed": false,
    "ExecuteTime": {
     "end_time": "2024-05-17T07:58:43.184691Z",
     "start_time": "2024-05-17T07:58:43.179054Z"
    }
   },
   "id": "c0bb059e8185759",
   "execution_count": 22,
   "outputs": []
  },
  {
   "cell_type": "code",
   "source": [
    "def get_tr_gc(all_subject_epochs, passed_subject_ids, channel_a, channel_b):\n",
    "    wt_trgcs, ko_trgcs = [], []\n",
    "    \n",
    "    for subject_epochs in all_subject_epochs:\n",
    "        subject_id = subject_epochs.metadata['animal_id'].iloc[0]\n",
    "        genotype = subject_epochs.metadata['genotype'].iloc[0]\n",
    "        \n",
    "        # check if we want to compute for this subject/animal\n",
    "        if int(subject_id) not in passed_subject_ids:\n",
    "            print(f'Subject {subject_id} was not picked, skipping..')\n",
    "            continue\n",
    "        if int(subject_id) in omitted_after_clustering or int(subject_id) in omitted_other:\n",
    "            print(f'Skipping {subject_id}..')\n",
    "            continue\n",
    "            \n",
    "        indices_ab, indices_ba = compute_indices(subject_epochs, channel_a, channel_b)\n",
    "            \n",
    "        annotations = cluster_annotations[int(subject_id)]\n",
    "        resting_epochs = subject_epochs[subject_epochs.metadata[\"cluster\"] == annotations['rest']]\n",
    "        resting_epochs = resting_epochs.drop_channels(excluded_chans)\n",
    "        \n",
    "        gc_ab = spectral_connectivity_epochs(\n",
    "            resting_epochs,\n",
    "            method=[\"gc\"],\n",
    "            indices=indices_ab,\n",
    "            fmin=1.01,\n",
    "            fmax=100,\n",
    "            gc_n_lags=20,\n",
    "            verbose='WARNING'\n",
    "        )  # A => B\n",
    "        gc_ba = spectral_connectivity_epochs(\n",
    "            resting_epochs,\n",
    "            method=[\"gc\"],\n",
    "            indices=indices_ba,\n",
    "            fmin=1.01,\n",
    "            fmax=100,\n",
    "            gc_n_lags=20,\n",
    "            verbose='WARNING'\n",
    "        )  # B => A\n",
    "        freqs = gc_ab.freqs\n",
    "        net_gc = gc_ab.get_data() - gc_ba.get_data()  # [A => B] - [B => A]\n",
    "        # compute GC on time-reversed signals\n",
    "        gc_tr_ab = spectral_connectivity_epochs(\n",
    "            resting_epochs,\n",
    "            method=[\"gc_tr\"],\n",
    "            indices=indices_ab,\n",
    "            fmin=1.01,\n",
    "            fmax=100,\n",
    "            gc_n_lags=20,\n",
    "            verbose='WARNING'\n",
    "        )  # TR[A => B]\n",
    "        gc_tr_ba = spectral_connectivity_epochs(\n",
    "            resting_epochs,\n",
    "            method=[\"gc_tr\"],\n",
    "            indices=indices_ba,\n",
    "            fmin=1.01,\n",
    "            fmax=100,\n",
    "            gc_n_lags=20,\n",
    "            verbose='WARNING'\n",
    "        )  # TR[B => A]\n",
    "        \n",
    "        # compute net GC on time-reversed signals (TR[A => B] - TR[B => A])\n",
    "        net_gc_tr = gc_tr_ab.get_data() - gc_tr_ba.get_data()\n",
    "        \n",
    "        # compute TRGC\n",
    "        trgc = net_gc - net_gc_tr\n",
    "        \n",
    "        wt_trgcs.append(trgc) if genotype == \"DRD2-WT\" else ko_trgcs.append(trgc)\n",
    "        \n",
    "    return freqs, wt_trgcs, ko_trgcs"
   ],
   "metadata": {
    "collapsed": false,
    "ExecuteTime": {
     "end_time": "2024-05-17T07:59:48.455505Z",
     "start_time": "2024-05-17T07:59:48.450303Z"
    }
   },
   "id": "f605fb820869bfc",
   "execution_count": 25,
   "outputs": []
  },
  {
   "cell_type": "markdown",
   "source": [
    "#### WT vs KO gridplot of averaged time-reversed Granger Causality"
   ],
   "metadata": {
    "collapsed": false
   },
   "id": "66f31785c7e0a1b3"
  },
  {
   "cell_type": "code",
   "source": [
    "chans = all_subject_epochs[0].info['ch_names']\n",
    "chans = [chan for chan in chans if chan not in excluded_chans]\n",
    "\n",
    "fig, axs = plt.subplots(nrows=3, ncols=7, figsize=(35, 18), sharey=True, sharex=True)\n",
    "axs = axs.ravel()\n",
    "\n",
    "grid_index = 0\n",
    "for i in range(len(chans)):\n",
    "    for j in range(i + 1, len(chans)):\n",
    "        print(f'Computing combi: {chans[i]} - {chans[j]}')\n",
    "        freqs, wt_trgcs, ko_trgcs = get_tr_gc(all_subject_epochs, passed_subject_ids, chans[i], chans[j])\n",
    "        \n",
    "        averaged_wt_trgcs = np.mean(wt_trgcs, axis=0)\n",
    "        averaged_ko_trgcs = np.mean(ko_trgcs, axis=0)\n",
    "        \n",
    "        axs[grid_index].plot((freqs[0], freqs[-1]), (0, 0), linewidth=2, linestyle=\"--\", color=\"k\")\n",
    "        axs[grid_index].plot(freqs, averaged_wt_trgcs[0], linewidth=2, label='DRD2-WT', color=palette['DRD2-WT'])\n",
    "        axs[grid_index].plot(freqs, averaged_ko_trgcs[0], linewidth=2, label='DRD2-KO', color=palette['DRD2-KO'])\n",
    "        axs[grid_index].legend(frameon=False)\n",
    "        for band, (start, end) in freq_bands_eeg.items():\n",
    "            axs[grid_index].axvline(x=start, color='gray', linestyle='--', alpha=0.3)\n",
    "            axs[grid_index].axvline(x=end, color='gray', linestyle='--', alpha=0.3)\n",
    "            axs[grid_index].text((start + end) / 2, axs[grid_index].get_ylim()[1], band, horizontalalignment='center', verticalalignment='top', fontsize=8, color='black')\n",
    "        axs[grid_index].set_title(f'{chans[i]}  =>  {chans[j]}', fontsize=15, y=1.02)\n",
    "        grid_index += 1\n",
    "\n",
    "fig.text(0.5, 0, 'Frequency (Hz)', ha='center', va='center', fontsize=14)\n",
    "fig.text(0, 0.5, 'Net Time-reversed Granger Causality', ha='center', va='center', rotation='vertical', fontsize=14)\n",
    "plt.suptitle('Time-reversed net Granger Causality for all channel combinations (positive value indicates more information flow from first mentioned channel to second mentioned channel)', fontsize=18, fontweight='bold', fontstyle='italic', y=0.99)\n",
    "plt.tight_layout()\n",
    "save_figure(os.path.join(plot_folder, f\"connectivity/TRGC_wt_vs_ko_grid.pdf\"))"
   ],
   "metadata": {
    "collapsed": false,
    "ExecuteTime": {
     "end_time": "2024-05-17T08:34:35.766605Z",
     "start_time": "2024-05-17T08:32:14.789680Z"
    }
   },
   "id": "d3e945f47aaad37e",
   "execution_count": 41,
   "outputs": []
  },
  {
   "metadata": {},
   "cell_type": "markdown",
   "source": [
    "There don't seem to bee to big of a differences between KOs and WTs in the above grid.\n",
    "\n",
    "Let's now dive a bit deeper into the connectivity metrics that seem to differ between certain bands and channels.\n",
    "\n",
    "### Zoom in on connectivity metrics (dPLI, wPLI & wPLI2-debiased)\n",
    "\n",
    "#### dPLI"
   ],
   "id": "9c43e804f6817f6a"
  },
  {
   "metadata": {
    "ExecuteTime": {
     "end_time": "2024-05-17T12:50:58.970316Z",
     "start_time": "2024-05-17T12:50:58.964284Z"
    }
   },
   "cell_type": "code",
   "source": "dpli.head()",
   "id": "61d22ef94bf2af07",
   "execution_count": 126,
   "outputs": []
  },
  {
   "metadata": {
    "ExecuteTime": {
     "end_time": "2024-05-17T12:50:59.509324Z",
     "start_time": "2024-05-17T12:50:59.497164Z"
    }
   },
   "cell_type": "code",
   "source": [
    "cg_str = dpli[(dpli.node1 == 'CG') & (dpli.node2 == 'STR_R')]\n",
    "cg_str"
   ],
   "id": "155135b8ed20300a",
   "execution_count": 127,
   "outputs": []
  },
  {
   "metadata": {
    "ExecuteTime": {
     "end_time": "2024-05-17T12:51:01.640229Z",
     "start_time": "2024-05-17T12:50:59.606415Z"
    }
   },
   "cell_type": "code",
   "source": [
    "fig, axs = plt.subplots(nrows=2, ncols=3, figsize=(16, 10), sharex=True)\n",
    "axs = axs.ravel()\n",
    "\n",
    "for i, band in enumerate(cg_str.band.unique()):\n",
    "    wt_data = cg_str[(cg_str.band == band) & (cg_str.genotype == 'DRD2-WT')].con\n",
    "    ko_data = cg_str[(cg_str.band == band) & (cg_str.genotype == 'DRD2-KO')].con\n",
    "    \n",
    "    t_statistic, p_val = ttest_ind(wt_data, ko_data)\n",
    "    \n",
    "    sns.boxplot(cg_str[cg_str.band == band], x='genotype', y='con', hue='genotype', palette=palette, ax=axs[i])\n",
    "    sns.swarmplot(cg_str[cg_str.band == band], x='genotype', y='con', hue='genotype', palette='dark:black', ax=axs[i])\n",
    "    \n",
    "    for index, row in cg_str[cg_str.band == band].iterrows():\n",
    "        axs[i].annotate(row['subject_id'], (row['genotype'], row['con']), textcoords=\"offset points\", xytext=(15,3), ha='center', fontsize=8)\n",
    "    \n",
    "    axs[i].set_title(f'Band: {band}')\n",
    "    axs[i].set_xlabel(None)\n",
    "    axs[i].set_ylabel(None)\n",
    "    \n",
    "    y_range = axs[i].get_ylim()\n",
    "    offset = 0.04 * (y_range[1] - y_range[0])\n",
    "    \n",
    "    axs[i].text(0.5, y_range[1] - offset, f'T-stat: {round(t_statistic, 3)}\\nP-value: {round(p_val, 3)}', ha='center', va='top', fontsize=9, fontweight='bold')\n",
    "\n",
    "fig.text(0.5, 0, 'Frequency (Hz)', ha='center', va='center', fontsize=12)\n",
    "fig.text(0, 0.5, 'Directed Phase-lag Index (dPLI)', ha='center', va='center', rotation='vertical', fontsize=12)\n",
    "# The reference (first provided signal) is lagging the other signal if dPLI is between 0 and 0.5, and the reference signal is leading the other signal is the dPLI is between 0.5 and 1.0.\n",
    "plt.suptitle('Directed Phase-Lag-Index (dPLI) between the Cingulate Cortex and the Right Striatum.\\nA value of 0 through 0.5 indicates that the CG is lagging STR_R more often than it is leading, and 0.5 through 1 indicates the reverse', fontsize=14, fontweight='bold', fontstyle='italic', y=0.99)\n",
    "plt.tight_layout()\n",
    "axs[-1].remove()\n",
    "save_figure(os.path.join(plot_folder, f\"connectivity/DPLI_CG_STR_boxplot_per_band.pdf\"))"
   ],
   "id": "232f3dd1e5655740",
   "execution_count": 128,
   "outputs": []
  },
  {
   "metadata": {},
   "cell_type": "markdown",
   "source": "#### wPLI",
   "id": "54cd26cdd4645e56"
  },
  {
   "metadata": {
    "ExecuteTime": {
     "end_time": "2024-05-17T12:51:01.646925Z",
     "start_time": "2024-05-17T12:51:01.640229Z"
    }
   },
   "cell_type": "code",
   "source": "wpli.head()",
   "id": "547558cf3c673229",
   "execution_count": 129,
   "outputs": []
  },
  {
   "metadata": {
    "ExecuteTime": {
     "end_time": "2024-05-17T12:51:01.656390Z",
     "start_time": "2024-05-17T12:51:01.646925Z"
    }
   },
   "cell_type": "code",
   "source": [
    "cg_str = wpli[(wpli.node1 == 'CG') & (wpli.node2 == 'STR_R')]\n",
    "cg_str"
   ],
   "id": "5467b343cd5b5f0",
   "execution_count": 130,
   "outputs": []
  },
  {
   "metadata": {
    "ExecuteTime": {
     "end_time": "2024-05-17T12:51:03.601226Z",
     "start_time": "2024-05-17T12:51:01.656390Z"
    }
   },
   "cell_type": "code",
   "source": [
    "fig, axs = plt.subplots(nrows=2, ncols=3, figsize=(16, 10), sharex=True)\n",
    "axs = axs.ravel()\n",
    "\n",
    "for i, band in enumerate(cg_str.band.unique()):\n",
    "    wt_data = cg_str[(cg_str.band == band) & (cg_str.genotype == 'DRD2-WT')].con\n",
    "    ko_data = cg_str[(cg_str.band == band) & (cg_str.genotype == 'DRD2-KO')].con\n",
    "    \n",
    "    t_statistic, p_val = ttest_ind(wt_data, ko_data)\n",
    "    \n",
    "    sns.boxplot(cg_str[cg_str.band == band], x='genotype', y='con', hue='genotype', palette=palette, ax=axs[i])\n",
    "    sns.swarmplot(cg_str[cg_str.band == band], x='genotype', y='con', hue='genotype', palette='dark:black', ax=axs[i])\n",
    "    \n",
    "    for index, row in cg_str[cg_str.band == band].iterrows():\n",
    "        axs[i].annotate(row['subject_id'], (row['genotype'], row['con']), textcoords=\"offset points\", xytext=(15,3), ha='center', fontsize=8)\n",
    "\n",
    "    axs[i].set_title(f'Band: {band}')\n",
    "    axs[i].set_xlabel(None)\n",
    "    axs[i].set_ylabel(None)\n",
    "    \n",
    "    y_range = axs[i].get_ylim()\n",
    "    offset = 0.04 * (y_range[1] - y_range[0])\n",
    "    \n",
    "    axs[i].text(0.5, y_range[1] - offset, f'T-stat: {round(t_statistic, 3)}\\nP-value: {round(p_val, 3)}', ha='center', va='top', fontsize=9, fontweight='bold')\n",
    "\n",
    "fig.text(0.5, 0, 'Frequency (Hz)', ha='center', va='center', fontsize=12)\n",
    "fig.text(0, 0.5, 'Weighted Phase-lag Index (wPLI)', ha='center', va='center', rotation='vertical', fontsize=12)\n",
    "# The reference (first provided signal) is lagging the other signal if wpli is between 0 and 0.5, and the reference signal is leading the other signal is the wpli is between 0.5 and 1.0.\n",
    "plt.suptitle('Weighted Phase-Lag-Index (wPLI) between the Cingulate Cortex and the Right Striatum. The higher the value, the more phase synchronization.', fontsize=14, fontweight='bold', fontstyle='italic', y=0.99)\n",
    "plt.tight_layout()\n",
    "axs[-1].remove()\n",
    "save_figure(os.path.join(plot_folder, f\"connectivity/WPLI_CG_STR_boxplot_per_band.pdf\"))"
   ],
   "id": "4610f355d8b88bef",
   "execution_count": 131,
   "outputs": []
  },
  {
   "metadata": {},
   "cell_type": "markdown",
   "source": "#### wPLI 2, debiased",
   "id": "e5719ef31af57326"
  },
  {
   "metadata": {
    "ExecuteTime": {
     "end_time": "2024-05-17T12:51:03.607707Z",
     "start_time": "2024-05-17T12:51:03.601226Z"
    }
   },
   "cell_type": "code",
   "source": "wpli2.head()",
   "id": "68a7f40cd89ada0e",
   "execution_count": 132,
   "outputs": []
  },
  {
   "metadata": {
    "ExecuteTime": {
     "end_time": "2024-05-17T12:51:03.618497Z",
     "start_time": "2024-05-17T12:51:03.607707Z"
    }
   },
   "cell_type": "code",
   "source": [
    "cg_str = wpli2[(wpli2.node1 == 'CG') & (wpli2.node2 == 'STR_R')]\n",
    "cg_str"
   ],
   "id": "a2a8038433f1574c",
   "execution_count": 133,
   "outputs": []
  },
  {
   "metadata": {
    "ExecuteTime": {
     "end_time": "2024-05-17T12:51:05.490901Z",
     "start_time": "2024-05-17T12:51:03.618497Z"
    }
   },
   "cell_type": "code",
   "source": [
    "fig, axs = plt.subplots(nrows=2, ncols=3, figsize=(16, 10), sharex=True)\n",
    "axs = axs.ravel()\n",
    "\n",
    "for i, band in enumerate(cg_str.band.unique()):\n",
    "    wt_data = cg_str[(cg_str.band == band) & (cg_str.genotype == 'DRD2-WT')].con\n",
    "    ko_data = cg_str[(cg_str.band == band) & (cg_str.genotype == 'DRD2-KO')].con\n",
    "    \n",
    "    t_statistic, p_val = ttest_ind(wt_data, ko_data)\n",
    "    \n",
    "    sns.boxplot(cg_str[cg_str.band == band], x='genotype', y='con', hue='genotype', palette=palette, ax=axs[i])\n",
    "    sns.swarmplot(cg_str[cg_str.band == band], x='genotype', y='con', hue='genotype', palette='dark:black', ax=axs[i])\n",
    "    \n",
    "    for index, row in cg_str[cg_str.band == band].iterrows():\n",
    "        axs[i].annotate(row['subject_id'], (row['genotype'], row['con']), textcoords=\"offset points\", xytext=(15,3), ha='center', fontsize=8)\n",
    "        \n",
    "    axs[i].set_title(f'Band: {band}')\n",
    "    axs[i].set_xlabel(None)\n",
    "    axs[i].set_ylabel(None)\n",
    "    \n",
    "    y_range = axs[i].get_ylim()\n",
    "    offset = 0.04 * (y_range[1] - y_range[0])\n",
    "    \n",
    "    axs[i].text(0.5, y_range[1] - offset, f'T-stat: {round(t_statistic, 3)}\\nP-value: {round(p_val, 3)}', ha='center', va='top', fontsize=9, fontweight='bold')\n",
    "\n",
    "fig.text(0.5, 0, 'Frequency (Hz)', ha='center', va='center', fontsize=12)\n",
    "fig.text(0, 0.5, 'Debiased Weighted Phase-lag Index (wPLI2)', ha='center', va='center', rotation='vertical', fontsize=12)\n",
    "# The reference (first provided signal) is lagging the other signal if wpli2 is between 0 and 0.5, and the reference signal is leading the other signal is the wpli2 is between 0.5 and 1.0.\n",
    "plt.suptitle('Debiased Weighted Phase-Lag-Index (wPLI2) between the Cingulate Cortex and the Right Striatum. The higher the value, the more phase synchronization.', fontsize=14, fontweight='bold', fontstyle='italic', y=0.99)\n",
    "plt.tight_layout()\n",
    "axs[-1].remove()\n",
    "save_figure(os.path.join(plot_folder, f\"connectivity/WPLI2_CG_STR_boxplot_per_band.pdf\"))"
   ],
   "id": "1c6ca59187613188",
   "execution_count": 134,
   "outputs": []
  },
  {
   "metadata": {
    "ExecuteTime": {
     "end_time": "2024-05-17T12:51:05.493417Z",
     "start_time": "2024-05-17T12:51:05.490901Z"
    }
   },
   "cell_type": "code",
   "source": "",
   "id": "ae2982bcafd47efe",
   "execution_count": 134,
   "outputs": []
  }
 ],
 "metadata": {
  "kernelspec": {
   "display_name": "Python 3",
   "language": "python",
   "name": "python3"
  },
  "language_info": {
   "codemirror_mode": {
    "name": "ipython",
    "version": 2
   },
   "file_extension": ".py",
   "mimetype": "text/x-python",
   "name": "python",
   "nbconvert_exporter": "python",
   "pygments_lexer": "ipython2",
   "version": "2.7.6"
  }
 },
 "nbformat": 4,
 "nbformat_minor": 5
}
