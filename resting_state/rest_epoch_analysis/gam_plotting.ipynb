{
 "cells": [
  {
   "cell_type": "markdown",
   "metadata": {},
   "source": [
    "# Make plots for GAM predictions generated in R"
   ]
  },
  {
   "cell_type": "code",
   "metadata": {
    "ExecuteTime": {
     "end_time": "2024-05-27T13:00:01.980304Z",
     "start_time": "2024-05-27T13:00:01.952518Z"
    }
   },
   "source": [
    "import os\n",
    "\n",
    "import numpy as np\n",
    "import pandas as pd\n",
    "import matplotlib.pyplot as plt\n",
    "import seaborn as sns\n",
    "import re\n",
    "\n",
    "from settings_general import channel_name_dict\n",
    "from shared.helper_functions import select_folder, save_figure"
   ],
   "execution_count": 1,
   "outputs": []
  },
  {
   "metadata": {},
   "cell_type": "markdown",
   "source": "Change plot theme"
  },
  {
   "metadata": {
    "ExecuteTime": {
     "end_time": "2024-05-27T13:00:07.504128Z",
     "start_time": "2024-05-27T13:00:07.496774Z"
    }
   },
   "cell_type": "code",
   "source": "sns.set_theme()",
   "execution_count": 3,
   "outputs": []
  },
  {
   "metadata": {},
   "cell_type": "markdown",
   "source": "Define palette"
  },
  {
   "metadata": {
    "ExecuteTime": {
     "end_time": "2024-05-27T13:00:08.089568Z",
     "start_time": "2024-05-27T13:00:08.082403Z"
    }
   },
   "cell_type": "code",
   "source": "palette = {'DRD2-WT': '#419D78', 'DRD2-KO': '#EB5E55'}",
   "execution_count": 4,
   "outputs": []
  },
  {
   "cell_type": "markdown",
   "metadata": {},
   "source": [
    "### Function definition"
   ]
  },
  {
   "cell_type": "code",
   "metadata": {
    "ExecuteTime": {
     "end_time": "2024-05-27T13:01:01.046537Z",
     "start_time": "2024-05-27T13:01:01.041103Z"
    }
   },
   "source": [
    "def parse_summary_significance(text_filepath, header_line = 'freqs window(s) of significant difference(s):\\n', end_line = \"Summary:\\n\"):\n",
    "    \"\"\"\n",
    "        Parser for getting significance windows from model report\n",
    "    \"\"\"\n",
    "    \n",
    "    with open(text_filepath, \"r\") as f:\n",
    "        summary = f.readlines()\n",
    "\n",
    "    # Find header line index\n",
    "    try:  # if there is no header line, then there are no significant differences\n",
    "        header_idx = summary.index(header_line)\n",
    "    except ValueError:\n",
    "        return pd.DataFrame({})\n",
    "    \n",
    "    # find line to stop at\n",
    "    count = 0\n",
    "    end_idx = None\n",
    "\n",
    "    # there are two 'Summary:\\n' occurrences, let's find the second\n",
    "    for i, item in enumerate(summary):\n",
    "        # Check if the current item is equal to end_line\n",
    "        if item == end_line:\n",
    "            # Increment the count of occurrences\n",
    "            count += 1\n",
    "            # If it's the second occurrence, store its index and break the loop\n",
    "            if count == 2:\n",
    "                end_idx = i\n",
    "                break\n",
    "\n",
    "    # Extract the lines containing session_bin windows\n",
    "    freq_lines = summary[header_idx + 1:end_idx]\n",
    "\n",
    "    # Extract the numbers from the lines\n",
    "    numbers = [re.findall(r'([\\d.]+)', line) for line in freq_lines]\n",
    "    return pd.DataFrame(numbers, columns=['from_freq', 'to_freq']).apply(pd.to_numeric)"
   ],
   "execution_count": 7,
   "outputs": []
  },
  {
   "cell_type": "markdown",
   "metadata": {},
   "source": [
    "### Loop model results and plot modeled data"
   ]
  },
  {
   "metadata": {
    "ExecuteTime": {
     "end_time": "2024-05-27T13:01:12.963970Z",
     "start_time": "2024-05-27T13:01:04.156897Z"
    }
   },
   "cell_type": "code",
   "source": "model_results_path = select_folder(\"Select the folder holding the GAM model output files (summaries & predictions) for this experiment\")",
   "execution_count": 9,
   "outputs": []
  },
  {
   "metadata": {
    "ExecuteTime": {
     "end_time": "2024-05-27T13:01:38.629010Z",
     "start_time": "2024-05-27T13:01:15.919921Z"
    }
   },
   "cell_type": "code",
   "source": "plots_folder = select_folder(\"Select the folder you wish to save plots to\")",
   "execution_count": 10,
   "outputs": []
  },
  {
   "metadata": {
    "ExecuteTime": {
     "end_time": "2024-05-27T14:21:25.416794Z",
     "start_time": "2024-05-27T14:21:25.120388Z"
    }
   },
   "cell_type": "code",
   "source": [
    "from settings_general import freq_bands_eeg\n",
    "\n",
    "pred_path = f\"{model_results_path}/pred_resting_state_rest.xlsx\"\n",
    "summary_path = f\"{model_results_path}/summary_resting_state_rest.txt\"\n",
    "\n",
    "df = pd.read_excel(pred_path)\n",
    "sig_win = parse_summary_significance(summary_path)\n",
    "\n",
    "fig, ax = plt.subplots(1, 1, figsize=(10, 5))\n",
    "\n",
    "genotype = df['genotype'].unique()\n",
    "    \n",
    "# loop through genotypes\n",
    "for i, genotype in enumerate(genotype):\n",
    "    # get the genotype data\n",
    "    df_sub = df[df['genotype'] == genotype]\n",
    "    # plot the line\n",
    "    ax.plot(df_sub['freqs'], df_sub['fit'], color=palette[genotype], label=genotype)\n",
    "    ax.fill_between(df_sub['freqs'], df_sub['fit'] + df_sub['CI'], df_sub['fit'] - df_sub['CI'], color=palette[genotype], alpha=0.3)\n",
    "\n",
    "ax.set_xticks(np.arange(0, 100, 10))\n",
    "ax.set_xlabel('Frequency (Hz)')\n",
    "ax.set_ylabel('Multivariate Interaction Measure (MIM)')\n",
    "ax.set_title('Multivariate connectivity across all electrodes', fontsize=13, y=1.02)\n",
    "ax.legend(loc='best')\n",
    "\n",
    "ymin = ax.get_ylim()[0]\n",
    "ymax = df_sub['fit'].max() + 0.1 * df_sub['fit'].max()\n",
    "for window in sig_win.itertuples():\n",
    "    ax.text(np.floor((window.from_freq + window.to_freq) / 2), ymax, '*', fontweight='bold', fontsize=16)\n",
    "    ax.hlines(ymax, xmin=window.from_freq, xmax=window.to_freq, color='black', linewidth=2)\n",
    "    \n",
    "for band, (start, end) in freq_bands_eeg.items():\n",
    "    ax.axvline(x=start, color='gray', linestyle='--', alpha=0.3)\n",
    "    ax.axvline(x=end, color='gray', linestyle='--', alpha=0.3)\n",
    "    ax.text((start + end) / 2, ax.get_ylim()[1] * 1.01, band, horizontalalignment='center', verticalalignment='top', fontsize=8, color='black')\n",
    "\n",
    "save_figure(os.path.join(plots_folder, \"gam_plot_all_electrodes.pdf\"))"
   ],
   "execution_count": 58,
   "outputs": []
  },
  {
   "metadata": {},
   "cell_type": "markdown",
   "source": "And now, a GAM fitted on the electrodes that belong to the DMN"
  },
  {
   "metadata": {
    "ExecuteTime": {
     "end_time": "2024-05-27T14:21:30.702513Z",
     "start_time": "2024-05-27T14:21:30.405762Z"
    }
   },
   "cell_type": "code",
   "source": [
    "from settings_general import freq_bands_eeg\n",
    "\n",
    "pred_path = f\"{model_results_path}/pred_resting_state_rest_DMN.xlsx\"\n",
    "summary_path = f\"{model_results_path}/summary_resting_state_rest_DMN.txt\"\n",
    "\n",
    "df = pd.read_excel(pred_path)\n",
    "sig_win = parse_summary_significance(summary_path)\n",
    "\n",
    "fig, ax = plt.subplots(1, 1, figsize=(10, 5))\n",
    "\n",
    "genotype = df['genotype'].unique()\n",
    "    \n",
    "# loop through genotypes\n",
    "for i, genotype in enumerate(genotype):\n",
    "    # get the genotype data\n",
    "    df_sub = df[df['genotype'] == genotype]\n",
    "    # plot the line\n",
    "    ax.plot(df_sub['freqs'], df_sub['fit'], color=palette[genotype], label=genotype)\n",
    "    ax.fill_between(df_sub['freqs'], df_sub['fit'] + df_sub['CI'], df_sub['fit'] - df_sub['CI'], color=palette[genotype], alpha=0.3)\n",
    "\n",
    "ax.set_xticks(np.arange(0, 100, 10))\n",
    "ax.set_xlabel('Frequency (Hz)')\n",
    "ax.set_ylabel('Multivariate Interaction Measure (MIM)')\n",
    "ax.set_title('Multivariate connectivity across DMN-associated electrodes', fontsize=13, y=1.02)\n",
    "ax.legend(loc='best')\n",
    "\n",
    "ymin = ax.get_ylim()[0]\n",
    "ymax = df_sub['fit'].max() + 0.1 * df_sub['fit'].max()\n",
    "for window in sig_win.itertuples():\n",
    "    ax.text(np.floor((window.from_freq + window.to_freq) / 2), ymax, '*', fontweight='bold', fontsize=16)\n",
    "    ax.hlines(ymax, xmin=window.from_freq, xmax=window.to_freq, color='black', linewidth=2)\n",
    "    \n",
    "for band, (start, end) in freq_bands_eeg.items():\n",
    "    ax.axvline(x=start, color='gray', linestyle='--', alpha=0.3)\n",
    "    ax.axvline(x=end, color='gray', linestyle='--', alpha=0.3)\n",
    "    ax.text((start + end) / 2, ax.get_ylim()[1] * 1.01, band, horizontalalignment='center', verticalalignment='top', fontsize=8, color='black')\n",
    "\n",
    "save_figure(os.path.join(plots_folder, \"gam_plot_all_electrodes_DMN.pdf\"))"
   ],
   "execution_count": 59,
   "outputs": []
  },
  {
   "metadata": {},
   "cell_type": "code",
   "execution_count": null,
   "source": "",
   "outputs": []
  }
 ],
 "metadata": {
  "kernelspec": {
   "display_name": "social_colonies",
   "language": "python",
   "name": "python3"
  },
  "language_info": {
   "codemirror_mode": {
    "name": "ipython",
    "version": 3
   },
   "file_extension": ".py",
   "mimetype": "text/x-python",
   "name": "python",
   "nbconvert_exporter": "python",
   "pygments_lexer": "ipython3",
   "version": "3.10.14"
  }
 },
 "nbformat": 4,
 "nbformat_minor": 2
}
