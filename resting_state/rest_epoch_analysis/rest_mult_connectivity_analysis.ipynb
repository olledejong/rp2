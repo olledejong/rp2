{
 "cells": [
  {
   "cell_type": "code",
   "source": [
    "import matplotlib.pyplot as plt\n",
    "import mne\n",
    "import numpy as np\n",
    "import pandas as pd\n",
    "import seaborn as sns\n",
    "from mne_connectivity import spectral_connectivity_epochs\n",
    "\n",
    "from shared.helper_functions import *\n",
    "from resting_state.settings import *\n",
    "from settings_general import low_qual_chans, freq_bands_eeg"
   ],
   "metadata": {
    "collapsed": false,
    "ExecuteTime": {
     "end_time": "2024-05-23T09:05:55.256254Z",
     "start_time": "2024-05-23T09:05:54.971891Z"
    }
   },
   "id": "659c67a6be0ed440",
   "outputs": [],
   "execution_count": 1
  },
  {
   "metadata": {},
   "cell_type": "markdown",
   "source": "Change plot theme",
   "id": "835a69b77057d440"
  },
  {
   "metadata": {
    "ExecuteTime": {
     "end_time": "2024-05-23T09:05:55.994705Z",
     "start_time": "2024-05-23T09:05:55.985047Z"
    }
   },
   "cell_type": "code",
   "source": "sns.set_theme()",
   "id": "a442ee96aa01e646",
   "outputs": [],
   "execution_count": 2
  },
  {
   "metadata": {},
   "cell_type": "markdown",
   "source": "Define palette",
   "id": "1fc58a34ccd69111"
  },
  {
   "metadata": {
    "ExecuteTime": {
     "end_time": "2024-05-23T09:05:56.437820Z",
     "start_time": "2024-05-23T09:05:56.429044Z"
    }
   },
   "cell_type": "code",
   "source": "palette_light = {'DRD2-WT': '#419D78', 'DRD2-KO': '#EB5E55'}",
   "id": "b82df2d75cd12e77",
   "outputs": [],
   "execution_count": 3
  },
  {
   "cell_type": "markdown",
   "source": [
    "Let's load some general needed information"
   ],
   "metadata": {
    "collapsed": false
   },
   "id": "cdad62afdcec7c5e"
  },
  {
   "cell_type": "code",
   "source": [
    "epoch_folder = select_folder(\"Select the folder that holds epoch files (starting with 'epochs_w_cluster_annotations')\")\n",
    "plot_folder = select_or_create_folder(\"Create or select a folder the plots will be saved to\")"
   ],
   "metadata": {
    "collapsed": false,
    "ExecuteTime": {
     "end_time": "2024-05-23T09:08:13.628679Z",
     "start_time": "2024-05-23T09:05:57.196897Z"
    }
   },
   "id": "42d4c4b5ab442715",
   "outputs": [],
   "execution_count": 4
  },
  {
   "cell_type": "markdown",
   "source": [
    "To inspect only the Default Mode Network, we only can exclude the Somatosensory and Visual cortex as well as of course the EMGs if we want to."
   ],
   "metadata": {
    "collapsed": false
   },
   "id": "afc0c2b64e148f5c"
  },
  {
   "cell_type": "code",
   "source": [
    "emg_chans = ['EMG_L', 'EMG_R']\n",
    "skull_chans = ['S1_L', 'S1_R', 'V1_R']"
   ],
   "metadata": {
    "collapsed": false,
    "ExecuteTime": {
     "end_time": "2024-05-23T09:08:18.485076Z",
     "start_time": "2024-05-23T09:08:18.468534Z"
    }
   },
   "id": "51973787fc4a202d",
   "outputs": [],
   "execution_count": 5
  },
  {
   "cell_type": "markdown",
   "source": [
    "## Let's load all needed epochs"
   ],
   "metadata": {
    "collapsed": false
   },
   "id": "454075cd60e41120"
  },
  {
   "cell_type": "code",
   "source": [
    "all_subject_epochs = []\n",
    "for file in os.listdir(epoch_folder):\n",
    "    subj_id = file.split('_')[-1].split('-')[0]\n",
    "    if not file.startswith('epochs_w_cluster_annotations') or int(subj_id) in omitted_after_clustering or int(\n",
    "            subj_id) in omitted_other:\n",
    "        continue\n",
    "    all_subject_epochs.append(mne.read_epochs(os.path.join(epoch_folder, file), preload=True, verbose='WARNING'))"
   ],
   "metadata": {
    "collapsed": false,
    "ExecuteTime": {
     "end_time": "2024-05-23T09:08:25.848195Z",
     "start_time": "2024-05-23T09:08:19.611087Z"
    }
   },
   "id": "1af2eb44c9d75f93",
   "outputs": [],
   "execution_count": 6
  },
  {
   "cell_type": "markdown",
   "source": [
    "## First, we use all EEG channels\n",
    "\n",
    "Compute the multivariate connectivity measures for all subject's epochs\n",
    "\n",
    "We first include all EEG channels, so also the skull electrodes. We will omit the subjects that were omitted from power and connectivity analyses here as well."
   ],
   "metadata": {
    "collapsed": false
   },
   "id": "8dbe80db5da421d6"
  },
  {
   "cell_type": "code",
   "source": [
    "results_df_all = pd.DataFrame()\n",
    "\n",
    "# for each subject, get the resting/active/sleep epochs, drop the emg channels and calculate the mic and mim\n",
    "for subj_epochs in all_subject_epochs:\n",
    "    subject_id = int(subj_epochs.metadata['animal_id'].iloc[0])\n",
    "    if subject_id in [81217, 79604, 81193, 39489]:\n",
    "        print(f'Skipping subject {subject_id} as its quality was not sufficient (determined in power/connectivity notebooks)')\n",
    "        continue\n",
    "        \n",
    "    annotations = cluster_annotations[subject_id]\n",
    "    genotype = subj_epochs.metadata['genotype'].iloc[0]\n",
    "    to_drop = [x for x in ['EMG_L', 'EMG_R'] if x in subj_epochs.info['ch_names']]\n",
    "    subj_epochs = subj_epochs.load_data().drop_channels(to_drop)\n",
    "    \n",
    "    for label, index in annotations.items():\n",
    "        state_epochs = subj_epochs[subj_epochs.metadata[\"cluster\"] == index]\n",
    "\n",
    "        (mic, mim) = spectral_connectivity_epochs(state_epochs, method=['mic', 'mim'], n_jobs=-1, fmin=1, fmax=100, verbose='WARNING')\n",
    "    \n",
    "        results_df_all = pd.concat([results_df_all, pd.DataFrame({\n",
    "            'animal_id' : subject_id,\n",
    "            'genotype' : genotype,\n",
    "            'state': label,\n",
    "            'freqs' : mic.freqs,\n",
    "            'mic' : mic.get_data()[0,:],\n",
    "            'mim' : mim.get_data()[0,:]\n",
    "        })])"
   ],
   "metadata": {
    "collapsed": false,
    "ExecuteTime": {
     "end_time": "2024-05-23T09:20:20.513206Z",
     "start_time": "2024-05-23T09:15:52.717804Z"
    }
   },
   "id": "9a11bbb9b929eb9c",
   "outputs": [
    {
     "name": "stdout",
     "output_type": "stream",
     "text": [
      "Skipping subject 39489 as its quality was not sufficient (determined in power/connectivity notebooks)\n"
     ]
    },
    {
     "name": "stderr",
     "output_type": "stream",
     "text": [
      "C:\\Users\\Olle de Jong\\AppData\\Local\\Temp\\ipykernel_23800\\1203172650.py:18: RuntimeWarning: fmin=1.000 Hz corresponds to 4.999 < 5 cycles based on the epoch length 4.999 sec, need at least 5.000 sec epochs or fmin=1.000. Spectrum estimate will be unreliable.\n",
      "  (mic, mim) = spectral_connectivity_epochs(state_epochs, method=['mic', 'mim'], n_jobs=-1, fmin=1, fmax=100, verbose='WARNING')\n",
      "C:\\Users\\Olle de Jong\\AppData\\Local\\Temp\\ipykernel_23800\\1203172650.py:18: RuntimeWarning: fmin=1.000 Hz corresponds to 4.999 < 5 cycles based on the epoch length 4.999 sec, need at least 5.000 sec epochs or fmin=1.000. Spectrum estimate will be unreliable.\n",
      "  (mic, mim) = spectral_connectivity_epochs(state_epochs, method=['mic', 'mim'], n_jobs=-1, fmin=1, fmax=100, verbose='WARNING')\n",
      "C:\\Users\\Olle de Jong\\AppData\\Local\\Temp\\ipykernel_23800\\1203172650.py:18: RuntimeWarning: fmin=1.000 Hz corresponds to 4.999 < 5 cycles based on the epoch length 4.999 sec, need at least 5.000 sec epochs or fmin=1.000. Spectrum estimate will be unreliable.\n",
      "  (mic, mim) = spectral_connectivity_epochs(state_epochs, method=['mic', 'mim'], n_jobs=-1, fmin=1, fmax=100, verbose='WARNING')\n",
      "C:\\Users\\Olle de Jong\\AppData\\Local\\Temp\\ipykernel_23800\\1203172650.py:18: RuntimeWarning: fmin=1.000 Hz corresponds to 4.999 < 5 cycles based on the epoch length 4.999 sec, need at least 5.000 sec epochs or fmin=1.000. Spectrum estimate will be unreliable.\n",
      "  (mic, mim) = spectral_connectivity_epochs(state_epochs, method=['mic', 'mim'], n_jobs=-1, fmin=1, fmax=100, verbose='WARNING')\n",
      "C:\\Users\\Olle de Jong\\AppData\\Local\\Temp\\ipykernel_23800\\1203172650.py:18: RuntimeWarning: fmin=1.000 Hz corresponds to 4.999 < 5 cycles based on the epoch length 4.999 sec, need at least 5.000 sec epochs or fmin=1.000. Spectrum estimate will be unreliable.\n",
      "  (mic, mim) = spectral_connectivity_epochs(state_epochs, method=['mic', 'mim'], n_jobs=-1, fmin=1, fmax=100, verbose='WARNING')\n",
      "C:\\Users\\Olle de Jong\\AppData\\Local\\Temp\\ipykernel_23800\\1203172650.py:18: RuntimeWarning: fmin=1.000 Hz corresponds to 4.999 < 5 cycles based on the epoch length 4.999 sec, need at least 5.000 sec epochs or fmin=1.000. Spectrum estimate will be unreliable.\n",
      "  (mic, mim) = spectral_connectivity_epochs(state_epochs, method=['mic', 'mim'], n_jobs=-1, fmin=1, fmax=100, verbose='WARNING')\n",
      "C:\\Users\\Olle de Jong\\AppData\\Local\\Temp\\ipykernel_23800\\1203172650.py:18: RuntimeWarning: fmin=1.000 Hz corresponds to 4.999 < 5 cycles based on the epoch length 4.999 sec, need at least 5.000 sec epochs or fmin=1.000. Spectrum estimate will be unreliable.\n",
      "  (mic, mim) = spectral_connectivity_epochs(state_epochs, method=['mic', 'mim'], n_jobs=-1, fmin=1, fmax=100, verbose='WARNING')\n",
      "C:\\Users\\Olle de Jong\\AppData\\Local\\Temp\\ipykernel_23800\\1203172650.py:18: RuntimeWarning: fmin=1.000 Hz corresponds to 4.999 < 5 cycles based on the epoch length 4.999 sec, need at least 5.000 sec epochs or fmin=1.000. Spectrum estimate will be unreliable.\n",
      "  (mic, mim) = spectral_connectivity_epochs(state_epochs, method=['mic', 'mim'], n_jobs=-1, fmin=1, fmax=100, verbose='WARNING')\n",
      "C:\\Users\\Olle de Jong\\AppData\\Local\\Temp\\ipykernel_23800\\1203172650.py:18: RuntimeWarning: fmin=1.000 Hz corresponds to 4.999 < 5 cycles based on the epoch length 4.999 sec, need at least 5.000 sec epochs or fmin=1.000. Spectrum estimate will be unreliable.\n",
      "  (mic, mim) = spectral_connectivity_epochs(state_epochs, method=['mic', 'mim'], n_jobs=-1, fmin=1, fmax=100, verbose='WARNING')\n",
      "C:\\Users\\Olle de Jong\\AppData\\Local\\Temp\\ipykernel_23800\\1203172650.py:18: RuntimeWarning: fmin=1.000 Hz corresponds to 4.999 < 5 cycles based on the epoch length 4.999 sec, need at least 5.000 sec epochs or fmin=1.000. Spectrum estimate will be unreliable.\n",
      "  (mic, mim) = spectral_connectivity_epochs(state_epochs, method=['mic', 'mim'], n_jobs=-1, fmin=1, fmax=100, verbose='WARNING')\n",
      "C:\\Users\\Olle de Jong\\AppData\\Local\\Temp\\ipykernel_23800\\1203172650.py:18: RuntimeWarning: fmin=1.000 Hz corresponds to 4.999 < 5 cycles based on the epoch length 4.999 sec, need at least 5.000 sec epochs or fmin=1.000. Spectrum estimate will be unreliable.\n",
      "  (mic, mim) = spectral_connectivity_epochs(state_epochs, method=['mic', 'mim'], n_jobs=-1, fmin=1, fmax=100, verbose='WARNING')\n",
      "C:\\Users\\Olle de Jong\\AppData\\Local\\Temp\\ipykernel_23800\\1203172650.py:18: RuntimeWarning: fmin=1.000 Hz corresponds to 4.999 < 5 cycles based on the epoch length 4.999 sec, need at least 5.000 sec epochs or fmin=1.000. Spectrum estimate will be unreliable.\n",
      "  (mic, mim) = spectral_connectivity_epochs(state_epochs, method=['mic', 'mim'], n_jobs=-1, fmin=1, fmax=100, verbose='WARNING')\n",
      "C:\\Users\\Olle de Jong\\AppData\\Local\\Temp\\ipykernel_23800\\1203172650.py:18: RuntimeWarning: fmin=1.000 Hz corresponds to 4.999 < 5 cycles based on the epoch length 4.999 sec, need at least 5.000 sec epochs or fmin=1.000. Spectrum estimate will be unreliable.\n",
      "  (mic, mim) = spectral_connectivity_epochs(state_epochs, method=['mic', 'mim'], n_jobs=-1, fmin=1, fmax=100, verbose='WARNING')\n",
      "C:\\Users\\Olle de Jong\\AppData\\Local\\Temp\\ipykernel_23800\\1203172650.py:18: RuntimeWarning: fmin=1.000 Hz corresponds to 4.999 < 5 cycles based on the epoch length 4.999 sec, need at least 5.000 sec epochs or fmin=1.000. Spectrum estimate will be unreliable.\n",
      "  (mic, mim) = spectral_connectivity_epochs(state_epochs, method=['mic', 'mim'], n_jobs=-1, fmin=1, fmax=100, verbose='WARNING')\n",
      "C:\\Users\\Olle de Jong\\AppData\\Local\\Temp\\ipykernel_23800\\1203172650.py:18: RuntimeWarning: fmin=1.000 Hz corresponds to 4.999 < 5 cycles based on the epoch length 4.999 sec, need at least 5.000 sec epochs or fmin=1.000. Spectrum estimate will be unreliable.\n",
      "  (mic, mim) = spectral_connectivity_epochs(state_epochs, method=['mic', 'mim'], n_jobs=-1, fmin=1, fmax=100, verbose='WARNING')\n",
      "C:\\Users\\Olle de Jong\\AppData\\Local\\Temp\\ipykernel_23800\\1203172650.py:18: RuntimeWarning: fmin=1.000 Hz corresponds to 4.999 < 5 cycles based on the epoch length 4.999 sec, need at least 5.000 sec epochs or fmin=1.000. Spectrum estimate will be unreliable.\n",
      "  (mic, mim) = spectral_connectivity_epochs(state_epochs, method=['mic', 'mim'], n_jobs=-1, fmin=1, fmax=100, verbose='WARNING')\n",
      "C:\\Users\\Olle de Jong\\AppData\\Local\\Temp\\ipykernel_23800\\1203172650.py:18: RuntimeWarning: fmin=1.000 Hz corresponds to 4.999 < 5 cycles based on the epoch length 4.999 sec, need at least 5.000 sec epochs or fmin=1.000. Spectrum estimate will be unreliable.\n",
      "  (mic, mim) = spectral_connectivity_epochs(state_epochs, method=['mic', 'mim'], n_jobs=-1, fmin=1, fmax=100, verbose='WARNING')\n",
      "C:\\Users\\Olle de Jong\\AppData\\Local\\Temp\\ipykernel_23800\\1203172650.py:18: RuntimeWarning: fmin=1.000 Hz corresponds to 4.999 < 5 cycles based on the epoch length 4.999 sec, need at least 5.000 sec epochs or fmin=1.000. Spectrum estimate will be unreliable.\n",
      "  (mic, mim) = spectral_connectivity_epochs(state_epochs, method=['mic', 'mim'], n_jobs=-1, fmin=1, fmax=100, verbose='WARNING')\n"
     ]
    },
    {
     "name": "stdout",
     "output_type": "stream",
     "text": [
      "Skipping subject 79604 as its quality was not sufficient (determined in power/connectivity notebooks)\n"
     ]
    },
    {
     "name": "stderr",
     "output_type": "stream",
     "text": [
      "C:\\Users\\Olle de Jong\\AppData\\Local\\Temp\\ipykernel_23800\\1203172650.py:18: RuntimeWarning: fmin=1.000 Hz corresponds to 4.999 < 5 cycles based on the epoch length 4.999 sec, need at least 5.000 sec epochs or fmin=1.000. Spectrum estimate will be unreliable.\n",
      "  (mic, mim) = spectral_connectivity_epochs(state_epochs, method=['mic', 'mim'], n_jobs=-1, fmin=1, fmax=100, verbose='WARNING')\n",
      "C:\\Users\\Olle de Jong\\AppData\\Local\\Temp\\ipykernel_23800\\1203172650.py:18: RuntimeWarning: fmin=1.000 Hz corresponds to 4.999 < 5 cycles based on the epoch length 4.999 sec, need at least 5.000 sec epochs or fmin=1.000. Spectrum estimate will be unreliable.\n",
      "  (mic, mim) = spectral_connectivity_epochs(state_epochs, method=['mic', 'mim'], n_jobs=-1, fmin=1, fmax=100, verbose='WARNING')\n",
      "C:\\Users\\Olle de Jong\\AppData\\Local\\Temp\\ipykernel_23800\\1203172650.py:18: RuntimeWarning: fmin=1.000 Hz corresponds to 4.999 < 5 cycles based on the epoch length 4.999 sec, need at least 5.000 sec epochs or fmin=1.000. Spectrum estimate will be unreliable.\n",
      "  (mic, mim) = spectral_connectivity_epochs(state_epochs, method=['mic', 'mim'], n_jobs=-1, fmin=1, fmax=100, verbose='WARNING')\n",
      "C:\\Users\\Olle de Jong\\AppData\\Local\\Temp\\ipykernel_23800\\1203172650.py:18: RuntimeWarning: fmin=1.000 Hz corresponds to 4.999 < 5 cycles based on the epoch length 4.999 sec, need at least 5.000 sec epochs or fmin=1.000. Spectrum estimate will be unreliable.\n",
      "  (mic, mim) = spectral_connectivity_epochs(state_epochs, method=['mic', 'mim'], n_jobs=-1, fmin=1, fmax=100, verbose='WARNING')\n",
      "C:\\Users\\Olle de Jong\\AppData\\Local\\Temp\\ipykernel_23800\\1203172650.py:18: RuntimeWarning: fmin=1.000 Hz corresponds to 4.999 < 5 cycles based on the epoch length 4.999 sec, need at least 5.000 sec epochs or fmin=1.000. Spectrum estimate will be unreliable.\n",
      "  (mic, mim) = spectral_connectivity_epochs(state_epochs, method=['mic', 'mim'], n_jobs=-1, fmin=1, fmax=100, verbose='WARNING')\n",
      "C:\\Users\\Olle de Jong\\AppData\\Local\\Temp\\ipykernel_23800\\1203172650.py:18: RuntimeWarning: fmin=1.000 Hz corresponds to 4.999 < 5 cycles based on the epoch length 4.999 sec, need at least 5.000 sec epochs or fmin=1.000. Spectrum estimate will be unreliable.\n",
      "  (mic, mim) = spectral_connectivity_epochs(state_epochs, method=['mic', 'mim'], n_jobs=-1, fmin=1, fmax=100, verbose='WARNING')\n",
      "C:\\Users\\Olle de Jong\\AppData\\Local\\Temp\\ipykernel_23800\\1203172650.py:18: RuntimeWarning: fmin=1.000 Hz corresponds to 4.999 < 5 cycles based on the epoch length 4.999 sec, need at least 5.000 sec epochs or fmin=1.000. Spectrum estimate will be unreliable.\n",
      "  (mic, mim) = spectral_connectivity_epochs(state_epochs, method=['mic', 'mim'], n_jobs=-1, fmin=1, fmax=100, verbose='WARNING')\n",
      "C:\\Users\\Olle de Jong\\AppData\\Local\\Temp\\ipykernel_23800\\1203172650.py:18: RuntimeWarning: fmin=1.000 Hz corresponds to 4.999 < 5 cycles based on the epoch length 4.999 sec, need at least 5.000 sec epochs or fmin=1.000. Spectrum estimate will be unreliable.\n",
      "  (mic, mim) = spectral_connectivity_epochs(state_epochs, method=['mic', 'mim'], n_jobs=-1, fmin=1, fmax=100, verbose='WARNING')\n",
      "C:\\Users\\Olle de Jong\\AppData\\Local\\Temp\\ipykernel_23800\\1203172650.py:18: RuntimeWarning: fmin=1.000 Hz corresponds to 4.999 < 5 cycles based on the epoch length 4.999 sec, need at least 5.000 sec epochs or fmin=1.000. Spectrum estimate will be unreliable.\n",
      "  (mic, mim) = spectral_connectivity_epochs(state_epochs, method=['mic', 'mim'], n_jobs=-1, fmin=1, fmax=100, verbose='WARNING')\n",
      "C:\\Users\\Olle de Jong\\AppData\\Local\\Temp\\ipykernel_23800\\1203172650.py:18: RuntimeWarning: fmin=1.000 Hz corresponds to 4.999 < 5 cycles based on the epoch length 4.999 sec, need at least 5.000 sec epochs or fmin=1.000. Spectrum estimate will be unreliable.\n",
      "  (mic, mim) = spectral_connectivity_epochs(state_epochs, method=['mic', 'mim'], n_jobs=-1, fmin=1, fmax=100, verbose='WARNING')\n",
      "C:\\Users\\Olle de Jong\\AppData\\Local\\Temp\\ipykernel_23800\\1203172650.py:18: RuntimeWarning: fmin=1.000 Hz corresponds to 4.999 < 5 cycles based on the epoch length 4.999 sec, need at least 5.000 sec epochs or fmin=1.000. Spectrum estimate will be unreliable.\n",
      "  (mic, mim) = spectral_connectivity_epochs(state_epochs, method=['mic', 'mim'], n_jobs=-1, fmin=1, fmax=100, verbose='WARNING')\n",
      "C:\\Users\\Olle de Jong\\AppData\\Local\\Temp\\ipykernel_23800\\1203172650.py:18: RuntimeWarning: fmin=1.000 Hz corresponds to 4.999 < 5 cycles based on the epoch length 4.999 sec, need at least 5.000 sec epochs or fmin=1.000. Spectrum estimate will be unreliable.\n",
      "  (mic, mim) = spectral_connectivity_epochs(state_epochs, method=['mic', 'mim'], n_jobs=-1, fmin=1, fmax=100, verbose='WARNING')\n"
     ]
    },
    {
     "name": "stdout",
     "output_type": "stream",
     "text": [
      "Skipping subject 81193 as its quality was not sufficient (determined in power/connectivity notebooks)\n"
     ]
    },
    {
     "name": "stderr",
     "output_type": "stream",
     "text": [
      "C:\\Users\\Olle de Jong\\AppData\\Local\\Temp\\ipykernel_23800\\1203172650.py:18: RuntimeWarning: fmin=1.000 Hz corresponds to 4.999 < 5 cycles based on the epoch length 4.999 sec, need at least 5.000 sec epochs or fmin=1.000. Spectrum estimate will be unreliable.\n",
      "  (mic, mim) = spectral_connectivity_epochs(state_epochs, method=['mic', 'mim'], n_jobs=-1, fmin=1, fmax=100, verbose='WARNING')\n",
      "C:\\Users\\Olle de Jong\\AppData\\Local\\Temp\\ipykernel_23800\\1203172650.py:18: RuntimeWarning: fmin=1.000 Hz corresponds to 4.999 < 5 cycles based on the epoch length 4.999 sec, need at least 5.000 sec epochs or fmin=1.000. Spectrum estimate will be unreliable.\n",
      "  (mic, mim) = spectral_connectivity_epochs(state_epochs, method=['mic', 'mim'], n_jobs=-1, fmin=1, fmax=100, verbose='WARNING')\n",
      "C:\\Users\\Olle de Jong\\AppData\\Local\\Temp\\ipykernel_23800\\1203172650.py:18: RuntimeWarning: fmin=1.000 Hz corresponds to 4.999 < 5 cycles based on the epoch length 4.999 sec, need at least 5.000 sec epochs or fmin=1.000. Spectrum estimate will be unreliable.\n",
      "  (mic, mim) = spectral_connectivity_epochs(state_epochs, method=['mic', 'mim'], n_jobs=-1, fmin=1, fmax=100, verbose='WARNING')\n"
     ]
    },
    {
     "name": "stdout",
     "output_type": "stream",
     "text": [
      "Skipping subject 81217 as its quality was not sufficient (determined in power/connectivity notebooks)\n"
     ]
    },
    {
     "name": "stderr",
     "output_type": "stream",
     "text": [
      "C:\\Users\\Olle de Jong\\AppData\\Local\\Temp\\ipykernel_23800\\1203172650.py:18: RuntimeWarning: fmin=1.000 Hz corresponds to 4.999 < 5 cycles based on the epoch length 4.999 sec, need at least 5.000 sec epochs or fmin=1.000. Spectrum estimate will be unreliable.\n",
      "  (mic, mim) = spectral_connectivity_epochs(state_epochs, method=['mic', 'mim'], n_jobs=-1, fmin=1, fmax=100, verbose='WARNING')\n",
      "C:\\Users\\Olle de Jong\\AppData\\Local\\Temp\\ipykernel_23800\\1203172650.py:18: RuntimeWarning: fmin=1.000 Hz corresponds to 4.999 < 5 cycles based on the epoch length 4.999 sec, need at least 5.000 sec epochs or fmin=1.000. Spectrum estimate will be unreliable.\n",
      "  (mic, mim) = spectral_connectivity_epochs(state_epochs, method=['mic', 'mim'], n_jobs=-1, fmin=1, fmax=100, verbose='WARNING')\n",
      "C:\\Users\\Olle de Jong\\AppData\\Local\\Temp\\ipykernel_23800\\1203172650.py:18: RuntimeWarning: fmin=1.000 Hz corresponds to 4.999 < 5 cycles based on the epoch length 4.999 sec, need at least 5.000 sec epochs or fmin=1.000. Spectrum estimate will be unreliable.\n",
      "  (mic, mim) = spectral_connectivity_epochs(state_epochs, method=['mic', 'mim'], n_jobs=-1, fmin=1, fmax=100, verbose='WARNING')\n"
     ]
    }
   ],
   "execution_count": 10
  },
  {
   "metadata": {},
   "cell_type": "markdown",
   "source": [
    "### Maximized Imaginary part of Coherency\n",
    "\n",
    "Let's quickly compare the different states"
   ],
   "id": "25004165c1da953e"
  },
  {
   "metadata": {
    "ExecuteTime": {
     "end_time": "2024-05-17T11:18:36.441803Z",
     "start_time": "2024-05-17T11:18:05.745353Z"
    }
   },
   "cell_type": "code",
   "source": [
    "fig, axs = plt.subplots(nrows=1, ncols=3, figsize=(28, 7), sharey=True, sharex=True)\n",
    "axs = axs.ravel()\n",
    "\n",
    "for i, state in enumerate(results_df_all.state.unique()):\n",
    "    state_data = results_df_all[results_df_all.state == state]\n",
    "    \n",
    "    sns.lineplot(x=state_data.freqs, y=np.abs(state_data.mic), hue=state_data.genotype, palette=palette_light, errorbar=('ci', 95), ax=axs[i])\n",
    "    axs[i].set_xlabel(None)\n",
    "    axs[i].set_ylabel(None)\n",
    "    axs[i].set_title(state, fontsize=15, y=1.01)\n",
    "    axs[i].legend(frameon=False)\n",
    "\n",
    "fig.text(0.5, 0, 'Frequency (Hz)', ha='center', va='center', fontsize=14)\n",
    "fig.text(0, 0.5, 'Absolute connectivity', ha='center', va='center', rotation='vertical', fontsize=14)\n",
    "fig.suptitle(\"Maximised imaginary part of coherency\", fontsize=18, fontweight='bold', fontstyle='italic', y=0.99)\n",
    "plt.tight_layout()\n",
    "save_figure(os.path.join(plot_folder, f\"connectivity/multivariate/MIC_per_behaviour.pdf\"))"
   ],
   "id": "9a901a3932b743a9",
   "execution_count": 41,
   "outputs": []
  },
  {
   "metadata": {},
   "cell_type": "markdown",
   "source": [
    "#### Let's zoom in on the resting-state epochs\n",
    "\n",
    "Let's look at the difference between the genotypes in the different bands"
   ],
   "id": "8e55cd6f75526bae"
  },
  {
   "cell_type": "code",
   "source": [
    "fig, axs = plt.subplots(nrows=5, ncols=1, figsize=(12, 16))\n",
    "axs = axs.ravel()\n",
    "\n",
    "for i, (band, (start, end)) in enumerate(freq_bands_eeg.items()):\n",
    "    rest_data = results_df_all[results_df_all.state == 'rest']\n",
    "    slice_data = rest_data[(rest_data.freqs >= start) & (rest_data.freqs <= end)]\n",
    "    sns.lineplot(x=slice_data.freqs, y=np.abs(slice_data.mic), hue=slice_data.genotype, errorbar=('ci', 95), ax=axs[i], palette=palette_light)\n",
    "    axs[i].set_title(f\"{band} ({start} - {end} Hz)\", fontsize=13, y=1.01)\n",
    "    axs[i].set_xlabel(None)\n",
    "    axs[i].set_ylabel(None)\n",
    "    axs[i].legend(frameon=False)\n",
    "\n",
    "fig.text(0.5, 0, 'Frequency (Hz)', ha='center', va='center', fontsize=14)\n",
    "fig.text(0, 0.5, 'MIC', ha='center', va='center', rotation='vertical', fontsize=14)\n",
    "plt.suptitle('Maximised imaginary part of coherency (MIC) of resting-state epochs per freq. band', fontsize=15, fontweight='bold', fontstyle='italic', y=0.99)\n",
    "plt.tight_layout()\n",
    "save_figure(os.path.join(plot_folder, f\"connectivity/multivariate/multivar_MIC_all_eeg_chans.pdf\"))"
   ],
   "metadata": {
    "collapsed": false,
    "ExecuteTime": {
     "end_time": "2024-05-17T11:18:47.436917Z",
     "start_time": "2024-05-17T11:18:36.441803Z"
    }
   },
   "id": "8d5af7213f4f7719",
   "execution_count": 42,
   "outputs": []
  },
  {
   "metadata": {},
   "cell_type": "markdown",
   "source": [
    "### Multivariate Interaction Measure (MIM)\n",
    "\n",
    "Let's quickly compare the different states"
   ],
   "id": "fb060e6e58b2a890"
  },
  {
   "metadata": {
    "ExecuteTime": {
     "end_time": "2024-05-17T11:19:18.452787Z",
     "start_time": "2024-05-17T11:18:47.436917Z"
    }
   },
   "cell_type": "code",
   "source": [
    "fig, axs = plt.subplots(nrows=1, ncols=3, figsize=(28, 7), sharey=True, sharex=True)\n",
    "axs = axs.ravel()\n",
    "\n",
    "for i, state in enumerate(results_df_all.state.unique()):\n",
    "    state_data = results_df_all[results_df_all.state == state]\n",
    "    \n",
    "    sns.lineplot(state_data, x='freqs', y='mim', hue='genotype', errorbar=('ci', 95), ax=axs[i], palette=palette_light)\n",
    "    axs[i].set_xlabel(None)\n",
    "    axs[i].set_ylabel(None)\n",
    "    axs[i].set_title(state, fontsize=15, y=1.01)\n",
    "    axs[i].legend(frameon=False)\n",
    "\n",
    "fig.text(0.5, 0, 'Frequency (Hz)', ha='center', va='center', fontsize=14)\n",
    "fig.text(0, 0.5, 'Absolute connectivity', ha='center', va='center', rotation='vertical', fontsize=14)\n",
    "fig.suptitle(\"Maximised imaginary part of coherency\", fontsize=18, fontweight='bold', fontstyle='italic', y=0.99)\n",
    "plt.tight_layout()\n",
    "save_figure(os.path.join(plot_folder, f\"connectivity/multivariate/MIM_per_behaviour.pdf\"))"
   ],
   "id": "95ace5a3246dd372",
   "execution_count": 43,
   "outputs": []
  },
  {
   "cell_type": "code",
   "source": [
    "fig, axs = plt.subplots(nrows=5, ncols=1, figsize=(12, 16))\n",
    "axs = axs.ravel()\n",
    "\n",
    "for i, (band, (start, end)) in enumerate(freq_bands_eeg.items()):\n",
    "    rest_data = results_df_all[results_df_all.state == 'rest']\n",
    "    slice_data = rest_data[(rest_data.freqs >= start) & (rest_data.freqs <= end)]\n",
    "    sns.lineplot(slice_data, x='freqs', y='mim', hue='genotype', errorbar=('ci', 95), ax=axs[i], palette=palette_light)\n",
    "    axs[i].set_title(f\"{band} ({start} - {end} Hz)\", fontsize=13, y=1.01)\n",
    "    axs[i].set_xlabel(None)\n",
    "    axs[i].set_ylabel(None)\n",
    "    axs[i].legend(frameon=False)\n",
    "\n",
    "fig.text(0.5, 0, 'Frequency (Hz)', ha='center', va='center', fontsize=14)\n",
    "fig.text(0, 0.5, 'MIM', ha='center', va='center', rotation='vertical', fontsize=14)\n",
    "plt.suptitle('Multivariate interaction measure (MIM) per frequency band, colored by genotype (all EEG channels)', fontsize=15, fontweight='bold', fontstyle='italic', y=0.99)\n",
    "plt.tight_layout()\n",
    "save_figure(os.path.join(plot_folder, f\"connectivity/multivariate/multivar_MIM_all_eeg_chans.pdf\"))"
   ],
   "metadata": {
    "collapsed": false,
    "ExecuteTime": {
     "end_time": "2024-05-17T11:19:29.438604Z",
     "start_time": "2024-05-17T11:19:18.452787Z"
    }
   },
   "id": "2fc60041e7d5f978",
   "execution_count": 44,
   "outputs": []
  },
  {
   "cell_type": "markdown",
   "source": "## Now we do the same, but using only the depth electrodes",
   "metadata": {
    "collapsed": false
   },
   "id": "7e59be5c133e2105"
  },
  {
   "cell_type": "code",
   "source": [
    "results_df_dmn = pd.DataFrame()\n",
    "\n",
    "# for each subject, get the resting/active/sleep epochs, drop the emg channels and calculate the mic and mim\n",
    "for subj_epochs in all_subject_epochs:\n",
    "    subject_id = int(subj_epochs.metadata['animal_id'].iloc[0])\n",
    "    if subject_id in [81217, 79604, 81193, 39489]:\n",
    "        print(f'Skipping subject {subject_id} as its quality was not sufficient (determined in power/connectivity notebooks)')\n",
    "        continue\n",
    "        \n",
    "    annotations = cluster_annotations[subject_id]\n",
    "    genotype = subj_epochs.metadata['genotype'].iloc[0]\n",
    "    to_drop = [x for x in ['EMG_L', 'EMG_R', 'S1_L', 'S1_R', 'V1_R'] if x in subj_epochs.info['ch_names']]\n",
    "    subj_epochs = subj_epochs.load_data().drop_channels(to_drop)\n",
    "    \n",
    "    for label, index in annotations.items():\n",
    "        state_epochs = subj_epochs[subj_epochs.metadata[\"cluster\"] == index]\n",
    "\n",
    "        (mic, mim) = spectral_connectivity_epochs(state_epochs, method=['mic', 'mim'], n_jobs=-1, fmin=1, fmax=100, verbose='WARNING')\n",
    "    \n",
    "        results_df_dmn = pd.concat([results_df_dmn, pd.DataFrame({\n",
    "            'animal_id' : subject_id,\n",
    "            'genotype' : genotype,\n",
    "            'state': label,\n",
    "            'freqs' : mic.freqs,\n",
    "            'mic' : mic.get_data()[0,:],\n",
    "            'mim' : mim.get_data()[0,:]\n",
    "        })])"
   ],
   "metadata": {
    "collapsed": false,
    "ExecuteTime": {
     "end_time": "2024-05-23T09:24:57.003437Z",
     "start_time": "2024-05-23T09:21:14.283602Z"
    }
   },
   "id": "f64ce9b7785f9b21",
   "outputs": [
    {
     "name": "stdout",
     "output_type": "stream",
     "text": [
      "Skipping subject 39489 as its quality was not sufficient (determined in power/connectivity notebooks)\n"
     ]
    },
    {
     "name": "stderr",
     "output_type": "stream",
     "text": [
      "C:\\Users\\Olle de Jong\\AppData\\Local\\Temp\\ipykernel_23800\\813534278.py:18: RuntimeWarning: fmin=1.000 Hz corresponds to 4.999 < 5 cycles based on the epoch length 4.999 sec, need at least 5.000 sec epochs or fmin=1.000. Spectrum estimate will be unreliable.\n",
      "  (mic, mim) = spectral_connectivity_epochs(state_epochs, method=['mic', 'mim'], n_jobs=-1, fmin=1, fmax=100, verbose='WARNING')\n",
      "C:\\Users\\Olle de Jong\\AppData\\Local\\Temp\\ipykernel_23800\\813534278.py:18: RuntimeWarning: fmin=1.000 Hz corresponds to 4.999 < 5 cycles based on the epoch length 4.999 sec, need at least 5.000 sec epochs or fmin=1.000. Spectrum estimate will be unreliable.\n",
      "  (mic, mim) = spectral_connectivity_epochs(state_epochs, method=['mic', 'mim'], n_jobs=-1, fmin=1, fmax=100, verbose='WARNING')\n",
      "C:\\Users\\Olle de Jong\\AppData\\Local\\Temp\\ipykernel_23800\\813534278.py:18: RuntimeWarning: fmin=1.000 Hz corresponds to 4.999 < 5 cycles based on the epoch length 4.999 sec, need at least 5.000 sec epochs or fmin=1.000. Spectrum estimate will be unreliable.\n",
      "  (mic, mim) = spectral_connectivity_epochs(state_epochs, method=['mic', 'mim'], n_jobs=-1, fmin=1, fmax=100, verbose='WARNING')\n",
      "C:\\Users\\Olle de Jong\\AppData\\Local\\Temp\\ipykernel_23800\\813534278.py:18: RuntimeWarning: fmin=1.000 Hz corresponds to 4.999 < 5 cycles based on the epoch length 4.999 sec, need at least 5.000 sec epochs or fmin=1.000. Spectrum estimate will be unreliable.\n",
      "  (mic, mim) = spectral_connectivity_epochs(state_epochs, method=['mic', 'mim'], n_jobs=-1, fmin=1, fmax=100, verbose='WARNING')\n",
      "C:\\Users\\Olle de Jong\\AppData\\Local\\Temp\\ipykernel_23800\\813534278.py:18: RuntimeWarning: fmin=1.000 Hz corresponds to 4.999 < 5 cycles based on the epoch length 4.999 sec, need at least 5.000 sec epochs or fmin=1.000. Spectrum estimate will be unreliable.\n",
      "  (mic, mim) = spectral_connectivity_epochs(state_epochs, method=['mic', 'mim'], n_jobs=-1, fmin=1, fmax=100, verbose='WARNING')\n",
      "C:\\Users\\Olle de Jong\\AppData\\Local\\Temp\\ipykernel_23800\\813534278.py:18: RuntimeWarning: fmin=1.000 Hz corresponds to 4.999 < 5 cycles based on the epoch length 4.999 sec, need at least 5.000 sec epochs or fmin=1.000. Spectrum estimate will be unreliable.\n",
      "  (mic, mim) = spectral_connectivity_epochs(state_epochs, method=['mic', 'mim'], n_jobs=-1, fmin=1, fmax=100, verbose='WARNING')\n",
      "C:\\Users\\Olle de Jong\\AppData\\Local\\Temp\\ipykernel_23800\\813534278.py:18: RuntimeWarning: fmin=1.000 Hz corresponds to 4.999 < 5 cycles based on the epoch length 4.999 sec, need at least 5.000 sec epochs or fmin=1.000. Spectrum estimate will be unreliable.\n",
      "  (mic, mim) = spectral_connectivity_epochs(state_epochs, method=['mic', 'mim'], n_jobs=-1, fmin=1, fmax=100, verbose='WARNING')\n",
      "C:\\Users\\Olle de Jong\\AppData\\Local\\Temp\\ipykernel_23800\\813534278.py:18: RuntimeWarning: fmin=1.000 Hz corresponds to 4.999 < 5 cycles based on the epoch length 4.999 sec, need at least 5.000 sec epochs or fmin=1.000. Spectrum estimate will be unreliable.\n",
      "  (mic, mim) = spectral_connectivity_epochs(state_epochs, method=['mic', 'mim'], n_jobs=-1, fmin=1, fmax=100, verbose='WARNING')\n",
      "C:\\Users\\Olle de Jong\\AppData\\Local\\Temp\\ipykernel_23800\\813534278.py:18: RuntimeWarning: fmin=1.000 Hz corresponds to 4.999 < 5 cycles based on the epoch length 4.999 sec, need at least 5.000 sec epochs or fmin=1.000. Spectrum estimate will be unreliable.\n",
      "  (mic, mim) = spectral_connectivity_epochs(state_epochs, method=['mic', 'mim'], n_jobs=-1, fmin=1, fmax=100, verbose='WARNING')\n",
      "C:\\Users\\Olle de Jong\\AppData\\Local\\Temp\\ipykernel_23800\\813534278.py:18: RuntimeWarning: fmin=1.000 Hz corresponds to 4.999 < 5 cycles based on the epoch length 4.999 sec, need at least 5.000 sec epochs or fmin=1.000. Spectrum estimate will be unreliable.\n",
      "  (mic, mim) = spectral_connectivity_epochs(state_epochs, method=['mic', 'mim'], n_jobs=-1, fmin=1, fmax=100, verbose='WARNING')\n",
      "C:\\Users\\Olle de Jong\\AppData\\Local\\Temp\\ipykernel_23800\\813534278.py:18: RuntimeWarning: fmin=1.000 Hz corresponds to 4.999 < 5 cycles based on the epoch length 4.999 sec, need at least 5.000 sec epochs or fmin=1.000. Spectrum estimate will be unreliable.\n",
      "  (mic, mim) = spectral_connectivity_epochs(state_epochs, method=['mic', 'mim'], n_jobs=-1, fmin=1, fmax=100, verbose='WARNING')\n",
      "C:\\Users\\Olle de Jong\\AppData\\Local\\Temp\\ipykernel_23800\\813534278.py:18: RuntimeWarning: fmin=1.000 Hz corresponds to 4.999 < 5 cycles based on the epoch length 4.999 sec, need at least 5.000 sec epochs or fmin=1.000. Spectrum estimate will be unreliable.\n",
      "  (mic, mim) = spectral_connectivity_epochs(state_epochs, method=['mic', 'mim'], n_jobs=-1, fmin=1, fmax=100, verbose='WARNING')\n",
      "C:\\Users\\Olle de Jong\\AppData\\Local\\Temp\\ipykernel_23800\\813534278.py:18: RuntimeWarning: fmin=1.000 Hz corresponds to 4.999 < 5 cycles based on the epoch length 4.999 sec, need at least 5.000 sec epochs or fmin=1.000. Spectrum estimate will be unreliable.\n",
      "  (mic, mim) = spectral_connectivity_epochs(state_epochs, method=['mic', 'mim'], n_jobs=-1, fmin=1, fmax=100, verbose='WARNING')\n",
      "C:\\Users\\Olle de Jong\\AppData\\Local\\Temp\\ipykernel_23800\\813534278.py:18: RuntimeWarning: fmin=1.000 Hz corresponds to 4.999 < 5 cycles based on the epoch length 4.999 sec, need at least 5.000 sec epochs or fmin=1.000. Spectrum estimate will be unreliable.\n",
      "  (mic, mim) = spectral_connectivity_epochs(state_epochs, method=['mic', 'mim'], n_jobs=-1, fmin=1, fmax=100, verbose='WARNING')\n",
      "C:\\Users\\Olle de Jong\\AppData\\Local\\Temp\\ipykernel_23800\\813534278.py:18: RuntimeWarning: fmin=1.000 Hz corresponds to 4.999 < 5 cycles based on the epoch length 4.999 sec, need at least 5.000 sec epochs or fmin=1.000. Spectrum estimate will be unreliable.\n",
      "  (mic, mim) = spectral_connectivity_epochs(state_epochs, method=['mic', 'mim'], n_jobs=-1, fmin=1, fmax=100, verbose='WARNING')\n",
      "C:\\Users\\Olle de Jong\\AppData\\Local\\Temp\\ipykernel_23800\\813534278.py:18: RuntimeWarning: fmin=1.000 Hz corresponds to 4.999 < 5 cycles based on the epoch length 4.999 sec, need at least 5.000 sec epochs or fmin=1.000. Spectrum estimate will be unreliable.\n",
      "  (mic, mim) = spectral_connectivity_epochs(state_epochs, method=['mic', 'mim'], n_jobs=-1, fmin=1, fmax=100, verbose='WARNING')\n",
      "C:\\Users\\Olle de Jong\\AppData\\Local\\Temp\\ipykernel_23800\\813534278.py:18: RuntimeWarning: fmin=1.000 Hz corresponds to 4.999 < 5 cycles based on the epoch length 4.999 sec, need at least 5.000 sec epochs or fmin=1.000. Spectrum estimate will be unreliable.\n",
      "  (mic, mim) = spectral_connectivity_epochs(state_epochs, method=['mic', 'mim'], n_jobs=-1, fmin=1, fmax=100, verbose='WARNING')\n",
      "C:\\Users\\Olle de Jong\\AppData\\Local\\Temp\\ipykernel_23800\\813534278.py:18: RuntimeWarning: fmin=1.000 Hz corresponds to 4.999 < 5 cycles based on the epoch length 4.999 sec, need at least 5.000 sec epochs or fmin=1.000. Spectrum estimate will be unreliable.\n",
      "  (mic, mim) = spectral_connectivity_epochs(state_epochs, method=['mic', 'mim'], n_jobs=-1, fmin=1, fmax=100, verbose='WARNING')\n"
     ]
    },
    {
     "name": "stdout",
     "output_type": "stream",
     "text": [
      "Skipping subject 79604 as its quality was not sufficient (determined in power/connectivity notebooks)\n"
     ]
    },
    {
     "name": "stderr",
     "output_type": "stream",
     "text": [
      "C:\\Users\\Olle de Jong\\AppData\\Local\\Temp\\ipykernel_23800\\813534278.py:18: RuntimeWarning: fmin=1.000 Hz corresponds to 4.999 < 5 cycles based on the epoch length 4.999 sec, need at least 5.000 sec epochs or fmin=1.000. Spectrum estimate will be unreliable.\n",
      "  (mic, mim) = spectral_connectivity_epochs(state_epochs, method=['mic', 'mim'], n_jobs=-1, fmin=1, fmax=100, verbose='WARNING')\n",
      "C:\\Users\\Olle de Jong\\AppData\\Local\\Temp\\ipykernel_23800\\813534278.py:18: RuntimeWarning: fmin=1.000 Hz corresponds to 4.999 < 5 cycles based on the epoch length 4.999 sec, need at least 5.000 sec epochs or fmin=1.000. Spectrum estimate will be unreliable.\n",
      "  (mic, mim) = spectral_connectivity_epochs(state_epochs, method=['mic', 'mim'], n_jobs=-1, fmin=1, fmax=100, verbose='WARNING')\n",
      "C:\\Users\\Olle de Jong\\AppData\\Local\\Temp\\ipykernel_23800\\813534278.py:18: RuntimeWarning: fmin=1.000 Hz corresponds to 4.999 < 5 cycles based on the epoch length 4.999 sec, need at least 5.000 sec epochs or fmin=1.000. Spectrum estimate will be unreliable.\n",
      "  (mic, mim) = spectral_connectivity_epochs(state_epochs, method=['mic', 'mim'], n_jobs=-1, fmin=1, fmax=100, verbose='WARNING')\n",
      "C:\\Users\\Olle de Jong\\AppData\\Local\\Temp\\ipykernel_23800\\813534278.py:18: RuntimeWarning: fmin=1.000 Hz corresponds to 4.999 < 5 cycles based on the epoch length 4.999 sec, need at least 5.000 sec epochs or fmin=1.000. Spectrum estimate will be unreliable.\n",
      "  (mic, mim) = spectral_connectivity_epochs(state_epochs, method=['mic', 'mim'], n_jobs=-1, fmin=1, fmax=100, verbose='WARNING')\n",
      "C:\\Users\\Olle de Jong\\AppData\\Local\\Temp\\ipykernel_23800\\813534278.py:18: RuntimeWarning: fmin=1.000 Hz corresponds to 4.999 < 5 cycles based on the epoch length 4.999 sec, need at least 5.000 sec epochs or fmin=1.000. Spectrum estimate will be unreliable.\n",
      "  (mic, mim) = spectral_connectivity_epochs(state_epochs, method=['mic', 'mim'], n_jobs=-1, fmin=1, fmax=100, verbose='WARNING')\n",
      "C:\\Users\\Olle de Jong\\AppData\\Local\\Temp\\ipykernel_23800\\813534278.py:18: RuntimeWarning: fmin=1.000 Hz corresponds to 4.999 < 5 cycles based on the epoch length 4.999 sec, need at least 5.000 sec epochs or fmin=1.000. Spectrum estimate will be unreliable.\n",
      "  (mic, mim) = spectral_connectivity_epochs(state_epochs, method=['mic', 'mim'], n_jobs=-1, fmin=1, fmax=100, verbose='WARNING')\n",
      "C:\\Users\\Olle de Jong\\AppData\\Local\\Temp\\ipykernel_23800\\813534278.py:18: RuntimeWarning: fmin=1.000 Hz corresponds to 4.999 < 5 cycles based on the epoch length 4.999 sec, need at least 5.000 sec epochs or fmin=1.000. Spectrum estimate will be unreliable.\n",
      "  (mic, mim) = spectral_connectivity_epochs(state_epochs, method=['mic', 'mim'], n_jobs=-1, fmin=1, fmax=100, verbose='WARNING')\n",
      "C:\\Users\\Olle de Jong\\AppData\\Local\\Temp\\ipykernel_23800\\813534278.py:18: RuntimeWarning: fmin=1.000 Hz corresponds to 4.999 < 5 cycles based on the epoch length 4.999 sec, need at least 5.000 sec epochs or fmin=1.000. Spectrum estimate will be unreliable.\n",
      "  (mic, mim) = spectral_connectivity_epochs(state_epochs, method=['mic', 'mim'], n_jobs=-1, fmin=1, fmax=100, verbose='WARNING')\n",
      "C:\\Users\\Olle de Jong\\AppData\\Local\\Temp\\ipykernel_23800\\813534278.py:18: RuntimeWarning: fmin=1.000 Hz corresponds to 4.999 < 5 cycles based on the epoch length 4.999 sec, need at least 5.000 sec epochs or fmin=1.000. Spectrum estimate will be unreliable.\n",
      "  (mic, mim) = spectral_connectivity_epochs(state_epochs, method=['mic', 'mim'], n_jobs=-1, fmin=1, fmax=100, verbose='WARNING')\n",
      "C:\\Users\\Olle de Jong\\AppData\\Local\\Temp\\ipykernel_23800\\813534278.py:18: RuntimeWarning: fmin=1.000 Hz corresponds to 4.999 < 5 cycles based on the epoch length 4.999 sec, need at least 5.000 sec epochs or fmin=1.000. Spectrum estimate will be unreliable.\n",
      "  (mic, mim) = spectral_connectivity_epochs(state_epochs, method=['mic', 'mim'], n_jobs=-1, fmin=1, fmax=100, verbose='WARNING')\n",
      "C:\\Users\\Olle de Jong\\AppData\\Local\\Temp\\ipykernel_23800\\813534278.py:18: RuntimeWarning: fmin=1.000 Hz corresponds to 4.999 < 5 cycles based on the epoch length 4.999 sec, need at least 5.000 sec epochs or fmin=1.000. Spectrum estimate will be unreliable.\n",
      "  (mic, mim) = spectral_connectivity_epochs(state_epochs, method=['mic', 'mim'], n_jobs=-1, fmin=1, fmax=100, verbose='WARNING')\n",
      "C:\\Users\\Olle de Jong\\AppData\\Local\\Temp\\ipykernel_23800\\813534278.py:18: RuntimeWarning: fmin=1.000 Hz corresponds to 4.999 < 5 cycles based on the epoch length 4.999 sec, need at least 5.000 sec epochs or fmin=1.000. Spectrum estimate will be unreliable.\n",
      "  (mic, mim) = spectral_connectivity_epochs(state_epochs, method=['mic', 'mim'], n_jobs=-1, fmin=1, fmax=100, verbose='WARNING')\n"
     ]
    },
    {
     "name": "stdout",
     "output_type": "stream",
     "text": [
      "Skipping subject 81193 as its quality was not sufficient (determined in power/connectivity notebooks)\n"
     ]
    },
    {
     "name": "stderr",
     "output_type": "stream",
     "text": [
      "C:\\Users\\Olle de Jong\\AppData\\Local\\Temp\\ipykernel_23800\\813534278.py:18: RuntimeWarning: fmin=1.000 Hz corresponds to 4.999 < 5 cycles based on the epoch length 4.999 sec, need at least 5.000 sec epochs or fmin=1.000. Spectrum estimate will be unreliable.\n",
      "  (mic, mim) = spectral_connectivity_epochs(state_epochs, method=['mic', 'mim'], n_jobs=-1, fmin=1, fmax=100, verbose='WARNING')\n",
      "C:\\Users\\Olle de Jong\\AppData\\Local\\Temp\\ipykernel_23800\\813534278.py:18: RuntimeWarning: fmin=1.000 Hz corresponds to 4.999 < 5 cycles based on the epoch length 4.999 sec, need at least 5.000 sec epochs or fmin=1.000. Spectrum estimate will be unreliable.\n",
      "  (mic, mim) = spectral_connectivity_epochs(state_epochs, method=['mic', 'mim'], n_jobs=-1, fmin=1, fmax=100, verbose='WARNING')\n",
      "C:\\Users\\Olle de Jong\\AppData\\Local\\Temp\\ipykernel_23800\\813534278.py:18: RuntimeWarning: fmin=1.000 Hz corresponds to 4.999 < 5 cycles based on the epoch length 4.999 sec, need at least 5.000 sec epochs or fmin=1.000. Spectrum estimate will be unreliable.\n",
      "  (mic, mim) = spectral_connectivity_epochs(state_epochs, method=['mic', 'mim'], n_jobs=-1, fmin=1, fmax=100, verbose='WARNING')\n"
     ]
    },
    {
     "name": "stdout",
     "output_type": "stream",
     "text": [
      "Skipping subject 81217 as its quality was not sufficient (determined in power/connectivity notebooks)\n"
     ]
    },
    {
     "name": "stderr",
     "output_type": "stream",
     "text": [
      "C:\\Users\\Olle de Jong\\AppData\\Local\\Temp\\ipykernel_23800\\813534278.py:18: RuntimeWarning: fmin=1.000 Hz corresponds to 4.999 < 5 cycles based on the epoch length 4.999 sec, need at least 5.000 sec epochs or fmin=1.000. Spectrum estimate will be unreliable.\n",
      "  (mic, mim) = spectral_connectivity_epochs(state_epochs, method=['mic', 'mim'], n_jobs=-1, fmin=1, fmax=100, verbose='WARNING')\n",
      "C:\\Users\\Olle de Jong\\AppData\\Local\\Temp\\ipykernel_23800\\813534278.py:18: RuntimeWarning: fmin=1.000 Hz corresponds to 4.999 < 5 cycles based on the epoch length 4.999 sec, need at least 5.000 sec epochs or fmin=1.000. Spectrum estimate will be unreliable.\n",
      "  (mic, mim) = spectral_connectivity_epochs(state_epochs, method=['mic', 'mim'], n_jobs=-1, fmin=1, fmax=100, verbose='WARNING')\n",
      "C:\\Users\\Olle de Jong\\AppData\\Local\\Temp\\ipykernel_23800\\813534278.py:18: RuntimeWarning: fmin=1.000 Hz corresponds to 4.999 < 5 cycles based on the epoch length 4.999 sec, need at least 5.000 sec epochs or fmin=1.000. Spectrum estimate will be unreliable.\n",
      "  (mic, mim) = spectral_connectivity_epochs(state_epochs, method=['mic', 'mim'], n_jobs=-1, fmin=1, fmax=100, verbose='WARNING')\n"
     ]
    }
   ],
   "execution_count": 12
  },
  {
   "metadata": {},
   "cell_type": "markdown",
   "source": [
    "### Maximized Imaginary part of Coherency\n",
    "\n",
    "Let's quickly compare the different states"
   ],
   "id": "24ffe351d6693a07"
  },
  {
   "metadata": {
    "ExecuteTime": {
     "end_time": "2024-05-17T11:23:35.798405Z",
     "start_time": "2024-05-17T11:23:05.006089Z"
    }
   },
   "cell_type": "code",
   "source": [
    "fig, axs = plt.subplots(nrows=1, ncols=3, figsize=(28, 7), sharey=True, sharex=True)\n",
    "axs = axs.ravel()\n",
    "\n",
    "for i, state in enumerate(results_df_dmn.state.unique()):\n",
    "    state_data = results_df_dmn[results_df_dmn.state == state]\n",
    "    \n",
    "    sns.lineplot(x=state_data.freqs, y=np.abs(state_data.mic), hue=state_data.genotype, palette=palette_light, errorbar=('ci', 95), ax=axs[i])\n",
    "    axs[i].set_xlabel(None)\n",
    "    axs[i].set_ylabel(None)\n",
    "    axs[i].set_title(state, fontsize=15, y=1.01)\n",
    "    axs[i].legend(frameon=False)\n",
    "\n",
    "fig.text(0.5, 0, 'Frequency (Hz)', ha='center', va='center', fontsize=14)\n",
    "fig.text(0, 0.5, 'Absolute connectivity', ha='center', va='center', rotation='vertical', fontsize=14)\n",
    "fig.suptitle(\"Maximised imaginary part of coherency (Default Mode Network only)\", fontsize=18, fontweight='bold', fontstyle='italic', y=0.99)\n",
    "plt.tight_layout()\n",
    "save_figure(os.path.join(plot_folder, f\"connectivity/multivariate/MIC_DMN_per_behaviour.pdf\"))"
   ],
   "id": "b0d14db9c0855a5",
   "execution_count": 46,
   "outputs": []
  },
  {
   "metadata": {},
   "cell_type": "markdown",
   "source": [
    "#### Let's zoom in on the resting-state epochs\n",
    "\n",
    "Let's look at the difference between the genotypes in the different bands"
   ],
   "id": "1705933d0c8ecc55"
  },
  {
   "metadata": {
    "ExecuteTime": {
     "end_time": "2024-05-17T11:23:46.739478Z",
     "start_time": "2024-05-17T11:23:35.798405Z"
    }
   },
   "cell_type": "code",
   "source": [
    "fig, axs = plt.subplots(nrows=5, ncols=1, figsize=(12, 16))\n",
    "axs = axs.ravel()\n",
    "\n",
    "for i, (band, (start, end)) in enumerate(freq_bands_eeg.items()):\n",
    "    rest_data = results_df_dmn[results_df_dmn.state == 'rest']\n",
    "    slice_data = rest_data[(rest_data.freqs >= start) & (rest_data.freqs <= end)]\n",
    "    sns.lineplot(x=slice_data.freqs, y=np.abs(slice_data.mic), hue=slice_data.genotype, errorbar=('ci', 95), ax=axs[i], palette=palette_light)\n",
    "    axs[i].set_title(f\"{band} ({start} - {end} Hz)\", fontsize=13, y=1.01)\n",
    "    axs[i].set_xlabel(None)\n",
    "    axs[i].set_ylabel(None)\n",
    "    axs[i].legend(frameon=False)\n",
    "\n",
    "fig.text(0.5, 0, 'Frequency (Hz)', ha='center', va='center', fontsize=14)\n",
    "fig.text(0, 0.5, 'MIC', ha='center', va='center', rotation='vertical', fontsize=14)\n",
    "plt.suptitle('Maximised imaginary part of coherency (MIC) of resting-state epochs per freq. band (Default Mode Network only)', fontsize=13, fontweight='bold', fontstyle='italic', y=0.99)\n",
    "plt.tight_layout()\n",
    "save_figure(os.path.join(plot_folder, f\"connectivity/multivariate/MIC_DMN_per_band.pdf\"))"
   ],
   "id": "d3ce122ac4c4a119",
   "execution_count": 47,
   "outputs": []
  },
  {
   "metadata": {},
   "cell_type": "markdown",
   "source": [
    "### Multivariate Interaction Measure (MIM)\n",
    "\n",
    "Let's quickly compare the different states"
   ],
   "id": "54ee7bdd0cc4c092"
  },
  {
   "metadata": {
    "ExecuteTime": {
     "end_time": "2024-05-17T11:24:17.482884Z",
     "start_time": "2024-05-17T11:23:46.739478Z"
    }
   },
   "cell_type": "code",
   "source": [
    "fig, axs = plt.subplots(nrows=1, ncols=3, figsize=(28, 7), sharey=True, sharex=True)\n",
    "axs = axs.ravel()\n",
    "\n",
    "for i, state in enumerate(results_df_dmn.state.unique()):\n",
    "    state_data = results_df_dmn[results_df_dmn.state == state]\n",
    "    \n",
    "    sns.lineplot(state_data, x='freqs', y='mim', hue='genotype', errorbar=('ci', 95), ax=axs[i], palette=palette_light)\n",
    "    axs[i].set_xlabel(None)\n",
    "    axs[i].set_ylabel(None)\n",
    "    axs[i].set_title(state, fontsize=15, y=1.01)\n",
    "    axs[i].legend(frameon=False)\n",
    "\n",
    "fig.text(0.5, 0, 'Frequency (Hz)', ha='center', va='center', fontsize=14)\n",
    "fig.text(0, 0.5, 'Absolute connectivity', ha='center', va='center', rotation='vertical', fontsize=14)\n",
    "fig.suptitle(\"Maximised imaginary part of coherency (Default Mode Network only)\", fontsize=18, fontweight='bold', fontstyle='italic', y=0.99)\n",
    "plt.tight_layout()\n",
    "save_figure(os.path.join(plot_folder, f\"connectivity/multivariate/MIM_DMN_per_behaviour.pdf\"))"
   ],
   "id": "faf8856e4657535",
   "execution_count": 48,
   "outputs": []
  },
  {
   "metadata": {
    "ExecuteTime": {
     "end_time": "2024-05-17T11:24:28.424158Z",
     "start_time": "2024-05-17T11:24:17.482884Z"
    }
   },
   "cell_type": "code",
   "source": [
    "fig, axs = plt.subplots(nrows=5, ncols=1, figsize=(12, 16))\n",
    "axs = axs.ravel()\n",
    "\n",
    "for i, (band, (start, end)) in enumerate(freq_bands_eeg.items()):\n",
    "    rest_data = results_df_dmn[results_df_dmn.state == 'rest']\n",
    "    slice_data = rest_data[(rest_data.freqs >= start) & (rest_data.freqs <= end)]\n",
    "    sns.lineplot(slice_data, x='freqs', y='mim', hue='genotype', errorbar=('ci', 95), ax=axs[i], palette=palette_light)\n",
    "    axs[i].set_title(f\"{band} ({start} - {end} Hz)\", fontsize=13, y=1.01)\n",
    "    axs[i].set_xlabel(None)\n",
    "    axs[i].set_ylabel(None)\n",
    "    axs[i].legend(frameon=False)\n",
    "\n",
    "fig.text(0.5, 0, 'Frequency (Hz)', ha='center', va='center', fontsize=14)\n",
    "fig.text(0, 0.5, 'MIM', ha='center', va='center', rotation='vertical', fontsize=14)\n",
    "plt.suptitle('Multivariate interaction measure (MIM) of resting-state epochs per freq. band (Default Mode Network only)', fontsize=15, fontweight='bold', fontstyle='italic', y=0.99)\n",
    "plt.tight_layout()\n",
    "save_figure(os.path.join(plot_folder, f\"connectivity/multivariate/MIM_DMN_per_band.pdf\"))"
   ],
   "id": "d53286a581691a52",
   "execution_count": 49,
   "outputs": []
  }
 ],
 "metadata": {
  "kernelspec": {
   "display_name": "Python 3",
   "language": "python",
   "name": "python3"
  },
  "language_info": {
   "codemirror_mode": {
    "name": "ipython",
    "version": 2
   },
   "file_extension": ".py",
   "mimetype": "text/x-python",
   "name": "python",
   "nbconvert_exporter": "python",
   "pygments_lexer": "ipython2",
   "version": "2.7.6"
  }
 },
 "nbformat": 4,
 "nbformat_minor": 5
}
