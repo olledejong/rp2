{
 "cells": [
  {
   "cell_type": "code",
   "id": "initial_id",
   "metadata": {
    "collapsed": true,
    "ExecuteTime": {
     "end_time": "2024-05-06T14:23:37.035410Z",
     "start_time": "2024-05-06T14:23:35.704972Z"
    }
   },
   "source": [
    "import os\n",
    "import mne\n",
    "import numpy as np\n",
    "import pandas as pd\n",
    "import seaborn as sns\n",
    "import matplotlib.pyplot as plt\n",
    "from mne_connectivity import spectral_connectivity_epochs, seed_target_indices\n",
    "\n",
    "from shared.helper_functions import save_figure, select_folder, select_or_create_folder\n",
    "from settings_general import low_qual_chans, freq_bands_eeg"
   ],
   "outputs": [],
   "execution_count": 1
  },
  {
   "metadata": {},
   "cell_type": "markdown",
   "source": "Change plot theme",
   "id": "60ba72b388c8a802"
  },
  {
   "metadata": {
    "ExecuteTime": {
     "end_time": "2024-05-06T14:23:38.766262Z",
     "start_time": "2024-05-06T14:23:38.758893Z"
    }
   },
   "cell_type": "code",
   "source": "sns.set_theme()",
   "id": "35c8a8816c30c014",
   "outputs": [],
   "execution_count": 2
  },
  {
   "metadata": {},
   "cell_type": "markdown",
   "source": "And define a palette to plot with",
   "id": "476fab38c8553d3a"
  },
  {
   "metadata": {
    "ExecuteTime": {
     "end_time": "2024-05-06T14:23:39.808907Z",
     "start_time": "2024-05-06T14:23:39.805687Z"
    }
   },
   "cell_type": "code",
   "source": [
    "palette = {'DRD2-WT': '#427C99', 'DRD2-KO': '#AF5541'}\n",
    "palette_gr = {'DRD2-WT':'#6A8D73', 'DRD2-KO':'#984447'}"
   ],
   "id": "2655e1efac922b90",
   "outputs": [],
   "execution_count": 3
  },
  {
   "metadata": {},
   "cell_type": "markdown",
   "source": "Let the user select the needed folders",
   "id": "19480c5674f3cd0d"
  },
  {
   "metadata": {
    "ExecuteTime": {
     "end_time": "2024-05-06T14:24:09.462426Z",
     "start_time": "2024-05-06T14:23:41.106866Z"
    }
   },
   "cell_type": "code",
   "source": [
    "epoch_folder = select_folder(\"Select the folder that holds sociability experiment's epoch files\")\n",
    "plot_folder = select_or_create_folder(\"Create or select a folder the plots will be saved to\")"
   ],
   "id": "aaab591254bfe33d",
   "outputs": [
    {
     "name": "stderr",
     "output_type": "stream",
     "text": [
      "2024-05-06 16:23:45.207 python[5308:198178] +[CATransaction synchronize] called within transaction\n",
      "2024-05-06 16:23:56.095 python[5308:198178] +[CATransaction synchronize] called within transaction\n",
      "2024-05-06 16:23:58.331 python[5308:198178] +[CATransaction synchronize] called within transaction\n",
      "2024-05-06 16:23:58.432 python[5308:198178] +[CATransaction synchronize] called within transaction\n",
      "2024-05-06 16:23:59.190 python[5308:198178] +[CATransaction synchronize] called within transaction\n",
      "2024-05-06 16:23:59.293 python[5308:198178] +[CATransaction synchronize] called within transaction\n",
      "2024-05-06 16:23:59.408 python[5308:198178] +[CATransaction synchronize] called within transaction\n",
      "2024-05-06 16:24:00.543 python[5308:198178] +[CATransaction synchronize] called within transaction\n",
      "2024-05-06 16:24:00.646 python[5308:198178] +[CATransaction synchronize] called within transaction\n",
      "2024-05-06 16:24:00.695 python[5308:198178] +[CATransaction synchronize] called within transaction\n"
     ]
    }
   ],
   "execution_count": 4
  },
  {
   "metadata": {
    "ExecuteTime": {
     "end_time": "2024-05-06T14:24:16.607351Z",
     "start_time": "2024-05-06T14:24:16.595376Z"
    }
   },
   "cell_type": "code",
   "source": "epoch_folder",
   "id": "30e75b55f7ce89f4",
   "outputs": [
    {
     "data": {
      "text/plain": [
       "'/Users/olledejong/Documents/MSc_Biology/ResearchProject2/rp2_data/3C_sociability/output/epochs/one_sec_no_overlap'"
      ]
     },
     "execution_count": 5,
     "metadata": {},
     "output_type": "execute_result"
    }
   ],
   "execution_count": 5
  },
  {
   "metadata": {
    "ExecuteTime": {
     "end_time": "2024-05-06T14:24:17.586797Z",
     "start_time": "2024-05-06T14:24:17.580347Z"
    }
   },
   "cell_type": "code",
   "source": "plot_folder",
   "id": "6a5b72b430be8b23",
   "outputs": [
    {
     "data": {
      "text/plain": [
       "'/Users/olledejong/Documents/MSc_Biology/ResearchProject2/rp2_data/3C_sociability/output/plots/one_sec_no_overlap'"
      ]
     },
     "execution_count": 6,
     "metadata": {},
     "output_type": "execute_result"
    }
   ],
   "execution_count": 6
  },
  {
   "metadata": {},
   "cell_type": "markdown",
   "source": "Define the channels we're not interested in",
   "id": "1d3e4dea263c71a5"
  },
  {
   "metadata": {
    "ExecuteTime": {
     "end_time": "2024-05-06T14:24:26.018993Z",
     "start_time": "2024-05-06T14:24:26.015410Z"
    }
   },
   "cell_type": "code",
   "source": "excluded_chans = ['EMG_L', 'EMG_R']",
   "id": "f1613ed2ad0aa7d3",
   "outputs": [],
   "execution_count": 7
  },
  {
   "metadata": {},
   "cell_type": "markdown",
   "source": "Load all subject epochs",
   "id": "436997a8c53d7695"
  },
  {
   "metadata": {
    "ExecuteTime": {
     "end_time": "2024-05-06T14:24:29.402597Z",
     "start_time": "2024-05-06T14:24:28.651454Z"
    }
   },
   "cell_type": "code",
   "source": [
    "all_subject_epochs = []\n",
    "for file in os.listdir(epoch_folder):\n",
    "    if not file.endswith('.fif') or file.startswith('.'):\n",
    "        continue\n",
    "    all_subject_epochs.append(mne.read_epochs(os.path.join(epoch_folder, file), preload=True, verbose='WARNING'))"
   ],
   "id": "3f17ed7e9f386e5d",
   "outputs": [],
   "execution_count": 8
  },
  {
   "metadata": {
    "ExecuteTime": {
     "end_time": "2024-05-06T14:24:29.413367Z",
     "start_time": "2024-05-06T14:24:29.405159Z"
    }
   },
   "cell_type": "code",
   "source": "len(all_subject_epochs)",
   "id": "247f28d40c8e1157",
   "outputs": [
    {
     "data": {
      "text/plain": [
       "17"
      ]
     },
     "execution_count": 9,
     "metadata": {},
     "output_type": "execute_result"
    }
   ],
   "execution_count": 9
  },
  {
   "metadata": {},
   "cell_type": "markdown",
   "source": "### Define some computation functions",
   "id": "43bd683af5f514c6"
  },
  {
   "metadata": {
    "ExecuteTime": {
     "end_time": "2024-05-06T14:24:31.526225Z",
     "start_time": "2024-05-06T14:24:31.519655Z"
    }
   },
   "cell_type": "code",
   "source": [
    "def compute_con(epochs, method, fmin=0, fmax=100):\n",
    "    # Compute spectral connectivity\n",
    "    con = spectral_connectivity_epochs(\n",
    "        epochs, method=method, mode='multitaper', sfreq=epochs.info['sfreq'],\n",
    "        fmin=fmin, fmax=fmax, faverage=True, verbose='ERROR', gc_n_lags=40)\n",
    "    return con.get_data(output='dense')"
   ],
   "id": "79dca3f6b814a8c1",
   "outputs": [],
   "execution_count": 10
  },
  {
   "metadata": {},
   "cell_type": "markdown",
   "source": "And a function that computes a dataframe holding the connectivity for all the subject's epochs.",
   "id": "636e75e0b8418574"
  },
  {
   "metadata": {
    "ExecuteTime": {
     "end_time": "2024-05-06T14:24:32.893330Z",
     "start_time": "2024-05-06T14:24:32.885292Z"
    }
   },
   "cell_type": "code",
   "source": [
    "def connectivity_df(subject_epoch_objects, interaction_kind, method):\n",
    "    results_df = pd.DataFrame()\n",
    "    \n",
    "    # per subject, calculate the given measure for all epochs\n",
    "    for subject_epochs in subject_epoch_objects:\n",
    "        \n",
    "        interaction_kind_epochs = subject_epochs[subject_epochs.metadata['interaction_kind'] == interaction_kind]\n",
    "        interaction_kind_epochs = interaction_kind_epochs.drop_channels(excluded_chans)\n",
    "        \n",
    "        subject_id = int(interaction_kind_epochs.metadata['subject_id'].iloc[0])    \n",
    "        genotype = interaction_kind_epochs.metadata['genotype'].iloc[0]\n",
    "\n",
    "        # compute the given connectivity measure for every frequency band\n",
    "        for band_name, (fmin, fmax) in freq_bands_eeg.items():\n",
    "\n",
    "            # spectrum estimates are unreliable when we have less than 5 cycles,\n",
    "            # and since we have 1-second epochs, we need the fmin to be at least 5\n",
    "            # if band_name == '$\\\\delta$':\n",
    "            #     continue\n",
    "            # if fmin == 4:\n",
    "            #     fmin = 5\n",
    "            \n",
    "            # compute the connectivity using the provided method\n",
    "            con = compute_con(interaction_kind_epochs, method, fmin, fmax)\n",
    "            \n",
    "            # loop through every channel combination\n",
    "            for i in range(con.shape[1]):\n",
    "                for j in range(i+1, con.shape[0]):\n",
    "                    if subject_id in low_qual_chans.keys():\n",
    "                        if interaction_kind_epochs.ch_names[i] in low_qual_chans[subject_id] or interaction_kind_epochs.ch_names[j] in low_qual_chans[subject_id]:\n",
    "                            continue\n",
    "                    # add the data\n",
    "                    results_df = pd.concat([results_df, pd.DataFrame({\n",
    "                        'con' : con[j, i, 0],\n",
    "                        'node1' : interaction_kind_epochs.ch_names[i],\n",
    "                        'node2' : interaction_kind_epochs.ch_names[j],\n",
    "                        'band' : band_name,\n",
    "                        'subject_id': subject_id,\n",
    "                        'genotype': genotype\n",
    "                    }, index=[0])], ignore_index=True)\n",
    "    print(f'Done computing {method} connectivity.')\n",
    "    return results_df"
   ],
   "id": "ac718d6fce493c4d",
   "outputs": [],
   "execution_count": 11
  },
  {
   "metadata": {},
   "cell_type": "markdown",
   "source": "And also a function that allows us to generate a heatmap of the connectivity per channel combination",
   "id": "c6c233be3b8d41e4"
  },
  {
   "metadata": {
    "ExecuteTime": {
     "end_time": "2024-05-06T14:24:36.134598Z",
     "start_time": "2024-05-06T14:24:36.122668Z"
    }
   },
   "cell_type": "code",
   "source": [
    "def generate_con_heatmap(df, freq_band, cmap, fig_title='', method='', ax=None):\n",
    "    # subset the data for a given frequency band\n",
    "    filtered_df = df[df['band'] == freq_band]\n",
    "\n",
    "    # generate pivot table with mean 'method' values\n",
    "    pivot_table = filtered_df.pivot_table(index='node1', columns='node2', values='con', aggfunc='mean')\n",
    "\n",
    "    # make table symmetric by filling missing values\n",
    "    pivot_table = pivot_table.combine_first(pivot_table.T)\n",
    "\n",
    "    # set diagonal and upper triangle values to NaN, this way we still plot all data\n",
    "    for i in range(pivot_table.shape[0]):\n",
    "        for j in range(i, pivot_table.shape[1]):\n",
    "            pivot_table.iat[i, j] = np.nan\n",
    "\n",
    "    fig = sns.heatmap(pivot_table, cmap=cmap, annot=True, fmt=\".2f\", vmin=0, vmax=1, ax=ax, square=True, cbar_kws={'shrink': 0.75})\n",
    "    fig.set_title(fig_title)\n",
    "\n",
    "    cbar = fig.collections[0].colorbar\n",
    "    cbar.set_label(f'Mean {method}', fontsize=12)\n",
    "    cbar.outline.set_edgecolor('black')\n",
    "    cbar.outline.set_linewidth(1)"
   ],
   "id": "689e5feefa8db00a",
   "outputs": [],
   "execution_count": 12
  },
  {
   "metadata": {},
   "cell_type": "markdown",
   "source": "Let's double check how this works.",
   "id": "17bcb8c59fd07ccb"
  },
  {
   "metadata": {
    "ExecuteTime": {
     "end_time": "2024-05-06T14:24:37.868946Z",
     "start_time": "2024-05-06T14:24:37.248184Z"
    }
   },
   "cell_type": "code",
   "source": [
    "filtered_df = pd.DataFrame({\n",
    "    'node1': ['1','2','3','4'],\n",
    "    'node2': ['5','6','7','8'],\n",
    "    'con': [.1,.2,.3,.4]\n",
    "})\n",
    "\n",
    "# generate pivot table with mean 'method' values\n",
    "pivot_table = filtered_df.pivot_table(index='node1', columns='node2', values='con', aggfunc='mean')\n",
    "\n",
    "# make table symmetric by filling missing values\n",
    "pivot_table = pivot_table.combine_first(pivot_table.T)\n",
    "\n",
    "# set diagonal and upper triangle values to NaN, this way we still plot all data\n",
    "for i in range(pivot_table.shape[0]):\n",
    "    for j in range(i, pivot_table.shape[1]):\n",
    "        pivot_table.iat[i, j] = np.nan\n",
    "\n",
    "fig = sns.heatmap(pivot_table, cmap='flare', annot=True, fmt=\".2f\", vmin=0, vmax=1, square=True, cbar_kws={'shrink': 0.75})"
   ],
   "id": "8232caef73fcc3a7",
   "outputs": [
    {
     "data": {
      "text/plain": [
       "<Figure size 640x480 with 2 Axes>"
      ],
      "image/png": "[encoded data removed]"
     },
     "metadata": {},
     "output_type": "display_data"
    }
   ],
   "execution_count": 13
  },
  {
   "metadata": {},
   "cell_type": "markdown",
   "source": "In the heatmaps, the bottom row is the first node, so when interpreting dPLI values, the bottom row is lagging the other signal if dPLI is between 0 and 0.5, and the reference signal is leading the other signal is the dPLI is between 0.5 and 1.0.",
   "id": "47b9d05603478249"
  },
  {
   "metadata": {},
   "cell_type": "markdown",
   "source": "And a function that allows us to plot the connectivity differences between the two genotypes for the 4 channels of interest",
   "id": "3f1b8874152fd4e3"
  },
  {
   "metadata": {
    "ExecuteTime": {
     "end_time": "2024-05-06T14:24:40.197535Z",
     "start_time": "2024-05-06T14:24:40.187588Z"
    }
   },
   "cell_type": "code",
   "source": [
    "def generate_grid_plot_wt_vs_ko(data, interaction_kind, method, cmap='flare'):\n",
    "    fig, ax = plt.subplots(nrows=2, ncols=5, figsize=(24, 10))\n",
    "    \n",
    "    freq_band_names = freq_bands_eeg.keys()\n",
    "    genotypes = data['genotype'].unique()\n",
    "    \n",
    "    # loop through genotypes\n",
    "    for i, genotype in enumerate(genotypes):\n",
    "        genotype_data = data[data['genotype'] == genotype]\n",
    "        for j, band in enumerate(freq_band_names):\n",
    "            generate_con_heatmap(genotype_data, band, cmap=cmap, fig_title=f'{genotype} - {band} Band', method=method, ax=ax[i, j])\n",
    "    \n",
    "    plt.tight_layout()\n",
    "    plt.subplots_adjust(wspace=0.25, hspace=-0.1)\n",
    "    save_figure(os.path.join(plot_folder, f\"connectivity/heatmaps/wt_vs_ko_{interaction_kind}_{method}.pdf\"))"
   ],
   "id": "5d0975a9eedc7ef",
   "outputs": [],
   "execution_count": 14
  },
  {
   "metadata": {},
   "cell_type": "markdown",
   "source": "Lastly a function that allows us to generate barplots of the connectivity measures",
   "id": "299136d05f18726a"
  },
  {
   "metadata": {
    "ExecuteTime": {
     "end_time": "2024-05-06T14:24:41.570208Z",
     "start_time": "2024-05-06T14:24:41.562331Z"
    }
   },
   "cell_type": "code",
   "source": [
    "def generate_barplots(data, interaction_kind, method):\n",
    "    combinations = data['node1'] + '-' + data['node2']\n",
    "    unique_combinations = combinations.unique()\n",
    "    \n",
    "    fig, axs = plt.subplots(nrows=3, ncols=7, figsize=(35, 15), sharey=True, sharex=True)\n",
    "    axs = axs.ravel()\n",
    "    \n",
    "    for i, combination in enumerate(unique_combinations):\n",
    "        # subset the data\n",
    "        chan1, chan2 = combination.split('-')\n",
    "        data_subset = data[(data['node1'] == chan1) & (data['node2'] == chan2)]\n",
    "        \n",
    "        sns.barplot(data=data_subset, x=\"band\", y=\"con\", hue=\"genotype\", palette=palette, hue_order=[\"DRD2-WT\", \"DRD2-KO\"], ax=axs[i], errorbar=None)\n",
    "        sns.stripplot(data=data_subset, x=\"band\", y=\"con\", hue=\"genotype\", palette='dark:black', hue_order=[\"DRD2-WT\", \"DRD2-KO\"], alpha=0.4, dodge=True, legend=False, ax=axs[i])\n",
    "        \n",
    "        axs[i].set_title(f\"Connectivity of {chan1} and {chan2} ({method.upper()})\")\n",
    "        axs[i].set_xlabel(\"Frequency band\")\n",
    "        axs[i].set_ylabel(f\"Connectivity ({method.upper()})\")\n",
    "    \n",
    "    plt.subplots_adjust(wspace=0.3, hspace=0.3)\n",
    "    plt.tight_layout()\n",
    "    save_figure(os.path.join(plot_folder, f\"connectivity/barplots/grid_{interaction_kind}_{method}.pdf\"))"
   ],
   "id": "e198dd32653fae8a",
   "outputs": [],
   "execution_count": 15
  },
  {
   "metadata": {},
   "cell_type": "markdown",
   "source": [
    "## Exploration on a single subject (30958)\n",
    "\n",
    "### Phase Lag Index exploration\n",
    "\n",
    "#### Directed Phase-Lag-Index (dPLI)"
   ],
   "id": "806df8692c7eac28"
  },
  {
   "metadata": {
    "ExecuteTime": {
     "end_time": "2024-04-29T10:49:07.798937Z",
     "start_time": "2024-04-29T10:49:07.785125Z"
    }
   },
   "cell_type": "code",
   "source": [
    "for obj in all_subject_epochs:\n",
    "    if obj.metadata.subject_id.iloc[0] == '39508':\n",
    "        epochs_39508 = obj.copy()\n",
    "        \n",
    "epochs_39508.drop_channels(['S1_L', 'S1_R', 'V1_R', 'EMG_L', 'EMG_R'])\n",
    "epochs_39508.info['ch_names']"
   ],
   "id": "30b4f40f689207fa",
   "outputs": [
    {
     "data": {
      "text/plain": [
       "['OFC_R', 'OFC_L', 'CG', 'STR_R']"
      ]
     },
     "execution_count": 36,
     "metadata": {},
     "output_type": "execute_result"
    }
   ],
   "execution_count": 36
  },
  {
   "metadata": {
    "ExecuteTime": {
     "end_time": "2024-04-29T10:49:10.511015Z",
     "start_time": "2024-04-29T10:49:10.375410Z"
    }
   },
   "cell_type": "code",
   "source": [
    "fig = plt.figure(figsize=(16, 3))\n",
    "plt.plot(epochs_39508[22].get_data(picks='CG')[0,0,:], label='GC')\n",
    "plt.plot(epochs_39508[22].get_data(picks='STR_R')[0,0,:], label='STR_R')\n",
    "plt.legend()"
   ],
   "id": "b0f371cf67998a4f",
   "outputs": [
    {
     "data": {
      "text/plain": [
       "<matplotlib.legend.Legend at 0x1a6f76c3e50>"
      ]
     },
     "execution_count": 37,
     "metadata": {},
     "output_type": "execute_result"
    },
    {
     "data": {
      "text/plain": [
       "<Figure size 1600x300 with 1 Axes>"
      ],
      "image/png": "[encoded data removed]"
     },
     "metadata": {},
     "output_type": "display_data"
    }
   ],
   "execution_count": 37
  },
  {
   "metadata": {},
   "cell_type": "markdown",
   "source": "Visually, the STR_R seems to lag behind the GC, or the GC leads the STR_R",
   "id": "68e024c3ebea77f"
  },
  {
   "metadata": {
    "ExecuteTime": {
     "end_time": "2024-04-29T10:54:04.219235Z",
     "start_time": "2024-04-29T10:54:04.204724Z"
    }
   },
   "cell_type": "code",
   "source": [
    "seeds = [idx for idx, ch_info in enumerate(['OFC_R', 'OFC_L', 'CG', 'STR_R'])]\n",
    "targets = [idx for idx, ch_info in enumerate(['OFC_R', 'OFC_L', 'CG', 'STR_R'])]\n",
    "indices = seed_target_indices(seeds, targets)\n",
    "print(f'Bi-variate indexes used for pairwise connectivity calculations:\\n {indices}')\n",
    "\n",
    "# calculate dpli for one specific epoch\n",
    "dpli_test = spectral_connectivity_epochs(\n",
    "    epochs_39508[22], indices=indices, sfreq=epochs_39508.info['sfreq'], method=\"dpli\", fmin=5, fmax=100\n",
    ")\n",
    "\n",
    "# report some stuff\n",
    "print(f'\\nShape of the dpli output: {dpli_test.get_data(output=\"dense\").shape}')\n",
    "print(f'\\nLength of the frequency array (holds at which the dPLI is calculated): {len(dpli_test.freqs)}')\n",
    "print(f'\\nThe dPLI output:\\n {dpli_test.get_data(output=\"dense\")}')"
   ],
   "id": "b683a63f33d020d4",
   "outputs": [
    {
     "name": "stdout",
     "output_type": "stream",
     "text": [
      "Bi-variate indexes used for pairwise connectivity calculations:\n",
      " (array([0, 0, 0, 0, 1, 1, 1, 1, 2, 2, 2, 2, 3, 3, 3, 3]), array([0, 1, 2, 3, 0, 1, 2, 3, 0, 1, 2, 3, 0, 1, 2, 3]))\n",
      "Connectivity computation...\n",
      "    computing connectivity for 16 connections\n",
      "    using t=0.000s..0.998s for estimation (500 points)\n",
      "    frequencies: 5.0Hz..100.0Hz (96 points)\n",
      "    Using multitaper spectrum estimation with 7 DPSS windows\n",
      "    the following metrics will be computed: DPLI\n",
      "    computing cross-spectral density for epoch 1\n",
      "[Connectivity computation done]\n",
      "\n",
      "Shape of the dpli output: (4, 4, 96)\n",
      "\n",
      "Length of the frequency array (holds at which the dPLI is calculated): 96\n",
      "\n",
      "The dPLI output:\n",
      " [[[1. 0. 1. ... 1. 1. 0.]\n",
      "  [0. 0. 0. ... 1. 1. 1.]\n",
      "  [0. 0. 0. ... 1. 1. 0.]\n",
      "  [1. 1. 1. ... 1. 1. 0.]]\n",
      "\n",
      " [[1. 1. 1. ... 0. 0. 0.]\n",
      "  [0. 0. 0. ... 1. 1. 1.]\n",
      "  [1. 0. 0. ... 1. 0. 0.]\n",
      "  [1. 1. 1. ... 0. 0. 0.]]\n",
      "\n",
      " [[1. 1. 1. ... 0. 0. 1.]\n",
      "  [0. 1. 1. ... 0. 1. 1.]\n",
      "  [1. 1. 1. ... 0. 0. 1.]\n",
      "  [1. 1. 1. ... 1. 1. 1.]]\n",
      "\n",
      " [[0. 0. 0. ... 0. 0. 1.]\n",
      "  [0. 0. 0. ... 1. 1. 1.]\n",
      "  [0. 0. 0. ... 0. 0. 0.]\n",
      "  [0. 0. 1. ... 1. 0. 0.]]]\n"
     ]
    }
   ],
   "execution_count": 38
  },
  {
   "metadata": {
    "ExecuteTime": {
     "end_time": "2024-04-29T10:54:04.856018Z",
     "start_time": "2024-04-29T10:54:04.839881Z"
    }
   },
   "cell_type": "code",
   "source": [
    "print(f'Mean dPLI for CG --> STR_R:  {np.average(dpli_test.get_data(output=\"dense\")[2,3,:])}')\n",
    "print(f'Mean dPLI for STR_R --> CG:  {np.average(dpli_test.get_data(output=\"dense\")[3,2,:])}')"
   ],
   "id": "1bb37e2347f87bc9",
   "outputs": [
    {
     "name": "stdout",
     "output_type": "stream",
     "text": [
      "Mean dPLI for CG --> STR_R:  0.6770833333333334\n",
      "Mean dPLI for STR_R --> CG:  0.3229166666666667\n"
     ]
    }
   ],
   "execution_count": 39
  },
  {
   "metadata": {},
   "cell_type": "markdown",
   "source": [
    "We can, from these, observe that they are each others opposites, which makes sense, as we calculate the **directed** phase-lag index here. If one leads or lags the other, the score of the reverse is gonna be the opposite. Note; the dPLI ranges from 0 to 1.\n",
    "\n",
    "Now, how do we interpret this?\n",
    "\n",
    "The reference (first provided signal) is lagging the other signal if dPLI is between 0 and 0.5, and the reference signal is leading the other signal is the dPLI is between 0.5 and 1.0.\n",
    "\n",
    "So, the CG is leading the STR_R signal, or, the STR_R is lagging the CG signal."
   ],
   "id": "6468bd70482496f9"
  },
  {
   "metadata": {},
   "cell_type": "markdown",
   "source": [
    "\n",
    "\n",
    "#### Weighted Phase-Lag-Index (wPLI)\n"
   ],
   "id": "529f36afd6c6d449"
  },
  {
   "metadata": {
    "ExecuteTime": {
     "end_time": "2024-04-29T10:54:08.434963Z",
     "start_time": "2024-04-29T10:54:08.422172Z"
    }
   },
   "cell_type": "code",
   "source": [
    "print(f'Bi-variate indexes used for pairwise connectivity calculations:\\n {indices}')\n",
    "\n",
    "# calculate dpli for one specific epoch\n",
    "wpli_test = spectral_connectivity_epochs(\n",
    "    epochs_39508[22], indices=indices, sfreq=epochs_39508.info['sfreq'], method=\"wpli\", fmin=5, fmax=100\n",
    ")\n",
    "\n",
    "# report some stuff\n",
    "print(f'\\nShape of the dpli output: {wpli_test.get_data(output=\"dense\").shape}')\n",
    "print(f'\\nLength of the frequency array (holds at which the dPLI is calculated): {len(wpli_test.freqs)}')\n",
    "print(f'\\nThe dPLI output:\\n {wpli_test.get_data(output=\"dense\")}')"
   ],
   "id": "1331211435a3a660",
   "outputs": [
    {
     "name": "stdout",
     "output_type": "stream",
     "text": [
      "Bi-variate indexes used for pairwise connectivity calculations:\n",
      " (array([0, 0, 0, 0, 1, 1, 1, 1, 2, 2, 2, 2, 3, 3, 3, 3]), array([0, 1, 2, 3, 0, 1, 2, 3, 0, 1, 2, 3, 0, 1, 2, 3]))\n",
      "Connectivity computation...\n",
      "    computing connectivity for 16 connections\n",
      "    using t=0.000s..0.998s for estimation (500 points)\n",
      "    frequencies: 5.0Hz..100.0Hz (96 points)\n",
      "    Using multitaper spectrum estimation with 7 DPSS windows\n",
      "    the following metrics will be computed: WPLI\n",
      "    computing cross-spectral density for epoch 1\n",
      "[Connectivity computation done]\n",
      "\n",
      "Shape of the dpli output: (4, 4, 96)\n",
      "\n",
      "Length of the frequency array (holds at which the dPLI is calculated): 96\n",
      "\n",
      "The dPLI output:\n",
      " [[[1. 1. 1. ... 1. 1. 1.]\n",
      "  [1. 1. 1. ... 1. 1. 1.]\n",
      "  [1. 1. 1. ... 1. 1. 1.]\n",
      "  [1. 1. 1. ... 1. 1. 1.]]\n",
      "\n",
      " [[1. 1. 1. ... 1. 1. 1.]\n",
      "  [1. 1. 1. ... 1. 1. 1.]\n",
      "  [1. 1. 1. ... 1. 1. 1.]\n",
      "  [1. 1. 1. ... 1. 1. 1.]]\n",
      "\n",
      " [[1. 1. 1. ... 1. 1. 1.]\n",
      "  [1. 1. 1. ... 1. 1. 1.]\n",
      "  [1. 1. 1. ... 1. 1. 1.]\n",
      "  [1. 1. 1. ... 1. 1. 1.]]\n",
      "\n",
      " [[1. 1. 1. ... 1. 1. 1.]\n",
      "  [1. 1. 1. ... 1. 1. 1.]\n",
      "  [1. 1. 1. ... 1. 1. 1.]\n",
      "  [1. 1. 1. ... 1. 1. 1.]]]\n"
     ]
    }
   ],
   "execution_count": 40
  },
  {
   "metadata": {
    "ExecuteTime": {
     "end_time": "2024-04-29T10:54:09.113970Z",
     "start_time": "2024-04-29T10:54:09.102987Z"
    }
   },
   "cell_type": "code",
   "source": "wpli_test.get_data(output=\"dense\")[2,3,:]",
   "id": "3fe25f5197232c97",
   "outputs": [
    {
     "data": {
      "text/plain": [
       "array([1., 1., 1., 1., 1., 1., 1., 1., 1., 1., 1., 1., 1., 1., 1., 1., 1.,\n",
       "       1., 1., 1., 1., 1., 1., 1., 1., 1., 1., 1., 1., 1., 1., 1., 1., 1.,\n",
       "       1., 1., 1., 1., 1., 1., 1., 1., 1., 1., 1., 1., 1., 1., 1., 1., 1.,\n",
       "       1., 1., 1., 1., 1., 1., 1., 1., 1., 1., 1., 1., 1., 1., 1., 1., 1.,\n",
       "       1., 1., 1., 1., 1., 1., 1., 1., 1., 1., 1., 1., 1., 1., 1., 1., 1.,\n",
       "       1., 1., 1., 1., 1., 1., 1., 1., 1., 1., 1.])"
      ]
     },
     "execution_count": 41,
     "metadata": {},
     "output_type": "execute_result"
    }
   ],
   "execution_count": 41
  },
  {
   "metadata": {
    "ExecuteTime": {
     "end_time": "2024-04-29T10:54:09.469027Z",
     "start_time": "2024-04-29T10:54:09.466114Z"
    }
   },
   "cell_type": "code",
   "source": [
    "print(f'Mean wPLI for CG --> STR_R:  {np.average(wpli_test.get_data(output=\"dense\")[2,3,:])}')\n",
    "print(f'Mean wPLI for STR_R --> CG:  {np.average(wpli_test.get_data(output=\"dense\")[3,2,:])}')"
   ],
   "id": "a4525acfb029f742",
   "outputs": [
    {
     "name": "stdout",
     "output_type": "stream",
     "text": [
      "Mean wPLI for CG --> STR_R:  1.0\n",
      "Mean wPLI for STR_R --> CG:  1.0\n"
     ]
    }
   ],
   "execution_count": 42
  },
  {
   "metadata": {},
   "cell_type": "markdown",
   "source": "The wPLI ranges from 0 to 1, where 0 means no phase synchronization, and 1.0 means perfect phase synchronization, which refers to a situation where two signals exhibit a constant and consistent phase relationship across time. In this specific epoch, that wPLI tells us that that is the case.",
   "id": "5b1ba84712e4b74d"
  },
  {
   "metadata": {},
   "cell_type": "markdown",
   "source": "### Granger Causality exploration",
   "id": "e0aa1546f2f5930d"
  },
  {
   "metadata": {
    "ExecuteTime": {
     "end_time": "2024-04-29T10:54:11.301027Z",
     "start_time": "2024-04-29T10:54:11.294987Z"
    }
   },
   "cell_type": "code",
   "source": [
    "# parietal sensors\n",
    "signals_a = [\n",
    "    idx\n",
    "    for idx, ch_info in enumerate(epochs_39508.info[\"chs\"])\n",
    "    if ch_info[\"ch_name\"] == \"OFC_L\"\n",
    "]\n",
    "# occipital sensors\n",
    "signals_b = [\n",
    "    idx\n",
    "    for idx, ch_info in enumerate(epochs_39508.info[\"chs\"])\n",
    "    if ch_info[\"ch_name\"] == \"CG\"\n",
    "]\n",
    "\n",
    "indices_ab = (np.array([signals_a]), np.array([signals_b]))  # A => B\n",
    "indices_ba = (np.array([signals_b]), np.array([signals_a]))  # B => A\n",
    "print(indices_ab)\n",
    "print(indices_ba)"
   ],
   "id": "d2b0466cc1be9b95",
   "outputs": [
    {
     "name": "stdout",
     "output_type": "stream",
     "text": [
      "(array([[1]]), array([[2]]))\n",
      "(array([[2]]), array([[1]]))\n"
     ]
    }
   ],
   "execution_count": 43
  },
  {
   "metadata": {
    "ExecuteTime": {
     "end_time": "2024-04-29T10:54:12.447551Z",
     "start_time": "2024-04-29T10:54:12.352422Z"
    }
   },
   "cell_type": "code",
   "source": [
    "gc_ab = spectral_connectivity_epochs(\n",
    "    epochs_39508[22],\n",
    "    method=[\"gc\"],\n",
    "    indices=indices_ab,\n",
    "    fmin=5,\n",
    "    fmax=25,\n",
    "    gc_n_lags=20,\n",
    ")  # A => B\n",
    "gc_ba = spectral_connectivity_epochs(\n",
    "    epochs_39508[22],\n",
    "    method=[\"gc\"],\n",
    "    indices=indices_ba,\n",
    "    fmin=5,\n",
    "    fmax=25,\n",
    "    gc_n_lags=20,\n",
    ")  # B => A\n",
    "freqs = gc_ab.freqs\n",
    "print(gc_ab.shape)\n",
    "print(gc_ab)"
   ],
   "id": "8659f24acdf7c0ea",
   "outputs": [
    {
     "name": "stdout",
     "output_type": "stream",
     "text": [
      "Connectivity computation...\n",
      "    computing connectivity for 1 connections\n",
      "    using t=0.000s..0.998s for estimation (500 points)\n",
      "    frequencies: 5.0Hz..25.0Hz (21 points)\n",
      "Estimated data ranks:\n",
      "    connection 1 - seeds (1); targets (1)\n",
      "    Using multitaper spectrum estimation with 7 DPSS windows\n",
      "    the following metrics will be computed: GC\n",
      "    computing cross-spectral density for epoch 1\n",
      "Computing GC for connection 1 of 1\n"
     ]
    },
    {
     "data": {
      "text/plain": [
       "  0%|          | frequency blocks : 0/21 [00:00<?,       ?it/s]"
      ],
      "application/vnd.jupyter.widget-view+json": {
       "version_major": 2,
       "version_minor": 0,
       "model_id": "20c7c2db417644508845a4a5596d0be3"
      }
     },
     "metadata": {},
     "output_type": "display_data"
    },
    {
     "name": "stdout",
     "output_type": "stream",
     "text": [
      "[Connectivity computation done]\n",
      "Connectivity computation...\n",
      "    computing connectivity for 1 connections\n",
      "    using t=0.000s..0.998s for estimation (500 points)\n",
      "    frequencies: 5.0Hz..25.0Hz (21 points)\n",
      "Estimated data ranks:\n",
      "    connection 1 - seeds (1); targets (1)\n",
      "    Using multitaper spectrum estimation with 7 DPSS windows\n",
      "    the following metrics will be computed: GC\n",
      "    computing cross-spectral density for epoch 1\n",
      "Computing GC for connection 1 of 1\n"
     ]
    },
    {
     "data": {
      "text/plain": [
       "  0%|          | frequency blocks : 0/21 [00:00<?,       ?it/s]"
      ],
      "application/vnd.jupyter.widget-view+json": {
       "version_major": 2,
       "version_minor": 0,
       "model_id": "2999ccf389174af481387bc6244e37f5"
      }
     },
     "metadata": {},
     "output_type": "display_data"
    },
    {
     "name": "stdout",
     "output_type": "stream",
     "text": [
      "[Connectivity computation done]\n",
      "(1, 21)\n",
      "<SpectralConnectivity | freq : [5.000000, 25.000000], , nave : 1, nodes, n_estimated : 4, 1, ~19 kB>\n"
     ]
    }
   ],
   "execution_count": 44
  },
  {
   "metadata": {
    "ExecuteTime": {
     "end_time": "2024-04-29T10:54:22.258579Z",
     "start_time": "2024-04-29T10:54:22.131477Z"
    }
   },
   "cell_type": "code",
   "source": [
    "fig, axis = plt.subplots(1, 1)\n",
    "axis.plot(freqs, gc_ab.get_data()[0], linewidth=2)\n",
    "axis.set_xlabel(\"Frequency (Hz)\")\n",
    "axis.set_ylabel(\"Connectivity (A.U.)\")\n",
    "fig.suptitle(\"Granger Causality: [OFC_L => CG]\")\n",
    "plt.show()"
   ],
   "id": "db2d4e5044efafe7",
   "outputs": [
    {
     "data": {
      "text/plain": [
       "<Figure size 640x480 with 1 Axes>"
      ],
      "image/png": "[encoded data removed]"
     },
     "metadata": {},
     "output_type": "display_data"
    }
   ],
   "execution_count": 45
  },
  {
   "metadata": {
    "ExecuteTime": {
     "end_time": "2024-04-29T10:54:23.661664Z",
     "start_time": "2024-04-29T10:54:23.534993Z"
    }
   },
   "cell_type": "code",
   "source": [
    "fig, axis = plt.subplots(1, 1)\n",
    "axis.plot(freqs, gc_ba.get_data()[0], linewidth=2)\n",
    "axis.set_xlabel(\"Frequency (Hz)\")\n",
    "axis.set_ylabel(\"Connectivity (A.U.)\")\n",
    "fig.suptitle(\"Granger Causality: [CG => OFC_L]\")\n",
    "plt.show()"
   ],
   "id": "e32f473327019296",
   "outputs": [
    {
     "data": {
      "text/plain": [
       "<Figure size 640x480 with 1 Axes>"
      ],
      "image/png": "[encoded data removed]"
     },
     "metadata": {},
     "output_type": "display_data"
    }
   ],
   "execution_count": 46
  },
  {
   "metadata": {
    "ExecuteTime": {
     "end_time": "2024-04-29T10:54:25.960635Z",
     "start_time": "2024-04-29T10:54:25.820946Z"
    }
   },
   "cell_type": "code",
   "source": [
    "net_gc = gc_ab.get_data() - gc_ba.get_data()  # [A => B] - [B => A]\n",
    "\n",
    "fig, axis = plt.subplots(1, 1)\n",
    "axis.plot((freqs[0], freqs[-1]), (0, 0), linewidth=2, linestyle=\"--\", color=\"k\")\n",
    "axis.plot(freqs, net_gc[0], linewidth=2)\n",
    "axis.set_xlabel(\"Frequency (Hz)\")\n",
    "axis.set_ylabel(\"Connectivity (A.U.)\")\n",
    "fig.suptitle(\"Net Granger Causality: [OFC_L => CG] - [CG => OFC_L]\")"
   ],
   "id": "c68e63b155b56bec",
   "outputs": [
    {
     "data": {
      "text/plain": [
       "Text(0.5, 0.98, 'Net Granger Causality: [OFC_L => CG] - [CG => OFC_L]')"
      ]
     },
     "execution_count": 47,
     "metadata": {},
     "output_type": "execute_result"
    },
    {
     "data": {
      "text/plain": [
       "<Figure size 640x480 with 1 Axes>"
      ],
      "image/png": "[encoded data removed]"
     },
     "metadata": {},
     "output_type": "display_data"
    }
   ],
   "execution_count": 47
  },
  {
   "metadata": {},
   "cell_type": "markdown",
   "source": [
    "By subtracting the flow of information from CG to OFC_L from the flow of information of the reverse we get the net granger causality.\n",
    "\n",
    "This tells us, that for this specific epoch, there's more information flow from the Cingulate Cortex to the left Orbitalfrontal Cortex for most of the frequencies."
   ],
   "id": "71499e7449343ec8"
  },
  {
   "metadata": {},
   "cell_type": "markdown",
   "source": [
    "\n",
    "#### Time-traversed Granger Causality"
   ],
   "id": "3b75b8c273b86f48"
  },
  {
   "metadata": {
    "ExecuteTime": {
     "end_time": "2024-04-29T10:54:29.438646Z",
     "start_time": "2024-04-29T10:54:29.341113Z"
    }
   },
   "cell_type": "code",
   "source": [
    "# compute GC on time-reversed signals\n",
    "gc_tr_ab = spectral_connectivity_epochs(\n",
    "    epochs_39508[22],\n",
    "    method=[\"gc_tr\"],\n",
    "    indices=indices_ab,\n",
    "    fmin=5,\n",
    "    fmax=25,\n",
    "    gc_n_lags=20,\n",
    ")  # TR[A => B]\n",
    "gc_tr_ba = spectral_connectivity_epochs(\n",
    "    epochs_39508[22],\n",
    "    method=[\"gc_tr\"],\n",
    "    indices=indices_ba,\n",
    "    fmin=5,\n",
    "    fmax=25,\n",
    "    gc_n_lags=20,\n",
    ")  # TR[B => A]\n",
    "\n",
    "# compute net GC on time-reversed signals (TR[A => B] - TR[B => A])\n",
    "net_gc_tr = gc_tr_ab.get_data() - gc_tr_ba.get_data()\n",
    "\n",
    "# compute TRGC\n",
    "trgc = net_gc - net_gc_tr"
   ],
   "id": "c6c82751afb4bb5c",
   "outputs": [
    {
     "name": "stdout",
     "output_type": "stream",
     "text": [
      "Connectivity computation...\n",
      "    computing connectivity for 1 connections\n",
      "    using t=0.000s..0.998s for estimation (500 points)\n",
      "    frequencies: 5.0Hz..25.0Hz (21 points)\n",
      "Estimated data ranks:\n",
      "    connection 1 - seeds (1); targets (1)\n",
      "    Using multitaper spectrum estimation with 7 DPSS windows\n",
      "    the following metrics will be computed: GC time-reversed\n",
      "    computing cross-spectral density for epoch 1\n",
      "Computing GC time-reversed for connection 1 of 1\n"
     ]
    },
    {
     "data": {
      "text/plain": [
       "  0%|          | frequency blocks : 0/21 [00:00<?,       ?it/s]"
      ],
      "application/vnd.jupyter.widget-view+json": {
       "version_major": 2,
       "version_minor": 0,
       "model_id": "cd74178bea0847e8b8c38f0d56972a20"
      }
     },
     "metadata": {},
     "output_type": "display_data"
    },
    {
     "name": "stdout",
     "output_type": "stream",
     "text": [
      "[Connectivity computation done]\n",
      "Connectivity computation...\n",
      "    computing connectivity for 1 connections\n",
      "    using t=0.000s..0.998s for estimation (500 points)\n",
      "    frequencies: 5.0Hz..25.0Hz (21 points)\n",
      "Estimated data ranks:\n",
      "    connection 1 - seeds (1); targets (1)\n",
      "    Using multitaper spectrum estimation with 7 DPSS windows\n",
      "    the following metrics will be computed: GC time-reversed\n",
      "    computing cross-spectral density for epoch 1\n",
      "Computing GC time-reversed for connection 1 of 1\n"
     ]
    },
    {
     "data": {
      "text/plain": [
       "  0%|          | frequency blocks : 0/21 [00:00<?,       ?it/s]"
      ],
      "application/vnd.jupyter.widget-view+json": {
       "version_major": 2,
       "version_minor": 0,
       "model_id": "69348394172e462198a9467ec0570f85"
      }
     },
     "metadata": {},
     "output_type": "display_data"
    },
    {
     "name": "stdout",
     "output_type": "stream",
     "text": [
      "[Connectivity computation done]\n"
     ]
    }
   ],
   "execution_count": 48
  },
  {
   "metadata": {},
   "cell_type": "markdown",
   "source": "Plot the net time-traversed GC",
   "id": "72481f2819e61183"
  },
  {
   "metadata": {
    "ExecuteTime": {
     "end_time": "2024-04-29T10:54:31.536224Z",
     "start_time": "2024-04-29T10:54:31.389711Z"
    }
   },
   "cell_type": "code",
   "source": [
    "fig, axis = plt.subplots(1, 1)\n",
    "axis.plot((freqs[0], freqs[-1]), (0, 0), linewidth=2, linestyle=\"--\", color=\"k\")\n",
    "axis.plot(freqs, trgc[0], linewidth=2)\n",
    "axis.set_xlabel(\"Frequency (Hz)\")\n",
    "axis.set_ylabel(\"Connectivity (A.U.)\")\n",
    "fig.suptitle(\"TRGC: net[OFC_L => CG] - net time-reversed[CG => OFC_L]\")"
   ],
   "id": "f17c68bedddb058b",
   "outputs": [
    {
     "data": {
      "text/plain": [
       "Text(0.5, 0.98, 'TRGC: net[OFC_L => CG] - net time-reversed[CG => OFC_L]')"
      ]
     },
     "execution_count": 49,
     "metadata": {},
     "output_type": "execute_result"
    },
    {
     "data": {
      "text/plain": [
       "<Figure size 640x480 with 1 Axes>"
      ],
      "image/png": "[encoded data removed]"
     },
     "metadata": {},
     "output_type": "display_data"
    }
   ],
   "execution_count": 49
  },
  {
   "metadata": {},
   "cell_type": "markdown",
   "source": "Let's compute the net time-reversed granger causality for the frequencies 0 through 100 Hz.",
   "id": "ea19fa96f0c5735d"
  },
  {
   "metadata": {
    "ExecuteTime": {
     "end_time": "2024-04-29T10:54:34.382389Z",
     "start_time": "2024-04-29T10:54:33.750545Z"
    }
   },
   "cell_type": "code",
   "source": [
    "gc_ab = spectral_connectivity_epochs(\n",
    "    epochs_39508[22],\n",
    "    method=[\"gc\"],\n",
    "    indices=indices_ab,\n",
    "    fmin=1,\n",
    "    fmax=100,\n",
    "    gc_n_lags=20,\n",
    ")  # A => B\n",
    "gc_ba = spectral_connectivity_epochs(\n",
    "    epochs_39508[22],\n",
    "    method=[\"gc\"],\n",
    "    indices=indices_ba,\n",
    "    fmin=1,\n",
    "    fmax=100,\n",
    "    gc_n_lags=20,\n",
    ")  # B => A\n",
    "freqs = gc_ab.freqs\n",
    "net_gc = gc_ab.get_data() - gc_ba.get_data()  # [A => B] - [B => A]\n",
    "# compute GC on time-reversed signals\n",
    "gc_tr_ab = spectral_connectivity_epochs(\n",
    "    epochs_39508[22],\n",
    "    method=[\"gc_tr\"],\n",
    "    indices=indices_ab,\n",
    "    fmin=1,\n",
    "    fmax=100,\n",
    "    gc_n_lags=20,\n",
    ")  # TR[A => B]\n",
    "gc_tr_ba = spectral_connectivity_epochs(\n",
    "    epochs_39508[22],\n",
    "    method=[\"gc_tr\"],\n",
    "    indices=indices_ba,\n",
    "    fmin=1,\n",
    "    fmax=100,\n",
    "    gc_n_lags=20,\n",
    ")  # TR[B => A]\n",
    "\n",
    "# compute net GC on time-reversed signals (TR[A => B] - TR[B => A])\n",
    "net_gc_tr = gc_tr_ab.get_data() - gc_tr_ba.get_data()\n",
    "\n",
    "# compute TRGC\n",
    "trgc = net_gc - net_gc_tr\n",
    "\n",
    "fig, axis = plt.subplots(1, 1)\n",
    "axis.plot((freqs[0], freqs[-1]), (0, 0), linewidth=2, linestyle=\"--\", color=\"k\")\n",
    "axis.plot(freqs, trgc[0], linewidth=2)\n",
    "for band, (start, end) in freq_bands_eeg.items():\n",
    "    axis.axvline(x=start, color='gray', linestyle='--', alpha=0.3)\n",
    "    axis.axvline(x=end, color='gray', linestyle='--', alpha=0.3)\n",
    "    axis.text((start + end) / 2, axis.get_ylim()[1] * 1.01, band, horizontalalignment='center', verticalalignment='top', fontsize=8, color='black')\n",
    "\n",
    "axis.set_xlabel(\"Frequency (Hz)\")\n",
    "axis.set_ylabel(\"Connectivity (A.U.)\")\n",
    "fig.suptitle(f\"TRGC: net[OFC_L => CG] - net time-reversed[CG => OFC_L]\")\n",
    "plt.show()"
   ],
   "id": "1e07f22e1fc8d06b",
   "outputs": [
    {
     "name": "stdout",
     "output_type": "stream",
     "text": [
      "Connectivity computation...\n",
      "    computing connectivity for 1 connections\n",
      "    using t=0.000s..0.998s for estimation (500 points)\n",
      "    frequencies: 1.0Hz..100.0Hz (100 points)\n",
      "Estimated data ranks:\n",
      "    connection 1 - seeds (1); targets (1)\n",
      "    Using multitaper spectrum estimation with 7 DPSS windows\n",
      "    the following metrics will be computed: GC\n",
      "    computing cross-spectral density for epoch 1\n",
      "Computing GC for connection 1 of 1\n"
     ]
    },
    {
     "name": "stderr",
     "output_type": "stream",
     "text": [
      "C:\\Users\\Olle de Jong\\AppData\\Local\\Temp\\ipykernel_2984\\1471392812.py:1: RuntimeWarning: fmin=1.000 Hz corresponds to 1.000 < 5 cycles based on the epoch length 1.000 sec, need at least 5.000 sec epochs or fmin=5.000. Spectrum estimate will be unreliable.\n",
      "  gc_ab = spectral_connectivity_epochs(\n"
     ]
    },
    {
     "data": {
      "text/plain": [
       "  0%|          | frequency blocks : 0/100 [00:00<?,       ?it/s]"
      ],
      "application/vnd.jupyter.widget-view+json": {
       "version_major": 2,
       "version_minor": 0,
       "model_id": "4db12ba258a747a49d518aedff524f46"
      }
     },
     "metadata": {},
     "output_type": "display_data"
    },
    {
     "name": "stdout",
     "output_type": "stream",
     "text": [
      "[Connectivity computation done]\n",
      "Connectivity computation...\n",
      "    computing connectivity for 1 connections\n",
      "    using t=0.000s..0.998s for estimation (500 points)\n",
      "    frequencies: 1.0Hz..100.0Hz (100 points)\n",
      "Estimated data ranks:\n",
      "    connection 1 - seeds (1); targets (1)\n",
      "    Using multitaper spectrum estimation with 7 DPSS windows\n",
      "    the following metrics will be computed: GC\n",
      "    computing cross-spectral density for epoch 1\n",
      "Computing GC for connection 1 of 1\n"
     ]
    },
    {
     "name": "stderr",
     "output_type": "stream",
     "text": [
      "C:\\Users\\Olle de Jong\\AppData\\Local\\Temp\\ipykernel_2984\\1471392812.py:9: RuntimeWarning: fmin=1.000 Hz corresponds to 1.000 < 5 cycles based on the epoch length 1.000 sec, need at least 5.000 sec epochs or fmin=5.000. Spectrum estimate will be unreliable.\n",
      "  gc_ba = spectral_connectivity_epochs(\n"
     ]
    },
    {
     "data": {
      "text/plain": [
       "  0%|          | frequency blocks : 0/100 [00:00<?,       ?it/s]"
      ],
      "application/vnd.jupyter.widget-view+json": {
       "version_major": 2,
       "version_minor": 0,
       "model_id": "d0006f835fdc4403aaf2bd5edf4ec653"
      }
     },
     "metadata": {},
     "output_type": "display_data"
    },
    {
     "name": "stdout",
     "output_type": "stream",
     "text": [
      "[Connectivity computation done]\n",
      "Connectivity computation...\n",
      "    computing connectivity for 1 connections\n",
      "    using t=0.000s..0.998s for estimation (500 points)\n",
      "    frequencies: 1.0Hz..100.0Hz (100 points)\n",
      "Estimated data ranks:\n",
      "    connection 1 - seeds (1); targets (1)\n",
      "    Using multitaper spectrum estimation with 7 DPSS windows\n",
      "    the following metrics will be computed: GC time-reversed\n",
      "    computing cross-spectral density for epoch 1\n",
      "Computing GC time-reversed for connection 1 of 1\n"
     ]
    },
    {
     "name": "stderr",
     "output_type": "stream",
     "text": [
      "C:\\Users\\Olle de Jong\\AppData\\Local\\Temp\\ipykernel_2984\\1471392812.py:20: RuntimeWarning: fmin=1.000 Hz corresponds to 1.000 < 5 cycles based on the epoch length 1.000 sec, need at least 5.000 sec epochs or fmin=5.000. Spectrum estimate will be unreliable.\n",
      "  gc_tr_ab = spectral_connectivity_epochs(\n"
     ]
    },
    {
     "data": {
      "text/plain": [
       "  0%|          | frequency blocks : 0/100 [00:00<?,       ?it/s]"
      ],
      "application/vnd.jupyter.widget-view+json": {
       "version_major": 2,
       "version_minor": 0,
       "model_id": "637d3ad0234d47cbab86886e2324a079"
      }
     },
     "metadata": {},
     "output_type": "display_data"
    },
    {
     "name": "stdout",
     "output_type": "stream",
     "text": [
      "[Connectivity computation done]\n",
      "Connectivity computation...\n",
      "    computing connectivity for 1 connections\n",
      "    using t=0.000s..0.998s for estimation (500 points)\n",
      "    frequencies: 1.0Hz..100.0Hz (100 points)\n",
      "Estimated data ranks:\n",
      "    connection 1 - seeds (1); targets (1)\n",
      "    Using multitaper spectrum estimation with 7 DPSS windows\n",
      "    the following metrics will be computed: GC time-reversed\n",
      "    computing cross-spectral density for epoch 1\n",
      "Computing GC time-reversed for connection 1 of 1\n"
     ]
    },
    {
     "name": "stderr",
     "output_type": "stream",
     "text": [
      "C:\\Users\\Olle de Jong\\AppData\\Local\\Temp\\ipykernel_2984\\1471392812.py:28: RuntimeWarning: fmin=1.000 Hz corresponds to 1.000 < 5 cycles based on the epoch length 1.000 sec, need at least 5.000 sec epochs or fmin=5.000. Spectrum estimate will be unreliable.\n",
      "  gc_tr_ba = spectral_connectivity_epochs(\n"
     ]
    },
    {
     "data": {
      "text/plain": [
       "  0%|          | frequency blocks : 0/100 [00:00<?,       ?it/s]"
      ],
      "application/vnd.jupyter.widget-view+json": {
       "version_major": 2,
       "version_minor": 0,
       "model_id": "77e55735787c4869b71c772346bba809"
      }
     },
     "metadata": {},
     "output_type": "display_data"
    },
    {
     "name": "stdout",
     "output_type": "stream",
     "text": [
      "[Connectivity computation done]\n"
     ]
    },
    {
     "data": {
      "text/plain": [
       "<Figure size 640x480 with 1 Axes>"
      ],
      "image/png": "[encoded data removed]"
     },
     "metadata": {},
     "output_type": "display_data"
    }
   ],
   "execution_count": 50
  },
  {
   "metadata": {},
   "cell_type": "markdown",
   "source": "Remember that positive values of connectivity mean that there's more information flow from the CG to the OFC_L.",
   "id": "2d86ea86ddef608b"
  },
  {
   "metadata": {},
   "cell_type": "markdown",
   "source": [
    "## Connectivity for social versus non-social cup interaction epochs\n",
    "\n",
    "### Coherence (coh)"
   ],
   "id": "c782d954ce61971d"
  },
  {
   "metadata": {
    "ExecuteTime": {
     "end_time": "2024-05-06T13:47:24.665174Z",
     "start_time": "2024-05-06T13:47:12.840294Z"
    }
   },
   "cell_type": "code",
   "source": [
    "coh_social = connectivity_df(all_subject_epochs, 'social_cup', \"coh\")\n",
    "coh_non_social = connectivity_df(all_subject_epochs, 'non-social_cup', \"coh\")\n",
    "coh_social.head()"
   ],
   "id": "77bd75025b2bf2fd",
   "outputs": [
    {
     "name": "stderr",
     "output_type": "stream",
     "text": [
      "/var/folders/rf/xrxwkkr96qq6kyy5jfx9hvgw0000gn/T/ipykernel_4900/398803393.py:3: RuntimeWarning: fmin=1.000 Hz corresponds to 1.000 < 5 cycles based on the epoch length 1.000 sec, need at least 5.000 sec epochs or fmin=5.000. Spectrum estimate will be unreliable.\n",
      "  con = spectral_connectivity_epochs(\n",
      "/var/folders/rf/xrxwkkr96qq6kyy5jfx9hvgw0000gn/T/ipykernel_4900/398803393.py:3: RuntimeWarning: fmin=4.000 Hz corresponds to 4.000 < 5 cycles based on the epoch length 1.000 sec, need at least 1.250 sec epochs or fmin=5.000. Spectrum estimate will be unreliable.\n",
      "  con = spectral_connectivity_epochs(\n",
      "/var/folders/rf/xrxwkkr96qq6kyy5jfx9hvgw0000gn/T/ipykernel_4900/398803393.py:3: RuntimeWarning: fmin=1.000 Hz corresponds to 1.000 < 5 cycles based on the epoch length 1.000 sec, need at least 5.000 sec epochs or fmin=5.000. Spectrum estimate will be unreliable.\n",
      "  con = spectral_connectivity_epochs(\n",
      "/var/folders/rf/xrxwkkr96qq6kyy5jfx9hvgw0000gn/T/ipykernel_4900/398803393.py:3: RuntimeWarning: fmin=4.000 Hz corresponds to 4.000 < 5 cycles based on the epoch length 1.000 sec, need at least 1.250 sec epochs or fmin=5.000. Spectrum estimate will be unreliable.\n",
      "  con = spectral_connectivity_epochs(\n",
      "/var/folders/rf/xrxwkkr96qq6kyy5jfx9hvgw0000gn/T/ipykernel_4900/398803393.py:3: RuntimeWarning: fmin=1.000 Hz corresponds to 1.000 < 5 cycles based on the epoch length 1.000 sec, need at least 5.000 sec epochs or fmin=5.000. Spectrum estimate will be unreliable.\n",
      "  con = spectral_connectivity_epochs(\n",
      "/var/folders/rf/xrxwkkr96qq6kyy5jfx9hvgw0000gn/T/ipykernel_4900/398803393.py:3: RuntimeWarning: fmin=4.000 Hz corresponds to 4.000 < 5 cycles based on the epoch length 1.000 sec, need at least 1.250 sec epochs or fmin=5.000. Spectrum estimate will be unreliable.\n",
      "  con = spectral_connectivity_epochs(\n",
      "/var/folders/rf/xrxwkkr96qq6kyy5jfx9hvgw0000gn/T/ipykernel_4900/398803393.py:3: RuntimeWarning: fmin=1.000 Hz corresponds to 1.000 < 5 cycles based on the epoch length 1.000 sec, need at least 5.000 sec epochs or fmin=5.000. Spectrum estimate will be unreliable.\n",
      "  con = spectral_connectivity_epochs(\n",
      "/var/folders/rf/xrxwkkr96qq6kyy5jfx9hvgw0000gn/T/ipykernel_4900/398803393.py:3: RuntimeWarning: fmin=4.000 Hz corresponds to 4.000 < 5 cycles based on the epoch length 1.000 sec, need at least 1.250 sec epochs or fmin=5.000. Spectrum estimate will be unreliable.\n",
      "  con = spectral_connectivity_epochs(\n",
      "/var/folders/rf/xrxwkkr96qq6kyy5jfx9hvgw0000gn/T/ipykernel_4900/398803393.py:3: RuntimeWarning: fmin=1.000 Hz corresponds to 1.000 < 5 cycles based on the epoch length 1.000 sec, need at least 5.000 sec epochs or fmin=5.000. Spectrum estimate will be unreliable.\n",
      "  con = spectral_connectivity_epochs(\n",
      "/var/folders/rf/xrxwkkr96qq6kyy5jfx9hvgw0000gn/T/ipykernel_4900/398803393.py:3: RuntimeWarning: fmin=4.000 Hz corresponds to 4.000 < 5 cycles based on the epoch length 1.000 sec, need at least 1.250 sec epochs or fmin=5.000. Spectrum estimate will be unreliable.\n",
      "  con = spectral_connectivity_epochs(\n",
      "/var/folders/rf/xrxwkkr96qq6kyy5jfx9hvgw0000gn/T/ipykernel_4900/398803393.py:3: RuntimeWarning: fmin=1.000 Hz corresponds to 1.000 < 5 cycles based on the epoch length 1.000 sec, need at least 5.000 sec epochs or fmin=5.000. Spectrum estimate will be unreliable.\n",
      "  con = spectral_connectivity_epochs(\n",
      "/var/folders/rf/xrxwkkr96qq6kyy5jfx9hvgw0000gn/T/ipykernel_4900/398803393.py:3: RuntimeWarning: fmin=4.000 Hz corresponds to 4.000 < 5 cycles based on the epoch length 1.000 sec, need at least 1.250 sec epochs or fmin=5.000. Spectrum estimate will be unreliable.\n",
      "  con = spectral_connectivity_epochs(\n",
      "/var/folders/rf/xrxwkkr96qq6kyy5jfx9hvgw0000gn/T/ipykernel_4900/398803393.py:3: RuntimeWarning: fmin=1.000 Hz corresponds to 1.000 < 5 cycles based on the epoch length 1.000 sec, need at least 5.000 sec epochs or fmin=5.000. Spectrum estimate will be unreliable.\n",
      "  con = spectral_connectivity_epochs(\n",
      "/var/folders/rf/xrxwkkr96qq6kyy5jfx9hvgw0000gn/T/ipykernel_4900/398803393.py:3: RuntimeWarning: fmin=4.000 Hz corresponds to 4.000 < 5 cycles based on the epoch length 1.000 sec, need at least 1.250 sec epochs or fmin=5.000. Spectrum estimate will be unreliable.\n",
      "  con = spectral_connectivity_epochs(\n",
      "/var/folders/rf/xrxwkkr96qq6kyy5jfx9hvgw0000gn/T/ipykernel_4900/398803393.py:3: RuntimeWarning: fmin=1.000 Hz corresponds to 1.000 < 5 cycles based on the epoch length 1.000 sec, need at least 5.000 sec epochs or fmin=5.000. Spectrum estimate will be unreliable.\n",
      "  con = spectral_connectivity_epochs(\n",
      "/var/folders/rf/xrxwkkr96qq6kyy5jfx9hvgw0000gn/T/ipykernel_4900/398803393.py:3: RuntimeWarning: fmin=4.000 Hz corresponds to 4.000 < 5 cycles based on the epoch length 1.000 sec, need at least 1.250 sec epochs or fmin=5.000. Spectrum estimate will be unreliable.\n",
      "  con = spectral_connectivity_epochs(\n",
      "/var/folders/rf/xrxwkkr96qq6kyy5jfx9hvgw0000gn/T/ipykernel_4900/398803393.py:3: RuntimeWarning: fmin=1.000 Hz corresponds to 1.000 < 5 cycles based on the epoch length 1.000 sec, need at least 5.000 sec epochs or fmin=5.000. Spectrum estimate will be unreliable.\n",
      "  con = spectral_connectivity_epochs(\n",
      "/var/folders/rf/xrxwkkr96qq6kyy5jfx9hvgw0000gn/T/ipykernel_4900/398803393.py:3: RuntimeWarning: fmin=4.000 Hz corresponds to 4.000 < 5 cycles based on the epoch length 1.000 sec, need at least 1.250 sec epochs or fmin=5.000. Spectrum estimate will be unreliable.\n",
      "  con = spectral_connectivity_epochs(\n",
      "/var/folders/rf/xrxwkkr96qq6kyy5jfx9hvgw0000gn/T/ipykernel_4900/398803393.py:3: RuntimeWarning: fmin=1.000 Hz corresponds to 1.000 < 5 cycles based on the epoch length 1.000 sec, need at least 5.000 sec epochs or fmin=5.000. Spectrum estimate will be unreliable.\n",
      "  con = spectral_connectivity_epochs(\n",
      "/var/folders/rf/xrxwkkr96qq6kyy5jfx9hvgw0000gn/T/ipykernel_4900/398803393.py:3: RuntimeWarning: fmin=4.000 Hz corresponds to 4.000 < 5 cycles based on the epoch length 1.000 sec, need at least 1.250 sec epochs or fmin=5.000. Spectrum estimate will be unreliable.\n",
      "  con = spectral_connectivity_epochs(\n",
      "/var/folders/rf/xrxwkkr96qq6kyy5jfx9hvgw0000gn/T/ipykernel_4900/398803393.py:3: RuntimeWarning: fmin=1.000 Hz corresponds to 1.000 < 5 cycles based on the epoch length 1.000 sec, need at least 5.000 sec epochs or fmin=5.000. Spectrum estimate will be unreliable.\n",
      "  con = spectral_connectivity_epochs(\n",
      "/var/folders/rf/xrxwkkr96qq6kyy5jfx9hvgw0000gn/T/ipykernel_4900/398803393.py:3: RuntimeWarning: fmin=4.000 Hz corresponds to 4.000 < 5 cycles based on the epoch length 1.000 sec, need at least 1.250 sec epochs or fmin=5.000. Spectrum estimate will be unreliable.\n",
      "  con = spectral_connectivity_epochs(\n",
      "/var/folders/rf/xrxwkkr96qq6kyy5jfx9hvgw0000gn/T/ipykernel_4900/398803393.py:3: RuntimeWarning: fmin=1.000 Hz corresponds to 1.000 < 5 cycles based on the epoch length 1.000 sec, need at least 5.000 sec epochs or fmin=5.000. Spectrum estimate will be unreliable.\n",
      "  con = spectral_connectivity_epochs(\n",
      "/var/folders/rf/xrxwkkr96qq6kyy5jfx9hvgw0000gn/T/ipykernel_4900/398803393.py:3: RuntimeWarning: fmin=4.000 Hz corresponds to 4.000 < 5 cycles based on the epoch length 1.000 sec, need at least 1.250 sec epochs or fmin=5.000. Spectrum estimate will be unreliable.\n",
      "  con = spectral_connectivity_epochs(\n",
      "/var/folders/rf/xrxwkkr96qq6kyy5jfx9hvgw0000gn/T/ipykernel_4900/398803393.py:3: RuntimeWarning: fmin=1.000 Hz corresponds to 1.000 < 5 cycles based on the epoch length 1.000 sec, need at least 5.000 sec epochs or fmin=5.000. Spectrum estimate will be unreliable.\n",
      "  con = spectral_connectivity_epochs(\n",
      "/var/folders/rf/xrxwkkr96qq6kyy5jfx9hvgw0000gn/T/ipykernel_4900/398803393.py:3: RuntimeWarning: fmin=4.000 Hz corresponds to 4.000 < 5 cycles based on the epoch length 1.000 sec, need at least 1.250 sec epochs or fmin=5.000. Spectrum estimate will be unreliable.\n",
      "  con = spectral_connectivity_epochs(\n",
      "/var/folders/rf/xrxwkkr96qq6kyy5jfx9hvgw0000gn/T/ipykernel_4900/398803393.py:3: RuntimeWarning: fmin=1.000 Hz corresponds to 1.000 < 5 cycles based on the epoch length 1.000 sec, need at least 5.000 sec epochs or fmin=5.000. Spectrum estimate will be unreliable.\n",
      "  con = spectral_connectivity_epochs(\n",
      "/var/folders/rf/xrxwkkr96qq6kyy5jfx9hvgw0000gn/T/ipykernel_4900/398803393.py:3: RuntimeWarning: fmin=4.000 Hz corresponds to 4.000 < 5 cycles based on the epoch length 1.000 sec, need at least 1.250 sec epochs or fmin=5.000. Spectrum estimate will be unreliable.\n",
      "  con = spectral_connectivity_epochs(\n",
      "/var/folders/rf/xrxwkkr96qq6kyy5jfx9hvgw0000gn/T/ipykernel_4900/398803393.py:3: RuntimeWarning: fmin=1.000 Hz corresponds to 1.000 < 5 cycles based on the epoch length 1.000 sec, need at least 5.000 sec epochs or fmin=5.000. Spectrum estimate will be unreliable.\n",
      "  con = spectral_connectivity_epochs(\n",
      "/var/folders/rf/xrxwkkr96qq6kyy5jfx9hvgw0000gn/T/ipykernel_4900/398803393.py:3: RuntimeWarning: fmin=4.000 Hz corresponds to 4.000 < 5 cycles based on the epoch length 1.000 sec, need at least 1.250 sec epochs or fmin=5.000. Spectrum estimate will be unreliable.\n",
      "  con = spectral_connectivity_epochs(\n",
      "/var/folders/rf/xrxwkkr96qq6kyy5jfx9hvgw0000gn/T/ipykernel_4900/398803393.py:3: RuntimeWarning: fmin=1.000 Hz corresponds to 1.000 < 5 cycles based on the epoch length 1.000 sec, need at least 5.000 sec epochs or fmin=5.000. Spectrum estimate will be unreliable.\n",
      "  con = spectral_connectivity_epochs(\n",
      "/var/folders/rf/xrxwkkr96qq6kyy5jfx9hvgw0000gn/T/ipykernel_4900/398803393.py:3: RuntimeWarning: fmin=4.000 Hz corresponds to 4.000 < 5 cycles based on the epoch length 1.000 sec, need at least 1.250 sec epochs or fmin=5.000. Spectrum estimate will be unreliable.\n",
      "  con = spectral_connectivity_epochs(\n",
      "/var/folders/rf/xrxwkkr96qq6kyy5jfx9hvgw0000gn/T/ipykernel_4900/398803393.py:3: RuntimeWarning: fmin=1.000 Hz corresponds to 1.000 < 5 cycles based on the epoch length 1.000 sec, need at least 5.000 sec epochs or fmin=5.000. Spectrum estimate will be unreliable.\n",
      "  con = spectral_connectivity_epochs(\n",
      "/var/folders/rf/xrxwkkr96qq6kyy5jfx9hvgw0000gn/T/ipykernel_4900/398803393.py:3: RuntimeWarning: fmin=4.000 Hz corresponds to 4.000 < 5 cycles based on the epoch length 1.000 sec, need at least 1.250 sec epochs or fmin=5.000. Spectrum estimate will be unreliable.\n",
      "  con = spectral_connectivity_epochs(\n"
     ]
    },
    {
     "name": "stdout",
     "output_type": "stream",
     "text": [
      "Done computing coh connectivity.\n"
     ]
    },
    {
     "name": "stderr",
     "output_type": "stream",
     "text": [
      "/var/folders/rf/xrxwkkr96qq6kyy5jfx9hvgw0000gn/T/ipykernel_4900/398803393.py:3: RuntimeWarning: fmin=1.000 Hz corresponds to 1.000 < 5 cycles based on the epoch length 1.000 sec, need at least 5.000 sec epochs or fmin=5.000. Spectrum estimate will be unreliable.\n",
      "  con = spectral_connectivity_epochs(\n",
      "/var/folders/rf/xrxwkkr96qq6kyy5jfx9hvgw0000gn/T/ipykernel_4900/398803393.py:3: RuntimeWarning: fmin=4.000 Hz corresponds to 4.000 < 5 cycles based on the epoch length 1.000 sec, need at least 1.250 sec epochs or fmin=5.000. Spectrum estimate will be unreliable.\n",
      "  con = spectral_connectivity_epochs(\n",
      "/var/folders/rf/xrxwkkr96qq6kyy5jfx9hvgw0000gn/T/ipykernel_4900/398803393.py:3: RuntimeWarning: fmin=1.000 Hz corresponds to 1.000 < 5 cycles based on the epoch length 1.000 sec, need at least 5.000 sec epochs or fmin=5.000. Spectrum estimate will be unreliable.\n",
      "  con = spectral_connectivity_epochs(\n",
      "/var/folders/rf/xrxwkkr96qq6kyy5jfx9hvgw0000gn/T/ipykernel_4900/398803393.py:3: RuntimeWarning: fmin=4.000 Hz corresponds to 4.000 < 5 cycles based on the epoch length 1.000 sec, need at least 1.250 sec epochs or fmin=5.000. Spectrum estimate will be unreliable.\n",
      "  con = spectral_connectivity_epochs(\n",
      "/var/folders/rf/xrxwkkr96qq6kyy5jfx9hvgw0000gn/T/ipykernel_4900/398803393.py:3: RuntimeWarning: fmin=1.000 Hz corresponds to 1.000 < 5 cycles based on the epoch length 1.000 sec, need at least 5.000 sec epochs or fmin=5.000. Spectrum estimate will be unreliable.\n",
      "  con = spectral_connectivity_epochs(\n",
      "/var/folders/rf/xrxwkkr96qq6kyy5jfx9hvgw0000gn/T/ipykernel_4900/398803393.py:3: RuntimeWarning: fmin=4.000 Hz corresponds to 4.000 < 5 cycles based on the epoch length 1.000 sec, need at least 1.250 sec epochs or fmin=5.000. Spectrum estimate will be unreliable.\n",
      "  con = spectral_connectivity_epochs(\n",
      "/var/folders/rf/xrxwkkr96qq6kyy5jfx9hvgw0000gn/T/ipykernel_4900/398803393.py:3: RuntimeWarning: fmin=1.000 Hz corresponds to 1.000 < 5 cycles based on the epoch length 1.000 sec, need at least 5.000 sec epochs or fmin=5.000. Spectrum estimate will be unreliable.\n",
      "  con = spectral_connectivity_epochs(\n",
      "/var/folders/rf/xrxwkkr96qq6kyy5jfx9hvgw0000gn/T/ipykernel_4900/398803393.py:3: RuntimeWarning: fmin=4.000 Hz corresponds to 4.000 < 5 cycles based on the epoch length 1.000 sec, need at least 1.250 sec epochs or fmin=5.000. Spectrum estimate will be unreliable.\n",
      "  con = spectral_connectivity_epochs(\n",
      "/var/folders/rf/xrxwkkr96qq6kyy5jfx9hvgw0000gn/T/ipykernel_4900/398803393.py:3: RuntimeWarning: fmin=1.000 Hz corresponds to 1.000 < 5 cycles based on the epoch length 1.000 sec, need at least 5.000 sec epochs or fmin=5.000. Spectrum estimate will be unreliable.\n",
      "  con = spectral_connectivity_epochs(\n",
      "/var/folders/rf/xrxwkkr96qq6kyy5jfx9hvgw0000gn/T/ipykernel_4900/398803393.py:3: RuntimeWarning: fmin=4.000 Hz corresponds to 4.000 < 5 cycles based on the epoch length 1.000 sec, need at least 1.250 sec epochs or fmin=5.000. Spectrum estimate will be unreliable.\n",
      "  con = spectral_connectivity_epochs(\n",
      "/var/folders/rf/xrxwkkr96qq6kyy5jfx9hvgw0000gn/T/ipykernel_4900/398803393.py:3: RuntimeWarning: fmin=1.000 Hz corresponds to 1.000 < 5 cycles based on the epoch length 1.000 sec, need at least 5.000 sec epochs or fmin=5.000. Spectrum estimate will be unreliable.\n",
      "  con = spectral_connectivity_epochs(\n",
      "/var/folders/rf/xrxwkkr96qq6kyy5jfx9hvgw0000gn/T/ipykernel_4900/398803393.py:3: RuntimeWarning: fmin=4.000 Hz corresponds to 4.000 < 5 cycles based on the epoch length 1.000 sec, need at least 1.250 sec epochs or fmin=5.000. Spectrum estimate will be unreliable.\n",
      "  con = spectral_connectivity_epochs(\n",
      "/var/folders/rf/xrxwkkr96qq6kyy5jfx9hvgw0000gn/T/ipykernel_4900/398803393.py:3: RuntimeWarning: fmin=1.000 Hz corresponds to 1.000 < 5 cycles based on the epoch length 1.000 sec, need at least 5.000 sec epochs or fmin=5.000. Spectrum estimate will be unreliable.\n",
      "  con = spectral_connectivity_epochs(\n",
      "/var/folders/rf/xrxwkkr96qq6kyy5jfx9hvgw0000gn/T/ipykernel_4900/398803393.py:3: RuntimeWarning: fmin=4.000 Hz corresponds to 4.000 < 5 cycles based on the epoch length 1.000 sec, need at least 1.250 sec epochs or fmin=5.000. Spectrum estimate will be unreliable.\n",
      "  con = spectral_connectivity_epochs(\n",
      "/var/folders/rf/xrxwkkr96qq6kyy5jfx9hvgw0000gn/T/ipykernel_4900/398803393.py:3: RuntimeWarning: fmin=1.000 Hz corresponds to 1.000 < 5 cycles based on the epoch length 1.000 sec, need at least 5.000 sec epochs or fmin=5.000. Spectrum estimate will be unreliable.\n",
      "  con = spectral_connectivity_epochs(\n",
      "/var/folders/rf/xrxwkkr96qq6kyy5jfx9hvgw0000gn/T/ipykernel_4900/398803393.py:3: RuntimeWarning: fmin=4.000 Hz corresponds to 4.000 < 5 cycles based on the epoch length 1.000 sec, need at least 1.250 sec epochs or fmin=5.000. Spectrum estimate will be unreliable.\n",
      "  con = spectral_connectivity_epochs(\n",
      "/var/folders/rf/xrxwkkr96qq6kyy5jfx9hvgw0000gn/T/ipykernel_4900/398803393.py:3: RuntimeWarning: fmin=1.000 Hz corresponds to 1.000 < 5 cycles based on the epoch length 1.000 sec, need at least 5.000 sec epochs or fmin=5.000. Spectrum estimate will be unreliable.\n",
      "  con = spectral_connectivity_epochs(\n",
      "/var/folders/rf/xrxwkkr96qq6kyy5jfx9hvgw0000gn/T/ipykernel_4900/398803393.py:3: RuntimeWarning: fmin=4.000 Hz corresponds to 4.000 < 5 cycles based on the epoch length 1.000 sec, need at least 1.250 sec epochs or fmin=5.000. Spectrum estimate will be unreliable.\n",
      "  con = spectral_connectivity_epochs(\n",
      "/var/folders/rf/xrxwkkr96qq6kyy5jfx9hvgw0000gn/T/ipykernel_4900/398803393.py:3: RuntimeWarning: fmin=1.000 Hz corresponds to 1.000 < 5 cycles based on the epoch length 1.000 sec, need at least 5.000 sec epochs or fmin=5.000. Spectrum estimate will be unreliable.\n",
      "  con = spectral_connectivity_epochs(\n",
      "/var/folders/rf/xrxwkkr96qq6kyy5jfx9hvgw0000gn/T/ipykernel_4900/398803393.py:3: RuntimeWarning: fmin=4.000 Hz corresponds to 4.000 < 5 cycles based on the epoch length 1.000 sec, need at least 1.250 sec epochs or fmin=5.000. Spectrum estimate will be unreliable.\n",
      "  con = spectral_connectivity_epochs(\n",
      "/var/folders/rf/xrxwkkr96qq6kyy5jfx9hvgw0000gn/T/ipykernel_4900/398803393.py:3: RuntimeWarning: fmin=1.000 Hz corresponds to 1.000 < 5 cycles based on the epoch length 1.000 sec, need at least 5.000 sec epochs or fmin=5.000. Spectrum estimate will be unreliable.\n",
      "  con = spectral_connectivity_epochs(\n",
      "/var/folders/rf/xrxwkkr96qq6kyy5jfx9hvgw0000gn/T/ipykernel_4900/398803393.py:3: RuntimeWarning: fmin=4.000 Hz corresponds to 4.000 < 5 cycles based on the epoch length 1.000 sec, need at least 1.250 sec epochs or fmin=5.000. Spectrum estimate will be unreliable.\n",
      "  con = spectral_connectivity_epochs(\n",
      "/var/folders/rf/xrxwkkr96qq6kyy5jfx9hvgw0000gn/T/ipykernel_4900/398803393.py:3: RuntimeWarning: fmin=1.000 Hz corresponds to 1.000 < 5 cycles based on the epoch length 1.000 sec, need at least 5.000 sec epochs or fmin=5.000. Spectrum estimate will be unreliable.\n",
      "  con = spectral_connectivity_epochs(\n",
      "/var/folders/rf/xrxwkkr96qq6kyy5jfx9hvgw0000gn/T/ipykernel_4900/398803393.py:3: RuntimeWarning: fmin=4.000 Hz corresponds to 4.000 < 5 cycles based on the epoch length 1.000 sec, need at least 1.250 sec epochs or fmin=5.000. Spectrum estimate will be unreliable.\n",
      "  con = spectral_connectivity_epochs(\n",
      "/var/folders/rf/xrxwkkr96qq6kyy5jfx9hvgw0000gn/T/ipykernel_4900/398803393.py:3: RuntimeWarning: fmin=1.000 Hz corresponds to 1.000 < 5 cycles based on the epoch length 1.000 sec, need at least 5.000 sec epochs or fmin=5.000. Spectrum estimate will be unreliable.\n",
      "  con = spectral_connectivity_epochs(\n",
      "/var/folders/rf/xrxwkkr96qq6kyy5jfx9hvgw0000gn/T/ipykernel_4900/398803393.py:3: RuntimeWarning: fmin=4.000 Hz corresponds to 4.000 < 5 cycles based on the epoch length 1.000 sec, need at least 1.250 sec epochs or fmin=5.000. Spectrum estimate will be unreliable.\n",
      "  con = spectral_connectivity_epochs(\n",
      "/var/folders/rf/xrxwkkr96qq6kyy5jfx9hvgw0000gn/T/ipykernel_4900/398803393.py:3: RuntimeWarning: fmin=1.000 Hz corresponds to 1.000 < 5 cycles based on the epoch length 1.000 sec, need at least 5.000 sec epochs or fmin=5.000. Spectrum estimate will be unreliable.\n",
      "  con = spectral_connectivity_epochs(\n",
      "/var/folders/rf/xrxwkkr96qq6kyy5jfx9hvgw0000gn/T/ipykernel_4900/398803393.py:3: RuntimeWarning: fmin=4.000 Hz corresponds to 4.000 < 5 cycles based on the epoch length 1.000 sec, need at least 1.250 sec epochs or fmin=5.000. Spectrum estimate will be unreliable.\n",
      "  con = spectral_connectivity_epochs(\n",
      "/var/folders/rf/xrxwkkr96qq6kyy5jfx9hvgw0000gn/T/ipykernel_4900/398803393.py:3: RuntimeWarning: fmin=1.000 Hz corresponds to 1.000 < 5 cycles based on the epoch length 1.000 sec, need at least 5.000 sec epochs or fmin=5.000. Spectrum estimate will be unreliable.\n",
      "  con = spectral_connectivity_epochs(\n",
      "/var/folders/rf/xrxwkkr96qq6kyy5jfx9hvgw0000gn/T/ipykernel_4900/398803393.py:3: RuntimeWarning: fmin=4.000 Hz corresponds to 4.000 < 5 cycles based on the epoch length 1.000 sec, need at least 1.250 sec epochs or fmin=5.000. Spectrum estimate will be unreliable.\n",
      "  con = spectral_connectivity_epochs(\n",
      "/var/folders/rf/xrxwkkr96qq6kyy5jfx9hvgw0000gn/T/ipykernel_4900/398803393.py:3: RuntimeWarning: fmin=1.000 Hz corresponds to 1.000 < 5 cycles based on the epoch length 1.000 sec, need at least 5.000 sec epochs or fmin=5.000. Spectrum estimate will be unreliable.\n",
      "  con = spectral_connectivity_epochs(\n",
      "/var/folders/rf/xrxwkkr96qq6kyy5jfx9hvgw0000gn/T/ipykernel_4900/398803393.py:3: RuntimeWarning: fmin=4.000 Hz corresponds to 4.000 < 5 cycles based on the epoch length 1.000 sec, need at least 1.250 sec epochs or fmin=5.000. Spectrum estimate will be unreliable.\n",
      "  con = spectral_connectivity_epochs(\n",
      "/var/folders/rf/xrxwkkr96qq6kyy5jfx9hvgw0000gn/T/ipykernel_4900/398803393.py:3: RuntimeWarning: fmin=1.000 Hz corresponds to 1.000 < 5 cycles based on the epoch length 1.000 sec, need at least 5.000 sec epochs or fmin=5.000. Spectrum estimate will be unreliable.\n",
      "  con = spectral_connectivity_epochs(\n",
      "/var/folders/rf/xrxwkkr96qq6kyy5jfx9hvgw0000gn/T/ipykernel_4900/398803393.py:3: RuntimeWarning: fmin=4.000 Hz corresponds to 4.000 < 5 cycles based on the epoch length 1.000 sec, need at least 1.250 sec epochs or fmin=5.000. Spectrum estimate will be unreliable.\n",
      "  con = spectral_connectivity_epochs(\n"
     ]
    },
    {
     "name": "stdout",
     "output_type": "stream",
     "text": [
      "Done computing coh connectivity.\n"
     ]
    },
    {
     "data": {
      "text/plain": [
       "        con  node1  node2      band  subject_id genotype\n",
       "0  0.993289  OFC_R     CG  $\\delta$       80625  DRD2-KO\n",
       "1  0.988496  OFC_R  STR_R  $\\delta$       80625  DRD2-KO\n",
       "2  0.986628  OFC_R   S1_L  $\\delta$       80625  DRD2-KO\n",
       "3  0.988858  OFC_R   S1_R  $\\delta$       80625  DRD2-KO\n",
       "4  0.982739  OFC_R   V1_R  $\\delta$       80625  DRD2-KO"
      ],
      "text/html": [
       "<div>\n",
       "<style scoped>\n",
       "    .dataframe tbody tr th:only-of-type {\n",
       "        vertical-align: middle;\n",
       "    }\n",
       "\n",
       "    .dataframe tbody tr th {\n",
       "        vertical-align: top;\n",
       "    }\n",
       "\n",
       "    .dataframe thead th {\n",
       "        text-align: right;\n",
       "    }\n",
       "</style>\n",
       "<table border=\"1\" class=\"dataframe\">\n",
       "  <thead>\n",
       "    <tr style=\"text-align: right;\">\n",
       "      <th></th>\n",
       "      <th>con</th>\n",
       "      <th>node1</th>\n",
       "      <th>node2</th>\n",
       "      <th>band</th>\n",
       "      <th>subject_id</th>\n",
       "      <th>genotype</th>\n",
       "    </tr>\n",
       "  </thead>\n",
       "  <tbody>\n",
       "    <tr>\n",
       "      <th>0</th>\n",
       "      <td>0.993289</td>\n",
       "      <td>OFC_R</td>\n",
       "      <td>CG</td>\n",
       "      <td>$\\delta$</td>\n",
       "      <td>80625</td>\n",
       "      <td>DRD2-KO</td>\n",
       "    </tr>\n",
       "    <tr>\n",
       "      <th>1</th>\n",
       "      <td>0.988496</td>\n",
       "      <td>OFC_R</td>\n",
       "      <td>STR_R</td>\n",
       "      <td>$\\delta$</td>\n",
       "      <td>80625</td>\n",
       "      <td>DRD2-KO</td>\n",
       "    </tr>\n",
       "    <tr>\n",
       "      <th>2</th>\n",
       "      <td>0.986628</td>\n",
       "      <td>OFC_R</td>\n",
       "      <td>S1_L</td>\n",
       "      <td>$\\delta$</td>\n",
       "      <td>80625</td>\n",
       "      <td>DRD2-KO</td>\n",
       "    </tr>\n",
       "    <tr>\n",
       "      <th>3</th>\n",
       "      <td>0.988858</td>\n",
       "      <td>OFC_R</td>\n",
       "      <td>S1_R</td>\n",
       "      <td>$\\delta$</td>\n",
       "      <td>80625</td>\n",
       "      <td>DRD2-KO</td>\n",
       "    </tr>\n",
       "    <tr>\n",
       "      <th>4</th>\n",
       "      <td>0.982739</td>\n",
       "      <td>OFC_R</td>\n",
       "      <td>V1_R</td>\n",
       "      <td>$\\delta$</td>\n",
       "      <td>80625</td>\n",
       "      <td>DRD2-KO</td>\n",
       "    </tr>\n",
       "  </tbody>\n",
       "</table>\n",
       "</div>"
      ]
     },
     "execution_count": 16,
     "metadata": {},
     "output_type": "execute_result"
    }
   ],
   "execution_count": 16
  },
  {
   "metadata": {
    "ExecuteTime": {
     "end_time": "2024-05-06T13:47:57.113064Z",
     "start_time": "2024-05-06T13:47:26.628926Z"
    }
   },
   "cell_type": "code",
   "source": [
    "generate_grid_plot_wt_vs_ko(coh_social, 'social_cup', 'coh')\n",
    "generate_grid_plot_wt_vs_ko(coh_non_social, 'non-social_cup', 'coh')"
   ],
   "id": "fcc3cc85d457eb64",
   "outputs": [],
   "execution_count": 17
  },
  {
   "metadata": {
    "ExecuteTime": {
     "end_time": "2024-05-06T13:48:15.302983Z",
     "start_time": "2024-05-06T13:47:57.116518Z"
    }
   },
   "cell_type": "code",
   "source": [
    "generate_barplots(coh_social, 'social_cup', 'coh')\n",
    "generate_barplots(coh_non_social, 'non-social_cup', 'coh')"
   ],
   "id": "4197b8288444fe6c",
   "outputs": [],
   "execution_count": 18
  },
  {
   "metadata": {},
   "cell_type": "markdown",
   "source": "### Imaginary coherence (imcoh)",
   "id": "5d29791c5180d347"
  },
  {
   "metadata": {
    "ExecuteTime": {
     "end_time": "2024-05-06T13:48:26.759083Z",
     "start_time": "2024-05-06T13:48:15.305317Z"
    }
   },
   "cell_type": "code",
   "source": [
    "imcoh_social = connectivity_df(all_subject_epochs, 'social_cup', \"imcoh\")\n",
    "imcoh_non_social = connectivity_df(all_subject_epochs, 'non-social_cup', \"imcoh\")\n",
    "imcoh_social.head()"
   ],
   "id": "af53b4455cb117cb",
   "outputs": [
    {
     "name": "stderr",
     "output_type": "stream",
     "text": [
      "/var/folders/rf/xrxwkkr96qq6kyy5jfx9hvgw0000gn/T/ipykernel_4900/398803393.py:3: RuntimeWarning: fmin=1.000 Hz corresponds to 1.000 < 5 cycles based on the epoch length 1.000 sec, need at least 5.000 sec epochs or fmin=5.000. Spectrum estimate will be unreliable.\n",
      "  con = spectral_connectivity_epochs(\n",
      "/var/folders/rf/xrxwkkr96qq6kyy5jfx9hvgw0000gn/T/ipykernel_4900/398803393.py:3: RuntimeWarning: fmin=4.000 Hz corresponds to 4.000 < 5 cycles based on the epoch length 1.000 sec, need at least 1.250 sec epochs or fmin=5.000. Spectrum estimate will be unreliable.\n",
      "  con = spectral_connectivity_epochs(\n",
      "/var/folders/rf/xrxwkkr96qq6kyy5jfx9hvgw0000gn/T/ipykernel_4900/398803393.py:3: RuntimeWarning: fmin=1.000 Hz corresponds to 1.000 < 5 cycles based on the epoch length 1.000 sec, need at least 5.000 sec epochs or fmin=5.000. Spectrum estimate will be unreliable.\n",
      "  con = spectral_connectivity_epochs(\n",
      "/var/folders/rf/xrxwkkr96qq6kyy5jfx9hvgw0000gn/T/ipykernel_4900/398803393.py:3: RuntimeWarning: fmin=4.000 Hz corresponds to 4.000 < 5 cycles based on the epoch length 1.000 sec, need at least 1.250 sec epochs or fmin=5.000. Spectrum estimate will be unreliable.\n",
      "  con = spectral_connectivity_epochs(\n",
      "/var/folders/rf/xrxwkkr96qq6kyy5jfx9hvgw0000gn/T/ipykernel_4900/398803393.py:3: RuntimeWarning: fmin=1.000 Hz corresponds to 1.000 < 5 cycles based on the epoch length 1.000 sec, need at least 5.000 sec epochs or fmin=5.000. Spectrum estimate will be unreliable.\n",
      "  con = spectral_connectivity_epochs(\n",
      "/var/folders/rf/xrxwkkr96qq6kyy5jfx9hvgw0000gn/T/ipykernel_4900/398803393.py:3: RuntimeWarning: fmin=4.000 Hz corresponds to 4.000 < 5 cycles based on the epoch length 1.000 sec, need at least 1.250 sec epochs or fmin=5.000. Spectrum estimate will be unreliable.\n",
      "  con = spectral_connectivity_epochs(\n",
      "/var/folders/rf/xrxwkkr96qq6kyy5jfx9hvgw0000gn/T/ipykernel_4900/398803393.py:3: RuntimeWarning: fmin=1.000 Hz corresponds to 1.000 < 5 cycles based on the epoch length 1.000 sec, need at least 5.000 sec epochs or fmin=5.000. Spectrum estimate will be unreliable.\n",
      "  con = spectral_connectivity_epochs(\n",
      "/var/folders/rf/xrxwkkr96qq6kyy5jfx9hvgw0000gn/T/ipykernel_4900/398803393.py:3: RuntimeWarning: fmin=4.000 Hz corresponds to 4.000 < 5 cycles based on the epoch length 1.000 sec, need at least 1.250 sec epochs or fmin=5.000. Spectrum estimate will be unreliable.\n",
      "  con = spectral_connectivity_epochs(\n",
      "/var/folders/rf/xrxwkkr96qq6kyy5jfx9hvgw0000gn/T/ipykernel_4900/398803393.py:3: RuntimeWarning: fmin=1.000 Hz corresponds to 1.000 < 5 cycles based on the epoch length 1.000 sec, need at least 5.000 sec epochs or fmin=5.000. Spectrum estimate will be unreliable.\n",
      "  con = spectral_connectivity_epochs(\n",
      "/var/folders/rf/xrxwkkr96qq6kyy5jfx9hvgw0000gn/T/ipykernel_4900/398803393.py:3: RuntimeWarning: fmin=4.000 Hz corresponds to 4.000 < 5 cycles based on the epoch length 1.000 sec, need at least 1.250 sec epochs or fmin=5.000. Spectrum estimate will be unreliable.\n",
      "  con = spectral_connectivity_epochs(\n",
      "/var/folders/rf/xrxwkkr96qq6kyy5jfx9hvgw0000gn/T/ipykernel_4900/398803393.py:3: RuntimeWarning: fmin=1.000 Hz corresponds to 1.000 < 5 cycles based on the epoch length 1.000 sec, need at least 5.000 sec epochs or fmin=5.000. Spectrum estimate will be unreliable.\n",
      "  con = spectral_connectivity_epochs(\n",
      "/var/folders/rf/xrxwkkr96qq6kyy5jfx9hvgw0000gn/T/ipykernel_4900/398803393.py:3: RuntimeWarning: fmin=4.000 Hz corresponds to 4.000 < 5 cycles based on the epoch length 1.000 sec, need at least 1.250 sec epochs or fmin=5.000. Spectrum estimate will be unreliable.\n",
      "  con = spectral_connectivity_epochs(\n",
      "/var/folders/rf/xrxwkkr96qq6kyy5jfx9hvgw0000gn/T/ipykernel_4900/398803393.py:3: RuntimeWarning: fmin=1.000 Hz corresponds to 1.000 < 5 cycles based on the epoch length 1.000 sec, need at least 5.000 sec epochs or fmin=5.000. Spectrum estimate will be unreliable.\n",
      "  con = spectral_connectivity_epochs(\n",
      "/var/folders/rf/xrxwkkr96qq6kyy5jfx9hvgw0000gn/T/ipykernel_4900/398803393.py:3: RuntimeWarning: fmin=4.000 Hz corresponds to 4.000 < 5 cycles based on the epoch length 1.000 sec, need at least 1.250 sec epochs or fmin=5.000. Spectrum estimate will be unreliable.\n",
      "  con = spectral_connectivity_epochs(\n",
      "/var/folders/rf/xrxwkkr96qq6kyy5jfx9hvgw0000gn/T/ipykernel_4900/398803393.py:3: RuntimeWarning: fmin=1.000 Hz corresponds to 1.000 < 5 cycles based on the epoch length 1.000 sec, need at least 5.000 sec epochs or fmin=5.000. Spectrum estimate will be unreliable.\n",
      "  con = spectral_connectivity_epochs(\n",
      "/var/folders/rf/xrxwkkr96qq6kyy5jfx9hvgw0000gn/T/ipykernel_4900/398803393.py:3: RuntimeWarning: fmin=4.000 Hz corresponds to 4.000 < 5 cycles based on the epoch length 1.000 sec, need at least 1.250 sec epochs or fmin=5.000. Spectrum estimate will be unreliable.\n",
      "  con = spectral_connectivity_epochs(\n",
      "/var/folders/rf/xrxwkkr96qq6kyy5jfx9hvgw0000gn/T/ipykernel_4900/398803393.py:3: RuntimeWarning: fmin=1.000 Hz corresponds to 1.000 < 5 cycles based on the epoch length 1.000 sec, need at least 5.000 sec epochs or fmin=5.000. Spectrum estimate will be unreliable.\n",
      "  con = spectral_connectivity_epochs(\n",
      "/var/folders/rf/xrxwkkr96qq6kyy5jfx9hvgw0000gn/T/ipykernel_4900/398803393.py:3: RuntimeWarning: fmin=4.000 Hz corresponds to 4.000 < 5 cycles based on the epoch length 1.000 sec, need at least 1.250 sec epochs or fmin=5.000. Spectrum estimate will be unreliable.\n",
      "  con = spectral_connectivity_epochs(\n",
      "/var/folders/rf/xrxwkkr96qq6kyy5jfx9hvgw0000gn/T/ipykernel_4900/398803393.py:3: RuntimeWarning: fmin=1.000 Hz corresponds to 1.000 < 5 cycles based on the epoch length 1.000 sec, need at least 5.000 sec epochs or fmin=5.000. Spectrum estimate will be unreliable.\n",
      "  con = spectral_connectivity_epochs(\n",
      "/var/folders/rf/xrxwkkr96qq6kyy5jfx9hvgw0000gn/T/ipykernel_4900/398803393.py:3: RuntimeWarning: fmin=4.000 Hz corresponds to 4.000 < 5 cycles based on the epoch length 1.000 sec, need at least 1.250 sec epochs or fmin=5.000. Spectrum estimate will be unreliable.\n",
      "  con = spectral_connectivity_epochs(\n",
      "/var/folders/rf/xrxwkkr96qq6kyy5jfx9hvgw0000gn/T/ipykernel_4900/398803393.py:3: RuntimeWarning: fmin=1.000 Hz corresponds to 1.000 < 5 cycles based on the epoch length 1.000 sec, need at least 5.000 sec epochs or fmin=5.000. Spectrum estimate will be unreliable.\n",
      "  con = spectral_connectivity_epochs(\n",
      "/var/folders/rf/xrxwkkr96qq6kyy5jfx9hvgw0000gn/T/ipykernel_4900/398803393.py:3: RuntimeWarning: fmin=4.000 Hz corresponds to 4.000 < 5 cycles based on the epoch length 1.000 sec, need at least 1.250 sec epochs or fmin=5.000. Spectrum estimate will be unreliable.\n",
      "  con = spectral_connectivity_epochs(\n",
      "/var/folders/rf/xrxwkkr96qq6kyy5jfx9hvgw0000gn/T/ipykernel_4900/398803393.py:3: RuntimeWarning: fmin=1.000 Hz corresponds to 1.000 < 5 cycles based on the epoch length 1.000 sec, need at least 5.000 sec epochs or fmin=5.000. Spectrum estimate will be unreliable.\n",
      "  con = spectral_connectivity_epochs(\n",
      "/var/folders/rf/xrxwkkr96qq6kyy5jfx9hvgw0000gn/T/ipykernel_4900/398803393.py:3: RuntimeWarning: fmin=4.000 Hz corresponds to 4.000 < 5 cycles based on the epoch length 1.000 sec, need at least 1.250 sec epochs or fmin=5.000. Spectrum estimate will be unreliable.\n",
      "  con = spectral_connectivity_epochs(\n",
      "/var/folders/rf/xrxwkkr96qq6kyy5jfx9hvgw0000gn/T/ipykernel_4900/398803393.py:3: RuntimeWarning: fmin=1.000 Hz corresponds to 1.000 < 5 cycles based on the epoch length 1.000 sec, need at least 5.000 sec epochs or fmin=5.000. Spectrum estimate will be unreliable.\n",
      "  con = spectral_connectivity_epochs(\n",
      "/var/folders/rf/xrxwkkr96qq6kyy5jfx9hvgw0000gn/T/ipykernel_4900/398803393.py:3: RuntimeWarning: fmin=4.000 Hz corresponds to 4.000 < 5 cycles based on the epoch length 1.000 sec, need at least 1.250 sec epochs or fmin=5.000. Spectrum estimate will be unreliable.\n",
      "  con = spectral_connectivity_epochs(\n",
      "/var/folders/rf/xrxwkkr96qq6kyy5jfx9hvgw0000gn/T/ipykernel_4900/398803393.py:3: RuntimeWarning: fmin=1.000 Hz corresponds to 1.000 < 5 cycles based on the epoch length 1.000 sec, need at least 5.000 sec epochs or fmin=5.000. Spectrum estimate will be unreliable.\n",
      "  con = spectral_connectivity_epochs(\n",
      "/var/folders/rf/xrxwkkr96qq6kyy5jfx9hvgw0000gn/T/ipykernel_4900/398803393.py:3: RuntimeWarning: fmin=4.000 Hz corresponds to 4.000 < 5 cycles based on the epoch length 1.000 sec, need at least 1.250 sec epochs or fmin=5.000. Spectrum estimate will be unreliable.\n",
      "  con = spectral_connectivity_epochs(\n",
      "/var/folders/rf/xrxwkkr96qq6kyy5jfx9hvgw0000gn/T/ipykernel_4900/398803393.py:3: RuntimeWarning: fmin=1.000 Hz corresponds to 1.000 < 5 cycles based on the epoch length 1.000 sec, need at least 5.000 sec epochs or fmin=5.000. Spectrum estimate will be unreliable.\n",
      "  con = spectral_connectivity_epochs(\n",
      "/var/folders/rf/xrxwkkr96qq6kyy5jfx9hvgw0000gn/T/ipykernel_4900/398803393.py:3: RuntimeWarning: fmin=4.000 Hz corresponds to 4.000 < 5 cycles based on the epoch length 1.000 sec, need at least 1.250 sec epochs or fmin=5.000. Spectrum estimate will be unreliable.\n",
      "  con = spectral_connectivity_epochs(\n",
      "/var/folders/rf/xrxwkkr96qq6kyy5jfx9hvgw0000gn/T/ipykernel_4900/398803393.py:3: RuntimeWarning: fmin=1.000 Hz corresponds to 1.000 < 5 cycles based on the epoch length 1.000 sec, need at least 5.000 sec epochs or fmin=5.000. Spectrum estimate will be unreliable.\n",
      "  con = spectral_connectivity_epochs(\n",
      "/var/folders/rf/xrxwkkr96qq6kyy5jfx9hvgw0000gn/T/ipykernel_4900/398803393.py:3: RuntimeWarning: fmin=4.000 Hz corresponds to 4.000 < 5 cycles based on the epoch length 1.000 sec, need at least 1.250 sec epochs or fmin=5.000. Spectrum estimate will be unreliable.\n",
      "  con = spectral_connectivity_epochs(\n",
      "/var/folders/rf/xrxwkkr96qq6kyy5jfx9hvgw0000gn/T/ipykernel_4900/398803393.py:3: RuntimeWarning: fmin=1.000 Hz corresponds to 1.000 < 5 cycles based on the epoch length 1.000 sec, need at least 5.000 sec epochs or fmin=5.000. Spectrum estimate will be unreliable.\n",
      "  con = spectral_connectivity_epochs(\n",
      "/var/folders/rf/xrxwkkr96qq6kyy5jfx9hvgw0000gn/T/ipykernel_4900/398803393.py:3: RuntimeWarning: fmin=4.000 Hz corresponds to 4.000 < 5 cycles based on the epoch length 1.000 sec, need at least 1.250 sec epochs or fmin=5.000. Spectrum estimate will be unreliable.\n",
      "  con = spectral_connectivity_epochs(\n"
     ]
    },
    {
     "name": "stdout",
     "output_type": "stream",
     "text": [
      "Done computing imcoh connectivity.\n"
     ]
    },
    {
     "name": "stderr",
     "output_type": "stream",
     "text": [
      "/var/folders/rf/xrxwkkr96qq6kyy5jfx9hvgw0000gn/T/ipykernel_4900/398803393.py:3: RuntimeWarning: fmin=1.000 Hz corresponds to 1.000 < 5 cycles based on the epoch length 1.000 sec, need at least 5.000 sec epochs or fmin=5.000. Spectrum estimate will be unreliable.\n",
      "  con = spectral_connectivity_epochs(\n",
      "/var/folders/rf/xrxwkkr96qq6kyy5jfx9hvgw0000gn/T/ipykernel_4900/398803393.py:3: RuntimeWarning: fmin=4.000 Hz corresponds to 4.000 < 5 cycles based on the epoch length 1.000 sec, need at least 1.250 sec epochs or fmin=5.000. Spectrum estimate will be unreliable.\n",
      "  con = spectral_connectivity_epochs(\n",
      "/var/folders/rf/xrxwkkr96qq6kyy5jfx9hvgw0000gn/T/ipykernel_4900/398803393.py:3: RuntimeWarning: fmin=1.000 Hz corresponds to 1.000 < 5 cycles based on the epoch length 1.000 sec, need at least 5.000 sec epochs or fmin=5.000. Spectrum estimate will be unreliable.\n",
      "  con = spectral_connectivity_epochs(\n",
      "/var/folders/rf/xrxwkkr96qq6kyy5jfx9hvgw0000gn/T/ipykernel_4900/398803393.py:3: RuntimeWarning: fmin=4.000 Hz corresponds to 4.000 < 5 cycles based on the epoch length 1.000 sec, need at least 1.250 sec epochs or fmin=5.000. Spectrum estimate will be unreliable.\n",
      "  con = spectral_connectivity_epochs(\n",
      "/var/folders/rf/xrxwkkr96qq6kyy5jfx9hvgw0000gn/T/ipykernel_4900/398803393.py:3: RuntimeWarning: fmin=1.000 Hz corresponds to 1.000 < 5 cycles based on the epoch length 1.000 sec, need at least 5.000 sec epochs or fmin=5.000. Spectrum estimate will be unreliable.\n",
      "  con = spectral_connectivity_epochs(\n",
      "/var/folders/rf/xrxwkkr96qq6kyy5jfx9hvgw0000gn/T/ipykernel_4900/398803393.py:3: RuntimeWarning: fmin=4.000 Hz corresponds to 4.000 < 5 cycles based on the epoch length 1.000 sec, need at least 1.250 sec epochs or fmin=5.000. Spectrum estimate will be unreliable.\n",
      "  con = spectral_connectivity_epochs(\n",
      "/var/folders/rf/xrxwkkr96qq6kyy5jfx9hvgw0000gn/T/ipykernel_4900/398803393.py:3: RuntimeWarning: fmin=1.000 Hz corresponds to 1.000 < 5 cycles based on the epoch length 1.000 sec, need at least 5.000 sec epochs or fmin=5.000. Spectrum estimate will be unreliable.\n",
      "  con = spectral_connectivity_epochs(\n",
      "/var/folders/rf/xrxwkkr96qq6kyy5jfx9hvgw0000gn/T/ipykernel_4900/398803393.py:3: RuntimeWarning: fmin=4.000 Hz corresponds to 4.000 < 5 cycles based on the epoch length 1.000 sec, need at least 1.250 sec epochs or fmin=5.000. Spectrum estimate will be unreliable.\n",
      "  con = spectral_connectivity_epochs(\n",
      "/var/folders/rf/xrxwkkr96qq6kyy5jfx9hvgw0000gn/T/ipykernel_4900/398803393.py:3: RuntimeWarning: fmin=1.000 Hz corresponds to 1.000 < 5 cycles based on the epoch length 1.000 sec, need at least 5.000 sec epochs or fmin=5.000. Spectrum estimate will be unreliable.\n",
      "  con = spectral_connectivity_epochs(\n",
      "/var/folders/rf/xrxwkkr96qq6kyy5jfx9hvgw0000gn/T/ipykernel_4900/398803393.py:3: RuntimeWarning: fmin=4.000 Hz corresponds to 4.000 < 5 cycles based on the epoch length 1.000 sec, need at least 1.250 sec epochs or fmin=5.000. Spectrum estimate will be unreliable.\n",
      "  con = spectral_connectivity_epochs(\n",
      "/var/folders/rf/xrxwkkr96qq6kyy5jfx9hvgw0000gn/T/ipykernel_4900/398803393.py:3: RuntimeWarning: fmin=1.000 Hz corresponds to 1.000 < 5 cycles based on the epoch length 1.000 sec, need at least 5.000 sec epochs or fmin=5.000. Spectrum estimate will be unreliable.\n",
      "  con = spectral_connectivity_epochs(\n",
      "/var/folders/rf/xrxwkkr96qq6kyy5jfx9hvgw0000gn/T/ipykernel_4900/398803393.py:3: RuntimeWarning: fmin=4.000 Hz corresponds to 4.000 < 5 cycles based on the epoch length 1.000 sec, need at least 1.250 sec epochs or fmin=5.000. Spectrum estimate will be unreliable.\n",
      "  con = spectral_connectivity_epochs(\n",
      "/var/folders/rf/xrxwkkr96qq6kyy5jfx9hvgw0000gn/T/ipykernel_4900/398803393.py:3: RuntimeWarning: fmin=1.000 Hz corresponds to 1.000 < 5 cycles based on the epoch length 1.000 sec, need at least 5.000 sec epochs or fmin=5.000. Spectrum estimate will be unreliable.\n",
      "  con = spectral_connectivity_epochs(\n",
      "/var/folders/rf/xrxwkkr96qq6kyy5jfx9hvgw0000gn/T/ipykernel_4900/398803393.py:3: RuntimeWarning: fmin=4.000 Hz corresponds to 4.000 < 5 cycles based on the epoch length 1.000 sec, need at least 1.250 sec epochs or fmin=5.000. Spectrum estimate will be unreliable.\n",
      "  con = spectral_connectivity_epochs(\n",
      "/var/folders/rf/xrxwkkr96qq6kyy5jfx9hvgw0000gn/T/ipykernel_4900/398803393.py:3: RuntimeWarning: fmin=1.000 Hz corresponds to 1.000 < 5 cycles based on the epoch length 1.000 sec, need at least 5.000 sec epochs or fmin=5.000. Spectrum estimate will be unreliable.\n",
      "  con = spectral_connectivity_epochs(\n",
      "/var/folders/rf/xrxwkkr96qq6kyy5jfx9hvgw0000gn/T/ipykernel_4900/398803393.py:3: RuntimeWarning: fmin=4.000 Hz corresponds to 4.000 < 5 cycles based on the epoch length 1.000 sec, need at least 1.250 sec epochs or fmin=5.000. Spectrum estimate will be unreliable.\n",
      "  con = spectral_connectivity_epochs(\n",
      "/var/folders/rf/xrxwkkr96qq6kyy5jfx9hvgw0000gn/T/ipykernel_4900/398803393.py:3: RuntimeWarning: fmin=1.000 Hz corresponds to 1.000 < 5 cycles based on the epoch length 1.000 sec, need at least 5.000 sec epochs or fmin=5.000. Spectrum estimate will be unreliable.\n",
      "  con = spectral_connectivity_epochs(\n",
      "/var/folders/rf/xrxwkkr96qq6kyy5jfx9hvgw0000gn/T/ipykernel_4900/398803393.py:3: RuntimeWarning: fmin=4.000 Hz corresponds to 4.000 < 5 cycles based on the epoch length 1.000 sec, need at least 1.250 sec epochs or fmin=5.000. Spectrum estimate will be unreliable.\n",
      "  con = spectral_connectivity_epochs(\n",
      "/var/folders/rf/xrxwkkr96qq6kyy5jfx9hvgw0000gn/T/ipykernel_4900/398803393.py:3: RuntimeWarning: fmin=1.000 Hz corresponds to 1.000 < 5 cycles based on the epoch length 1.000 sec, need at least 5.000 sec epochs or fmin=5.000. Spectrum estimate will be unreliable.\n",
      "  con = spectral_connectivity_epochs(\n",
      "/var/folders/rf/xrxwkkr96qq6kyy5jfx9hvgw0000gn/T/ipykernel_4900/398803393.py:3: RuntimeWarning: fmin=4.000 Hz corresponds to 4.000 < 5 cycles based on the epoch length 1.000 sec, need at least 1.250 sec epochs or fmin=5.000. Spectrum estimate will be unreliable.\n",
      "  con = spectral_connectivity_epochs(\n",
      "/var/folders/rf/xrxwkkr96qq6kyy5jfx9hvgw0000gn/T/ipykernel_4900/398803393.py:3: RuntimeWarning: fmin=1.000 Hz corresponds to 1.000 < 5 cycles based on the epoch length 1.000 sec, need at least 5.000 sec epochs or fmin=5.000. Spectrum estimate will be unreliable.\n",
      "  con = spectral_connectivity_epochs(\n",
      "/var/folders/rf/xrxwkkr96qq6kyy5jfx9hvgw0000gn/T/ipykernel_4900/398803393.py:3: RuntimeWarning: fmin=4.000 Hz corresponds to 4.000 < 5 cycles based on the epoch length 1.000 sec, need at least 1.250 sec epochs or fmin=5.000. Spectrum estimate will be unreliable.\n",
      "  con = spectral_connectivity_epochs(\n",
      "/var/folders/rf/xrxwkkr96qq6kyy5jfx9hvgw0000gn/T/ipykernel_4900/398803393.py:3: RuntimeWarning: fmin=1.000 Hz corresponds to 1.000 < 5 cycles based on the epoch length 1.000 sec, need at least 5.000 sec epochs or fmin=5.000. Spectrum estimate will be unreliable.\n",
      "  con = spectral_connectivity_epochs(\n",
      "/var/folders/rf/xrxwkkr96qq6kyy5jfx9hvgw0000gn/T/ipykernel_4900/398803393.py:3: RuntimeWarning: fmin=4.000 Hz corresponds to 4.000 < 5 cycles based on the epoch length 1.000 sec, need at least 1.250 sec epochs or fmin=5.000. Spectrum estimate will be unreliable.\n",
      "  con = spectral_connectivity_epochs(\n",
      "/var/folders/rf/xrxwkkr96qq6kyy5jfx9hvgw0000gn/T/ipykernel_4900/398803393.py:3: RuntimeWarning: fmin=1.000 Hz corresponds to 1.000 < 5 cycles based on the epoch length 1.000 sec, need at least 5.000 sec epochs or fmin=5.000. Spectrum estimate will be unreliable.\n",
      "  con = spectral_connectivity_epochs(\n",
      "/var/folders/rf/xrxwkkr96qq6kyy5jfx9hvgw0000gn/T/ipykernel_4900/398803393.py:3: RuntimeWarning: fmin=4.000 Hz corresponds to 4.000 < 5 cycles based on the epoch length 1.000 sec, need at least 1.250 sec epochs or fmin=5.000. Spectrum estimate will be unreliable.\n",
      "  con = spectral_connectivity_epochs(\n",
      "/var/folders/rf/xrxwkkr96qq6kyy5jfx9hvgw0000gn/T/ipykernel_4900/398803393.py:3: RuntimeWarning: fmin=1.000 Hz corresponds to 1.000 < 5 cycles based on the epoch length 1.000 sec, need at least 5.000 sec epochs or fmin=5.000. Spectrum estimate will be unreliable.\n",
      "  con = spectral_connectivity_epochs(\n",
      "/var/folders/rf/xrxwkkr96qq6kyy5jfx9hvgw0000gn/T/ipykernel_4900/398803393.py:3: RuntimeWarning: fmin=4.000 Hz corresponds to 4.000 < 5 cycles based on the epoch length 1.000 sec, need at least 1.250 sec epochs or fmin=5.000. Spectrum estimate will be unreliable.\n",
      "  con = spectral_connectivity_epochs(\n",
      "/var/folders/rf/xrxwkkr96qq6kyy5jfx9hvgw0000gn/T/ipykernel_4900/398803393.py:3: RuntimeWarning: fmin=1.000 Hz corresponds to 1.000 < 5 cycles based on the epoch length 1.000 sec, need at least 5.000 sec epochs or fmin=5.000. Spectrum estimate will be unreliable.\n",
      "  con = spectral_connectivity_epochs(\n",
      "/var/folders/rf/xrxwkkr96qq6kyy5jfx9hvgw0000gn/T/ipykernel_4900/398803393.py:3: RuntimeWarning: fmin=4.000 Hz corresponds to 4.000 < 5 cycles based on the epoch length 1.000 sec, need at least 1.250 sec epochs or fmin=5.000. Spectrum estimate will be unreliable.\n",
      "  con = spectral_connectivity_epochs(\n",
      "/var/folders/rf/xrxwkkr96qq6kyy5jfx9hvgw0000gn/T/ipykernel_4900/398803393.py:3: RuntimeWarning: fmin=1.000 Hz corresponds to 1.000 < 5 cycles based on the epoch length 1.000 sec, need at least 5.000 sec epochs or fmin=5.000. Spectrum estimate will be unreliable.\n",
      "  con = spectral_connectivity_epochs(\n",
      "/var/folders/rf/xrxwkkr96qq6kyy5jfx9hvgw0000gn/T/ipykernel_4900/398803393.py:3: RuntimeWarning: fmin=4.000 Hz corresponds to 4.000 < 5 cycles based on the epoch length 1.000 sec, need at least 1.250 sec epochs or fmin=5.000. Spectrum estimate will be unreliable.\n",
      "  con = spectral_connectivity_epochs(\n",
      "/var/folders/rf/xrxwkkr96qq6kyy5jfx9hvgw0000gn/T/ipykernel_4900/398803393.py:3: RuntimeWarning: fmin=1.000 Hz corresponds to 1.000 < 5 cycles based on the epoch length 1.000 sec, need at least 5.000 sec epochs or fmin=5.000. Spectrum estimate will be unreliable.\n",
      "  con = spectral_connectivity_epochs(\n",
      "/var/folders/rf/xrxwkkr96qq6kyy5jfx9hvgw0000gn/T/ipykernel_4900/398803393.py:3: RuntimeWarning: fmin=4.000 Hz corresponds to 4.000 < 5 cycles based on the epoch length 1.000 sec, need at least 1.250 sec epochs or fmin=5.000. Spectrum estimate will be unreliable.\n",
      "  con = spectral_connectivity_epochs(\n"
     ]
    },
    {
     "name": "stdout",
     "output_type": "stream",
     "text": [
      "Done computing imcoh connectivity.\n"
     ]
    },
    {
     "data": {
      "text/plain": [
       "        con  node1  node2      band  subject_id genotype\n",
       "0 -0.001678  OFC_R     CG  $\\delta$       80625  DRD2-KO\n",
       "1  0.011070  OFC_R  STR_R  $\\delta$       80625  DRD2-KO\n",
       "2  0.002995  OFC_R   S1_L  $\\delta$       80625  DRD2-KO\n",
       "3  0.007047  OFC_R   S1_R  $\\delta$       80625  DRD2-KO\n",
       "4 -0.004075  OFC_R   V1_R  $\\delta$       80625  DRD2-KO"
      ],
      "text/html": [
       "<div>\n",
       "<style scoped>\n",
       "    .dataframe tbody tr th:only-of-type {\n",
       "        vertical-align: middle;\n",
       "    }\n",
       "\n",
       "    .dataframe tbody tr th {\n",
       "        vertical-align: top;\n",
       "    }\n",
       "\n",
       "    .dataframe thead th {\n",
       "        text-align: right;\n",
       "    }\n",
       "</style>\n",
       "<table border=\"1\" class=\"dataframe\">\n",
       "  <thead>\n",
       "    <tr style=\"text-align: right;\">\n",
       "      <th></th>\n",
       "      <th>con</th>\n",
       "      <th>node1</th>\n",
       "      <th>node2</th>\n",
       "      <th>band</th>\n",
       "      <th>subject_id</th>\n",
       "      <th>genotype</th>\n",
       "    </tr>\n",
       "  </thead>\n",
       "  <tbody>\n",
       "    <tr>\n",
       "      <th>0</th>\n",
       "      <td>-0.001678</td>\n",
       "      <td>OFC_R</td>\n",
       "      <td>CG</td>\n",
       "      <td>$\\delta$</td>\n",
       "      <td>80625</td>\n",
       "      <td>DRD2-KO</td>\n",
       "    </tr>\n",
       "    <tr>\n",
       "      <th>1</th>\n",
       "      <td>0.011070</td>\n",
       "      <td>OFC_R</td>\n",
       "      <td>STR_R</td>\n",
       "      <td>$\\delta$</td>\n",
       "      <td>80625</td>\n",
       "      <td>DRD2-KO</td>\n",
       "    </tr>\n",
       "    <tr>\n",
       "      <th>2</th>\n",
       "      <td>0.002995</td>\n",
       "      <td>OFC_R</td>\n",
       "      <td>S1_L</td>\n",
       "      <td>$\\delta$</td>\n",
       "      <td>80625</td>\n",
       "      <td>DRD2-KO</td>\n",
       "    </tr>\n",
       "    <tr>\n",
       "      <th>3</th>\n",
       "      <td>0.007047</td>\n",
       "      <td>OFC_R</td>\n",
       "      <td>S1_R</td>\n",
       "      <td>$\\delta$</td>\n",
       "      <td>80625</td>\n",
       "      <td>DRD2-KO</td>\n",
       "    </tr>\n",
       "    <tr>\n",
       "      <th>4</th>\n",
       "      <td>-0.004075</td>\n",
       "      <td>OFC_R</td>\n",
       "      <td>V1_R</td>\n",
       "      <td>$\\delta$</td>\n",
       "      <td>80625</td>\n",
       "      <td>DRD2-KO</td>\n",
       "    </tr>\n",
       "  </tbody>\n",
       "</table>\n",
       "</div>"
      ]
     },
     "execution_count": 19,
     "metadata": {},
     "output_type": "execute_result"
    }
   ],
   "execution_count": 19
  },
  {
   "metadata": {
    "ExecuteTime": {
     "end_time": "2024-05-06T13:48:48.611922Z",
     "start_time": "2024-05-06T13:48:26.764379Z"
    }
   },
   "cell_type": "code",
   "source": [
    "generate_grid_plot_wt_vs_ko(imcoh_social, 'social_cup', 'imcoh')\n",
    "generate_grid_plot_wt_vs_ko(imcoh_non_social, 'non-social_cup', 'imcoh')"
   ],
   "id": "6214a4295e5e0888",
   "outputs": [],
   "execution_count": 20
  },
  {
   "metadata": {
    "ExecuteTime": {
     "end_time": "2024-05-06T13:49:05.725376Z",
     "start_time": "2024-05-06T13:48:48.616038Z"
    }
   },
   "cell_type": "code",
   "source": [
    "generate_barplots(imcoh_social, 'social_cup', 'imcoh')\n",
    "generate_barplots(imcoh_non_social, 'non-social_cup', 'imcoh')"
   ],
   "id": "f58430591c2f2f09",
   "outputs": [],
   "execution_count": 21
  },
  {
   "metadata": {},
   "cell_type": "markdown",
   "source": "### Corrected imaginary Phase Locking Value (ciPLV)",
   "id": "a508cda33c1149c"
  },
  {
   "metadata": {
    "ExecuteTime": {
     "end_time": "2024-05-06T13:49:16.620185Z",
     "start_time": "2024-05-06T13:49:05.727669Z"
    }
   },
   "cell_type": "code",
   "source": [
    "ciplv_social = connectivity_df(all_subject_epochs, 'social_cup', \"ciplv\")\n",
    "ciplv_non_social = connectivity_df(all_subject_epochs, 'non-social_cup', \"ciplv\")\n",
    "ciplv_social.head()"
   ],
   "id": "2569207d0369e771",
   "outputs": [
    {
     "name": "stderr",
     "output_type": "stream",
     "text": [
      "/var/folders/rf/xrxwkkr96qq6kyy5jfx9hvgw0000gn/T/ipykernel_4900/398803393.py:3: RuntimeWarning: fmin=1.000 Hz corresponds to 1.000 < 5 cycles based on the epoch length 1.000 sec, need at least 5.000 sec epochs or fmin=5.000. Spectrum estimate will be unreliable.\n",
      "  con = spectral_connectivity_epochs(\n",
      "/var/folders/rf/xrxwkkr96qq6kyy5jfx9hvgw0000gn/T/ipykernel_4900/398803393.py:3: RuntimeWarning: fmin=4.000 Hz corresponds to 4.000 < 5 cycles based on the epoch length 1.000 sec, need at least 1.250 sec epochs or fmin=5.000. Spectrum estimate will be unreliable.\n",
      "  con = spectral_connectivity_epochs(\n",
      "/var/folders/rf/xrxwkkr96qq6kyy5jfx9hvgw0000gn/T/ipykernel_4900/398803393.py:3: RuntimeWarning: fmin=1.000 Hz corresponds to 1.000 < 5 cycles based on the epoch length 1.000 sec, need at least 5.000 sec epochs or fmin=5.000. Spectrum estimate will be unreliable.\n",
      "  con = spectral_connectivity_epochs(\n",
      "/var/folders/rf/xrxwkkr96qq6kyy5jfx9hvgw0000gn/T/ipykernel_4900/398803393.py:3: RuntimeWarning: fmin=4.000 Hz corresponds to 4.000 < 5 cycles based on the epoch length 1.000 sec, need at least 1.250 sec epochs or fmin=5.000. Spectrum estimate will be unreliable.\n",
      "  con = spectral_connectivity_epochs(\n",
      "/var/folders/rf/xrxwkkr96qq6kyy5jfx9hvgw0000gn/T/ipykernel_4900/398803393.py:3: RuntimeWarning: fmin=1.000 Hz corresponds to 1.000 < 5 cycles based on the epoch length 1.000 sec, need at least 5.000 sec epochs or fmin=5.000. Spectrum estimate will be unreliable.\n",
      "  con = spectral_connectivity_epochs(\n",
      "/var/folders/rf/xrxwkkr96qq6kyy5jfx9hvgw0000gn/T/ipykernel_4900/398803393.py:3: RuntimeWarning: fmin=4.000 Hz corresponds to 4.000 < 5 cycles based on the epoch length 1.000 sec, need at least 1.250 sec epochs or fmin=5.000. Spectrum estimate will be unreliable.\n",
      "  con = spectral_connectivity_epochs(\n",
      "/var/folders/rf/xrxwkkr96qq6kyy5jfx9hvgw0000gn/T/ipykernel_4900/398803393.py:3: RuntimeWarning: fmin=1.000 Hz corresponds to 1.000 < 5 cycles based on the epoch length 1.000 sec, need at least 5.000 sec epochs or fmin=5.000. Spectrum estimate will be unreliable.\n",
      "  con = spectral_connectivity_epochs(\n",
      "/var/folders/rf/xrxwkkr96qq6kyy5jfx9hvgw0000gn/T/ipykernel_4900/398803393.py:3: RuntimeWarning: fmin=4.000 Hz corresponds to 4.000 < 5 cycles based on the epoch length 1.000 sec, need at least 1.250 sec epochs or fmin=5.000. Spectrum estimate will be unreliable.\n",
      "  con = spectral_connectivity_epochs(\n",
      "/var/folders/rf/xrxwkkr96qq6kyy5jfx9hvgw0000gn/T/ipykernel_4900/398803393.py:3: RuntimeWarning: fmin=1.000 Hz corresponds to 1.000 < 5 cycles based on the epoch length 1.000 sec, need at least 5.000 sec epochs or fmin=5.000. Spectrum estimate will be unreliable.\n",
      "  con = spectral_connectivity_epochs(\n",
      "/var/folders/rf/xrxwkkr96qq6kyy5jfx9hvgw0000gn/T/ipykernel_4900/398803393.py:3: RuntimeWarning: fmin=4.000 Hz corresponds to 4.000 < 5 cycles based on the epoch length 1.000 sec, need at least 1.250 sec epochs or fmin=5.000. Spectrum estimate will be unreliable.\n",
      "  con = spectral_connectivity_epochs(\n",
      "/var/folders/rf/xrxwkkr96qq6kyy5jfx9hvgw0000gn/T/ipykernel_4900/398803393.py:3: RuntimeWarning: fmin=1.000 Hz corresponds to 1.000 < 5 cycles based on the epoch length 1.000 sec, need at least 5.000 sec epochs or fmin=5.000. Spectrum estimate will be unreliable.\n",
      "  con = spectral_connectivity_epochs(\n",
      "/var/folders/rf/xrxwkkr96qq6kyy5jfx9hvgw0000gn/T/ipykernel_4900/398803393.py:3: RuntimeWarning: fmin=4.000 Hz corresponds to 4.000 < 5 cycles based on the epoch length 1.000 sec, need at least 1.250 sec epochs or fmin=5.000. Spectrum estimate will be unreliable.\n",
      "  con = spectral_connectivity_epochs(\n",
      "/var/folders/rf/xrxwkkr96qq6kyy5jfx9hvgw0000gn/T/ipykernel_4900/398803393.py:3: RuntimeWarning: fmin=1.000 Hz corresponds to 1.000 < 5 cycles based on the epoch length 1.000 sec, need at least 5.000 sec epochs or fmin=5.000. Spectrum estimate will be unreliable.\n",
      "  con = spectral_connectivity_epochs(\n",
      "/var/folders/rf/xrxwkkr96qq6kyy5jfx9hvgw0000gn/T/ipykernel_4900/398803393.py:3: RuntimeWarning: fmin=4.000 Hz corresponds to 4.000 < 5 cycles based on the epoch length 1.000 sec, need at least 1.250 sec epochs or fmin=5.000. Spectrum estimate will be unreliable.\n",
      "  con = spectral_connectivity_epochs(\n",
      "/var/folders/rf/xrxwkkr96qq6kyy5jfx9hvgw0000gn/T/ipykernel_4900/398803393.py:3: RuntimeWarning: fmin=1.000 Hz corresponds to 1.000 < 5 cycles based on the epoch length 1.000 sec, need at least 5.000 sec epochs or fmin=5.000. Spectrum estimate will be unreliable.\n",
      "  con = spectral_connectivity_epochs(\n",
      "/var/folders/rf/xrxwkkr96qq6kyy5jfx9hvgw0000gn/T/ipykernel_4900/398803393.py:3: RuntimeWarning: fmin=4.000 Hz corresponds to 4.000 < 5 cycles based on the epoch length 1.000 sec, need at least 1.250 sec epochs or fmin=5.000. Spectrum estimate will be unreliable.\n",
      "  con = spectral_connectivity_epochs(\n",
      "/var/folders/rf/xrxwkkr96qq6kyy5jfx9hvgw0000gn/T/ipykernel_4900/398803393.py:3: RuntimeWarning: fmin=1.000 Hz corresponds to 1.000 < 5 cycles based on the epoch length 1.000 sec, need at least 5.000 sec epochs or fmin=5.000. Spectrum estimate will be unreliable.\n",
      "  con = spectral_connectivity_epochs(\n",
      "/var/folders/rf/xrxwkkr96qq6kyy5jfx9hvgw0000gn/T/ipykernel_4900/398803393.py:3: RuntimeWarning: fmin=4.000 Hz corresponds to 4.000 < 5 cycles based on the epoch length 1.000 sec, need at least 1.250 sec epochs or fmin=5.000. Spectrum estimate will be unreliable.\n",
      "  con = spectral_connectivity_epochs(\n",
      "/var/folders/rf/xrxwkkr96qq6kyy5jfx9hvgw0000gn/T/ipykernel_4900/398803393.py:3: RuntimeWarning: fmin=1.000 Hz corresponds to 1.000 < 5 cycles based on the epoch length 1.000 sec, need at least 5.000 sec epochs or fmin=5.000. Spectrum estimate will be unreliable.\n",
      "  con = spectral_connectivity_epochs(\n",
      "/var/folders/rf/xrxwkkr96qq6kyy5jfx9hvgw0000gn/T/ipykernel_4900/398803393.py:3: RuntimeWarning: fmin=4.000 Hz corresponds to 4.000 < 5 cycles based on the epoch length 1.000 sec, need at least 1.250 sec epochs or fmin=5.000. Spectrum estimate will be unreliable.\n",
      "  con = spectral_connectivity_epochs(\n",
      "/var/folders/rf/xrxwkkr96qq6kyy5jfx9hvgw0000gn/T/ipykernel_4900/398803393.py:3: RuntimeWarning: fmin=1.000 Hz corresponds to 1.000 < 5 cycles based on the epoch length 1.000 sec, need at least 5.000 sec epochs or fmin=5.000. Spectrum estimate will be unreliable.\n",
      "  con = spectral_connectivity_epochs(\n",
      "/var/folders/rf/xrxwkkr96qq6kyy5jfx9hvgw0000gn/T/ipykernel_4900/398803393.py:3: RuntimeWarning: fmin=4.000 Hz corresponds to 4.000 < 5 cycles based on the epoch length 1.000 sec, need at least 1.250 sec epochs or fmin=5.000. Spectrum estimate will be unreliable.\n",
      "  con = spectral_connectivity_epochs(\n",
      "/var/folders/rf/xrxwkkr96qq6kyy5jfx9hvgw0000gn/T/ipykernel_4900/398803393.py:3: RuntimeWarning: fmin=1.000 Hz corresponds to 1.000 < 5 cycles based on the epoch length 1.000 sec, need at least 5.000 sec epochs or fmin=5.000. Spectrum estimate will be unreliable.\n",
      "  con = spectral_connectivity_epochs(\n",
      "/var/folders/rf/xrxwkkr96qq6kyy5jfx9hvgw0000gn/T/ipykernel_4900/398803393.py:3: RuntimeWarning: fmin=4.000 Hz corresponds to 4.000 < 5 cycles based on the epoch length 1.000 sec, need at least 1.250 sec epochs or fmin=5.000. Spectrum estimate will be unreliable.\n",
      "  con = spectral_connectivity_epochs(\n",
      "/var/folders/rf/xrxwkkr96qq6kyy5jfx9hvgw0000gn/T/ipykernel_4900/398803393.py:3: RuntimeWarning: fmin=1.000 Hz corresponds to 1.000 < 5 cycles based on the epoch length 1.000 sec, need at least 5.000 sec epochs or fmin=5.000. Spectrum estimate will be unreliable.\n",
      "  con = spectral_connectivity_epochs(\n",
      "/var/folders/rf/xrxwkkr96qq6kyy5jfx9hvgw0000gn/T/ipykernel_4900/398803393.py:3: RuntimeWarning: fmin=4.000 Hz corresponds to 4.000 < 5 cycles based on the epoch length 1.000 sec, need at least 1.250 sec epochs or fmin=5.000. Spectrum estimate will be unreliable.\n",
      "  con = spectral_connectivity_epochs(\n",
      "/var/folders/rf/xrxwkkr96qq6kyy5jfx9hvgw0000gn/T/ipykernel_4900/398803393.py:3: RuntimeWarning: fmin=1.000 Hz corresponds to 1.000 < 5 cycles based on the epoch length 1.000 sec, need at least 5.000 sec epochs or fmin=5.000. Spectrum estimate will be unreliable.\n",
      "  con = spectral_connectivity_epochs(\n",
      "/var/folders/rf/xrxwkkr96qq6kyy5jfx9hvgw0000gn/T/ipykernel_4900/398803393.py:3: RuntimeWarning: fmin=4.000 Hz corresponds to 4.000 < 5 cycles based on the epoch length 1.000 sec, need at least 1.250 sec epochs or fmin=5.000. Spectrum estimate will be unreliable.\n",
      "  con = spectral_connectivity_epochs(\n",
      "/var/folders/rf/xrxwkkr96qq6kyy5jfx9hvgw0000gn/T/ipykernel_4900/398803393.py:3: RuntimeWarning: fmin=1.000 Hz corresponds to 1.000 < 5 cycles based on the epoch length 1.000 sec, need at least 5.000 sec epochs or fmin=5.000. Spectrum estimate will be unreliable.\n",
      "  con = spectral_connectivity_epochs(\n",
      "/var/folders/rf/xrxwkkr96qq6kyy5jfx9hvgw0000gn/T/ipykernel_4900/398803393.py:3: RuntimeWarning: fmin=4.000 Hz corresponds to 4.000 < 5 cycles based on the epoch length 1.000 sec, need at least 1.250 sec epochs or fmin=5.000. Spectrum estimate will be unreliable.\n",
      "  con = spectral_connectivity_epochs(\n",
      "/var/folders/rf/xrxwkkr96qq6kyy5jfx9hvgw0000gn/T/ipykernel_4900/398803393.py:3: RuntimeWarning: fmin=1.000 Hz corresponds to 1.000 < 5 cycles based on the epoch length 1.000 sec, need at least 5.000 sec epochs or fmin=5.000. Spectrum estimate will be unreliable.\n",
      "  con = spectral_connectivity_epochs(\n",
      "/var/folders/rf/xrxwkkr96qq6kyy5jfx9hvgw0000gn/T/ipykernel_4900/398803393.py:3: RuntimeWarning: fmin=4.000 Hz corresponds to 4.000 < 5 cycles based on the epoch length 1.000 sec, need at least 1.250 sec epochs or fmin=5.000. Spectrum estimate will be unreliable.\n",
      "  con = spectral_connectivity_epochs(\n",
      "/var/folders/rf/xrxwkkr96qq6kyy5jfx9hvgw0000gn/T/ipykernel_4900/398803393.py:3: RuntimeWarning: fmin=1.000 Hz corresponds to 1.000 < 5 cycles based on the epoch length 1.000 sec, need at least 5.000 sec epochs or fmin=5.000. Spectrum estimate will be unreliable.\n",
      "  con = spectral_connectivity_epochs(\n",
      "/var/folders/rf/xrxwkkr96qq6kyy5jfx9hvgw0000gn/T/ipykernel_4900/398803393.py:3: RuntimeWarning: fmin=4.000 Hz corresponds to 4.000 < 5 cycles based on the epoch length 1.000 sec, need at least 1.250 sec epochs or fmin=5.000. Spectrum estimate will be unreliable.\n",
      "  con = spectral_connectivity_epochs(\n"
     ]
    },
    {
     "name": "stdout",
     "output_type": "stream",
     "text": [
      "Done computing ciplv connectivity.\n"
     ]
    },
    {
     "name": "stderr",
     "output_type": "stream",
     "text": [
      "/var/folders/rf/xrxwkkr96qq6kyy5jfx9hvgw0000gn/T/ipykernel_4900/398803393.py:3: RuntimeWarning: fmin=1.000 Hz corresponds to 1.000 < 5 cycles based on the epoch length 1.000 sec, need at least 5.000 sec epochs or fmin=5.000. Spectrum estimate will be unreliable.\n",
      "  con = spectral_connectivity_epochs(\n",
      "/var/folders/rf/xrxwkkr96qq6kyy5jfx9hvgw0000gn/T/ipykernel_4900/398803393.py:3: RuntimeWarning: fmin=4.000 Hz corresponds to 4.000 < 5 cycles based on the epoch length 1.000 sec, need at least 1.250 sec epochs or fmin=5.000. Spectrum estimate will be unreliable.\n",
      "  con = spectral_connectivity_epochs(\n",
      "/var/folders/rf/xrxwkkr96qq6kyy5jfx9hvgw0000gn/T/ipykernel_4900/398803393.py:3: RuntimeWarning: fmin=1.000 Hz corresponds to 1.000 < 5 cycles based on the epoch length 1.000 sec, need at least 5.000 sec epochs or fmin=5.000. Spectrum estimate will be unreliable.\n",
      "  con = spectral_connectivity_epochs(\n",
      "/var/folders/rf/xrxwkkr96qq6kyy5jfx9hvgw0000gn/T/ipykernel_4900/398803393.py:3: RuntimeWarning: fmin=4.000 Hz corresponds to 4.000 < 5 cycles based on the epoch length 1.000 sec, need at least 1.250 sec epochs or fmin=5.000. Spectrum estimate will be unreliable.\n",
      "  con = spectral_connectivity_epochs(\n",
      "/var/folders/rf/xrxwkkr96qq6kyy5jfx9hvgw0000gn/T/ipykernel_4900/398803393.py:3: RuntimeWarning: fmin=1.000 Hz corresponds to 1.000 < 5 cycles based on the epoch length 1.000 sec, need at least 5.000 sec epochs or fmin=5.000. Spectrum estimate will be unreliable.\n",
      "  con = spectral_connectivity_epochs(\n",
      "/var/folders/rf/xrxwkkr96qq6kyy5jfx9hvgw0000gn/T/ipykernel_4900/398803393.py:3: RuntimeWarning: fmin=4.000 Hz corresponds to 4.000 < 5 cycles based on the epoch length 1.000 sec, need at least 1.250 sec epochs or fmin=5.000. Spectrum estimate will be unreliable.\n",
      "  con = spectral_connectivity_epochs(\n",
      "/var/folders/rf/xrxwkkr96qq6kyy5jfx9hvgw0000gn/T/ipykernel_4900/398803393.py:3: RuntimeWarning: fmin=1.000 Hz corresponds to 1.000 < 5 cycles based on the epoch length 1.000 sec, need at least 5.000 sec epochs or fmin=5.000. Spectrum estimate will be unreliable.\n",
      "  con = spectral_connectivity_epochs(\n",
      "/var/folders/rf/xrxwkkr96qq6kyy5jfx9hvgw0000gn/T/ipykernel_4900/398803393.py:3: RuntimeWarning: fmin=4.000 Hz corresponds to 4.000 < 5 cycles based on the epoch length 1.000 sec, need at least 1.250 sec epochs or fmin=5.000. Spectrum estimate will be unreliable.\n",
      "  con = spectral_connectivity_epochs(\n",
      "/var/folders/rf/xrxwkkr96qq6kyy5jfx9hvgw0000gn/T/ipykernel_4900/398803393.py:3: RuntimeWarning: fmin=1.000 Hz corresponds to 1.000 < 5 cycles based on the epoch length 1.000 sec, need at least 5.000 sec epochs or fmin=5.000. Spectrum estimate will be unreliable.\n",
      "  con = spectral_connectivity_epochs(\n",
      "/var/folders/rf/xrxwkkr96qq6kyy5jfx9hvgw0000gn/T/ipykernel_4900/398803393.py:3: RuntimeWarning: fmin=4.000 Hz corresponds to 4.000 < 5 cycles based on the epoch length 1.000 sec, need at least 1.250 sec epochs or fmin=5.000. Spectrum estimate will be unreliable.\n",
      "  con = spectral_connectivity_epochs(\n",
      "/var/folders/rf/xrxwkkr96qq6kyy5jfx9hvgw0000gn/T/ipykernel_4900/398803393.py:3: RuntimeWarning: fmin=1.000 Hz corresponds to 1.000 < 5 cycles based on the epoch length 1.000 sec, need at least 5.000 sec epochs or fmin=5.000. Spectrum estimate will be unreliable.\n",
      "  con = spectral_connectivity_epochs(\n",
      "/var/folders/rf/xrxwkkr96qq6kyy5jfx9hvgw0000gn/T/ipykernel_4900/398803393.py:3: RuntimeWarning: fmin=4.000 Hz corresponds to 4.000 < 5 cycles based on the epoch length 1.000 sec, need at least 1.250 sec epochs or fmin=5.000. Spectrum estimate will be unreliable.\n",
      "  con = spectral_connectivity_epochs(\n",
      "/var/folders/rf/xrxwkkr96qq6kyy5jfx9hvgw0000gn/T/ipykernel_4900/398803393.py:3: RuntimeWarning: fmin=1.000 Hz corresponds to 1.000 < 5 cycles based on the epoch length 1.000 sec, need at least 5.000 sec epochs or fmin=5.000. Spectrum estimate will be unreliable.\n",
      "  con = spectral_connectivity_epochs(\n",
      "/var/folders/rf/xrxwkkr96qq6kyy5jfx9hvgw0000gn/T/ipykernel_4900/398803393.py:3: RuntimeWarning: fmin=4.000 Hz corresponds to 4.000 < 5 cycles based on the epoch length 1.000 sec, need at least 1.250 sec epochs or fmin=5.000. Spectrum estimate will be unreliable.\n",
      "  con = spectral_connectivity_epochs(\n",
      "/var/folders/rf/xrxwkkr96qq6kyy5jfx9hvgw0000gn/T/ipykernel_4900/398803393.py:3: RuntimeWarning: fmin=1.000 Hz corresponds to 1.000 < 5 cycles based on the epoch length 1.000 sec, need at least 5.000 sec epochs or fmin=5.000. Spectrum estimate will be unreliable.\n",
      "  con = spectral_connectivity_epochs(\n",
      "/var/folders/rf/xrxwkkr96qq6kyy5jfx9hvgw0000gn/T/ipykernel_4900/398803393.py:3: RuntimeWarning: fmin=4.000 Hz corresponds to 4.000 < 5 cycles based on the epoch length 1.000 sec, need at least 1.250 sec epochs or fmin=5.000. Spectrum estimate will be unreliable.\n",
      "  con = spectral_connectivity_epochs(\n",
      "/var/folders/rf/xrxwkkr96qq6kyy5jfx9hvgw0000gn/T/ipykernel_4900/398803393.py:3: RuntimeWarning: fmin=1.000 Hz corresponds to 1.000 < 5 cycles based on the epoch length 1.000 sec, need at least 5.000 sec epochs or fmin=5.000. Spectrum estimate will be unreliable.\n",
      "  con = spectral_connectivity_epochs(\n",
      "/var/folders/rf/xrxwkkr96qq6kyy5jfx9hvgw0000gn/T/ipykernel_4900/398803393.py:3: RuntimeWarning: fmin=4.000 Hz corresponds to 4.000 < 5 cycles based on the epoch length 1.000 sec, need at least 1.250 sec epochs or fmin=5.000. Spectrum estimate will be unreliable.\n",
      "  con = spectral_connectivity_epochs(\n",
      "/var/folders/rf/xrxwkkr96qq6kyy5jfx9hvgw0000gn/T/ipykernel_4900/398803393.py:3: RuntimeWarning: fmin=1.000 Hz corresponds to 1.000 < 5 cycles based on the epoch length 1.000 sec, need at least 5.000 sec epochs or fmin=5.000. Spectrum estimate will be unreliable.\n",
      "  con = spectral_connectivity_epochs(\n",
      "/var/folders/rf/xrxwkkr96qq6kyy5jfx9hvgw0000gn/T/ipykernel_4900/398803393.py:3: RuntimeWarning: fmin=4.000 Hz corresponds to 4.000 < 5 cycles based on the epoch length 1.000 sec, need at least 1.250 sec epochs or fmin=5.000. Spectrum estimate will be unreliable.\n",
      "  con = spectral_connectivity_epochs(\n",
      "/var/folders/rf/xrxwkkr96qq6kyy5jfx9hvgw0000gn/T/ipykernel_4900/398803393.py:3: RuntimeWarning: fmin=1.000 Hz corresponds to 1.000 < 5 cycles based on the epoch length 1.000 sec, need at least 5.000 sec epochs or fmin=5.000. Spectrum estimate will be unreliable.\n",
      "  con = spectral_connectivity_epochs(\n",
      "/var/folders/rf/xrxwkkr96qq6kyy5jfx9hvgw0000gn/T/ipykernel_4900/398803393.py:3: RuntimeWarning: fmin=4.000 Hz corresponds to 4.000 < 5 cycles based on the epoch length 1.000 sec, need at least 1.250 sec epochs or fmin=5.000. Spectrum estimate will be unreliable.\n",
      "  con = spectral_connectivity_epochs(\n",
      "/var/folders/rf/xrxwkkr96qq6kyy5jfx9hvgw0000gn/T/ipykernel_4900/398803393.py:3: RuntimeWarning: fmin=1.000 Hz corresponds to 1.000 < 5 cycles based on the epoch length 1.000 sec, need at least 5.000 sec epochs or fmin=5.000. Spectrum estimate will be unreliable.\n",
      "  con = spectral_connectivity_epochs(\n",
      "/var/folders/rf/xrxwkkr96qq6kyy5jfx9hvgw0000gn/T/ipykernel_4900/398803393.py:3: RuntimeWarning: fmin=4.000 Hz corresponds to 4.000 < 5 cycles based on the epoch length 1.000 sec, need at least 1.250 sec epochs or fmin=5.000. Spectrum estimate will be unreliable.\n",
      "  con = spectral_connectivity_epochs(\n",
      "/var/folders/rf/xrxwkkr96qq6kyy5jfx9hvgw0000gn/T/ipykernel_4900/398803393.py:3: RuntimeWarning: fmin=1.000 Hz corresponds to 1.000 < 5 cycles based on the epoch length 1.000 sec, need at least 5.000 sec epochs or fmin=5.000. Spectrum estimate will be unreliable.\n",
      "  con = spectral_connectivity_epochs(\n",
      "/var/folders/rf/xrxwkkr96qq6kyy5jfx9hvgw0000gn/T/ipykernel_4900/398803393.py:3: RuntimeWarning: fmin=4.000 Hz corresponds to 4.000 < 5 cycles based on the epoch length 1.000 sec, need at least 1.250 sec epochs or fmin=5.000. Spectrum estimate will be unreliable.\n",
      "  con = spectral_connectivity_epochs(\n",
      "/var/folders/rf/xrxwkkr96qq6kyy5jfx9hvgw0000gn/T/ipykernel_4900/398803393.py:3: RuntimeWarning: fmin=1.000 Hz corresponds to 1.000 < 5 cycles based on the epoch length 1.000 sec, need at least 5.000 sec epochs or fmin=5.000. Spectrum estimate will be unreliable.\n",
      "  con = spectral_connectivity_epochs(\n",
      "/var/folders/rf/xrxwkkr96qq6kyy5jfx9hvgw0000gn/T/ipykernel_4900/398803393.py:3: RuntimeWarning: fmin=4.000 Hz corresponds to 4.000 < 5 cycles based on the epoch length 1.000 sec, need at least 1.250 sec epochs or fmin=5.000. Spectrum estimate will be unreliable.\n",
      "  con = spectral_connectivity_epochs(\n",
      "/var/folders/rf/xrxwkkr96qq6kyy5jfx9hvgw0000gn/T/ipykernel_4900/398803393.py:3: RuntimeWarning: fmin=1.000 Hz corresponds to 1.000 < 5 cycles based on the epoch length 1.000 sec, need at least 5.000 sec epochs or fmin=5.000. Spectrum estimate will be unreliable.\n",
      "  con = spectral_connectivity_epochs(\n",
      "/var/folders/rf/xrxwkkr96qq6kyy5jfx9hvgw0000gn/T/ipykernel_4900/398803393.py:3: RuntimeWarning: fmin=4.000 Hz corresponds to 4.000 < 5 cycles based on the epoch length 1.000 sec, need at least 1.250 sec epochs or fmin=5.000. Spectrum estimate will be unreliable.\n",
      "  con = spectral_connectivity_epochs(\n",
      "/var/folders/rf/xrxwkkr96qq6kyy5jfx9hvgw0000gn/T/ipykernel_4900/398803393.py:3: RuntimeWarning: fmin=1.000 Hz corresponds to 1.000 < 5 cycles based on the epoch length 1.000 sec, need at least 5.000 sec epochs or fmin=5.000. Spectrum estimate will be unreliable.\n",
      "  con = spectral_connectivity_epochs(\n",
      "/var/folders/rf/xrxwkkr96qq6kyy5jfx9hvgw0000gn/T/ipykernel_4900/398803393.py:3: RuntimeWarning: fmin=4.000 Hz corresponds to 4.000 < 5 cycles based on the epoch length 1.000 sec, need at least 1.250 sec epochs or fmin=5.000. Spectrum estimate will be unreliable.\n",
      "  con = spectral_connectivity_epochs(\n",
      "/var/folders/rf/xrxwkkr96qq6kyy5jfx9hvgw0000gn/T/ipykernel_4900/398803393.py:3: RuntimeWarning: fmin=1.000 Hz corresponds to 1.000 < 5 cycles based on the epoch length 1.000 sec, need at least 5.000 sec epochs or fmin=5.000. Spectrum estimate will be unreliable.\n",
      "  con = spectral_connectivity_epochs(\n",
      "/var/folders/rf/xrxwkkr96qq6kyy5jfx9hvgw0000gn/T/ipykernel_4900/398803393.py:3: RuntimeWarning: fmin=4.000 Hz corresponds to 4.000 < 5 cycles based on the epoch length 1.000 sec, need at least 1.250 sec epochs or fmin=5.000. Spectrum estimate will be unreliable.\n",
      "  con = spectral_connectivity_epochs(\n"
     ]
    },
    {
     "name": "stdout",
     "output_type": "stream",
     "text": [
      "Done computing ciplv connectivity.\n"
     ]
    },
    {
     "data": {
      "text/plain": [
       "        con  node1  node2      band  subject_id genotype\n",
       "0  0.198544  OFC_R     CG  $\\delta$       80625  DRD2-KO\n",
       "1  0.460951  OFC_R  STR_R  $\\delta$       80625  DRD2-KO\n",
       "2  0.119558  OFC_R   S1_L  $\\delta$       80625  DRD2-KO\n",
       "3  0.243082  OFC_R   S1_R  $\\delta$       80625  DRD2-KO\n",
       "4  0.094812  OFC_R   V1_R  $\\delta$       80625  DRD2-KO"
      ],
      "text/html": [
       "<div>\n",
       "<style scoped>\n",
       "    .dataframe tbody tr th:only-of-type {\n",
       "        vertical-align: middle;\n",
       "    }\n",
       "\n",
       "    .dataframe tbody tr th {\n",
       "        vertical-align: top;\n",
       "    }\n",
       "\n",
       "    .dataframe thead th {\n",
       "        text-align: right;\n",
       "    }\n",
       "</style>\n",
       "<table border=\"1\" class=\"dataframe\">\n",
       "  <thead>\n",
       "    <tr style=\"text-align: right;\">\n",
       "      <th></th>\n",
       "      <th>con</th>\n",
       "      <th>node1</th>\n",
       "      <th>node2</th>\n",
       "      <th>band</th>\n",
       "      <th>subject_id</th>\n",
       "      <th>genotype</th>\n",
       "    </tr>\n",
       "  </thead>\n",
       "  <tbody>\n",
       "    <tr>\n",
       "      <th>0</th>\n",
       "      <td>0.198544</td>\n",
       "      <td>OFC_R</td>\n",
       "      <td>CG</td>\n",
       "      <td>$\\delta$</td>\n",
       "      <td>80625</td>\n",
       "      <td>DRD2-KO</td>\n",
       "    </tr>\n",
       "    <tr>\n",
       "      <th>1</th>\n",
       "      <td>0.460951</td>\n",
       "      <td>OFC_R</td>\n",
       "      <td>STR_R</td>\n",
       "      <td>$\\delta$</td>\n",
       "      <td>80625</td>\n",
       "      <td>DRD2-KO</td>\n",
       "    </tr>\n",
       "    <tr>\n",
       "      <th>2</th>\n",
       "      <td>0.119558</td>\n",
       "      <td>OFC_R</td>\n",
       "      <td>S1_L</td>\n",
       "      <td>$\\delta$</td>\n",
       "      <td>80625</td>\n",
       "      <td>DRD2-KO</td>\n",
       "    </tr>\n",
       "    <tr>\n",
       "      <th>3</th>\n",
       "      <td>0.243082</td>\n",
       "      <td>OFC_R</td>\n",
       "      <td>S1_R</td>\n",
       "      <td>$\\delta$</td>\n",
       "      <td>80625</td>\n",
       "      <td>DRD2-KO</td>\n",
       "    </tr>\n",
       "    <tr>\n",
       "      <th>4</th>\n",
       "      <td>0.094812</td>\n",
       "      <td>OFC_R</td>\n",
       "      <td>V1_R</td>\n",
       "      <td>$\\delta$</td>\n",
       "      <td>80625</td>\n",
       "      <td>DRD2-KO</td>\n",
       "    </tr>\n",
       "  </tbody>\n",
       "</table>\n",
       "</div>"
      ]
     },
     "execution_count": 22,
     "metadata": {},
     "output_type": "execute_result"
    }
   ],
   "execution_count": 22
  },
  {
   "metadata": {
    "ExecuteTime": {
     "end_time": "2024-05-06T13:49:40.751254Z",
     "start_time": "2024-05-06T13:49:16.622234Z"
    }
   },
   "cell_type": "code",
   "source": [
    "generate_grid_plot_wt_vs_ko(ciplv_social, 'social_cup', 'ciplv')\n",
    "generate_grid_plot_wt_vs_ko(ciplv_non_social, 'non-social_cup', 'ciplv')"
   ],
   "id": "cb38adfc04b6c685",
   "outputs": [],
   "execution_count": 23
  },
  {
   "metadata": {
    "ExecuteTime": {
     "end_time": "2024-05-06T13:49:58.757977Z",
     "start_time": "2024-05-06T13:49:40.754003Z"
    }
   },
   "cell_type": "code",
   "source": [
    "generate_barplots(ciplv_social, 'social_cup', 'ciplv')\n",
    "generate_barplots(ciplv_non_social, 'non-social_cup', 'ciplv')"
   ],
   "id": "aeafe5d2f2e61539",
   "outputs": [],
   "execution_count": 24
  },
  {
   "metadata": {},
   "cell_type": "markdown",
   "source": "### Directed Phase Lag Index (dPLI)",
   "id": "36a5769450b77d3d"
  },
  {
   "metadata": {
    "ExecuteTime": {
     "end_time": "2024-05-06T13:50:09.375956Z",
     "start_time": "2024-05-06T13:49:58.760179Z"
    }
   },
   "cell_type": "code",
   "source": [
    "dpli_social = connectivity_df(all_subject_epochs, 'social_cup', \"dpli\")\n",
    "dpli_non_social = connectivity_df(all_subject_epochs, 'non-social_cup', \"dpli\")\n",
    "dpli_social.head()"
   ],
   "id": "68578b7301c3a4ea",
   "outputs": [
    {
     "name": "stderr",
     "output_type": "stream",
     "text": [
      "/var/folders/rf/xrxwkkr96qq6kyy5jfx9hvgw0000gn/T/ipykernel_4900/398803393.py:3: RuntimeWarning: fmin=1.000 Hz corresponds to 1.000 < 5 cycles based on the epoch length 1.000 sec, need at least 5.000 sec epochs or fmin=5.000. Spectrum estimate will be unreliable.\n",
      "  con = spectral_connectivity_epochs(\n",
      "/var/folders/rf/xrxwkkr96qq6kyy5jfx9hvgw0000gn/T/ipykernel_4900/398803393.py:3: RuntimeWarning: fmin=4.000 Hz corresponds to 4.000 < 5 cycles based on the epoch length 1.000 sec, need at least 1.250 sec epochs or fmin=5.000. Spectrum estimate will be unreliable.\n",
      "  con = spectral_connectivity_epochs(\n",
      "/var/folders/rf/xrxwkkr96qq6kyy5jfx9hvgw0000gn/T/ipykernel_4900/398803393.py:3: RuntimeWarning: fmin=1.000 Hz corresponds to 1.000 < 5 cycles based on the epoch length 1.000 sec, need at least 5.000 sec epochs or fmin=5.000. Spectrum estimate will be unreliable.\n",
      "  con = spectral_connectivity_epochs(\n",
      "/var/folders/rf/xrxwkkr96qq6kyy5jfx9hvgw0000gn/T/ipykernel_4900/398803393.py:3: RuntimeWarning: fmin=4.000 Hz corresponds to 4.000 < 5 cycles based on the epoch length 1.000 sec, need at least 1.250 sec epochs or fmin=5.000. Spectrum estimate will be unreliable.\n",
      "  con = spectral_connectivity_epochs(\n",
      "/var/folders/rf/xrxwkkr96qq6kyy5jfx9hvgw0000gn/T/ipykernel_4900/398803393.py:3: RuntimeWarning: fmin=1.000 Hz corresponds to 1.000 < 5 cycles based on the epoch length 1.000 sec, need at least 5.000 sec epochs or fmin=5.000. Spectrum estimate will be unreliable.\n",
      "  con = spectral_connectivity_epochs(\n",
      "/var/folders/rf/xrxwkkr96qq6kyy5jfx9hvgw0000gn/T/ipykernel_4900/398803393.py:3: RuntimeWarning: fmin=4.000 Hz corresponds to 4.000 < 5 cycles based on the epoch length 1.000 sec, need at least 1.250 sec epochs or fmin=5.000. Spectrum estimate will be unreliable.\n",
      "  con = spectral_connectivity_epochs(\n",
      "/var/folders/rf/xrxwkkr96qq6kyy5jfx9hvgw0000gn/T/ipykernel_4900/398803393.py:3: RuntimeWarning: fmin=1.000 Hz corresponds to 1.000 < 5 cycles based on the epoch length 1.000 sec, need at least 5.000 sec epochs or fmin=5.000. Spectrum estimate will be unreliable.\n",
      "  con = spectral_connectivity_epochs(\n",
      "/var/folders/rf/xrxwkkr96qq6kyy5jfx9hvgw0000gn/T/ipykernel_4900/398803393.py:3: RuntimeWarning: fmin=4.000 Hz corresponds to 4.000 < 5 cycles based on the epoch length 1.000 sec, need at least 1.250 sec epochs or fmin=5.000. Spectrum estimate will be unreliable.\n",
      "  con = spectral_connectivity_epochs(\n",
      "/var/folders/rf/xrxwkkr96qq6kyy5jfx9hvgw0000gn/T/ipykernel_4900/398803393.py:3: RuntimeWarning: fmin=1.000 Hz corresponds to 1.000 < 5 cycles based on the epoch length 1.000 sec, need at least 5.000 sec epochs or fmin=5.000. Spectrum estimate will be unreliable.\n",
      "  con = spectral_connectivity_epochs(\n",
      "/var/folders/rf/xrxwkkr96qq6kyy5jfx9hvgw0000gn/T/ipykernel_4900/398803393.py:3: RuntimeWarning: fmin=4.000 Hz corresponds to 4.000 < 5 cycles based on the epoch length 1.000 sec, need at least 1.250 sec epochs or fmin=5.000. Spectrum estimate will be unreliable.\n",
      "  con = spectral_connectivity_epochs(\n",
      "/var/folders/rf/xrxwkkr96qq6kyy5jfx9hvgw0000gn/T/ipykernel_4900/398803393.py:3: RuntimeWarning: fmin=1.000 Hz corresponds to 1.000 < 5 cycles based on the epoch length 1.000 sec, need at least 5.000 sec epochs or fmin=5.000. Spectrum estimate will be unreliable.\n",
      "  con = spectral_connectivity_epochs(\n",
      "/var/folders/rf/xrxwkkr96qq6kyy5jfx9hvgw0000gn/T/ipykernel_4900/398803393.py:3: RuntimeWarning: fmin=4.000 Hz corresponds to 4.000 < 5 cycles based on the epoch length 1.000 sec, need at least 1.250 sec epochs or fmin=5.000. Spectrum estimate will be unreliable.\n",
      "  con = spectral_connectivity_epochs(\n",
      "/var/folders/rf/xrxwkkr96qq6kyy5jfx9hvgw0000gn/T/ipykernel_4900/398803393.py:3: RuntimeWarning: fmin=1.000 Hz corresponds to 1.000 < 5 cycles based on the epoch length 1.000 sec, need at least 5.000 sec epochs or fmin=5.000. Spectrum estimate will be unreliable.\n",
      "  con = spectral_connectivity_epochs(\n",
      "/var/folders/rf/xrxwkkr96qq6kyy5jfx9hvgw0000gn/T/ipykernel_4900/398803393.py:3: RuntimeWarning: fmin=4.000 Hz corresponds to 4.000 < 5 cycles based on the epoch length 1.000 sec, need at least 1.250 sec epochs or fmin=5.000. Spectrum estimate will be unreliable.\n",
      "  con = spectral_connectivity_epochs(\n",
      "/var/folders/rf/xrxwkkr96qq6kyy5jfx9hvgw0000gn/T/ipykernel_4900/398803393.py:3: RuntimeWarning: fmin=1.000 Hz corresponds to 1.000 < 5 cycles based on the epoch length 1.000 sec, need at least 5.000 sec epochs or fmin=5.000. Spectrum estimate will be unreliable.\n",
      "  con = spectral_connectivity_epochs(\n",
      "/var/folders/rf/xrxwkkr96qq6kyy5jfx9hvgw0000gn/T/ipykernel_4900/398803393.py:3: RuntimeWarning: fmin=4.000 Hz corresponds to 4.000 < 5 cycles based on the epoch length 1.000 sec, need at least 1.250 sec epochs or fmin=5.000. Spectrum estimate will be unreliable.\n",
      "  con = spectral_connectivity_epochs(\n",
      "/var/folders/rf/xrxwkkr96qq6kyy5jfx9hvgw0000gn/T/ipykernel_4900/398803393.py:3: RuntimeWarning: fmin=1.000 Hz corresponds to 1.000 < 5 cycles based on the epoch length 1.000 sec, need at least 5.000 sec epochs or fmin=5.000. Spectrum estimate will be unreliable.\n",
      "  con = spectral_connectivity_epochs(\n",
      "/var/folders/rf/xrxwkkr96qq6kyy5jfx9hvgw0000gn/T/ipykernel_4900/398803393.py:3: RuntimeWarning: fmin=4.000 Hz corresponds to 4.000 < 5 cycles based on the epoch length 1.000 sec, need at least 1.250 sec epochs or fmin=5.000. Spectrum estimate will be unreliable.\n",
      "  con = spectral_connectivity_epochs(\n",
      "/var/folders/rf/xrxwkkr96qq6kyy5jfx9hvgw0000gn/T/ipykernel_4900/398803393.py:3: RuntimeWarning: fmin=1.000 Hz corresponds to 1.000 < 5 cycles based on the epoch length 1.000 sec, need at least 5.000 sec epochs or fmin=5.000. Spectrum estimate will be unreliable.\n",
      "  con = spectral_connectivity_epochs(\n",
      "/var/folders/rf/xrxwkkr96qq6kyy5jfx9hvgw0000gn/T/ipykernel_4900/398803393.py:3: RuntimeWarning: fmin=4.000 Hz corresponds to 4.000 < 5 cycles based on the epoch length 1.000 sec, need at least 1.250 sec epochs or fmin=5.000. Spectrum estimate will be unreliable.\n",
      "  con = spectral_connectivity_epochs(\n",
      "/var/folders/rf/xrxwkkr96qq6kyy5jfx9hvgw0000gn/T/ipykernel_4900/398803393.py:3: RuntimeWarning: fmin=1.000 Hz corresponds to 1.000 < 5 cycles based on the epoch length 1.000 sec, need at least 5.000 sec epochs or fmin=5.000. Spectrum estimate will be unreliable.\n",
      "  con = spectral_connectivity_epochs(\n",
      "/var/folders/rf/xrxwkkr96qq6kyy5jfx9hvgw0000gn/T/ipykernel_4900/398803393.py:3: RuntimeWarning: fmin=4.000 Hz corresponds to 4.000 < 5 cycles based on the epoch length 1.000 sec, need at least 1.250 sec epochs or fmin=5.000. Spectrum estimate will be unreliable.\n",
      "  con = spectral_connectivity_epochs(\n",
      "/var/folders/rf/xrxwkkr96qq6kyy5jfx9hvgw0000gn/T/ipykernel_4900/398803393.py:3: RuntimeWarning: fmin=1.000 Hz corresponds to 1.000 < 5 cycles based on the epoch length 1.000 sec, need at least 5.000 sec epochs or fmin=5.000. Spectrum estimate will be unreliable.\n",
      "  con = spectral_connectivity_epochs(\n",
      "/var/folders/rf/xrxwkkr96qq6kyy5jfx9hvgw0000gn/T/ipykernel_4900/398803393.py:3: RuntimeWarning: fmin=4.000 Hz corresponds to 4.000 < 5 cycles based on the epoch length 1.000 sec, need at least 1.250 sec epochs or fmin=5.000. Spectrum estimate will be unreliable.\n",
      "  con = spectral_connectivity_epochs(\n",
      "/var/folders/rf/xrxwkkr96qq6kyy5jfx9hvgw0000gn/T/ipykernel_4900/398803393.py:3: RuntimeWarning: fmin=1.000 Hz corresponds to 1.000 < 5 cycles based on the epoch length 1.000 sec, need at least 5.000 sec epochs or fmin=5.000. Spectrum estimate will be unreliable.\n",
      "  con = spectral_connectivity_epochs(\n",
      "/var/folders/rf/xrxwkkr96qq6kyy5jfx9hvgw0000gn/T/ipykernel_4900/398803393.py:3: RuntimeWarning: fmin=4.000 Hz corresponds to 4.000 < 5 cycles based on the epoch length 1.000 sec, need at least 1.250 sec epochs or fmin=5.000. Spectrum estimate will be unreliable.\n",
      "  con = spectral_connectivity_epochs(\n",
      "/var/folders/rf/xrxwkkr96qq6kyy5jfx9hvgw0000gn/T/ipykernel_4900/398803393.py:3: RuntimeWarning: fmin=1.000 Hz corresponds to 1.000 < 5 cycles based on the epoch length 1.000 sec, need at least 5.000 sec epochs or fmin=5.000. Spectrum estimate will be unreliable.\n",
      "  con = spectral_connectivity_epochs(\n",
      "/var/folders/rf/xrxwkkr96qq6kyy5jfx9hvgw0000gn/T/ipykernel_4900/398803393.py:3: RuntimeWarning: fmin=4.000 Hz corresponds to 4.000 < 5 cycles based on the epoch length 1.000 sec, need at least 1.250 sec epochs or fmin=5.000. Spectrum estimate will be unreliable.\n",
      "  con = spectral_connectivity_epochs(\n",
      "/var/folders/rf/xrxwkkr96qq6kyy5jfx9hvgw0000gn/T/ipykernel_4900/398803393.py:3: RuntimeWarning: fmin=1.000 Hz corresponds to 1.000 < 5 cycles based on the epoch length 1.000 sec, need at least 5.000 sec epochs or fmin=5.000. Spectrum estimate will be unreliable.\n",
      "  con = spectral_connectivity_epochs(\n",
      "/var/folders/rf/xrxwkkr96qq6kyy5jfx9hvgw0000gn/T/ipykernel_4900/398803393.py:3: RuntimeWarning: fmin=4.000 Hz corresponds to 4.000 < 5 cycles based on the epoch length 1.000 sec, need at least 1.250 sec epochs or fmin=5.000. Spectrum estimate will be unreliable.\n",
      "  con = spectral_connectivity_epochs(\n",
      "/var/folders/rf/xrxwkkr96qq6kyy5jfx9hvgw0000gn/T/ipykernel_4900/398803393.py:3: RuntimeWarning: fmin=1.000 Hz corresponds to 1.000 < 5 cycles based on the epoch length 1.000 sec, need at least 5.000 sec epochs or fmin=5.000. Spectrum estimate will be unreliable.\n",
      "  con = spectral_connectivity_epochs(\n",
      "/var/folders/rf/xrxwkkr96qq6kyy5jfx9hvgw0000gn/T/ipykernel_4900/398803393.py:3: RuntimeWarning: fmin=4.000 Hz corresponds to 4.000 < 5 cycles based on the epoch length 1.000 sec, need at least 1.250 sec epochs or fmin=5.000. Spectrum estimate will be unreliable.\n",
      "  con = spectral_connectivity_epochs(\n",
      "/var/folders/rf/xrxwkkr96qq6kyy5jfx9hvgw0000gn/T/ipykernel_4900/398803393.py:3: RuntimeWarning: fmin=1.000 Hz corresponds to 1.000 < 5 cycles based on the epoch length 1.000 sec, need at least 5.000 sec epochs or fmin=5.000. Spectrum estimate will be unreliable.\n",
      "  con = spectral_connectivity_epochs(\n",
      "/var/folders/rf/xrxwkkr96qq6kyy5jfx9hvgw0000gn/T/ipykernel_4900/398803393.py:3: RuntimeWarning: fmin=4.000 Hz corresponds to 4.000 < 5 cycles based on the epoch length 1.000 sec, need at least 1.250 sec epochs or fmin=5.000. Spectrum estimate will be unreliable.\n",
      "  con = spectral_connectivity_epochs(\n"
     ]
    },
    {
     "name": "stdout",
     "output_type": "stream",
     "text": [
      "Done computing dpli connectivity.\n"
     ]
    },
    {
     "name": "stderr",
     "output_type": "stream",
     "text": [
      "/var/folders/rf/xrxwkkr96qq6kyy5jfx9hvgw0000gn/T/ipykernel_4900/398803393.py:3: RuntimeWarning: fmin=1.000 Hz corresponds to 1.000 < 5 cycles based on the epoch length 1.000 sec, need at least 5.000 sec epochs or fmin=5.000. Spectrum estimate will be unreliable.\n",
      "  con = spectral_connectivity_epochs(\n",
      "/var/folders/rf/xrxwkkr96qq6kyy5jfx9hvgw0000gn/T/ipykernel_4900/398803393.py:3: RuntimeWarning: fmin=4.000 Hz corresponds to 4.000 < 5 cycles based on the epoch length 1.000 sec, need at least 1.250 sec epochs or fmin=5.000. Spectrum estimate will be unreliable.\n",
      "  con = spectral_connectivity_epochs(\n",
      "/var/folders/rf/xrxwkkr96qq6kyy5jfx9hvgw0000gn/T/ipykernel_4900/398803393.py:3: RuntimeWarning: fmin=1.000 Hz corresponds to 1.000 < 5 cycles based on the epoch length 1.000 sec, need at least 5.000 sec epochs or fmin=5.000. Spectrum estimate will be unreliable.\n",
      "  con = spectral_connectivity_epochs(\n",
      "/var/folders/rf/xrxwkkr96qq6kyy5jfx9hvgw0000gn/T/ipykernel_4900/398803393.py:3: RuntimeWarning: fmin=4.000 Hz corresponds to 4.000 < 5 cycles based on the epoch length 1.000 sec, need at least 1.250 sec epochs or fmin=5.000. Spectrum estimate will be unreliable.\n",
      "  con = spectral_connectivity_epochs(\n",
      "/var/folders/rf/xrxwkkr96qq6kyy5jfx9hvgw0000gn/T/ipykernel_4900/398803393.py:3: RuntimeWarning: fmin=1.000 Hz corresponds to 1.000 < 5 cycles based on the epoch length 1.000 sec, need at least 5.000 sec epochs or fmin=5.000. Spectrum estimate will be unreliable.\n",
      "  con = spectral_connectivity_epochs(\n",
      "/var/folders/rf/xrxwkkr96qq6kyy5jfx9hvgw0000gn/T/ipykernel_4900/398803393.py:3: RuntimeWarning: fmin=4.000 Hz corresponds to 4.000 < 5 cycles based on the epoch length 1.000 sec, need at least 1.250 sec epochs or fmin=5.000. Spectrum estimate will be unreliable.\n",
      "  con = spectral_connectivity_epochs(\n",
      "/var/folders/rf/xrxwkkr96qq6kyy5jfx9hvgw0000gn/T/ipykernel_4900/398803393.py:3: RuntimeWarning: fmin=1.000 Hz corresponds to 1.000 < 5 cycles based on the epoch length 1.000 sec, need at least 5.000 sec epochs or fmin=5.000. Spectrum estimate will be unreliable.\n",
      "  con = spectral_connectivity_epochs(\n",
      "/var/folders/rf/xrxwkkr96qq6kyy5jfx9hvgw0000gn/T/ipykernel_4900/398803393.py:3: RuntimeWarning: fmin=4.000 Hz corresponds to 4.000 < 5 cycles based on the epoch length 1.000 sec, need at least 1.250 sec epochs or fmin=5.000. Spectrum estimate will be unreliable.\n",
      "  con = spectral_connectivity_epochs(\n",
      "/var/folders/rf/xrxwkkr96qq6kyy5jfx9hvgw0000gn/T/ipykernel_4900/398803393.py:3: RuntimeWarning: fmin=1.000 Hz corresponds to 1.000 < 5 cycles based on the epoch length 1.000 sec, need at least 5.000 sec epochs or fmin=5.000. Spectrum estimate will be unreliable.\n",
      "  con = spectral_connectivity_epochs(\n",
      "/var/folders/rf/xrxwkkr96qq6kyy5jfx9hvgw0000gn/T/ipykernel_4900/398803393.py:3: RuntimeWarning: fmin=4.000 Hz corresponds to 4.000 < 5 cycles based on the epoch length 1.000 sec, need at least 1.250 sec epochs or fmin=5.000. Spectrum estimate will be unreliable.\n",
      "  con = spectral_connectivity_epochs(\n",
      "/var/folders/rf/xrxwkkr96qq6kyy5jfx9hvgw0000gn/T/ipykernel_4900/398803393.py:3: RuntimeWarning: fmin=1.000 Hz corresponds to 1.000 < 5 cycles based on the epoch length 1.000 sec, need at least 5.000 sec epochs or fmin=5.000. Spectrum estimate will be unreliable.\n",
      "  con = spectral_connectivity_epochs(\n",
      "/var/folders/rf/xrxwkkr96qq6kyy5jfx9hvgw0000gn/T/ipykernel_4900/398803393.py:3: RuntimeWarning: fmin=4.000 Hz corresponds to 4.000 < 5 cycles based on the epoch length 1.000 sec, need at least 1.250 sec epochs or fmin=5.000. Spectrum estimate will be unreliable.\n",
      "  con = spectral_connectivity_epochs(\n",
      "/var/folders/rf/xrxwkkr96qq6kyy5jfx9hvgw0000gn/T/ipykernel_4900/398803393.py:3: RuntimeWarning: fmin=1.000 Hz corresponds to 1.000 < 5 cycles based on the epoch length 1.000 sec, need at least 5.000 sec epochs or fmin=5.000. Spectrum estimate will be unreliable.\n",
      "  con = spectral_connectivity_epochs(\n",
      "/var/folders/rf/xrxwkkr96qq6kyy5jfx9hvgw0000gn/T/ipykernel_4900/398803393.py:3: RuntimeWarning: fmin=4.000 Hz corresponds to 4.000 < 5 cycles based on the epoch length 1.000 sec, need at least 1.250 sec epochs or fmin=5.000. Spectrum estimate will be unreliable.\n",
      "  con = spectral_connectivity_epochs(\n",
      "/var/folders/rf/xrxwkkr96qq6kyy5jfx9hvgw0000gn/T/ipykernel_4900/398803393.py:3: RuntimeWarning: fmin=1.000 Hz corresponds to 1.000 < 5 cycles based on the epoch length 1.000 sec, need at least 5.000 sec epochs or fmin=5.000. Spectrum estimate will be unreliable.\n",
      "  con = spectral_connectivity_epochs(\n",
      "/var/folders/rf/xrxwkkr96qq6kyy5jfx9hvgw0000gn/T/ipykernel_4900/398803393.py:3: RuntimeWarning: fmin=4.000 Hz corresponds to 4.000 < 5 cycles based on the epoch length 1.000 sec, need at least 1.250 sec epochs or fmin=5.000. Spectrum estimate will be unreliable.\n",
      "  con = spectral_connectivity_epochs(\n",
      "/var/folders/rf/xrxwkkr96qq6kyy5jfx9hvgw0000gn/T/ipykernel_4900/398803393.py:3: RuntimeWarning: fmin=1.000 Hz corresponds to 1.000 < 5 cycles based on the epoch length 1.000 sec, need at least 5.000 sec epochs or fmin=5.000. Spectrum estimate will be unreliable.\n",
      "  con = spectral_connectivity_epochs(\n",
      "/var/folders/rf/xrxwkkr96qq6kyy5jfx9hvgw0000gn/T/ipykernel_4900/398803393.py:3: RuntimeWarning: fmin=4.000 Hz corresponds to 4.000 < 5 cycles based on the epoch length 1.000 sec, need at least 1.250 sec epochs or fmin=5.000. Spectrum estimate will be unreliable.\n",
      "  con = spectral_connectivity_epochs(\n",
      "/var/folders/rf/xrxwkkr96qq6kyy5jfx9hvgw0000gn/T/ipykernel_4900/398803393.py:3: RuntimeWarning: fmin=1.000 Hz corresponds to 1.000 < 5 cycles based on the epoch length 1.000 sec, need at least 5.000 sec epochs or fmin=5.000. Spectrum estimate will be unreliable.\n",
      "  con = spectral_connectivity_epochs(\n",
      "/var/folders/rf/xrxwkkr96qq6kyy5jfx9hvgw0000gn/T/ipykernel_4900/398803393.py:3: RuntimeWarning: fmin=4.000 Hz corresponds to 4.000 < 5 cycles based on the epoch length 1.000 sec, need at least 1.250 sec epochs or fmin=5.000. Spectrum estimate will be unreliable.\n",
      "  con = spectral_connectivity_epochs(\n",
      "/var/folders/rf/xrxwkkr96qq6kyy5jfx9hvgw0000gn/T/ipykernel_4900/398803393.py:3: RuntimeWarning: fmin=1.000 Hz corresponds to 1.000 < 5 cycles based on the epoch length 1.000 sec, need at least 5.000 sec epochs or fmin=5.000. Spectrum estimate will be unreliable.\n",
      "  con = spectral_connectivity_epochs(\n",
      "/var/folders/rf/xrxwkkr96qq6kyy5jfx9hvgw0000gn/T/ipykernel_4900/398803393.py:3: RuntimeWarning: fmin=4.000 Hz corresponds to 4.000 < 5 cycles based on the epoch length 1.000 sec, need at least 1.250 sec epochs or fmin=5.000. Spectrum estimate will be unreliable.\n",
      "  con = spectral_connectivity_epochs(\n",
      "/var/folders/rf/xrxwkkr96qq6kyy5jfx9hvgw0000gn/T/ipykernel_4900/398803393.py:3: RuntimeWarning: fmin=1.000 Hz corresponds to 1.000 < 5 cycles based on the epoch length 1.000 sec, need at least 5.000 sec epochs or fmin=5.000. Spectrum estimate will be unreliable.\n",
      "  con = spectral_connectivity_epochs(\n",
      "/var/folders/rf/xrxwkkr96qq6kyy5jfx9hvgw0000gn/T/ipykernel_4900/398803393.py:3: RuntimeWarning: fmin=4.000 Hz corresponds to 4.000 < 5 cycles based on the epoch length 1.000 sec, need at least 1.250 sec epochs or fmin=5.000. Spectrum estimate will be unreliable.\n",
      "  con = spectral_connectivity_epochs(\n",
      "/var/folders/rf/xrxwkkr96qq6kyy5jfx9hvgw0000gn/T/ipykernel_4900/398803393.py:3: RuntimeWarning: fmin=1.000 Hz corresponds to 1.000 < 5 cycles based on the epoch length 1.000 sec, need at least 5.000 sec epochs or fmin=5.000. Spectrum estimate will be unreliable.\n",
      "  con = spectral_connectivity_epochs(\n",
      "/var/folders/rf/xrxwkkr96qq6kyy5jfx9hvgw0000gn/T/ipykernel_4900/398803393.py:3: RuntimeWarning: fmin=4.000 Hz corresponds to 4.000 < 5 cycles based on the epoch length 1.000 sec, need at least 1.250 sec epochs or fmin=5.000. Spectrum estimate will be unreliable.\n",
      "  con = spectral_connectivity_epochs(\n",
      "/var/folders/rf/xrxwkkr96qq6kyy5jfx9hvgw0000gn/T/ipykernel_4900/398803393.py:3: RuntimeWarning: fmin=1.000 Hz corresponds to 1.000 < 5 cycles based on the epoch length 1.000 sec, need at least 5.000 sec epochs or fmin=5.000. Spectrum estimate will be unreliable.\n",
      "  con = spectral_connectivity_epochs(\n",
      "/var/folders/rf/xrxwkkr96qq6kyy5jfx9hvgw0000gn/T/ipykernel_4900/398803393.py:3: RuntimeWarning: fmin=4.000 Hz corresponds to 4.000 < 5 cycles based on the epoch length 1.000 sec, need at least 1.250 sec epochs or fmin=5.000. Spectrum estimate will be unreliable.\n",
      "  con = spectral_connectivity_epochs(\n",
      "/var/folders/rf/xrxwkkr96qq6kyy5jfx9hvgw0000gn/T/ipykernel_4900/398803393.py:3: RuntimeWarning: fmin=1.000 Hz corresponds to 1.000 < 5 cycles based on the epoch length 1.000 sec, need at least 5.000 sec epochs or fmin=5.000. Spectrum estimate will be unreliable.\n",
      "  con = spectral_connectivity_epochs(\n",
      "/var/folders/rf/xrxwkkr96qq6kyy5jfx9hvgw0000gn/T/ipykernel_4900/398803393.py:3: RuntimeWarning: fmin=4.000 Hz corresponds to 4.000 < 5 cycles based on the epoch length 1.000 sec, need at least 1.250 sec epochs or fmin=5.000. Spectrum estimate will be unreliable.\n",
      "  con = spectral_connectivity_epochs(\n",
      "/var/folders/rf/xrxwkkr96qq6kyy5jfx9hvgw0000gn/T/ipykernel_4900/398803393.py:3: RuntimeWarning: fmin=1.000 Hz corresponds to 1.000 < 5 cycles based on the epoch length 1.000 sec, need at least 5.000 sec epochs or fmin=5.000. Spectrum estimate will be unreliable.\n",
      "  con = spectral_connectivity_epochs(\n",
      "/var/folders/rf/xrxwkkr96qq6kyy5jfx9hvgw0000gn/T/ipykernel_4900/398803393.py:3: RuntimeWarning: fmin=4.000 Hz corresponds to 4.000 < 5 cycles based on the epoch length 1.000 sec, need at least 1.250 sec epochs or fmin=5.000. Spectrum estimate will be unreliable.\n",
      "  con = spectral_connectivity_epochs(\n",
      "/var/folders/rf/xrxwkkr96qq6kyy5jfx9hvgw0000gn/T/ipykernel_4900/398803393.py:3: RuntimeWarning: fmin=1.000 Hz corresponds to 1.000 < 5 cycles based on the epoch length 1.000 sec, need at least 5.000 sec epochs or fmin=5.000. Spectrum estimate will be unreliable.\n",
      "  con = spectral_connectivity_epochs(\n",
      "/var/folders/rf/xrxwkkr96qq6kyy5jfx9hvgw0000gn/T/ipykernel_4900/398803393.py:3: RuntimeWarning: fmin=4.000 Hz corresponds to 4.000 < 5 cycles based on the epoch length 1.000 sec, need at least 1.250 sec epochs or fmin=5.000. Spectrum estimate will be unreliable.\n",
      "  con = spectral_connectivity_epochs(\n"
     ]
    },
    {
     "name": "stdout",
     "output_type": "stream",
     "text": [
      "Done computing dpli connectivity.\n"
     ]
    },
    {
     "data": {
      "text/plain": [
       "        con  node1  node2      band  subject_id genotype\n",
       "0  0.488372  OFC_R     CG  $\\delta$       80625  DRD2-KO\n",
       "1  0.750000  OFC_R  STR_R  $\\delta$       80625  DRD2-KO\n",
       "2  0.575581  OFC_R   S1_L  $\\delta$       80625  DRD2-KO\n",
       "3  0.604651  OFC_R   S1_R  $\\delta$       80625  DRD2-KO\n",
       "4  0.534884  OFC_R   V1_R  $\\delta$       80625  DRD2-KO"
      ],
      "text/html": [
       "<div>\n",
       "<style scoped>\n",
       "    .dataframe tbody tr th:only-of-type {\n",
       "        vertical-align: middle;\n",
       "    }\n",
       "\n",
       "    .dataframe tbody tr th {\n",
       "        vertical-align: top;\n",
       "    }\n",
       "\n",
       "    .dataframe thead th {\n",
       "        text-align: right;\n",
       "    }\n",
       "</style>\n",
       "<table border=\"1\" class=\"dataframe\">\n",
       "  <thead>\n",
       "    <tr style=\"text-align: right;\">\n",
       "      <th></th>\n",
       "      <th>con</th>\n",
       "      <th>node1</th>\n",
       "      <th>node2</th>\n",
       "      <th>band</th>\n",
       "      <th>subject_id</th>\n",
       "      <th>genotype</th>\n",
       "    </tr>\n",
       "  </thead>\n",
       "  <tbody>\n",
       "    <tr>\n",
       "      <th>0</th>\n",
       "      <td>0.488372</td>\n",
       "      <td>OFC_R</td>\n",
       "      <td>CG</td>\n",
       "      <td>$\\delta$</td>\n",
       "      <td>80625</td>\n",
       "      <td>DRD2-KO</td>\n",
       "    </tr>\n",
       "    <tr>\n",
       "      <th>1</th>\n",
       "      <td>0.750000</td>\n",
       "      <td>OFC_R</td>\n",
       "      <td>STR_R</td>\n",
       "      <td>$\\delta$</td>\n",
       "      <td>80625</td>\n",
       "      <td>DRD2-KO</td>\n",
       "    </tr>\n",
       "    <tr>\n",
       "      <th>2</th>\n",
       "      <td>0.575581</td>\n",
       "      <td>OFC_R</td>\n",
       "      <td>S1_L</td>\n",
       "      <td>$\\delta$</td>\n",
       "      <td>80625</td>\n",
       "      <td>DRD2-KO</td>\n",
       "    </tr>\n",
       "    <tr>\n",
       "      <th>3</th>\n",
       "      <td>0.604651</td>\n",
       "      <td>OFC_R</td>\n",
       "      <td>S1_R</td>\n",
       "      <td>$\\delta$</td>\n",
       "      <td>80625</td>\n",
       "      <td>DRD2-KO</td>\n",
       "    </tr>\n",
       "    <tr>\n",
       "      <th>4</th>\n",
       "      <td>0.534884</td>\n",
       "      <td>OFC_R</td>\n",
       "      <td>V1_R</td>\n",
       "      <td>$\\delta$</td>\n",
       "      <td>80625</td>\n",
       "      <td>DRD2-KO</td>\n",
       "    </tr>\n",
       "  </tbody>\n",
       "</table>\n",
       "</div>"
      ]
     },
     "execution_count": 25,
     "metadata": {},
     "output_type": "execute_result"
    }
   ],
   "execution_count": 25
  },
  {
   "metadata": {
    "ExecuteTime": {
     "end_time": "2024-05-06T13:50:31.919359Z",
     "start_time": "2024-05-06T13:50:09.381988Z"
    }
   },
   "cell_type": "code",
   "source": [
    "generate_grid_plot_wt_vs_ko(dpli_social, 'social_cup', 'dpli')\n",
    "generate_grid_plot_wt_vs_ko(dpli_non_social, 'non-social_cup', 'dpli')"
   ],
   "id": "37d0acae1885e025",
   "outputs": [],
   "execution_count": 26
  },
  {
   "metadata": {
    "ExecuteTime": {
     "end_time": "2024-05-06T13:50:54.273661Z",
     "start_time": "2024-05-06T13:50:31.921444Z"
    }
   },
   "cell_type": "code",
   "source": [
    "generate_barplots(dpli_social, 'social_cup', 'dpli')\n",
    "generate_barplots(dpli_non_social, 'non-social_cup', 'dpli')"
   ],
   "id": "4f8b4c22e38fe4dc",
   "outputs": [],
   "execution_count": 27
  },
  {
   "metadata": {},
   "cell_type": "markdown",
   "source": "### Weighted Phase Lag Index (wPLI)",
   "id": "c049fa7c2f6bce1a"
  },
  {
   "metadata": {
    "ExecuteTime": {
     "end_time": "2024-05-06T13:51:06.753552Z",
     "start_time": "2024-05-06T13:50:54.279875Z"
    }
   },
   "cell_type": "code",
   "source": [
    "wpli_social = connectivity_df(all_subject_epochs, 'social_cup', \"wpli\")\n",
    "wpli_non_social = connectivity_df(all_subject_epochs, 'non-social_cup', \"wpli\")\n",
    "wpli_social.head()"
   ],
   "id": "5d17970e84910dd4",
   "outputs": [
    {
     "name": "stderr",
     "output_type": "stream",
     "text": [
      "/var/folders/rf/xrxwkkr96qq6kyy5jfx9hvgw0000gn/T/ipykernel_4900/398803393.py:3: RuntimeWarning: fmin=1.000 Hz corresponds to 1.000 < 5 cycles based on the epoch length 1.000 sec, need at least 5.000 sec epochs or fmin=5.000. Spectrum estimate will be unreliable.\n",
      "  con = spectral_connectivity_epochs(\n",
      "/var/folders/rf/xrxwkkr96qq6kyy5jfx9hvgw0000gn/T/ipykernel_4900/398803393.py:3: RuntimeWarning: fmin=4.000 Hz corresponds to 4.000 < 5 cycles based on the epoch length 1.000 sec, need at least 1.250 sec epochs or fmin=5.000. Spectrum estimate will be unreliable.\n",
      "  con = spectral_connectivity_epochs(\n",
      "/var/folders/rf/xrxwkkr96qq6kyy5jfx9hvgw0000gn/T/ipykernel_4900/398803393.py:3: RuntimeWarning: fmin=1.000 Hz corresponds to 1.000 < 5 cycles based on the epoch length 1.000 sec, need at least 5.000 sec epochs or fmin=5.000. Spectrum estimate will be unreliable.\n",
      "  con = spectral_connectivity_epochs(\n",
      "/var/folders/rf/xrxwkkr96qq6kyy5jfx9hvgw0000gn/T/ipykernel_4900/398803393.py:3: RuntimeWarning: fmin=4.000 Hz corresponds to 4.000 < 5 cycles based on the epoch length 1.000 sec, need at least 1.250 sec epochs or fmin=5.000. Spectrum estimate will be unreliable.\n",
      "  con = spectral_connectivity_epochs(\n",
      "/var/folders/rf/xrxwkkr96qq6kyy5jfx9hvgw0000gn/T/ipykernel_4900/398803393.py:3: RuntimeWarning: fmin=1.000 Hz corresponds to 1.000 < 5 cycles based on the epoch length 1.000 sec, need at least 5.000 sec epochs or fmin=5.000. Spectrum estimate will be unreliable.\n",
      "  con = spectral_connectivity_epochs(\n",
      "/var/folders/rf/xrxwkkr96qq6kyy5jfx9hvgw0000gn/T/ipykernel_4900/398803393.py:3: RuntimeWarning: fmin=4.000 Hz corresponds to 4.000 < 5 cycles based on the epoch length 1.000 sec, need at least 1.250 sec epochs or fmin=5.000. Spectrum estimate will be unreliable.\n",
      "  con = spectral_connectivity_epochs(\n",
      "/var/folders/rf/xrxwkkr96qq6kyy5jfx9hvgw0000gn/T/ipykernel_4900/398803393.py:3: RuntimeWarning: fmin=1.000 Hz corresponds to 1.000 < 5 cycles based on the epoch length 1.000 sec, need at least 5.000 sec epochs or fmin=5.000. Spectrum estimate will be unreliable.\n",
      "  con = spectral_connectivity_epochs(\n",
      "/var/folders/rf/xrxwkkr96qq6kyy5jfx9hvgw0000gn/T/ipykernel_4900/398803393.py:3: RuntimeWarning: fmin=4.000 Hz corresponds to 4.000 < 5 cycles based on the epoch length 1.000 sec, need at least 1.250 sec epochs or fmin=5.000. Spectrum estimate will be unreliable.\n",
      "  con = spectral_connectivity_epochs(\n",
      "/var/folders/rf/xrxwkkr96qq6kyy5jfx9hvgw0000gn/T/ipykernel_4900/398803393.py:3: RuntimeWarning: fmin=1.000 Hz corresponds to 1.000 < 5 cycles based on the epoch length 1.000 sec, need at least 5.000 sec epochs or fmin=5.000. Spectrum estimate will be unreliable.\n",
      "  con = spectral_connectivity_epochs(\n",
      "/var/folders/rf/xrxwkkr96qq6kyy5jfx9hvgw0000gn/T/ipykernel_4900/398803393.py:3: RuntimeWarning: fmin=4.000 Hz corresponds to 4.000 < 5 cycles based on the epoch length 1.000 sec, need at least 1.250 sec epochs or fmin=5.000. Spectrum estimate will be unreliable.\n",
      "  con = spectral_connectivity_epochs(\n",
      "/var/folders/rf/xrxwkkr96qq6kyy5jfx9hvgw0000gn/T/ipykernel_4900/398803393.py:3: RuntimeWarning: fmin=1.000 Hz corresponds to 1.000 < 5 cycles based on the epoch length 1.000 sec, need at least 5.000 sec epochs or fmin=5.000. Spectrum estimate will be unreliable.\n",
      "  con = spectral_connectivity_epochs(\n",
      "/var/folders/rf/xrxwkkr96qq6kyy5jfx9hvgw0000gn/T/ipykernel_4900/398803393.py:3: RuntimeWarning: fmin=4.000 Hz corresponds to 4.000 < 5 cycles based on the epoch length 1.000 sec, need at least 1.250 sec epochs or fmin=5.000. Spectrum estimate will be unreliable.\n",
      "  con = spectral_connectivity_epochs(\n",
      "/var/folders/rf/xrxwkkr96qq6kyy5jfx9hvgw0000gn/T/ipykernel_4900/398803393.py:3: RuntimeWarning: fmin=1.000 Hz corresponds to 1.000 < 5 cycles based on the epoch length 1.000 sec, need at least 5.000 sec epochs or fmin=5.000. Spectrum estimate will be unreliable.\n",
      "  con = spectral_connectivity_epochs(\n",
      "/var/folders/rf/xrxwkkr96qq6kyy5jfx9hvgw0000gn/T/ipykernel_4900/398803393.py:3: RuntimeWarning: fmin=4.000 Hz corresponds to 4.000 < 5 cycles based on the epoch length 1.000 sec, need at least 1.250 sec epochs or fmin=5.000. Spectrum estimate will be unreliable.\n",
      "  con = spectral_connectivity_epochs(\n",
      "/var/folders/rf/xrxwkkr96qq6kyy5jfx9hvgw0000gn/T/ipykernel_4900/398803393.py:3: RuntimeWarning: fmin=1.000 Hz corresponds to 1.000 < 5 cycles based on the epoch length 1.000 sec, need at least 5.000 sec epochs or fmin=5.000. Spectrum estimate will be unreliable.\n",
      "  con = spectral_connectivity_epochs(\n",
      "/var/folders/rf/xrxwkkr96qq6kyy5jfx9hvgw0000gn/T/ipykernel_4900/398803393.py:3: RuntimeWarning: fmin=4.000 Hz corresponds to 4.000 < 5 cycles based on the epoch length 1.000 sec, need at least 1.250 sec epochs or fmin=5.000. Spectrum estimate will be unreliable.\n",
      "  con = spectral_connectivity_epochs(\n",
      "/var/folders/rf/xrxwkkr96qq6kyy5jfx9hvgw0000gn/T/ipykernel_4900/398803393.py:3: RuntimeWarning: fmin=1.000 Hz corresponds to 1.000 < 5 cycles based on the epoch length 1.000 sec, need at least 5.000 sec epochs or fmin=5.000. Spectrum estimate will be unreliable.\n",
      "  con = spectral_connectivity_epochs(\n",
      "/var/folders/rf/xrxwkkr96qq6kyy5jfx9hvgw0000gn/T/ipykernel_4900/398803393.py:3: RuntimeWarning: fmin=4.000 Hz corresponds to 4.000 < 5 cycles based on the epoch length 1.000 sec, need at least 1.250 sec epochs or fmin=5.000. Spectrum estimate will be unreliable.\n",
      "  con = spectral_connectivity_epochs(\n",
      "/var/folders/rf/xrxwkkr96qq6kyy5jfx9hvgw0000gn/T/ipykernel_4900/398803393.py:3: RuntimeWarning: fmin=1.000 Hz corresponds to 1.000 < 5 cycles based on the epoch length 1.000 sec, need at least 5.000 sec epochs or fmin=5.000. Spectrum estimate will be unreliable.\n",
      "  con = spectral_connectivity_epochs(\n",
      "/var/folders/rf/xrxwkkr96qq6kyy5jfx9hvgw0000gn/T/ipykernel_4900/398803393.py:3: RuntimeWarning: fmin=4.000 Hz corresponds to 4.000 < 5 cycles based on the epoch length 1.000 sec, need at least 1.250 sec epochs or fmin=5.000. Spectrum estimate will be unreliable.\n",
      "  con = spectral_connectivity_epochs(\n",
      "/var/folders/rf/xrxwkkr96qq6kyy5jfx9hvgw0000gn/T/ipykernel_4900/398803393.py:3: RuntimeWarning: fmin=1.000 Hz corresponds to 1.000 < 5 cycles based on the epoch length 1.000 sec, need at least 5.000 sec epochs or fmin=5.000. Spectrum estimate will be unreliable.\n",
      "  con = spectral_connectivity_epochs(\n",
      "/var/folders/rf/xrxwkkr96qq6kyy5jfx9hvgw0000gn/T/ipykernel_4900/398803393.py:3: RuntimeWarning: fmin=4.000 Hz corresponds to 4.000 < 5 cycles based on the epoch length 1.000 sec, need at least 1.250 sec epochs or fmin=5.000. Spectrum estimate will be unreliable.\n",
      "  con = spectral_connectivity_epochs(\n",
      "/var/folders/rf/xrxwkkr96qq6kyy5jfx9hvgw0000gn/T/ipykernel_4900/398803393.py:3: RuntimeWarning: fmin=1.000 Hz corresponds to 1.000 < 5 cycles based on the epoch length 1.000 sec, need at least 5.000 sec epochs or fmin=5.000. Spectrum estimate will be unreliable.\n",
      "  con = spectral_connectivity_epochs(\n",
      "/var/folders/rf/xrxwkkr96qq6kyy5jfx9hvgw0000gn/T/ipykernel_4900/398803393.py:3: RuntimeWarning: fmin=4.000 Hz corresponds to 4.000 < 5 cycles based on the epoch length 1.000 sec, need at least 1.250 sec epochs or fmin=5.000. Spectrum estimate will be unreliable.\n",
      "  con = spectral_connectivity_epochs(\n",
      "/var/folders/rf/xrxwkkr96qq6kyy5jfx9hvgw0000gn/T/ipykernel_4900/398803393.py:3: RuntimeWarning: fmin=1.000 Hz corresponds to 1.000 < 5 cycles based on the epoch length 1.000 sec, need at least 5.000 sec epochs or fmin=5.000. Spectrum estimate will be unreliable.\n",
      "  con = spectral_connectivity_epochs(\n",
      "/var/folders/rf/xrxwkkr96qq6kyy5jfx9hvgw0000gn/T/ipykernel_4900/398803393.py:3: RuntimeWarning: fmin=4.000 Hz corresponds to 4.000 < 5 cycles based on the epoch length 1.000 sec, need at least 1.250 sec epochs or fmin=5.000. Spectrum estimate will be unreliable.\n",
      "  con = spectral_connectivity_epochs(\n",
      "/var/folders/rf/xrxwkkr96qq6kyy5jfx9hvgw0000gn/T/ipykernel_4900/398803393.py:3: RuntimeWarning: fmin=1.000 Hz corresponds to 1.000 < 5 cycles based on the epoch length 1.000 sec, need at least 5.000 sec epochs or fmin=5.000. Spectrum estimate will be unreliable.\n",
      "  con = spectral_connectivity_epochs(\n",
      "/var/folders/rf/xrxwkkr96qq6kyy5jfx9hvgw0000gn/T/ipykernel_4900/398803393.py:3: RuntimeWarning: fmin=4.000 Hz corresponds to 4.000 < 5 cycles based on the epoch length 1.000 sec, need at least 1.250 sec epochs or fmin=5.000. Spectrum estimate will be unreliable.\n",
      "  con = spectral_connectivity_epochs(\n",
      "/var/folders/rf/xrxwkkr96qq6kyy5jfx9hvgw0000gn/T/ipykernel_4900/398803393.py:3: RuntimeWarning: fmin=1.000 Hz corresponds to 1.000 < 5 cycles based on the epoch length 1.000 sec, need at least 5.000 sec epochs or fmin=5.000. Spectrum estimate will be unreliable.\n",
      "  con = spectral_connectivity_epochs(\n",
      "/var/folders/rf/xrxwkkr96qq6kyy5jfx9hvgw0000gn/T/ipykernel_4900/398803393.py:3: RuntimeWarning: fmin=4.000 Hz corresponds to 4.000 < 5 cycles based on the epoch length 1.000 sec, need at least 1.250 sec epochs or fmin=5.000. Spectrum estimate will be unreliable.\n",
      "  con = spectral_connectivity_epochs(\n",
      "/var/folders/rf/xrxwkkr96qq6kyy5jfx9hvgw0000gn/T/ipykernel_4900/398803393.py:3: RuntimeWarning: fmin=1.000 Hz corresponds to 1.000 < 5 cycles based on the epoch length 1.000 sec, need at least 5.000 sec epochs or fmin=5.000. Spectrum estimate will be unreliable.\n",
      "  con = spectral_connectivity_epochs(\n",
      "/var/folders/rf/xrxwkkr96qq6kyy5jfx9hvgw0000gn/T/ipykernel_4900/398803393.py:3: RuntimeWarning: fmin=4.000 Hz corresponds to 4.000 < 5 cycles based on the epoch length 1.000 sec, need at least 1.250 sec epochs or fmin=5.000. Spectrum estimate will be unreliable.\n",
      "  con = spectral_connectivity_epochs(\n",
      "/var/folders/rf/xrxwkkr96qq6kyy5jfx9hvgw0000gn/T/ipykernel_4900/398803393.py:3: RuntimeWarning: fmin=1.000 Hz corresponds to 1.000 < 5 cycles based on the epoch length 1.000 sec, need at least 5.000 sec epochs or fmin=5.000. Spectrum estimate will be unreliable.\n",
      "  con = spectral_connectivity_epochs(\n",
      "/var/folders/rf/xrxwkkr96qq6kyy5jfx9hvgw0000gn/T/ipykernel_4900/398803393.py:3: RuntimeWarning: fmin=4.000 Hz corresponds to 4.000 < 5 cycles based on the epoch length 1.000 sec, need at least 1.250 sec epochs or fmin=5.000. Spectrum estimate will be unreliable.\n",
      "  con = spectral_connectivity_epochs(\n"
     ]
    },
    {
     "name": "stdout",
     "output_type": "stream",
     "text": [
      "Done computing wpli connectivity.\n"
     ]
    },
    {
     "name": "stderr",
     "output_type": "stream",
     "text": [
      "/var/folders/rf/xrxwkkr96qq6kyy5jfx9hvgw0000gn/T/ipykernel_4900/398803393.py:3: RuntimeWarning: fmin=1.000 Hz corresponds to 1.000 < 5 cycles based on the epoch length 1.000 sec, need at least 5.000 sec epochs or fmin=5.000. Spectrum estimate will be unreliable.\n",
      "  con = spectral_connectivity_epochs(\n",
      "/var/folders/rf/xrxwkkr96qq6kyy5jfx9hvgw0000gn/T/ipykernel_4900/398803393.py:3: RuntimeWarning: fmin=4.000 Hz corresponds to 4.000 < 5 cycles based on the epoch length 1.000 sec, need at least 1.250 sec epochs or fmin=5.000. Spectrum estimate will be unreliable.\n",
      "  con = spectral_connectivity_epochs(\n",
      "/var/folders/rf/xrxwkkr96qq6kyy5jfx9hvgw0000gn/T/ipykernel_4900/398803393.py:3: RuntimeWarning: fmin=1.000 Hz corresponds to 1.000 < 5 cycles based on the epoch length 1.000 sec, need at least 5.000 sec epochs or fmin=5.000. Spectrum estimate will be unreliable.\n",
      "  con = spectral_connectivity_epochs(\n",
      "/var/folders/rf/xrxwkkr96qq6kyy5jfx9hvgw0000gn/T/ipykernel_4900/398803393.py:3: RuntimeWarning: fmin=4.000 Hz corresponds to 4.000 < 5 cycles based on the epoch length 1.000 sec, need at least 1.250 sec epochs or fmin=5.000. Spectrum estimate will be unreliable.\n",
      "  con = spectral_connectivity_epochs(\n",
      "/var/folders/rf/xrxwkkr96qq6kyy5jfx9hvgw0000gn/T/ipykernel_4900/398803393.py:3: RuntimeWarning: fmin=1.000 Hz corresponds to 1.000 < 5 cycles based on the epoch length 1.000 sec, need at least 5.000 sec epochs or fmin=5.000. Spectrum estimate will be unreliable.\n",
      "  con = spectral_connectivity_epochs(\n",
      "/var/folders/rf/xrxwkkr96qq6kyy5jfx9hvgw0000gn/T/ipykernel_4900/398803393.py:3: RuntimeWarning: fmin=4.000 Hz corresponds to 4.000 < 5 cycles based on the epoch length 1.000 sec, need at least 1.250 sec epochs or fmin=5.000. Spectrum estimate will be unreliable.\n",
      "  con = spectral_connectivity_epochs(\n",
      "/var/folders/rf/xrxwkkr96qq6kyy5jfx9hvgw0000gn/T/ipykernel_4900/398803393.py:3: RuntimeWarning: fmin=1.000 Hz corresponds to 1.000 < 5 cycles based on the epoch length 1.000 sec, need at least 5.000 sec epochs or fmin=5.000. Spectrum estimate will be unreliable.\n",
      "  con = spectral_connectivity_epochs(\n",
      "/var/folders/rf/xrxwkkr96qq6kyy5jfx9hvgw0000gn/T/ipykernel_4900/398803393.py:3: RuntimeWarning: fmin=4.000 Hz corresponds to 4.000 < 5 cycles based on the epoch length 1.000 sec, need at least 1.250 sec epochs or fmin=5.000. Spectrum estimate will be unreliable.\n",
      "  con = spectral_connectivity_epochs(\n",
      "/var/folders/rf/xrxwkkr96qq6kyy5jfx9hvgw0000gn/T/ipykernel_4900/398803393.py:3: RuntimeWarning: fmin=1.000 Hz corresponds to 1.000 < 5 cycles based on the epoch length 1.000 sec, need at least 5.000 sec epochs or fmin=5.000. Spectrum estimate will be unreliable.\n",
      "  con = spectral_connectivity_epochs(\n",
      "/var/folders/rf/xrxwkkr96qq6kyy5jfx9hvgw0000gn/T/ipykernel_4900/398803393.py:3: RuntimeWarning: fmin=4.000 Hz corresponds to 4.000 < 5 cycles based on the epoch length 1.000 sec, need at least 1.250 sec epochs or fmin=5.000. Spectrum estimate will be unreliable.\n",
      "  con = spectral_connectivity_epochs(\n",
      "/var/folders/rf/xrxwkkr96qq6kyy5jfx9hvgw0000gn/T/ipykernel_4900/398803393.py:3: RuntimeWarning: fmin=1.000 Hz corresponds to 1.000 < 5 cycles based on the epoch length 1.000 sec, need at least 5.000 sec epochs or fmin=5.000. Spectrum estimate will be unreliable.\n",
      "  con = spectral_connectivity_epochs(\n",
      "/var/folders/rf/xrxwkkr96qq6kyy5jfx9hvgw0000gn/T/ipykernel_4900/398803393.py:3: RuntimeWarning: fmin=4.000 Hz corresponds to 4.000 < 5 cycles based on the epoch length 1.000 sec, need at least 1.250 sec epochs or fmin=5.000. Spectrum estimate will be unreliable.\n",
      "  con = spectral_connectivity_epochs(\n",
      "/var/folders/rf/xrxwkkr96qq6kyy5jfx9hvgw0000gn/T/ipykernel_4900/398803393.py:3: RuntimeWarning: fmin=1.000 Hz corresponds to 1.000 < 5 cycles based on the epoch length 1.000 sec, need at least 5.000 sec epochs or fmin=5.000. Spectrum estimate will be unreliable.\n",
      "  con = spectral_connectivity_epochs(\n",
      "/var/folders/rf/xrxwkkr96qq6kyy5jfx9hvgw0000gn/T/ipykernel_4900/398803393.py:3: RuntimeWarning: fmin=4.000 Hz corresponds to 4.000 < 5 cycles based on the epoch length 1.000 sec, need at least 1.250 sec epochs or fmin=5.000. Spectrum estimate will be unreliable.\n",
      "  con = spectral_connectivity_epochs(\n",
      "/var/folders/rf/xrxwkkr96qq6kyy5jfx9hvgw0000gn/T/ipykernel_4900/398803393.py:3: RuntimeWarning: fmin=1.000 Hz corresponds to 1.000 < 5 cycles based on the epoch length 1.000 sec, need at least 5.000 sec epochs or fmin=5.000. Spectrum estimate will be unreliable.\n",
      "  con = spectral_connectivity_epochs(\n",
      "/var/folders/rf/xrxwkkr96qq6kyy5jfx9hvgw0000gn/T/ipykernel_4900/398803393.py:3: RuntimeWarning: fmin=4.000 Hz corresponds to 4.000 < 5 cycles based on the epoch length 1.000 sec, need at least 1.250 sec epochs or fmin=5.000. Spectrum estimate will be unreliable.\n",
      "  con = spectral_connectivity_epochs(\n",
      "/var/folders/rf/xrxwkkr96qq6kyy5jfx9hvgw0000gn/T/ipykernel_4900/398803393.py:3: RuntimeWarning: fmin=1.000 Hz corresponds to 1.000 < 5 cycles based on the epoch length 1.000 sec, need at least 5.000 sec epochs or fmin=5.000. Spectrum estimate will be unreliable.\n",
      "  con = spectral_connectivity_epochs(\n",
      "/var/folders/rf/xrxwkkr96qq6kyy5jfx9hvgw0000gn/T/ipykernel_4900/398803393.py:3: RuntimeWarning: fmin=4.000 Hz corresponds to 4.000 < 5 cycles based on the epoch length 1.000 sec, need at least 1.250 sec epochs or fmin=5.000. Spectrum estimate will be unreliable.\n",
      "  con = spectral_connectivity_epochs(\n",
      "/var/folders/rf/xrxwkkr96qq6kyy5jfx9hvgw0000gn/T/ipykernel_4900/398803393.py:3: RuntimeWarning: fmin=1.000 Hz corresponds to 1.000 < 5 cycles based on the epoch length 1.000 sec, need at least 5.000 sec epochs or fmin=5.000. Spectrum estimate will be unreliable.\n",
      "  con = spectral_connectivity_epochs(\n",
      "/var/folders/rf/xrxwkkr96qq6kyy5jfx9hvgw0000gn/T/ipykernel_4900/398803393.py:3: RuntimeWarning: fmin=4.000 Hz corresponds to 4.000 < 5 cycles based on the epoch length 1.000 sec, need at least 1.250 sec epochs or fmin=5.000. Spectrum estimate will be unreliable.\n",
      "  con = spectral_connectivity_epochs(\n",
      "/var/folders/rf/xrxwkkr96qq6kyy5jfx9hvgw0000gn/T/ipykernel_4900/398803393.py:3: RuntimeWarning: fmin=1.000 Hz corresponds to 1.000 < 5 cycles based on the epoch length 1.000 sec, need at least 5.000 sec epochs or fmin=5.000. Spectrum estimate will be unreliable.\n",
      "  con = spectral_connectivity_epochs(\n",
      "/var/folders/rf/xrxwkkr96qq6kyy5jfx9hvgw0000gn/T/ipykernel_4900/398803393.py:3: RuntimeWarning: fmin=4.000 Hz corresponds to 4.000 < 5 cycles based on the epoch length 1.000 sec, need at least 1.250 sec epochs or fmin=5.000. Spectrum estimate will be unreliable.\n",
      "  con = spectral_connectivity_epochs(\n",
      "/var/folders/rf/xrxwkkr96qq6kyy5jfx9hvgw0000gn/T/ipykernel_4900/398803393.py:3: RuntimeWarning: fmin=1.000 Hz corresponds to 1.000 < 5 cycles based on the epoch length 1.000 sec, need at least 5.000 sec epochs or fmin=5.000. Spectrum estimate will be unreliable.\n",
      "  con = spectral_connectivity_epochs(\n",
      "/var/folders/rf/xrxwkkr96qq6kyy5jfx9hvgw0000gn/T/ipykernel_4900/398803393.py:3: RuntimeWarning: fmin=4.000 Hz corresponds to 4.000 < 5 cycles based on the epoch length 1.000 sec, need at least 1.250 sec epochs or fmin=5.000. Spectrum estimate will be unreliable.\n",
      "  con = spectral_connectivity_epochs(\n",
      "/var/folders/rf/xrxwkkr96qq6kyy5jfx9hvgw0000gn/T/ipykernel_4900/398803393.py:3: RuntimeWarning: fmin=1.000 Hz corresponds to 1.000 < 5 cycles based on the epoch length 1.000 sec, need at least 5.000 sec epochs or fmin=5.000. Spectrum estimate will be unreliable.\n",
      "  con = spectral_connectivity_epochs(\n",
      "/var/folders/rf/xrxwkkr96qq6kyy5jfx9hvgw0000gn/T/ipykernel_4900/398803393.py:3: RuntimeWarning: fmin=4.000 Hz corresponds to 4.000 < 5 cycles based on the epoch length 1.000 sec, need at least 1.250 sec epochs or fmin=5.000. Spectrum estimate will be unreliable.\n",
      "  con = spectral_connectivity_epochs(\n",
      "/var/folders/rf/xrxwkkr96qq6kyy5jfx9hvgw0000gn/T/ipykernel_4900/398803393.py:3: RuntimeWarning: fmin=1.000 Hz corresponds to 1.000 < 5 cycles based on the epoch length 1.000 sec, need at least 5.000 sec epochs or fmin=5.000. Spectrum estimate will be unreliable.\n",
      "  con = spectral_connectivity_epochs(\n",
      "/var/folders/rf/xrxwkkr96qq6kyy5jfx9hvgw0000gn/T/ipykernel_4900/398803393.py:3: RuntimeWarning: fmin=4.000 Hz corresponds to 4.000 < 5 cycles based on the epoch length 1.000 sec, need at least 1.250 sec epochs or fmin=5.000. Spectrum estimate will be unreliable.\n",
      "  con = spectral_connectivity_epochs(\n",
      "/var/folders/rf/xrxwkkr96qq6kyy5jfx9hvgw0000gn/T/ipykernel_4900/398803393.py:3: RuntimeWarning: fmin=1.000 Hz corresponds to 1.000 < 5 cycles based on the epoch length 1.000 sec, need at least 5.000 sec epochs or fmin=5.000. Spectrum estimate will be unreliable.\n",
      "  con = spectral_connectivity_epochs(\n",
      "/var/folders/rf/xrxwkkr96qq6kyy5jfx9hvgw0000gn/T/ipykernel_4900/398803393.py:3: RuntimeWarning: fmin=4.000 Hz corresponds to 4.000 < 5 cycles based on the epoch length 1.000 sec, need at least 1.250 sec epochs or fmin=5.000. Spectrum estimate will be unreliable.\n",
      "  con = spectral_connectivity_epochs(\n",
      "/var/folders/rf/xrxwkkr96qq6kyy5jfx9hvgw0000gn/T/ipykernel_4900/398803393.py:3: RuntimeWarning: fmin=1.000 Hz corresponds to 1.000 < 5 cycles based on the epoch length 1.000 sec, need at least 5.000 sec epochs or fmin=5.000. Spectrum estimate will be unreliable.\n",
      "  con = spectral_connectivity_epochs(\n",
      "/var/folders/rf/xrxwkkr96qq6kyy5jfx9hvgw0000gn/T/ipykernel_4900/398803393.py:3: RuntimeWarning: fmin=4.000 Hz corresponds to 4.000 < 5 cycles based on the epoch length 1.000 sec, need at least 1.250 sec epochs or fmin=5.000. Spectrum estimate will be unreliable.\n",
      "  con = spectral_connectivity_epochs(\n"
     ]
    },
    {
     "name": "stdout",
     "output_type": "stream",
     "text": [
      "Done computing wpli connectivity.\n"
     ]
    },
    {
     "name": "stderr",
     "output_type": "stream",
     "text": [
      "/var/folders/rf/xrxwkkr96qq6kyy5jfx9hvgw0000gn/T/ipykernel_4900/398803393.py:3: RuntimeWarning: fmin=1.000 Hz corresponds to 1.000 < 5 cycles based on the epoch length 1.000 sec, need at least 5.000 sec epochs or fmin=5.000. Spectrum estimate will be unreliable.\n",
      "  con = spectral_connectivity_epochs(\n",
      "/var/folders/rf/xrxwkkr96qq6kyy5jfx9hvgw0000gn/T/ipykernel_4900/398803393.py:3: RuntimeWarning: fmin=4.000 Hz corresponds to 4.000 < 5 cycles based on the epoch length 1.000 sec, need at least 1.250 sec epochs or fmin=5.000. Spectrum estimate will be unreliable.\n",
      "  con = spectral_connectivity_epochs(\n"
     ]
    },
    {
     "data": {
      "text/plain": [
       "        con  node1  node2      band  subject_id genotype\n",
       "0  0.143111  OFC_R     CG  $\\delta$       80625  DRD2-KO\n",
       "1  0.720245  OFC_R  STR_R  $\\delta$       80625  DRD2-KO\n",
       "2  0.236150  OFC_R   S1_L  $\\delta$       80625  DRD2-KO\n",
       "3  0.248898  OFC_R   S1_R  $\\delta$       80625  DRD2-KO\n",
       "4  0.245634  OFC_R   V1_R  $\\delta$       80625  DRD2-KO"
      ],
      "text/html": [
       "<div>\n",
       "<style scoped>\n",
       "    .dataframe tbody tr th:only-of-type {\n",
       "        vertical-align: middle;\n",
       "    }\n",
       "\n",
       "    .dataframe tbody tr th {\n",
       "        vertical-align: top;\n",
       "    }\n",
       "\n",
       "    .dataframe thead th {\n",
       "        text-align: right;\n",
       "    }\n",
       "</style>\n",
       "<table border=\"1\" class=\"dataframe\">\n",
       "  <thead>\n",
       "    <tr style=\"text-align: right;\">\n",
       "      <th></th>\n",
       "      <th>con</th>\n",
       "      <th>node1</th>\n",
       "      <th>node2</th>\n",
       "      <th>band</th>\n",
       "      <th>subject_id</th>\n",
       "      <th>genotype</th>\n",
       "    </tr>\n",
       "  </thead>\n",
       "  <tbody>\n",
       "    <tr>\n",
       "      <th>0</th>\n",
       "      <td>0.143111</td>\n",
       "      <td>OFC_R</td>\n",
       "      <td>CG</td>\n",
       "      <td>$\\delta$</td>\n",
       "      <td>80625</td>\n",
       "      <td>DRD2-KO</td>\n",
       "    </tr>\n",
       "    <tr>\n",
       "      <th>1</th>\n",
       "      <td>0.720245</td>\n",
       "      <td>OFC_R</td>\n",
       "      <td>STR_R</td>\n",
       "      <td>$\\delta$</td>\n",
       "      <td>80625</td>\n",
       "      <td>DRD2-KO</td>\n",
       "    </tr>\n",
       "    <tr>\n",
       "      <th>2</th>\n",
       "      <td>0.236150</td>\n",
       "      <td>OFC_R</td>\n",
       "      <td>S1_L</td>\n",
       "      <td>$\\delta$</td>\n",
       "      <td>80625</td>\n",
       "      <td>DRD2-KO</td>\n",
       "    </tr>\n",
       "    <tr>\n",
       "      <th>3</th>\n",
       "      <td>0.248898</td>\n",
       "      <td>OFC_R</td>\n",
       "      <td>S1_R</td>\n",
       "      <td>$\\delta$</td>\n",
       "      <td>80625</td>\n",
       "      <td>DRD2-KO</td>\n",
       "    </tr>\n",
       "    <tr>\n",
       "      <th>4</th>\n",
       "      <td>0.245634</td>\n",
       "      <td>OFC_R</td>\n",
       "      <td>V1_R</td>\n",
       "      <td>$\\delta$</td>\n",
       "      <td>80625</td>\n",
       "      <td>DRD2-KO</td>\n",
       "    </tr>\n",
       "  </tbody>\n",
       "</table>\n",
       "</div>"
      ]
     },
     "execution_count": 28,
     "metadata": {},
     "output_type": "execute_result"
    }
   ],
   "execution_count": 28
  },
  {
   "metadata": {
    "ExecuteTime": {
     "end_time": "2024-05-06T13:51:27.809536Z",
     "start_time": "2024-05-06T13:51:06.756607Z"
    }
   },
   "cell_type": "code",
   "source": [
    "generate_grid_plot_wt_vs_ko(wpli_social, 'social_cup', 'wpli')\n",
    "generate_grid_plot_wt_vs_ko(wpli_non_social, 'non-social_cup', 'wpli')"
   ],
   "id": "17ccd8374db6bc72",
   "outputs": [],
   "execution_count": 29
  },
  {
   "metadata": {
    "ExecuteTime": {
     "end_time": "2024-05-06T13:51:44.214778Z",
     "start_time": "2024-05-06T13:51:27.812044Z"
    }
   },
   "cell_type": "code",
   "source": [
    "generate_barplots(wpli_social, 'social_cup', 'wpli')\n",
    "generate_barplots(wpli_non_social, 'non-social_cup', 'wpli')"
   ],
   "id": "2523b9fc064a4611",
   "outputs": [],
   "execution_count": 30
  },
  {
   "metadata": {},
   "cell_type": "markdown",
   "source": "### Debiased estimator of squared WPLI (wPLI-2 debiased)",
   "id": "c0a6139f1c17b6e3"
  },
  {
   "metadata": {
    "ExecuteTime": {
     "end_time": "2024-05-06T13:51:54.668011Z",
     "start_time": "2024-05-06T13:51:44.217515Z"
    }
   },
   "cell_type": "code",
   "source": [
    "wpli2_social = connectivity_df(all_subject_epochs, 'social_cup', \"wpli2_debiased\")\n",
    "wpli2_non_social = connectivity_df(all_subject_epochs, 'non-social_cup', \"wpli2_debiased\")\n",
    "wpli2_social.head()"
   ],
   "id": "b12f360657f54c64",
   "outputs": [
    {
     "name": "stderr",
     "output_type": "stream",
     "text": [
      "/var/folders/rf/xrxwkkr96qq6kyy5jfx9hvgw0000gn/T/ipykernel_4900/398803393.py:3: RuntimeWarning: fmin=1.000 Hz corresponds to 1.000 < 5 cycles based on the epoch length 1.000 sec, need at least 5.000 sec epochs or fmin=5.000. Spectrum estimate will be unreliable.\n",
      "  con = spectral_connectivity_epochs(\n",
      "/var/folders/rf/xrxwkkr96qq6kyy5jfx9hvgw0000gn/T/ipykernel_4900/398803393.py:3: RuntimeWarning: fmin=4.000 Hz corresponds to 4.000 < 5 cycles based on the epoch length 1.000 sec, need at least 1.250 sec epochs or fmin=5.000. Spectrum estimate will be unreliable.\n",
      "  con = spectral_connectivity_epochs(\n",
      "/var/folders/rf/xrxwkkr96qq6kyy5jfx9hvgw0000gn/T/ipykernel_4900/398803393.py:3: RuntimeWarning: fmin=1.000 Hz corresponds to 1.000 < 5 cycles based on the epoch length 1.000 sec, need at least 5.000 sec epochs or fmin=5.000. Spectrum estimate will be unreliable.\n",
      "  con = spectral_connectivity_epochs(\n",
      "/var/folders/rf/xrxwkkr96qq6kyy5jfx9hvgw0000gn/T/ipykernel_4900/398803393.py:3: RuntimeWarning: fmin=4.000 Hz corresponds to 4.000 < 5 cycles based on the epoch length 1.000 sec, need at least 1.250 sec epochs or fmin=5.000. Spectrum estimate will be unreliable.\n",
      "  con = spectral_connectivity_epochs(\n",
      "/var/folders/rf/xrxwkkr96qq6kyy5jfx9hvgw0000gn/T/ipykernel_4900/398803393.py:3: RuntimeWarning: fmin=1.000 Hz corresponds to 1.000 < 5 cycles based on the epoch length 1.000 sec, need at least 5.000 sec epochs or fmin=5.000. Spectrum estimate will be unreliable.\n",
      "  con = spectral_connectivity_epochs(\n",
      "/var/folders/rf/xrxwkkr96qq6kyy5jfx9hvgw0000gn/T/ipykernel_4900/398803393.py:3: RuntimeWarning: fmin=4.000 Hz corresponds to 4.000 < 5 cycles based on the epoch length 1.000 sec, need at least 1.250 sec epochs or fmin=5.000. Spectrum estimate will be unreliable.\n",
      "  con = spectral_connectivity_epochs(\n",
      "/var/folders/rf/xrxwkkr96qq6kyy5jfx9hvgw0000gn/T/ipykernel_4900/398803393.py:3: RuntimeWarning: fmin=1.000 Hz corresponds to 1.000 < 5 cycles based on the epoch length 1.000 sec, need at least 5.000 sec epochs or fmin=5.000. Spectrum estimate will be unreliable.\n",
      "  con = spectral_connectivity_epochs(\n",
      "/var/folders/rf/xrxwkkr96qq6kyy5jfx9hvgw0000gn/T/ipykernel_4900/398803393.py:3: RuntimeWarning: fmin=4.000 Hz corresponds to 4.000 < 5 cycles based on the epoch length 1.000 sec, need at least 1.250 sec epochs or fmin=5.000. Spectrum estimate will be unreliable.\n",
      "  con = spectral_connectivity_epochs(\n",
      "/var/folders/rf/xrxwkkr96qq6kyy5jfx9hvgw0000gn/T/ipykernel_4900/398803393.py:3: RuntimeWarning: fmin=1.000 Hz corresponds to 1.000 < 5 cycles based on the epoch length 1.000 sec, need at least 5.000 sec epochs or fmin=5.000. Spectrum estimate will be unreliable.\n",
      "  con = spectral_connectivity_epochs(\n",
      "/var/folders/rf/xrxwkkr96qq6kyy5jfx9hvgw0000gn/T/ipykernel_4900/398803393.py:3: RuntimeWarning: fmin=4.000 Hz corresponds to 4.000 < 5 cycles based on the epoch length 1.000 sec, need at least 1.250 sec epochs or fmin=5.000. Spectrum estimate will be unreliable.\n",
      "  con = spectral_connectivity_epochs(\n",
      "/var/folders/rf/xrxwkkr96qq6kyy5jfx9hvgw0000gn/T/ipykernel_4900/398803393.py:3: RuntimeWarning: fmin=1.000 Hz corresponds to 1.000 < 5 cycles based on the epoch length 1.000 sec, need at least 5.000 sec epochs or fmin=5.000. Spectrum estimate will be unreliable.\n",
      "  con = spectral_connectivity_epochs(\n",
      "/var/folders/rf/xrxwkkr96qq6kyy5jfx9hvgw0000gn/T/ipykernel_4900/398803393.py:3: RuntimeWarning: fmin=4.000 Hz corresponds to 4.000 < 5 cycles based on the epoch length 1.000 sec, need at least 1.250 sec epochs or fmin=5.000. Spectrum estimate will be unreliable.\n",
      "  con = spectral_connectivity_epochs(\n",
      "/var/folders/rf/xrxwkkr96qq6kyy5jfx9hvgw0000gn/T/ipykernel_4900/398803393.py:3: RuntimeWarning: fmin=1.000 Hz corresponds to 1.000 < 5 cycles based on the epoch length 1.000 sec, need at least 5.000 sec epochs or fmin=5.000. Spectrum estimate will be unreliable.\n",
      "  con = spectral_connectivity_epochs(\n",
      "/var/folders/rf/xrxwkkr96qq6kyy5jfx9hvgw0000gn/T/ipykernel_4900/398803393.py:3: RuntimeWarning: fmin=4.000 Hz corresponds to 4.000 < 5 cycles based on the epoch length 1.000 sec, need at least 1.250 sec epochs or fmin=5.000. Spectrum estimate will be unreliable.\n",
      "  con = spectral_connectivity_epochs(\n",
      "/var/folders/rf/xrxwkkr96qq6kyy5jfx9hvgw0000gn/T/ipykernel_4900/398803393.py:3: RuntimeWarning: fmin=1.000 Hz corresponds to 1.000 < 5 cycles based on the epoch length 1.000 sec, need at least 5.000 sec epochs or fmin=5.000. Spectrum estimate will be unreliable.\n",
      "  con = spectral_connectivity_epochs(\n",
      "/var/folders/rf/xrxwkkr96qq6kyy5jfx9hvgw0000gn/T/ipykernel_4900/398803393.py:3: RuntimeWarning: fmin=4.000 Hz corresponds to 4.000 < 5 cycles based on the epoch length 1.000 sec, need at least 1.250 sec epochs or fmin=5.000. Spectrum estimate will be unreliable.\n",
      "  con = spectral_connectivity_epochs(\n",
      "/var/folders/rf/xrxwkkr96qq6kyy5jfx9hvgw0000gn/T/ipykernel_4900/398803393.py:3: RuntimeWarning: fmin=1.000 Hz corresponds to 1.000 < 5 cycles based on the epoch length 1.000 sec, need at least 5.000 sec epochs or fmin=5.000. Spectrum estimate will be unreliable.\n",
      "  con = spectral_connectivity_epochs(\n",
      "/var/folders/rf/xrxwkkr96qq6kyy5jfx9hvgw0000gn/T/ipykernel_4900/398803393.py:3: RuntimeWarning: fmin=4.000 Hz corresponds to 4.000 < 5 cycles based on the epoch length 1.000 sec, need at least 1.250 sec epochs or fmin=5.000. Spectrum estimate will be unreliable.\n",
      "  con = spectral_connectivity_epochs(\n",
      "/var/folders/rf/xrxwkkr96qq6kyy5jfx9hvgw0000gn/T/ipykernel_4900/398803393.py:3: RuntimeWarning: fmin=1.000 Hz corresponds to 1.000 < 5 cycles based on the epoch length 1.000 sec, need at least 5.000 sec epochs or fmin=5.000. Spectrum estimate will be unreliable.\n",
      "  con = spectral_connectivity_epochs(\n",
      "/var/folders/rf/xrxwkkr96qq6kyy5jfx9hvgw0000gn/T/ipykernel_4900/398803393.py:3: RuntimeWarning: fmin=4.000 Hz corresponds to 4.000 < 5 cycles based on the epoch length 1.000 sec, need at least 1.250 sec epochs or fmin=5.000. Spectrum estimate will be unreliable.\n",
      "  con = spectral_connectivity_epochs(\n",
      "/var/folders/rf/xrxwkkr96qq6kyy5jfx9hvgw0000gn/T/ipykernel_4900/398803393.py:3: RuntimeWarning: fmin=1.000 Hz corresponds to 1.000 < 5 cycles based on the epoch length 1.000 sec, need at least 5.000 sec epochs or fmin=5.000. Spectrum estimate will be unreliable.\n",
      "  con = spectral_connectivity_epochs(\n",
      "/var/folders/rf/xrxwkkr96qq6kyy5jfx9hvgw0000gn/T/ipykernel_4900/398803393.py:3: RuntimeWarning: fmin=4.000 Hz corresponds to 4.000 < 5 cycles based on the epoch length 1.000 sec, need at least 1.250 sec epochs or fmin=5.000. Spectrum estimate will be unreliable.\n",
      "  con = spectral_connectivity_epochs(\n",
      "/var/folders/rf/xrxwkkr96qq6kyy5jfx9hvgw0000gn/T/ipykernel_4900/398803393.py:3: RuntimeWarning: fmin=1.000 Hz corresponds to 1.000 < 5 cycles based on the epoch length 1.000 sec, need at least 5.000 sec epochs or fmin=5.000. Spectrum estimate will be unreliable.\n",
      "  con = spectral_connectivity_epochs(\n",
      "/var/folders/rf/xrxwkkr96qq6kyy5jfx9hvgw0000gn/T/ipykernel_4900/398803393.py:3: RuntimeWarning: fmin=4.000 Hz corresponds to 4.000 < 5 cycles based on the epoch length 1.000 sec, need at least 1.250 sec epochs or fmin=5.000. Spectrum estimate will be unreliable.\n",
      "  con = spectral_connectivity_epochs(\n",
      "/var/folders/rf/xrxwkkr96qq6kyy5jfx9hvgw0000gn/T/ipykernel_4900/398803393.py:3: RuntimeWarning: fmin=1.000 Hz corresponds to 1.000 < 5 cycles based on the epoch length 1.000 sec, need at least 5.000 sec epochs or fmin=5.000. Spectrum estimate will be unreliable.\n",
      "  con = spectral_connectivity_epochs(\n",
      "/var/folders/rf/xrxwkkr96qq6kyy5jfx9hvgw0000gn/T/ipykernel_4900/398803393.py:3: RuntimeWarning: fmin=4.000 Hz corresponds to 4.000 < 5 cycles based on the epoch length 1.000 sec, need at least 1.250 sec epochs or fmin=5.000. Spectrum estimate will be unreliable.\n",
      "  con = spectral_connectivity_epochs(\n",
      "/var/folders/rf/xrxwkkr96qq6kyy5jfx9hvgw0000gn/T/ipykernel_4900/398803393.py:3: RuntimeWarning: fmin=1.000 Hz corresponds to 1.000 < 5 cycles based on the epoch length 1.000 sec, need at least 5.000 sec epochs or fmin=5.000. Spectrum estimate will be unreliable.\n",
      "  con = spectral_connectivity_epochs(\n",
      "/var/folders/rf/xrxwkkr96qq6kyy5jfx9hvgw0000gn/T/ipykernel_4900/398803393.py:3: RuntimeWarning: fmin=4.000 Hz corresponds to 4.000 < 5 cycles based on the epoch length 1.000 sec, need at least 1.250 sec epochs or fmin=5.000. Spectrum estimate will be unreliable.\n",
      "  con = spectral_connectivity_epochs(\n",
      "/var/folders/rf/xrxwkkr96qq6kyy5jfx9hvgw0000gn/T/ipykernel_4900/398803393.py:3: RuntimeWarning: fmin=1.000 Hz corresponds to 1.000 < 5 cycles based on the epoch length 1.000 sec, need at least 5.000 sec epochs or fmin=5.000. Spectrum estimate will be unreliable.\n",
      "  con = spectral_connectivity_epochs(\n",
      "/var/folders/rf/xrxwkkr96qq6kyy5jfx9hvgw0000gn/T/ipykernel_4900/398803393.py:3: RuntimeWarning: fmin=4.000 Hz corresponds to 4.000 < 5 cycles based on the epoch length 1.000 sec, need at least 1.250 sec epochs or fmin=5.000. Spectrum estimate will be unreliable.\n",
      "  con = spectral_connectivity_epochs(\n",
      "/var/folders/rf/xrxwkkr96qq6kyy5jfx9hvgw0000gn/T/ipykernel_4900/398803393.py:3: RuntimeWarning: fmin=1.000 Hz corresponds to 1.000 < 5 cycles based on the epoch length 1.000 sec, need at least 5.000 sec epochs or fmin=5.000. Spectrum estimate will be unreliable.\n",
      "  con = spectral_connectivity_epochs(\n",
      "/var/folders/rf/xrxwkkr96qq6kyy5jfx9hvgw0000gn/T/ipykernel_4900/398803393.py:3: RuntimeWarning: fmin=4.000 Hz corresponds to 4.000 < 5 cycles based on the epoch length 1.000 sec, need at least 1.250 sec epochs or fmin=5.000. Spectrum estimate will be unreliable.\n",
      "  con = spectral_connectivity_epochs(\n",
      "/var/folders/rf/xrxwkkr96qq6kyy5jfx9hvgw0000gn/T/ipykernel_4900/398803393.py:3: RuntimeWarning: fmin=1.000 Hz corresponds to 1.000 < 5 cycles based on the epoch length 1.000 sec, need at least 5.000 sec epochs or fmin=5.000. Spectrum estimate will be unreliable.\n",
      "  con = spectral_connectivity_epochs(\n",
      "/var/folders/rf/xrxwkkr96qq6kyy5jfx9hvgw0000gn/T/ipykernel_4900/398803393.py:3: RuntimeWarning: fmin=4.000 Hz corresponds to 4.000 < 5 cycles based on the epoch length 1.000 sec, need at least 1.250 sec epochs or fmin=5.000. Spectrum estimate will be unreliable.\n",
      "  con = spectral_connectivity_epochs(\n"
     ]
    },
    {
     "name": "stdout",
     "output_type": "stream",
     "text": [
      "Done computing wpli2_debiased connectivity.\n"
     ]
    },
    {
     "name": "stderr",
     "output_type": "stream",
     "text": [
      "/var/folders/rf/xrxwkkr96qq6kyy5jfx9hvgw0000gn/T/ipykernel_4900/398803393.py:3: RuntimeWarning: fmin=1.000 Hz corresponds to 1.000 < 5 cycles based on the epoch length 1.000 sec, need at least 5.000 sec epochs or fmin=5.000. Spectrum estimate will be unreliable.\n",
      "  con = spectral_connectivity_epochs(\n",
      "/var/folders/rf/xrxwkkr96qq6kyy5jfx9hvgw0000gn/T/ipykernel_4900/398803393.py:3: RuntimeWarning: fmin=4.000 Hz corresponds to 4.000 < 5 cycles based on the epoch length 1.000 sec, need at least 1.250 sec epochs or fmin=5.000. Spectrum estimate will be unreliable.\n",
      "  con = spectral_connectivity_epochs(\n",
      "/var/folders/rf/xrxwkkr96qq6kyy5jfx9hvgw0000gn/T/ipykernel_4900/398803393.py:3: RuntimeWarning: fmin=1.000 Hz corresponds to 1.000 < 5 cycles based on the epoch length 1.000 sec, need at least 5.000 sec epochs or fmin=5.000. Spectrum estimate will be unreliable.\n",
      "  con = spectral_connectivity_epochs(\n",
      "/var/folders/rf/xrxwkkr96qq6kyy5jfx9hvgw0000gn/T/ipykernel_4900/398803393.py:3: RuntimeWarning: fmin=4.000 Hz corresponds to 4.000 < 5 cycles based on the epoch length 1.000 sec, need at least 1.250 sec epochs or fmin=5.000. Spectrum estimate will be unreliable.\n",
      "  con = spectral_connectivity_epochs(\n",
      "/var/folders/rf/xrxwkkr96qq6kyy5jfx9hvgw0000gn/T/ipykernel_4900/398803393.py:3: RuntimeWarning: fmin=1.000 Hz corresponds to 1.000 < 5 cycles based on the epoch length 1.000 sec, need at least 5.000 sec epochs or fmin=5.000. Spectrum estimate will be unreliable.\n",
      "  con = spectral_connectivity_epochs(\n",
      "/var/folders/rf/xrxwkkr96qq6kyy5jfx9hvgw0000gn/T/ipykernel_4900/398803393.py:3: RuntimeWarning: fmin=4.000 Hz corresponds to 4.000 < 5 cycles based on the epoch length 1.000 sec, need at least 1.250 sec epochs or fmin=5.000. Spectrum estimate will be unreliable.\n",
      "  con = spectral_connectivity_epochs(\n",
      "/var/folders/rf/xrxwkkr96qq6kyy5jfx9hvgw0000gn/T/ipykernel_4900/398803393.py:3: RuntimeWarning: fmin=1.000 Hz corresponds to 1.000 < 5 cycles based on the epoch length 1.000 sec, need at least 5.000 sec epochs or fmin=5.000. Spectrum estimate will be unreliable.\n",
      "  con = spectral_connectivity_epochs(\n",
      "/var/folders/rf/xrxwkkr96qq6kyy5jfx9hvgw0000gn/T/ipykernel_4900/398803393.py:3: RuntimeWarning: fmin=4.000 Hz corresponds to 4.000 < 5 cycles based on the epoch length 1.000 sec, need at least 1.250 sec epochs or fmin=5.000. Spectrum estimate will be unreliable.\n",
      "  con = spectral_connectivity_epochs(\n",
      "/var/folders/rf/xrxwkkr96qq6kyy5jfx9hvgw0000gn/T/ipykernel_4900/398803393.py:3: RuntimeWarning: fmin=1.000 Hz corresponds to 1.000 < 5 cycles based on the epoch length 1.000 sec, need at least 5.000 sec epochs or fmin=5.000. Spectrum estimate will be unreliable.\n",
      "  con = spectral_connectivity_epochs(\n",
      "/var/folders/rf/xrxwkkr96qq6kyy5jfx9hvgw0000gn/T/ipykernel_4900/398803393.py:3: RuntimeWarning: fmin=4.000 Hz corresponds to 4.000 < 5 cycles based on the epoch length 1.000 sec, need at least 1.250 sec epochs or fmin=5.000. Spectrum estimate will be unreliable.\n",
      "  con = spectral_connectivity_epochs(\n",
      "/var/folders/rf/xrxwkkr96qq6kyy5jfx9hvgw0000gn/T/ipykernel_4900/398803393.py:3: RuntimeWarning: fmin=1.000 Hz corresponds to 1.000 < 5 cycles based on the epoch length 1.000 sec, need at least 5.000 sec epochs or fmin=5.000. Spectrum estimate will be unreliable.\n",
      "  con = spectral_connectivity_epochs(\n",
      "/var/folders/rf/xrxwkkr96qq6kyy5jfx9hvgw0000gn/T/ipykernel_4900/398803393.py:3: RuntimeWarning: fmin=4.000 Hz corresponds to 4.000 < 5 cycles based on the epoch length 1.000 sec, need at least 1.250 sec epochs or fmin=5.000. Spectrum estimate will be unreliable.\n",
      "  con = spectral_connectivity_epochs(\n",
      "/var/folders/rf/xrxwkkr96qq6kyy5jfx9hvgw0000gn/T/ipykernel_4900/398803393.py:3: RuntimeWarning: fmin=1.000 Hz corresponds to 1.000 < 5 cycles based on the epoch length 1.000 sec, need at least 5.000 sec epochs or fmin=5.000. Spectrum estimate will be unreliable.\n",
      "  con = spectral_connectivity_epochs(\n",
      "/var/folders/rf/xrxwkkr96qq6kyy5jfx9hvgw0000gn/T/ipykernel_4900/398803393.py:3: RuntimeWarning: fmin=4.000 Hz corresponds to 4.000 < 5 cycles based on the epoch length 1.000 sec, need at least 1.250 sec epochs or fmin=5.000. Spectrum estimate will be unreliable.\n",
      "  con = spectral_connectivity_epochs(\n",
      "/var/folders/rf/xrxwkkr96qq6kyy5jfx9hvgw0000gn/T/ipykernel_4900/398803393.py:3: RuntimeWarning: fmin=1.000 Hz corresponds to 1.000 < 5 cycles based on the epoch length 1.000 sec, need at least 5.000 sec epochs or fmin=5.000. Spectrum estimate will be unreliable.\n",
      "  con = spectral_connectivity_epochs(\n",
      "/var/folders/rf/xrxwkkr96qq6kyy5jfx9hvgw0000gn/T/ipykernel_4900/398803393.py:3: RuntimeWarning: fmin=4.000 Hz corresponds to 4.000 < 5 cycles based on the epoch length 1.000 sec, need at least 1.250 sec epochs or fmin=5.000. Spectrum estimate will be unreliable.\n",
      "  con = spectral_connectivity_epochs(\n",
      "/var/folders/rf/xrxwkkr96qq6kyy5jfx9hvgw0000gn/T/ipykernel_4900/398803393.py:3: RuntimeWarning: fmin=1.000 Hz corresponds to 1.000 < 5 cycles based on the epoch length 1.000 sec, need at least 5.000 sec epochs or fmin=5.000. Spectrum estimate will be unreliable.\n",
      "  con = spectral_connectivity_epochs(\n",
      "/var/folders/rf/xrxwkkr96qq6kyy5jfx9hvgw0000gn/T/ipykernel_4900/398803393.py:3: RuntimeWarning: fmin=4.000 Hz corresponds to 4.000 < 5 cycles based on the epoch length 1.000 sec, need at least 1.250 sec epochs or fmin=5.000. Spectrum estimate will be unreliable.\n",
      "  con = spectral_connectivity_epochs(\n",
      "/var/folders/rf/xrxwkkr96qq6kyy5jfx9hvgw0000gn/T/ipykernel_4900/398803393.py:3: RuntimeWarning: fmin=1.000 Hz corresponds to 1.000 < 5 cycles based on the epoch length 1.000 sec, need at least 5.000 sec epochs or fmin=5.000. Spectrum estimate will be unreliable.\n",
      "  con = spectral_connectivity_epochs(\n",
      "/var/folders/rf/xrxwkkr96qq6kyy5jfx9hvgw0000gn/T/ipykernel_4900/398803393.py:3: RuntimeWarning: fmin=4.000 Hz corresponds to 4.000 < 5 cycles based on the epoch length 1.000 sec, need at least 1.250 sec epochs or fmin=5.000. Spectrum estimate will be unreliable.\n",
      "  con = spectral_connectivity_epochs(\n",
      "/var/folders/rf/xrxwkkr96qq6kyy5jfx9hvgw0000gn/T/ipykernel_4900/398803393.py:3: RuntimeWarning: fmin=1.000 Hz corresponds to 1.000 < 5 cycles based on the epoch length 1.000 sec, need at least 5.000 sec epochs or fmin=5.000. Spectrum estimate will be unreliable.\n",
      "  con = spectral_connectivity_epochs(\n",
      "/var/folders/rf/xrxwkkr96qq6kyy5jfx9hvgw0000gn/T/ipykernel_4900/398803393.py:3: RuntimeWarning: fmin=4.000 Hz corresponds to 4.000 < 5 cycles based on the epoch length 1.000 sec, need at least 1.250 sec epochs or fmin=5.000. Spectrum estimate will be unreliable.\n",
      "  con = spectral_connectivity_epochs(\n",
      "/var/folders/rf/xrxwkkr96qq6kyy5jfx9hvgw0000gn/T/ipykernel_4900/398803393.py:3: RuntimeWarning: fmin=1.000 Hz corresponds to 1.000 < 5 cycles based on the epoch length 1.000 sec, need at least 5.000 sec epochs or fmin=5.000. Spectrum estimate will be unreliable.\n",
      "  con = spectral_connectivity_epochs(\n",
      "/var/folders/rf/xrxwkkr96qq6kyy5jfx9hvgw0000gn/T/ipykernel_4900/398803393.py:3: RuntimeWarning: fmin=4.000 Hz corresponds to 4.000 < 5 cycles based on the epoch length 1.000 sec, need at least 1.250 sec epochs or fmin=5.000. Spectrum estimate will be unreliable.\n",
      "  con = spectral_connectivity_epochs(\n",
      "/var/folders/rf/xrxwkkr96qq6kyy5jfx9hvgw0000gn/T/ipykernel_4900/398803393.py:3: RuntimeWarning: fmin=1.000 Hz corresponds to 1.000 < 5 cycles based on the epoch length 1.000 sec, need at least 5.000 sec epochs or fmin=5.000. Spectrum estimate will be unreliable.\n",
      "  con = spectral_connectivity_epochs(\n",
      "/var/folders/rf/xrxwkkr96qq6kyy5jfx9hvgw0000gn/T/ipykernel_4900/398803393.py:3: RuntimeWarning: fmin=4.000 Hz corresponds to 4.000 < 5 cycles based on the epoch length 1.000 sec, need at least 1.250 sec epochs or fmin=5.000. Spectrum estimate will be unreliable.\n",
      "  con = spectral_connectivity_epochs(\n",
      "/var/folders/rf/xrxwkkr96qq6kyy5jfx9hvgw0000gn/T/ipykernel_4900/398803393.py:3: RuntimeWarning: fmin=1.000 Hz corresponds to 1.000 < 5 cycles based on the epoch length 1.000 sec, need at least 5.000 sec epochs or fmin=5.000. Spectrum estimate will be unreliable.\n",
      "  con = spectral_connectivity_epochs(\n",
      "/var/folders/rf/xrxwkkr96qq6kyy5jfx9hvgw0000gn/T/ipykernel_4900/398803393.py:3: RuntimeWarning: fmin=4.000 Hz corresponds to 4.000 < 5 cycles based on the epoch length 1.000 sec, need at least 1.250 sec epochs or fmin=5.000. Spectrum estimate will be unreliable.\n",
      "  con = spectral_connectivity_epochs(\n",
      "/var/folders/rf/xrxwkkr96qq6kyy5jfx9hvgw0000gn/T/ipykernel_4900/398803393.py:3: RuntimeWarning: fmin=1.000 Hz corresponds to 1.000 < 5 cycles based on the epoch length 1.000 sec, need at least 5.000 sec epochs or fmin=5.000. Spectrum estimate will be unreliable.\n",
      "  con = spectral_connectivity_epochs(\n",
      "/var/folders/rf/xrxwkkr96qq6kyy5jfx9hvgw0000gn/T/ipykernel_4900/398803393.py:3: RuntimeWarning: fmin=4.000 Hz corresponds to 4.000 < 5 cycles based on the epoch length 1.000 sec, need at least 1.250 sec epochs or fmin=5.000. Spectrum estimate will be unreliable.\n",
      "  con = spectral_connectivity_epochs(\n",
      "/var/folders/rf/xrxwkkr96qq6kyy5jfx9hvgw0000gn/T/ipykernel_4900/398803393.py:3: RuntimeWarning: fmin=1.000 Hz corresponds to 1.000 < 5 cycles based on the epoch length 1.000 sec, need at least 5.000 sec epochs or fmin=5.000. Spectrum estimate will be unreliable.\n",
      "  con = spectral_connectivity_epochs(\n",
      "/var/folders/rf/xrxwkkr96qq6kyy5jfx9hvgw0000gn/T/ipykernel_4900/398803393.py:3: RuntimeWarning: fmin=4.000 Hz corresponds to 4.000 < 5 cycles based on the epoch length 1.000 sec, need at least 1.250 sec epochs or fmin=5.000. Spectrum estimate will be unreliable.\n",
      "  con = spectral_connectivity_epochs(\n"
     ]
    },
    {
     "name": "stdout",
     "output_type": "stream",
     "text": [
      "Done computing wpli2_debiased connectivity.\n"
     ]
    },
    {
     "name": "stderr",
     "output_type": "stream",
     "text": [
      "/var/folders/rf/xrxwkkr96qq6kyy5jfx9hvgw0000gn/T/ipykernel_4900/398803393.py:3: RuntimeWarning: fmin=1.000 Hz corresponds to 1.000 < 5 cycles based on the epoch length 1.000 sec, need at least 5.000 sec epochs or fmin=5.000. Spectrum estimate will be unreliable.\n",
      "  con = spectral_connectivity_epochs(\n",
      "/var/folders/rf/xrxwkkr96qq6kyy5jfx9hvgw0000gn/T/ipykernel_4900/398803393.py:3: RuntimeWarning: fmin=4.000 Hz corresponds to 4.000 < 5 cycles based on the epoch length 1.000 sec, need at least 1.250 sec epochs or fmin=5.000. Spectrum estimate will be unreliable.\n",
      "  con = spectral_connectivity_epochs(\n"
     ]
    },
    {
     "data": {
      "text/plain": [
       "        con  node1  node2      band  subject_id genotype\n",
       "0 -0.063447  OFC_R     CG  $\\delta$       80625  DRD2-KO\n",
       "1  0.479585  OFC_R  STR_R  $\\delta$       80625  DRD2-KO\n",
       "2 -0.000395  OFC_R   S1_L  $\\delta$       80625  DRD2-KO\n",
       "3  0.000424  OFC_R   S1_R  $\\delta$       80625  DRD2-KO\n",
       "4 -0.038434  OFC_R   V1_R  $\\delta$       80625  DRD2-KO"
      ],
      "text/html": [
       "<div>\n",
       "<style scoped>\n",
       "    .dataframe tbody tr th:only-of-type {\n",
       "        vertical-align: middle;\n",
       "    }\n",
       "\n",
       "    .dataframe tbody tr th {\n",
       "        vertical-align: top;\n",
       "    }\n",
       "\n",
       "    .dataframe thead th {\n",
       "        text-align: right;\n",
       "    }\n",
       "</style>\n",
       "<table border=\"1\" class=\"dataframe\">\n",
       "  <thead>\n",
       "    <tr style=\"text-align: right;\">\n",
       "      <th></th>\n",
       "      <th>con</th>\n",
       "      <th>node1</th>\n",
       "      <th>node2</th>\n",
       "      <th>band</th>\n",
       "      <th>subject_id</th>\n",
       "      <th>genotype</th>\n",
       "    </tr>\n",
       "  </thead>\n",
       "  <tbody>\n",
       "    <tr>\n",
       "      <th>0</th>\n",
       "      <td>-0.063447</td>\n",
       "      <td>OFC_R</td>\n",
       "      <td>CG</td>\n",
       "      <td>$\\delta$</td>\n",
       "      <td>80625</td>\n",
       "      <td>DRD2-KO</td>\n",
       "    </tr>\n",
       "    <tr>\n",
       "      <th>1</th>\n",
       "      <td>0.479585</td>\n",
       "      <td>OFC_R</td>\n",
       "      <td>STR_R</td>\n",
       "      <td>$\\delta$</td>\n",
       "      <td>80625</td>\n",
       "      <td>DRD2-KO</td>\n",
       "    </tr>\n",
       "    <tr>\n",
       "      <th>2</th>\n",
       "      <td>-0.000395</td>\n",
       "      <td>OFC_R</td>\n",
       "      <td>S1_L</td>\n",
       "      <td>$\\delta$</td>\n",
       "      <td>80625</td>\n",
       "      <td>DRD2-KO</td>\n",
       "    </tr>\n",
       "    <tr>\n",
       "      <th>3</th>\n",
       "      <td>0.000424</td>\n",
       "      <td>OFC_R</td>\n",
       "      <td>S1_R</td>\n",
       "      <td>$\\delta$</td>\n",
       "      <td>80625</td>\n",
       "      <td>DRD2-KO</td>\n",
       "    </tr>\n",
       "    <tr>\n",
       "      <th>4</th>\n",
       "      <td>-0.038434</td>\n",
       "      <td>OFC_R</td>\n",
       "      <td>V1_R</td>\n",
       "      <td>$\\delta$</td>\n",
       "      <td>80625</td>\n",
       "      <td>DRD2-KO</td>\n",
       "    </tr>\n",
       "  </tbody>\n",
       "</table>\n",
       "</div>"
      ]
     },
     "execution_count": 31,
     "metadata": {},
     "output_type": "execute_result"
    }
   ],
   "execution_count": 31
  },
  {
   "metadata": {
    "ExecuteTime": {
     "end_time": "2024-05-06T13:52:13.624543Z",
     "start_time": "2024-05-06T13:51:54.670078Z"
    }
   },
   "cell_type": "code",
   "source": [
    "generate_grid_plot_wt_vs_ko(wpli2_social, 'social_cup', 'wpli2_debiased')\n",
    "generate_grid_plot_wt_vs_ko(wpli2_non_social, 'non-social_cup', 'wpli2_debiased')"
   ],
   "id": "a64bef5af36658b4",
   "outputs": [],
   "execution_count": 32
  },
  {
   "metadata": {
    "ExecuteTime": {
     "end_time": "2024-05-06T13:52:33.258066Z",
     "start_time": "2024-05-06T13:52:13.627270Z"
    }
   },
   "cell_type": "code",
   "source": [
    "generate_barplots(wpli2_social, 'social_cup', 'wpli2_debiased')\n",
    "generate_barplots(wpli2_non_social, 'non-social_cup', 'wpli2_debiased')"
   ],
   "id": "38e93656c5dade53",
   "outputs": [],
   "execution_count": 33
  },
  {
   "metadata": {},
   "cell_type": "markdown",
   "source": "### Pairwise Phase Consistency (PPC)",
   "id": "8a60fe139b66e2b5"
  },
  {
   "metadata": {
    "ExecuteTime": {
     "end_time": "2024-05-06T13:52:43.565123Z",
     "start_time": "2024-05-06T13:52:33.260779Z"
    }
   },
   "cell_type": "code",
   "source": [
    "ppc_social = connectivity_df(all_subject_epochs, 'social_cup', \"ppc\")\n",
    "ppc_non_social = connectivity_df(all_subject_epochs, 'non-social_cup', \"ppc\")\n",
    "ppc_social.head()"
   ],
   "id": "ac2b769e25852327",
   "outputs": [
    {
     "name": "stderr",
     "output_type": "stream",
     "text": [
      "/var/folders/rf/xrxwkkr96qq6kyy5jfx9hvgw0000gn/T/ipykernel_4900/398803393.py:3: RuntimeWarning: fmin=1.000 Hz corresponds to 1.000 < 5 cycles based on the epoch length 1.000 sec, need at least 5.000 sec epochs or fmin=5.000. Spectrum estimate will be unreliable.\n",
      "  con = spectral_connectivity_epochs(\n",
      "/var/folders/rf/xrxwkkr96qq6kyy5jfx9hvgw0000gn/T/ipykernel_4900/398803393.py:3: RuntimeWarning: fmin=4.000 Hz corresponds to 4.000 < 5 cycles based on the epoch length 1.000 sec, need at least 1.250 sec epochs or fmin=5.000. Spectrum estimate will be unreliable.\n",
      "  con = spectral_connectivity_epochs(\n",
      "/var/folders/rf/xrxwkkr96qq6kyy5jfx9hvgw0000gn/T/ipykernel_4900/398803393.py:3: RuntimeWarning: fmin=1.000 Hz corresponds to 1.000 < 5 cycles based on the epoch length 1.000 sec, need at least 5.000 sec epochs or fmin=5.000. Spectrum estimate will be unreliable.\n",
      "  con = spectral_connectivity_epochs(\n",
      "/var/folders/rf/xrxwkkr96qq6kyy5jfx9hvgw0000gn/T/ipykernel_4900/398803393.py:3: RuntimeWarning: fmin=4.000 Hz corresponds to 4.000 < 5 cycles based on the epoch length 1.000 sec, need at least 1.250 sec epochs or fmin=5.000. Spectrum estimate will be unreliable.\n",
      "  con = spectral_connectivity_epochs(\n",
      "/var/folders/rf/xrxwkkr96qq6kyy5jfx9hvgw0000gn/T/ipykernel_4900/398803393.py:3: RuntimeWarning: fmin=1.000 Hz corresponds to 1.000 < 5 cycles based on the epoch length 1.000 sec, need at least 5.000 sec epochs or fmin=5.000. Spectrum estimate will be unreliable.\n",
      "  con = spectral_connectivity_epochs(\n",
      "/var/folders/rf/xrxwkkr96qq6kyy5jfx9hvgw0000gn/T/ipykernel_4900/398803393.py:3: RuntimeWarning: fmin=4.000 Hz corresponds to 4.000 < 5 cycles based on the epoch length 1.000 sec, need at least 1.250 sec epochs or fmin=5.000. Spectrum estimate will be unreliable.\n",
      "  con = spectral_connectivity_epochs(\n",
      "/var/folders/rf/xrxwkkr96qq6kyy5jfx9hvgw0000gn/T/ipykernel_4900/398803393.py:3: RuntimeWarning: fmin=1.000 Hz corresponds to 1.000 < 5 cycles based on the epoch length 1.000 sec, need at least 5.000 sec epochs or fmin=5.000. Spectrum estimate will be unreliable.\n",
      "  con = spectral_connectivity_epochs(\n",
      "/var/folders/rf/xrxwkkr96qq6kyy5jfx9hvgw0000gn/T/ipykernel_4900/398803393.py:3: RuntimeWarning: fmin=4.000 Hz corresponds to 4.000 < 5 cycles based on the epoch length 1.000 sec, need at least 1.250 sec epochs or fmin=5.000. Spectrum estimate will be unreliable.\n",
      "  con = spectral_connectivity_epochs(\n",
      "/var/folders/rf/xrxwkkr96qq6kyy5jfx9hvgw0000gn/T/ipykernel_4900/398803393.py:3: RuntimeWarning: fmin=1.000 Hz corresponds to 1.000 < 5 cycles based on the epoch length 1.000 sec, need at least 5.000 sec epochs or fmin=5.000. Spectrum estimate will be unreliable.\n",
      "  con = spectral_connectivity_epochs(\n",
      "/var/folders/rf/xrxwkkr96qq6kyy5jfx9hvgw0000gn/T/ipykernel_4900/398803393.py:3: RuntimeWarning: fmin=4.000 Hz corresponds to 4.000 < 5 cycles based on the epoch length 1.000 sec, need at least 1.250 sec epochs or fmin=5.000. Spectrum estimate will be unreliable.\n",
      "  con = spectral_connectivity_epochs(\n",
      "/var/folders/rf/xrxwkkr96qq6kyy5jfx9hvgw0000gn/T/ipykernel_4900/398803393.py:3: RuntimeWarning: fmin=1.000 Hz corresponds to 1.000 < 5 cycles based on the epoch length 1.000 sec, need at least 5.000 sec epochs or fmin=5.000. Spectrum estimate will be unreliable.\n",
      "  con = spectral_connectivity_epochs(\n",
      "/var/folders/rf/xrxwkkr96qq6kyy5jfx9hvgw0000gn/T/ipykernel_4900/398803393.py:3: RuntimeWarning: fmin=4.000 Hz corresponds to 4.000 < 5 cycles based on the epoch length 1.000 sec, need at least 1.250 sec epochs or fmin=5.000. Spectrum estimate will be unreliable.\n",
      "  con = spectral_connectivity_epochs(\n",
      "/var/folders/rf/xrxwkkr96qq6kyy5jfx9hvgw0000gn/T/ipykernel_4900/398803393.py:3: RuntimeWarning: fmin=1.000 Hz corresponds to 1.000 < 5 cycles based on the epoch length 1.000 sec, need at least 5.000 sec epochs or fmin=5.000. Spectrum estimate will be unreliable.\n",
      "  con = spectral_connectivity_epochs(\n",
      "/var/folders/rf/xrxwkkr96qq6kyy5jfx9hvgw0000gn/T/ipykernel_4900/398803393.py:3: RuntimeWarning: fmin=4.000 Hz corresponds to 4.000 < 5 cycles based on the epoch length 1.000 sec, need at least 1.250 sec epochs or fmin=5.000. Spectrum estimate will be unreliable.\n",
      "  con = spectral_connectivity_epochs(\n",
      "/var/folders/rf/xrxwkkr96qq6kyy5jfx9hvgw0000gn/T/ipykernel_4900/398803393.py:3: RuntimeWarning: fmin=1.000 Hz corresponds to 1.000 < 5 cycles based on the epoch length 1.000 sec, need at least 5.000 sec epochs or fmin=5.000. Spectrum estimate will be unreliable.\n",
      "  con = spectral_connectivity_epochs(\n",
      "/var/folders/rf/xrxwkkr96qq6kyy5jfx9hvgw0000gn/T/ipykernel_4900/398803393.py:3: RuntimeWarning: fmin=4.000 Hz corresponds to 4.000 < 5 cycles based on the epoch length 1.000 sec, need at least 1.250 sec epochs or fmin=5.000. Spectrum estimate will be unreliable.\n",
      "  con = spectral_connectivity_epochs(\n",
      "/var/folders/rf/xrxwkkr96qq6kyy5jfx9hvgw0000gn/T/ipykernel_4900/398803393.py:3: RuntimeWarning: fmin=1.000 Hz corresponds to 1.000 < 5 cycles based on the epoch length 1.000 sec, need at least 5.000 sec epochs or fmin=5.000. Spectrum estimate will be unreliable.\n",
      "  con = spectral_connectivity_epochs(\n",
      "/var/folders/rf/xrxwkkr96qq6kyy5jfx9hvgw0000gn/T/ipykernel_4900/398803393.py:3: RuntimeWarning: fmin=4.000 Hz corresponds to 4.000 < 5 cycles based on the epoch length 1.000 sec, need at least 1.250 sec epochs or fmin=5.000. Spectrum estimate will be unreliable.\n",
      "  con = spectral_connectivity_epochs(\n",
      "/var/folders/rf/xrxwkkr96qq6kyy5jfx9hvgw0000gn/T/ipykernel_4900/398803393.py:3: RuntimeWarning: fmin=1.000 Hz corresponds to 1.000 < 5 cycles based on the epoch length 1.000 sec, need at least 5.000 sec epochs or fmin=5.000. Spectrum estimate will be unreliable.\n",
      "  con = spectral_connectivity_epochs(\n",
      "/var/folders/rf/xrxwkkr96qq6kyy5jfx9hvgw0000gn/T/ipykernel_4900/398803393.py:3: RuntimeWarning: fmin=4.000 Hz corresponds to 4.000 < 5 cycles based on the epoch length 1.000 sec, need at least 1.250 sec epochs or fmin=5.000. Spectrum estimate will be unreliable.\n",
      "  con = spectral_connectivity_epochs(\n",
      "/var/folders/rf/xrxwkkr96qq6kyy5jfx9hvgw0000gn/T/ipykernel_4900/398803393.py:3: RuntimeWarning: fmin=1.000 Hz corresponds to 1.000 < 5 cycles based on the epoch length 1.000 sec, need at least 5.000 sec epochs or fmin=5.000. Spectrum estimate will be unreliable.\n",
      "  con = spectral_connectivity_epochs(\n",
      "/var/folders/rf/xrxwkkr96qq6kyy5jfx9hvgw0000gn/T/ipykernel_4900/398803393.py:3: RuntimeWarning: fmin=4.000 Hz corresponds to 4.000 < 5 cycles based on the epoch length 1.000 sec, need at least 1.250 sec epochs or fmin=5.000. Spectrum estimate will be unreliable.\n",
      "  con = spectral_connectivity_epochs(\n",
      "/var/folders/rf/xrxwkkr96qq6kyy5jfx9hvgw0000gn/T/ipykernel_4900/398803393.py:3: RuntimeWarning: fmin=1.000 Hz corresponds to 1.000 < 5 cycles based on the epoch length 1.000 sec, need at least 5.000 sec epochs or fmin=5.000. Spectrum estimate will be unreliable.\n",
      "  con = spectral_connectivity_epochs(\n",
      "/var/folders/rf/xrxwkkr96qq6kyy5jfx9hvgw0000gn/T/ipykernel_4900/398803393.py:3: RuntimeWarning: fmin=4.000 Hz corresponds to 4.000 < 5 cycles based on the epoch length 1.000 sec, need at least 1.250 sec epochs or fmin=5.000. Spectrum estimate will be unreliable.\n",
      "  con = spectral_connectivity_epochs(\n",
      "/var/folders/rf/xrxwkkr96qq6kyy5jfx9hvgw0000gn/T/ipykernel_4900/398803393.py:3: RuntimeWarning: fmin=1.000 Hz corresponds to 1.000 < 5 cycles based on the epoch length 1.000 sec, need at least 5.000 sec epochs or fmin=5.000. Spectrum estimate will be unreliable.\n",
      "  con = spectral_connectivity_epochs(\n",
      "/var/folders/rf/xrxwkkr96qq6kyy5jfx9hvgw0000gn/T/ipykernel_4900/398803393.py:3: RuntimeWarning: fmin=4.000 Hz corresponds to 4.000 < 5 cycles based on the epoch length 1.000 sec, need at least 1.250 sec epochs or fmin=5.000. Spectrum estimate will be unreliable.\n",
      "  con = spectral_connectivity_epochs(\n",
      "/var/folders/rf/xrxwkkr96qq6kyy5jfx9hvgw0000gn/T/ipykernel_4900/398803393.py:3: RuntimeWarning: fmin=1.000 Hz corresponds to 1.000 < 5 cycles based on the epoch length 1.000 sec, need at least 5.000 sec epochs or fmin=5.000. Spectrum estimate will be unreliable.\n",
      "  con = spectral_connectivity_epochs(\n",
      "/var/folders/rf/xrxwkkr96qq6kyy5jfx9hvgw0000gn/T/ipykernel_4900/398803393.py:3: RuntimeWarning: fmin=4.000 Hz corresponds to 4.000 < 5 cycles based on the epoch length 1.000 sec, need at least 1.250 sec epochs or fmin=5.000. Spectrum estimate will be unreliable.\n",
      "  con = spectral_connectivity_epochs(\n",
      "/var/folders/rf/xrxwkkr96qq6kyy5jfx9hvgw0000gn/T/ipykernel_4900/398803393.py:3: RuntimeWarning: fmin=1.000 Hz corresponds to 1.000 < 5 cycles based on the epoch length 1.000 sec, need at least 5.000 sec epochs or fmin=5.000. Spectrum estimate will be unreliable.\n",
      "  con = spectral_connectivity_epochs(\n",
      "/var/folders/rf/xrxwkkr96qq6kyy5jfx9hvgw0000gn/T/ipykernel_4900/398803393.py:3: RuntimeWarning: fmin=4.000 Hz corresponds to 4.000 < 5 cycles based on the epoch length 1.000 sec, need at least 1.250 sec epochs or fmin=5.000. Spectrum estimate will be unreliable.\n",
      "  con = spectral_connectivity_epochs(\n",
      "/var/folders/rf/xrxwkkr96qq6kyy5jfx9hvgw0000gn/T/ipykernel_4900/398803393.py:3: RuntimeWarning: fmin=1.000 Hz corresponds to 1.000 < 5 cycles based on the epoch length 1.000 sec, need at least 5.000 sec epochs or fmin=5.000. Spectrum estimate will be unreliable.\n",
      "  con = spectral_connectivity_epochs(\n",
      "/var/folders/rf/xrxwkkr96qq6kyy5jfx9hvgw0000gn/T/ipykernel_4900/398803393.py:3: RuntimeWarning: fmin=4.000 Hz corresponds to 4.000 < 5 cycles based on the epoch length 1.000 sec, need at least 1.250 sec epochs or fmin=5.000. Spectrum estimate will be unreliable.\n",
      "  con = spectral_connectivity_epochs(\n",
      "/var/folders/rf/xrxwkkr96qq6kyy5jfx9hvgw0000gn/T/ipykernel_4900/398803393.py:3: RuntimeWarning: fmin=1.000 Hz corresponds to 1.000 < 5 cycles based on the epoch length 1.000 sec, need at least 5.000 sec epochs or fmin=5.000. Spectrum estimate will be unreliable.\n",
      "  con = spectral_connectivity_epochs(\n",
      "/var/folders/rf/xrxwkkr96qq6kyy5jfx9hvgw0000gn/T/ipykernel_4900/398803393.py:3: RuntimeWarning: fmin=4.000 Hz corresponds to 4.000 < 5 cycles based on the epoch length 1.000 sec, need at least 1.250 sec epochs or fmin=5.000. Spectrum estimate will be unreliable.\n",
      "  con = spectral_connectivity_epochs(\n"
     ]
    },
    {
     "name": "stdout",
     "output_type": "stream",
     "text": [
      "Done computing ppc connectivity.\n"
     ]
    },
    {
     "name": "stderr",
     "output_type": "stream",
     "text": [
      "/var/folders/rf/xrxwkkr96qq6kyy5jfx9hvgw0000gn/T/ipykernel_4900/398803393.py:3: RuntimeWarning: fmin=1.000 Hz corresponds to 1.000 < 5 cycles based on the epoch length 1.000 sec, need at least 5.000 sec epochs or fmin=5.000. Spectrum estimate will be unreliable.\n",
      "  con = spectral_connectivity_epochs(\n",
      "/var/folders/rf/xrxwkkr96qq6kyy5jfx9hvgw0000gn/T/ipykernel_4900/398803393.py:3: RuntimeWarning: fmin=4.000 Hz corresponds to 4.000 < 5 cycles based on the epoch length 1.000 sec, need at least 1.250 sec epochs or fmin=5.000. Spectrum estimate will be unreliable.\n",
      "  con = spectral_connectivity_epochs(\n",
      "/var/folders/rf/xrxwkkr96qq6kyy5jfx9hvgw0000gn/T/ipykernel_4900/398803393.py:3: RuntimeWarning: fmin=1.000 Hz corresponds to 1.000 < 5 cycles based on the epoch length 1.000 sec, need at least 5.000 sec epochs or fmin=5.000. Spectrum estimate will be unreliable.\n",
      "  con = spectral_connectivity_epochs(\n",
      "/var/folders/rf/xrxwkkr96qq6kyy5jfx9hvgw0000gn/T/ipykernel_4900/398803393.py:3: RuntimeWarning: fmin=4.000 Hz corresponds to 4.000 < 5 cycles based on the epoch length 1.000 sec, need at least 1.250 sec epochs or fmin=5.000. Spectrum estimate will be unreliable.\n",
      "  con = spectral_connectivity_epochs(\n",
      "/var/folders/rf/xrxwkkr96qq6kyy5jfx9hvgw0000gn/T/ipykernel_4900/398803393.py:3: RuntimeWarning: fmin=1.000 Hz corresponds to 1.000 < 5 cycles based on the epoch length 1.000 sec, need at least 5.000 sec epochs or fmin=5.000. Spectrum estimate will be unreliable.\n",
      "  con = spectral_connectivity_epochs(\n",
      "/var/folders/rf/xrxwkkr96qq6kyy5jfx9hvgw0000gn/T/ipykernel_4900/398803393.py:3: RuntimeWarning: fmin=4.000 Hz corresponds to 4.000 < 5 cycles based on the epoch length 1.000 sec, need at least 1.250 sec epochs or fmin=5.000. Spectrum estimate will be unreliable.\n",
      "  con = spectral_connectivity_epochs(\n",
      "/var/folders/rf/xrxwkkr96qq6kyy5jfx9hvgw0000gn/T/ipykernel_4900/398803393.py:3: RuntimeWarning: fmin=1.000 Hz corresponds to 1.000 < 5 cycles based on the epoch length 1.000 sec, need at least 5.000 sec epochs or fmin=5.000. Spectrum estimate will be unreliable.\n",
      "  con = spectral_connectivity_epochs(\n",
      "/var/folders/rf/xrxwkkr96qq6kyy5jfx9hvgw0000gn/T/ipykernel_4900/398803393.py:3: RuntimeWarning: fmin=4.000 Hz corresponds to 4.000 < 5 cycles based on the epoch length 1.000 sec, need at least 1.250 sec epochs or fmin=5.000. Spectrum estimate will be unreliable.\n",
      "  con = spectral_connectivity_epochs(\n",
      "/var/folders/rf/xrxwkkr96qq6kyy5jfx9hvgw0000gn/T/ipykernel_4900/398803393.py:3: RuntimeWarning: fmin=1.000 Hz corresponds to 1.000 < 5 cycles based on the epoch length 1.000 sec, need at least 5.000 sec epochs or fmin=5.000. Spectrum estimate will be unreliable.\n",
      "  con = spectral_connectivity_epochs(\n",
      "/var/folders/rf/xrxwkkr96qq6kyy5jfx9hvgw0000gn/T/ipykernel_4900/398803393.py:3: RuntimeWarning: fmin=4.000 Hz corresponds to 4.000 < 5 cycles based on the epoch length 1.000 sec, need at least 1.250 sec epochs or fmin=5.000. Spectrum estimate will be unreliable.\n",
      "  con = spectral_connectivity_epochs(\n",
      "/var/folders/rf/xrxwkkr96qq6kyy5jfx9hvgw0000gn/T/ipykernel_4900/398803393.py:3: RuntimeWarning: fmin=1.000 Hz corresponds to 1.000 < 5 cycles based on the epoch length 1.000 sec, need at least 5.000 sec epochs or fmin=5.000. Spectrum estimate will be unreliable.\n",
      "  con = spectral_connectivity_epochs(\n",
      "/var/folders/rf/xrxwkkr96qq6kyy5jfx9hvgw0000gn/T/ipykernel_4900/398803393.py:3: RuntimeWarning: fmin=4.000 Hz corresponds to 4.000 < 5 cycles based on the epoch length 1.000 sec, need at least 1.250 sec epochs or fmin=5.000. Spectrum estimate will be unreliable.\n",
      "  con = spectral_connectivity_epochs(\n",
      "/var/folders/rf/xrxwkkr96qq6kyy5jfx9hvgw0000gn/T/ipykernel_4900/398803393.py:3: RuntimeWarning: fmin=1.000 Hz corresponds to 1.000 < 5 cycles based on the epoch length 1.000 sec, need at least 5.000 sec epochs or fmin=5.000. Spectrum estimate will be unreliable.\n",
      "  con = spectral_connectivity_epochs(\n",
      "/var/folders/rf/xrxwkkr96qq6kyy5jfx9hvgw0000gn/T/ipykernel_4900/398803393.py:3: RuntimeWarning: fmin=4.000 Hz corresponds to 4.000 < 5 cycles based on the epoch length 1.000 sec, need at least 1.250 sec epochs or fmin=5.000. Spectrum estimate will be unreliable.\n",
      "  con = spectral_connectivity_epochs(\n",
      "/var/folders/rf/xrxwkkr96qq6kyy5jfx9hvgw0000gn/T/ipykernel_4900/398803393.py:3: RuntimeWarning: fmin=1.000 Hz corresponds to 1.000 < 5 cycles based on the epoch length 1.000 sec, need at least 5.000 sec epochs or fmin=5.000. Spectrum estimate will be unreliable.\n",
      "  con = spectral_connectivity_epochs(\n",
      "/var/folders/rf/xrxwkkr96qq6kyy5jfx9hvgw0000gn/T/ipykernel_4900/398803393.py:3: RuntimeWarning: fmin=4.000 Hz corresponds to 4.000 < 5 cycles based on the epoch length 1.000 sec, need at least 1.250 sec epochs or fmin=5.000. Spectrum estimate will be unreliable.\n",
      "  con = spectral_connectivity_epochs(\n",
      "/var/folders/rf/xrxwkkr96qq6kyy5jfx9hvgw0000gn/T/ipykernel_4900/398803393.py:3: RuntimeWarning: fmin=1.000 Hz corresponds to 1.000 < 5 cycles based on the epoch length 1.000 sec, need at least 5.000 sec epochs or fmin=5.000. Spectrum estimate will be unreliable.\n",
      "  con = spectral_connectivity_epochs(\n",
      "/var/folders/rf/xrxwkkr96qq6kyy5jfx9hvgw0000gn/T/ipykernel_4900/398803393.py:3: RuntimeWarning: fmin=4.000 Hz corresponds to 4.000 < 5 cycles based on the epoch length 1.000 sec, need at least 1.250 sec epochs or fmin=5.000. Spectrum estimate will be unreliable.\n",
      "  con = spectral_connectivity_epochs(\n",
      "/var/folders/rf/xrxwkkr96qq6kyy5jfx9hvgw0000gn/T/ipykernel_4900/398803393.py:3: RuntimeWarning: fmin=1.000 Hz corresponds to 1.000 < 5 cycles based on the epoch length 1.000 sec, need at least 5.000 sec epochs or fmin=5.000. Spectrum estimate will be unreliable.\n",
      "  con = spectral_connectivity_epochs(\n",
      "/var/folders/rf/xrxwkkr96qq6kyy5jfx9hvgw0000gn/T/ipykernel_4900/398803393.py:3: RuntimeWarning: fmin=4.000 Hz corresponds to 4.000 < 5 cycles based on the epoch length 1.000 sec, need at least 1.250 sec epochs or fmin=5.000. Spectrum estimate will be unreliable.\n",
      "  con = spectral_connectivity_epochs(\n",
      "/var/folders/rf/xrxwkkr96qq6kyy5jfx9hvgw0000gn/T/ipykernel_4900/398803393.py:3: RuntimeWarning: fmin=1.000 Hz corresponds to 1.000 < 5 cycles based on the epoch length 1.000 sec, need at least 5.000 sec epochs or fmin=5.000. Spectrum estimate will be unreliable.\n",
      "  con = spectral_connectivity_epochs(\n",
      "/var/folders/rf/xrxwkkr96qq6kyy5jfx9hvgw0000gn/T/ipykernel_4900/398803393.py:3: RuntimeWarning: fmin=4.000 Hz corresponds to 4.000 < 5 cycles based on the epoch length 1.000 sec, need at least 1.250 sec epochs or fmin=5.000. Spectrum estimate will be unreliable.\n",
      "  con = spectral_connectivity_epochs(\n",
      "/var/folders/rf/xrxwkkr96qq6kyy5jfx9hvgw0000gn/T/ipykernel_4900/398803393.py:3: RuntimeWarning: fmin=1.000 Hz corresponds to 1.000 < 5 cycles based on the epoch length 1.000 sec, need at least 5.000 sec epochs or fmin=5.000. Spectrum estimate will be unreliable.\n",
      "  con = spectral_connectivity_epochs(\n",
      "/var/folders/rf/xrxwkkr96qq6kyy5jfx9hvgw0000gn/T/ipykernel_4900/398803393.py:3: RuntimeWarning: fmin=4.000 Hz corresponds to 4.000 < 5 cycles based on the epoch length 1.000 sec, need at least 1.250 sec epochs or fmin=5.000. Spectrum estimate will be unreliable.\n",
      "  con = spectral_connectivity_epochs(\n",
      "/var/folders/rf/xrxwkkr96qq6kyy5jfx9hvgw0000gn/T/ipykernel_4900/398803393.py:3: RuntimeWarning: fmin=1.000 Hz corresponds to 1.000 < 5 cycles based on the epoch length 1.000 sec, need at least 5.000 sec epochs or fmin=5.000. Spectrum estimate will be unreliable.\n",
      "  con = spectral_connectivity_epochs(\n",
      "/var/folders/rf/xrxwkkr96qq6kyy5jfx9hvgw0000gn/T/ipykernel_4900/398803393.py:3: RuntimeWarning: fmin=4.000 Hz corresponds to 4.000 < 5 cycles based on the epoch length 1.000 sec, need at least 1.250 sec epochs or fmin=5.000. Spectrum estimate will be unreliable.\n",
      "  con = spectral_connectivity_epochs(\n",
      "/var/folders/rf/xrxwkkr96qq6kyy5jfx9hvgw0000gn/T/ipykernel_4900/398803393.py:3: RuntimeWarning: fmin=1.000 Hz corresponds to 1.000 < 5 cycles based on the epoch length 1.000 sec, need at least 5.000 sec epochs or fmin=5.000. Spectrum estimate will be unreliable.\n",
      "  con = spectral_connectivity_epochs(\n",
      "/var/folders/rf/xrxwkkr96qq6kyy5jfx9hvgw0000gn/T/ipykernel_4900/398803393.py:3: RuntimeWarning: fmin=4.000 Hz corresponds to 4.000 < 5 cycles based on the epoch length 1.000 sec, need at least 1.250 sec epochs or fmin=5.000. Spectrum estimate will be unreliable.\n",
      "  con = spectral_connectivity_epochs(\n",
      "/var/folders/rf/xrxwkkr96qq6kyy5jfx9hvgw0000gn/T/ipykernel_4900/398803393.py:3: RuntimeWarning: fmin=1.000 Hz corresponds to 1.000 < 5 cycles based on the epoch length 1.000 sec, need at least 5.000 sec epochs or fmin=5.000. Spectrum estimate will be unreliable.\n",
      "  con = spectral_connectivity_epochs(\n",
      "/var/folders/rf/xrxwkkr96qq6kyy5jfx9hvgw0000gn/T/ipykernel_4900/398803393.py:3: RuntimeWarning: fmin=4.000 Hz corresponds to 4.000 < 5 cycles based on the epoch length 1.000 sec, need at least 1.250 sec epochs or fmin=5.000. Spectrum estimate will be unreliable.\n",
      "  con = spectral_connectivity_epochs(\n",
      "/var/folders/rf/xrxwkkr96qq6kyy5jfx9hvgw0000gn/T/ipykernel_4900/398803393.py:3: RuntimeWarning: fmin=1.000 Hz corresponds to 1.000 < 5 cycles based on the epoch length 1.000 sec, need at least 5.000 sec epochs or fmin=5.000. Spectrum estimate will be unreliable.\n",
      "  con = spectral_connectivity_epochs(\n",
      "/var/folders/rf/xrxwkkr96qq6kyy5jfx9hvgw0000gn/T/ipykernel_4900/398803393.py:3: RuntimeWarning: fmin=4.000 Hz corresponds to 4.000 < 5 cycles based on the epoch length 1.000 sec, need at least 1.250 sec epochs or fmin=5.000. Spectrum estimate will be unreliable.\n",
      "  con = spectral_connectivity_epochs(\n"
     ]
    },
    {
     "name": "stdout",
     "output_type": "stream",
     "text": [
      "Done computing ppc connectivity.\n"
     ]
    },
    {
     "name": "stderr",
     "output_type": "stream",
     "text": [
      "/var/folders/rf/xrxwkkr96qq6kyy5jfx9hvgw0000gn/T/ipykernel_4900/398803393.py:3: RuntimeWarning: fmin=1.000 Hz corresponds to 1.000 < 5 cycles based on the epoch length 1.000 sec, need at least 5.000 sec epochs or fmin=5.000. Spectrum estimate will be unreliable.\n",
      "  con = spectral_connectivity_epochs(\n",
      "/var/folders/rf/xrxwkkr96qq6kyy5jfx9hvgw0000gn/T/ipykernel_4900/398803393.py:3: RuntimeWarning: fmin=4.000 Hz corresponds to 4.000 < 5 cycles based on the epoch length 1.000 sec, need at least 1.250 sec epochs or fmin=5.000. Spectrum estimate will be unreliable.\n",
      "  con = spectral_connectivity_epochs(\n"
     ]
    },
    {
     "data": {
      "text/plain": [
       "        con  node1  node2      band  subject_id genotype\n",
       "0  0.984458  OFC_R     CG  $\\delta$       80625  DRD2-KO\n",
       "1  0.967772  OFC_R  STR_R  $\\delta$       80625  DRD2-KO\n",
       "2  0.871417  OFC_R   S1_L  $\\delta$       80625  DRD2-KO\n",
       "3  0.960256  OFC_R   S1_R  $\\delta$       80625  DRD2-KO\n",
       "4  0.427731  OFC_R   V1_R  $\\delta$       80625  DRD2-KO"
      ],
      "text/html": [
       "<div>\n",
       "<style scoped>\n",
       "    .dataframe tbody tr th:only-of-type {\n",
       "        vertical-align: middle;\n",
       "    }\n",
       "\n",
       "    .dataframe tbody tr th {\n",
       "        vertical-align: top;\n",
       "    }\n",
       "\n",
       "    .dataframe thead th {\n",
       "        text-align: right;\n",
       "    }\n",
       "</style>\n",
       "<table border=\"1\" class=\"dataframe\">\n",
       "  <thead>\n",
       "    <tr style=\"text-align: right;\">\n",
       "      <th></th>\n",
       "      <th>con</th>\n",
       "      <th>node1</th>\n",
       "      <th>node2</th>\n",
       "      <th>band</th>\n",
       "      <th>subject_id</th>\n",
       "      <th>genotype</th>\n",
       "    </tr>\n",
       "  </thead>\n",
       "  <tbody>\n",
       "    <tr>\n",
       "      <th>0</th>\n",
       "      <td>0.984458</td>\n",
       "      <td>OFC_R</td>\n",
       "      <td>CG</td>\n",
       "      <td>$\\delta$</td>\n",
       "      <td>80625</td>\n",
       "      <td>DRD2-KO</td>\n",
       "    </tr>\n",
       "    <tr>\n",
       "      <th>1</th>\n",
       "      <td>0.967772</td>\n",
       "      <td>OFC_R</td>\n",
       "      <td>STR_R</td>\n",
       "      <td>$\\delta$</td>\n",
       "      <td>80625</td>\n",
       "      <td>DRD2-KO</td>\n",
       "    </tr>\n",
       "    <tr>\n",
       "      <th>2</th>\n",
       "      <td>0.871417</td>\n",
       "      <td>OFC_R</td>\n",
       "      <td>S1_L</td>\n",
       "      <td>$\\delta$</td>\n",
       "      <td>80625</td>\n",
       "      <td>DRD2-KO</td>\n",
       "    </tr>\n",
       "    <tr>\n",
       "      <th>3</th>\n",
       "      <td>0.960256</td>\n",
       "      <td>OFC_R</td>\n",
       "      <td>S1_R</td>\n",
       "      <td>$\\delta$</td>\n",
       "      <td>80625</td>\n",
       "      <td>DRD2-KO</td>\n",
       "    </tr>\n",
       "    <tr>\n",
       "      <th>4</th>\n",
       "      <td>0.427731</td>\n",
       "      <td>OFC_R</td>\n",
       "      <td>V1_R</td>\n",
       "      <td>$\\delta$</td>\n",
       "      <td>80625</td>\n",
       "      <td>DRD2-KO</td>\n",
       "    </tr>\n",
       "  </tbody>\n",
       "</table>\n",
       "</div>"
      ]
     },
     "execution_count": 34,
     "metadata": {},
     "output_type": "execute_result"
    }
   ],
   "execution_count": 34
  },
  {
   "metadata": {
    "ExecuteTime": {
     "end_time": "2024-05-06T13:53:08.729049Z",
     "start_time": "2024-05-06T13:52:43.575866Z"
    }
   },
   "cell_type": "code",
   "source": [
    "generate_grid_plot_wt_vs_ko(ppc_social, 'social_cup', 'ppc')\n",
    "generate_grid_plot_wt_vs_ko(ppc_non_social, 'non-social_cup', 'ppc')"
   ],
   "id": "abe6a98a8d29e9a8",
   "outputs": [],
   "execution_count": 35
  },
  {
   "metadata": {
    "ExecuteTime": {
     "end_time": "2024-05-06T13:53:26.019258Z",
     "start_time": "2024-05-06T13:53:08.731534Z"
    }
   },
   "cell_type": "code",
   "source": [
    "generate_barplots(ppc_social, 'social_cup', 'ppc')\n",
    "generate_barplots(ppc_non_social, 'non-social_cup', 'ppc')"
   ],
   "id": "1aa35c5298e75693",
   "outputs": [],
   "execution_count": 36
  },
  {
   "metadata": {},
   "cell_type": "markdown",
   "source": [
    "## Multivariate connectivity analysis\n",
    "\n",
    "Compute the multivariate connectivity measures for all subject's epochs\n",
    "\n",
    "#### First, we use all EEG channels\n",
    "\n",
    "Now, we also include the skull electrodes, and of course still exclude the EMGs"
   ],
   "id": "fa2be3d6525616a8"
  },
  {
   "metadata": {
    "ExecuteTime": {
     "end_time": "2024-05-06T14:43:28.981408Z",
     "start_time": "2024-05-06T14:42:29.235330Z"
    }
   },
   "cell_type": "code",
   "source": [
    "results_df = pd.DataFrame()\n",
    "\n",
    "# for each subject, get the resting/active/sleep epochs, drop the emg channels and calculate the mic and mim\n",
    "for subj_epochs in all_subject_epochs:\n",
    "    subject_id = int(subj_epochs.metadata['subject_id'].iloc[0])\n",
    "    genotype = subj_epochs.metadata['genotype'].iloc[0]\n",
    "    to_drop = [x for x in ['EMG_L', 'EMG_R'] if x in subj_epochs.info['ch_names']]\n",
    "    subj_epochs = subj_epochs.load_data().drop_channels(to_drop)\n",
    "    \n",
    "    for behaviour in ['social_cup', 'non-social_cup']:\n",
    "        state_epochs = subj_epochs[subj_epochs.metadata['interaction_kind'] == behaviour]\n",
    "\n",
    "        (mic, mim) = spectral_connectivity_epochs(state_epochs, method=['mic', 'mim'], n_jobs=-1, fmin=1, fmax=100, verbose='ERROR')\n",
    "    \n",
    "        results_df = pd.concat([results_df, pd.DataFrame({\n",
    "            'animal_id' : subject_id,\n",
    "            'genotype' : genotype,\n",
    "            'behaviour': behaviour,\n",
    "            'freqs' : mic.freqs,\n",
    "            'mic' : mic.get_data()[0,:],\n",
    "            'mim' : mim.get_data()[0,:],\n",
    "            'low_qual_chans': True if subject_id in low_qual_chans.keys() else False\n",
    "        })])"
   ],
   "id": "3e99acd44a475212",
   "outputs": [],
   "execution_count": 35
  },
  {
   "metadata": {
    "ExecuteTime": {
     "end_time": "2024-05-06T14:45:35.152390Z",
     "start_time": "2024-05-06T14:45:22.547729Z"
    }
   },
   "cell_type": "code",
   "source": [
    "fig, axs = plt.subplots(nrows=1, ncols=2, figsize=(15, 5))\n",
    "axs = axs.ravel()\n",
    "\n",
    "for i, interaction_kind in enumerate(results_df.behaviour.unique()):\n",
    "    results = results_df.loc[(results_df['behaviour'] == interaction_kind) & (results_df['low_qual_chans'] == False)]\n",
    "    \n",
    "    sns.lineplot(x=results.freqs, y=np.abs(results.mic), hue=results.genotype, errorbar=('ci', 95), ax=axs[i], palette=palette_gr)\n",
    "    axs[i].set_xlabel(\"Frequency (Hz)\")\n",
    "    axs[i].set_ylabel(\"Absolute connectivity (A.U.)\")\n",
    "    axs[i].set_title(interaction_kind)\n",
    "    axs[i].legend(loc='best', frameon=False)\n",
    "    \n",
    "fig.suptitle(\"Maximised imaginary part of coherency (MIC), all EEG channels\", y=0.99)\n",
    "save_figure(os.path.join(plot_folder, f\"connectivity/multivariate/total_mic.pdf\"))"
   ],
   "id": "511ea0205eadaae0",
   "outputs": [],
   "execution_count": 37
  },
  {
   "metadata": {
    "ExecuteTime": {
     "end_time": "2024-05-06T14:46:22.364667Z",
     "start_time": "2024-05-06T14:46:08.383729Z"
    }
   },
   "cell_type": "code",
   "source": [
    "fig, axs = plt.subplots(nrows=1, ncols=2, figsize=(15, 5))\n",
    "axs = axs.ravel()\n",
    "\n",
    "for i, interaction_kind in enumerate(results_df.behaviour.unique()):\n",
    "    results = results_df.loc[(results_df['behaviour'] == interaction_kind) & (results_df['low_qual_chans'] == False)]\n",
    "    \n",
    "    sns.lineplot(x=results.freqs, y=results.mim, hue=results.genotype, errorbar=('ci', 95), ax=axs[i], palette=palette_gr)\n",
    "    axs[i].set_xlabel(\"Frequency (Hz)\")\n",
    "    axs[i].set_ylabel(\"Absolute connectivity (A.U.)\")\n",
    "    axs[i].set_title(interaction_kind)\n",
    "    axs[i].legend(loc='best', frameon=False)\n",
    "    \n",
    "fig.suptitle(\"Multivariate interaction measure (MIM), all EEG channels\", y=0.99)\n",
    "save_figure(os.path.join(plot_folder, f\"connectivity/multivariate/total_mim.pdf\"))"
   ],
   "id": "592b6198b88d58f9",
   "outputs": [],
   "execution_count": 39
  },
  {
   "metadata": {
    "ExecuteTime": {
     "end_time": "2024-05-06T14:47:28.407171Z",
     "start_time": "2024-05-06T14:47:10.222146Z"
    }
   },
   "cell_type": "code",
   "source": [
    "for interaction_kind in results_df.behaviour.unique():\n",
    "    fig, axs = plt.subplots(nrows=3, ncols=2, figsize=(20, 11))\n",
    "    axs = axs.ravel()\n",
    "    results = results_df.loc[(results_df['behaviour'] == interaction_kind) & (results_df['low_qual_chans'] == False)]\n",
    "    \n",
    "    for i, (band, (start, end)) in enumerate(freq_bands_eeg.items()):\n",
    "        slice_data = results[(results.freqs >= start) & (results.freqs <= end)]\n",
    "        sns.lineplot(x=slice_data.freqs, y=np.abs(slice_data.mic), hue=slice_data.genotype, errorbar=('ci', 95), ax=axs[i], palette=palette_gr)\n",
    "        axs[i].set_title(f'{interaction_kind} - band: {band}')\n",
    "    \n",
    "    fig.suptitle(\"Maximised imaginary part of coherency (MIC) per band, all EEG channels\", y=0.99)\n",
    "    axs[-1].remove()\n",
    "    plt.tight_layout()\n",
    "    save_figure(os.path.join(plot_folder, f\"connectivity/multivariate/mic_parts_{interaction_kind}.pdf\"))"
   ],
   "id": "ebea77cff3b9576d",
   "outputs": [],
   "execution_count": 40
  },
  {
   "metadata": {
    "ExecuteTime": {
     "end_time": "2024-05-06T14:47:44.573143Z",
     "start_time": "2024-05-06T14:47:28.410341Z"
    }
   },
   "cell_type": "code",
   "source": [
    "for interaction_kind in results_df.behaviour.unique():\n",
    "    fig, axs = plt.subplots(nrows=3, ncols=2, figsize=(20, 11))\n",
    "    axs = axs.ravel()\n",
    "    results = results_df.loc[results_df['behaviour'] == interaction_kind]\n",
    "    \n",
    "    for i, (band, (start, end)) in enumerate(freq_bands_eeg.items()):\n",
    "        slice_data = results[(results.freqs >= start) & (results.freqs <= end)]\n",
    "        sns.lineplot(x=slice_data.freqs, y=slice_data.mim, hue=slice_data.genotype, errorbar=('ci', 95), ax=axs[i], palette=palette_gr)\n",
    "        axs[i].set_title(f'{interaction_kind} - band: {band}')\n",
    "    \n",
    "    fig.suptitle(\"Multivariate interaction measure (MIM) per band, all EEG channels\", y=0.99)\n",
    "    axs[-1].remove()\n",
    "    plt.tight_layout()\n",
    "    save_figure(os.path.join(plot_folder, f\"connectivity/multivariate/mim_parts_{interaction_kind}.pdf\"))"
   ],
   "id": "c10bdd8a2446fd73",
   "outputs": [],
   "execution_count": 41
  },
  {
   "metadata": {},
   "cell_type": "markdown",
   "source": "#### Now we do the same, but using only the depth electrodes",
   "id": "9f3057da2d2bad2d"
  },
  {
   "metadata": {
    "ExecuteTime": {
     "end_time": "2024-05-06T14:48:42.538624Z",
     "start_time": "2024-05-06T14:47:46.863496Z"
    }
   },
   "cell_type": "code",
   "source": [
    "results_df = pd.DataFrame()\n",
    "\n",
    "# for each subject, get the resting/active/sleep epochs, drop the emg channels and calculate the mic and mim\n",
    "for subj_epochs in all_subject_epochs:\n",
    "    subject_id = int(subj_epochs.metadata['subject_id'].iloc[0])\n",
    "    genotype = subj_epochs.metadata['genotype'].iloc[0]\n",
    "    to_drop = [x for x in ['S1_L', 'S1_R', 'V1_R', 'EMG_L', 'EMG_R'] if x in subj_epochs.info['ch_names']]\n",
    "    subj_epochs = subj_epochs.load_data().drop_channels(to_drop)\n",
    "    \n",
    "    for behaviour in ['social_cup', 'non-social_cup']:\n",
    "        state_epochs = subj_epochs[subj_epochs.metadata['interaction_kind'] == behaviour]\n",
    "\n",
    "        (mic, mim) = spectral_connectivity_epochs(state_epochs, method=['mic', 'mim'], n_jobs=-1, fmin=1, fmax=100, verbose='ERROR')\n",
    "    \n",
    "        results_df = pd.concat([results_df, pd.DataFrame({\n",
    "            'animal_id' : subject_id,\n",
    "            'genotype' : genotype,\n",
    "            'behaviour': behaviour,\n",
    "            'freqs' : mic.freqs,\n",
    "            'mic' : mic.get_data()[0,:],\n",
    "            'mim' : mim.get_data()[0,:],\n",
    "            'low_qual_chans': True if subject_id in low_qual_chans.keys() else False\n",
    "        })])"
   ],
   "id": "42774cedd6a991ac",
   "outputs": [],
   "execution_count": 42
  },
  {
   "metadata": {
    "ExecuteTime": {
     "end_time": "2024-05-06T14:49:27.287833Z",
     "start_time": "2024-05-06T14:49:09.996109Z"
    }
   },
   "cell_type": "code",
   "source": [
    "fig, axs = plt.subplots(nrows=1, ncols=2, figsize=(15, 5))\n",
    "axs = axs.ravel()\n",
    "\n",
    "for i, interaction_kind in enumerate(results_df.behaviour.unique()):\n",
    "    results = results_df.loc[(results_df['behaviour'] == interaction_kind) & (results_df['low_qual_chans'] == False)]\n",
    "    \n",
    "    sns.lineplot(x=results.freqs, y=np.abs(results.mic), hue=results.genotype, errorbar=('ci', 95), ax=axs[i], palette=palette_gr)\n",
    "    axs[i].set_xlabel(\"Frequency (Hz)\")\n",
    "    axs[i].set_ylabel(\"Absolute connectivity (A.U.)\")\n",
    "    axs[i].set_title(interaction_kind)\n",
    "    axs[i].legend(loc='best', frameon=False)\n",
    "    \n",
    "fig.suptitle(\"Maximised imaginary part of coherency (MIC), depth electrodes only\", y=0.99)\n",
    "save_figure(os.path.join(plot_folder, f\"connectivity/multivariate/total_mic_depth_electrodes_only.pdf\"))"
   ],
   "id": "d4a7df01f4ed5104",
   "outputs": [],
   "execution_count": 43
  },
  {
   "metadata": {
    "ExecuteTime": {
     "end_time": "2024-05-06T14:49:37.315158Z",
     "start_time": "2024-05-06T14:49:27.290982Z"
    }
   },
   "cell_type": "code",
   "source": [
    "fig, axs = plt.subplots(nrows=1, ncols=2, figsize=(15, 5))\n",
    "axs = axs.ravel()\n",
    "\n",
    "for i, interaction_kind in enumerate(results_df.behaviour.unique()):\n",
    "    results = results_df[(results_df['behaviour'] == interaction_kind) & (results_df['low_qual_chans'] == False)]\n",
    "    \n",
    "    sns.lineplot(x=results.freqs, y=results.mim, hue=results.genotype, errorbar=('ci', 95), ax=axs[i], palette=palette_gr)\n",
    "    axs[i].set_xlabel(\"Frequency (Hz)\")\n",
    "    axs[i].set_ylabel(\"Absolute connectivity (A.U.)\")\n",
    "    axs[i].set_title(interaction_kind)\n",
    "    axs[i].legend(loc='best', frameon=False)\n",
    "    \n",
    "fig.suptitle(\"Multivariate interaction measure (MIM), depth electrodes only\", y=0.99)\n",
    "save_figure(os.path.join(plot_folder, f\"connectivity/multivariate/total_mim_depth_electrodes_only.pdf\"))"
   ],
   "id": "37f0f4a53b50611a",
   "outputs": [],
   "execution_count": 44
  },
  {
   "metadata": {
    "ExecuteTime": {
     "end_time": "2024-05-06T14:50:40.630653Z",
     "start_time": "2024-05-06T14:50:32.218072Z"
    }
   },
   "cell_type": "code",
   "source": [
    "for interaction_kind in results_df.behaviour.unique():\n",
    "    fig, axs = plt.subplots(nrows=3, ncols=2, figsize=(20, 11))\n",
    "    axs = axs.ravel()\n",
    "    results = results_df[(results_df['behaviour'] == interaction_kind) & (results_df['low_qual_chans'] == False)]\n",
    "    \n",
    "    for i, (band, (start, end)) in enumerate(freq_bands_eeg.items()):\n",
    "        slice_data = results[(results.freqs >= start) & (results.freqs <= end)]\n",
    "        sns.lineplot(x=slice_data.freqs, y=np.abs(slice_data.mic), hue=slice_data.genotype, errorbar='se', ax=axs[i], palette=palette_gr)\n",
    "        axs[i].set_title(f'{interaction_kind} - band: {band}')\n",
    "    \n",
    "    fig.suptitle(\"Maximised imaginary part of coherency (MIC) per band, depth electrodes only\", y=0.99)\n",
    "    plt.tight_layout()\n",
    "    axs[-1].remove()\n",
    "    save_figure(os.path.join(plot_folder, f\"connectivity/multivariate/mic_parts_{interaction_kind}_depth_electrodes_only.pdf\"))"
   ],
   "id": "4645f7b8446cff50",
   "outputs": [],
   "execution_count": 46
  },
  {
   "metadata": {},
   "cell_type": "markdown",
   "source": "Now for the MIM",
   "id": "27a210155e9e1acc"
  },
  {
   "metadata": {
    "ExecuteTime": {
     "end_time": "2024-05-06T14:50:46.091675Z",
     "start_time": "2024-05-06T14:50:40.636725Z"
    }
   },
   "cell_type": "code",
   "source": [
    "for interaction_kind in results_df.behaviour.unique():\n",
    "    fig, axs = plt.subplots(nrows=3, ncols=2, figsize=(20, 11))\n",
    "    axs = axs.ravel()\n",
    "    results = results_df.loc[(results_df['behaviour'] == interaction_kind) & (results_df['low_qual_chans'] == False)]\n",
    "    \n",
    "    for i, (band, (start, end)) in enumerate(freq_bands_eeg.items()):\n",
    "        slice_data = results[(results.freqs >= start) & (results.freqs <= end)]\n",
    "        sns.lineplot(x=slice_data.freqs, y=slice_data.mim, hue=slice_data.genotype, errorbar='se', ax=axs[i], palette=palette_gr)\n",
    "        axs[i].set_title(f'{interaction_kind} - band: {band}')\n",
    "    \n",
    "    fig.suptitle(\"Multivariate interaction measure (MIM) per band, depth electrodes only\", y=0.99)\n",
    "    plt.tight_layout()\n",
    "    axs[-1].remove()\n",
    "    save_figure(os.path.join(plot_folder, f\"connectivity/multivariate/mim_parts_{interaction_kind}_depth_electrodes_only.pdf\"))"
   ],
   "id": "be3ad9bd60d18551",
   "outputs": [],
   "execution_count": 47
  },
  {
   "metadata": {},
   "cell_type": "markdown",
   "source": "## WT vs KO gridplot of averaged time-reversed Granger Causality",
   "id": "5382438d43611e6e"
  },
  {
   "metadata": {
    "ExecuteTime": {
     "end_time": "2024-05-06T14:51:54.659889Z",
     "start_time": "2024-05-06T14:51:54.067939Z"
    }
   },
   "cell_type": "code",
   "source": [
    "all_subject_epochs = []\n",
    "for file in os.listdir(epoch_folder):\n",
    "    if not file.endswith('.fif') or file.startswith('.'):\n",
    "        continue\n",
    "    all_subject_epochs.append(mne.read_epochs(os.path.join(epoch_folder, file), preload=True, verbose='WARNING'))"
   ],
   "id": "2bd7a9383fa36c6d",
   "outputs": [],
   "execution_count": 48
  },
  {
   "metadata": {
    "ExecuteTime": {
     "end_time": "2024-05-06T14:51:54.671851Z",
     "start_time": "2024-05-06T14:51:54.663077Z"
    }
   },
   "cell_type": "code",
   "source": [
    "def compute_indices(subject_epochs, channel_a, channel_b):\n",
    "    signals_a = [\n",
    "        idx\n",
    "        for idx, ch_info in enumerate(subject_epochs.info[\"chs\"])\n",
    "        if ch_info[\"ch_name\"] == channel_a\n",
    "    ]\n",
    "    # occipital sensors\n",
    "    signals_b = [\n",
    "        idx\n",
    "        for idx, ch_info in enumerate(subject_epochs.info[\"chs\"])\n",
    "        if ch_info[\"ch_name\"] == channel_b\n",
    "    ]\n",
    "    \n",
    "    indices_ab = (np.array([signals_a]), np.array([signals_b]))  # A => B\n",
    "    indices_ba = (np.array([signals_b]), np.array([signals_a]))  # B => A\n",
    "    \n",
    "    return indices_ab, indices_ba"
   ],
   "id": "da85bb8e2f4f3c96",
   "outputs": [],
   "execution_count": 49
  },
  {
   "metadata": {
    "ExecuteTime": {
     "end_time": "2024-05-06T14:51:56.468442Z",
     "start_time": "2024-05-06T14:51:56.452528Z"
    }
   },
   "cell_type": "code",
   "source": [
    "def get_tr_gc(all_subject_epochs, interaction_kind, channel_a, channel_b):\n",
    "    wt_trgcs, ko_trgcs = [], []\n",
    "    \n",
    "    for subject_epochs in all_subject_epochs:\n",
    "        genotype = subject_epochs.metadata['genotype'].iloc[0]\n",
    "        \n",
    "        indices_ab, indices_ba = compute_indices(subject_epochs, channel_a, channel_b)\n",
    "        \n",
    "        interaction_kind_epochs = subject_epochs[subject_epochs.metadata['interaction_kind'] == interaction_kind]\n",
    "        interaction_kind_epochs = interaction_kind_epochs.drop_channels(['EMG_L', 'EMG_R'])\n",
    "        \n",
    "        gc_ab = spectral_connectivity_epochs(\n",
    "            interaction_kind_epochs,\n",
    "            method=[\"gc\"],\n",
    "            indices=indices_ab,\n",
    "            fmin=1,\n",
    "            fmax=100,\n",
    "            gc_n_lags=20,\n",
    "            verbose='ERROR'\n",
    "        )  # A => B\n",
    "        gc_ba = spectral_connectivity_epochs(\n",
    "            interaction_kind_epochs,\n",
    "            method=[\"gc\"],\n",
    "            indices=indices_ba,\n",
    "            fmin=1,\n",
    "            fmax=100,\n",
    "            gc_n_lags=20,\n",
    "            verbose='ERROR'\n",
    "        )  # B => A\n",
    "        freqs = gc_ab.freqs\n",
    "        net_gc = gc_ab.get_data() - gc_ba.get_data()  # [A => B] - [B => A]\n",
    "        # compute GC on time-reversed signals\n",
    "        gc_tr_ab = spectral_connectivity_epochs(\n",
    "            interaction_kind_epochs,\n",
    "            method=[\"gc_tr\"],\n",
    "            indices=indices_ab,\n",
    "            fmin=1,\n",
    "            fmax=100,\n",
    "            gc_n_lags=20,\n",
    "            verbose='ERROR'\n",
    "        )  # TR[A => B]\n",
    "        gc_tr_ba = spectral_connectivity_epochs(\n",
    "            interaction_kind_epochs,\n",
    "            method=[\"gc_tr\"],\n",
    "            indices=indices_ba,\n",
    "            fmin=1,\n",
    "            fmax=100,\n",
    "            gc_n_lags=20,\n",
    "            verbose='ERROR'\n",
    "        )  # TR[B => A]\n",
    "        \n",
    "        # compute net GC on time-reversed signals (TR[A => B] - TR[B => A])\n",
    "        net_gc_tr = gc_tr_ab.get_data() - gc_tr_ba.get_data()\n",
    "        \n",
    "        # compute TRGC\n",
    "        trgc = net_gc - net_gc_tr\n",
    "        \n",
    "        wt_trgcs.append(trgc) if genotype == \"DRD2-WT\" else ko_trgcs.append(trgc)\n",
    "        \n",
    "    return freqs, wt_trgcs, ko_trgcs"
   ],
   "id": "a1d04f3848b94d17",
   "outputs": [],
   "execution_count": 50
  },
  {
   "metadata": {},
   "cell_type": "markdown",
   "source": "Chans to compute granger causality for",
   "id": "2de12e0044c351f2"
  },
  {
   "metadata": {
    "ExecuteTime": {
     "end_time": "2024-05-06T14:51:59.656510Z",
     "start_time": "2024-05-06T14:51:59.649299Z"
    }
   },
   "cell_type": "code",
   "source": [
    "chans = all_subject_epochs[0].info['ch_names']\n",
    "chans = [chan for chan in chans if chan not in ['EMG_L', 'EMG_R']]\n",
    "chans"
   ],
   "id": "9084abcc9ae888dd",
   "outputs": [
    {
     "data": {
      "text/plain": [
       "['OFC_R', 'OFC_L', 'CG', 'STR_R', 'S1_L', 'S1_R', 'V1_R']"
      ]
     },
     "execution_count": 51,
     "metadata": {},
     "output_type": "execute_result"
    }
   ],
   "execution_count": 51
  },
  {
   "metadata": {},
   "cell_type": "markdown",
   "source": "Compute for both social_cup and non-social_cup interactions",
   "id": "26848c5433a0afe0"
  },
  {
   "metadata": {
    "ExecuteTime": {
     "end_time": "2024-05-06T14:55:19.065392Z",
     "start_time": "2024-05-06T14:52:07.313372Z"
    }
   },
   "cell_type": "code",
   "source": [
    "for interaction_kind in ['social_cup', 'non-social_cup']:\n",
    "    \n",
    "    fig, axs = plt.subplots(nrows=3, ncols=7, figsize=(35, 15), sharey=True, sharex=True)\n",
    "    axs = axs.ravel()\n",
    "    \n",
    "    grid_index = 0\n",
    "    for i in range(len(chans)):\n",
    "        for j in range(i + 1, len(chans)):\n",
    "            freqs, wt_trgcs, ko_trgcs = get_tr_gc(all_subject_epochs, interaction_kind, chans[i], chans[j])\n",
    "            \n",
    "            averaged_wt_trgcs = np.mean(wt_trgcs, axis=0)\n",
    "            averaged_ko_trgcs = np.mean(ko_trgcs, axis=0)\n",
    "            \n",
    "            axs[grid_index].plot((freqs[0], freqs[-1]), (0, 0), linewidth=2, linestyle=\"--\", color=\"k\")\n",
    "            axs[grid_index].plot(freqs, averaged_wt_trgcs[0], linewidth=2, label='DRD2-WT')\n",
    "            axs[grid_index].plot(freqs, averaged_ko_trgcs[0], linewidth=2, label='DRD2-KO')\n",
    "            axs[grid_index].legend()\n",
    "            for band, (start, end) in freq_bands_eeg.items():\n",
    "                axs[grid_index].axvline(x=start, color='gray', linestyle='--', alpha=0.3)\n",
    "                axs[grid_index].axvline(x=end, color='gray', linestyle='--', alpha=0.3)\n",
    "                axs[grid_index].text((start + end) / 2, axs[grid_index].get_ylim()[1] * 1.01, band, horizontalalignment='center', verticalalignment='top', fontsize=8, color='black')\n",
    "            axs[grid_index].set_title(f'Time-reversed GC: net[{chans[i]} => {chans[j]}]')\n",
    "            grid_index += 1\n",
    "    \n",
    "    save_figure(os.path.join(plot_folder, f\"connectivity/TRGC_{interaction_kind}_grid.pdf\"))"
   ],
   "id": "291c19887f4c30db",
   "outputs": [],
   "execution_count": 52
  }
 ],
 "metadata": {
  "kernelspec": {
   "display_name": "Python 3",
   "language": "python",
   "name": "python3"
  },
  "language_info": {
   "codemirror_mode": {
    "name": "ipython",
    "version": 2
   },
   "file_extension": ".py",
   "mimetype": "text/x-python",
   "name": "python",
   "nbconvert_exporter": "python",
   "pygments_lexer": "ipython2",
   "version": "2.7.6"
  }
 },
 "nbformat": 4,
 "nbformat_minor": 5
}
