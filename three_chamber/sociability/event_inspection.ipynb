{
 "cells": [
  {
   "metadata": {
    "ExecuteTime": {
     "end_time": "2024-05-08T07:44:02.968578Z",
     "start_time": "2024-05-08T07:44:01.994914Z"
    }
   },
   "cell_type": "code",
   "source": [
    "import os\n",
    "import mne\n",
    "import numpy as np\n",
    "import pandas as pd\n",
    "import seaborn as sns\n",
    "import matplotlib.pyplot as plt\n",
    "from mne_connectivity import spectral_connectivity_epochs, seed_target_indices\n",
    "\n",
    "from shared.helper_functions import save_figure, select_folder, select_or_create_folder\n",
    "from settings_general import low_qual_chans, freq_bands_eeg, subject_id_batch_cage_dict"
   ],
   "id": "bf363b6df47d7e1a",
   "outputs": [],
   "execution_count": 1
  },
  {
   "metadata": {
    "ExecuteTime": {
     "end_time": "2024-05-08T07:44:02.978096Z",
     "start_time": "2024-05-08T07:44:02.971718Z"
    }
   },
   "cell_type": "code",
   "source": "sns.set_theme()",
   "id": "94f2579328df5a7d",
   "outputs": [],
   "execution_count": 2
  },
  {
   "metadata": {
    "ExecuteTime": {
     "end_time": "2024-05-08T07:44:02.987664Z",
     "start_time": "2024-05-08T07:44:02.980734Z"
    }
   },
   "cell_type": "code",
   "source": [
    "palette = {'DRD2-WT': '#427C99', 'DRD2-KO': '#AF5541'}\n",
    "palette_gr = {'DRD2-WT':'#6A8D73', 'DRD2-KO':'#984447'}"
   ],
   "id": "402ce1672e3d6345",
   "outputs": [],
   "execution_count": 3
  },
  {
   "metadata": {
    "ExecuteTime": {
     "end_time": "2024-05-08T07:44:11.723347Z",
     "start_time": "2024-05-08T07:44:02.992878Z"
    }
   },
   "cell_type": "code",
   "source": "boris_folder = select_folder(\"Select the folder that holds the BORIS behaviour tracking files\")",
   "id": "2598e959e8ef523d",
   "outputs": [
    {
     "name": "stderr",
     "output_type": "stream",
     "text": [
      "2024-05-08 09:44:05.311 python[12772:507113] +[CATransaction synchronize] called within transaction\n"
     ]
    }
   ],
   "execution_count": 4
  },
  {
   "metadata": {
    "ExecuteTime": {
     "end_time": "2024-05-08T07:44:13.827578Z",
     "start_time": "2024-05-08T07:44:13.815981Z"
    }
   },
   "cell_type": "code",
   "source": "boris_folder",
   "id": "2ea16ea40f6cd2c4",
   "outputs": [
    {
     "data": {
      "text/plain": [
       "'/Users/olledejong/Documents/MSc_Biology/ResearchProject2/rp2_data/3C_sociability/input/behavioural_data'"
      ]
     },
     "execution_count": 5,
     "metadata": {},
     "output_type": "execute_result"
    }
   ],
   "execution_count": 5
  },
  {
   "metadata": {
    "ExecuteTime": {
     "end_time": "2024-05-08T07:44:16.320160Z",
     "start_time": "2024-05-08T07:44:16.308240Z"
    }
   },
   "cell_type": "code",
   "source": [
    "def merge_event_rows(beh_data):\n",
    "    merged_df = pd.concat([\n",
    "        beh_data.iloc[::2].reset_index(drop=True),  # only keep each start row\n",
    "        beh_data.iloc[::2].reset_index(drop=True)['Image index'].rename('Frame start'),  # interaction start frame\n",
    "        beh_data.iloc[1::2].reset_index(drop=True)['Image index'].rename('Frame stop'),  # interaction stop frame\n",
    "        beh_data.iloc[1::2].reset_index(drop=True)['Time'] - beh_data.iloc[::2]['Time'].reset_index(drop=True),\n",
    "        # duration\n",
    "    ], axis=1)\n",
    "    # rename the last column as it represents the duration of the interaction\n",
    "    merged_df = merged_df.set_axis([*merged_df.columns[:-1], 'Interaction duration'], axis=1)\n",
    "    # drop the columns we don't need\n",
    "    cols_to_drop = [\n",
    "        'Image index', 'Time', 'Observation type', 'Source', 'Time offset (s)', 'Subject', 'Comment', 'Image file path',\n",
    "        'Description', 'Behavioral category', 'Behavior type'\n",
    "    ]\n",
    "    return merged_df.drop(columns=cols_to_drop)"
   ],
   "id": "f1f57fe99841d684",
   "outputs": [],
   "execution_count": 6
  },
  {
   "metadata": {
    "ExecuteTime": {
     "end_time": "2024-05-08T07:44:19.074117Z",
     "start_time": "2024-05-08T07:44:17.157061Z"
    }
   },
   "cell_type": "code",
   "source": [
    "beh_df = pd.DataFrame()\n",
    "\n",
    "for file in os.listdir(boris_folder):\n",
    "    if not file.endswith('.xlsx'):\n",
    "        continue\n",
    "    beh_data = pd.read_excel(os.path.join(boris_folder, file))\n",
    "    batch_cage = file.split('.')[0]\n",
    "    subject_id = [key for key, value in subject_id_batch_cage_dict.items() if value == batch_cage][0]\n",
    "\n",
    "    for event_type in beh_data['Behavior'].unique():\n",
    "        beh_dat_event = beh_data[beh_data['Behavior'] == event_type]\n",
    "        starts = beh_dat_event[beh_dat_event['Behavior type'] == 'START']\n",
    "        stops = beh_dat_event[beh_dat_event['Behavior type'] == 'STOP']\n",
    "\n",
    "        if len(stops) < len(starts):\n",
    "            print(f'({batch_cage}, {subject_id}) Number of STOPs is smaller than number of STARTs for {event_type}')\n",
    "            if beh_dat_event.iloc[-1]['Behavior type'] == 'START':\n",
    "                print('Removing last row because it is of type START')\n",
    "                beh_dat_event = beh_dat_event.drop(beh_dat_event.index[-1])\n",
    "            else:\n",
    "                print(f'Number of STOPs is smaller than number of STARTs, but this is not caused by a START at '\n",
    "                      f'the last row of the dataframe. Skipping..')\n",
    "                continue\n",
    "        if len(starts) < len(stops):\n",
    "            print(f'({batch_cage}, {subject_id}) Number of STARTs is smaller than number of STOPs for {event_type}')\n",
    "            if beh_dat_event.iloc[0]['Behavior type'] == 'STOP':\n",
    "                print('Removing first row because it is of type STOP')\n",
    "                beh_dat_event = beh_dat_event.drop(beh_dat_event.index[0])\n",
    "            else:\n",
    "                print(f'Number of STARTs is smaller than number of STOPs, but this is not caused by a STOP at '\n",
    "                      f'the first row of the dataframe. Skipping..')\n",
    "                continue\n",
    "\n",
    "        beh_dat_event = merge_event_rows(beh_dat_event)\n",
    "        # merge the start and stop rows and calculate some stuff (interaction duration etc)\n",
    "        beh_dat_event.insert(1, 'subject_id', subject_id)\n",
    "        beh_df = pd.concat([beh_df, beh_dat_event], axis=0)"
   ],
   "id": "210e722f6a0510a9",
   "outputs": [],
   "execution_count": 7
  },
  {
   "metadata": {
    "ExecuteTime": {
     "end_time": "2024-05-08T07:44:21.096356Z",
     "start_time": "2024-05-08T07:44:21.062720Z"
    }
   },
   "cell_type": "code",
   "source": "beh_df",
   "id": "2f1fa0ba71c1d4f",
   "outputs": [
    {
     "data": {
      "text/plain": [
       "   Observation id  subject_id         Observation date  Observation duration  \\\n",
       "0    batch5_cage4       81193  2024-04-10 12:12:27.573               608.327   \n",
       "1    batch5_cage4       81193  2024-04-10 12:12:27.573               608.327   \n",
       "2    batch5_cage4       81193  2024-04-10 12:12:27.573               608.327   \n",
       "3    batch5_cage4       81193  2024-04-10 12:12:27.573               608.327   \n",
       "4    batch5_cage4       81193  2024-04-10 12:12:27.573               608.327   \n",
       "..            ...         ...                      ...                   ...   \n",
       "17   batch1_cage3       78227  2024-04-09 14:51:07.391               586.183   \n",
       "18   batch1_cage3       78227  2024-04-09 14:51:07.391               586.183   \n",
       "19   batch1_cage3       78227  2024-04-09 14:51:07.391               586.183   \n",
       "20   batch1_cage3       78227  2024-04-09 14:51:07.391               586.183   \n",
       "21   batch1_cage3       78227  2024-04-09 14:51:07.391               586.183   \n",
       "\n",
       "    Media duration (s)    FPS    Behavior  \\\n",
       "0             1858.755  60.00  social_cup   \n",
       "1             1858.755  60.00  social_cup   \n",
       "2             1858.755  60.00  social_cup   \n",
       "3             1858.755  60.00  social_cup   \n",
       "4             1858.755  60.00  social_cup   \n",
       "..                 ...    ...         ...   \n",
       "17            1906.465  29.97  social_cup   \n",
       "18            1906.465  29.97  social_cup   \n",
       "19            1906.465  29.97  social_cup   \n",
       "20            1906.465  29.97  social_cup   \n",
       "21            1906.465  29.97  social_cup   \n",
       "\n",
       "                                      Media file name  Frame start  \\\n",
       "0   C:/Users/Olle de Jong/Documents/MSc Biology/rp...        37380   \n",
       "1   C:/Users/Olle de Jong/Documents/MSc Biology/rp...        38189   \n",
       "2   C:/Users/Olle de Jong/Documents/MSc Biology/rp...        38273   \n",
       "3   C:/Users/Olle de Jong/Documents/MSc Biology/rp...        39472   \n",
       "4   C:/Users/Olle de Jong/Documents/MSc Biology/rp...        39527   \n",
       "..                                                ...          ...   \n",
       "17  C:/Users/Olle de Jong/Documents/MSc Biology/rp...        53049   \n",
       "18  C:/Users/Olle de Jong/Documents/MSc Biology/rp...        54029   \n",
       "19  C:/Users/Olle de Jong/Documents/MSc Biology/rp...        54561   \n",
       "20  C:/Users/Olle de Jong/Documents/MSc Biology/rp...        54725   \n",
       "21  C:/Users/Olle de Jong/Documents/MSc Biology/rp...        56441   \n",
       "\n",
       "    Frame stop  Interaction duration  \n",
       "0        37609                 7.636  \n",
       "1        38228                 1.299  \n",
       "2        38498                 7.503  \n",
       "3        39503                 1.034  \n",
       "4        39706                 5.969  \n",
       "..         ...                   ...  \n",
       "17       53140                 3.035  \n",
       "18       54241                 7.068  \n",
       "19       54700                 4.635  \n",
       "20       54967                 8.070  \n",
       "21       56496                 1.834  \n",
       "\n",
       "[980 rows x 11 columns]"
      ],
      "text/html": [
       "<div>\n",
       "<style scoped>\n",
       "    .dataframe tbody tr th:only-of-type {\n",
       "        vertical-align: middle;\n",
       "    }\n",
       "\n",
       "    .dataframe tbody tr th {\n",
       "        vertical-align: top;\n",
       "    }\n",
       "\n",
       "    .dataframe thead th {\n",
       "        text-align: right;\n",
       "    }\n",
       "</style>\n",
       "<table border=\"1\" class=\"dataframe\">\n",
       "  <thead>\n",
       "    <tr style=\"text-align: right;\">\n",
       "      <th></th>\n",
       "      <th>Observation id</th>\n",
       "      <th>subject_id</th>\n",
       "      <th>Observation date</th>\n",
       "      <th>Observation duration</th>\n",
       "      <th>Media duration (s)</th>\n",
       "      <th>FPS</th>\n",
       "      <th>Behavior</th>\n",
       "      <th>Media file name</th>\n",
       "      <th>Frame start</th>\n",
       "      <th>Frame stop</th>\n",
       "      <th>Interaction duration</th>\n",
       "    </tr>\n",
       "  </thead>\n",
       "  <tbody>\n",
       "    <tr>\n",
       "      <th>0</th>\n",
       "      <td>batch5_cage4</td>\n",
       "      <td>81193</td>\n",
       "      <td>2024-04-10 12:12:27.573</td>\n",
       "      <td>608.327</td>\n",
       "      <td>1858.755</td>\n",
       "      <td>60.00</td>\n",
       "      <td>social_cup</td>\n",
       "      <td>C:/Users/Olle de Jong/Documents/MSc Biology/rp...</td>\n",
       "      <td>37380</td>\n",
       "      <td>37609</td>\n",
       "      <td>7.636</td>\n",
       "    </tr>\n",
       "    <tr>\n",
       "      <th>1</th>\n",
       "      <td>batch5_cage4</td>\n",
       "      <td>81193</td>\n",
       "      <td>2024-04-10 12:12:27.573</td>\n",
       "      <td>608.327</td>\n",
       "      <td>1858.755</td>\n",
       "      <td>60.00</td>\n",
       "      <td>social_cup</td>\n",
       "      <td>C:/Users/Olle de Jong/Documents/MSc Biology/rp...</td>\n",
       "      <td>38189</td>\n",
       "      <td>38228</td>\n",
       "      <td>1.299</td>\n",
       "    </tr>\n",
       "    <tr>\n",
       "      <th>2</th>\n",
       "      <td>batch5_cage4</td>\n",
       "      <td>81193</td>\n",
       "      <td>2024-04-10 12:12:27.573</td>\n",
       "      <td>608.327</td>\n",
       "      <td>1858.755</td>\n",
       "      <td>60.00</td>\n",
       "      <td>social_cup</td>\n",
       "      <td>C:/Users/Olle de Jong/Documents/MSc Biology/rp...</td>\n",
       "      <td>38273</td>\n",
       "      <td>38498</td>\n",
       "      <td>7.503</td>\n",
       "    </tr>\n",
       "    <tr>\n",
       "      <th>3</th>\n",
       "      <td>batch5_cage4</td>\n",
       "      <td>81193</td>\n",
       "      <td>2024-04-10 12:12:27.573</td>\n",
       "      <td>608.327</td>\n",
       "      <td>1858.755</td>\n",
       "      <td>60.00</td>\n",
       "      <td>social_cup</td>\n",
       "      <td>C:/Users/Olle de Jong/Documents/MSc Biology/rp...</td>\n",
       "      <td>39472</td>\n",
       "      <td>39503</td>\n",
       "      <td>1.034</td>\n",
       "    </tr>\n",
       "    <tr>\n",
       "      <th>4</th>\n",
       "      <td>batch5_cage4</td>\n",
       "      <td>81193</td>\n",
       "      <td>2024-04-10 12:12:27.573</td>\n",
       "      <td>608.327</td>\n",
       "      <td>1858.755</td>\n",
       "      <td>60.00</td>\n",
       "      <td>social_cup</td>\n",
       "      <td>C:/Users/Olle de Jong/Documents/MSc Biology/rp...</td>\n",
       "      <td>39527</td>\n",
       "      <td>39706</td>\n",
       "      <td>5.969</td>\n",
       "    </tr>\n",
       "    <tr>\n",
       "      <th>...</th>\n",
       "      <td>...</td>\n",
       "      <td>...</td>\n",
       "      <td>...</td>\n",
       "      <td>...</td>\n",
       "      <td>...</td>\n",
       "      <td>...</td>\n",
       "      <td>...</td>\n",
       "      <td>...</td>\n",
       "      <td>...</td>\n",
       "      <td>...</td>\n",
       "      <td>...</td>\n",
       "    </tr>\n",
       "    <tr>\n",
       "      <th>17</th>\n",
       "      <td>batch1_cage3</td>\n",
       "      <td>78227</td>\n",
       "      <td>2024-04-09 14:51:07.391</td>\n",
       "      <td>586.183</td>\n",
       "      <td>1906.465</td>\n",
       "      <td>29.97</td>\n",
       "      <td>social_cup</td>\n",
       "      <td>C:/Users/Olle de Jong/Documents/MSc Biology/rp...</td>\n",
       "      <td>53049</td>\n",
       "      <td>53140</td>\n",
       "      <td>3.035</td>\n",
       "    </tr>\n",
       "    <tr>\n",
       "      <th>18</th>\n",
       "      <td>batch1_cage3</td>\n",
       "      <td>78227</td>\n",
       "      <td>2024-04-09 14:51:07.391</td>\n",
       "      <td>586.183</td>\n",
       "      <td>1906.465</td>\n",
       "      <td>29.97</td>\n",
       "      <td>social_cup</td>\n",
       "      <td>C:/Users/Olle de Jong/Documents/MSc Biology/rp...</td>\n",
       "      <td>54029</td>\n",
       "      <td>54241</td>\n",
       "      <td>7.068</td>\n",
       "    </tr>\n",
       "    <tr>\n",
       "      <th>19</th>\n",
       "      <td>batch1_cage3</td>\n",
       "      <td>78227</td>\n",
       "      <td>2024-04-09 14:51:07.391</td>\n",
       "      <td>586.183</td>\n",
       "      <td>1906.465</td>\n",
       "      <td>29.97</td>\n",
       "      <td>social_cup</td>\n",
       "      <td>C:/Users/Olle de Jong/Documents/MSc Biology/rp...</td>\n",
       "      <td>54561</td>\n",
       "      <td>54700</td>\n",
       "      <td>4.635</td>\n",
       "    </tr>\n",
       "    <tr>\n",
       "      <th>20</th>\n",
       "      <td>batch1_cage3</td>\n",
       "      <td>78227</td>\n",
       "      <td>2024-04-09 14:51:07.391</td>\n",
       "      <td>586.183</td>\n",
       "      <td>1906.465</td>\n",
       "      <td>29.97</td>\n",
       "      <td>social_cup</td>\n",
       "      <td>C:/Users/Olle de Jong/Documents/MSc Biology/rp...</td>\n",
       "      <td>54725</td>\n",
       "      <td>54967</td>\n",
       "      <td>8.070</td>\n",
       "    </tr>\n",
       "    <tr>\n",
       "      <th>21</th>\n",
       "      <td>batch1_cage3</td>\n",
       "      <td>78227</td>\n",
       "      <td>2024-04-09 14:51:07.391</td>\n",
       "      <td>586.183</td>\n",
       "      <td>1906.465</td>\n",
       "      <td>29.97</td>\n",
       "      <td>social_cup</td>\n",
       "      <td>C:/Users/Olle de Jong/Documents/MSc Biology/rp...</td>\n",
       "      <td>56441</td>\n",
       "      <td>56496</td>\n",
       "      <td>1.834</td>\n",
       "    </tr>\n",
       "  </tbody>\n",
       "</table>\n",
       "<p>980 rows × 11 columns</p>\n",
       "</div>"
      ]
     },
     "execution_count": 8,
     "metadata": {},
     "output_type": "execute_result"
    }
   ],
   "execution_count": 8
  },
  {
   "metadata": {
    "ExecuteTime": {
     "end_time": "2024-05-08T07:45:26.634119Z",
     "start_time": "2024-05-08T07:45:25.270086Z"
    }
   },
   "cell_type": "code",
   "source": [
    "sns.displot(beh_df['Interaction duration'], bins=200, aspect=2)\n",
    "plt.xlabel('Interaction duration (s)')\n",
    "plt.xticks(np.arange(0, 15, 1))\n",
    "plt.xlim(0, 15)\n",
    "plt.show()"
   ],
   "id": "41c87e4e1a20f78d",
   "outputs": [
    {
     "data": {
      "text/plain": [
       "<Figure size 1000x500 with 1 Axes>"
      ],
      "image/png": "[encoded data removed]"
     },
     "metadata": {},
     "output_type": "display_data"
    }
   ],
   "execution_count": 16
  },
  {
   "metadata": {},
   "cell_type": "code",
   "outputs": [],
   "execution_count": null,
   "source": "",
   "id": "1327ec88a6c29869"
  }
 ],
 "metadata": {
  "kernelspec": {
   "display_name": "Python 3",
   "language": "python",
   "name": "python3"
  },
  "language_info": {
   "codemirror_mode": {
    "name": "ipython",
    "version": 2
   },
   "file_extension": ".py",
   "mimetype": "text/x-python",
   "name": "python",
   "nbconvert_exporter": "python",
   "pygments_lexer": "ipython2",
   "version": "2.7.6"
  }
 },
 "nbformat": 4,
 "nbformat_minor": 5
}
