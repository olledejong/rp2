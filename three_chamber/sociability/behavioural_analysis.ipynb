{
 "cells": [
  {
   "metadata": {},
   "cell_type": "markdown",
   "source": [
    "## 3 Chamber Sociability test - Behavioural analysis"
   ],
   "id": "514ef05e1fc79464"
  },
  {
   "metadata": {
    "ExecuteTime": {
     "end_time": "2024-05-21T09:29:14.027410Z",
     "start_time": "2024-05-21T09:29:13.996511Z"
    }
   },
   "cell_type": "code",
   "source": [
    "import os\n",
    "import numpy as np\n",
    "import pandas as pd\n",
    "import seaborn as sns\n",
    "\n",
    "from matplotlib import pyplot as plt\n",
    "from scipy.stats import ttest_ind, f_oneway\n",
    "\n",
    "from shared.helper_functions import *"
   ],
   "id": "c00795589f2f0489",
   "execution_count": 1,
   "outputs": []
  },
  {
   "metadata": {
    "ExecuteTime": {
     "end_time": "2024-05-21T09:50:00.610407Z",
     "start_time": "2024-05-21T09:50:00.605592Z"
    }
   },
   "cell_type": "code",
   "source": "sns.set_theme()",
   "id": "8c2f07e291919d1b",
   "execution_count": 28,
   "outputs": []
  },
  {
   "metadata": {},
   "cell_type": "markdown",
   "source": "Get the path to the folder that holds the behaviour data exported from BORIS software.",
   "id": "62ed59c3dd16fa9d"
  },
  {
   "metadata": {
    "ExecuteTime": {
     "end_time": "2024-05-21T09:29:37.973256Z",
     "start_time": "2024-05-21T09:29:14.027410Z"
    }
   },
   "cell_type": "code",
   "source": "behaviour_data_dir = select_folder(\"Please select the sociability behaviour data directory\")",
   "id": "9cfb22bf71333113",
   "execution_count": 2,
   "outputs": []
  },
  {
   "metadata": {},
   "cell_type": "markdown",
   "source": "If you want to save plots, select a directory you want to save them to.",
   "id": "39e7ad934c90396d"
  },
  {
   "metadata": {
    "ExecuteTime": {
     "end_time": "2024-05-21T09:50:39.379471Z",
     "start_time": "2024-05-21T09:50:32.799778Z"
    }
   },
   "cell_type": "code",
   "source": "plot_output_dir = select_or_create_folder(\"Please select or create a folder you wish to save the plots\")",
   "id": "f59351ee3b30ee2e",
   "execution_count": 29,
   "outputs": []
  },
  {
   "metadata": {},
   "cell_type": "markdown",
   "source": [
    "## Load the animal metadata"
   ],
   "id": "c7915b48ae958fdd"
  },
  {
   "metadata": {},
   "cell_type": "markdown",
   "source": [
    "First, let's load the metadata that tells us which batch/cage combination is which animal (id)."
   ],
   "id": "77d33a16211f8d1"
  },
  {
   "metadata": {
    "ExecuteTime": {
     "end_time": "2024-05-21T09:30:08.394424Z",
     "start_time": "2024-05-21T09:29:58.632841Z"
    }
   },
   "cell_type": "code",
   "source": [
    "all_animals_metadata = select_file(\"Please select the file holding metadata for all animals\")\n",
    "metadata = pd.read_excel(all_animals_metadata)\n",
    "metadata"
   ],
   "id": "97d1584b05d798dc",
   "execution_count": 4,
   "outputs": []
  },
  {
   "metadata": {},
   "cell_type": "markdown",
   "source": [
    "As the behaviour was tracked with Boris and saved to a separate file per animal, we load the files separately and merge them into one dataframe.\n",
    "\n",
    "Note: animal from batch 5 cage 1 does not have an EEG file (transmitter was broken at the time), therefore there is not entry in the metadata file for that animal.\n",
    "\n",
    "This means we have the following animals:\n",
    "\n",
    "* batch1:\n",
    "    * cage1: 78211 - 1.1\n",
    "    * cage2: 78233 - 1.5\n",
    "    * cage3: 78227 - 1.9\n",
    "    * cage4: 78244 - 1.13\n",
    "* batch2:\n",
    "    * cage1: 79593 - 2.1\n",
    "    * cage2: 79592 - 2.5\n",
    "    * cage3: 79604 - 2.9\n",
    "    * cage4: 79602 - 2.13\n",
    "* batch4:\n",
    "    * cage1: 80620 - 4.1\n",
    "    * cage2: 80625 - 4.5\n",
    "    * cage3: 80630 - 4.9\n",
    "* batch5:\n",
    "    * cage1: 81167 - 5.1 (no EEG)  \n",
    "    * cage2: 81175 - 5.5\n",
    "    * cage3: 81207 - 5.9\n",
    "    * cage4: 81193 - 5.13\n",
    "* batch5b:\n",
    "    * cage1: 81217 - 5.17\n",
    "    * cage2: 81218 - 5.21\n",
    "* batch6:\n",
    "    * cage1: 39489 - 6.1\n",
    "    * cage2: 39508 - 6.5"
   ],
   "id": "5ea69a91c0d5d9b5"
  },
  {
   "metadata": {},
   "cell_type": "markdown",
   "source": [
    "With the above information we can create a dictionary that holds the batch-cage combination as keys, and the subject identifiers as values. These can be used to get the genotype that belongs to the individual animals."
   ],
   "id": "bfed29d1dc1857a2"
  },
  {
   "metadata": {
    "ExecuteTime": {
     "end_time": "2024-05-21T09:31:21.524982Z",
     "start_time": "2024-05-21T09:31:21.522129Z"
    }
   },
   "cell_type": "code",
   "source": [
    "subject_id_dict = {\n",
    "    'batch1_cage1': 78211, 'batch2_cage1': 79593, 'batch5_cage1': 81167, 'batch4_cage1': 80620, 'batch5b_cage1': 81217, 'batch6_cage1': 39489,\n",
    "    'batch1_cage2': 78233, 'batch2_cage2': 79592, 'batch5_cage2': 81175, 'batch4_cage2': 80625, 'batch5b_cage2': 81218, 'batch6_cage2': 39508,\n",
    "    'batch1_cage3': 78227, 'batch2_cage3': 79604, 'batch5_cage3': 81207, 'batch4_cage3': 80630,\n",
    "    'batch1_cage4': 78244, 'batch2_cage4': 79602, 'batch5_cage4': 81193,\n",
    "}"
   ],
   "id": "c832742d7c820887",
   "execution_count": 6,
   "outputs": []
  },
  {
   "metadata": {},
   "cell_type": "markdown",
   "source": [
    "## Data pre-processing\n",
    "\n",
    "The data that is exported from the BORIS tracking application provides two rows per state-event. One represents the start of the event, and one the stop, each having a single timestamp.\n",
    "\n",
    "We want to merge these rows and immediately calculate the duration of the (non)social cup state-event interaction. Let's do this first.\n",
    "\n",
    "To do so, we define a function that merges some information from the START and the STOP rows."
   ],
   "id": "54e30ecc45bb18d1"
  },
  {
   "metadata": {
    "ExecuteTime": {
     "end_time": "2024-05-21T09:31:26.064408Z",
     "start_time": "2024-05-21T09:31:26.057392Z"
    }
   },
   "cell_type": "code",
   "source": [
    "def merge_event_rows(beh_data):\n",
    "    merged_df = pd.concat([\n",
    "        beh_data.iloc[::2].reset_index(drop=True),  # only keep each start row\n",
    "        beh_data.iloc[::2].reset_index(drop=True)['Image index'].rename('Frame start'),  # interaction start frame, name it 'Frame start'\n",
    "        beh_data.iloc[1::2].reset_index(drop=True)['Image index'].rename('Frame stop'),  # interaction stop frame, name it 'Frame stop'\n",
    "        beh_data.iloc[1::2].reset_index(drop=True)['Time'] - beh_data.iloc[::2]['Time'].reset_index(drop=True),  # interaction duration\n",
    "    ], axis=1)\n",
    "    # rename the last column as it represents the duration of the interaction\n",
    "    merged_df = merged_df.set_axis([*merged_df.columns[:-1], 'Interaction duration'], axis=1)\n",
    "    # drop the columns we don't need\n",
    "    cols_to_drop = ['Image index', 'Time', 'Observation type', 'Source', 'Time offset (s)', 'Subject', 'Comment', 'Image file path', 'Description', 'Behavioral category', 'Behavior type']\n",
    "    return merged_df.drop(columns=cols_to_drop)"
   ],
   "id": "73271ae4b9e4a88d",
   "execution_count": 7,
   "outputs": []
  },
  {
   "metadata": {},
   "cell_type": "markdown",
   "source": [
    "Then, we create one dataframe holding the behavioural data for all animals. Each row is one interaction event."
   ],
   "id": "b35411f14c7185c7"
  },
  {
   "metadata": {
    "ExecuteTime": {
     "end_time": "2024-05-21T09:33:09.831870Z",
     "start_time": "2024-05-21T09:33:09.243593Z"
    }
   },
   "cell_type": "code",
   "source": [
    "beh_df = pd.DataFrame()\n",
    "\n",
    "# for each behaviour file (which holds behaviour data on one animal only)\n",
    "for file in os.listdir(behaviour_data_dir):\n",
    "    if not file.endswith('.xlsx') and 'batch' not in file:\n",
    "        continue\n",
    "    if file.startswith('.'):\n",
    "        continue\n",
    "\n",
    "    beh_dat = pd.read_excel(os.path.join(behaviour_data_dir, file))\n",
    "    \n",
    "    # get the subject id\n",
    "    batch, cage = beh_dat['Observation id'].iloc[0].split('_')[:2]\n",
    "    batch_cage = batch + '_' + cage\n",
    "    subject_id = subject_id_dict[batch_cage]\n",
    "    genotype = metadata[metadata.mouseId == subject_id]['genotype'].iloc[0]\n",
    "\n",
    "    social_cup_starts = beh_dat[(beh_dat['Behavior type'] == 'START') & (beh_dat['Behavior'] == 'social_cup')]\n",
    "    social_cup_stops = beh_dat[(beh_dat['Behavior type'] == 'STOP') & (beh_dat['Behavior'] == 'social_cup')]\n",
    "    non_social_cup_starts = beh_dat[(beh_dat['Behavior type'] == 'START') & (beh_dat['Behavior'] == 'non-social_cup')]\n",
    "    non_social_cup_stops = beh_dat[(beh_dat['Behavior type'] == 'STOP') & (beh_dat['Behavior'] == 'non-social_cup')]\n",
    "    \n",
    "    if not len(social_cup_starts) == len(social_cup_stops) or not len(non_social_cup_starts) == len(non_social_cup_stops):\n",
    "        print(f'Number of event STARTs and STOPs do not match, skipping {beh_dat[\"Observation id\"]} (id: {subject_id_dict[beh_dat[\"Observation id\"]]})')\n",
    "        continue\n",
    "    \n",
    "    # merge the start and stop rows and calculate some stuff (interaction duration etc)\n",
    "    beh_data = merge_event_rows(beh_dat)\n",
    "    beh_data.insert(1, 'subject_id', subject_id)\n",
    "    beh_data.insert(2, 'genotype', genotype)\n",
    "    beh_df = pd.concat([beh_df, beh_data], axis=0)"
   ],
   "id": "6389d61a3a301cad",
   "execution_count": 11,
   "outputs": []
  },
  {
   "metadata": {},
   "cell_type": "markdown",
   "source": [
    "Let's inspect the dataframe"
   ],
   "id": "c0b6004296bef953"
  },
  {
   "metadata": {
    "ExecuteTime": {
     "end_time": "2024-05-21T09:33:16.390029Z",
     "start_time": "2024-05-21T09:33:16.382877Z"
    }
   },
   "cell_type": "code",
   "source": [
    "beh_df.head()"
   ],
   "id": "4c30a9b957f5a774",
   "execution_count": 12,
   "outputs": []
  },
  {
   "metadata": {
    "ExecuteTime": {
     "end_time": "2024-05-21T09:33:18.225667Z",
     "start_time": "2024-05-21T09:33:18.222082Z"
    }
   },
   "cell_type": "code",
   "source": [
    "print(f'Subjects/animals present (n={len(np.unique(beh_df[\"subject_id\"]))}):\\n{np.unique(beh_df[\"subject_id\"])} ')"
   ],
   "id": "1f48b2d3ecbc79fa",
   "execution_count": 13,
   "outputs": []
  },
  {
   "metadata": {},
   "cell_type": "markdown",
   "source": [
    "## Sociability metric calculations"
   ],
   "id": "14561b77bb07f88d"
  },
  {
   "metadata": {
    "ExecuteTime": {
     "end_time": "2024-05-21T09:34:00.899533Z",
     "start_time": "2024-05-21T09:34:00.852744Z"
    }
   },
   "cell_type": "code",
   "source": [
    "behaviour_stats = pd.DataFrame()\n",
    "\n",
    "# for each behaviour file (which holds behaviour data on one animal only)\n",
    "for subject_id in np.unique(beh_df[\"subject_id\"]):\n",
    "    \n",
    "    subject_data = beh_df[beh_df[\"subject_id\"] == subject_id]\n",
    "    \n",
    "    mean_interaction_duration = np.mean(subject_data['Interaction duration'])\n",
    "    interaction_ratio = len(subject_data[subject_data['Behavior'] == 'social_cup']) / len(subject_data[subject_data['Behavior'] == 'non-social_cup'])\n",
    "    total_interaction_duration_per_behavior = subject_data.groupby('Behavior')['Interaction duration'].sum()\n",
    "    \n",
    "    # Sociability Index = (Time in social chamber - Time in non-social chamber) / (Time in social chamber + Time in non-social chamber)\n",
    "    sociability_index = (total_interaction_duration_per_behavior['social_cup'] -  total_interaction_duration_per_behavior['non-social_cup']) /  (total_interaction_duration_per_behavior['social_cup'] + total_interaction_duration_per_behavior['non-social_cup'])\n",
    "    \n",
    "    # sociability index (# interactions)\n",
    "    sociability_index_n_interactions = (len(subject_data[subject_data['Behavior'] == 'social_cup']) -  len(subject_data[subject_data['Behavior'] == 'non-social_cup'])) /  (len(subject_data[subject_data['Behavior'] == 'social_cup']) + len(subject_data[subject_data['Behavior'] == 'non-social_cup']))\n",
    "    \n",
    "    temp = pd.DataFrame({\n",
    "        'subject_id': subject_id,\n",
    "        'genotype': subject_data['genotype'].iloc[0],\n",
    "        'total_interactions' : len(subject_data),\n",
    "        'total_interaction_time': np.sum(total_interaction_duration_per_behavior.values),\n",
    "        'interaction_ratio': interaction_ratio,\n",
    "        'total_social_interaction_duration': total_interaction_duration_per_behavior['social_cup'],\n",
    "        'total_non_social_interaction_duration': total_interaction_duration_per_behavior['non-social_cup'],\n",
    "        'average_interaction_duration': mean_interaction_duration,\n",
    "        'sociability_index_n_interactions': sociability_index_n_interactions,\n",
    "        'sociability_index_interaction_duration': sociability_index,\n",
    "    }, index=[0])\n",
    "    behaviour_stats = pd.concat([behaviour_stats, temp], ignore_index=True)"
   ],
   "id": "a3e7f97e686f2957",
   "execution_count": 14,
   "outputs": []
  },
  {
   "metadata": {},
   "cell_type": "markdown",
   "source": [
    "Let's inspect these metrics a bit"
   ],
   "id": "8e246924fd6bcc60"
  },
  {
   "metadata": {
    "ExecuteTime": {
     "end_time": "2024-05-21T09:34:02.110776Z",
     "start_time": "2024-05-21T09:34:02.102692Z"
    }
   },
   "cell_type": "code",
   "source": [
    "behaviour_stats.head()"
   ],
   "id": "276032c5d588d591",
   "execution_count": 15,
   "outputs": []
  },
  {
   "metadata": {
    "ExecuteTime": {
     "end_time": "2024-05-21T09:34:02.622261Z",
     "start_time": "2024-05-21T09:34:02.603107Z"
    }
   },
   "cell_type": "code",
   "source": [
    "behaviour_stats.describe()"
   ],
   "id": "bf046276e022bbb9",
   "execution_count": 16,
   "outputs": []
  },
  {
   "metadata": {
    "ExecuteTime": {
     "end_time": "2024-05-21T09:34:03.009282Z",
     "start_time": "2024-05-21T09:34:03.004257Z"
    }
   },
   "cell_type": "code",
   "source": [
    "np.unique(behaviour_stats.genotype, return_counts=True)"
   ],
   "id": "8eb412b0ddd51795",
   "execution_count": 17,
   "outputs": []
  },
  {
   "metadata": {},
   "cell_type": "markdown",
   "source": [
    "Let's boxplot the calculated interaction metrics per genotype"
   ],
   "id": "14ab7b514a4a882f"
  },
  {
   "metadata": {
    "ExecuteTime": {
     "end_time": "2024-05-21T09:39:51.803645Z",
     "start_time": "2024-05-21T09:39:51.794985Z"
    }
   },
   "cell_type": "code",
   "source": "plot_output_dir",
   "id": "a531d34b0cd76ff9",
   "execution_count": 27,
   "outputs": []
  },
  {
   "metadata": {
    "ExecuteTime": {
     "end_time": "2024-05-21T09:51:53.091112Z",
     "start_time": "2024-05-21T09:51:50.405486Z"
    }
   },
   "cell_type": "code",
   "source": [
    "behaviour_stats = behaviour_stats.sort_values(by='genotype', ascending=False)\n",
    "boxplot_cols = behaviour_stats.columns[2:]\n",
    "\n",
    "swarmplot_palette = {'DRD2-WT':'#AEC2B3', 'DRD2-KO':'#C68083'}\n",
    "violin_palette = {'DRD2-WT':'#6A8D73', 'DRD2-KO':'#984447'}\n",
    "\n",
    "title_label_dict = {\n",
    "    'total_interactions': ('Total number of interactions with either cup', 'Count'),\n",
    "    'total_interaction_time': ('Total interaction duration', 'Time (seconds)'),\n",
    "    'interaction_ratio': ('Social cup over non-social cup interaction ratio', 'Ratio'),\n",
    "    'total_social_interaction_duration': ('Total interaction time with social cup', 'Time (seconds)'),\n",
    "    'total_non_social_interaction_duration': ('Total interaction time with non-social cup', 'Time (seconds)'),\n",
    "    'average_interaction_duration': ('Average interaction duration (both cups)', 'Duration (seconds)'),\n",
    "    'sociability_index_n_interactions': ('Sociability index (using total # of interactions)', 'Sociability index (using total # of interactions)'),\n",
    "    'sociability_index_interaction_duration': ('Sociability index (using time spent interacting with cups)', 'Sociability index (using total time spent at cup)'),\n",
    "}\n",
    "\n",
    "fig, axs = plt.subplots(nrows=2, ncols=4, figsize=(18, 8))\n",
    "axs = axs.ravel()\n",
    "\n",
    "for i, metric in enumerate(boxplot_cols):\n",
    "    wt_metric_data = behaviour_stats[behaviour_stats.genotype == 'DRD2-WT'][metric]\n",
    "    ko_metric_data = behaviour_stats[behaviour_stats.genotype == 'DRD2-KO'][metric]\n",
    "\n",
    "    t_statistic, p_val = ttest_ind(wt_metric_data, ko_metric_data)\n",
    "    \n",
    "    sns.boxplot(data=behaviour_stats, x='genotype', hue='genotype', y=metric, ax=axs[i], linewidth=1.5, palette=violin_palette)\n",
    "    sns.swarmplot(data=behaviour_stats, x='genotype', hue='genotype', y=metric, ax=axs[i], palette='dark:black')\n",
    "    \n",
    "    y_range = axs[i].get_ylim()\n",
    "    offset = 0.05 * (y_range[1] - y_range[0])\n",
    "    \n",
    "    axs[i].text(0.5, y_range[1] - offset, f'T-stat: {round(t_statistic, 3)}\\nP-value: {round(p_val, 3)}', ha='center', va='top', fontsize=9, fontweight='bold')\n",
    "    axs[i].set_title(title_label_dict[metric][0])\n",
    "    axs[i].set_ylabel(title_label_dict[metric][1])\n",
    "    \n",
    "fig.tight_layout()\n",
    "plt.suptitle('Comparison of Sociability Metrics in DRD2-WT and DRD2-KO Mice', fontsize=14, fontweight='bold', fontstyle='italic', y=1.025)\n",
    "save_figure(os.path.join(plot_output_dir, 'boxplot_grid.pdf'))"
   ],
   "id": "2e8b37374d55cb41",
   "execution_count": 32,
   "outputs": []
  },
  {
   "metadata": {
    "ExecuteTime": {
     "end_time": "2024-04-15T13:09:24.121472Z",
     "start_time": "2024-04-15T13:09:24.085546Z"
    }
   },
   "cell_type": "code",
   "source": [
    "for i, metric in enumerate(boxplot_cols):\n",
    "    print(f'\\n{metric}')\n",
    "    wt_metric_data = behaviour_stats[behaviour_stats.genotype == 'DRD2-WT'][metric]\n",
    "    ko_metric_data = behaviour_stats[behaviour_stats.genotype == 'DRD2-KO'][metric]\n",
    "    \n",
    "    # perform independent t-test to compare means\n",
    "    result = ttest_ind(wt_metric_data, ko_metric_data)\n",
    "\n",
    "    print(\"T-statistic:\", result.statistic)\n",
    "    print(\"P-value:\", result.pvalue)\n",
    "    \n",
    "    f_statistic, p_value = f_oneway(wt_metric_data, ko_metric_data)\n",
    "\n",
    "    print(\"F-statistic:\", f_statistic)\n",
    "    print(\"P-value:\", p_value)"
   ],
   "id": "5b564356c7e67e",
   "execution_count": 175,
   "outputs": []
  },
  {
   "metadata": {},
   "cell_type": "markdown",
   "source": [
    "If there's any trend to be noticed, the KOs seem to be less social."
   ],
   "id": "8acf64d3f2dbd35b"
  },
  {
   "cell_type": "markdown",
   "source": [
    "### Outlier investigation"
   ],
   "metadata": {
    "collapsed": false
   },
   "id": "c7f6677de3b2ed65"
  },
  {
   "cell_type": "code",
   "source": [
    "behaviour_stats"
   ],
   "metadata": {
    "collapsed": false,
    "ExecuteTime": {
     "end_time": "2024-04-15T11:12:16.051923Z",
     "start_time": "2024-04-15T11:12:16.020581Z"
    }
   },
   "id": "be707b59ecb11dc4",
   "execution_count": 56,
   "outputs": []
  },
  {
   "cell_type": "markdown",
   "source": [
    "When looking at the sociability index, it seems like there's one WT subject that scores very low, with a value of approximately -0.52."
   ],
   "metadata": {
    "collapsed": false
   },
   "id": "c3504854b94f86fa"
  },
  {
   "cell_type": "code",
   "source": [
    "behaviour_stats.iloc[6]"
   ],
   "metadata": {
    "collapsed": false,
    "ExecuteTime": {
     "end_time": "2024-04-15T11:34:05.125648Z",
     "start_time": "2024-04-15T11:34:05.116771Z"
    }
   },
   "id": "e44441f2e13e9b02",
   "execution_count": 68,
   "outputs": []
  },
  {
   "cell_type": "markdown",
   "source": [
    "It seems that it is a batch 6 animal, namely 39508. Let's investigate the metrics compared to the other animals a bit more in depth"
   ],
   "metadata": {
    "collapsed": false
   },
   "id": "70fb6c21c0b5ab28"
  },
  {
   "cell_type": "code",
   "source": [
    "sns.barplot(x=behaviour_stats.subject_id, y=behaviour_stats.interaction_ratio, hue=behaviour_stats.genotype)\n",
    "plt.xticks(rotation=45)\n",
    "plt.show()"
   ],
   "metadata": {
    "collapsed": false,
    "ExecuteTime": {
     "end_time": "2024-04-15T13:01:21.370326Z",
     "start_time": "2024-04-15T13:01:20.345284Z"
    }
   },
   "id": "572ddd52ba70a088",
   "execution_count": 162,
   "outputs": []
  },
  {
   "cell_type": "markdown",
   "source": [
    "It seems like the interaction ratiois the lowest of all animals. It explored the social and non-social cup equally often/"
   ],
   "metadata": {
    "collapsed": false
   },
   "id": "bd05c42e1858d76f"
  },
  {
   "cell_type": "code",
   "source": [
    "fig, axs = plt.subplots(1, 2, figsize=(14, 5))\n",
    "axs = axs.ravel()\n",
    "sns.barplot(ax=axs[0], x=behaviour_stats.subject_id, y=behaviour_stats.average_non_social_cup_duration, hue=behaviour_stats.genotype)\n",
    "sns.barplot(ax=axs[1], x=behaviour_stats.subject_id, y=behaviour_stats.average_social_cup_duration, hue=behaviour_stats.genotype)\n",
    "plt.xticks(rotation=45)\n",
    "plt.show()"
   ],
   "metadata": {
    "collapsed": false,
    "ExecuteTime": {
     "end_time": "2024-04-15T13:01:26.243500Z",
     "start_time": "2024-04-15T13:01:23.252123Z"
    }
   },
   "id": "a4b48b28b9e7ffad",
   "execution_count": 163,
   "outputs": []
  },
  {
   "cell_type": "markdown",
   "source": [
    "And it seems like the visits of this animal to the social cup where very short on average, while the visits to the non-social cup on average were quite long."
   ],
   "metadata": {
    "collapsed": false
   },
   "id": "186ebe4708f9c0bc"
  },
  {
   "cell_type": "markdown",
   "source": [
    "### Interaction duration distribution"
   ],
   "metadata": {
    "collapsed": false
   },
   "id": "83bc2196fa89fcef"
  },
  {
   "cell_type": "code",
   "source": [
    "beh_df.head()"
   ],
   "metadata": {
    "collapsed": false,
    "ExecuteTime": {
     "end_time": "2024-04-15T11:46:09.154638Z",
     "start_time": "2024-04-15T11:46:09.134508Z"
    }
   },
   "id": "792186c23a9c1ad6",
   "execution_count": 84,
   "outputs": []
  },
  {
   "cell_type": "markdown",
   "source": [
    "Let's show the distribution of social, and non-social visits."
   ],
   "metadata": {
    "collapsed": false
   },
   "id": "57add1b5a54af0c7"
  },
  {
   "cell_type": "code",
   "source": [
    "print(f'There are {len(beh_df[beh_df.Behavior == \"social_cup\"])} social cup observations, and {len(beh_df[beh_df.Behavior == \"non-social_cup\"])} non-social cup observations')"
   ],
   "metadata": {
    "collapsed": false,
    "ExecuteTime": {
     "end_time": "2024-04-15T12:05:06.896964Z",
     "start_time": "2024-04-15T12:05:06.866448Z"
    }
   },
   "id": "31a8fe97b05f6736",
   "execution_count": 111,
   "outputs": []
  },
  {
   "metadata": {
    "ExecuteTime": {
     "end_time": "2024-04-16T09:38:17.480981Z",
     "start_time": "2024-04-16T09:38:17.372978Z"
    }
   },
   "cell_type": "code",
   "source": "print(f'Total average interaction duration: {np.mean(beh_df[\"Interaction duration\"])}')",
   "id": "66a9068079d1f1",
   "execution_count": 62,
   "outputs": []
  },
  {
   "cell_type": "markdown",
   "source": [
    "So there's not that much difference in group size"
   ],
   "metadata": {
    "collapsed": false
   },
   "id": "76b001fd37b734f3"
  },
  {
   "cell_type": "code",
   "source": [
    "fig = plt.figure(figsize=(12, 5))\n",
    "sns.histplot(data=beh_df, x=beh_df['Interaction duration'], hue=beh_df.genotype, multiple='dodge', bins=[i + 0.5 for i in range(0, 19)])\n",
    "plt.xticks(range(0, 20, 1))\n",
    "plt.title(\"Distribution of interaction duration per genotype\")\n",
    "plt.xlabel(\"Interaction duration (seconds)\")\n",
    "plt.show()"
   ],
   "metadata": {
    "collapsed": false,
    "ExecuteTime": {
     "end_time": "2024-04-16T09:05:44.735340Z",
     "start_time": "2024-04-16T09:05:43.827069Z"
    }
   },
   "id": "45a154811eea0782",
   "execution_count": 40,
   "outputs": []
  },
  {
   "cell_type": "code",
   "source": [
    "fig = plt.figure(figsize=(12, 5))\n",
    "sns.histplot(data=beh_df, x=beh_df['Interaction duration'], hue=beh_df.Behavior, multiple='dodge', bins=[i + 0.5 for i in range(0, 19)])\n",
    "plt.xticks(range(0, 20, 1))\n",
    "plt.title(\"Distribution of interaction duration per cup\")\n",
    "plt.xlabel(\"Interaction duration (seconds)\")\n",
    "plt.show()"
   ],
   "metadata": {
    "collapsed": false,
    "ExecuteTime": {
     "end_time": "2024-04-16T09:05:45.712497Z",
     "start_time": "2024-04-16T09:05:44.739810Z"
    }
   },
   "id": "8c1b3effdeb5550f",
   "execution_count": 41,
   "outputs": []
  },
  {
   "cell_type": "markdown",
   "source": [
    "### Interaction duration over time\n",
    "\n",
    "Let us generate a grid plot that displays the interaction duration over the course of the experiment for each subject (10 minutes)"
   ],
   "metadata": {
    "collapsed": false
   },
   "id": "cdbe21cbe58078aa"
  },
  {
   "cell_type": "code",
   "source": [
    "beh_df.head()"
   ],
   "metadata": {
    "collapsed": false,
    "ExecuteTime": {
     "end_time": "2024-04-16T08:57:12.611524Z",
     "start_time": "2024-04-16T08:57:12.584670Z"
    }
   },
   "id": "675a312b0ac17b34",
   "execution_count": 30,
   "outputs": []
  },
  {
   "cell_type": "code",
   "source": [
    "print(len(beh_df.subject_id.unique()))"
   ],
   "metadata": {
    "collapsed": false,
    "ExecuteTime": {
     "end_time": "2024-04-16T08:57:13.146690Z",
     "start_time": "2024-04-16T08:57:13.135520Z"
    }
   },
   "id": "cf28f97c6d9987e7",
   "execution_count": 31,
   "outputs": []
  },
  {
   "cell_type": "markdown",
   "source": [
    "Plot the interaction duration over the interaction number for one subject "
   ],
   "metadata": {
    "collapsed": false
   },
   "id": "ab4f3d8dabbf5366"
  },
  {
   "cell_type": "code",
   "source": [
    "data = beh_df[beh_df.subject_id == 80630]"
   ],
   "metadata": {
    "collapsed": false,
    "ExecuteTime": {
     "end_time": "2024-04-16T08:57:14.435923Z",
     "start_time": "2024-04-16T08:57:14.426473Z"
    }
   },
   "id": "49794fd7b8c9677e",
   "execution_count": 32,
   "outputs": []
  },
  {
   "cell_type": "code",
   "source": [
    "sns.lineplot(data=data, x=range(1,len(data)+1), y='Interaction duration', marker='o')\n",
    "plt.title(\"Interaction duration for each interaction (true chronological order of interactions)\")\n",
    "plt.show()"
   ],
   "metadata": {
    "collapsed": false,
    "ExecuteTime": {
     "end_time": "2024-04-16T08:57:15.440768Z",
     "start_time": "2024-04-16T08:57:15.081153Z"
    }
   },
   "id": "5e8a065db9e18df2",
   "execution_count": 33,
   "outputs": []
  },
  {
   "cell_type": "markdown",
   "source": [
    "And now with the start frame of the interaction on the x-axis"
   ],
   "metadata": {
    "collapsed": false
   },
   "id": "efa503bab83ca950"
  },
  {
   "cell_type": "code",
   "source": [
    "sns.lineplot(data=data, x='Frame start', y='Interaction duration', marker='o')\n",
    "sns.scatterplot(data=data, x='Frame stop', y='Interaction duration', marker='o', color='orange')\n",
    "plt.title(\"Interaction duration by the frame/time-point of the start of the scored interaction\")\n",
    "plt.show()"
   ],
   "metadata": {
    "collapsed": false,
    "ExecuteTime": {
     "end_time": "2024-04-16T09:18:11.315009Z",
     "start_time": "2024-04-16T09:18:10.904883Z"
    }
   },
   "id": "db8ff1fd2f7291bc",
   "execution_count": 55,
   "outputs": []
  },
  {
   "cell_type": "markdown",
   "source": [
    "Now, let's plot this last one for all subjects in a grid"
   ],
   "metadata": {
    "collapsed": false
   },
   "id": "ebcdc48ce75f8b15"
  },
  {
   "cell_type": "code",
   "source": [
    "fig, axs = plt.subplots(nrows=5, ncols=4, figsize=(35, 30), sharey=True)\n",
    "axs = axs.ravel()\n",
    "\n",
    "for i, subj_id in enumerate(beh_df.subject_id.unique()):\n",
    "    data = beh_df[beh_df.subject_id == subj_id]\n",
    "    x = data['Frame start'] / 30 / 60  # to minutes\n",
    "    x2 = data['Frame stop'] / 30 / 60\n",
    "    sns.lineplot(data=data, x=x, y='Interaction duration', ax=axs[i], marker='o', label='Start interaction')\n",
    "    sns.scatterplot(data=data, x=x2, y='Interaction duration', ax=axs[i], marker='o', color='orange', label='Stop interaction')\n",
    "    axs[i].set_xlabel('Start of interaction (minutes)')\n",
    "    axs[i].set_title(f'Subject id: {subj_id}, genotype: {data.genotype.iloc[0]}')\n",
    "    plt.legend()\n",
    "\n",
    "axs[-1].remove()\n",
    "plt.tight_layout()\n",
    "save_figure(os.path.join(plot_output_dir, f'behavioural_analysis/interaction_duration_trend_grid.pdf'))"
   ],
   "metadata": {
    "collapsed": false,
    "ExecuteTime": {
     "end_time": "2024-04-16T09:22:20.404160Z",
     "start_time": "2024-04-16T09:22:11.803509Z"
    }
   },
   "id": "49d04eb409f9701",
   "execution_count": 61,
   "outputs": []
  },
  {
   "cell_type": "markdown",
   "source": [
    "Subjects 78227, 78244, 80625, 79602, 79592, 81175, 81193 all seem to have a significant stretch (around two minutes) where they did not interact with any cup. Is there something there?"
   ],
   "metadata": {
    "collapsed": false
   },
   "id": "7319af5a3c36130b"
  },
  {
   "cell_type": "code",
   "source": [
    "behaviour_stats[behaviour_stats.subject_id.isin([78227, 78244, 80625, 79602, 79592, 81175, 81193])].loc[:,['subject_id', 'genotype']]"
   ],
   "metadata": {
    "collapsed": false,
    "ExecuteTime": {
     "end_time": "2024-04-15T12:44:11.209678Z",
     "start_time": "2024-04-15T12:44:11.196045Z"
    }
   },
   "id": "828c4e783cb4e9dd",
   "execution_count": 153,
   "outputs": []
  },
  {
   "cell_type": "markdown",
   "source": [
    "Interestingly, 5 out of 7 are KOs.\n",
    "\n",
    "Also, it does not really seem like the animals become less interested over time."
   ],
   "metadata": {
    "collapsed": false
   },
   "id": "226e7a88aeded002"
  },
  {
   "metadata": {},
   "cell_type": "markdown",
   "source": "Lets save a figure per subject that displays the trend of the interaction duration over the course of the experiment (10 minutes)",
   "id": "dc86eb297a701911"
  },
  {
   "metadata": {
    "ExecuteTime": {
     "end_time": "2024-04-16T09:14:17.110619Z",
     "start_time": "2024-04-16T09:14:01.373142Z"
    }
   },
   "cell_type": "code",
   "source": [
    "for i, subj_id in enumerate(beh_df.subject_id.unique()):\n",
    "    data = beh_df[beh_df.subject_id == subj_id]\n",
    "    sns.lmplot(data=data, x='Frame start', y='Interaction duration', aspect=1.5)\n",
    "    plt.title(f'Interaction duration over the course of the experiment (Subject {subj_id}, genotype: {data.genotype.iloc[0]})')\n",
    "    save_figure(os.path.join(plot_output_dir, f'behavioural_analysis/interaction_duration_trends/{subj_id}.pdf'))"
   ],
   "id": "baa5a85eb0d8387d",
   "execution_count": 51,
   "outputs": []
  }
 ],
 "metadata": {
  "kernelspec": {
   "display_name": "Python 3",
   "language": "python",
   "name": "python3"
  },
  "language_info": {
   "codemirror_mode": {
    "name": "ipython",
    "version": 2
   },
   "file_extension": ".py",
   "mimetype": "text/x-python",
   "name": "python",
   "nbconvert_exporter": "python",
   "pygments_lexer": "ipython2",
   "version": "2.7.6"
  }
 },
 "nbformat": 4,
 "nbformat_minor": 5
}
