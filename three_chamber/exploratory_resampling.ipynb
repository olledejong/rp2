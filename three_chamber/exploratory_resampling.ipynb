{
 "cells": [
  {
   "metadata": {},
   "cell_type": "markdown",
   "source": [
    "## Exploratory notebook: Down-sampling 19525 Hz data\n",
    "\n",
    "The EEG of some animals during the 3-chamber experiments was recorded at a way higher sampling frequency (19525 Hz) than other animals studied in these experiments, as well as the animals studied in the resting-state experiment.\n",
    "\n",
    "Therefore we need to resample the EEG data that was recorded at these high sampling frequencies in order to make the data comparable again.\n",
    "\n",
    "In this notebook we investigate the effect of that resampling (and the subsequent filtering)"
   ],
   "id": "b6e31014d7867cc9"
  },
  {
   "cell_type": "code",
   "id": "initial_id",
   "metadata": {
    "collapsed": true,
    "ExecuteTime": {
     "end_time": "2024-04-17T08:18:17.335571Z",
     "start_time": "2024-04-17T08:18:17.118766Z"
    }
   },
   "source": [
    "import mne\n",
    "import matplotlib.pyplot as plt\n",
    "from mne.time_frequency import psd_array_multitaper\n",
    "from shared.eeg_filtering_functions import filter_eeg\n",
    "\n",
    "from settings_general import filtering"
   ],
   "execution_count": 178,
   "outputs": []
  },
  {
   "metadata": {
    "ExecuteTime": {
     "end_time": "2024-04-17T07:38:08.941698Z",
     "start_time": "2024-04-17T07:38:08.893327Z"
    }
   },
   "cell_type": "code",
   "source": "electrode_info = filtering['electrode_info']",
   "id": "19f6cc964eb50969",
   "execution_count": 137,
   "outputs": []
  },
  {
   "metadata": {},
   "cell_type": "markdown",
   "source": [
    "### Low sampling frequency example\n",
    "\n",
    "Let's load a EDF file that was recorded at a sampling frequency of 1084"
   ],
   "id": "85402466943c5e5d"
  },
  {
   "metadata": {
    "ExecuteTime": {
     "end_time": "2024-04-16T13:20:19.934266Z",
     "start_time": "2024-04-16T13:20:19.188824Z"
    }
   },
   "cell_type": "code",
   "source": [
    "file = \"/Users/olledejong/Documents/MSc_Biology/ResearchProject2/rp2_data/3C_sociability/input/edf_files/DRD2_batch6_3C-sociability/TAINI_101A_39508_6.5_2023-12-20_10-39-48_301_0000.edf\"\n",
    "raw_low_sf = mne.io.read_raw_edf(file)\n",
    "s_freq_low = raw_low_sf.info['sfreq']"
   ],
   "id": "b619ee9dc8f65221",
   "execution_count": 87,
   "outputs": []
  },
  {
   "metadata": {},
   "cell_type": "markdown",
   "source": "Let's visualize a bit",
   "id": "e47f983e64814850"
  },
  {
   "metadata": {
    "ExecuteTime": {
     "end_time": "2024-04-16T13:20:22.879084Z",
     "start_time": "2024-04-16T13:20:21.065698Z"
    }
   },
   "cell_type": "code",
   "source": "data_low_sf = raw_low_sf.get_data(picks=list(electrode_info.keys()))",
   "id": "612e7fe8c8757eff",
   "execution_count": 88,
   "outputs": []
  },
  {
   "metadata": {
    "ExecuteTime": {
     "end_time": "2024-04-16T13:20:23.983960Z",
     "start_time": "2024-04-16T13:20:23.578112Z"
    }
   },
   "cell_type": "code",
   "source": [
    "plt.plot(data_low_sf[0,:][:int(s_freq_low)])\n",
    "plt.yscale('log')\n",
    "plt.show()"
   ],
   "id": "78491fdf6a3139fc",
   "execution_count": 89,
   "outputs": []
  },
  {
   "metadata": {},
   "cell_type": "markdown",
   "source": "Let's zoom in a bit",
   "id": "2d53f0cd37fde4e5"
  },
  {
   "metadata": {
    "ExecuteTime": {
     "end_time": "2024-04-16T13:21:23.146508Z",
     "start_time": "2024-04-16T13:21:22.675991Z"
    }
   },
   "cell_type": "code",
   "source": [
    "plt.plot(data_low_sf[0,:][int(s_freq_low / 2):int(s_freq_low)])\n",
    "plt.yscale('log')\n",
    "plt.show()"
   ],
   "id": "bda2328e4648c35",
   "execution_count": 91,
   "outputs": []
  },
  {
   "metadata": {},
   "cell_type": "markdown",
   "source": "### Resample and plot again",
   "id": "b8a3ffa03b6fbba0"
  },
  {
   "metadata": {
    "ExecuteTime": {
     "end_time": "2024-04-16T13:21:58.831526Z",
     "start_time": "2024-04-16T13:21:50.874029Z"
    }
   },
   "cell_type": "code",
   "source": [
    "raw_low_sf_resampled = raw_low_sf.resample(500, npad=\"auto\")\n",
    "print(f\"Sampling freq is now {round(s_freq_low/500, 2)} times lower ({round(s_freq_low, 2)} --> 500)\")"
   ],
   "id": "6b2c32b01e9d9678",
   "execution_count": 92,
   "outputs": []
  },
  {
   "metadata": {
    "ExecuteTime": {
     "end_time": "2024-04-16T13:21:59.022066Z",
     "start_time": "2024-04-16T13:21:58.836228Z"
    }
   },
   "cell_type": "code",
   "source": "data_low_sf_resampled = raw_low_sf_resampled.get_data(picks=list(electrode_info.keys()))",
   "id": "1a4bcbaccc3e0c69",
   "execution_count": 93,
   "outputs": []
  },
  {
   "metadata": {
    "ExecuteTime": {
     "end_time": "2024-04-16T13:23:13.670201Z",
     "start_time": "2024-04-16T13:23:12.954790Z"
    }
   },
   "cell_type": "code",
   "source": [
    "plt.plot(data_low_sf_resampled[0,:][:500]) # 500 datapoints is now one second\n",
    "plt.yscale('log')\n",
    "plt.show()"
   ],
   "id": "b8ba5e4ca21107a2",
   "execution_count": 96,
   "outputs": []
  },
  {
   "metadata": {},
   "cell_type": "markdown",
   "source": "Let's zoom in a bit",
   "id": "a16d385aa66080a1"
  },
  {
   "metadata": {
    "ExecuteTime": {
     "end_time": "2024-04-16T13:24:45.818328Z",
     "start_time": "2024-04-16T13:24:45.331923Z"
    }
   },
   "cell_type": "code",
   "source": [
    "x1, x2 = int(500 / 2), 500\n",
    "plt.plot(data_low_sf_resampled[0,:][x1:x2])\n",
    "plt.yscale('log')\n",
    "plt.show()"
   ],
   "id": "17eb8cf8617ab926",
   "execution_count": 98,
   "outputs": []
  },
  {
   "metadata": {},
   "cell_type": "markdown",
   "source": "### High sampling frequency example",
   "id": "2e2bff1fbeea775d"
  },
  {
   "metadata": {},
   "cell_type": "markdown",
   "source": "Let's load a EDF file that was recorded at a way higher",
   "id": "3c27deba3dd1e4c2"
  },
  {
   "metadata": {
    "ExecuteTime": {
     "end_time": "2024-04-16T12:46:06.640099Z",
     "start_time": "2024-04-16T12:46:03.270419Z"
    }
   },
   "cell_type": "code",
   "source": [
    "file = \"/Users/olledejong/Documents/MSc_Biology/ResearchProject2/rp2_data/3C_sociability/input/edf_files/DRD2_batch1_3C_sociability/TAINI_1019_78211_1.1_2023-07-05_12-05-02_401_0000.edf\"\n",
    "raw_high_sf = mne.io.read_raw_edf(file)\n",
    "s_freq_high = raw_high_sf.info['sfreq']\n",
    "print(s_freq_high)"
   ],
   "id": "fee1d072ade04007",
   "execution_count": 72,
   "outputs": []
  },
  {
   "metadata": {},
   "cell_type": "markdown",
   "source": "Let's visualize a bit",
   "id": "72c748c42fce9415"
  },
  {
   "metadata": {
    "ExecuteTime": {
     "end_time": "2024-04-16T12:47:04.709837Z",
     "start_time": "2024-04-16T12:46:09.883198Z"
    }
   },
   "cell_type": "code",
   "source": "data_high_sf = raw_high_sf.get_data(picks=list(electrode_info.keys()))",
   "id": "9b060f525dca604a",
   "execution_count": 73,
   "outputs": []
  },
  {
   "metadata": {
    "ExecuteTime": {
     "end_time": "2024-04-16T12:56:32.937562Z",
     "start_time": "2024-04-16T12:56:32.319708Z"
    }
   },
   "cell_type": "code",
   "source": [
    "plt.plot(data_high_sf[0,:][:int(s_freq_high)])\n",
    "plt.yscale('log')\n",
    "plt.show()"
   ],
   "id": "ea83e4907fdc3bfe",
   "execution_count": 83,
   "outputs": []
  },
  {
   "metadata": {},
   "cell_type": "markdown",
   "source": "Let's zoom in a bit",
   "id": "1f5dec27e9ac3a8c"
  },
  {
   "metadata": {
    "ExecuteTime": {
     "end_time": "2024-04-16T12:57:27.852764Z",
     "start_time": "2024-04-16T12:57:27.458296Z"
    }
   },
   "cell_type": "code",
   "source": [
    "x1, x2 = int(s_freq_high / 5 * 4), int(s_freq_high)\n",
    "plt.plot(data_high_sf[0,:][x1:x2])\n",
    "plt.yscale('log')\n",
    "plt.show()"
   ],
   "id": "5e86f890c851c3cc",
   "execution_count": 85,
   "outputs": []
  },
  {
   "metadata": {},
   "cell_type": "markdown",
   "source": "### Resample and plot again",
   "id": "cc69ba4595a927ff"
  },
  {
   "metadata": {
    "ExecuteTime": {
     "end_time": "2024-04-16T12:52:01.949086Z",
     "start_time": "2024-04-16T12:48:53.180653Z"
    }
   },
   "cell_type": "code",
   "source": [
    "raw_high_sf_resampled = raw_high_sf.resample(500, npad=\"auto\")\n",
    "print(f\"Sampling freq is now {round(s_freq_high/500, 2)} times lower ({round(s_freq_high, 2)} --> 500)\")"
   ],
   "id": "3b4a3d1669fcbb1c",
   "execution_count": 76,
   "outputs": []
  },
  {
   "metadata": {
    "ExecuteTime": {
     "end_time": "2024-04-16T12:52:10.442725Z",
     "start_time": "2024-04-16T12:52:10.120949Z"
    }
   },
   "cell_type": "code",
   "source": "data_high_sf_resampled = raw_high_sf_resampled.get_data(picks=list(electrode_info.keys()))",
   "id": "c4c25dcce75085ae",
   "execution_count": 77,
   "outputs": []
  },
  {
   "metadata": {
    "ExecuteTime": {
     "end_time": "2024-04-16T12:52:13.347876Z",
     "start_time": "2024-04-16T12:52:11.903335Z"
    }
   },
   "cell_type": "code",
   "source": [
    "plt.plot(data_high_sf_resampled[0,:][:500])\n",
    "plt.yscale('log')\n",
    "plt.show()"
   ],
   "id": "a281d5066940847c",
   "execution_count": 78,
   "outputs": []
  },
  {
   "metadata": {},
   "cell_type": "markdown",
   "source": "Let's zoom in a bit",
   "id": "5128e168ae87e7ea"
  },
  {
   "metadata": {
    "ExecuteTime": {
     "end_time": "2024-04-16T12:56:17.615509Z",
     "start_time": "2024-04-16T12:56:16.894778Z"
    }
   },
   "cell_type": "code",
   "source": [
    "plt.plot(data_high_sf_resampled[0,:][400:500])\n",
    "plt.yscale('log')\n",
    "plt.show()"
   ],
   "id": "5058e2daf61cf6dd",
   "execution_count": 82,
   "outputs": []
  },
  {
   "metadata": {},
   "cell_type": "markdown",
   "source": "## Effect of down-sampling on the PSD",
   "id": "ffaa45cb1cc90dc"
  },
  {
   "metadata": {
    "ExecuteTime": {
     "end_time": "2024-04-17T07:52:30.308381Z",
     "start_time": "2024-04-17T07:52:26.427090Z"
    }
   },
   "cell_type": "code",
   "source": [
    "file = \"/Users/olledejong/Documents/MSc_Biology/ResearchProject2/rp2_data/3C_sociability/input/edf_files/DRD2_batch1_3C_sociability/TAINI_1019_78211_1.1_2023-07-05_12-05-02_401_0000.edf\"\n",
    "raw_high_sf = mne.io.read_raw_edf(file)\n",
    "s_freq_high = raw_high_sf.info['sfreq']"
   ],
   "id": "13566c9d128b440",
   "execution_count": 156,
   "outputs": []
  },
  {
   "metadata": {},
   "cell_type": "markdown",
   "source": "Calculate power spectral density (PSD) for a few seconds of non-package loss raw EEG signal",
   "id": "e9f56ea4b511507e"
  },
  {
   "metadata": {
    "ExecuteTime": {
     "end_time": "2024-04-17T07:52:33.542468Z",
     "start_time": "2024-04-17T07:52:31.932182Z"
    }
   },
   "cell_type": "code",
   "source": "data_high_sf = raw_high_sf.get_data(picks='EEG 2')  # ofc_r",
   "id": "f39ee82ba55001b2",
   "execution_count": 157,
   "outputs": []
  },
  {
   "metadata": {},
   "cell_type": "markdown",
   "source": "Slice a second of non-package loss data ",
   "id": "a26672d1c0821dcf"
  },
  {
   "metadata": {
    "ExecuteTime": {
     "end_time": "2024-04-17T07:52:35.229244Z",
     "start_time": "2024-04-17T07:52:35.219295Z"
    }
   },
   "cell_type": "code",
   "source": "one_sec_dat = data_high_sf[0,:][int(s_freq_high * 7):int(s_freq_high * 8)]",
   "id": "662cce8389f80f35",
   "execution_count": 158,
   "outputs": []
  },
  {
   "metadata": {
    "ExecuteTime": {
     "end_time": "2024-04-17T07:52:36.802402Z",
     "start_time": "2024-04-17T07:52:36.360555Z"
    }
   },
   "cell_type": "code",
   "source": [
    "fig = plt.figure(figsize=(15,4))\n",
    "plt.plot(one_sec_dat)\n",
    "plt.yscale('log')\n",
    "plt.show()"
   ],
   "id": "94158456ceefa55",
   "execution_count": 159,
   "outputs": []
  },
  {
   "metadata": {
    "ExecuteTime": {
     "end_time": "2024-04-17T07:52:49.607868Z",
     "start_time": "2024-04-17T07:52:49.501796Z"
    }
   },
   "cell_type": "code",
   "source": "psd_high_sf, freq = psd_array_multitaper(one_sec_dat, fmin=0, fmax=100, sfreq=s_freq_high, n_jobs=-1, verbose=False)",
   "id": "ebaa663582b15910",
   "execution_count": 160,
   "outputs": []
  },
  {
   "metadata": {},
   "cell_type": "markdown",
   "source": "Resample",
   "id": "97653dd63396e6a9"
  },
  {
   "metadata": {
    "ExecuteTime": {
     "end_time": "2024-04-17T07:57:15.033085Z",
     "start_time": "2024-04-17T07:52:54.633331Z"
    }
   },
   "cell_type": "code",
   "source": [
    "hsf_resampled = raw_high_sf.resample(500, npad=\"auto\")\n",
    "data_high_sf_resampled = raw_high_sf.get_data(picks='EEG 2')  # ofc_r\n",
    "one_sec_dat_resampled = data_high_sf_resampled[0,:][int(500 * 7):int(500 * 8)]"
   ],
   "id": "19b3df1908fd51dd",
   "execution_count": 161,
   "outputs": []
  },
  {
   "metadata": {},
   "cell_type": "markdown",
   "source": "Calc PSD",
   "id": "206185ef4c92d796"
  },
  {
   "metadata": {
    "ExecuteTime": {
     "end_time": "2024-04-17T07:57:41.047971Z",
     "start_time": "2024-04-17T07:57:40.972291Z"
    }
   },
   "cell_type": "code",
   "source": "psd_high_sf_resampled, freq = psd_array_multitaper(one_sec_dat_resampled, fmin=0, fmax=100, sfreq=500, n_jobs=-1, verbose=False)",
   "id": "b7ba90c30e018416",
   "execution_count": 162,
   "outputs": []
  },
  {
   "metadata": {},
   "cell_type": "markdown",
   "source": "Let's also try a downsampled filtered signal.",
   "id": "acc8043df889e5e0"
  },
  {
   "metadata": {
    "ExecuteTime": {
     "end_time": "2024-04-17T08:32:42.472773Z",
     "start_time": "2024-04-17T08:32:41.158341Z"
    }
   },
   "cell_type": "code",
   "source": [
    "electrode_info = filtering['electrode_info']\n",
    "lcut, hcut = filtering['lcut'], filtering['hcut']\n",
    "low_val, high_val = filtering['low_val'], filtering['high_val']\n",
    "art = filtering['art']\n",
    "\n",
    "filtered_data = filter_eeg(hsf_resampled['EEG 2'][0][0], 500, lcut, hcut, low_val, high_val, art)"
   ],
   "id": "b680d6612c8057e7",
   "execution_count": 191,
   "outputs": []
  },
  {
   "metadata": {},
   "cell_type": "markdown",
   "source": "Calc PSD of the filtered downsampled signal",
   "id": "f42718cf37003f3b"
  },
  {
   "metadata": {
    "ExecuteTime": {
     "end_time": "2024-04-17T08:32:54.922522Z",
     "start_time": "2024-04-17T08:32:54.853576Z"
    }
   },
   "cell_type": "code",
   "source": [
    "one_sec_dat_resampled_filtered = filtered_data[int(500 * 7):int(500 * 8)]\n",
    "psd_high_sf_resampled_filtered, freq = psd_array_multitaper(one_sec_dat_resampled_filtered, fmin=0, fmax=100, sfreq=500, n_jobs=-1, verbose=False)"
   ],
   "id": "6bdedddd89e63662",
   "execution_count": 192,
   "outputs": []
  },
  {
   "metadata": {},
   "cell_type": "markdown",
   "source": "Plot the visual difference between the signals and the PSDs in the same figure",
   "id": "b5890202fe88cca0"
  },
  {
   "metadata": {
    "ExecuteTime": {
     "end_time": "2024-04-17T12:40:22.572942Z",
     "start_time": "2024-04-17T12:40:20.894996Z"
    }
   },
   "cell_type": "code",
   "source": [
    "fig, axs = plt.subplots(4, 1, figsize=(14, 10))\n",
    "axs = axs.ravel()\n",
    "\n",
    "axs[0].plot(one_sec_dat)\n",
    "axs[0].set_title('Original signal (19525 Hz)')\n",
    "axs[1].plot(one_sec_dat_resampled, color='orange')\n",
    "axs[1].set_title('Resampled signal (500 Hz)')\n",
    "axs[2].plot(one_sec_dat_resampled_filtered, color='green')\n",
    "axs[2].set_title('Resampled & filtered signal (500 Hz)')\n",
    "\n",
    "axs[3].plot(freq, psd_high_sf, label='Original (19525 Hz)')\n",
    "axs[3].plot(freq, psd_high_sf_resampled, label='Resampled (500 Hz)')\n",
    "axs[3].plot(freq, psd_high_sf_resampled_filtered, label='Resampled filtered (500 Hz)', linestyle='--')\n",
    "axs[3].set_title(\"Original vs. downsampled (500 Hz) PSD\")\n",
    "\n",
    "plt.yscale('log')\n",
    "plt.tight_layout()\n",
    "plt.show()"
   ],
   "id": "1e322d0690ba0f19",
   "execution_count": 220,
   "outputs": []
  },
  {
   "metadata": {},
   "cell_type": "markdown",
   "source": [
    "So, the resampling (down-sampling) doesn't really seem to affect the PSD trajectory, apart from the fact that the scale changes. Howevere, if you resample all data to e.g. 500 Hz, the scales are gonna be the same and thus comparable.\n",
    "\n",
    "The difference you see between the orange (resampled to 500Hz) and green (resampled to 500Hz and filtered) power spectral densities is because of the filtering, and that makes sense. The same would happen to signals you filter without resampling it first."
   ],
   "id": "20af25e576995c2c"
  },
  {
   "metadata": {},
   "cell_type": "markdown",
   "source": "Lastly, let's compare a stretch of the resampled (500Hz) raw and the resampled filtered signals that contains package loss",
   "id": "d18d60cdfc0e39f8"
  },
  {
   "metadata": {
    "ExecuteTime": {
     "end_time": "2024-04-17T12:40:37.288296Z",
     "start_time": "2024-04-17T12:40:35.286295Z"
    }
   },
   "cell_type": "code",
   "source": [
    "fig, axs = plt.subplots(3, 1, figsize = (18,9))\n",
    "\n",
    "axs[0].plot(data_high_sf_resampled[0,200000:210000])\n",
    "axs[0].set_title('Resampled EEG')\n",
    "axs[1].plot(filtered_data[200000:215000])\n",
    "axs[1].set_title('Resampled EEG, filtered using the filter_eeg function from eeg_filtering_functions.py file')\n",
    "axs[2].plot(mne.filter.filter_data(hsf_resampled['EEG 2'][0][0], 500, lcut, hcut)[200000:215000])\n",
    "axs[2].set_title('Resampled EEG, filtered using the MNE package filtering function')\n",
    "\n",
    "plt.suptitle('Comparison of the MNE filtering function and our own filtering function -- How does it handle package loss?')\n",
    "plt.show()"
   ],
   "id": "3960522f2510ac85",
   "execution_count": 221,
   "outputs": []
  },
  {
   "metadata": {},
   "cell_type": "markdown",
   "source": "This exploratory notebook indicates that we can safely down-sample the EEG that was recorded in a way higher sampling frequency. We decided to downsample all data to 500 Hz, and then apply the filtering as we did with the resting-state experiment.",
   "id": "e9f6bedb40d50fc8"
  }
 ],
 "metadata": {
  "kernelspec": {
   "display_name": "Python 3",
   "language": "python",
   "name": "python3"
  },
  "language_info": {
   "codemirror_mode": {
    "name": "ipython",
    "version": 2
   },
   "file_extension": ".py",
   "mimetype": "text/x-python",
   "name": "python",
   "nbconvert_exporter": "python",
   "pygments_lexer": "ipython2",
   "version": "2.7.6"
  }
 },
 "nbformat": 4,
 "nbformat_minor": 5
}
