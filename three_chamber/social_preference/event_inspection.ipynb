{
 "cells": [
  {
   "metadata": {
    "ExecuteTime": {
     "end_time": "2024-05-08T07:46:06.905145Z",
     "start_time": "2024-05-08T07:46:04.070315Z"
    }
   },
   "cell_type": "code",
   "source": [
    "import os\n",
    "import mne\n",
    "import numpy as np\n",
    "import pandas as pd\n",
    "import seaborn as sns\n",
    "import matplotlib.pyplot as plt\n",
    "from mne_connectivity import spectral_connectivity_epochs, seed_target_indices\n",
    "\n",
    "from shared.helper_functions import save_figure, select_folder, select_or_create_folder\n",
    "from settings_general import low_qual_chans, freq_bands_eeg, subject_id_batch_cage_dict"
   ],
   "id": "541b6b2b79a16e43",
   "outputs": [],
   "execution_count": 1
  },
  {
   "metadata": {
    "ExecuteTime": {
     "end_time": "2024-05-08T07:46:06.921461Z",
     "start_time": "2024-05-08T07:46:06.907305Z"
    }
   },
   "cell_type": "code",
   "source": "sns.set_theme()",
   "id": "a7462945d3160939",
   "outputs": [],
   "execution_count": 2
  },
  {
   "metadata": {
    "ExecuteTime": {
     "end_time": "2024-05-08T07:46:06.934748Z",
     "start_time": "2024-05-08T07:46:06.924537Z"
    }
   },
   "cell_type": "code",
   "source": [
    "palette = {'DRD2-WT': '#427C99', 'DRD2-KO': '#AF5541'}\n",
    "palette_gr = {'DRD2-WT':'#6A8D73', 'DRD2-KO':'#984447'}"
   ],
   "id": "7b1b6e8c3b01a861",
   "outputs": [],
   "execution_count": 3
  },
  {
   "metadata": {
    "ExecuteTime": {
     "end_time": "2024-05-08T07:46:16.335539Z",
     "start_time": "2024-05-08T07:46:06.946386Z"
    }
   },
   "cell_type": "code",
   "source": "boris_folder = select_folder(\"Select the folder that holds the BORIS behaviour tracking files\")",
   "id": "187e83498360a65f",
   "outputs": [
    {
     "name": "stderr",
     "output_type": "stream",
     "text": [
      "2024-05-08 09:46:09.851 python[12838:508570] +[CATransaction synchronize] called within transaction\n"
     ]
    }
   ],
   "execution_count": 4
  },
  {
   "metadata": {
    "ExecuteTime": {
     "end_time": "2024-05-08T07:46:19.463383Z",
     "start_time": "2024-05-08T07:46:19.449725Z"
    }
   },
   "cell_type": "code",
   "source": "boris_folder",
   "id": "e80f3a3ed7047b54",
   "outputs": [
    {
     "data": {
      "text/plain": [
       "'/Users/olledejong/Documents/MSc_Biology/ResearchProject2/rp2_data/3C_preference/input/behavioural_data'"
      ]
     },
     "execution_count": 5,
     "metadata": {},
     "output_type": "execute_result"
    }
   ],
   "execution_count": 5
  },
  {
   "metadata": {
    "ExecuteTime": {
     "end_time": "2024-05-08T07:46:20.513337Z",
     "start_time": "2024-05-08T07:46:20.504472Z"
    }
   },
   "cell_type": "code",
   "source": [
    "def merge_event_rows(beh_data):\n",
    "    merged_df = pd.concat([\n",
    "        beh_data.iloc[::2].reset_index(drop=True),  # only keep each start row\n",
    "        beh_data.iloc[::2].reset_index(drop=True)['Image index'].rename('Frame start'),  # interaction start frame\n",
    "        beh_data.iloc[1::2].reset_index(drop=True)['Image index'].rename('Frame stop'),  # interaction stop frame\n",
    "        beh_data.iloc[1::2].reset_index(drop=True)['Time'] - beh_data.iloc[::2]['Time'].reset_index(drop=True),\n",
    "        # duration\n",
    "    ], axis=1)\n",
    "    # rename the last column as it represents the duration of the interaction\n",
    "    merged_df = merged_df.set_axis([*merged_df.columns[:-1], 'Interaction duration'], axis=1)\n",
    "    # drop the columns we don't need\n",
    "    cols_to_drop = [\n",
    "        'Image index', 'Time', 'Observation type', 'Source', 'Time offset (s)', 'Subject', 'Comment', 'Image file path',\n",
    "        'Description', 'Behavioral category', 'Behavior type'\n",
    "    ]\n",
    "    return merged_df.drop(columns=cols_to_drop)"
   ],
   "id": "9f73ea02c4b1785",
   "outputs": [],
   "execution_count": 6
  },
  {
   "metadata": {
    "ExecuteTime": {
     "end_time": "2024-05-08T07:46:23.249443Z",
     "start_time": "2024-05-08T07:46:21.041819Z"
    }
   },
   "cell_type": "code",
   "source": [
    "beh_df = pd.DataFrame()\n",
    "\n",
    "for file in os.listdir(boris_folder):\n",
    "    if not file.endswith('.xlsx'):\n",
    "        continue\n",
    "    beh_data = pd.read_excel(os.path.join(boris_folder, file))\n",
    "    batch_cage = file.split('.')[0]\n",
    "    subject_id = [key for key, value in subject_id_batch_cage_dict.items() if value == batch_cage][0]\n",
    "\n",
    "    for event_type in beh_data['Behavior'].unique():\n",
    "        beh_dat_event = beh_data[beh_data['Behavior'] == event_type]\n",
    "        starts = beh_dat_event[beh_dat_event['Behavior type'] == 'START']\n",
    "        stops = beh_dat_event[beh_dat_event['Behavior type'] == 'STOP']\n",
    "\n",
    "        if len(stops) < len(starts):\n",
    "            print(f'({batch_cage}, {subject_id}) Number of STOPs is smaller than number of STARTs for {event_type}')\n",
    "            if beh_dat_event.iloc[-1]['Behavior type'] == 'START':\n",
    "                print('Removing last row because it is of type START')\n",
    "                beh_dat_event = beh_dat_event.drop(beh_dat_event.index[-1])\n",
    "            else:\n",
    "                print(f'Number of STOPs is smaller than number of STARTs, but this is not caused by a START at '\n",
    "                      f'the last row of the dataframe. Skipping..')\n",
    "                continue\n",
    "        if len(starts) < len(stops):\n",
    "            print(f'({batch_cage}, {subject_id}) Number of STARTs is smaller than number of STOPs for {event_type}')\n",
    "            if beh_dat_event.iloc[0]['Behavior type'] == 'STOP':\n",
    "                print('Removing first row because it is of type STOP')\n",
    "                beh_dat_event = beh_dat_event.drop(beh_dat_event.index[0])\n",
    "            else:\n",
    "                print(f'Number of STARTs is smaller than number of STOPs, but this is not caused by a STOP at '\n",
    "                      f'the first row of the dataframe. Skipping..')\n",
    "                continue\n",
    "\n",
    "        beh_dat_event = merge_event_rows(beh_dat_event)\n",
    "        # merge the start and stop rows and calculate some stuff (interaction duration etc)\n",
    "        beh_dat_event.insert(1, 'subject_id', subject_id)\n",
    "        beh_df = pd.concat([beh_df, beh_dat_event], axis=0)"
   ],
   "id": "2e6e49931bb61344",
   "outputs": [],
   "execution_count": 7
  },
  {
   "metadata": {
    "ExecuteTime": {
     "end_time": "2024-05-08T07:46:24.442432Z",
     "start_time": "2024-05-08T07:46:24.417714Z"
    }
   },
   "cell_type": "code",
   "source": "beh_df",
   "id": "636cd99a8426960d",
   "outputs": [
    {
     "data": {
      "text/plain": [
       "   Observation id  subject_id         Observation date  Observation duration  \\\n",
       "0    batch5_cage4       81193  2024-04-11 16:05:50.021               583.418   \n",
       "1    batch5_cage4       81193  2024-04-11 16:05:50.021               583.418   \n",
       "2    batch5_cage4       81193  2024-04-11 16:05:50.021               583.418   \n",
       "3    batch5_cage4       81193  2024-04-11 16:05:50.021               583.418   \n",
       "4    batch5_cage4       81193  2024-04-11 16:05:50.021               583.418   \n",
       "..            ...         ...                      ...                   ...   \n",
       "15   batch1_cage3       78227  2024-04-11 11:09:17.985               597.621   \n",
       "16   batch1_cage3       78227  2024-04-11 11:09:17.985               597.621   \n",
       "17   batch1_cage3       78227  2024-04-11 11:09:17.985               597.621   \n",
       "18   batch1_cage3       78227  2024-04-11 11:09:17.985               597.621   \n",
       "19   batch1_cage3       78227  2024-04-11 11:09:17.985               597.621   \n",
       "\n",
       "    Media duration (s)   FPS   Behavior  \\\n",
       "0             2204.972  60.0  novel_cup   \n",
       "1             2204.972  60.0  novel_cup   \n",
       "2             2204.972  60.0  novel_cup   \n",
       "3             2204.972  60.0  novel_cup   \n",
       "4             2204.972  60.0  novel_cup   \n",
       "..                 ...   ...        ...   \n",
       "15            2302.411  30.0  novel_cup   \n",
       "16            2302.411  30.0  novel_cup   \n",
       "17            2302.411  30.0  novel_cup   \n",
       "18            2302.411  30.0  novel_cup   \n",
       "19            2302.411  30.0  novel_cup   \n",
       "\n",
       "                                      Media file name  Frame start  \\\n",
       "0   C:/Users/Olle de Jong/Documents/MSc Biology/rp...        47417   \n",
       "1   C:/Users/Olle de Jong/Documents/MSc Biology/rp...        47545   \n",
       "2   C:/Users/Olle de Jong/Documents/MSc Biology/rp...        47855   \n",
       "3   C:/Users/Olle de Jong/Documents/MSc Biology/rp...        48153   \n",
       "4   C:/Users/Olle de Jong/Documents/MSc Biology/rp...        48237   \n",
       "..                                                ...          ...   \n",
       "15  C:/Users/Olle de Jong/Documents/MSc Biology/rp...        62387   \n",
       "16  C:/Users/Olle de Jong/Documents/MSc Biology/rp...        62524   \n",
       "17  C:/Users/Olle de Jong/Documents/MSc Biology/rp...        64321   \n",
       "18  C:/Users/Olle de Jong/Documents/MSc Biology/rp...        64518   \n",
       "19  C:/Users/Olle de Jong/Documents/MSc Biology/rp...        65238   \n",
       "\n",
       "    Frame stop  Interaction duration  \n",
       "0        47522                 3.502  \n",
       "1        47794                 8.337  \n",
       "2        48129                 9.137  \n",
       "3        48212                 1.967  \n",
       "4        48274                 1.234  \n",
       "..         ...                   ...  \n",
       "15       62475                 2.935  \n",
       "16       62579                 1.834  \n",
       "17       64334                 0.432  \n",
       "18       64537                 0.633  \n",
       "19       65316                 2.602  \n",
       "\n",
       "[1039 rows x 11 columns]"
      ],
      "text/html": [
       "<div>\n",
       "<style scoped>\n",
       "    .dataframe tbody tr th:only-of-type {\n",
       "        vertical-align: middle;\n",
       "    }\n",
       "\n",
       "    .dataframe tbody tr th {\n",
       "        vertical-align: top;\n",
       "    }\n",
       "\n",
       "    .dataframe thead th {\n",
       "        text-align: right;\n",
       "    }\n",
       "</style>\n",
       "<table border=\"1\" class=\"dataframe\">\n",
       "  <thead>\n",
       "    <tr style=\"text-align: right;\">\n",
       "      <th></th>\n",
       "      <th>Observation id</th>\n",
       "      <th>subject_id</th>\n",
       "      <th>Observation date</th>\n",
       "      <th>Observation duration</th>\n",
       "      <th>Media duration (s)</th>\n",
       "      <th>FPS</th>\n",
       "      <th>Behavior</th>\n",
       "      <th>Media file name</th>\n",
       "      <th>Frame start</th>\n",
       "      <th>Frame stop</th>\n",
       "      <th>Interaction duration</th>\n",
       "    </tr>\n",
       "  </thead>\n",
       "  <tbody>\n",
       "    <tr>\n",
       "      <th>0</th>\n",
       "      <td>batch5_cage4</td>\n",
       "      <td>81193</td>\n",
       "      <td>2024-04-11 16:05:50.021</td>\n",
       "      <td>583.418</td>\n",
       "      <td>2204.972</td>\n",
       "      <td>60.0</td>\n",
       "      <td>novel_cup</td>\n",
       "      <td>C:/Users/Olle de Jong/Documents/MSc Biology/rp...</td>\n",
       "      <td>47417</td>\n",
       "      <td>47522</td>\n",
       "      <td>3.502</td>\n",
       "    </tr>\n",
       "    <tr>\n",
       "      <th>1</th>\n",
       "      <td>batch5_cage4</td>\n",
       "      <td>81193</td>\n",
       "      <td>2024-04-11 16:05:50.021</td>\n",
       "      <td>583.418</td>\n",
       "      <td>2204.972</td>\n",
       "      <td>60.0</td>\n",
       "      <td>novel_cup</td>\n",
       "      <td>C:/Users/Olle de Jong/Documents/MSc Biology/rp...</td>\n",
       "      <td>47545</td>\n",
       "      <td>47794</td>\n",
       "      <td>8.337</td>\n",
       "    </tr>\n",
       "    <tr>\n",
       "      <th>2</th>\n",
       "      <td>batch5_cage4</td>\n",
       "      <td>81193</td>\n",
       "      <td>2024-04-11 16:05:50.021</td>\n",
       "      <td>583.418</td>\n",
       "      <td>2204.972</td>\n",
       "      <td>60.0</td>\n",
       "      <td>novel_cup</td>\n",
       "      <td>C:/Users/Olle de Jong/Documents/MSc Biology/rp...</td>\n",
       "      <td>47855</td>\n",
       "      <td>48129</td>\n",
       "      <td>9.137</td>\n",
       "    </tr>\n",
       "    <tr>\n",
       "      <th>3</th>\n",
       "      <td>batch5_cage4</td>\n",
       "      <td>81193</td>\n",
       "      <td>2024-04-11 16:05:50.021</td>\n",
       "      <td>583.418</td>\n",
       "      <td>2204.972</td>\n",
       "      <td>60.0</td>\n",
       "      <td>novel_cup</td>\n",
       "      <td>C:/Users/Olle de Jong/Documents/MSc Biology/rp...</td>\n",
       "      <td>48153</td>\n",
       "      <td>48212</td>\n",
       "      <td>1.967</td>\n",
       "    </tr>\n",
       "    <tr>\n",
       "      <th>4</th>\n",
       "      <td>batch5_cage4</td>\n",
       "      <td>81193</td>\n",
       "      <td>2024-04-11 16:05:50.021</td>\n",
       "      <td>583.418</td>\n",
       "      <td>2204.972</td>\n",
       "      <td>60.0</td>\n",
       "      <td>novel_cup</td>\n",
       "      <td>C:/Users/Olle de Jong/Documents/MSc Biology/rp...</td>\n",
       "      <td>48237</td>\n",
       "      <td>48274</td>\n",
       "      <td>1.234</td>\n",
       "    </tr>\n",
       "    <tr>\n",
       "      <th>...</th>\n",
       "      <td>...</td>\n",
       "      <td>...</td>\n",
       "      <td>...</td>\n",
       "      <td>...</td>\n",
       "      <td>...</td>\n",
       "      <td>...</td>\n",
       "      <td>...</td>\n",
       "      <td>...</td>\n",
       "      <td>...</td>\n",
       "      <td>...</td>\n",
       "      <td>...</td>\n",
       "    </tr>\n",
       "    <tr>\n",
       "      <th>15</th>\n",
       "      <td>batch1_cage3</td>\n",
       "      <td>78227</td>\n",
       "      <td>2024-04-11 11:09:17.985</td>\n",
       "      <td>597.621</td>\n",
       "      <td>2302.411</td>\n",
       "      <td>30.0</td>\n",
       "      <td>novel_cup</td>\n",
       "      <td>C:/Users/Olle de Jong/Documents/MSc Biology/rp...</td>\n",
       "      <td>62387</td>\n",
       "      <td>62475</td>\n",
       "      <td>2.935</td>\n",
       "    </tr>\n",
       "    <tr>\n",
       "      <th>16</th>\n",
       "      <td>batch1_cage3</td>\n",
       "      <td>78227</td>\n",
       "      <td>2024-04-11 11:09:17.985</td>\n",
       "      <td>597.621</td>\n",
       "      <td>2302.411</td>\n",
       "      <td>30.0</td>\n",
       "      <td>novel_cup</td>\n",
       "      <td>C:/Users/Olle de Jong/Documents/MSc Biology/rp...</td>\n",
       "      <td>62524</td>\n",
       "      <td>62579</td>\n",
       "      <td>1.834</td>\n",
       "    </tr>\n",
       "    <tr>\n",
       "      <th>17</th>\n",
       "      <td>batch1_cage3</td>\n",
       "      <td>78227</td>\n",
       "      <td>2024-04-11 11:09:17.985</td>\n",
       "      <td>597.621</td>\n",
       "      <td>2302.411</td>\n",
       "      <td>30.0</td>\n",
       "      <td>novel_cup</td>\n",
       "      <td>C:/Users/Olle de Jong/Documents/MSc Biology/rp...</td>\n",
       "      <td>64321</td>\n",
       "      <td>64334</td>\n",
       "      <td>0.432</td>\n",
       "    </tr>\n",
       "    <tr>\n",
       "      <th>18</th>\n",
       "      <td>batch1_cage3</td>\n",
       "      <td>78227</td>\n",
       "      <td>2024-04-11 11:09:17.985</td>\n",
       "      <td>597.621</td>\n",
       "      <td>2302.411</td>\n",
       "      <td>30.0</td>\n",
       "      <td>novel_cup</td>\n",
       "      <td>C:/Users/Olle de Jong/Documents/MSc Biology/rp...</td>\n",
       "      <td>64518</td>\n",
       "      <td>64537</td>\n",
       "      <td>0.633</td>\n",
       "    </tr>\n",
       "    <tr>\n",
       "      <th>19</th>\n",
       "      <td>batch1_cage3</td>\n",
       "      <td>78227</td>\n",
       "      <td>2024-04-11 11:09:17.985</td>\n",
       "      <td>597.621</td>\n",
       "      <td>2302.411</td>\n",
       "      <td>30.0</td>\n",
       "      <td>novel_cup</td>\n",
       "      <td>C:/Users/Olle de Jong/Documents/MSc Biology/rp...</td>\n",
       "      <td>65238</td>\n",
       "      <td>65316</td>\n",
       "      <td>2.602</td>\n",
       "    </tr>\n",
       "  </tbody>\n",
       "</table>\n",
       "<p>1039 rows × 11 columns</p>\n",
       "</div>"
      ]
     },
     "execution_count": 8,
     "metadata": {},
     "output_type": "execute_result"
    }
   ],
   "execution_count": 8
  },
  {
   "metadata": {
    "ExecuteTime": {
     "end_time": "2024-05-08T07:46:27.084222Z",
     "start_time": "2024-05-08T07:46:26.095590Z"
    }
   },
   "cell_type": "code",
   "source": [
    "sns.displot(beh_df['Interaction duration'], bins=200, aspect=2)\n",
    "plt.xlabel('Interaction duration (s)')\n",
    "plt.xticks(np.arange(0, 15, 1))\n",
    "plt.xlim(0, 15)\n",
    "plt.show()"
   ],
   "id": "c8fdd62557dcab96",
   "outputs": [
    {
     "data": {
      "text/plain": [
       "<Figure size 1000x500 with 1 Axes>"
      ],
      "image/png": "[encoded data removed]"
     },
     "metadata": {},
     "output_type": "display_data"
    }
   ],
   "execution_count": 9
  }
 ],
 "metadata": {
  "kernelspec": {
   "display_name": "Python 3",
   "language": "python",
   "name": "python3"
  },
  "language_info": {
   "codemirror_mode": {
    "name": "ipython",
    "version": 2
   },
   "file_extension": ".py",
   "mimetype": "text/x-python",
   "name": "python",
   "nbconvert_exporter": "python",
   "pygments_lexer": "ipython2",
   "version": "2.7.6"
  }
 },
 "nbformat": 4,
 "nbformat_minor": 5
}
