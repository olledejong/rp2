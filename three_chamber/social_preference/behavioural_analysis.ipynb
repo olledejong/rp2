{
 "cells": [
  {
   "metadata": {},
   "cell_type": "markdown",
   "source": [
    "## 3 Chamber Social Preference test - Behavioural analysis"
   ],
   "id": "514ef05e1fc79464"
  },
  {
   "metadata": {
    "ExecuteTime": {
     "end_time": "2024-05-21T09:45:14.601510Z",
     "start_time": "2024-05-21T09:45:14.595574Z"
    }
   },
   "cell_type": "code",
   "source": [
    "import os\n",
    "import numpy as np\n",
    "import pandas as pd\n",
    "import seaborn as sns\n",
    "from matplotlib import pyplot as plt\n",
    "from scipy.stats import ttest_ind, f_oneway\n",
    "\n",
    "from shared.helper_functions import *"
   ],
   "id": "c00795589f2f0489",
   "execution_count": 2,
   "outputs": []
  },
  {
   "metadata": {
    "ExecuteTime": {
     "end_time": "2024-05-21T09:49:24.794556Z",
     "start_time": "2024-05-21T09:49:24.790048Z"
    }
   },
   "cell_type": "code",
   "source": "sns.set_theme()",
   "id": "bc37f4de24d6fd42",
   "execution_count": 22,
   "outputs": []
  },
  {
   "metadata": {},
   "cell_type": "markdown",
   "source": "Get the path to the folder that holds the behaviour data exported from BORIS software.",
   "id": "2b59517052849991"
  },
  {
   "metadata": {
    "ExecuteTime": {
     "end_time": "2024-05-21T09:45:25.835995Z",
     "start_time": "2024-05-21T09:45:15.466424Z"
    }
   },
   "cell_type": "code",
   "source": "behaviour_data_dir = select_folder(\"Please select the sociability behaviour data directory\")",
   "id": "e3e946a27365d3a2",
   "execution_count": 3,
   "outputs": []
  },
  {
   "metadata": {},
   "cell_type": "markdown",
   "source": "If you want to save plots, select a directory you want to save them to.",
   "id": "512c14ab1a0e22bb"
  },
  {
   "metadata": {
    "ExecuteTime": {
     "end_time": "2024-05-21T09:45:39.036045Z",
     "start_time": "2024-05-21T09:45:29.635380Z"
    }
   },
   "cell_type": "code",
   "source": "plot_output_dir = select_or_create_folder(\"Please select or create a folder you wish to save the plots\")",
   "id": "675d2ad18c6ffea8",
   "execution_count": 4,
   "outputs": []
  },
  {
   "metadata": {},
   "cell_type": "markdown",
   "source": [
    "## Load the animal metadata"
   ],
   "id": "c7915b48ae958fdd"
  },
  {
   "metadata": {},
   "cell_type": "markdown",
   "source": [
    "First, let's load the metadata that tells us which batch/cage combination is which animal (id)."
   ],
   "id": "77d33a16211f8d1"
  },
  {
   "metadata": {
    "ExecuteTime": {
     "end_time": "2024-05-21T09:45:47.943280Z",
     "start_time": "2024-05-21T09:45:41.808001Z"
    }
   },
   "cell_type": "code",
   "source": [
    "all_animals_metadata = select_file(\"Please select the file holding metadata for all animals\")\n",
    "metadata = pd.read_excel(all_animals_metadata)\n",
    "metadata"
   ],
   "id": "97d1584b05d798dc",
   "execution_count": 5,
   "outputs": []
  },
  {
   "metadata": {},
   "cell_type": "markdown",
   "source": [
    "As the behaviour was tracked with Boris and saved to a separate file per animal, we load the files separately and merge them into one dataframe.\n",
    "\n",
    "Note: animal from batch 5 cage 1 does not have an EEG file (transmitter was broken at the time), therefore there is not entry in the metadata file for that animal.\n",
    "\n",
    "This means we have the following animals:\n",
    "\n",
    "* batch1:\n",
    "    * cage1: 78211 - 1.1\n",
    "    * cage2: 78233 - 1.5\n",
    "    * cage3: 78227 - 1.9\n",
    "    * cage4: 78244 - 1.13\n",
    "* batch2:\n",
    "    * cage1: 79593 - 2.1\n",
    "    * cage2: 79592 - 2.5\n",
    "    * cage3: 79604 - 2.9\n",
    "    * cage4: 79602 - 2.13\n",
    "* batch4:\n",
    "    * cage1: 80620 - 4.1\n",
    "    * cage2: 80625 - 4.5\n",
    "    * cage3: 80630 - 4.9\n",
    "* batch5:\n",
    "    * cage1: 81167 - 5.1 (no EEG)  \n",
    "    * cage2: 81175 - 5.5\n",
    "    * cage3: 81207 - 5.9\n",
    "    * cage4: 81193 - 5.13\n",
    "* batch5b:\n",
    "    * cage1: 81217 - 5.17\n",
    "    * cage2: 81218 - 5.21\n",
    "* batch6:\n",
    "    * cage1: 39489 - 6.1\n",
    "    * cage2: 39508 - 6.5"
   ],
   "id": "5ea69a91c0d5d9b5"
  },
  {
   "metadata": {},
   "cell_type": "markdown",
   "source": [
    "With the above information we can create a dictionary that holds the batch-cage combination as keys, and the subject identifiers as values. These can be used to get the genotype that belongs to the individual animals."
   ],
   "id": "bfed29d1dc1857a2"
  },
  {
   "metadata": {
    "ExecuteTime": {
     "end_time": "2024-05-21T09:45:52.741907Z",
     "start_time": "2024-05-21T09:45:52.735571Z"
    }
   },
   "cell_type": "code",
   "source": [
    "subject_id_dict = {\n",
    "    'batch1_cage1': 78211, 'batch2_cage1': 79593, 'batch5_cage1': 81167, 'batch4_cage1': 80620, 'batch5b_cage1': 81217, 'batch6_cage1': 39489,\n",
    "    'batch1_cage2': 78233, 'batch2_cage2': 79592, 'batch5_cage2': 81175, 'batch4_cage2': 80625, 'batch5b_cage2': 81218, 'batch6_cage2': 39508,\n",
    "    'batch1_cage3': 78227, 'batch2_cage3': 79604, 'batch5_cage3': 81207, 'batch4_cage3': 80630,\n",
    "    'batch1_cage4': 78244, 'batch2_cage4': 79602, 'batch5_cage4': 81193,\n",
    "}"
   ],
   "id": "c832742d7c820887",
   "execution_count": 6,
   "outputs": []
  },
  {
   "metadata": {},
   "cell_type": "markdown",
   "source": [
    "## Data pre-processing\n",
    "\n",
    "The data that is exported from the BORIS tracking application provides two rows per state-event. One represents the start of the event, and one the stop, each having a single timestamp.\n",
    "\n",
    "We want to merge these rows and immediately calculate the duration of the state-event interaction. Let's do this first.\n",
    "\n",
    "To do so, we define a function that merges some information from the START and the STOP rows."
   ],
   "id": "54e30ecc45bb18d1"
  },
  {
   "metadata": {
    "ExecuteTime": {
     "end_time": "2024-05-21T09:45:59.413Z",
     "start_time": "2024-05-21T09:45:59.408122Z"
    }
   },
   "cell_type": "code",
   "source": [
    "def merge_event_rows(beh_data):\n",
    "    merged_df = pd.concat([\n",
    "        beh_data.iloc[::2].reset_index(drop=True),  # only keep each start row\n",
    "        beh_data.iloc[::2].reset_index(drop=True)['Image index'].rename('Frame start'),  # interaction start frame, name it 'Frame start'\n",
    "        beh_data.iloc[1::2].reset_index(drop=True)['Image index'].rename('Frame stop'),  # interaction stop frame, name it 'Frame stop'\n",
    "        beh_data.iloc[1::2].reset_index(drop=True)['Time'] - beh_data.iloc[::2]['Time'].reset_index(drop=True),  # interaction duration\n",
    "    ], axis=1)\n",
    "    # rename the last column as it represents the duration of the interaction\n",
    "    merged_df = merged_df.set_axis([*merged_df.columns[:-1], 'Interaction duration'], axis=1)\n",
    "    # drop the columns we don't need\n",
    "    cols_to_drop = ['Image index', 'Time', 'Observation type', 'Source', 'Time offset (s)', 'Subject', 'Comment', 'Image file path', 'Description', 'Behavioral category', 'Behavior type']\n",
    "    return merged_df.drop(columns=cols_to_drop)"
   ],
   "id": "73271ae4b9e4a88d",
   "execution_count": 7,
   "outputs": []
  },
  {
   "metadata": {},
   "cell_type": "markdown",
   "source": [
    "Then, we create one dataframe holding the behavioural data for all animals. Each row is one interaction event."
   ],
   "id": "b35411f14c7185c7"
  },
  {
   "metadata": {
    "ExecuteTime": {
     "end_time": "2024-05-21T09:46:00.698877Z",
     "start_time": "2024-05-21T09:45:59.965528Z"
    }
   },
   "cell_type": "code",
   "source": [
    "beh_df = pd.DataFrame()\n",
    "\n",
    "# for each behaviour file (which holds behaviour data on one animal only)\n",
    "for file in os.listdir(behaviour_data_dir):\n",
    "    if not file.endswith('.xlsx') and 'batch' not in file:\n",
    "        continue\n",
    "        \n",
    "    beh_dat = pd.read_excel(os.path.join(behaviour_data_dir, file))\n",
    "    \n",
    "    # get the subject id\n",
    "    batch, cage = beh_dat['Observation id'].iloc[0].split('_')[:2]\n",
    "    batch_cage = batch + '_' + cage\n",
    "    subject_id = subject_id_dict[batch_cage]\n",
    "    genotype = metadata[metadata.mouseId == subject_id]['genotype'].iloc[0]\n",
    "\n",
    "    novel_cup_starts = beh_dat[(beh_dat['Behavior type'] == 'START') & (beh_dat['Behavior'] == 'novel_cup')]\n",
    "    novel_cup_stops = beh_dat[(beh_dat['Behavior type'] == 'STOP') & (beh_dat['Behavior'] == 'novel_cup')]\n",
    "    familiar_cup_starts = beh_dat[(beh_dat['Behavior type'] == 'START') & (beh_dat['Behavior'] == 'familiar_cup')]\n",
    "    familiar_cup_stops = beh_dat[(beh_dat['Behavior type'] == 'STOP') & (beh_dat['Behavior'] == 'familiar_cup')]\n",
    "    \n",
    "    if not len(novel_cup_starts) == len(novel_cup_stops) or not len(familiar_cup_starts) == len(familiar_cup_stops):\n",
    "        print(f'Number of event STARTs and STOPs do not match, skipping {beh_dat[\"Observation id\"]} (id: {subject_id_dict[beh_dat[\"Observation id\"]]})')\n",
    "        continue\n",
    "    \n",
    "    # merge the start and stop rows and calculate some stuff (interaction duration etc)\n",
    "    beh_data = merge_event_rows(beh_dat)\n",
    "    beh_data.insert(1, 'subject_id', subject_id)\n",
    "    beh_data.insert(2, 'genotype', genotype)\n",
    "    beh_df = pd.concat([beh_df, beh_data], axis=0)"
   ],
   "id": "6389d61a3a301cad",
   "execution_count": 8,
   "outputs": []
  },
  {
   "metadata": {},
   "cell_type": "markdown",
   "source": [
    "Let's inspect the dataframe"
   ],
   "id": "c0b6004296bef953"
  },
  {
   "metadata": {
    "ExecuteTime": {
     "end_time": "2024-05-21T09:46:02.427581Z",
     "start_time": "2024-05-21T09:46:02.415744Z"
    }
   },
   "cell_type": "code",
   "source": [
    "beh_df.head()"
   ],
   "id": "4c30a9b957f5a774",
   "execution_count": 9,
   "outputs": []
  },
  {
   "metadata": {
    "ExecuteTime": {
     "end_time": "2024-05-21T09:46:03.238336Z",
     "start_time": "2024-05-21T09:46:03.234656Z"
    }
   },
   "cell_type": "code",
   "source": [
    "print(f'Subjects/animals present (n={len(np.unique(beh_df[\"subject_id\"]))}):\\n{np.unique(beh_df[\"subject_id\"])} ')"
   ],
   "id": "1f48b2d3ecbc79fa",
   "execution_count": 10,
   "outputs": []
  },
  {
   "metadata": {},
   "cell_type": "markdown",
   "source": [
    "## Social Preference metric calculations"
   ],
   "id": "14561b77bb07f88d"
  },
  {
   "metadata": {
    "ExecuteTime": {
     "end_time": "2024-05-21T09:46:13.146879Z",
     "start_time": "2024-05-21T09:46:13.104716Z"
    }
   },
   "cell_type": "code",
   "source": [
    "behaviour_stats = pd.DataFrame()\n",
    "\n",
    "# for each behaviour file (which holds behaviour data on one animal only)\n",
    "for subject_id in np.unique(beh_df[\"subject_id\"]):\n",
    "    \n",
    "    subject_data = beh_df[beh_df[\"subject_id\"] == subject_id]\n",
    "    \n",
    "    mean_interaction_duration = np.mean(subject_data['Interaction duration'])\n",
    "    interaction_ratio = len(subject_data[subject_data['Behavior'] == 'novel_cup']) / len(subject_data[subject_data['Behavior'] == 'familiar_cup'])\n",
    "    total_interaction_duration_per_behavior = subject_data.groupby('Behavior')['Interaction duration'].sum()\n",
    "    \n",
    "    # Social Preference Index = (Time in chamber with novel conspecific - Time in chamber with familiar conspecific) / (Time in chamber with novel conspecific + Time in chamber with familiar conspecific)\n",
    "    preference_index = (total_interaction_duration_per_behavior['novel_cup'] -  total_interaction_duration_per_behavior['familiar_cup']) /  (total_interaction_duration_per_behavior['novel_cup'] + total_interaction_duration_per_behavior['familiar_cup'])\n",
    "    \n",
    "    preference_index_n_interactions = (len(subject_data[subject_data['Behavior'] == 'novel_cup']) -  len(subject_data[subject_data['Behavior'] == 'familiar_cup'])) /  (len(subject_data[subject_data['Behavior'] == 'novel_cup']) + len(subject_data[subject_data['Behavior'] == 'familiar_cup']))\n",
    "    \n",
    "    temp = pd.DataFrame({\n",
    "        'subject_id': subject_id,\n",
    "        'genotype': subject_data['genotype'].iloc[0],\n",
    "        'total_interactions': len(subject_data),\n",
    "        'interaction_ratio': interaction_ratio,\n",
    "        'total_interaction_time': np.sum(total_interaction_duration_per_behavior.values),\n",
    "        'total_novel_interaction_duration': total_interaction_duration_per_behavior['novel_cup'],\n",
    "        'total_familiar_interaction_duration': total_interaction_duration_per_behavior['familiar_cup'],\n",
    "        'average_interaction_duration': mean_interaction_duration,\n",
    "        'social_preference_index_interaction_duration': preference_index,\n",
    "        'social_preference_index_n_interactions': preference_index_n_interactions,\n",
    "    }, index=[0])\n",
    "    behaviour_stats = pd.concat([behaviour_stats, temp], ignore_index=True)"
   ],
   "id": "a3e7f97e686f2957",
   "execution_count": 12,
   "outputs": []
  },
  {
   "metadata": {},
   "cell_type": "markdown",
   "source": [
    "Let's inspect these metrics a bit"
   ],
   "id": "8e246924fd6bcc60"
  },
  {
   "metadata": {
    "ExecuteTime": {
     "end_time": "2024-05-21T09:46:14.910383Z",
     "start_time": "2024-05-21T09:46:14.898336Z"
    }
   },
   "cell_type": "code",
   "source": [
    "behaviour_stats.head()"
   ],
   "id": "276032c5d588d591",
   "execution_count": 13,
   "outputs": []
  },
  {
   "metadata": {
    "ExecuteTime": {
     "end_time": "2024-05-21T09:46:15.152947Z",
     "start_time": "2024-05-21T09:46:15.135685Z"
    }
   },
   "cell_type": "code",
   "source": [
    "behaviour_stats.describe()"
   ],
   "id": "bf046276e022bbb9",
   "execution_count": 14,
   "outputs": []
  },
  {
   "metadata": {
    "ExecuteTime": {
     "end_time": "2024-05-21T09:46:15.510130Z",
     "start_time": "2024-05-21T09:46:15.505597Z"
    }
   },
   "cell_type": "code",
   "source": [
    "np.unique(behaviour_stats.genotype, return_counts=True)"
   ],
   "id": "8eb412b0ddd51795",
   "execution_count": 15,
   "outputs": []
  },
  {
   "metadata": {},
   "cell_type": "markdown",
   "source": [
    "Let's boxplot the calculated interaction metrics per genotype"
   ],
   "id": "14ab7b514a4a882f"
  },
  {
   "metadata": {
    "ExecuteTime": {
     "end_time": "2024-05-21T09:54:08.801617Z",
     "start_time": "2024-05-21T09:54:06.088092Z"
    }
   },
   "cell_type": "code",
   "source": [
    "behaviour_stats = behaviour_stats.sort_values(by='genotype', ascending=False)\n",
    "boxplot_cols = behaviour_stats.columns[2:]\n",
    "\n",
    "swarmplot_palette = {'DRD2-WT':'#AEC2B3', 'DRD2-KO':'#C68083'}\n",
    "violin_palette = {'DRD2-WT':'#6A8D73', 'DRD2-KO':'#984447'}\n",
    "\n",
    "title_label_dict = {\n",
    "    'total_interactions': ('Total number of interactions with either cup', 'Count'),\n",
    "    'total_interaction_time': ('Total interaction duration', 'Time (seconds)'),\n",
    "    'interaction_ratio': ('Novel cup over familiar cup interaction ratio', 'Ratio'),\n",
    "    'total_novel_interaction_duration': ('Total interaction time with novel cup', 'Time (seconds)'),\n",
    "    'total_familiar_interaction_duration': ('Total interaction time with familiar cup', 'Time (seconds)'),\n",
    "    'average_interaction_duration': ('Average interaction duration (both cups)', 'Duration (seconds)'),\n",
    "    'social_preference_index_n_interactions': ('Sociability index (using total # of interactions)', 'Social preference index'),\n",
    "    'social_preference_index_interaction_duration': ('Social preference index (using time spent interacting with cups)', 'Social preference index'),\n",
    "}\n",
    "\n",
    "fig, axs = plt.subplots(nrows=2, ncols=4, figsize=(18, 8))\n",
    "axs = axs.ravel()\n",
    "\n",
    "for i, metric in enumerate(boxplot_cols):\n",
    "    wt_metric_data = behaviour_stats[behaviour_stats.genotype == 'DRD2-WT'][metric]\n",
    "    ko_metric_data = behaviour_stats[behaviour_stats.genotype == 'DRD2-KO'][metric]\n",
    "\n",
    "    t_statistic, p_val = ttest_ind(wt_metric_data, ko_metric_data)\n",
    "    \n",
    "    sns.boxplot(data=behaviour_stats, x='genotype', hue='genotype', y=metric, ax=axs[i], linewidth=1.5, palette=violin_palette)\n",
    "    sns.swarmplot(data=behaviour_stats, x='genotype', hue='genotype', y=metric, ax=axs[i], palette='dark:black')\n",
    "    \n",
    "    y_range = axs[i].get_ylim()\n",
    "    offset = 0.05 * (y_range[1] - y_range[0])\n",
    "    \n",
    "    axs[i].text(0.5, y_range[1] - offset, f'T-stat: {round(t_statistic, 3)}\\nP-value: {round(p_val, 3)}', ha='center', va='top', fontsize=9, fontweight='bold')\n",
    "    axs[i].set_title(title_label_dict[metric][0])\n",
    "    axs[i].set_ylabel(title_label_dict[metric][1])\n",
    "\n",
    "fig.tight_layout()\n",
    "plt.suptitle('Comparison of Social Preference Metrics in DRD2-WT and DRD2-KO Mice', fontsize=14, fontweight='bold', fontstyle='italic', y=1.025)\n",
    "save_figure(os.path.join(plot_output_dir, 'boxplot_grid.pdf'))"
   ],
   "id": "2e8b37374d55cb41",
   "execution_count": 26,
   "outputs": []
  },
  {
   "metadata": {
    "ExecuteTime": {
     "end_time": "2024-04-16T09:36:35.509844Z",
     "start_time": "2024-04-16T09:36:35.403520Z"
    }
   },
   "cell_type": "code",
   "source": [
    "for i, metric in enumerate(boxplot_cols):\n",
    "    print(f'\\n{metric}')\n",
    "    wt_metric_data = behaviour_stats[behaviour_stats.genotype == 'DRD2-WT'][metric]\n",
    "    ko_metric_data = behaviour_stats[behaviour_stats.genotype == 'DRD2-KO'][metric]\n",
    "    \n",
    "    # perform independent t-test to compare means\n",
    "    result = ttest_ind(wt_metric_data, ko_metric_data)\n",
    "\n",
    "    print(\"T-statistic:\", result.statistic)\n",
    "    print(\"P-value:\", result.pvalue)\n",
    "    \n",
    "    f_statistic, p_value = f_oneway(wt_metric_data, ko_metric_data)\n",
    "\n",
    "    print(\"F-statistic:\", f_statistic)\n",
    "    print(\"P-value:\", p_value)"
   ],
   "id": "5b564356c7e67e",
   "execution_count": 18,
   "outputs": []
  },
  {
   "metadata": {},
   "cell_type": "markdown",
   "source": [
    "If there's any trend to be noticed, the KOs seem to be less social."
   ],
   "id": "57d3a4f1cb7c5e32"
  },
  {
   "metadata": {},
   "cell_type": "markdown",
   "source": "### Interaction duration distribution",
   "id": "7e838dba282b1ca9"
  },
  {
   "metadata": {
    "ExecuteTime": {
     "end_time": "2024-04-16T09:36:39.056319Z",
     "start_time": "2024-04-16T09:36:39.037101Z"
    }
   },
   "cell_type": "code",
   "source": "beh_df.head()",
   "id": "54da236a04ba84dd",
   "execution_count": 19,
   "outputs": []
  },
  {
   "metadata": {},
   "cell_type": "markdown",
   "source": "Let's show the distribution of social, and non-social visits.",
   "id": "d3f3768754f84e20"
  },
  {
   "metadata": {
    "ExecuteTime": {
     "end_time": "2024-04-16T09:36:57.498924Z",
     "start_time": "2024-04-16T09:36:57.460833Z"
    }
   },
   "cell_type": "code",
   "source": "print(f'There are {len(beh_df[beh_df.Behavior == \"novel_cup\"])} novel cup observations, and {len(beh_df[beh_df.Behavior == \"familiar_cup\"])} familiar cup observations')",
   "id": "e0b78abde7eae72",
   "execution_count": 21,
   "outputs": []
  },
  {
   "metadata": {
    "ExecuteTime": {
     "end_time": "2024-04-16T09:37:56.144288Z",
     "start_time": "2024-04-16T09:37:56.121624Z"
    }
   },
   "cell_type": "code",
   "source": "print(f'Total average interaction duration: {np.mean(beh_df[\"Interaction duration\"])}')",
   "id": "9efdfca0d85340df",
   "execution_count": 23,
   "outputs": []
  },
  {
   "metadata": {},
   "cell_type": "markdown",
   "source": "So there's not that much difference in group size",
   "id": "183a866095c87c22"
  },
  {
   "metadata": {
    "ExecuteTime": {
     "end_time": "2024-04-16T09:37:06.994393Z",
     "start_time": "2024-04-16T09:37:06.208806Z"
    }
   },
   "cell_type": "code",
   "source": [
    "fig = plt.figure(figsize=(12, 5))\n",
    "sns.histplot(data=beh_df, x=beh_df['Interaction duration'], hue=beh_df.genotype, multiple='dodge', bins=[i + 0.5 for i in range(0, 19)])\n",
    "plt.xticks(range(0, 20, 1))\n",
    "plt.title(\"Distribution of interaction duration per genotype\")\n",
    "plt.xlabel(\"Interaction duration (seconds)\")\n",
    "plt.show()"
   ],
   "id": "cbbe37470e927330",
   "execution_count": 22,
   "outputs": []
  },
  {
   "metadata": {
    "ExecuteTime": {
     "end_time": "2024-04-16T09:38:29.459420Z",
     "start_time": "2024-04-16T09:38:28.430915Z"
    }
   },
   "cell_type": "code",
   "source": [
    "fig = plt.figure(figsize=(12, 5))\n",
    "sns.histplot(data=beh_df, x=beh_df['Interaction duration'], hue=beh_df.Behavior, multiple='dodge', bins=[i + 0.5 for i in range(0, 19)])\n",
    "plt.xticks(range(0, 20, 1))\n",
    "plt.title(\"Distribution of interaction duration per cup\")\n",
    "plt.xlabel(\"Interaction duration (seconds)\")\n",
    "plt.show()"
   ],
   "id": "309e2dd724764c1c",
   "execution_count": 24,
   "outputs": []
  },
  {
   "metadata": {},
   "cell_type": "markdown",
   "source": [
    "### Interaction duration over time\n",
    "\n",
    "Let us generate a grid plot that displays the interaction duration over the course of the experiment for each subject (10 minutes)"
   ],
   "id": "29cfb2c359f5d546"
  },
  {
   "metadata": {
    "ExecuteTime": {
     "end_time": "2024-04-16T09:38:58.723213Z",
     "start_time": "2024-04-16T09:38:58.700824Z"
    }
   },
   "cell_type": "code",
   "source": "beh_df.head()",
   "id": "edf976b170f8af97",
   "execution_count": 25,
   "outputs": []
  },
  {
   "metadata": {
    "ExecuteTime": {
     "end_time": "2024-04-16T09:38:59.958692Z",
     "start_time": "2024-04-16T09:38:59.952467Z"
    }
   },
   "cell_type": "code",
   "source": "print(len(beh_df.subject_id.unique()))",
   "id": "276d27712054590f",
   "execution_count": 26,
   "outputs": []
  },
  {
   "metadata": {},
   "cell_type": "markdown",
   "source": "Plot the interaction duration over the interaction number for one subject ",
   "id": "6ec3b2f76fae8386"
  },
  {
   "metadata": {
    "ExecuteTime": {
     "end_time": "2024-04-16T09:39:01.385467Z",
     "start_time": "2024-04-16T09:39:01.374582Z"
    }
   },
   "cell_type": "code",
   "source": "data = beh_df[beh_df.subject_id == 80630]",
   "id": "43f597ad9a78567a",
   "execution_count": 27,
   "outputs": []
  },
  {
   "metadata": {
    "ExecuteTime": {
     "end_time": "2024-04-16T09:39:04.189261Z",
     "start_time": "2024-04-16T09:39:03.230985Z"
    }
   },
   "cell_type": "code",
   "source": [
    "sns.lineplot(data=data, x=range(1,len(data)+1), y='Interaction duration', marker='o')\n",
    "plt.title(\"Interaction duration for each interaction (true chronological order of interactions)\")\n",
    "plt.show()"
   ],
   "id": "d8772c7bba5fa5f5",
   "execution_count": 28,
   "outputs": []
  },
  {
   "metadata": {},
   "cell_type": "markdown",
   "source": "And now with the start frame of the interaction on the x-axis",
   "id": "62b4ce008ac9e27b"
  },
  {
   "metadata": {
    "ExecuteTime": {
     "end_time": "2024-04-16T09:39:08.376181Z",
     "start_time": "2024-04-16T09:39:07.997679Z"
    }
   },
   "cell_type": "code",
   "source": [
    "sns.lineplot(data=data, x='Frame start', y='Interaction duration', marker='o')\n",
    "sns.scatterplot(data=data, x='Frame stop', y='Interaction duration', marker='o', color='orange')\n",
    "plt.title(\"Interaction duration by the frame/time-point of the start of the scored interaction\")\n",
    "plt.show()"
   ],
   "id": "b59ef829b9ed2866",
   "execution_count": 29,
   "outputs": []
  },
  {
   "metadata": {},
   "cell_type": "markdown",
   "source": "Now, let's plot this last one for all subjects in a grid",
   "id": "e12200ba7c2fe0b1"
  },
  {
   "metadata": {
    "ExecuteTime": {
     "end_time": "2024-04-16T09:39:33.324073Z",
     "start_time": "2024-04-16T09:39:22.938939Z"
    }
   },
   "cell_type": "code",
   "source": [
    "fig, axs = plt.subplots(nrows=5, ncols=4, figsize=(35, 30), sharey=True)\n",
    "axs = axs.ravel()\n",
    "\n",
    "for i, subj_id in enumerate(beh_df.subject_id.unique()):\n",
    "    data = beh_df[beh_df.subject_id == subj_id]\n",
    "    x = data['Frame start'] / 30 / 60  # to minutes\n",
    "    x2 = data['Frame stop'] / 30 / 60\n",
    "    sns.lineplot(data=data, x=x, y='Interaction duration', ax=axs[i], marker='o', label='Start interaction')\n",
    "    sns.scatterplot(data=data, x=x2, y='Interaction duration', ax=axs[i], marker='o', color='orange', label='Stop interaction')\n",
    "    axs[i].set_xlabel('Start of interaction (minutes)')\n",
    "    axs[i].set_title(f'Subject id: {subj_id}, genotype: {data.genotype.iloc[0]}')\n",
    "    plt.legend()\n",
    "\n",
    "axs[-1].remove()\n",
    "plt.tight_layout()\n",
    "save_figure(os.path.join(plot_output_dir, f'behavioural_analysis/interaction_duration_trend_grid.pdf'))"
   ],
   "id": "195accd8f027760c",
   "execution_count": 30,
   "outputs": []
  },
  {
   "metadata": {},
   "cell_type": "markdown",
   "source": "Lets save a figure per subject that displays the trend of the interaction duration over the course of the experiment (10 minutes)",
   "id": "bd065c3313851aa6"
  },
  {
   "metadata": {
    "ExecuteTime": {
     "end_time": "2024-04-16T09:42:39.200550Z",
     "start_time": "2024-04-16T09:42:22.532949Z"
    }
   },
   "cell_type": "code",
   "source": [
    "for i, subj_id in enumerate(beh_df.subject_id.unique()):\n",
    "    data = beh_df[beh_df.subject_id == subj_id]\n",
    "    sns.lmplot(data=data, x='Frame start', y='Interaction duration', aspect=1.5)\n",
    "    plt.title(f'Interaction duration over the course of the experiment (Subject {subj_id}, genotype: {data.genotype.iloc[0]})')\n",
    "    save_figure(os.path.join(plot_output_dir, f'behavioural_analysis/interaction_duration_trends/{subj_id}.pdf'))"
   ],
   "id": "a484014f09181734",
   "execution_count": 33,
   "outputs": []
  }
 ],
 "metadata": {
  "kernelspec": {
   "display_name": "Python 3",
   "language": "python",
   "name": "python3"
  },
  "language_info": {
   "codemirror_mode": {
    "name": "ipython",
    "version": 2
   },
   "file_extension": ".py",
   "mimetype": "text/x-python",
   "name": "python",
   "nbconvert_exporter": "python",
   "pygments_lexer": "ipython2",
   "version": "2.7.6"
  }
 },
 "nbformat": 4,
 "nbformat_minor": 5
}
