{
 "cells": [
  {
   "metadata": {
    "ExecuteTime": {
     "end_time": "2024-05-08T12:19:43.779658Z",
     "start_time": "2024-05-08T12:19:43.161106Z"
    }
   },
   "cell_type": "code",
   "source": [
    "import os\n",
    "import mne\n",
    "import numpy as np\n",
    "import pandas as pd\n",
    "import seaborn as sns\n",
    "import matplotlib.pyplot as plt\n",
    "from mne.time_frequency import psd_array_multitaper\n",
    "from scipy.stats import ttest_ind\n",
    "\n",
    "from shared.helper_functions import save_figure, select_folder, select_or_create_folder\n",
    "from settings_general import freq_bands_eeg, low_qual_chans, subject_id_batch_cage_dict"
   ],
   "id": "6644e273c1e94a70",
   "execution_count": 2,
   "outputs": []
  },
  {
   "metadata": {
    "ExecuteTime": {
     "end_time": "2024-05-08T12:19:43.997116Z",
     "start_time": "2024-05-08T12:19:43.990357Z"
    }
   },
   "cell_type": "code",
   "source": "sns.set_theme()",
   "id": "ccdbb9831142befb",
   "execution_count": 3,
   "outputs": []
  },
  {
   "metadata": {
    "ExecuteTime": {
     "end_time": "2024-05-08T12:20:47.455804Z",
     "start_time": "2024-05-08T12:19:55.908500Z"
    }
   },
   "cell_type": "code",
   "source": [
    "epoch_folder = select_folder(\"Select the folder that holds social preference experiment's epoch files\")\n",
    "plot_folder = select_or_create_folder(\"Create or select a folder the plots will be saved to\")"
   ],
   "id": "d52b9774c1c3b955",
   "execution_count": 4,
   "outputs": []
  },
  {
   "metadata": {},
   "cell_type": "markdown",
   "source": [
    "## Analysis of one subject\n",
    "Load the epochs of a test subject"
   ],
   "id": "b7f4b91ec30ab064"
  },
  {
   "metadata": {
    "ExecuteTime": {
     "end_time": "2024-05-08T12:20:53.268106Z",
     "start_time": "2024-05-08T12:20:51.716069Z"
    }
   },
   "cell_type": "code",
   "source": [
    "subject_id = 39508\n",
    "epochs = mne.read_epochs(os.path.join(epoch_folder, f\"epochs_{subject_id}-epo.fif\"), preload=True)"
   ],
   "id": "5532dad1e6cd8882",
   "execution_count": 5,
   "outputs": []
  },
  {
   "metadata": {},
   "cell_type": "markdown",
   "source": "Let's define the channels we wish to investigate",
   "id": "5e41e928e78b789e"
  },
  {
   "metadata": {
    "ExecuteTime": {
     "end_time": "2024-05-08T12:20:53.282357Z",
     "start_time": "2024-05-08T12:20:53.270904Z"
    }
   },
   "cell_type": "code",
   "source": [
    "wanted_chans = [chan for chan in epochs.info['ch_names'] if chan not in ['EMG_L', 'EMG_R']]\n",
    "wanted_chans"
   ],
   "id": "b2404cdd92c4073b",
   "execution_count": 6,
   "outputs": []
  },
  {
   "metadata": {
    "ExecuteTime": {
     "end_time": "2024-04-26T08:09:16.703466Z",
     "start_time": "2024-04-26T08:09:16.673284Z"
    }
   },
   "cell_type": "code",
   "source": [
    "print(f'There are {len(epochs)} epochs for subject {subject_id}')\n",
    "print(f'{len(epochs[epochs.metadata[\"interaction_kind\"] == \"novel_cup\"])} are novel cup interactions epochs')\n",
    "print(f'{len(epochs[epochs.metadata[\"interaction_kind\"] == \"familiar_cup\"])} are familiar cup interactions epochs')"
   ],
   "id": "e6f64381edca2bd4",
   "execution_count": 8,
   "outputs": []
  },
  {
   "metadata": {},
   "cell_type": "markdown",
   "source": "The Epoch Array metadata contains further information on how the epochs were created. Let's take a look.",
   "id": "67ab83ede551140c"
  },
  {
   "metadata": {
    "ExecuteTime": {
     "end_time": "2024-04-26T07:33:21.531444Z",
     "start_time": "2024-04-26T07:33:21.497850Z"
    }
   },
   "cell_type": "code",
   "source": "epochs.metadata",
   "id": "7e4407adbb8e5e58",
   "execution_count": 8,
   "outputs": []
  },
  {
   "metadata": {},
   "cell_type": "markdown",
   "source": [
    "The metadata contains the interaction identifier. So all rows where *interaction_n* == 1 is data of one single interaction with in this case the novel cup (see *interaction_kind* column).\n",
    "\n",
    "The *interaction_part_n* tells you something about where along the total interaction duration that specific epoch is located."
   ],
   "id": "b2c0789d9ba0a511"
  },
  {
   "metadata": {},
   "cell_type": "markdown",
   "source": "### Define power -> decibel calculation function",
   "id": "da90dd0b385ba989"
  },
  {
   "metadata": {
    "ExecuteTime": {
     "end_time": "2024-05-08T12:21:00.432618Z",
     "start_time": "2024-05-08T12:21:00.424412Z"
    }
   },
   "cell_type": "code",
   "source": [
    "def nanpow2db(y):\n",
    "    \"\"\" Power to dB conversion, setting bad values to nans\n",
    "        Arguments:\n",
    "            y (float or array-like): power\n",
    "        Returns:\n",
    "            ydB (float or np array): inputs converted to dB with 0s and negatives resulting in nans\n",
    "    \"\"\"\n",
    "\n",
    "    if isinstance(y, int) or isinstance(y, float):\n",
    "        if y == 0:\n",
    "            return np.nan\n",
    "        else:\n",
    "            ydB = 10 * np.log10(y)\n",
    "    else:\n",
    "        if isinstance(y, list):  # if list, turn into array\n",
    "            y = np.asarray(y)\n",
    "        y = y.astype(float)  # make sure it's a float array so we can put nans in it\n",
    "        y[y == 0] = np.nan\n",
    "        ydB = 10 * np.log10(y)\n",
    "\n",
    "    return ydB"
   ],
   "id": "5a74b9f7ffa618ab",
   "execution_count": 7,
   "outputs": []
  },
  {
   "metadata": {},
   "cell_type": "markdown",
   "source": "### Plot the individual epoch powers",
   "id": "3f151b84ebc2cf1b"
  },
  {
   "metadata": {
    "ExecuteTime": {
     "end_time": "2024-04-26T07:33:27.203238Z",
     "start_time": "2024-04-26T07:33:27.151387Z"
    }
   },
   "cell_type": "code",
   "source": [
    "psds_sub_novel, freqs = psd_array_multitaper(\n",
    "    epochs[epochs.metadata.interaction_kind == 'novel_cup'].get_data(picks=\"STR_R\"),\n",
    "    fmin=0, fmax=100,\n",
    "    sfreq=epochs.info['sfreq'],\n",
    "    n_jobs=-1,\n",
    "    verbose='ERROR'\n",
    ")\n",
    "psds_sub_familiar, freqs = psd_array_multitaper(\n",
    "    epochs[epochs.metadata.interaction_kind == 'familiar_cup'].get_data(picks=\"STR_R\"),\n",
    "    fmin=0, fmax=100,\n",
    "    sfreq=epochs.info['sfreq'],\n",
    "    n_jobs=-1,\n",
    "    verbose='ERROR'\n",
    ")"
   ],
   "id": "f19a8f9d6e666438",
   "execution_count": 10,
   "outputs": []
  },
  {
   "metadata": {
    "ExecuteTime": {
     "end_time": "2024-04-26T07:33:28.726812Z",
     "start_time": "2024-04-26T07:33:28.719837Z"
    }
   },
   "cell_type": "code",
   "source": "psds_sub_novel.shape",
   "id": "3a59b63f644ef1f5",
   "execution_count": 11,
   "outputs": []
  },
  {
   "metadata": {
    "ExecuteTime": {
     "end_time": "2024-04-26T07:33:35.100192Z",
     "start_time": "2024-04-26T07:33:30.394701Z"
    }
   },
   "cell_type": "code",
   "source": [
    "fig = plt.figure(figsize=(10, 6))\n",
    "\n",
    "for i in range(psds_sub_novel.shape[0]):\n",
    "    sns.lineplot(x=freqs, y=psds_sub_novel[i, 0, :], alpha=0.4, linewidth=.3, color='red')\n",
    "    \n",
    "for i in range(psds_sub_familiar.shape[0]):\n",
    "    sns.lineplot(x=freqs, y=psds_sub_familiar[i, 0, :], alpha=0.4, linewidth=.3, color='blue')\n",
    "    \n",
    "plt.yscale('log')\n",
    "plt.show()"
   ],
   "id": "18fb7d120a02b345",
   "execution_count": 12,
   "outputs": []
  },
  {
   "metadata": {},
   "cell_type": "markdown",
   "source": "### Power Spectral Density (PSD) calculation",
   "id": "58ea615c47ee38c"
  },
  {
   "metadata": {
    "ExecuteTime": {
     "end_time": "2024-04-26T07:33:45.882402Z",
     "start_time": "2024-04-26T07:33:45.754229Z"
    }
   },
   "cell_type": "code",
   "source": [
    "df = pd.DataFrame()\n",
    "\n",
    "for interaction_type in epochs.metadata.interaction_kind.unique():\n",
    "    \n",
    "    subject_data = epochs[epochs.metadata[\"interaction_kind\"] == interaction_type]\n",
    "    subject_id = subject_data.metadata[\"subject_id\"].iloc[0]\n",
    "    genotype = subject_data.metadata[\"genotype\"].iloc[0]\n",
    "    \n",
    "    for channel in wanted_chans:\n",
    "        # skip plotting data of bad quality\n",
    "        if int(subject_id) in low_qual_chans.keys():\n",
    "            if channel in low_qual_chans[int(subject_id)]: \n",
    "                print(f\"Omitting channel {channel} for subject {subject_id}.\")\n",
    "                continue\n",
    "        \n",
    "        # get the average PSD for this subject\n",
    "        psds_sub, freqs = psd_array_multitaper(\n",
    "            subject_data.get_data(picks=channel),\n",
    "            fmin=0, fmax=100,\n",
    "            sfreq=subject_data.info['sfreq'],\n",
    "            n_jobs=-1,\n",
    "            verbose='ERROR'\n",
    "        )\n",
    "        total_power = np.sum(psds_sub, axis=-1)\n",
    "        psds_sub_norm = psds_sub / total_power[:, np.newaxis]\n",
    "        \n",
    "        mean_psd_sub = np.mean(psds_sub[:, 0, :], axis=0)\n",
    "        mean_psd_sub_norm = np.mean(psds_sub_norm[:, 0, :], axis=0)\n",
    "        \n",
    "        # save the average of this subject, so we can later plot the mean of the subject averages\n",
    "        df = pd.concat([df, pd.DataFrame({\n",
    "            \"freq\": freqs,\n",
    "            \"psd (means)\": mean_psd_sub,\n",
    "            \"psd (norm)\": mean_psd_sub_norm,\n",
    "            \"subject_id\": subject_id,\n",
    "            \"genotype\": genotype,\n",
    "            \"channel\": channel,\n",
    "            \"interaction_kind\": interaction_type,\n",
    "        })])"
   ],
   "id": "a84afd0ccb35d1ab",
   "execution_count": 13,
   "outputs": []
  },
  {
   "metadata": {},
   "cell_type": "markdown",
   "source": "Let's inspect it a bit",
   "id": "629ee70063f7372e"
  },
  {
   "metadata": {
    "ExecuteTime": {
     "end_time": "2024-04-26T07:33:49.580136Z",
     "start_time": "2024-04-26T07:33:49.567376Z"
    }
   },
   "cell_type": "code",
   "source": "df.head()",
   "id": "131e1f03afde622c",
   "execution_count": 14,
   "outputs": []
  },
  {
   "metadata": {},
   "cell_type": "markdown",
   "source": "And now we plot the novel cup vs familiar cup powers for all channels. As we're only looking at one subject, we cannot yet compare genotype differences",
   "id": "3e348ca4363f49e2"
  },
  {
   "metadata": {
    "ExecuteTime": {
     "end_time": "2024-04-26T07:33:57.601081Z",
     "start_time": "2024-04-26T07:33:51.766362Z"
    }
   },
   "cell_type": "code",
   "source": [
    "fig, axs = plt.subplots(2, 4, figsize=(35, 15), sharex=True, sharey=True)\n",
    "axs = axs.ravel()\n",
    "\n",
    "for i, channel in enumerate(wanted_chans):\n",
    "    \n",
    "    channel_data = df[df.channel == channel]\n",
    "    channel_data = channel_data[(channel_data.freq > 52) | (channel_data.freq < 48)]  # remove the 50Hz peak\n",
    "    \n",
    "    sns.lineplot(data=channel_data, x='freq', y='psd (norm)', hue=\"interaction_kind\", legend=True, ax=axs[i], errorbar='se')\n",
    "    \n",
    "    for band, (start, end) in freq_bands_eeg.items():\n",
    "        axs[i].axvline(x=start, color='gray', linestyle='--', alpha=0.3)\n",
    "        axs[i].axvline(x=end, color='gray', linestyle='--', alpha=0.3)\n",
    "        axs[i].text((start + end) / 2, axs[i].get_ylim()[1] * 1.01, band, horizontalalignment='center', verticalalignment='top', fontsize=8, color='black')\n",
    "    \n",
    "    axs[i].set_yscale('log')\n",
    "    axs[i].set_xlabel('Frequency (Hz)')\n",
    "    axs[i].set_ylabel('Power/Frequency (dB/Hz)')\n",
    "    axs[i].set_title(f'Average PSD, comparison of novel- vs familiar cup interactions ({channel})')\n",
    "\n",
    "plt.subplots_adjust(wspace=0.08, hspace=0.08)\n",
    "axs[-1].remove()\n",
    "plt.show()"
   ],
   "id": "b9bcc09513c59c62",
   "execution_count": 15,
   "outputs": []
  },
  {
   "metadata": {},
   "cell_type": "markdown",
   "source": "## Analysis of all subjects",
   "id": "df1c8ef2d5f132c4"
  },
  {
   "metadata": {},
   "cell_type": "markdown",
   "source": "First we load all the epoch files",
   "id": "d20e17b0a64667c2"
  },
  {
   "metadata": {
    "ExecuteTime": {
     "end_time": "2024-05-08T12:21:19.552375Z",
     "start_time": "2024-05-08T12:21:18.809614Z"
    }
   },
   "cell_type": "code",
   "source": [
    "all_subject_epochs = []\n",
    "for file in os.listdir(epoch_folder):\n",
    "    if not file.endswith('.fif'):\n",
    "        continue\n",
    "    all_subject_epochs.append(mne.read_epochs(os.path.join(epoch_folder, file), preload=True, verbose='ERROR'))"
   ],
   "id": "ca9c290b9c8dac71",
   "execution_count": 8,
   "outputs": []
  },
  {
   "metadata": {
    "ExecuteTime": {
     "end_time": "2024-05-08T12:21:20.245822Z",
     "start_time": "2024-05-08T12:21:20.238498Z"
    }
   },
   "cell_type": "code",
   "source": "len(all_subject_epochs)",
   "id": "24645183e22b10cc",
   "execution_count": 9,
   "outputs": []
  },
  {
   "metadata": {},
   "cell_type": "markdown",
   "source": "Let's calculate the PSDs again, but now for all animals",
   "id": "93b2f805c546c780"
  },
  {
   "metadata": {
    "ExecuteTime": {
     "end_time": "2024-05-07T08:11:08.263130Z",
     "start_time": "2024-05-07T08:11:05.291564Z"
    }
   },
   "cell_type": "code",
   "source": [
    "df = pd.DataFrame()\n",
    "\n",
    "for subject_epochs in all_subject_epochs:\n",
    "    \n",
    "    subject_id = subject_epochs.metadata[\"subject_id\"].iloc[0]\n",
    "    genotype = subject_epochs.metadata[\"genotype\"].iloc[0]\n",
    "    \n",
    "    for interaction_type in subject_epochs.metadata.interaction_kind.unique():\n",
    "        \n",
    "        subject_data = subject_epochs[subject_epochs.metadata[\"interaction_kind\"] == interaction_type]\n",
    "        \n",
    "        for channel in wanted_chans:\n",
    "            # skip plotting data of bad quality\n",
    "            if int(subject_id) in low_qual_chans.keys():\n",
    "                if channel in low_qual_chans[int(subject_id)]: \n",
    "                    print(f\"Omitting channel {channel} for subject {subject_id}.\")\n",
    "                    continue\n",
    "            \n",
    "            # get the average PSD for this subject\n",
    "            psds_sub, freqs = psd_array_multitaper(\n",
    "                subject_data.get_data(picks=channel),\n",
    "                fmin=0, fmax=100,\n",
    "                sfreq=subject_data.info['sfreq'],\n",
    "                n_jobs=-1,\n",
    "                verbose='ERROR'\n",
    "            )\n",
    "            decibels = nanpow2db(psds_sub)\n",
    "                        \n",
    "            # normalize the decibels\n",
    "            total_power = np.abs(np.sum(decibels, axis=-1))\n",
    "            decibels_norm = decibels / total_power[:, np.newaxis]\n",
    "\n",
    "            mean_decibels = np.mean(decibels[:, 0, :], axis=0)\n",
    "            mean_decibels_norm = np.mean(decibels_norm[:, 0, :], axis=0)\n",
    "            \n",
    "            total_power = np.sum(psds_sub, axis=-1)\n",
    "            psds_sub_norm = psds_sub / total_power[:, np.newaxis]\n",
    "            \n",
    "            mean_psd_sub = np.mean(psds_sub[:, 0, :], axis=0)\n",
    "            mean_psd_sub_norm = np.mean(psds_sub_norm[:, 0, :], axis=0)\n",
    "            \n",
    "            # save the average of this subject, so we can later plot the mean of the subject averages\n",
    "            df = pd.concat([df, pd.DataFrame({\n",
    "                \"freq\": freqs,\n",
    "                \"psd\": mean_psd_sub,\n",
    "                \"psd (norm)\": mean_psd_sub_norm,\n",
    "                \"decibels\": mean_decibels,\n",
    "                \"decibels (norm)\": mean_decibels_norm,\n",
    "                \"subject_id\": subject_id,\n",
    "                \"genotype\": genotype,\n",
    "                \"channel\": channel,\n",
    "                \"interaction_kind\": interaction_type,\n",
    "            })])\n",
    "        \n",
    "    print(f\"Done with subject {subject_id}.\")"
   ],
   "id": "30e314d8b2fbd53",
   "execution_count": 61,
   "outputs": []
  },
  {
   "metadata": {},
   "cell_type": "markdown",
   "source": "Let's check if the dataframe contains what we think it does: all subjects, two types of interactions and the genotypes",
   "id": "84620cddd2952879"
  },
  {
   "metadata": {
    "ExecuteTime": {
     "end_time": "2024-05-07T08:11:10.634037Z",
     "start_time": "2024-05-07T08:11:10.575280Z"
    }
   },
   "cell_type": "code",
   "source": [
    "print(f'Unique subjects: {df.subject_id.unique()} (n={len(df.subject_id.unique())})')\n",
    "print(f'The genotypes: {np.unique([df[df.subject_id == subject_id].genotype.iloc[0] for subject_id in df.subject_id.unique()], return_counts=True)}')\n",
    "print(f'Unique interactions: {df.interaction_kind.unique()}')"
   ],
   "id": "92ca134e114dda0e",
   "execution_count": 62,
   "outputs": []
  },
  {
   "metadata": {},
   "cell_type": "markdown",
   "source": "So there are 10 KOs and 8 WTs",
   "id": "d451dbf19fa32e7d"
  },
  {
   "metadata": {},
   "cell_type": "markdown",
   "source": "First, let's make an overview grid plot of each subject's power over the frequencies per channel",
   "id": "643145707d2a6557"
  },
  {
   "metadata": {
    "ExecuteTime": {
     "end_time": "2024-05-07T08:11:30.854234Z",
     "start_time": "2024-05-07T08:11:19.580052Z"
    }
   },
   "cell_type": "code",
   "source": [
    "fig, axs = plt.subplots(2, 4, figsize=(35, 18), sharex=True, sharey=True)\n",
    "axs = axs.ravel()\n",
    "\n",
    "for i, channel in enumerate(wanted_chans):\n",
    "    \n",
    "    channel_data = df[df.channel == channel]\n",
    "    \n",
    "    sns.lineplot(channel_data, y='psd', x='freq', hue='subject_id', ax=axs[i], errorbar=None)\n",
    "    \n",
    "    axs[i].set_yscale('log')\n",
    "    axs[i].set_xlabel('Frequency (Hz)')\n",
    "    axs[i].set_ylabel('Power/Frequency (dB/Hz)')\n",
    "    axs[i].set_title(channel)\n",
    "    axs[i].legend(frameon=False, loc='best')\n",
    "\n",
    "plt.suptitle(\n",
    "    'Average absolute power for all subjects per channel',\n",
    "    fontsize=16, fontweight='bold', fontstyle='italic', y=1\n",
    ")\n",
    "plt.tight_layout()\n",
    "axs[-1].remove()\n",
    "plt.show()"
   ],
   "id": "922df6229f73c431",
   "execution_count": 63,
   "outputs": []
  },
  {
   "metadata": {},
   "cell_type": "markdown",
   "source": [
    "Some animals' EEG has been recorded at a way higher sampling frequency than the rest, which called for resampling to still enable us to directly compare the animals. This results in two clearly separable groups when it comes to absolute powers, even after the resampling to 500Hz.\n",
    "\n",
    "Let's see what it looks like when we normalize the power over the frequencies of each animal by its total power (normalization)."
   ],
   "id": "abd929426d780606"
  },
  {
   "metadata": {
    "ExecuteTime": {
     "end_time": "2024-05-07T08:11:52.540196Z",
     "start_time": "2024-05-07T08:11:38.814288Z"
    }
   },
   "cell_type": "code",
   "source": [
    "fig, axs = plt.subplots(2, 4, figsize=(35, 18), sharex=True, sharey=True)\n",
    "axs = axs.ravel()\n",
    "\n",
    "for i, channel in enumerate(wanted_chans):\n",
    "    \n",
    "    channel_data = df[df.channel == channel]\n",
    "    \n",
    "    sns.lineplot(channel_data, y='psd (norm)', x='freq', hue='subject_id', ax=axs[i], errorbar=None)\n",
    "    \n",
    "    axs[i].set_yscale('log')\n",
    "    axs[i].set_xlabel('Frequency (Hz)')\n",
    "    axs[i].set_ylabel('Power/Frequency (dB/Hz)')\n",
    "    axs[i].set_title(channel)\n",
    "    axs[i].legend(frameon=False, loc='best')\n",
    "\n",
    "plt.suptitle(\n",
    "    'Average normalized power for all subjects per channel',\n",
    "    fontsize=16, fontweight='bold', fontstyle='italic', y=1\n",
    ")\n",
    "plt.tight_layout()\n",
    "axs[-1].remove()\n",
    "save_figure(os.path.join(plot_folder, 'eeg_power_analysis/norm_powers_all_subjects.pdf'))"
   ],
   "id": "d11bfdd184a86e93",
   "execution_count": 64,
   "outputs": []
  },
  {
   "metadata": {},
   "cell_type": "markdown",
   "source": [
    "The two groups seem less separable, though, you can still kind of tell them apart.\n",
    "\n",
    "Let's see what the normalized decibel trajectories look like."
   ],
   "id": "8ded854a35cdfe18"
  },
  {
   "metadata": {
    "ExecuteTime": {
     "end_time": "2024-05-07T08:12:03.639605Z",
     "start_time": "2024-05-07T08:11:52.543332Z"
    }
   },
   "cell_type": "code",
   "source": [
    "fig, axs = plt.subplots(2, 4, figsize=(35, 18), sharex=True, sharey=True)\n",
    "axs = axs.ravel()\n",
    "\n",
    "for i, channel in enumerate(wanted_chans):\n",
    "    \n",
    "    channel_data = df[df.channel == channel]\n",
    "    \n",
    "    sns.lineplot(channel_data, y='decibels (norm)', x='freq', hue='subject_id', ax=axs[i], errorbar=None)\n",
    "    \n",
    "    axs[i].set_xlabel('Frequency (Hz)')\n",
    "    axs[i].set_ylabel('Power in decibels (dB)')\n",
    "    axs[i].set_title(channel)\n",
    "    axs[i].legend(frameon=False, loc='best')\n",
    "\n",
    "plt.suptitle(\n",
    "    'Average normalized power (in decibels) for all subjects per channel',\n",
    "    fontsize=16, fontweight='bold', fontstyle='italic', y=1\n",
    ")\n",
    "plt.tight_layout()\n",
    "axs[-1].remove()\n",
    "save_figure(os.path.join(plot_folder, 'eeg_power_analysis/norm_powers_decibel_all_subjects.pdf'))"
   ],
   "id": "3515b4991937795",
   "execution_count": 65,
   "outputs": []
  },
  {
   "metadata": {},
   "cell_type": "markdown",
   "source": [
    "It seems like there's, even after normalization, some kind of separation to be made in the powers (high gamma). This likely has to do with the resampling. The subjects that have higher power in the high gammas are probably the subjects that were recorded at a sampling frequency of ~19000 Hz instead of ~1084 Hz.\n",
    "\n",
    "Later on, when comparing all WTs to all KOs, this artifact in the powers might undermine the credibility of the comparison. That is why we will also use ratios to compare the genotypes."
   ],
   "id": "b5f99b281216cd9b"
  },
  {
   "metadata": {},
   "cell_type": "markdown",
   "source": [
    "Furthermore, 81217 looks quite ugly, let's remove that one for now. \n",
    "\n",
    "We proceed with creating a grid plot that holds a subplot for each channel that displays the average power of the two different kinds of interactions"
   ],
   "id": "2c954ff480ec08d2"
  },
  {
   "metadata": {
    "ExecuteTime": {
     "end_time": "2024-05-07T08:12:03.660857Z",
     "start_time": "2024-05-07T08:12:03.643694Z"
    }
   },
   "cell_type": "code",
   "source": [
    "df = df[df.subject_id != '81217']\n",
    "df.subject_id.unique()"
   ],
   "id": "bf618841b48bbdbf",
   "execution_count": 66,
   "outputs": []
  },
  {
   "metadata": {
    "ExecuteTime": {
     "end_time": "2024-05-07T08:12:42.367164Z",
     "start_time": "2024-05-07T08:12:33.764534Z"
    }
   },
   "cell_type": "code",
   "source": [
    "fig, axs = plt.subplots(2, 4, figsize=(30, 14), sharex=True, sharey=True)\n",
    "axs = axs.ravel()\n",
    "\n",
    "for i, channel in enumerate(wanted_chans):\n",
    "    \n",
    "    channel_data = df[df.channel == channel]\n",
    "    channel_data = channel_data[(channel_data.freq > 51) | (channel_data.freq < 49)]  # remove the 50Hz peak\n",
    "    \n",
    "    sns.lineplot(data=channel_data, x='freq', y='psd (norm)', hue=\"interaction_kind\", legend=True, ax=axs[i], errorbar='se')\n",
    "    \n",
    "    for band, (start, end) in freq_bands_eeg.items():\n",
    "        axs[i].axvline(x=start, color='gray', linestyle='--', alpha=0.3)\n",
    "        axs[i].axvline(x=end, color='gray', linestyle='--', alpha=0.3)\n",
    "        axs[i].text((start + end) / 2, axs[i].get_ylim()[1] * 1.01, band, horizontalalignment='center', verticalalignment='top', fontsize=8, color='black')\n",
    "    \n",
    "    axs[i].set_yscale('log')\n",
    "    axs[i].set_xlabel('Frequency (Hz)')\n",
    "    axs[i].set_ylabel('Power/Frequency (dB/Hz)')\n",
    "    axs[i].set_title(channel)\n",
    "    axs[i].legend(frameon=False, loc='best')\n",
    "\n",
    "plt.suptitle(\n",
    "    'Average power of all novel cup and familiar cup interaction epochs',\n",
    "    fontsize=16, fontweight='bold', fontstyle='italic', y=1\n",
    ")\n",
    "plt.tight_layout()\n",
    "axs[-1].remove()\n",
    "save_figure(os.path.join(plot_folder, 'eeg_power_analysis/average_norm_interaction_powers.pdf'))"
   ],
   "id": "67518a728d55451d",
   "execution_count": 67,
   "outputs": []
  },
  {
   "metadata": {},
   "cell_type": "markdown",
   "source": "Let's also do this for the to decibel transformed power values",
   "id": "41e218594696b5f1"
  },
  {
   "metadata": {
    "ExecuteTime": {
     "end_time": "2024-05-07T08:12:47.042480Z",
     "start_time": "2024-05-07T08:12:42.369989Z"
    }
   },
   "cell_type": "code",
   "source": [
    "fig, axs = plt.subplots(2, 4, figsize=(30, 14), sharex=True, sharey=True)\n",
    "axs = axs.ravel()\n",
    "\n",
    "for i, channel in enumerate(wanted_chans):\n",
    "    \n",
    "    channel_data = df[df.channel == channel]\n",
    "    channel_data = channel_data[(channel_data.freq > 51) | (channel_data.freq < 49)]  # remove the 50Hz peak\n",
    "    \n",
    "    sns.lineplot(data=channel_data, x='freq', y='decibels', hue=\"interaction_kind\", legend=True, ax=axs[i], errorbar='se')\n",
    "    \n",
    "    for band, (start, end) in freq_bands_eeg.items():\n",
    "        axs[i].axvline(x=start, color='gray', linestyle='--', alpha=0.3)\n",
    "        axs[i].axvline(x=end, color='gray', linestyle='--', alpha=0.3)\n",
    "        axs[i].text((start + end) / 2, axs[i].get_ylim()[1] * 1.01, band, horizontalalignment='center', verticalalignment='top', fontsize=8, color='black')\n",
    "    \n",
    "    axs[i].set_xlabel('Frequency (Hz)')\n",
    "    axs[i].set_ylabel('Decibels (dB)')\n",
    "    axs[i].set_title(channel)\n",
    "    axs[i].legend(frameon=False, loc='best')\n",
    "\n",
    "plt.suptitle(\n",
    "    'Average power in decibels of all social cup and non-social cup interaction epochs',\n",
    "    fontsize=16, fontweight='bold', fontstyle='italic', y=1\n",
    ")\n",
    "plt.tight_layout()\n",
    "axs[-1].remove()\n",
    "save_figure(os.path.join(plot_folder, 'eeg_power_analysis/average_norm_interaction_powers_decibels.pdf'))"
   ],
   "id": "b3ca93246ebab396",
   "execution_count": 68,
   "outputs": []
  },
  {
   "metadata": {},
   "cell_type": "markdown",
   "source": "There's no difference in average power when batching all novel interaction epochs and all familiar interaction epochs, however, there might be a hidden genotype effect that cancels out in the averaging displayed above.",
   "id": "e057a7d718b1198b"
  },
  {
   "metadata": {},
   "cell_type": "markdown",
   "source": [
    "### Are there genotype differences in power in either interaction type?\n",
    "\n",
    "Now plot the normalized power per interaction type and make the genotype distinction."
   ],
   "id": "96119e690afd2953"
  },
  {
   "metadata": {
    "ExecuteTime": {
     "end_time": "2024-05-07T08:14:27.045007Z",
     "start_time": "2024-05-07T08:14:12.383471Z"
    }
   },
   "cell_type": "code",
   "source": [
    "for interaction_kind in df.interaction_kind.unique():\n",
    "    \n",
    "    fig, axs = plt.subplots(2, 4, figsize=(30, 14), sharex=True, sharey=True)\n",
    "    axs = axs.ravel()\n",
    "    \n",
    "    interaction_data = df[df.interaction_kind == interaction_kind]\n",
    "    \n",
    "    for i, channel in enumerate(wanted_chans):\n",
    "        \n",
    "        channel_data = interaction_data[interaction_data.channel == channel]\n",
    "        channel_data = channel_data[(channel_data.freq > 51) | (channel_data.freq < 49)]  # remove the 50Hz peak\n",
    "        \n",
    "        sns.lineplot(data=channel_data, x='freq', y='psd (norm)', hue=\"genotype\", legend=True, ax=axs[i], errorbar='se')\n",
    "        \n",
    "        for band, (start, end) in freq_bands_eeg.items():\n",
    "            axs[i].axvline(x=start, color='gray', linestyle='--', alpha=0.3)\n",
    "            axs[i].axvline(x=end, color='gray', linestyle='--', alpha=0.3)\n",
    "            axs[i].text((start + end) / 2, axs[i].get_ylim()[1] * 1.01, band, horizontalalignment='center', verticalalignment='top', fontsize=8, color='black')\n",
    "        \n",
    "        axs[i].set_yscale('log')\n",
    "        axs[i].set_xlabel('Frequency (Hz)')\n",
    "        axs[i].set_ylabel('Power/Frequency (dB/Hz)')\n",
    "        axs[i].set_title(channel)\n",
    "        axs[i].legend(frameon=False, loc='best')\n",
    "        \n",
    "    plt.suptitle(f'Average power during {\"familiar cup interaction\" if interaction_kind == \"familiar_cup\" else \"novel cup interaction\"} DRD2-WT vs DRD2-KO', fontsize=16, fontweight='bold', fontstyle='italic', y=1)\n",
    "    plt.tight_layout()\n",
    "    axs[-1].remove()\n",
    "    save_figure(os.path.join(plot_folder, f'eeg_power_analysis/average_norm_genotype_powers_{interaction_kind}.pdf'))"
   ],
   "id": "12a74d752065d51c",
   "execution_count": 69,
   "outputs": []
  },
  {
   "metadata": {},
   "cell_type": "markdown",
   "source": "Now, instead of batching all WT or KO epochs together and averaging the power, we will average the power of each subject, and then average the WT subjects their powers and the KO subjects their powers",
   "id": "f22e03787309a8ba"
  },
  {
   "metadata": {
    "ExecuteTime": {
     "end_time": "2024-05-07T08:15:36.017054Z",
     "start_time": "2024-05-07T08:14:27.048064Z"
    }
   },
   "cell_type": "code",
   "source": [
    "for interaction_kind in df.interaction_kind.unique():\n",
    "    \n",
    "    fig, axs = plt.subplots(2, 4, figsize=(30, 14), sharex=True, sharey=True)\n",
    "    axs = axs.ravel()\n",
    "    \n",
    "    interaction_data = df[df.interaction_kind == interaction_kind]\n",
    "    \n",
    "    # get the subject's averages for every frequency of each channel \n",
    "    subject_averages = interaction_data.groupby(['subject_id', 'channel', 'freq']).agg({\n",
    "        'psd': 'mean', \n",
    "        'psd (norm)': 'mean',\n",
    "        'genotype': 'first'\n",
    "    }).reset_index()\n",
    "    \n",
    "    for i, channel in enumerate(wanted_chans):\n",
    "        \n",
    "        channel_data = subject_averages[subject_averages.channel == channel]\n",
    "        channel_data = channel_data[(channel_data.freq > 51) | (channel_data.freq < 49)]  # remove the 50Hz peak\n",
    "        \n",
    "        sns.lineplot(data=channel_data, x='freq', y='psd (norm)', hue=\"genotype\", legend=True, ax=axs[i], errorbar=('ci', 95))\n",
    "        \n",
    "        for band, (start, end) in freq_bands_eeg.items():\n",
    "            axs[i].axvline(x=start, color='gray', linestyle='--', alpha=0.3)\n",
    "            axs[i].axvline(x=end, color='gray', linestyle='--', alpha=0.3)\n",
    "            axs[i].text((start + end) / 2, axs[i].get_ylim()[1] * 1.01, band, horizontalalignment='center', verticalalignment='top', fontsize=8, color='black')\n",
    "        \n",
    "        axs[i].set_yscale('log')\n",
    "        axs[i].set_xlabel('Frequency (Hz)')\n",
    "        axs[i].set_ylabel('Power/Frequency (dB/Hz)')\n",
    "        axs[i].set_title(channel)\n",
    "        \n",
    "    plt.suptitle(f'Average power during {\"novel cup interaction\" if interaction_kind == \"novel_cup\" else \"familiar cup interaction\"} DRD2-WT vs DRD2-KO', fontsize=16, fontweight='bold', fontstyle='italic', y=1)\n",
    "    plt.tight_layout()\n",
    "    axs[-1].remove()\n",
    "    save_figure(os.path.join(plot_folder, f'eeg_power_analysis/average_subj_averages_norm_genotype_powers_{interaction_kind}.pdf'))"
   ],
   "id": "8b89572d8320638e",
   "execution_count": 70,
   "outputs": []
  },
  {
   "metadata": {},
   "cell_type": "markdown",
   "source": "Let's again do the same for the power values that were converted to decibels (log scale already)",
   "id": "6f5801104e4723e4"
  },
  {
   "metadata": {
    "ExecuteTime": {
     "end_time": "2024-05-07T08:15:42.461341Z",
     "start_time": "2024-05-07T08:15:36.020436Z"
    }
   },
   "cell_type": "code",
   "source": [
    "for interaction_kind in df.interaction_kind.unique():\n",
    "    \n",
    "    fig, axs = plt.subplots(2, 4, figsize=(30, 14), sharex=True, sharey=True)\n",
    "    axs = axs.ravel()\n",
    "    \n",
    "    interaction_data = df[df.interaction_kind == interaction_kind]\n",
    "    \n",
    "    subject_averages = interaction_data.groupby(['subject_id', 'channel', 'freq']).agg({\n",
    "        'decibels': 'mean', \n",
    "        'decibels (norm)': 'mean',\n",
    "        'genotype': 'first'\n",
    "    }).reset_index()\n",
    "    \n",
    "    for i, channel in enumerate(wanted_chans):\n",
    "        \n",
    "        channel_data = subject_averages[subject_averages.channel == channel]\n",
    "        channel_data = channel_data[(channel_data.freq > 51) | (channel_data.freq < 49)]  # remove the 50Hz peak\n",
    "        \n",
    "        sns.lineplot(data=channel_data, x='freq', y='decibels (norm)', hue=\"genotype\", legend=True, ax=axs[i], errorbar='se')\n",
    "        \n",
    "        for band, (start, end) in freq_bands_eeg.items():\n",
    "            axs[i].axvline(x=start, color='gray', linestyle='--', alpha=0.3)\n",
    "            axs[i].axvline(x=end, color='gray', linestyle='--', alpha=0.3)\n",
    "            axs[i].text((start + end) / 2, axs[i].get_ylim()[1] * 1.01, band, horizontalalignment='center', verticalalignment='top', fontsize=8, color='black')\n",
    "        \n",
    "        axs[i].set_xlabel('Frequency (Hz)')\n",
    "        axs[i].set_ylabel('Power in decibels (dB)')\n",
    "        axs[i].set_title(channel)\n",
    "        axs[i].legend(frameon=False, loc='best')\n",
    "        \n",
    "    plt.suptitle(f'Average power (in decibels) during {\"novel cup interaction\" if interaction_kind == \"novel_cup\" else \"familiar cup interaction\"} DRD2-WT vs DRD2-KO', fontsize=16, fontweight='bold', fontstyle='italic', y=1)\n",
    "    plt.tight_layout()\n",
    "    axs[-1].remove()\n",
    "    save_figure(os.path.join(plot_folder, f'eeg_power_analysis/average_subj_averages_norm_genotype_powers_decibel{interaction_kind}.pdf'))"
   ],
   "id": "69325ef184791aaa",
   "execution_count": 71,
   "outputs": []
  },
  {
   "metadata": {},
   "cell_type": "markdown",
   "source": [
    "While some slight differences seem to arise, we cannot fully trust these outcomes. As mentioned before, even after normalizing power values, there seems to be a difference in average powers when comparing batch 1 and 2 to the rest.\n",
    "\n",
    "### Power ratios to compare the two genotypes\n",
    "Now, we calculate a ratio between the novel- and familiar-cup powers per subjects, and then take the average of those ratios per genotype. There's no need to normalize in this case, as they're ratios calculated for each subject."
   ],
   "id": "d05e9c57a2f203a7"
  },
  {
   "metadata": {
    "ExecuteTime": {
     "end_time": "2024-05-07T08:16:28.891525Z",
     "start_time": "2024-05-07T08:16:26.075448Z"
    }
   },
   "cell_type": "code",
   "source": [
    "df = pd.DataFrame()\n",
    "\n",
    "for subject_epochs in all_subject_epochs:\n",
    "    if subject_epochs.metadata.subject_id.iloc[0] == '81217':\n",
    "        print('Skipping 81217')\n",
    "        continue\n",
    "    \n",
    "    subject_id = subject_epochs.metadata[\"subject_id\"].iloc[0]\n",
    "    genotype = subject_epochs.metadata[\"genotype\"].iloc[0]\n",
    "\n",
    "    novel_cup_data = subject_epochs[subject_epochs.metadata[\"interaction_kind\"] == \"novel_cup\"]\n",
    "    familiar_cup_data = subject_epochs[subject_epochs.metadata[\"interaction_kind\"] == \"familiar_cup\"]\n",
    "    \n",
    "    for channel in wanted_chans:\n",
    "\n",
    "        if int(subject_id) in low_qual_chans.keys():\n",
    "            if channel in low_qual_chans[int(subject_id)]: \n",
    "                print(f\"Omitting channel {channel} for subject {subject_id}.\")\n",
    "                continue\n",
    "        \n",
    "        # get the average PSD for this subject\n",
    "        psds_sub, freqs = psd_array_multitaper(\n",
    "            novel_cup_data.get_data(picks=channel),\n",
    "            fmin=0, fmax=100,\n",
    "            sfreq=subject_epochs.info['sfreq'],\n",
    "            n_jobs=-1,\n",
    "            verbose='ERROR'\n",
    "        )\n",
    "        decibels = nanpow2db(psds_sub)\n",
    "        mean_decibels_novel = np.mean(decibels[:, 0, :], axis=0)\n",
    "        mean_psd_sub_novel = np.mean(psds_sub[:, 0, :], axis=0)\n",
    "        \n",
    "        # get the average PSD for this subject\n",
    "        psds_sub, freqs = psd_array_multitaper(\n",
    "            familiar_cup_data.get_data(picks=channel),\n",
    "            fmin=0, fmax=100,\n",
    "            sfreq=subject_epochs.info['sfreq'],\n",
    "            n_jobs=-1,\n",
    "            verbose='ERROR'\n",
    "        )\n",
    "        decibels = nanpow2db(psds_sub)\n",
    "        mean_decibels_familiar = np.mean(decibels[:, 0, :], axis=0)\n",
    "        mean_psd_sub_familiar = np.mean(psds_sub[:, 0, :], axis=0)\n",
    "    \n",
    "        novel_over_familiar_psd_ratio = mean_psd_sub_novel / mean_psd_sub_familiar\n",
    "        novel_over_familiar_decibels_ratio = mean_decibels_novel / mean_decibels_familiar\n",
    "\n",
    "        # save the average of this subject, so we can later plot the mean of the subject averages\n",
    "        df = pd.concat([df, pd.DataFrame({\n",
    "            \"freq\": freqs,\n",
    "            \"psd_ratio\": novel_over_familiar_psd_ratio,\n",
    "            \"decibel_ratio\": novel_over_familiar_decibels_ratio,\n",
    "            \"subject_id\": subject_id,\n",
    "            \"genotype\": genotype,\n",
    "            \"channel\": channel,\n",
    "        })])\n",
    "\n",
    "    print(f\"Done with subject {subject_id}.\")"
   ],
   "id": "97f3044b1f2b4aba",
   "execution_count": 72,
   "outputs": []
  },
  {
   "metadata": {
    "ExecuteTime": {
     "end_time": "2024-05-07T08:16:37.416569Z",
     "start_time": "2024-05-07T08:16:35.914118Z"
    }
   },
   "cell_type": "code",
   "source": [
    "sns.displot(df.psd_ratio)\n",
    "plt.show()\n",
    "sns.displot(df.decibel_ratio)\n",
    "plt.show()"
   ],
   "id": "7eac35e495e88495",
   "execution_count": 73,
   "outputs": []
  },
  {
   "metadata": {},
   "cell_type": "markdown",
   "source": "Remove outlier ratios based on IQR method",
   "id": "c34cf51030db64e0"
  },
  {
   "metadata": {
    "ExecuteTime": {
     "end_time": "2024-04-26T09:49:10.449754Z",
     "start_time": "2024-04-26T09:49:10.441327Z"
    }
   },
   "cell_type": "code",
   "source": [
    "Q1 = np.percentile(df.psd_ratio, 25)\n",
    "Q3 = np.percentile(df.psd_ratio, 75)\n",
    "\n",
    "IQR = Q3 - Q1\n",
    "lower_bound = Q1 - 2 * IQR\n",
    "upper_bound = Q3 + 2 * IQR\n",
    "\n",
    "df = df[(df['psd_ratio'] >= lower_bound) & (df['psd_ratio'] <= upper_bound)]"
   ],
   "id": "ea331a235c535ca3",
   "execution_count": 114,
   "outputs": []
  },
  {
   "metadata": {
    "ExecuteTime": {
     "end_time": "2024-04-26T09:49:17.267194Z",
     "start_time": "2024-04-26T09:49:15.977420Z"
    }
   },
   "cell_type": "code",
   "source": [
    "sns.displot(df.psd_ratio)\n",
    "plt.show()\n",
    "sns.displot(df.decibel_ratio)\n",
    "plt.show()"
   ],
   "id": "b976fe1517061ba1",
   "execution_count": 115,
   "outputs": []
  },
  {
   "metadata": {},
   "cell_type": "markdown",
   "source": "Now that the outliers are gone, we plot the averaged novel cup over familiar cup power ratios of all subjects of the two genotypes.",
   "id": "df31fc7132efc538"
  },
  {
   "metadata": {
    "ExecuteTime": {
     "end_time": "2024-05-07T08:17:24.453706Z",
     "start_time": "2024-05-07T08:16:46.198314Z"
    }
   },
   "cell_type": "code",
   "source": [
    "fig, axs = plt.subplots(2, 4, figsize=(35, 14), sharex=True, sharey=True)\n",
    "axs = axs.ravel()\n",
    "\n",
    "for i, channel in enumerate(wanted_chans):\n",
    "    \n",
    "    channel_data = df[df.channel == channel]\n",
    "    \n",
    "    palette = {'DRD2-WT': '#427C99', 'DRD2-KO': '#AF5541'}\n",
    "    sns.lineplot(data=channel_data, x='freq', y='psd_ratio', hue=\"genotype\", legend=True, ax=axs[i], errorbar=('ci', 95), palette=palette)\n",
    "    \n",
    "    for band, (start, end) in freq_bands_eeg.items():\n",
    "        axs[i].axvline(x=start, color='gray', linestyle='--', alpha=0.3)\n",
    "        axs[i].axvline(x=end, color='gray', linestyle='--', alpha=0.3)\n",
    "        axs[i].text((start + end) / 2, axs[i].get_ylim()[1] * 1.01, band, horizontalalignment='center', verticalalignment='top', fontsize=8, color='black')\n",
    "        \n",
    "    axs[i].axhline(y=1, linestyle='-', alpha=.5, color='gray')\n",
    "    axs[i].set_xlabel('Frequency (Hz)')\n",
    "    axs[i].set_ylabel('Normalized Power Ratio')\n",
    "    axs[i].set_title(f'{channel}')\n",
    "    axs[i].legend(frameon=False, loc='best')\n",
    "\n",
    "plt.suptitle(\n",
    "    \"Novel- over familiar-cup power ratio, DRD2-WT versus DRD2-KO\", \n",
    "    fontsize=16, fontweight='bold', fontstyle='italic', y=1\n",
    ")\n",
    "plt.tight_layout()\n",
    "axs[-1].remove()\n",
    "save_figure(os.path.join(plot_folder, f'eeg_power_analysis/norm_power_ratios_per_chan.pdf'))"
   ],
   "id": "a76818671a7dd199",
   "execution_count": 74,
   "outputs": []
  },
  {
   "metadata": {},
   "cell_type": "markdown",
   "source": "Also do this for the decibels",
   "id": "a4bb4f102c646bf0"
  },
  {
   "metadata": {
    "ExecuteTime": {
     "end_time": "2024-05-07T08:18:00.605730Z",
     "start_time": "2024-05-07T08:17:24.456740Z"
    }
   },
   "cell_type": "code",
   "source": [
    "fig, axs = plt.subplots(2, 4, figsize=(35, 14), sharex=True, sharey=True)\n",
    "axs = axs.ravel()\n",
    "\n",
    "for i, channel in enumerate(wanted_chans):\n",
    "    \n",
    "    channel_data = df[df.channel == channel]\n",
    "    \n",
    "    palette = {'DRD2-WT': '#427C99', 'DRD2-KO': '#AF5541'}\n",
    "    sns.lineplot(data=channel_data, x='freq', y='decibel_ratio', hue=\"genotype\", legend=True, ax=axs[i], errorbar=('ci', 95), palette=palette)\n",
    "    \n",
    "    for band, (start, end) in freq_bands_eeg.items():\n",
    "        axs[i].axvline(x=start, color='gray', linestyle='--', alpha=0.3)\n",
    "        axs[i].axvline(x=end, color='gray', linestyle='--', alpha=0.3)\n",
    "        axs[i].text((start + end) / 2, axs[i].get_ylim()[1], band, horizontalalignment='center', verticalalignment='top', fontsize=8, color='black')\n",
    "        \n",
    "    axs[i].axhline(y=1, linestyle='-', alpha=.5, color='gray')\n",
    "    axs[i].set_xlabel('Frequency (Hz)')\n",
    "    axs[i].set_ylabel('Power/Frequency (dB/Hz)')\n",
    "    axs[i].set_title(f'{channel}')\n",
    "    axs[i].legend(frameon=False, loc='best')\n",
    "\n",
    "plt.suptitle(\n",
    "    \"Novel- over familiar-cup power ratio (in decibels), DRD2-WT versus DRD2-KO\", \n",
    "    fontsize=16, fontweight='bold', fontstyle='italic', y=1\n",
    ")\n",
    "plt.tight_layout()\n",
    "axs[-1].remove()\n",
    "save_figure(os.path.join(plot_folder, f'eeg_power_analysis/norm_decibel_power_ratios_per_chan.pdf'))"
   ],
   "id": "156a420ba20075af",
   "execution_count": 75,
   "outputs": []
  },
  {
   "metadata": {
    "ExecuteTime": {
     "end_time": "2024-05-07T08:18:19.637805Z",
     "start_time": "2024-05-07T08:18:19.585956Z"
    }
   },
   "cell_type": "code",
   "source": "df",
   "id": "ca03930a2b73c397",
   "execution_count": 76,
   "outputs": []
  },
  {
   "metadata": {},
   "cell_type": "markdown",
   "source": "Let's add the band name to each row",
   "id": "e3bc901bb55ae9e6"
  },
  {
   "metadata": {
    "ExecuteTime": {
     "end_time": "2024-05-07T08:18:23.692439Z",
     "start_time": "2024-05-07T08:18:23.667677Z"
    }
   },
   "cell_type": "code",
   "source": [
    "# let's add bad names to the df\n",
    "for band, (start, end) in freq_bands_eeg.items():\n",
    "    df.loc[(df['freq'] > start) & (df['freq'] <= end), 'band'] = band"
   ],
   "id": "491e14b55c5c711d",
   "execution_count": 77,
   "outputs": []
  },
  {
   "metadata": {
    "ExecuteTime": {
     "end_time": "2024-05-07T08:18:32.590517Z",
     "start_time": "2024-05-07T08:18:32.570306Z"
    }
   },
   "cell_type": "code",
   "source": "df.head()",
   "id": "395a9bc90a46d74f",
   "execution_count": 78,
   "outputs": []
  },
  {
   "metadata": {},
   "cell_type": "markdown",
   "source": "Now we group the data of each subject and each band within the subject and average the psd_ratio per band",
   "id": "e326f023a751eabe"
  },
  {
   "metadata": {
    "ExecuteTime": {
     "end_time": "2024-05-07T08:18:39.074283Z",
     "start_time": "2024-05-07T08:18:39.002019Z"
    }
   },
   "cell_type": "code",
   "source": [
    "df_grouped = df.groupby(['subject_id', 'channel', 'band']).agg({'psd_ratio': 'mean', 'decibel_ratio': 'mean', 'genotype': 'first'}).reset_index()\n",
    "df_grouped.head()"
   ],
   "id": "787f67100aa542ff",
   "execution_count": 79,
   "outputs": []
  },
  {
   "metadata": {
    "ExecuteTime": {
     "end_time": "2024-05-07T08:18:50.081301Z",
     "start_time": "2024-05-07T08:18:40.904223Z"
    }
   },
   "cell_type": "code",
   "source": [
    "fig, axs = plt.subplots(2, 4, figsize=(35, 14), sharey=True, sharex=True)\n",
    "axs = axs.ravel()\n",
    "\n",
    "palette_dark = {'DRD2-WT':'#6A8D73', 'DRD2-KO':'#984447'}\n",
    "palette_light = {'DRD2-WT':'#AEC2B3', 'DRD2-KO':'#C68083'}\n",
    "\n",
    "for i, channel in enumerate(wanted_chans):\n",
    "    \n",
    "    df_grouped_chan = df_grouped[df_grouped.channel == channel]\n",
    "    \n",
    "    sns.boxplot(data=df_grouped_chan, x='band', y='psd_ratio', hue='genotype', hue_order=['DRD2-WT', 'DRD2-KO'], ax=axs[i], palette=palette_dark, showfliers=False, order=freq_bands_eeg.keys())\n",
    "    \n",
    "    sns.swarmplot(data=df_grouped_chan, x='band', y='psd_ratio', hue='genotype', hue_order=['DRD2-WT', 'DRD2-KO'], ax=axs[i], dodge=True, palette=palette_light, color=\"white\", edgecolor=\"auto\", s=6, legend=False, order=freq_bands_eeg.keys())\n",
    "    \n",
    "    axs[i].set_title(channel)\n",
    "    axs[i].legend(frameon=False, loc='best')\n",
    "\n",
    "plt.suptitle(\n",
    "    \"Boxplot of novel- over familiar-cup power ratio per band, DRD2-WT versus DRD2-KO\", \n",
    "    fontsize=16, fontweight='bold', fontstyle='italic', y=1\n",
    ")\n",
    "plt.tight_layout()\n",
    "axs[-1].remove()\n",
    "save_figure(os.path.join(plot_folder, f'eeg_power_analysis/boxplot_power_ratios_per_band.pdf'))"
   ],
   "id": "5abcf4dc9c20cef",
   "execution_count": 80,
   "outputs": []
  },
  {
   "metadata": {},
   "cell_type": "markdown",
   "source": "And the same for the decibels again",
   "id": "1561361837846329"
  },
  {
   "metadata": {
    "ExecuteTime": {
     "end_time": "2024-05-07T08:19:11.266838Z",
     "start_time": "2024-05-07T08:19:01.612685Z"
    }
   },
   "cell_type": "code",
   "source": [
    "fig, axs = plt.subplots(2, 4, figsize=(35, 14), sharex=True)\n",
    "axs = axs.ravel()\n",
    "\n",
    "palette_dark = {'DRD2-WT': '#6A8D73', 'DRD2-KO': '#984447'}\n",
    "palette_light = {'DRD2-WT': '#AEC2B3', 'DRD2-KO': '#C68083'}\n",
    "\n",
    "for i, channel in enumerate(wanted_chans):\n",
    "    df_grouped_chan = df_grouped[df_grouped.channel == channel]\n",
    "\n",
    "    sns.boxplot(data=df_grouped_chan, x='band', y='decibel_ratio', hue='genotype', hue_order=['DRD2-WT', 'DRD2-KO'], ax=axs[i], palette=palette_dark, showfliers=False, order=freq_bands_eeg.keys())\n",
    "\n",
    "    sns.swarmplot(data=df_grouped_chan, x='band', y='decibel_ratio', hue='genotype', hue_order=['DRD2-WT', 'DRD2-KO'], ax=axs[i], dodge=True, palette=palette_light, color=\"white\", edgecolor=\"auto\", s=6, legend=False, order=freq_bands_eeg.keys())\n",
    "\n",
    "    axs[i].set_title(channel)\n",
    "    axs[i].legend(frameon=False, loc='best')\n",
    "\n",
    "plt.suptitle(\n",
    "    \"Boxplot of novel- over familiar-cup power ratio (in decibels) per band, DRD2-WT versus DRD2-KO\", \n",
    "    fontsize=16, fontweight='bold', fontstyle='italic', y=1\n",
    ")\n",
    "plt.tight_layout()\n",
    "axs[-1].remove()\n",
    "save_figure(os.path.join(plot_folder, f'eeg_power_analysis/boxplot_power_ratios_decibel_per_band.pdf'))"
   ],
   "id": "c9f3df7a0f115015",
   "execution_count": 81,
   "outputs": []
  },
  {
   "metadata": {},
   "cell_type": "markdown",
   "source": "Let's perform some statistics on the psd_ratio to compare WT and KO",
   "id": "9154511e2e31bcf1"
  },
  {
   "metadata": {
    "ExecuteTime": {
     "end_time": "2024-05-07T08:19:23.128205Z",
     "start_time": "2024-05-07T08:19:22.945579Z"
    }
   },
   "cell_type": "code",
   "source": [
    "df_grouped_wt = df_grouped[df_grouped.genotype == 'DRD2-WT']\n",
    "df_grouped_ko = df_grouped[df_grouped.genotype == 'DRD2-KO']\n",
    "\n",
    "for channel in wanted_chans:\n",
    "    for band in freq_bands_eeg.keys():\n",
    "        data_wt = df_grouped_wt[(df_grouped_wt.channel == channel) & (df_grouped_wt.band == band)]['psd_ratio']\n",
    "        data_ko = df_grouped_ko[(df_grouped_ko.channel == channel) & (df_grouped_ko.band == band)]['psd_ratio']\n",
    "        \n",
    "        print(channel, band, ':', ttest_ind(data_wt, data_ko).pvalue)"
   ],
   "id": "51ed537b05fd7e3d",
   "execution_count": 82,
   "outputs": []
  },
  {
   "metadata": {
    "ExecuteTime": {
     "end_time": "2024-05-07T08:19:23.970452Z",
     "start_time": "2024-05-07T08:19:23.805481Z"
    }
   },
   "cell_type": "code",
   "source": [
    "df_grouped_wt = df_grouped[df_grouped.genotype == 'DRD2-WT']\n",
    "df_grouped_ko = df_grouped[df_grouped.genotype == 'DRD2-KO']\n",
    "\n",
    "for channel in wanted_chans:\n",
    "    for band in freq_bands_eeg.keys():\n",
    "        data_wt = df_grouped_wt[(df_grouped_wt.channel == channel) & (df_grouped_wt.band == band)]['decibel_ratio']\n",
    "        data_ko = df_grouped_ko[(df_grouped_ko.channel == channel) & (df_grouped_ko.band == band)]['decibel_ratio']\n",
    "        \n",
    "        print(channel, band, ' p-value: ', ttest_ind(data_wt, data_ko).pvalue)"
   ],
   "id": "95e2dff4797a4468",
   "execution_count": 83,
   "outputs": []
  },
  {
   "metadata": {},
   "cell_type": "markdown",
   "source": [
    "## Let's separate the batches on sampling frequency and batch all social epochs again\n",
    "\n",
    "For this experiment, batches 1, 2, 3, and 4 were recorded at a sampling frequency of 19525 Hz. Batches 5, 5b and 6 were recorded at a sampling frequency of 1084.72 Hz."
   ],
   "id": "b914943e328878b0"
  },
  {
   "metadata": {
    "ExecuteTime": {
     "end_time": "2024-05-08T12:21:30.583277Z",
     "start_time": "2024-05-08T12:21:27.824921Z"
    }
   },
   "cell_type": "code",
   "source": [
    "df = pd.DataFrame()\n",
    "\n",
    "for subject_epochs in all_subject_epochs:\n",
    "    \n",
    "    subject_id = subject_epochs.metadata[\"subject_id\"].iloc[0]\n",
    "    genotype = subject_epochs.metadata[\"genotype\"].iloc[0]\n",
    "    \n",
    "    for interaction_type in subject_epochs.metadata.interaction_kind.unique():\n",
    "        \n",
    "        subject_data = subject_epochs[subject_epochs.metadata[\"interaction_kind\"] == interaction_type]\n",
    "        \n",
    "        for channel in wanted_chans:\n",
    "            # skip plotting data of bad quality\n",
    "            if int(subject_id) in low_qual_chans.keys():\n",
    "                if channel in low_qual_chans[int(subject_id)]: \n",
    "                    print(f\"Omitting channel {channel} for subject {subject_id}.\")\n",
    "                    continue\n",
    "            \n",
    "            # get the average PSD for this subject\n",
    "            psds_sub, freqs = psd_array_multitaper(\n",
    "                subject_data.get_data(picks=channel),\n",
    "                fmin=0, fmax=100,\n",
    "                sfreq=subject_data.info['sfreq'],\n",
    "                n_jobs=-1,\n",
    "                verbose='WARNING'\n",
    "            )\n",
    "            decibels = nanpow2db(psds_sub)\n",
    "            \n",
    "            # normalize the decibels\n",
    "            total_power = np.abs(np.sum(decibels, axis=-1))\n",
    "            decibels_norm = decibels / total_power[:, np.newaxis]\n",
    "        \n",
    "            mean_decibels = np.mean(decibels[:, 0, :], axis=0)\n",
    "            mean_decibels_norm = np.mean(decibels_norm[:, 0, :], axis=0)\n",
    "            \n",
    "            # normalize the raw psds\n",
    "            total_power = np.sum(psds_sub, axis=-1)\n",
    "            psds_sub_norm = psds_sub / total_power[:, np.newaxis]\n",
    "            \n",
    "            mean_psd_sub = np.mean(psds_sub[:, 0, :], axis=0)\n",
    "            mean_psd_sub_norm = np.mean(psds_sub_norm[:, 0, :], axis=0)\n",
    "            \n",
    "            # save the average of this subject, so we can later plot the mean of the subject averages\n",
    "            df = pd.concat([df, pd.DataFrame({\n",
    "                \"freq\": freqs,\n",
    "                \"psd\": mean_psd_sub,\n",
    "                \"psd (norm)\": mean_psd_sub_norm,\n",
    "                \"decibels\": mean_decibels,\n",
    "                \"decibels (norm)\": mean_decibels_norm,\n",
    "                \"subject_id\": subject_id,\n",
    "                \"genotype\": genotype,\n",
    "                \"channel\": channel,\n",
    "                \"interaction_kind\": interaction_type,\n",
    "            })])\n",
    "        \n",
    "    print(f\"Done with subject {subject_id}.\")"
   ],
   "id": "b863dc5a0789af23",
   "execution_count": 10,
   "outputs": []
  },
  {
   "metadata": {
    "ExecuteTime": {
     "end_time": "2024-05-08T12:21:31.390583Z",
     "start_time": "2024-05-08T12:21:31.383013Z"
    }
   },
   "cell_type": "code",
   "source": "df.shape",
   "id": "c8d942c53a46c196",
   "execution_count": 11,
   "outputs": []
  },
  {
   "metadata": {
    "ExecuteTime": {
     "end_time": "2024-05-08T12:21:32.548288Z",
     "start_time": "2024-05-08T12:21:32.543280Z"
    }
   },
   "cell_type": "code",
   "source": [
    "ids_high_sf = [str(key) for key, value in subject_id_batch_cage_dict.items() if 'batch1' in value or 'batch2' in value]\n",
    "print(ids_high_sf)"
   ],
   "id": "2a0f271af474c313",
   "execution_count": 12,
   "outputs": []
  },
  {
   "metadata": {
    "ExecuteTime": {
     "end_time": "2024-05-08T12:21:35.421847Z",
     "start_time": "2024-05-08T12:21:35.408731Z"
    }
   },
   "cell_type": "code",
   "source": [
    "df_high_sf = df[df.subject_id.isin(ids_high_sf)]\n",
    "df_low_sf = df[~df.subject_id.isin(ids_high_sf)]"
   ],
   "id": "c9bab4ffd069754a",
   "execution_count": 13,
   "outputs": []
  },
  {
   "metadata": {},
   "cell_type": "markdown",
   "source": "Let's inspect",
   "id": "4e5b68643eed5352"
  },
  {
   "metadata": {
    "ExecuteTime": {
     "end_time": "2024-05-08T12:21:36.662438Z",
     "start_time": "2024-05-08T12:21:36.646794Z"
    }
   },
   "cell_type": "code",
   "source": "df_high_sf.head()",
   "id": "ddccec7c3e7675fc",
   "execution_count": 14,
   "outputs": []
  },
  {
   "metadata": {
    "ExecuteTime": {
     "end_time": "2024-05-08T12:21:37.637389Z",
     "start_time": "2024-05-08T12:21:37.620414Z"
    }
   },
   "cell_type": "code",
   "source": "df_low_sf.head()",
   "id": "6c48eb34c56d6ceb",
   "execution_count": 15,
   "outputs": []
  },
  {
   "metadata": {},
   "cell_type": "markdown",
   "source": "### High sampling frequency batches",
   "id": "e3309a1c3764745"
  },
  {
   "metadata": {},
   "cell_type": "markdown",
   "source": "How many of each genotype in the high frequency batches?",
   "id": "54c933ff56242c73"
  },
  {
   "metadata": {
    "ExecuteTime": {
     "end_time": "2024-05-08T12:21:40.824251Z",
     "start_time": "2024-05-08T12:21:40.815086Z"
    }
   },
   "cell_type": "code",
   "source": "np.unique(df_high_sf[(df_high_sf.freq == 1.0) & (df_high_sf.channel == 'OFC_R') & (df_high_sf.interaction_kind == 'novel_cup')].genotype, return_counts=True)",
   "id": "e37d5013850adefa",
   "execution_count": 16,
   "outputs": []
  },
  {
   "metadata": {},
   "cell_type": "markdown",
   "source": "So, there are 5 KOs and 3 WTs in the first 2 batches. Let's plot the difference in social epoch power between the two genotypes again.",
   "id": "43fa06e5532d8e94"
  },
  {
   "metadata": {
    "ExecuteTime": {
     "end_time": "2024-05-08T12:23:11.850057Z",
     "start_time": "2024-05-08T12:21:55.862913Z"
    }
   },
   "cell_type": "code",
   "source": [
    "for interaction_kind in df_high_sf.interaction_kind.unique():\n",
    "    \n",
    "    fig, axs = plt.subplots(2, 4, figsize=(30, 14), sharex=True, sharey=True)\n",
    "    axs = axs.ravel()\n",
    "    \n",
    "    interaction_data = df_high_sf[df_high_sf.interaction_kind == interaction_kind]\n",
    "    \n",
    "    for i, channel in enumerate(wanted_chans):\n",
    "        \n",
    "        channel_data = interaction_data[interaction_data.channel == channel]\n",
    "        channel_data = channel_data[(channel_data.freq > 51) | (channel_data.freq < 49)]  # remove the 50Hz peak\n",
    "        \n",
    "        sns.lineplot(data=channel_data, x='freq', y='psd (norm)', hue=\"genotype\", legend=True, ax=axs[i], errorbar=('ci', 95))\n",
    "        \n",
    "        for band, (start, end) in freq_bands_eeg.items():\n",
    "            axs[i].axvline(x=start, color='gray', linestyle='--', alpha=0.3)\n",
    "            axs[i].axvline(x=end, color='gray', linestyle='--', alpha=0.3)\n",
    "            axs[i].text((start + end) / 2, axs[i].get_ylim()[1] * 1.01, band, horizontalalignment='center', verticalalignment='top', fontsize=8, color='black')\n",
    "        \n",
    "        axs[i].set_yscale('log')\n",
    "        axs[i].set_xlabel('Frequency (Hz)')\n",
    "        axs[i].set_ylabel('Power/Frequency (dB/Hz)')\n",
    "        axs[i].set_title(channel)\n",
    "        \n",
    "    plt.suptitle(f'Average power of {interaction_kind} interactions - DRD2-WT versus DRD2-KO - High sampling frequency batches (n WT = 3, n KO = 4)', fontsize=16, fontweight='bold', fontstyle='italic', y=1)\n",
    "    plt.tight_layout()\n",
    "    axs[-1].remove()\n",
    "    save_figure(os.path.join(plot_folder, f'eeg_power_analysis/average_power_{interaction_kind}_batches_1_and_2.pdf'))"
   ],
   "id": "9b80155e14781e76",
   "execution_count": 17,
   "outputs": []
  },
  {
   "metadata": {},
   "cell_type": "markdown",
   "source": "There seems to be something going on here in the higher frequencies (beta and gamma).",
   "id": "b82518df63da4166"
  },
  {
   "metadata": {},
   "cell_type": "markdown",
   "source": [
    "### Low sampling frequency batches\n",
    "\n",
    "Now, let's do the same for the low sampling frequency batches.\n",
    "\n",
    "How many of each genotype in the lower frequency batches?"
   ],
   "id": "fc8b6aa8bd66cedf"
  },
  {
   "metadata": {
    "ExecuteTime": {
     "end_time": "2024-05-08T12:23:11.862820Z",
     "start_time": "2024-05-08T12:23:11.853125Z"
    }
   },
   "cell_type": "code",
   "source": "np.unique(df_low_sf[(df_low_sf.freq == 1.0) & (df_low_sf.channel == 'STR_R') & (df_low_sf.interaction_kind == 'novel_cup')].genotype, return_counts=True)",
   "id": "439d8f2817f0b716",
   "execution_count": 18,
   "outputs": []
  },
  {
   "metadata": {
    "ExecuteTime": {
     "end_time": "2024-05-08T12:24:50.582484Z",
     "start_time": "2024-05-08T12:23:37.352933Z"
    }
   },
   "cell_type": "code",
   "source": [
    "for interaction_kind in df_high_sf.interaction_kind.unique():\n",
    "    \n",
    "    fig, axs = plt.subplots(2, 4, figsize=(30, 14), sharex=True, sharey=True)\n",
    "    axs = axs.ravel()\n",
    "    \n",
    "    interaction_data = df_low_sf[df_low_sf.interaction_kind == interaction_kind]\n",
    "    \n",
    "    for i, channel in enumerate(wanted_chans):\n",
    "        \n",
    "        channel_data = interaction_data[interaction_data.channel == channel]\n",
    "        channel_data = channel_data[(channel_data.freq > 51) | (channel_data.freq < 49)]  # remove the 50Hz peak\n",
    "        \n",
    "        sns.lineplot(data=channel_data, x='freq', y='psd (norm)', hue=\"genotype\", legend=True, ax=axs[i], errorbar=('ci', 95))\n",
    "        \n",
    "        for band, (start, end) in freq_bands_eeg.items():\n",
    "            axs[i].axvline(x=start, color='gray', linestyle='--', alpha=0.3)\n",
    "            axs[i].axvline(x=end, color='gray', linestyle='--', alpha=0.3)\n",
    "            axs[i].text((start + end) / 2, axs[i].get_ylim()[1] * 1.01, band, horizontalalignment='center', verticalalignment='top', fontsize=8, color='black')\n",
    "        \n",
    "        axs[i].set_yscale('log')\n",
    "        axs[i].set_xlabel('Frequency (Hz)')\n",
    "        axs[i].set_ylabel('Power/Frequency (dB/Hz)')\n",
    "        axs[i].set_title(channel)\n",
    "        \n",
    "    plt.suptitle(f'Average power of {interaction_kind} interactions - DRD2-WT versus DRD2-KO - High sampling frequency batches (n WT = 5, n KO = 5)', fontsize=16, fontweight='bold', fontstyle='italic', y=1)\n",
    "    plt.tight_layout()\n",
    "    axs[-1].remove()\n",
    "    save_figure(os.path.join(plot_folder, f'eeg_power_analysis/average_power_{interaction_kind}_batches_4-6.pdf'))"
   ],
   "id": "e03de99c759ada88",
   "execution_count": 19,
   "outputs": []
  }
 ],
 "metadata": {
  "kernelspec": {
   "display_name": "Python 3",
   "language": "python",
   "name": "python3"
  },
  "language_info": {
   "codemirror_mode": {
    "name": "ipython",
    "version": 2
   },
   "file_extension": ".py",
   "mimetype": "text/x-python",
   "name": "python",
   "nbconvert_exporter": "python",
   "pygments_lexer": "ipython2",
   "version": "2.7.6"
  }
 },
 "nbformat": 4,
 "nbformat_minor": 5
}
