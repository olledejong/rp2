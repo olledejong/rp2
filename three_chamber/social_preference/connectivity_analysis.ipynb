{
 "cells": [
  {
   "cell_type": "code",
   "id": "initial_id",
   "metadata": {
    "collapsed": true,
    "ExecuteTime": {
     "end_time": "2024-05-07T08:23:28.936894Z",
     "start_time": "2024-05-07T08:23:27.694072Z"
    }
   },
   "source": [
    "import os\n",
    "import mne\n",
    "import numpy as np\n",
    "import pandas as pd\n",
    "import seaborn as sns\n",
    "import matplotlib.pyplot as plt\n",
    "from mne_connectivity import spectral_connectivity_epochs, seed_target_indices\n",
    "\n",
    "from shared.helper_functions import save_figure, select_folder, select_or_create_folder\n",
    "from settings_general import low_qual_chans, freq_bands_eeg"
   ],
   "outputs": [],
   "execution_count": 1
  },
  {
   "metadata": {},
   "cell_type": "markdown",
   "source": "Change plot theme",
   "id": "60ba72b388c8a802"
  },
  {
   "metadata": {
    "ExecuteTime": {
     "end_time": "2024-05-07T08:23:31.281974Z",
     "start_time": "2024-05-07T08:23:31.271122Z"
    }
   },
   "cell_type": "code",
   "source": "sns.set_theme()",
   "id": "35c8a8816c30c014",
   "outputs": [],
   "execution_count": 2
  },
  {
   "metadata": {},
   "cell_type": "markdown",
   "source": "Set a pallete",
   "id": "7e1a903937b21f91"
  },
  {
   "metadata": {
    "ExecuteTime": {
     "end_time": "2024-05-07T08:23:32.615315Z",
     "start_time": "2024-05-07T08:23:32.607386Z"
    }
   },
   "cell_type": "code",
   "source": [
    "palette = {'DRD2-WT': '#427C99', 'DRD2-KO': '#AF5541'}\n",
    "palette_gr = {'DRD2-WT':'#6A8D73', 'DRD2-KO':'#984447'}"
   ],
   "id": "80405a038a561f7f",
   "outputs": [],
   "execution_count": 3
  },
  {
   "metadata": {},
   "cell_type": "markdown",
   "source": "Let the user select the folders that hold needed data",
   "id": "3c000e81bb857064"
  },
  {
   "metadata": {
    "ExecuteTime": {
     "end_time": "2024-05-07T08:24:19.565008Z",
     "start_time": "2024-05-07T08:23:48.929242Z"
    }
   },
   "cell_type": "code",
   "source": [
    "epoch_folder = select_folder(\"Select the folder that holds social preference experiment's epoch files\")\n",
    "plot_folder = select_or_create_folder(\"Create or select a folder the plots will be saved to\")"
   ],
   "id": "aaab591254bfe33d",
   "outputs": [
    {
     "name": "stderr",
     "output_type": "stream",
     "text": [
      "2024-05-07 10:23:53.864 python[7332:275687] +[CATransaction synchronize] called within transaction\n",
      "2024-05-07 10:24:01.472 python[7332:275687] +[CATransaction synchronize] called within transaction\n",
      "2024-05-07 10:24:01.570 python[7332:275687] +[CATransaction synchronize] called within transaction\n",
      "2024-05-07 10:24:01.685 python[7332:275687] +[CATransaction synchronize] called within transaction\n",
      "2024-05-07 10:24:01.785 python[7332:275687] +[CATransaction synchronize] called within transaction\n",
      "2024-05-07 10:24:01.983 python[7332:275687] +[CATransaction synchronize] called within transaction\n",
      "2024-05-07 10:24:02.142 python[7332:275687] +[CATransaction synchronize] called within transaction\n",
      "2024-05-07 10:24:02.392 python[7332:275687] +[CATransaction synchronize] called within transaction\n",
      "2024-05-07 10:24:02.701 python[7332:275687] +[CATransaction synchronize] called within transaction\n",
      "2024-05-07 10:24:02.904 python[7332:275687] +[CATransaction synchronize] called within transaction\n",
      "2024-05-07 10:24:03.248 python[7332:275687] +[CATransaction synchronize] called within transaction\n",
      "2024-05-07 10:24:03.349 python[7332:275687] +[CATransaction synchronize] called within transaction\n",
      "2024-05-07 10:24:03.467 python[7332:275687] +[CATransaction synchronize] called within transaction\n",
      "2024-05-07 10:24:03.567 python[7332:275687] +[CATransaction synchronize] called within transaction\n",
      "2024-05-07 10:24:03.682 python[7332:275687] +[CATransaction synchronize] called within transaction\n",
      "2024-05-07 10:24:07.592 python[7332:275687] +[CATransaction synchronize] called within transaction\n"
     ]
    }
   ],
   "execution_count": 4
  },
  {
   "metadata": {
    "ExecuteTime": {
     "end_time": "2024-05-07T08:24:22.861060Z",
     "start_time": "2024-05-07T08:24:22.837371Z"
    }
   },
   "cell_type": "code",
   "source": "epoch_folder",
   "id": "30e75b55f7ce89f4",
   "outputs": [
    {
     "data": {
      "text/plain": [
       "'/Users/olledejong/Documents/MSc_Biology/ResearchProject2/rp2_data/3C_preference/output/epochs/one_sec_no_overlap'"
      ]
     },
     "execution_count": 5,
     "metadata": {},
     "output_type": "execute_result"
    }
   ],
   "execution_count": 5
  },
  {
   "metadata": {
    "ExecuteTime": {
     "end_time": "2024-05-07T08:24:23.849552Z",
     "start_time": "2024-05-07T08:24:23.844553Z"
    }
   },
   "cell_type": "code",
   "source": "plot_folder",
   "id": "6a5b72b430be8b23",
   "outputs": [
    {
     "data": {
      "text/plain": [
       "'/Users/olledejong/Documents/MSc_Biology/ResearchProject2/rp2_data/3C_preference/output/plots/one_sec_no_overlap'"
      ]
     },
     "execution_count": 6,
     "metadata": {},
     "output_type": "execute_result"
    }
   ],
   "execution_count": 6
  },
  {
   "metadata": {},
   "cell_type": "markdown",
   "source": "Define the channels we're not interested in",
   "id": "1d3e4dea263c71a5"
  },
  {
   "metadata": {
    "ExecuteTime": {
     "end_time": "2024-05-07T08:24:31.098793Z",
     "start_time": "2024-05-07T08:24:31.094384Z"
    }
   },
   "cell_type": "code",
   "source": "excluded_chans = ['EMG_L', 'EMG_R']",
   "id": "f1613ed2ad0aa7d3",
   "outputs": [],
   "execution_count": 7
  },
  {
   "metadata": {},
   "cell_type": "markdown",
   "source": "Load all subject epochs",
   "id": "436997a8c53d7695"
  },
  {
   "metadata": {
    "ExecuteTime": {
     "end_time": "2024-05-07T08:24:33.578605Z",
     "start_time": "2024-05-07T08:24:32.725738Z"
    }
   },
   "cell_type": "code",
   "source": [
    "all_subject_epochs = []\n",
    "for file in os.listdir(epoch_folder):\n",
    "    if not file.endswith('.fif') or file.startswith('.'):\n",
    "        continue\n",
    "    all_subject_epochs.append(mne.read_epochs(os.path.join(epoch_folder, file), preload=True, verbose='WARNING'))"
   ],
   "id": "3f17ed7e9f386e5d",
   "outputs": [],
   "execution_count": 8
  },
  {
   "metadata": {
    "ExecuteTime": {
     "end_time": "2024-05-07T08:24:34.348303Z",
     "start_time": "2024-05-07T08:24:34.339509Z"
    }
   },
   "cell_type": "code",
   "source": "len(all_subject_epochs)",
   "id": "247f28d40c8e1157",
   "outputs": [
    {
     "data": {
      "text/plain": [
       "18"
      ]
     },
     "execution_count": 9,
     "metadata": {},
     "output_type": "execute_result"
    }
   ],
   "execution_count": 9
  },
  {
   "metadata": {},
   "cell_type": "markdown",
   "source": "### Define some computation functions",
   "id": "43bd683af5f514c6"
  },
  {
   "metadata": {
    "ExecuteTime": {
     "end_time": "2024-05-07T08:28:30.488343Z",
     "start_time": "2024-05-07T08:28:30.483075Z"
    }
   },
   "cell_type": "code",
   "source": [
    "def compute_con(epochs, method, fmin=0, fmax=100):\n",
    "    # Compute spectral connectivity\n",
    "    con = spectral_connectivity_epochs(\n",
    "        epochs, method=method, mode='multitaper', sfreq=epochs.info['sfreq'],\n",
    "        fmin=fmin, fmax=fmax, faverage=True, verbose='ERROR', gc_n_lags=40)\n",
    "    return con.get_data(output='dense')"
   ],
   "id": "79dca3f6b814a8c1",
   "outputs": [],
   "execution_count": 29
  },
  {
   "metadata": {},
   "cell_type": "markdown",
   "source": "And a function that computes a dataframe holding the connectivity for all the subject's epochs.",
   "id": "636e75e0b8418574"
  },
  {
   "metadata": {
    "ExecuteTime": {
     "end_time": "2024-05-07T08:25:08.082530Z",
     "start_time": "2024-05-07T08:25:08.068984Z"
    }
   },
   "cell_type": "code",
   "source": [
    "def connectivity_df(subject_epoch_objects, interaction_kind, method):\n",
    "    results_df = pd.DataFrame()\n",
    "    \n",
    "    # per subject, calculate the given measure for all epochs\n",
    "    for subject_epochs in subject_epoch_objects:\n",
    "        \n",
    "        interaction_kind_epochs = subject_epochs[subject_epochs.metadata['interaction_kind'] == interaction_kind]\n",
    "        interaction_kind_epochs = interaction_kind_epochs.drop_channels(excluded_chans)\n",
    "        \n",
    "        subject_id = int(interaction_kind_epochs.metadata['subject_id'].iloc[0])    \n",
    "        genotype = interaction_kind_epochs.metadata['genotype'].iloc[0]\n",
    "\n",
    "        # compute the given connectivity measure for every frequency band\n",
    "        for band_name, (fmin, fmax) in freq_bands_eeg.items():\n",
    "\n",
    "            # spectrum estimates are unreliable when we have less than 5 cycles,\n",
    "            # and since we have 1-second epochs, we need the fmin to be at least 5\n",
    "            # if band_name == '$\\\\delta$':\n",
    "            #     continue\n",
    "            # if fmin == 4:\n",
    "            #     fmin = 5\n",
    "            \n",
    "            # compute the connectivity using the provided method\n",
    "            con = compute_con(interaction_kind_epochs, method, fmin, fmax)\n",
    "            \n",
    "            # loop through every channel combination\n",
    "            for i in range(con.shape[1]):\n",
    "                for j in range(i+1, con.shape[0]):\n",
    "                    if subject_id in low_qual_chans.keys():\n",
    "                        if interaction_kind_epochs.ch_names[i] in low_qual_chans[subject_id] or interaction_kind_epochs.ch_names[j] in low_qual_chans[subject_id]:\n",
    "                            continue\n",
    "                    # add the data\n",
    "                    results_df = pd.concat([results_df, pd.DataFrame({\n",
    "                        'con' : con[j, i, 0],\n",
    "                        'node1' : interaction_kind_epochs.ch_names[i],\n",
    "                        'node2' : interaction_kind_epochs.ch_names[j],\n",
    "                        'band' : band_name,\n",
    "                        'subject_id': subject_id,\n",
    "                        'genotype': genotype\n",
    "                    }, index=[0])], ignore_index=True)\n",
    "    print(f'Done computing {method} connectivity.')\n",
    "    return results_df"
   ],
   "id": "ac718d6fce493c4d",
   "outputs": [],
   "execution_count": 15
  },
  {
   "metadata": {},
   "cell_type": "markdown",
   "source": "And also a function that allows us to generate a heatmap of the connectivity per channel combination",
   "id": "c6c233be3b8d41e4"
  },
  {
   "metadata": {
    "ExecuteTime": {
     "end_time": "2024-05-07T08:25:52.176594Z",
     "start_time": "2024-05-07T08:25:52.152919Z"
    }
   },
   "cell_type": "code",
   "source": [
    "def generate_con_heatmap(df, freq_band, cmap, fig_title='', method='', ax=None):\n",
    "    # subset the data for a given frequency band\n",
    "    filtered_df = df[df['band'] == freq_band]\n",
    "\n",
    "    # generate pivot table with mean 'method' values\n",
    "    pivot_table = filtered_df.pivot_table(index='node1', columns='node2', values='con', aggfunc='mean')\n",
    "\n",
    "    # make table symmetric by filling missing values\n",
    "    pivot_table = pivot_table.combine_first(pivot_table.T)\n",
    "\n",
    "    # set diagonal and upper triangle values to NaN, this way we still plot all data\n",
    "    for i in range(pivot_table.shape[0]):\n",
    "        for j in range(i, pivot_table.shape[1]):\n",
    "            pivot_table.iat[i, j] = np.nan\n",
    "\n",
    "    fig = sns.heatmap(pivot_table, cmap=cmap, annot=True, fmt=\".2f\", vmin=0, vmax=1, ax=ax, square=True, cbar_kws={'shrink': 0.75})\n",
    "    fig.set_title(fig_title)\n",
    "\n",
    "    cbar = fig.collections[0].colorbar\n",
    "    cbar.set_label(f'Mean {method}', fontsize=12)\n",
    "    cbar.outline.set_edgecolor('black')\n",
    "    cbar.outline.set_linewidth(1)"
   ],
   "id": "689e5feefa8db00a",
   "outputs": [],
   "execution_count": 16
  },
  {
   "metadata": {},
   "cell_type": "markdown",
   "source": "Let's double check how this works.",
   "id": "df4c3da756d4f15d"
  },
  {
   "metadata": {
    "ExecuteTime": {
     "end_time": "2024-05-07T08:25:54.585550Z",
     "start_time": "2024-05-07T08:25:53.301061Z"
    }
   },
   "cell_type": "code",
   "source": [
    "filtered_df = pd.DataFrame({\n",
    "    'node1': ['1','2','3','4'],\n",
    "    'node2': ['5','6','7','8'],\n",
    "    'con': [.1,.2,.3,.4]\n",
    "})\n",
    "\n",
    "# generate pivot table with mean 'method' values\n",
    "pivot_table = filtered_df.pivot_table(index='node1', columns='node2', values='con', aggfunc='mean')\n",
    "\n",
    "# make table symmetric by filling missing values\n",
    "pivot_table = pivot_table.combine_first(pivot_table.T)\n",
    "\n",
    "# set diagonal and upper triangle values to NaN, this way we still plot all data\n",
    "for i in range(pivot_table.shape[0]):\n",
    "    for j in range(i, pivot_table.shape[1]):\n",
    "        pivot_table.iat[i, j] = np.nan\n",
    "\n",
    "fig = sns.heatmap(pivot_table, cmap='flare', annot=True, fmt=\".2f\", vmin=0, vmax=1, square=True, cbar_kws={'shrink': 0.75})"
   ],
   "id": "94a375cb92bd1fd4",
   "outputs": [
    {
     "data": {
      "text/plain": [
       "<Figure size 640x480 with 2 Axes>"
      ],
      "image/png": "[encoded data removed]"
     },
     "metadata": {},
     "output_type": "display_data"
    }
   ],
   "execution_count": 17
  },
  {
   "metadata": {},
   "cell_type": "markdown",
   "source": "In the heatmaps, the bottom row is the first node, so when interpreting dPLI values, the bottom row is lagging the other signal if dPLI is between 0 and 0.5, and the reference signal is leading the other signal is the dPLI is between 0.5 and 1.0.",
   "id": "e82c6c3ebbd8c02e"
  },
  {
   "metadata": {},
   "cell_type": "markdown",
   "source": "And a function that allows us to plot the connectivity differences between the two genotypes for the 4 channels of interest",
   "id": "3f1b8874152fd4e3"
  },
  {
   "metadata": {
    "ExecuteTime": {
     "end_time": "2024-05-07T08:26:15.729820Z",
     "start_time": "2024-05-07T08:26:15.722246Z"
    }
   },
   "cell_type": "code",
   "source": [
    "def generate_grid_plot_wt_vs_ko(data, interaction_kind, method, cmap='flare'):\n",
    "    fig, ax = plt.subplots(nrows=2, ncols=5, figsize=(24, 10))\n",
    "    \n",
    "    freq_band_names = freq_bands_eeg.keys()\n",
    "    genotypes = data['genotype'].unique()\n",
    "    \n",
    "    # loop through genotypes\n",
    "    for i, genotype in enumerate(genotypes):\n",
    "        genotype_data = data[data['genotype'] == genotype]\n",
    "        for j, band in enumerate(freq_band_names):\n",
    "            generate_con_heatmap(genotype_data, band, cmap=cmap, fig_title=f'{genotype} - {band} Band', method=method, ax=ax[i, j])\n",
    "    \n",
    "    plt.tight_layout()\n",
    "    plt.subplots_adjust(wspace=0.25, hspace=-0.1)\n",
    "    save_figure(os.path.join(plot_folder, f\"connectivity/heatmaps/wt_vs_ko_{interaction_kind}_{method}.pdf\"))"
   ],
   "id": "5d0975a9eedc7ef",
   "outputs": [],
   "execution_count": 18
  },
  {
   "metadata": {},
   "cell_type": "markdown",
   "source": "Lastly a function that allows us to generate barplots of the connectivity measures",
   "id": "299136d05f18726a"
  },
  {
   "metadata": {
    "ExecuteTime": {
     "end_time": "2024-05-07T08:26:17.182916Z",
     "start_time": "2024-05-07T08:26:17.173272Z"
    }
   },
   "cell_type": "code",
   "source": [
    "def generate_barplots(data, interaction_kind, method):\n",
    "    combinations = data['node1'] + '-' + data['node2']\n",
    "    unique_combinations = combinations.unique()\n",
    "    \n",
    "    fig, axs = plt.subplots(nrows=3, ncols=7, figsize=(35, 15), sharey=True, sharex=True)\n",
    "    axs = axs.ravel()\n",
    "    \n",
    "    for i, combination in enumerate(unique_combinations):\n",
    "        # subset the data\n",
    "        chan1, chan2 = combination.split('-')\n",
    "        data_subset = data[(data['node1'] == chan1) & (data['node2'] == chan2)]\n",
    "        palette = {'DRD2-WT': '#427C99', 'DRD2-KO': '#AF5541'}\n",
    "        \n",
    "        sns.barplot(data=data_subset, x=\"band\", y=\"con\", hue=\"genotype\", palette=palette, hue_order=[\"DRD2-WT\", \"DRD2-KO\"], ax=axs[i], errorbar=None)\n",
    "        sns.stripplot(data=data_subset, x=\"band\", y=\"con\", hue=\"genotype\", palette='dark:black', hue_order=[\"DRD2-WT\", \"DRD2-KO\"], alpha=0.4, dodge=True, legend=False, ax=axs[i])\n",
    "        \n",
    "        axs[i].set_title(f\"Connectivity of {chan1} and {chan2} ({method.upper()})\")\n",
    "        axs[i].set_xlabel(\"Frequency band\")\n",
    "        axs[i].set_ylabel(f\"Connectivity ({method.upper()})\")\n",
    "    \n",
    "    plt.subplots_adjust(wspace=0.3, hspace=0.3)\n",
    "    plt.tight_layout()\n",
    "    save_figure(os.path.join(plot_folder, f\"connectivity/barplots/grid_{interaction_kind}_{method}.pdf\"))"
   ],
   "id": "e198dd32653fae8a",
   "outputs": [],
   "execution_count": 19
  },
  {
   "metadata": {},
   "cell_type": "markdown",
   "source": [
    "## Exploration on a single subject (30958)\n",
    "\n",
    "### Phase Lag Index exploration\n",
    "\n",
    "#### Directed Phase-Lag-Index (dPLI)"
   ],
   "id": "806df8692c7eac28"
  },
  {
   "metadata": {
    "ExecuteTime": {
     "end_time": "2024-05-07T08:26:20.404426Z",
     "start_time": "2024-05-07T08:26:20.320703Z"
    }
   },
   "cell_type": "code",
   "source": [
    "for obj in all_subject_epochs:\n",
    "    if obj.metadata.subject_id.iloc[0] == '39508':\n",
    "        epochs_39508 = obj.copy()\n",
    "        \n",
    "epochs_39508.drop_channels(['S1_L', 'S1_R', 'V1_R', 'EMG_L', 'EMG_R'])\n",
    "epochs_39508.info['ch_names']"
   ],
   "id": "30b4f40f689207fa",
   "outputs": [
    {
     "data": {
      "text/plain": [
       "['OFC_R', 'OFC_L', 'CG', 'STR_R']"
      ]
     },
     "execution_count": 20,
     "metadata": {},
     "output_type": "execute_result"
    }
   ],
   "execution_count": 20
  },
  {
   "metadata": {
    "ExecuteTime": {
     "end_time": "2024-05-07T08:26:37.325545Z",
     "start_time": "2024-05-07T08:26:36.915025Z"
    }
   },
   "cell_type": "code",
   "source": [
    "fig = plt.figure(figsize=(16, 3))\n",
    "plt.plot(epochs_39508[21].get_data(picks='CG')[0,0,:], label='GC')\n",
    "plt.plot(epochs_39508[21].get_data(picks='STR_R')[0,0,:], label='STR_R')\n",
    "plt.legend()"
   ],
   "id": "b0f371cf67998a4f",
   "outputs": [
    {
     "data": {
      "text/plain": [
       "<matplotlib.legend.Legend at 0x129395e50>"
      ]
     },
     "execution_count": 22,
     "metadata": {},
     "output_type": "execute_result"
    },
    {
     "data": {
      "text/plain": [
       "<Figure size 1600x300 with 1 Axes>"
      ],
      "image/png": "[encoded data removed]"
     },
     "metadata": {},
     "output_type": "display_data"
    }
   ],
   "execution_count": 22
  },
  {
   "metadata": {},
   "cell_type": "markdown",
   "source": "Visually, the STR_R seems to lag behind the GC, or the GC leads the STR_R",
   "id": "68e024c3ebea77f"
  },
  {
   "metadata": {
    "ExecuteTime": {
     "end_time": "2024-05-07T08:26:52.171588Z",
     "start_time": "2024-05-07T08:26:52.063451Z"
    }
   },
   "cell_type": "code",
   "source": [
    "seeds = [idx for idx, ch_info in enumerate(['OFC_R', 'OFC_L', 'CG', 'STR_R'])]\n",
    "targets = [idx for idx, ch_info in enumerate(['OFC_R', 'OFC_L', 'CG', 'STR_R'])]\n",
    "indices = seed_target_indices(seeds, targets)\n",
    "print(f'Bi-variate indexes used for pairwise connectivity calculations:\\n {indices}')\n",
    "\n",
    "# calculate dpli for one specific epoch\n",
    "dpli_test = spectral_connectivity_epochs(\n",
    "    epochs_39508[21], indices=indices, sfreq=epochs_39508.info['sfreq'], method=\"dpli\", fmin=5, fmax=100\n",
    ")\n",
    "\n",
    "# report some stuff\n",
    "print(f'\\nShape of the dpli output: {dpli_test.get_data(output=\"dense\").shape}')\n",
    "print(f'\\nLength of the frequency array (holds at which the dPLI is calculated): {len(dpli_test.freqs)}')\n",
    "print(f'\\nThe dPLI output:\\n {dpli_test.get_data(output=\"dense\")}')"
   ],
   "id": "b683a63f33d020d4",
   "outputs": [
    {
     "name": "stdout",
     "output_type": "stream",
     "text": [
      "Bi-variate indexes used for pairwise connectivity calculations:\n",
      " (array([0, 0, 0, 0, 1, 1, 1, 1, 2, 2, 2, 2, 3, 3, 3, 3]), array([0, 1, 2, 3, 0, 1, 2, 3, 0, 1, 2, 3, 0, 1, 2, 3]))\n",
      "\n",
      "Shape of the dpli output: (4, 4, 96)\n",
      "\n",
      "Length of the frequency array (holds at which the dPLI is calculated): 96\n",
      "\n",
      "The dPLI output:\n",
      " [[[0.5 0.5 0.5 ... 0.5 0.5 0.5]\n",
      "  [1.  1.  1.  ... 1.  1.  1. ]\n",
      "  [1.  0.  0.  ... 0.  1.  1. ]\n",
      "  [1.  1.  1.  ... 1.  1.  1. ]]\n",
      "\n",
      " [[0.  0.  0.  ... 0.  0.  0. ]\n",
      "  [0.5 0.5 0.5 ... 0.5 0.5 0.5]\n",
      "  [0.  0.  0.  ... 0.  1.  0. ]\n",
      "  [1.  1.  1.  ... 0.  1.  0. ]]\n",
      "\n",
      " [[0.  1.  1.  ... 1.  0.  0. ]\n",
      "  [1.  1.  1.  ... 1.  0.  1. ]\n",
      "  [0.5 0.5 0.5 ... 0.5 0.5 0.5]\n",
      "  [1.  1.  1.  ... 1.  1.  0. ]]\n",
      "\n",
      " [[0.  0.  0.  ... 0.  0.  0. ]\n",
      "  [0.  0.  0.  ... 1.  0.  1. ]\n",
      "  [0.  0.  0.  ... 0.  0.  1. ]\n",
      "  [0.5 0.5 0.5 ... 0.5 0.5 0.5]]]\n"
     ]
    }
   ],
   "execution_count": 23
  },
  {
   "metadata": {
    "ExecuteTime": {
     "end_time": "2024-05-07T08:26:53.653511Z",
     "start_time": "2024-05-07T08:26:53.648023Z"
    }
   },
   "cell_type": "code",
   "source": [
    "print(f'Mean dPLI for CG --> STR_R:  {np.average(dpli_test.get_data(output=\"dense\")[2,3,:])}')\n",
    "print(f'Mean dPLI for STR_R --> CG:  {np.average(dpli_test.get_data(output=\"dense\")[3,2,:])}')"
   ],
   "id": "1bb37e2347f87bc9",
   "outputs": [
    {
     "name": "stdout",
     "output_type": "stream",
     "text": [
      "Mean dPLI for CG --> STR_R:  0.7604166666666666\n",
      "Mean dPLI for STR_R --> CG:  0.23958333333333334\n"
     ]
    }
   ],
   "execution_count": 24
  },
  {
   "metadata": {},
   "cell_type": "markdown",
   "source": [
    "We can, from these, observe that they are each others opposites, which makes sense, as we calculate the **directed** phase-lag index here. If one leads or lags the other, the score of the reverse is gonna be the opposite. Note; the dPLI ranges from 0 to 1.\n",
    "\n",
    "Now, how do we interpret this?\n",
    "\n",
    "The reference (first provided signal) is lagging the other signal if dPLI is between 0 and 0.5, and the reference signal is leading the other signal is the dPLI is between 0.5 and 1.0.\n",
    "\n",
    "So, the CG is leading the STR_R signal, or, the STR_R is lagging the CG signal."
   ],
   "id": "6468bd70482496f9"
  },
  {
   "metadata": {},
   "cell_type": "markdown",
   "source": "#### Weighted Phase-Lag-Index (wPLI)",
   "id": "529f36afd6c6d449"
  },
  {
   "metadata": {
    "ExecuteTime": {
     "end_time": "2024-05-07T08:27:37.134638Z",
     "start_time": "2024-05-07T08:27:37.108180Z"
    }
   },
   "cell_type": "code",
   "source": [
    "print(f'Bi-variate indexes used for pairwise connectivity calculations:\\n {indices}')\n",
    "\n",
    "# calculate dpli for one specific epoch\n",
    "wpli_test = spectral_connectivity_epochs(\n",
    "    epochs_39508[22], indices=indices, sfreq=epochs_39508.info['sfreq'], method=\"wpli\", fmin=5, fmax=100\n",
    ")\n",
    "\n",
    "# report some stuff\n",
    "print(f'\\nShape of the dpli output: {wpli_test.get_data(output=\"dense\").shape}')\n",
    "print(f'\\nLength of the frequency array (holds at which the dPLI is calculated): {len(wpli_test.freqs)}')\n",
    "print(f'\\nThe dPLI output:\\n {wpli_test.get_data(output=\"dense\")}')"
   ],
   "id": "1331211435a3a660",
   "outputs": [
    {
     "name": "stdout",
     "output_type": "stream",
     "text": [
      "Bi-variate indexes used for pairwise connectivity calculations:\n",
      " (array([0, 0, 0, 0, 1, 1, 1, 1, 2, 2, 2, 2, 3, 3, 3, 3]), array([0, 1, 2, 3, 0, 1, 2, 3, 0, 1, 2, 3, 0, 1, 2, 3]))\n",
      "\n",
      "Shape of the dpli output: (4, 4, 96)\n",
      "\n",
      "Length of the frequency array (holds at which the dPLI is calculated): 96\n",
      "\n",
      "The dPLI output:\n",
      " [[[0. 0. 0. ... 0. 0. 0.]\n",
      "  [1. 1. 1. ... 1. 1. 1.]\n",
      "  [1. 1. 1. ... 1. 1. 1.]\n",
      "  [1. 1. 1. ... 1. 1. 1.]]\n",
      "\n",
      " [[1. 1. 1. ... 1. 1. 1.]\n",
      "  [0. 0. 0. ... 0. 0. 0.]\n",
      "  [1. 1. 1. ... 1. 1. 1.]\n",
      "  [1. 1. 1. ... 1. 1. 1.]]\n",
      "\n",
      " [[1. 1. 1. ... 1. 1. 1.]\n",
      "  [1. 1. 1. ... 1. 1. 1.]\n",
      "  [0. 0. 0. ... 0. 0. 0.]\n",
      "  [1. 1. 1. ... 1. 1. 1.]]\n",
      "\n",
      " [[1. 1. 1. ... 1. 1. 1.]\n",
      "  [1. 1. 1. ... 1. 1. 1.]\n",
      "  [1. 1. 1. ... 1. 1. 1.]\n",
      "  [0. 0. 0. ... 0. 0. 0.]]]\n"
     ]
    }
   ],
   "execution_count": 25
  },
  {
   "metadata": {
    "ExecuteTime": {
     "end_time": "2024-05-07T08:27:38.289663Z",
     "start_time": "2024-05-07T08:27:38.276297Z"
    }
   },
   "cell_type": "code",
   "source": "wpli_test.get_data(output=\"dense\")[2,3,:]",
   "id": "3fe25f5197232c97",
   "outputs": [
    {
     "data": {
      "text/plain": [
       "array([1., 1., 1., 1., 1., 1., 1., 1., 1., 1., 1., 1., 1., 1., 1., 1., 1.,\n",
       "       1., 1., 1., 1., 1., 1., 1., 1., 1., 1., 1., 1., 1., 1., 1., 1., 1.,\n",
       "       1., 1., 1., 1., 1., 1., 1., 1., 1., 1., 1., 1., 1., 1., 1., 1., 1.,\n",
       "       1., 1., 1., 1., 1., 1., 1., 1., 1., 1., 1., 1., 1., 1., 1., 1., 1.,\n",
       "       1., 1., 1., 1., 1., 1., 1., 1., 1., 1., 1., 1., 1., 1., 1., 1., 1.,\n",
       "       1., 1., 1., 1., 1., 1., 1., 1., 1., 1., 1.])"
      ]
     },
     "execution_count": 26,
     "metadata": {},
     "output_type": "execute_result"
    }
   ],
   "execution_count": 26
  },
  {
   "metadata": {
    "ExecuteTime": {
     "end_time": "2024-05-07T08:27:39.341881Z",
     "start_time": "2024-05-07T08:27:39.334341Z"
    }
   },
   "cell_type": "code",
   "source": [
    "print(f'Mean wPLI for CG --> STR_R:  {np.average(wpli_test.get_data(output=\"dense\")[2,3,:])}')\n",
    "print(f'Mean wPLI for STR_R --> CG:  {np.average(wpli_test.get_data(output=\"dense\")[3,2,:])}')"
   ],
   "id": "a4525acfb029f742",
   "outputs": [
    {
     "name": "stdout",
     "output_type": "stream",
     "text": [
      "Mean wPLI for CG --> STR_R:  1.0\n",
      "Mean wPLI for STR_R --> CG:  1.0\n"
     ]
    }
   ],
   "execution_count": 27
  },
  {
   "metadata": {},
   "cell_type": "markdown",
   "source": "The wPLI ranges from 0 to 1, where 0 means no phase synchronization, and 1.0 means perfect phase synchronization, which refers to a situation where two signals exhibit a constant and consistent phase relationship across time. In this specific epoch, that wPLI tells us that that is the case.",
   "id": "5b1ba84712e4b74d"
  },
  {
   "metadata": {},
   "cell_type": "markdown",
   "source": "### Granger Causality exploration",
   "id": "e0aa1546f2f5930d"
  },
  {
   "metadata": {
    "ExecuteTime": {
     "end_time": "2024-04-29T11:51:34.622080Z",
     "start_time": "2024-04-29T11:51:34.616348Z"
    }
   },
   "cell_type": "code",
   "source": [
    "# parietal sensors\n",
    "signals_a = [\n",
    "    idx\n",
    "    for idx, ch_info in enumerate(epochs_39508.info[\"chs\"])\n",
    "    if ch_info[\"ch_name\"] == \"OFC_L\"\n",
    "]\n",
    "# occipital sensors\n",
    "signals_b = [\n",
    "    idx\n",
    "    for idx, ch_info in enumerate(epochs_39508.info[\"chs\"])\n",
    "    if ch_info[\"ch_name\"] == \"CG\"\n",
    "]\n",
    "\n",
    "indices_ab = (np.array([signals_a]), np.array([signals_b]))  # A => B\n",
    "indices_ba = (np.array([signals_b]), np.array([signals_a]))  # B => A\n",
    "print(indices_ab)\n",
    "print(indices_ba)"
   ],
   "id": "d2b0466cc1be9b95",
   "outputs": [
    {
     "name": "stdout",
     "output_type": "stream",
     "text": [
      "(array([[1]]), array([[2]]))\n",
      "(array([[2]]), array([[1]]))\n"
     ]
    }
   ],
   "execution_count": 24
  },
  {
   "metadata": {
    "ExecuteTime": {
     "end_time": "2024-04-29T11:51:35.186234Z",
     "start_time": "2024-04-29T11:51:35.112492Z"
    }
   },
   "cell_type": "code",
   "source": [
    "gc_ab = spectral_connectivity_epochs(\n",
    "    epochs_39508[22],\n",
    "    method=[\"gc\"],\n",
    "    indices=indices_ab,\n",
    "    fmin=5,\n",
    "    fmax=25,\n",
    "    gc_n_lags=20,\n",
    ")  # A => B\n",
    "gc_ba = spectral_connectivity_epochs(\n",
    "    epochs_39508[22],\n",
    "    method=[\"gc\"],\n",
    "    indices=indices_ba,\n",
    "    fmin=5,\n",
    "    fmax=25,\n",
    "    gc_n_lags=20,\n",
    ")  # B => A\n",
    "freqs = gc_ab.freqs\n",
    "print(gc_ab.shape)\n",
    "print(gc_ab)"
   ],
   "id": "8659f24acdf7c0ea",
   "outputs": [
    {
     "name": "stdout",
     "output_type": "stream",
     "text": [
      "Connectivity computation...\n",
      "    computing connectivity for 1 connections\n",
      "    using t=0.000s..0.998s for estimation (500 points)\n",
      "    frequencies: 5.0Hz..25.0Hz (21 points)\n",
      "Estimated data ranks:\n",
      "    connection 1 - seeds (1); targets (1)\n",
      "    Using multitaper spectrum estimation with 7 DPSS windows\n",
      "    the following metrics will be computed: GC\n",
      "    computing cross-spectral density for epoch 1\n",
      "Computing GC for connection 1 of 1\n"
     ]
    },
    {
     "data": {
      "text/plain": [
       "  0%|          | frequency blocks : 0/21 [00:00<?,       ?it/s]"
      ],
      "application/vnd.jupyter.widget-view+json": {
       "version_major": 2,
       "version_minor": 0,
       "model_id": "5272e78ad9c240ebbe0cb10e1724cc90"
      }
     },
     "metadata": {},
     "output_type": "display_data"
    },
    {
     "name": "stdout",
     "output_type": "stream",
     "text": [
      "[Connectivity computation done]\n",
      "Connectivity computation...\n",
      "    computing connectivity for 1 connections\n",
      "    using t=0.000s..0.998s for estimation (500 points)\n",
      "    frequencies: 5.0Hz..25.0Hz (21 points)\n",
      "Estimated data ranks:\n",
      "    connection 1 - seeds (1); targets (1)\n",
      "    Using multitaper spectrum estimation with 7 DPSS windows\n",
      "    the following metrics will be computed: GC\n",
      "    computing cross-spectral density for epoch 1\n",
      "Computing GC for connection 1 of 1\n"
     ]
    },
    {
     "data": {
      "text/plain": [
       "  0%|          | frequency blocks : 0/21 [00:00<?,       ?it/s]"
      ],
      "application/vnd.jupyter.widget-view+json": {
       "version_major": 2,
       "version_minor": 0,
       "model_id": "3dfcaa99d2f943baa9688690c485214a"
      }
     },
     "metadata": {},
     "output_type": "display_data"
    },
    {
     "name": "stdout",
     "output_type": "stream",
     "text": [
      "[Connectivity computation done]\n",
      "(1, 21)\n",
      "<SpectralConnectivity | freq : [5.000000, 25.000000], , nave : 1, nodes, n_estimated : 4, 1, ~19 kB>\n"
     ]
    }
   ],
   "execution_count": 25
  },
  {
   "metadata": {
    "ExecuteTime": {
     "end_time": "2024-04-29T11:51:35.618138Z",
     "start_time": "2024-04-29T11:51:35.500424Z"
    }
   },
   "cell_type": "code",
   "source": [
    "fig, axis = plt.subplots(1, 1)\n",
    "axis.plot(freqs, gc_ab.get_data()[0], linewidth=2)\n",
    "axis.set_xlabel(\"Frequency (Hz)\")\n",
    "axis.set_ylabel(\"Connectivity (A.U.)\")\n",
    "fig.suptitle(\"Granger Causality: [OFC_L => CG]\")\n",
    "plt.show()"
   ],
   "id": "db2d4e5044efafe7",
   "outputs": [
    {
     "data": {
      "text/plain": [
       "<Figure size 640x480 with 1 Axes>"
      ],
      "image/png": "[encoded data removed]"
     },
     "metadata": {},
     "output_type": "display_data"
    }
   ],
   "execution_count": 26
  },
  {
   "metadata": {
    "ExecuteTime": {
     "end_time": "2024-04-29T11:51:35.897466Z",
     "start_time": "2024-04-29T11:51:35.780386Z"
    }
   },
   "cell_type": "code",
   "source": [
    "fig, axis = plt.subplots(1, 1)\n",
    "axis.plot(freqs, gc_ba.get_data()[0], linewidth=2)\n",
    "axis.set_xlabel(\"Frequency (Hz)\")\n",
    "axis.set_ylabel(\"Connectivity (A.U.)\")\n",
    "fig.suptitle(\"Granger Causality: [CG => OFC_L]\")\n",
    "plt.show()"
   ],
   "id": "e32f473327019296",
   "outputs": [
    {
     "data": {
      "text/plain": [
       "<Figure size 640x480 with 1 Axes>"
      ],
      "image/png": "[encoded data removed]"
     },
     "metadata": {},
     "output_type": "display_data"
    }
   ],
   "execution_count": 27
  },
  {
   "metadata": {
    "ExecuteTime": {
     "end_time": "2024-04-29T11:51:36.196591Z",
     "start_time": "2024-04-29T11:51:36.050770Z"
    }
   },
   "cell_type": "code",
   "source": [
    "net_gc = gc_ab.get_data() - gc_ba.get_data()  # [A => B] - [B => A]\n",
    "\n",
    "fig, axis = plt.subplots(1, 1)\n",
    "axis.plot((freqs[0], freqs[-1]), (0, 0), linewidth=2, linestyle=\"--\", color=\"k\")\n",
    "axis.plot(freqs, net_gc[0], linewidth=2)\n",
    "axis.set_xlabel(\"Frequency (Hz)\")\n",
    "axis.set_ylabel(\"Connectivity (A.U.)\")\n",
    "fig.suptitle(\"Net Granger Causality: [OFC_L => CG] - [CG => OFC_L]\")"
   ],
   "id": "c68e63b155b56bec",
   "outputs": [
    {
     "data": {
      "text/plain": [
       "Text(0.5, 0.98, 'Net Granger Causality: [OFC_L => CG] - [CG => OFC_L]')"
      ]
     },
     "execution_count": 28,
     "metadata": {},
     "output_type": "execute_result"
    },
    {
     "data": {
      "text/plain": [
       "<Figure size 640x480 with 1 Axes>"
      ],
      "image/png": "[encoded data removed]"
     },
     "metadata": {},
     "output_type": "display_data"
    }
   ],
   "execution_count": 28
  },
  {
   "metadata": {},
   "cell_type": "markdown",
   "source": [
    "By subtracting the flow of information from CG to OFC_L from the flow of information of the reverse we get the net granger causality.\n",
    "\n",
    "This tells us, that for this specific epoch, there's more information flow from the Cingulate Cortex to the left Orbitalfrontal Cortex for most of the frequencies."
   ],
   "id": "71499e7449343ec8"
  },
  {
   "metadata": {},
   "cell_type": "markdown",
   "source": [
    "\n",
    "#### Time-traversed Granger Causality"
   ],
   "id": "3b75b8c273b86f48"
  },
  {
   "metadata": {
    "ExecuteTime": {
     "end_time": "2024-04-29T11:51:36.857268Z",
     "start_time": "2024-04-29T11:51:36.732466Z"
    }
   },
   "cell_type": "code",
   "source": [
    "# compute GC on time-reversed signals\n",
    "gc_tr_ab = spectral_connectivity_epochs(\n",
    "    epochs_39508[22],\n",
    "    method=[\"gc_tr\"],\n",
    "    indices=indices_ab,\n",
    "    fmin=5,\n",
    "    fmax=25,\n",
    "    gc_n_lags=20,\n",
    ")  # TR[A => B]\n",
    "gc_tr_ba = spectral_connectivity_epochs(\n",
    "    epochs_39508[22],\n",
    "    method=[\"gc_tr\"],\n",
    "    indices=indices_ba,\n",
    "    fmin=5,\n",
    "    fmax=25,\n",
    "    gc_n_lags=20,\n",
    ")  # TR[B => A]\n",
    "\n",
    "# compute net GC on time-reversed signals (TR[A => B] - TR[B => A])\n",
    "net_gc_tr = gc_tr_ab.get_data() - gc_tr_ba.get_data()\n",
    "\n",
    "# compute TRGC\n",
    "trgc = net_gc - net_gc_tr"
   ],
   "id": "c6c82751afb4bb5c",
   "outputs": [
    {
     "name": "stdout",
     "output_type": "stream",
     "text": [
      "Connectivity computation...\n",
      "    computing connectivity for 1 connections\n",
      "    using t=0.000s..0.998s for estimation (500 points)\n",
      "    frequencies: 5.0Hz..25.0Hz (21 points)\n",
      "Estimated data ranks:\n",
      "    connection 1 - seeds (1); targets (1)\n",
      "    Using multitaper spectrum estimation with 7 DPSS windows\n",
      "    the following metrics will be computed: GC time-reversed\n",
      "    computing cross-spectral density for epoch 1\n",
      "Computing GC time-reversed for connection 1 of 1\n"
     ]
    },
    {
     "data": {
      "text/plain": [
       "  0%|          | frequency blocks : 0/21 [00:00<?,       ?it/s]"
      ],
      "application/vnd.jupyter.widget-view+json": {
       "version_major": 2,
       "version_minor": 0,
       "model_id": "e0eff6c4f6c44284b987f6737ba346f7"
      }
     },
     "metadata": {},
     "output_type": "display_data"
    },
    {
     "name": "stdout",
     "output_type": "stream",
     "text": [
      "[Connectivity computation done]\n",
      "Connectivity computation...\n",
      "    computing connectivity for 1 connections\n",
      "    using t=0.000s..0.998s for estimation (500 points)\n",
      "    frequencies: 5.0Hz..25.0Hz (21 points)\n",
      "Estimated data ranks:\n",
      "    connection 1 - seeds (1); targets (1)\n",
      "    Using multitaper spectrum estimation with 7 DPSS windows\n",
      "    the following metrics will be computed: GC time-reversed\n",
      "    computing cross-spectral density for epoch 1\n",
      "Computing GC time-reversed for connection 1 of 1\n"
     ]
    },
    {
     "data": {
      "text/plain": [
       "  0%|          | frequency blocks : 0/21 [00:00<?,       ?it/s]"
      ],
      "application/vnd.jupyter.widget-view+json": {
       "version_major": 2,
       "version_minor": 0,
       "model_id": "9fa3d582f7e8465cb695fe190dcfd1fe"
      }
     },
     "metadata": {},
     "output_type": "display_data"
    },
    {
     "name": "stdout",
     "output_type": "stream",
     "text": [
      "[Connectivity computation done]\n"
     ]
    }
   ],
   "execution_count": 29
  },
  {
   "metadata": {},
   "cell_type": "markdown",
   "source": "Plot the net time-traversed GC",
   "id": "72481f2819e61183"
  },
  {
   "metadata": {
    "ExecuteTime": {
     "end_time": "2024-04-29T11:51:37.997113Z",
     "start_time": "2024-04-29T11:51:37.844836Z"
    }
   },
   "cell_type": "code",
   "source": [
    "fig, axis = plt.subplots(1, 1)\n",
    "axis.plot((freqs[0], freqs[-1]), (0, 0), linewidth=2, linestyle=\"--\", color=\"k\")\n",
    "axis.plot(freqs, trgc[0], linewidth=2)\n",
    "axis.set_xlabel(\"Frequency (Hz)\")\n",
    "axis.set_ylabel(\"Connectivity (A.U.)\")\n",
    "fig.suptitle(\"TRGC: net[OFC_L => CG] - net time-reversed[CG => OFC_L]\")"
   ],
   "id": "f17c68bedddb058b",
   "outputs": [
    {
     "data": {
      "text/plain": [
       "Text(0.5, 0.98, 'TRGC: net[OFC_L => CG] - net time-reversed[CG => OFC_L]')"
      ]
     },
     "execution_count": 30,
     "metadata": {},
     "output_type": "execute_result"
    },
    {
     "data": {
      "text/plain": [
       "<Figure size 640x480 with 1 Axes>"
      ],
      "image/png": "[encoded data removed]"
     },
     "metadata": {},
     "output_type": "display_data"
    }
   ],
   "execution_count": 30
  },
  {
   "metadata": {},
   "cell_type": "markdown",
   "source": "Let's compute the net time-reversed granger causality for the frequencies 0 through 100 Hz.",
   "id": "ea19fa96f0c5735d"
  },
  {
   "metadata": {
    "ExecuteTime": {
     "end_time": "2024-04-29T11:51:42.441835Z",
     "start_time": "2024-04-29T11:51:41.960422Z"
    }
   },
   "cell_type": "code",
   "source": [
    "gc_ab = spectral_connectivity_epochs(\n",
    "    epochs_39508[22],\n",
    "    method=[\"gc\"],\n",
    "    indices=indices_ab,\n",
    "    fmin=1,\n",
    "    fmax=100,\n",
    "    gc_n_lags=20,\n",
    ")  # A => B\n",
    "gc_ba = spectral_connectivity_epochs(\n",
    "    epochs_39508[22],\n",
    "    method=[\"gc\"],\n",
    "    indices=indices_ba,\n",
    "    fmin=1,\n",
    "    fmax=100,\n",
    "    gc_n_lags=20,\n",
    ")  # B => A\n",
    "freqs = gc_ab.freqs\n",
    "net_gc = gc_ab.get_data() - gc_ba.get_data()  # [A => B] - [B => A]\n",
    "# compute GC on time-reversed signals\n",
    "gc_tr_ab = spectral_connectivity_epochs(\n",
    "    epochs_39508[22],\n",
    "    method=[\"gc_tr\"],\n",
    "    indices=indices_ab,\n",
    "    fmin=1,\n",
    "    fmax=100,\n",
    "    gc_n_lags=20,\n",
    ")  # TR[A => B]\n",
    "gc_tr_ba = spectral_connectivity_epochs(\n",
    "    epochs_39508[22],\n",
    "    method=[\"gc_tr\"],\n",
    "    indices=indices_ba,\n",
    "    fmin=1,\n",
    "    fmax=100,\n",
    "    gc_n_lags=20,\n",
    ")  # TR[B => A]\n",
    "\n",
    "# compute net GC on time-reversed signals (TR[A => B] - TR[B => A])\n",
    "net_gc_tr = gc_tr_ab.get_data() - gc_tr_ba.get_data()\n",
    "\n",
    "# compute TRGC\n",
    "trgc = net_gc - net_gc_tr\n",
    "\n",
    "fig, axis = plt.subplots(1, 1)\n",
    "axis.plot((freqs[0], freqs[-1]), (0, 0), linewidth=2, linestyle=\"--\", color=\"k\")\n",
    "axis.plot(freqs, trgc[0], linewidth=2)\n",
    "for band, (start, end) in freq_bands_eeg.items():\n",
    "    axis.axvline(x=start, color='gray', linestyle='--', alpha=0.3)\n",
    "    axis.axvline(x=end, color='gray', linestyle='--', alpha=0.3)\n",
    "    axis.text((start + end) / 2, axis.get_ylim()[1] * 1.01, band, horizontalalignment='center', verticalalignment='top', fontsize=8, color='black')\n",
    "\n",
    "axis.set_xlabel(\"Frequency (Hz)\")\n",
    "axis.set_ylabel(\"Connectivity (A.U.)\")\n",
    "fig.suptitle(f\"TRGC: net[OFC_L => CG] - net time-reversed[CG => OFC_L]\")\n",
    "plt.show()"
   ],
   "id": "1e07f22e1fc8d06b",
   "outputs": [
    {
     "name": "stdout",
     "output_type": "stream",
     "text": [
      "Connectivity computation...\n",
      "    computing connectivity for 1 connections\n",
      "    using t=0.000s..0.998s for estimation (500 points)\n",
      "    frequencies: 1.0Hz..100.0Hz (100 points)\n",
      "Estimated data ranks:\n",
      "    connection 1 - seeds (1); targets (1)\n",
      "    Using multitaper spectrum estimation with 7 DPSS windows\n",
      "    the following metrics will be computed: GC\n",
      "    computing cross-spectral density for epoch 1\n",
      "Computing GC for connection 1 of 1\n"
     ]
    },
    {
     "name": "stderr",
     "output_type": "stream",
     "text": [
      "C:\\Users\\Olle de Jong\\AppData\\Local\\Temp\\ipykernel_2208\\1471392812.py:1: RuntimeWarning: fmin=1.000 Hz corresponds to 1.000 < 5 cycles based on the epoch length 1.000 sec, need at least 5.000 sec epochs or fmin=5.000. Spectrum estimate will be unreliable.\n",
      "  gc_ab = spectral_connectivity_epochs(\n"
     ]
    },
    {
     "data": {
      "text/plain": [
       "  0%|          | frequency blocks : 0/100 [00:00<?,       ?it/s]"
      ],
      "application/vnd.jupyter.widget-view+json": {
       "version_major": 2,
       "version_minor": 0,
       "model_id": "f76fb309057e41a6958ddcf6d8b1b401"
      }
     },
     "metadata": {},
     "output_type": "display_data"
    },
    {
     "name": "stdout",
     "output_type": "stream",
     "text": [
      "[Connectivity computation done]\n",
      "Connectivity computation...\n",
      "    computing connectivity for 1 connections\n",
      "    using t=0.000s..0.998s for estimation (500 points)\n",
      "    frequencies: 1.0Hz..100.0Hz (100 points)\n",
      "Estimated data ranks:\n",
      "    connection 1 - seeds (1); targets (1)\n",
      "    Using multitaper spectrum estimation with 7 DPSS windows\n",
      "    the following metrics will be computed: GC\n",
      "    computing cross-spectral density for epoch 1\n",
      "Computing GC for connection 1 of 1\n"
     ]
    },
    {
     "name": "stderr",
     "output_type": "stream",
     "text": [
      "C:\\Users\\Olle de Jong\\AppData\\Local\\Temp\\ipykernel_2208\\1471392812.py:9: RuntimeWarning: fmin=1.000 Hz corresponds to 1.000 < 5 cycles based on the epoch length 1.000 sec, need at least 5.000 sec epochs or fmin=5.000. Spectrum estimate will be unreliable.\n",
      "  gc_ba = spectral_connectivity_epochs(\n"
     ]
    },
    {
     "data": {
      "text/plain": [
       "  0%|          | frequency blocks : 0/100 [00:00<?,       ?it/s]"
      ],
      "application/vnd.jupyter.widget-view+json": {
       "version_major": 2,
       "version_minor": 0,
       "model_id": "db9cbf1337a04317a61d7ebc81ed00a0"
      }
     },
     "metadata": {},
     "output_type": "display_data"
    },
    {
     "name": "stdout",
     "output_type": "stream",
     "text": [
      "[Connectivity computation done]\n",
      "Connectivity computation...\n",
      "    computing connectivity for 1 connections\n",
      "    using t=0.000s..0.998s for estimation (500 points)\n",
      "    frequencies: 1.0Hz..100.0Hz (100 points)\n",
      "Estimated data ranks:\n",
      "    connection 1 - seeds (1); targets (1)\n",
      "    Using multitaper spectrum estimation with 7 DPSS windows\n",
      "    the following metrics will be computed: GC time-reversed\n",
      "    computing cross-spectral density for epoch 1\n",
      "Computing GC time-reversed for connection 1 of 1\n"
     ]
    },
    {
     "name": "stderr",
     "output_type": "stream",
     "text": [
      "C:\\Users\\Olle de Jong\\AppData\\Local\\Temp\\ipykernel_2208\\1471392812.py:20: RuntimeWarning: fmin=1.000 Hz corresponds to 1.000 < 5 cycles based on the epoch length 1.000 sec, need at least 5.000 sec epochs or fmin=5.000. Spectrum estimate will be unreliable.\n",
      "  gc_tr_ab = spectral_connectivity_epochs(\n"
     ]
    },
    {
     "data": {
      "text/plain": [
       "  0%|          | frequency blocks : 0/100 [00:00<?,       ?it/s]"
      ],
      "application/vnd.jupyter.widget-view+json": {
       "version_major": 2,
       "version_minor": 0,
       "model_id": "da5c801b705d45558539ac5441397924"
      }
     },
     "metadata": {},
     "output_type": "display_data"
    },
    {
     "name": "stdout",
     "output_type": "stream",
     "text": [
      "[Connectivity computation done]\n",
      "Connectivity computation...\n",
      "    computing connectivity for 1 connections\n",
      "    using t=0.000s..0.998s for estimation (500 points)\n",
      "    frequencies: 1.0Hz..100.0Hz (100 points)\n",
      "Estimated data ranks:\n",
      "    connection 1 - seeds (1); targets (1)\n",
      "    Using multitaper spectrum estimation with 7 DPSS windows\n",
      "    the following metrics will be computed: GC time-reversed\n",
      "    computing cross-spectral density for epoch 1\n",
      "Computing GC time-reversed for connection 1 of 1\n"
     ]
    },
    {
     "name": "stderr",
     "output_type": "stream",
     "text": [
      "C:\\Users\\Olle de Jong\\AppData\\Local\\Temp\\ipykernel_2208\\1471392812.py:28: RuntimeWarning: fmin=1.000 Hz corresponds to 1.000 < 5 cycles based on the epoch length 1.000 sec, need at least 5.000 sec epochs or fmin=5.000. Spectrum estimate will be unreliable.\n",
      "  gc_tr_ba = spectral_connectivity_epochs(\n"
     ]
    },
    {
     "data": {
      "text/plain": [
       "  0%|          | frequency blocks : 0/100 [00:00<?,       ?it/s]"
      ],
      "application/vnd.jupyter.widget-view+json": {
       "version_major": 2,
       "version_minor": 0,
       "model_id": "0ad9126e90b54ac5b989ec3bb293f503"
      }
     },
     "metadata": {},
     "output_type": "display_data"
    },
    {
     "name": "stdout",
     "output_type": "stream",
     "text": [
      "[Connectivity computation done]\n"
     ]
    },
    {
     "data": {
      "text/plain": [
       "<Figure size 640x480 with 1 Axes>"
      ],
      "image/png": "[encoded data removed]"
     },
     "metadata": {},
     "output_type": "display_data"
    }
   ],
   "execution_count": 31
  },
  {
   "metadata": {},
   "cell_type": "markdown",
   "source": "Remember that positive values of connectivity mean that there's more information flow from the CG to the OFC_L.",
   "id": "2d86ea86ddef608b"
  },
  {
   "metadata": {},
   "cell_type": "markdown",
   "source": [
    "## Connectivity for social versus non-social cup interaction epochs\n",
    "\n",
    "### Coherence (coh)"
   ],
   "id": "c782d954ce61971d"
  },
  {
   "metadata": {
    "ExecuteTime": {
     "end_time": "2024-05-07T08:28:49.975005Z",
     "start_time": "2024-05-07T08:28:37.259779Z"
    }
   },
   "cell_type": "code",
   "source": [
    "coh_novel = connectivity_df(all_subject_epochs, 'novel_cup', \"coh\")\n",
    "coh_familiar = connectivity_df(all_subject_epochs, 'familiar_cup', \"coh\")\n",
    "coh_familiar.head()"
   ],
   "id": "86802d2e7793ffc5",
   "outputs": [
    {
     "name": "stdout",
     "output_type": "stream",
     "text": [
      "Done computing coh connectivity.\n",
      "Done computing coh connectivity.\n"
     ]
    },
    {
     "data": {
      "text/plain": [
       "        con  node1  node2      band  subject_id genotype\n",
       "0  0.991864  OFC_R     CG  $\\delta$       80625  DRD2-KO\n",
       "1  0.982099  OFC_R  STR_R  $\\delta$       80625  DRD2-KO\n",
       "2  0.976447  OFC_R   S1_L  $\\delta$       80625  DRD2-KO\n",
       "3  0.984605  OFC_R   S1_R  $\\delta$       80625  DRD2-KO\n",
       "4  0.969400  OFC_R   V1_R  $\\delta$       80625  DRD2-KO"
      ],
      "text/html": [
       "<div>\n",
       "<style scoped>\n",
       "    .dataframe tbody tr th:only-of-type {\n",
       "        vertical-align: middle;\n",
       "    }\n",
       "\n",
       "    .dataframe tbody tr th {\n",
       "        vertical-align: top;\n",
       "    }\n",
       "\n",
       "    .dataframe thead th {\n",
       "        text-align: right;\n",
       "    }\n",
       "</style>\n",
       "<table border=\"1\" class=\"dataframe\">\n",
       "  <thead>\n",
       "    <tr style=\"text-align: right;\">\n",
       "      <th></th>\n",
       "      <th>con</th>\n",
       "      <th>node1</th>\n",
       "      <th>node2</th>\n",
       "      <th>band</th>\n",
       "      <th>subject_id</th>\n",
       "      <th>genotype</th>\n",
       "    </tr>\n",
       "  </thead>\n",
       "  <tbody>\n",
       "    <tr>\n",
       "      <th>0</th>\n",
       "      <td>0.991864</td>\n",
       "      <td>OFC_R</td>\n",
       "      <td>CG</td>\n",
       "      <td>$\\delta$</td>\n",
       "      <td>80625</td>\n",
       "      <td>DRD2-KO</td>\n",
       "    </tr>\n",
       "    <tr>\n",
       "      <th>1</th>\n",
       "      <td>0.982099</td>\n",
       "      <td>OFC_R</td>\n",
       "      <td>STR_R</td>\n",
       "      <td>$\\delta$</td>\n",
       "      <td>80625</td>\n",
       "      <td>DRD2-KO</td>\n",
       "    </tr>\n",
       "    <tr>\n",
       "      <th>2</th>\n",
       "      <td>0.976447</td>\n",
       "      <td>OFC_R</td>\n",
       "      <td>S1_L</td>\n",
       "      <td>$\\delta$</td>\n",
       "      <td>80625</td>\n",
       "      <td>DRD2-KO</td>\n",
       "    </tr>\n",
       "    <tr>\n",
       "      <th>3</th>\n",
       "      <td>0.984605</td>\n",
       "      <td>OFC_R</td>\n",
       "      <td>S1_R</td>\n",
       "      <td>$\\delta$</td>\n",
       "      <td>80625</td>\n",
       "      <td>DRD2-KO</td>\n",
       "    </tr>\n",
       "    <tr>\n",
       "      <th>4</th>\n",
       "      <td>0.969400</td>\n",
       "      <td>OFC_R</td>\n",
       "      <td>V1_R</td>\n",
       "      <td>$\\delta$</td>\n",
       "      <td>80625</td>\n",
       "      <td>DRD2-KO</td>\n",
       "    </tr>\n",
       "  </tbody>\n",
       "</table>\n",
       "</div>"
      ]
     },
     "execution_count": 30,
     "metadata": {},
     "output_type": "execute_result"
    }
   ],
   "execution_count": 30
  },
  {
   "metadata": {
    "ExecuteTime": {
     "end_time": "2024-05-07T08:29:43.354320Z",
     "start_time": "2024-05-07T08:29:15.360855Z"
    }
   },
   "cell_type": "code",
   "source": [
    "generate_grid_plot_wt_vs_ko(coh_novel, 'novel_cup', 'coh')\n",
    "generate_grid_plot_wt_vs_ko(coh_familiar, 'familiar_cup', 'coh')"
   ],
   "id": "aceb0856316bb279",
   "outputs": [],
   "execution_count": 31
  },
  {
   "metadata": {
    "ExecuteTime": {
     "end_time": "2024-05-07T08:30:00.551715Z",
     "start_time": "2024-05-07T08:29:43.357517Z"
    }
   },
   "cell_type": "code",
   "source": [
    "generate_barplots(coh_novel, 'novel_cup', 'coh')\n",
    "generate_barplots(coh_familiar, 'familiar_cup', 'coh')"
   ],
   "id": "f43f55ee3d6f4e9c",
   "outputs": [],
   "execution_count": 32
  },
  {
   "metadata": {},
   "cell_type": "markdown",
   "source": "### Imaginary coherence (imcoh)",
   "id": "c70c69d3ec68606d"
  },
  {
   "metadata": {
    "ExecuteTime": {
     "end_time": "2024-05-07T08:30:32.722444Z",
     "start_time": "2024-05-07T08:30:14.353242Z"
    }
   },
   "cell_type": "code",
   "source": [
    "imcoh_novel = connectivity_df(all_subject_epochs, 'novel_cup', \"imcoh\")\n",
    "imcoh_familiar = connectivity_df(all_subject_epochs, 'familiar_cup', \"imcoh\")\n",
    "imcoh_familiar.head()"
   ],
   "id": "11f791ce5fffd865",
   "outputs": [
    {
     "name": "stdout",
     "output_type": "stream",
     "text": [
      "Done computing imcoh connectivity.\n",
      "Done computing imcoh connectivity.\n"
     ]
    },
    {
     "data": {
      "text/plain": [
       "        con  node1  node2      band  subject_id genotype\n",
       "0  0.006732  OFC_R     CG  $\\delta$       80625  DRD2-KO\n",
       "1  0.019234  OFC_R  STR_R  $\\delta$       80625  DRD2-KO\n",
       "2  0.008606  OFC_R   S1_L  $\\delta$       80625  DRD2-KO\n",
       "3 -0.000487  OFC_R   S1_R  $\\delta$       80625  DRD2-KO\n",
       "4 -0.000548  OFC_R   V1_R  $\\delta$       80625  DRD2-KO"
      ],
      "text/html": [
       "<div>\n",
       "<style scoped>\n",
       "    .dataframe tbody tr th:only-of-type {\n",
       "        vertical-align: middle;\n",
       "    }\n",
       "\n",
       "    .dataframe tbody tr th {\n",
       "        vertical-align: top;\n",
       "    }\n",
       "\n",
       "    .dataframe thead th {\n",
       "        text-align: right;\n",
       "    }\n",
       "</style>\n",
       "<table border=\"1\" class=\"dataframe\">\n",
       "  <thead>\n",
       "    <tr style=\"text-align: right;\">\n",
       "      <th></th>\n",
       "      <th>con</th>\n",
       "      <th>node1</th>\n",
       "      <th>node2</th>\n",
       "      <th>band</th>\n",
       "      <th>subject_id</th>\n",
       "      <th>genotype</th>\n",
       "    </tr>\n",
       "  </thead>\n",
       "  <tbody>\n",
       "    <tr>\n",
       "      <th>0</th>\n",
       "      <td>0.006732</td>\n",
       "      <td>OFC_R</td>\n",
       "      <td>CG</td>\n",
       "      <td>$\\delta$</td>\n",
       "      <td>80625</td>\n",
       "      <td>DRD2-KO</td>\n",
       "    </tr>\n",
       "    <tr>\n",
       "      <th>1</th>\n",
       "      <td>0.019234</td>\n",
       "      <td>OFC_R</td>\n",
       "      <td>STR_R</td>\n",
       "      <td>$\\delta$</td>\n",
       "      <td>80625</td>\n",
       "      <td>DRD2-KO</td>\n",
       "    </tr>\n",
       "    <tr>\n",
       "      <th>2</th>\n",
       "      <td>0.008606</td>\n",
       "      <td>OFC_R</td>\n",
       "      <td>S1_L</td>\n",
       "      <td>$\\delta$</td>\n",
       "      <td>80625</td>\n",
       "      <td>DRD2-KO</td>\n",
       "    </tr>\n",
       "    <tr>\n",
       "      <th>3</th>\n",
       "      <td>-0.000487</td>\n",
       "      <td>OFC_R</td>\n",
       "      <td>S1_R</td>\n",
       "      <td>$\\delta$</td>\n",
       "      <td>80625</td>\n",
       "      <td>DRD2-KO</td>\n",
       "    </tr>\n",
       "    <tr>\n",
       "      <th>4</th>\n",
       "      <td>-0.000548</td>\n",
       "      <td>OFC_R</td>\n",
       "      <td>V1_R</td>\n",
       "      <td>$\\delta$</td>\n",
       "      <td>80625</td>\n",
       "      <td>DRD2-KO</td>\n",
       "    </tr>\n",
       "  </tbody>\n",
       "</table>\n",
       "</div>"
      ]
     },
     "execution_count": 33,
     "metadata": {},
     "output_type": "execute_result"
    }
   ],
   "execution_count": 33
  },
  {
   "metadata": {
    "ExecuteTime": {
     "end_time": "2024-05-07T08:31:00.462908Z",
     "start_time": "2024-05-07T08:30:32.730413Z"
    }
   },
   "cell_type": "code",
   "source": [
    "generate_grid_plot_wt_vs_ko(imcoh_novel, 'novel_cup', 'imcoh')\n",
    "generate_grid_plot_wt_vs_ko(imcoh_familiar, 'familiar_cup', 'imcoh')"
   ],
   "id": "fad0d43e90a699c5",
   "outputs": [],
   "execution_count": 34
  },
  {
   "metadata": {
    "ExecuteTime": {
     "end_time": "2024-05-07T08:31:17.281621Z",
     "start_time": "2024-05-07T08:31:00.466957Z"
    }
   },
   "cell_type": "code",
   "source": [
    "generate_barplots(imcoh_novel, 'novel_cup', 'imcoh')\n",
    "generate_barplots(imcoh_familiar, 'familiar_cup', 'imcoh')"
   ],
   "id": "4e4d84619539fd65",
   "outputs": [],
   "execution_count": 35
  },
  {
   "metadata": {},
   "cell_type": "markdown",
   "source": "### Corrected imaginary Phase Locking Value (ciPLV)",
   "id": "d28e4a30cc577fa7"
  },
  {
   "metadata": {
    "ExecuteTime": {
     "end_time": "2024-05-07T08:31:29.526989Z",
     "start_time": "2024-05-07T08:31:17.287211Z"
    }
   },
   "cell_type": "code",
   "source": [
    "ciplv_novel = connectivity_df(all_subject_epochs, 'novel_cup', \"ciplv\")\n",
    "ciplv_familiar = connectivity_df(all_subject_epochs, 'familiar_cup', \"ciplv\")\n",
    "ciplv_familiar.head()"
   ],
   "id": "849c7bffe4003eb",
   "outputs": [
    {
     "name": "stdout",
     "output_type": "stream",
     "text": [
      "Done computing ciplv connectivity.\n",
      "Done computing ciplv connectivity.\n"
     ]
    },
    {
     "data": {
      "text/plain": [
       "        con  node1  node2      band  subject_id genotype\n",
       "0  0.124690  OFC_R     CG  $\\delta$       80625  DRD2-KO\n",
       "1  0.576179  OFC_R  STR_R  $\\delta$       80625  DRD2-KO\n",
       "2  0.357055  OFC_R   S1_L  $\\delta$       80625  DRD2-KO\n",
       "3  0.124393  OFC_R   S1_R  $\\delta$       80625  DRD2-KO\n",
       "4  0.115991  OFC_R   V1_R  $\\delta$       80625  DRD2-KO"
      ],
      "text/html": [
       "<div>\n",
       "<style scoped>\n",
       "    .dataframe tbody tr th:only-of-type {\n",
       "        vertical-align: middle;\n",
       "    }\n",
       "\n",
       "    .dataframe tbody tr th {\n",
       "        vertical-align: top;\n",
       "    }\n",
       "\n",
       "    .dataframe thead th {\n",
       "        text-align: right;\n",
       "    }\n",
       "</style>\n",
       "<table border=\"1\" class=\"dataframe\">\n",
       "  <thead>\n",
       "    <tr style=\"text-align: right;\">\n",
       "      <th></th>\n",
       "      <th>con</th>\n",
       "      <th>node1</th>\n",
       "      <th>node2</th>\n",
       "      <th>band</th>\n",
       "      <th>subject_id</th>\n",
       "      <th>genotype</th>\n",
       "    </tr>\n",
       "  </thead>\n",
       "  <tbody>\n",
       "    <tr>\n",
       "      <th>0</th>\n",
       "      <td>0.124690</td>\n",
       "      <td>OFC_R</td>\n",
       "      <td>CG</td>\n",
       "      <td>$\\delta$</td>\n",
       "      <td>80625</td>\n",
       "      <td>DRD2-KO</td>\n",
       "    </tr>\n",
       "    <tr>\n",
       "      <th>1</th>\n",
       "      <td>0.576179</td>\n",
       "      <td>OFC_R</td>\n",
       "      <td>STR_R</td>\n",
       "      <td>$\\delta$</td>\n",
       "      <td>80625</td>\n",
       "      <td>DRD2-KO</td>\n",
       "    </tr>\n",
       "    <tr>\n",
       "      <th>2</th>\n",
       "      <td>0.357055</td>\n",
       "      <td>OFC_R</td>\n",
       "      <td>S1_L</td>\n",
       "      <td>$\\delta$</td>\n",
       "      <td>80625</td>\n",
       "      <td>DRD2-KO</td>\n",
       "    </tr>\n",
       "    <tr>\n",
       "      <th>3</th>\n",
       "      <td>0.124393</td>\n",
       "      <td>OFC_R</td>\n",
       "      <td>S1_R</td>\n",
       "      <td>$\\delta$</td>\n",
       "      <td>80625</td>\n",
       "      <td>DRD2-KO</td>\n",
       "    </tr>\n",
       "    <tr>\n",
       "      <th>4</th>\n",
       "      <td>0.115991</td>\n",
       "      <td>OFC_R</td>\n",
       "      <td>V1_R</td>\n",
       "      <td>$\\delta$</td>\n",
       "      <td>80625</td>\n",
       "      <td>DRD2-KO</td>\n",
       "    </tr>\n",
       "  </tbody>\n",
       "</table>\n",
       "</div>"
      ]
     },
     "execution_count": 36,
     "metadata": {},
     "output_type": "execute_result"
    }
   ],
   "execution_count": 36
  },
  {
   "metadata": {
    "ExecuteTime": {
     "end_time": "2024-05-07T08:31:58.971794Z",
     "start_time": "2024-05-07T08:31:29.530508Z"
    }
   },
   "cell_type": "code",
   "source": [
    "generate_grid_plot_wt_vs_ko(ciplv_novel, 'novel_cup', 'ciplv')\n",
    "generate_grid_plot_wt_vs_ko(ciplv_familiar, 'familiar_cup', 'ciplv')"
   ],
   "id": "84714e47f5de4694",
   "outputs": [],
   "execution_count": 37
  },
  {
   "metadata": {
    "ExecuteTime": {
     "end_time": "2024-05-07T08:32:19.923183Z",
     "start_time": "2024-05-07T08:31:58.981878Z"
    }
   },
   "cell_type": "code",
   "source": [
    "generate_barplots(ciplv_novel, 'novel_cup', 'ciplv')\n",
    "generate_barplots(ciplv_familiar, 'familiar_cup', 'ciplv')"
   ],
   "id": "aecd0e7688c96c2",
   "outputs": [],
   "execution_count": 38
  },
  {
   "metadata": {},
   "cell_type": "markdown",
   "source": "### Directed Phase Lag Index (dPLI)",
   "id": "8297af3e4a67d64d"
  },
  {
   "metadata": {
    "ExecuteTime": {
     "end_time": "2024-05-07T08:32:30.980994Z",
     "start_time": "2024-05-07T08:32:19.926175Z"
    }
   },
   "cell_type": "code",
   "source": [
    "dpli_novel = connectivity_df(all_subject_epochs, 'novel_cup', \"dpli\")\n",
    "dpli_familiar = connectivity_df(all_subject_epochs, 'familiar_cup', \"dpli\")\n",
    "dpli_familiar.head()"
   ],
   "id": "2dacab92b7364b75",
   "outputs": [
    {
     "name": "stdout",
     "output_type": "stream",
     "text": [
      "Done computing dpli connectivity.\n",
      "Done computing dpli connectivity.\n"
     ]
    },
    {
     "data": {
      "text/plain": [
       "        con  node1  node2      band  subject_id genotype\n",
       "0  0.514286  OFC_R     CG  $\\delta$       80625  DRD2-KO\n",
       "1  0.814286  OFC_R  STR_R  $\\delta$       80625  DRD2-KO\n",
       "2  0.657143  OFC_R   S1_L  $\\delta$       80625  DRD2-KO\n",
       "3  0.557143  OFC_R   S1_R  $\\delta$       80625  DRD2-KO\n",
       "4  0.542857  OFC_R   V1_R  $\\delta$       80625  DRD2-KO"
      ],
      "text/html": [
       "<div>\n",
       "<style scoped>\n",
       "    .dataframe tbody tr th:only-of-type {\n",
       "        vertical-align: middle;\n",
       "    }\n",
       "\n",
       "    .dataframe tbody tr th {\n",
       "        vertical-align: top;\n",
       "    }\n",
       "\n",
       "    .dataframe thead th {\n",
       "        text-align: right;\n",
       "    }\n",
       "</style>\n",
       "<table border=\"1\" class=\"dataframe\">\n",
       "  <thead>\n",
       "    <tr style=\"text-align: right;\">\n",
       "      <th></th>\n",
       "      <th>con</th>\n",
       "      <th>node1</th>\n",
       "      <th>node2</th>\n",
       "      <th>band</th>\n",
       "      <th>subject_id</th>\n",
       "      <th>genotype</th>\n",
       "    </tr>\n",
       "  </thead>\n",
       "  <tbody>\n",
       "    <tr>\n",
       "      <th>0</th>\n",
       "      <td>0.514286</td>\n",
       "      <td>OFC_R</td>\n",
       "      <td>CG</td>\n",
       "      <td>$\\delta$</td>\n",
       "      <td>80625</td>\n",
       "      <td>DRD2-KO</td>\n",
       "    </tr>\n",
       "    <tr>\n",
       "      <th>1</th>\n",
       "      <td>0.814286</td>\n",
       "      <td>OFC_R</td>\n",
       "      <td>STR_R</td>\n",
       "      <td>$\\delta$</td>\n",
       "      <td>80625</td>\n",
       "      <td>DRD2-KO</td>\n",
       "    </tr>\n",
       "    <tr>\n",
       "      <th>2</th>\n",
       "      <td>0.657143</td>\n",
       "      <td>OFC_R</td>\n",
       "      <td>S1_L</td>\n",
       "      <td>$\\delta$</td>\n",
       "      <td>80625</td>\n",
       "      <td>DRD2-KO</td>\n",
       "    </tr>\n",
       "    <tr>\n",
       "      <th>3</th>\n",
       "      <td>0.557143</td>\n",
       "      <td>OFC_R</td>\n",
       "      <td>S1_R</td>\n",
       "      <td>$\\delta$</td>\n",
       "      <td>80625</td>\n",
       "      <td>DRD2-KO</td>\n",
       "    </tr>\n",
       "    <tr>\n",
       "      <th>4</th>\n",
       "      <td>0.542857</td>\n",
       "      <td>OFC_R</td>\n",
       "      <td>V1_R</td>\n",
       "      <td>$\\delta$</td>\n",
       "      <td>80625</td>\n",
       "      <td>DRD2-KO</td>\n",
       "    </tr>\n",
       "  </tbody>\n",
       "</table>\n",
       "</div>"
      ]
     },
     "execution_count": 39,
     "metadata": {},
     "output_type": "execute_result"
    }
   ],
   "execution_count": 39
  },
  {
   "metadata": {
    "ExecuteTime": {
     "end_time": "2024-05-07T08:32:53.562231Z",
     "start_time": "2024-05-07T08:32:30.984925Z"
    }
   },
   "cell_type": "code",
   "source": [
    "generate_grid_plot_wt_vs_ko(dpli_novel, 'novel_cup', 'dpli')\n",
    "generate_grid_plot_wt_vs_ko(dpli_familiar, 'familiar_cup', 'dpli')"
   ],
   "id": "bea422af24b85ac7",
   "outputs": [],
   "execution_count": 40
  },
  {
   "metadata": {
    "ExecuteTime": {
     "end_time": "2024-05-07T08:33:10.825618Z",
     "start_time": "2024-05-07T08:32:53.566596Z"
    }
   },
   "cell_type": "code",
   "source": [
    "generate_barplots(dpli_novel, 'novel_cup', 'dpli')\n",
    "generate_barplots(dpli_familiar, 'familiar_cup', 'dpli')"
   ],
   "id": "6906e20652672fcb",
   "outputs": [],
   "execution_count": 41
  },
  {
   "metadata": {},
   "cell_type": "markdown",
   "source": "### Weighted Phase Lag Index (wPLI)",
   "id": "e26d31e3fd262997"
  },
  {
   "metadata": {
    "ExecuteTime": {
     "end_time": "2024-05-07T08:33:20.424277Z",
     "start_time": "2024-05-07T08:33:10.837175Z"
    }
   },
   "cell_type": "code",
   "source": [
    "wpli_novel = connectivity_df(all_subject_epochs, 'novel_cup', \"wpli\")\n",
    "wpli_familiar = connectivity_df(all_subject_epochs, 'familiar_cup', \"wpli\")\n",
    "wpli_familiar.head()"
   ],
   "id": "10ff8c787233708e",
   "outputs": [
    {
     "name": "stdout",
     "output_type": "stream",
     "text": [
      "Done computing wpli connectivity.\n",
      "Done computing wpli connectivity.\n"
     ]
    },
    {
     "data": {
      "text/plain": [
       "        con  node1  node2      band  subject_id genotype\n",
       "0  0.321224  OFC_R     CG  $\\delta$       80625  DRD2-KO\n",
       "1  0.622414  OFC_R  STR_R  $\\delta$       80625  DRD2-KO\n",
       "2  0.237429  OFC_R   S1_L  $\\delta$       80625  DRD2-KO\n",
       "3  0.042838  OFC_R   S1_R  $\\delta$       80625  DRD2-KO\n",
       "4  0.052062  OFC_R   V1_R  $\\delta$       80625  DRD2-KO"
      ],
      "text/html": [
       "<div>\n",
       "<style scoped>\n",
       "    .dataframe tbody tr th:only-of-type {\n",
       "        vertical-align: middle;\n",
       "    }\n",
       "\n",
       "    .dataframe tbody tr th {\n",
       "        vertical-align: top;\n",
       "    }\n",
       "\n",
       "    .dataframe thead th {\n",
       "        text-align: right;\n",
       "    }\n",
       "</style>\n",
       "<table border=\"1\" class=\"dataframe\">\n",
       "  <thead>\n",
       "    <tr style=\"text-align: right;\">\n",
       "      <th></th>\n",
       "      <th>con</th>\n",
       "      <th>node1</th>\n",
       "      <th>node2</th>\n",
       "      <th>band</th>\n",
       "      <th>subject_id</th>\n",
       "      <th>genotype</th>\n",
       "    </tr>\n",
       "  </thead>\n",
       "  <tbody>\n",
       "    <tr>\n",
       "      <th>0</th>\n",
       "      <td>0.321224</td>\n",
       "      <td>OFC_R</td>\n",
       "      <td>CG</td>\n",
       "      <td>$\\delta$</td>\n",
       "      <td>80625</td>\n",
       "      <td>DRD2-KO</td>\n",
       "    </tr>\n",
       "    <tr>\n",
       "      <th>1</th>\n",
       "      <td>0.622414</td>\n",
       "      <td>OFC_R</td>\n",
       "      <td>STR_R</td>\n",
       "      <td>$\\delta$</td>\n",
       "      <td>80625</td>\n",
       "      <td>DRD2-KO</td>\n",
       "    </tr>\n",
       "    <tr>\n",
       "      <th>2</th>\n",
       "      <td>0.237429</td>\n",
       "      <td>OFC_R</td>\n",
       "      <td>S1_L</td>\n",
       "      <td>$\\delta$</td>\n",
       "      <td>80625</td>\n",
       "      <td>DRD2-KO</td>\n",
       "    </tr>\n",
       "    <tr>\n",
       "      <th>3</th>\n",
       "      <td>0.042838</td>\n",
       "      <td>OFC_R</td>\n",
       "      <td>S1_R</td>\n",
       "      <td>$\\delta$</td>\n",
       "      <td>80625</td>\n",
       "      <td>DRD2-KO</td>\n",
       "    </tr>\n",
       "    <tr>\n",
       "      <th>4</th>\n",
       "      <td>0.052062</td>\n",
       "      <td>OFC_R</td>\n",
       "      <td>V1_R</td>\n",
       "      <td>$\\delta$</td>\n",
       "      <td>80625</td>\n",
       "      <td>DRD2-KO</td>\n",
       "    </tr>\n",
       "  </tbody>\n",
       "</table>\n",
       "</div>"
      ]
     },
     "execution_count": 42,
     "metadata": {},
     "output_type": "execute_result"
    }
   ],
   "execution_count": 42
  },
  {
   "metadata": {
    "ExecuteTime": {
     "end_time": "2024-05-07T08:33:44.694322Z",
     "start_time": "2024-05-07T08:33:20.426588Z"
    }
   },
   "cell_type": "code",
   "source": [
    "generate_grid_plot_wt_vs_ko(wpli_novel, 'novel_cup', 'wpli')\n",
    "generate_grid_plot_wt_vs_ko(wpli_familiar, 'familiar_cup', 'wpli')"
   ],
   "id": "9b21f6f70f4c46a4",
   "outputs": [],
   "execution_count": 43
  },
  {
   "metadata": {
    "ExecuteTime": {
     "end_time": "2024-05-07T08:34:02.474673Z",
     "start_time": "2024-05-07T08:33:44.696681Z"
    }
   },
   "cell_type": "code",
   "source": [
    "generate_barplots(wpli_novel, 'novel_cup', 'wpli')\n",
    "generate_barplots(wpli_familiar, 'familiar_cup', 'wpli')"
   ],
   "id": "d420a2f828e2f0a7",
   "outputs": [],
   "execution_count": 44
  },
  {
   "metadata": {},
   "cell_type": "markdown",
   "source": "### Debiased estimator of squared WPLI (wPLI-2 debiased)",
   "id": "f38fab3f56c46ce3"
  },
  {
   "metadata": {
    "ExecuteTime": {
     "end_time": "2024-05-07T08:34:17.174143Z",
     "start_time": "2024-05-07T08:34:02.479247Z"
    }
   },
   "cell_type": "code",
   "source": [
    "wpli2_novel = connectivity_df(all_subject_epochs, 'novel_cup', \"wpli2_debiased\")\n",
    "wpli2_familiar = connectivity_df(all_subject_epochs, 'familiar_cup', \"wpli2_debiased\")\n",
    "wpli2_familiar.head()"
   ],
   "id": "42bebb670f0df370",
   "outputs": [
    {
     "name": "stdout",
     "output_type": "stream",
     "text": [
      "Done computing wpli2_debiased connectivity.\n",
      "Done computing wpli2_debiased connectivity.\n"
     ]
    },
    {
     "data": {
      "text/plain": [
       "        con  node1  node2      band  subject_id genotype\n",
       "0  0.072339  OFC_R     CG  $\\delta$       80625  DRD2-KO\n",
       "1  0.380013  OFC_R  STR_R  $\\delta$       80625  DRD2-KO\n",
       "2  0.023340  OFC_R   S1_L  $\\delta$       80625  DRD2-KO\n",
       "3 -0.054948  OFC_R   S1_R  $\\delta$       80625  DRD2-KO\n",
       "4 -0.058176  OFC_R   V1_R  $\\delta$       80625  DRD2-KO"
      ],
      "text/html": [
       "<div>\n",
       "<style scoped>\n",
       "    .dataframe tbody tr th:only-of-type {\n",
       "        vertical-align: middle;\n",
       "    }\n",
       "\n",
       "    .dataframe tbody tr th {\n",
       "        vertical-align: top;\n",
       "    }\n",
       "\n",
       "    .dataframe thead th {\n",
       "        text-align: right;\n",
       "    }\n",
       "</style>\n",
       "<table border=\"1\" class=\"dataframe\">\n",
       "  <thead>\n",
       "    <tr style=\"text-align: right;\">\n",
       "      <th></th>\n",
       "      <th>con</th>\n",
       "      <th>node1</th>\n",
       "      <th>node2</th>\n",
       "      <th>band</th>\n",
       "      <th>subject_id</th>\n",
       "      <th>genotype</th>\n",
       "    </tr>\n",
       "  </thead>\n",
       "  <tbody>\n",
       "    <tr>\n",
       "      <th>0</th>\n",
       "      <td>0.072339</td>\n",
       "      <td>OFC_R</td>\n",
       "      <td>CG</td>\n",
       "      <td>$\\delta$</td>\n",
       "      <td>80625</td>\n",
       "      <td>DRD2-KO</td>\n",
       "    </tr>\n",
       "    <tr>\n",
       "      <th>1</th>\n",
       "      <td>0.380013</td>\n",
       "      <td>OFC_R</td>\n",
       "      <td>STR_R</td>\n",
       "      <td>$\\delta$</td>\n",
       "      <td>80625</td>\n",
       "      <td>DRD2-KO</td>\n",
       "    </tr>\n",
       "    <tr>\n",
       "      <th>2</th>\n",
       "      <td>0.023340</td>\n",
       "      <td>OFC_R</td>\n",
       "      <td>S1_L</td>\n",
       "      <td>$\\delta$</td>\n",
       "      <td>80625</td>\n",
       "      <td>DRD2-KO</td>\n",
       "    </tr>\n",
       "    <tr>\n",
       "      <th>3</th>\n",
       "      <td>-0.054948</td>\n",
       "      <td>OFC_R</td>\n",
       "      <td>S1_R</td>\n",
       "      <td>$\\delta$</td>\n",
       "      <td>80625</td>\n",
       "      <td>DRD2-KO</td>\n",
       "    </tr>\n",
       "    <tr>\n",
       "      <th>4</th>\n",
       "      <td>-0.058176</td>\n",
       "      <td>OFC_R</td>\n",
       "      <td>V1_R</td>\n",
       "      <td>$\\delta$</td>\n",
       "      <td>80625</td>\n",
       "      <td>DRD2-KO</td>\n",
       "    </tr>\n",
       "  </tbody>\n",
       "</table>\n",
       "</div>"
      ]
     },
     "execution_count": 45,
     "metadata": {},
     "output_type": "execute_result"
    }
   ],
   "execution_count": 45
  },
  {
   "metadata": {
    "ExecuteTime": {
     "end_time": "2024-05-07T08:34:36.947485Z",
     "start_time": "2024-05-07T08:34:17.177653Z"
    }
   },
   "cell_type": "code",
   "source": [
    "generate_grid_plot_wt_vs_ko(wpli2_novel, 'novel_cup', 'wpli2_debiased')\n",
    "generate_grid_plot_wt_vs_ko(wpli2_familiar, 'familiar_cup', 'wpli2_debiased')"
   ],
   "id": "8747bbce3d002956",
   "outputs": [],
   "execution_count": 46
  },
  {
   "metadata": {
    "ExecuteTime": {
     "end_time": "2024-05-07T08:34:52.648969Z",
     "start_time": "2024-05-07T08:34:36.952449Z"
    }
   },
   "cell_type": "code",
   "source": [
    "generate_barplots(wpli2_novel, 'novel_cup', 'wpli2_debiased')\n",
    "generate_barplots(wpli2_familiar, 'familiar_cup', 'wpli2_debiased')"
   ],
   "id": "7e243109a425e189",
   "outputs": [],
   "execution_count": 47
  },
  {
   "metadata": {},
   "cell_type": "markdown",
   "source": "### Pairwise Phase Consistency (PPC)",
   "id": "e4394503dc1bd706"
  },
  {
   "metadata": {
    "ExecuteTime": {
     "end_time": "2024-05-07T08:35:02.335217Z",
     "start_time": "2024-05-07T08:34:52.650934Z"
    }
   },
   "cell_type": "code",
   "source": [
    "ppc_novel = connectivity_df(all_subject_epochs, 'novel_cup', \"ppc\")\n",
    "ppc_familiar = connectivity_df(all_subject_epochs, 'familiar_cup', \"ppc\")\n",
    "ppc_familiar.head()"
   ],
   "id": "b40f33ab1cc244b6",
   "outputs": [
    {
     "name": "stdout",
     "output_type": "stream",
     "text": [
      "Done computing ppc connectivity.\n",
      "Done computing ppc connectivity.\n"
     ]
    },
    {
     "data": {
      "text/plain": [
       "        con  node1  node2      band  subject_id genotype\n",
       "0  0.991563  OFC_R     CG  $\\delta$       80625  DRD2-KO\n",
       "1  0.945987  OFC_R  STR_R  $\\delta$       80625  DRD2-KO\n",
       "2  0.889336  OFC_R   S1_L  $\\delta$       80625  DRD2-KO\n",
       "3  0.932484  OFC_R   S1_R  $\\delta$       80625  DRD2-KO\n",
       "4  0.558357  OFC_R   V1_R  $\\delta$       80625  DRD2-KO"
      ],
      "text/html": [
       "<div>\n",
       "<style scoped>\n",
       "    .dataframe tbody tr th:only-of-type {\n",
       "        vertical-align: middle;\n",
       "    }\n",
       "\n",
       "    .dataframe tbody tr th {\n",
       "        vertical-align: top;\n",
       "    }\n",
       "\n",
       "    .dataframe thead th {\n",
       "        text-align: right;\n",
       "    }\n",
       "</style>\n",
       "<table border=\"1\" class=\"dataframe\">\n",
       "  <thead>\n",
       "    <tr style=\"text-align: right;\">\n",
       "      <th></th>\n",
       "      <th>con</th>\n",
       "      <th>node1</th>\n",
       "      <th>node2</th>\n",
       "      <th>band</th>\n",
       "      <th>subject_id</th>\n",
       "      <th>genotype</th>\n",
       "    </tr>\n",
       "  </thead>\n",
       "  <tbody>\n",
       "    <tr>\n",
       "      <th>0</th>\n",
       "      <td>0.991563</td>\n",
       "      <td>OFC_R</td>\n",
       "      <td>CG</td>\n",
       "      <td>$\\delta$</td>\n",
       "      <td>80625</td>\n",
       "      <td>DRD2-KO</td>\n",
       "    </tr>\n",
       "    <tr>\n",
       "      <th>1</th>\n",
       "      <td>0.945987</td>\n",
       "      <td>OFC_R</td>\n",
       "      <td>STR_R</td>\n",
       "      <td>$\\delta$</td>\n",
       "      <td>80625</td>\n",
       "      <td>DRD2-KO</td>\n",
       "    </tr>\n",
       "    <tr>\n",
       "      <th>2</th>\n",
       "      <td>0.889336</td>\n",
       "      <td>OFC_R</td>\n",
       "      <td>S1_L</td>\n",
       "      <td>$\\delta$</td>\n",
       "      <td>80625</td>\n",
       "      <td>DRD2-KO</td>\n",
       "    </tr>\n",
       "    <tr>\n",
       "      <th>3</th>\n",
       "      <td>0.932484</td>\n",
       "      <td>OFC_R</td>\n",
       "      <td>S1_R</td>\n",
       "      <td>$\\delta$</td>\n",
       "      <td>80625</td>\n",
       "      <td>DRD2-KO</td>\n",
       "    </tr>\n",
       "    <tr>\n",
       "      <th>4</th>\n",
       "      <td>0.558357</td>\n",
       "      <td>OFC_R</td>\n",
       "      <td>V1_R</td>\n",
       "      <td>$\\delta$</td>\n",
       "      <td>80625</td>\n",
       "      <td>DRD2-KO</td>\n",
       "    </tr>\n",
       "  </tbody>\n",
       "</table>\n",
       "</div>"
      ]
     },
     "execution_count": 48,
     "metadata": {},
     "output_type": "execute_result"
    }
   ],
   "execution_count": 48
  },
  {
   "metadata": {
    "ExecuteTime": {
     "end_time": "2024-05-07T08:35:22.034993Z",
     "start_time": "2024-05-07T08:35:02.337247Z"
    }
   },
   "cell_type": "code",
   "source": [
    "generate_grid_plot_wt_vs_ko(ppc_novel, 'novel_cup', 'ppc')\n",
    "generate_grid_plot_wt_vs_ko(ppc_familiar, 'familiar_cup', 'ppc')"
   ],
   "id": "b43cf8afd597d634",
   "outputs": [],
   "execution_count": 49
  },
  {
   "metadata": {
    "ExecuteTime": {
     "end_time": "2024-05-07T08:35:39.762024Z",
     "start_time": "2024-05-07T08:35:22.039270Z"
    }
   },
   "cell_type": "code",
   "source": [
    "generate_barplots(ppc_novel, 'novel_cup', 'ppc')\n",
    "generate_barplots(ppc_familiar, 'familiar_cup', 'ppc')"
   ],
   "id": "97853165316bd50d",
   "outputs": [],
   "execution_count": 50
  },
  {
   "metadata": {},
   "cell_type": "markdown",
   "source": [
    "## Multivariate connectivity analysis\n",
    "\n",
    "Compute the multivariate connectivity measures for all subject's epochs\n",
    "\n",
    "#### First, we use all EEG channels\n",
    "\n",
    "Now, we also include the skull electrodes, and of course still exclude the EMGs"
   ],
   "id": "237325b335648b78"
  },
  {
   "metadata": {
    "ExecuteTime": {
     "end_time": "2024-05-07T08:38:23.331693Z",
     "start_time": "2024-05-07T08:37:24.187960Z"
    }
   },
   "cell_type": "code",
   "source": [
    "results_df = pd.DataFrame()\n",
    "\n",
    "# for each subject, get the resting/active/sleep epochs, drop the emg channels and calculate the mic and mim\n",
    "for subj_epochs in all_subject_epochs:\n",
    "    subject_id = int(subj_epochs.metadata['subject_id'].iloc[0])\n",
    "    genotype = subj_epochs.metadata['genotype'].iloc[0]\n",
    "    to_drop = [x for x in ['EMG_L', 'EMG_R'] if x in subj_epochs.info['ch_names']]\n",
    "    subj_epochs = subj_epochs.load_data().drop_channels(to_drop)\n",
    "    \n",
    "    for behaviour in ['novel_cup', 'familiar_cup']:\n",
    "        state_epochs = subj_epochs[subj_epochs.metadata['interaction_kind'] == behaviour]\n",
    "\n",
    "        (mic, mim) = spectral_connectivity_epochs(state_epochs, method=['mic', 'mim'], n_jobs=-1, fmin=1, fmax=100, verbose='ERROR')\n",
    "    \n",
    "        results_df = pd.concat([results_df, pd.DataFrame({\n",
    "            'animal_id' : subject_id,\n",
    "            'genotype' : genotype,\n",
    "            'behaviour': behaviour,\n",
    "            'freqs' : mic.freqs,\n",
    "            'mic' : mic.get_data()[0,:],\n",
    "            'mim' : mim.get_data()[0,:],\n",
    "            'low_qual_chans': True if subject_id in low_qual_chans.keys() else False\n",
    "        })])"
   ],
   "id": "110f84313ed5134a",
   "outputs": [],
   "execution_count": 51
  },
  {
   "metadata": {
    "ExecuteTime": {
     "end_time": "2024-05-07T08:44:44.345412Z",
     "start_time": "2024-05-07T08:44:29.554639Z"
    }
   },
   "cell_type": "code",
   "source": [
    "fig, axs = plt.subplots(nrows=1, ncols=2, figsize=(15, 5))\n",
    "axs = axs.ravel()\n",
    "\n",
    "for i, interaction_kind in enumerate(results_df.behaviour.unique()):\n",
    "    results = results_df.loc[(results_df['behaviour'] == interaction_kind) & (results_df['low_qual_chans'] == False)]\n",
    "    \n",
    "    sns.lineplot(x=results.freqs, y=np.abs(results.mic), hue=results.genotype, errorbar=('ci', 95), ax=axs[i], palette=palette)\n",
    "    axs[i].set_xlabel(\"Frequency (Hz)\")\n",
    "    axs[i].set_ylabel(\"Absolute connectivity (A.U.)\")\n",
    "    axs[i].set_title(interaction_kind)\n",
    "    axs[i].legend(loc='best', frameon=False)\n",
    "    \n",
    "fig.suptitle(\"Maximised imaginary part of coherency (MIC), all EEG channels\", y=0.99)\n",
    "save_figure(os.path.join(plot_folder, f\"connectivity/multivariate/total_mic.pdf\"))"
   ],
   "id": "d2469f4e1f2775d0",
   "outputs": [],
   "execution_count": 56
  },
  {
   "metadata": {
    "ExecuteTime": {
     "end_time": "2024-05-07T08:44:54.626751Z",
     "start_time": "2024-05-07T08:44:44.348151Z"
    }
   },
   "cell_type": "code",
   "source": [
    "fig, axs = plt.subplots(nrows=1, ncols=2, figsize=(15, 5))\n",
    "axs = axs.ravel()\n",
    "\n",
    "for i, interaction_kind in enumerate(results_df.behaviour.unique()):\n",
    "    results = results_df.loc[(results_df['behaviour'] == interaction_kind) & (results_df['low_qual_chans'] == False)]\n",
    "    \n",
    "    sns.lineplot(x=results.freqs, y=results.mim, hue=results.genotype, errorbar=('ci', 95), ax=axs[i], palette=palette)\n",
    "    axs[i].set_xlabel(\"Frequency (Hz)\")\n",
    "    axs[i].set_ylabel(\"Absolute connectivity (A.U.)\")\n",
    "    axs[i].set_title(interaction_kind)\n",
    "    axs[i].legend(loc='best', frameon=False)\n",
    "    \n",
    "fig.suptitle(\"Multivariate interaction measure (MIM), all EEG channels\", y=0.99)\n",
    "save_figure(os.path.join(plot_folder, f\"connectivity/multivariate/total_mim.pdf\"))"
   ],
   "id": "21937b1dd5cd547d",
   "outputs": [],
   "execution_count": 57
  },
  {
   "metadata": {
    "ExecuteTime": {
     "end_time": "2024-05-07T08:45:08.121708Z",
     "start_time": "2024-05-07T08:44:54.629961Z"
    }
   },
   "cell_type": "code",
   "source": [
    "for interaction_kind in results_df.behaviour.unique():\n",
    "    fig, axs = plt.subplots(nrows=3, ncols=2, figsize=(20, 8))\n",
    "    axs = axs.ravel()\n",
    "    results = results_df.loc[(results_df['behaviour'] == interaction_kind) & (results_df['low_qual_chans'] == False)]\n",
    "    \n",
    "    for i, (band, (start, end)) in enumerate(freq_bands_eeg.items()):\n",
    "        slice_data = results[(results.freqs >= start) & (results.freqs <= end)]\n",
    "        sns.lineplot(x=slice_data.freqs, y=np.abs(slice_data.mic), hue=slice_data.genotype, errorbar=('ci', 95), ax=axs[i], palette=palette)\n",
    "        axs[i].set_title(f'{interaction_kind} - band: {band}')\n",
    "    \n",
    "    fig.suptitle(\"Maximised imaginary part of coherency (MIC) per band, all EEG channels\", y=0.99)\n",
    "    axs[-1].remove()\n",
    "    plt.tight_layout()\n",
    "    save_figure(os.path.join(plot_folder, f\"connectivity/multivariate/mic_parts_{interaction_kind}.pdf\"))"
   ],
   "id": "5406bbd74e556909",
   "outputs": [],
   "execution_count": 58
  },
  {
   "metadata": {
    "ExecuteTime": {
     "end_time": "2024-05-07T08:45:21.396551Z",
     "start_time": "2024-05-07T08:45:08.125489Z"
    }
   },
   "cell_type": "code",
   "source": [
    "for interaction_kind in results_df.behaviour.unique():\n",
    "    fig, axs = plt.subplots(nrows=3, ncols=2, figsize=(20, 8))\n",
    "    axs = axs.ravel()\n",
    "    results = results_df.loc[(results_df['behaviour'] == interaction_kind) & (results_df['low_qual_chans'] == False)]\n",
    "    \n",
    "    for i, (band, (start, end)) in enumerate(freq_bands_eeg.items()):\n",
    "        slice_data = results[(results.freqs >= start) & (results.freqs <= end)]\n",
    "        sns.lineplot(x=slice_data.freqs, y=slice_data.mim, hue=slice_data.genotype, errorbar=('ci', 95), ax=axs[i], palette=palette)\n",
    "        axs[i].set_title(f'{interaction_kind} - band: {band}')\n",
    "    \n",
    "    fig.suptitle(\"Multivariate interaction measure (MIM) per band, all EEG channels\", y=0.99)\n",
    "    axs[-1].remove()\n",
    "    plt.tight_layout()\n",
    "    save_figure(os.path.join(plot_folder, f\"connectivity/multivariate/mim_parts_{interaction_kind}.pdf\"))"
   ],
   "id": "6bc98b089002f762",
   "outputs": [],
   "execution_count": 59
  },
  {
   "metadata": {},
   "cell_type": "markdown",
   "source": "#### Now we do the same, but using only the depth electrodes",
   "id": "6e9e99806afd065"
  },
  {
   "metadata": {
    "ExecuteTime": {
     "end_time": "2024-05-07T08:46:30.964741Z",
     "start_time": "2024-05-07T08:45:29.681742Z"
    }
   },
   "cell_type": "code",
   "source": [
    "results_df = pd.DataFrame()\n",
    "\n",
    "# for each subject, get the resting/active/sleep epochs, drop the emg channels and calculate the mic and mim\n",
    "for subj_epochs in all_subject_epochs:\n",
    "    subject_id = int(subj_epochs.metadata['subject_id'].iloc[0])\n",
    "    genotype = subj_epochs.metadata['genotype'].iloc[0]\n",
    "    to_drop = [x for x in ['S1_L', 'S1_R', 'V1_R', 'EMG_L', 'EMG_R'] if x in subj_epochs.info['ch_names']]\n",
    "    subj_epochs = subj_epochs.load_data().drop_channels(to_drop)\n",
    "    \n",
    "    for behaviour in ['novel_cup', 'familiar_cup']:\n",
    "        state_epochs = subj_epochs[subj_epochs.metadata['interaction_kind'] == behaviour]\n",
    "\n",
    "        (mic, mim) = spectral_connectivity_epochs(state_epochs, method=['mic', 'mim'], n_jobs=-1, fmin=1.01, fmax=100, verbose='ERROR')\n",
    "    \n",
    "        results_df = pd.concat([results_df, pd.DataFrame({\n",
    "            'animal_id' : subject_id,\n",
    "            'genotype' : genotype,\n",
    "            'behaviour': behaviour,\n",
    "            'freqs' : mic.freqs,\n",
    "            'mic' : mic.get_data()[0,:],\n",
    "            'mim' : mim.get_data()[0,:],\n",
    "            'low_qual_chans': True if subject_id in low_qual_chans.keys() else False\n",
    "        })])"
   ],
   "id": "5786682ac9289ad8",
   "outputs": [],
   "execution_count": 60
  },
  {
   "metadata": {
    "ExecuteTime": {
     "end_time": "2024-05-07T08:46:41.663695Z",
     "start_time": "2024-05-07T08:46:30.973256Z"
    }
   },
   "cell_type": "code",
   "source": [
    "fig, axs = plt.subplots(nrows=1, ncols=2, figsize=(15, 5))\n",
    "axs = axs.ravel()\n",
    "\n",
    "for i, interaction_kind in enumerate(results_df.behaviour.unique()):\n",
    "    results = results_df.loc[(results_df['behaviour'] == interaction_kind) & (results_df['low_qual_chans'] == False)]\n",
    "    \n",
    "    sns.lineplot(x=results.freqs, y=np.abs(results.mic), hue=results.genotype, errorbar=('ci', 95), ax=axs[i], palette=palette)\n",
    "    axs[i].set_xlabel(\"Frequency (Hz)\")\n",
    "    axs[i].set_ylabel(\"Absolute connectivity (A.U.)\")\n",
    "    axs[i].set_title(interaction_kind)\n",
    "    axs[i].legend(loc='best', frameon=False)\n",
    "    \n",
    "fig.suptitle(\"Maximised imaginary part of coherency (MIC), depth electrodes only\", y=0.99)\n",
    "save_figure(os.path.join(plot_folder, f\"connectivity/multivariate/total_mic_depth_electrodes_only.pdf\"))"
   ],
   "id": "1ed23ebd0a767c69",
   "outputs": [],
   "execution_count": 61
  },
  {
   "metadata": {
    "ExecuteTime": {
     "end_time": "2024-05-07T08:46:51.942403Z",
     "start_time": "2024-05-07T08:46:41.665807Z"
    }
   },
   "cell_type": "code",
   "source": [
    "fig, axs = plt.subplots(nrows=1, ncols=2, figsize=(15, 5))\n",
    "axs = axs.ravel()\n",
    "\n",
    "for i, interaction_kind in enumerate(results_df.behaviour.unique()):\n",
    "    results = results_df[(results_df['behaviour'] == interaction_kind) & (results_df['low_qual_chans'] == False)]\n",
    "    \n",
    "    sns.lineplot(x=results.freqs, y=results.mim, hue=results.genotype, errorbar=('ci', 95), ax=axs[i], palette=palette)\n",
    "    axs[i].set_xlabel(\"Frequency (Hz)\")\n",
    "    axs[i].set_ylabel(\"Absolute connectivity (A.U.)\")\n",
    "    axs[i].set_title(interaction_kind)\n",
    "    axs[i].legend(loc='best', frameon=False)\n",
    "    \n",
    "fig.suptitle(\"Multivariate interaction measure (MIM), depth electrodes only\", y=0.99)\n",
    "save_figure(os.path.join(plot_folder, f\"connectivity/multivariate/total_mim_depth_electrodes_only.pdf\"))"
   ],
   "id": "7f0ca292956956",
   "outputs": [],
   "execution_count": 62
  },
  {
   "metadata": {
    "ExecuteTime": {
     "end_time": "2024-05-07T08:47:04.961954Z",
     "start_time": "2024-05-07T08:46:51.946490Z"
    }
   },
   "cell_type": "code",
   "source": [
    "for interaction_kind in results_df.behaviour.unique():\n",
    "    fig, axs = plt.subplots(nrows=3, ncols=2, figsize=(20, 8))\n",
    "    axs = axs.ravel()\n",
    "    results = results_df[(results_df['behaviour'] == interaction_kind) & (results_df['low_qual_chans'] == False)]\n",
    "    \n",
    "    for i, (band, (start, end)) in enumerate(freq_bands_eeg.items()):\n",
    "        slice_data = results[(results.freqs >= start) & (results.freqs <= end)]\n",
    "        sns.lineplot(x=slice_data.freqs, y=np.abs(slice_data.mic), hue=slice_data.genotype, errorbar=('ci', 95), ax=axs[i], palette=palette)\n",
    "        axs[i].set_title(f'{interaction_kind} - band: {band}')\n",
    "    \n",
    "    fig.suptitle(\"Maximised imaginary part of coherency (MIC) per band, depth electrodes only\", y=0.99)\n",
    "    plt.tight_layout()\n",
    "    axs[-1].remove()\n",
    "    save_figure(os.path.join(plot_folder, f\"connectivity/multivariate/mic_parts_{interaction_kind}_depth_electrodes_only.pdf\"))"
   ],
   "id": "1aec61ba6486588f",
   "outputs": [],
   "execution_count": 63
  },
  {
   "metadata": {},
   "cell_type": "markdown",
   "source": "Now for the MIM",
   "id": "2e0ae133042c79d8"
  },
  {
   "metadata": {
    "ExecuteTime": {
     "end_time": "2024-05-07T08:47:20.044664Z",
     "start_time": "2024-05-07T08:47:04.964536Z"
    }
   },
   "cell_type": "code",
   "source": [
    "for interaction_kind in results_df.behaviour.unique():\n",
    "    fig, axs = plt.subplots(nrows=3, ncols=2, figsize=(20, 8))\n",
    "    axs = axs.ravel()\n",
    "    results = results_df.loc[(results_df['behaviour'] == interaction_kind) & (results_df['low_qual_chans'] == False)]\n",
    "    \n",
    "    for i, (band, (start, end)) in enumerate(freq_bands_eeg.items()):\n",
    "        slice_data = results[(results.freqs >= start) & (results.freqs <= end)]\n",
    "        sns.lineplot(x=slice_data.freqs, y=slice_data.mim, hue=slice_data.genotype, errorbar=('ci', 95), ax=axs[i], palette=palette)\n",
    "        axs[i].set_title(f'{interaction_kind} - band: {band}')\n",
    "    \n",
    "    fig.suptitle(\"Multivariate interaction measure (MIM) per band, depth electrodes only\", y=0.99)\n",
    "    plt.tight_layout()\n",
    "    axs[-1].remove()\n",
    "    save_figure(os.path.join(plot_folder, f\"connectivity/multivariate/mim_parts_{interaction_kind}_depth_electrodes_only.pdf\"))"
   ],
   "id": "70d8713dfc43b624",
   "outputs": [],
   "execution_count": 64
  },
  {
   "metadata": {},
   "cell_type": "markdown",
   "source": "## WT vs KO gridplot of averaged time-reversed Granger Causality",
   "id": "9ca3e80618328e9e"
  },
  {
   "metadata": {
    "ExecuteTime": {
     "end_time": "2024-05-07T08:49:41.043945Z",
     "start_time": "2024-05-07T08:49:40.257297Z"
    }
   },
   "cell_type": "code",
   "source": [
    "all_subject_epochs = []\n",
    "for file in os.listdir(epoch_folder):\n",
    "    if not file.endswith('.fif') or file.startswith('.'):\n",
    "        continue\n",
    "    all_subject_epochs.append(mne.read_epochs(os.path.join(epoch_folder, file), preload=True, verbose='ERROR'))"
   ],
   "id": "a0ad01cc2da1165b",
   "outputs": [],
   "execution_count": 65
  },
  {
   "metadata": {
    "ExecuteTime": {
     "end_time": "2024-05-07T08:49:47.492343Z",
     "start_time": "2024-05-07T08:49:47.475771Z"
    }
   },
   "cell_type": "code",
   "source": [
    "def compute_indices(subject_epochs, channel_a, channel_b):\n",
    "    signals_a = [\n",
    "        idx\n",
    "        for idx, ch_info in enumerate(subject_epochs.info[\"chs\"])\n",
    "        if ch_info[\"ch_name\"] == channel_a\n",
    "    ]\n",
    "    # occipital sensors\n",
    "    signals_b = [\n",
    "        idx\n",
    "        for idx, ch_info in enumerate(subject_epochs.info[\"chs\"])\n",
    "        if ch_info[\"ch_name\"] == channel_b\n",
    "    ]\n",
    "    \n",
    "    indices_ab = (np.array([signals_a]), np.array([signals_b]))  # A => B\n",
    "    indices_ba = (np.array([signals_b]), np.array([signals_a]))  # B => A\n",
    "    \n",
    "    return indices_ab, indices_ba"
   ],
   "id": "64b0fb76a3dbaf2e",
   "outputs": [],
   "execution_count": 66
  },
  {
   "metadata": {
    "ExecuteTime": {
     "end_time": "2024-05-07T08:50:10.940072Z",
     "start_time": "2024-05-07T08:50:10.908867Z"
    }
   },
   "cell_type": "code",
   "source": [
    "def get_tr_gc(all_subject_epochs, interaction_kind, channel_a, channel_b):\n",
    "    wt_trgcs, ko_trgcs = [], []\n",
    "    \n",
    "    for subject_epochs in all_subject_epochs:\n",
    "        genotype = subject_epochs.metadata['genotype'].iloc[0]\n",
    "        \n",
    "        indices_ab, indices_ba = compute_indices(subject_epochs, channel_a, channel_b)\n",
    "        \n",
    "        interaction_kind_epochs = subject_epochs[subject_epochs.metadata['interaction_kind'] == interaction_kind]\n",
    "        interaction_kind_epochs = interaction_kind_epochs.drop_channels(excluded_chans)\n",
    "        \n",
    "        gc_ab = spectral_connectivity_epochs(\n",
    "            interaction_kind_epochs,\n",
    "            method=[\"gc\"],\n",
    "            indices=indices_ab,\n",
    "            fmin=1,\n",
    "            fmax=100,\n",
    "            gc_n_lags=20,\n",
    "            verbose='ERROR'\n",
    "        )  # A => B\n",
    "        gc_ba = spectral_connectivity_epochs(\n",
    "            interaction_kind_epochs,\n",
    "            method=[\"gc\"],\n",
    "            indices=indices_ba,\n",
    "            fmin=1,\n",
    "            fmax=100,\n",
    "            gc_n_lags=20,\n",
    "            verbose='ERROR'\n",
    "        )  # B => A\n",
    "        freqs = gc_ab.freqs\n",
    "        net_gc = gc_ab.get_data() - gc_ba.get_data()  # [A => B] - [B => A]\n",
    "        # compute GC on time-reversed signals\n",
    "        gc_tr_ab = spectral_connectivity_epochs(\n",
    "            interaction_kind_epochs,\n",
    "            method=[\"gc_tr\"],\n",
    "            indices=indices_ab,\n",
    "            fmin=1,\n",
    "            fmax=100,\n",
    "            gc_n_lags=20,\n",
    "            verbose='ERROR'\n",
    "        )  # TR[A => B]\n",
    "        gc_tr_ba = spectral_connectivity_epochs(\n",
    "            interaction_kind_epochs,\n",
    "            method=[\"gc_tr\"],\n",
    "            indices=indices_ba,\n",
    "            fmin=1,\n",
    "            fmax=100,\n",
    "            gc_n_lags=20,\n",
    "            verbose='ERROR'\n",
    "        )  # TR[B => A]\n",
    "        \n",
    "        # compute net GC on time-reversed signals (TR[A => B] - TR[B => A])\n",
    "        net_gc_tr = gc_tr_ab.get_data() - gc_tr_ba.get_data()\n",
    "        \n",
    "        # compute TRGC\n",
    "        trgc = net_gc - net_gc_tr\n",
    "        \n",
    "        wt_trgcs.append(trgc) if genotype == \"DRD2-WT\" else ko_trgcs.append(trgc)\n",
    "        \n",
    "    return freqs, wt_trgcs, ko_trgcs"
   ],
   "id": "e196b1d2b5be638a",
   "outputs": [],
   "execution_count": 68
  },
  {
   "metadata": {},
   "cell_type": "markdown",
   "source": "Chans to compute granger causality for",
   "id": "c67a6fc41f160e1a"
  },
  {
   "metadata": {
    "ExecuteTime": {
     "end_time": "2024-05-07T08:50:11.698377Z",
     "start_time": "2024-05-07T08:50:11.662392Z"
    }
   },
   "cell_type": "code",
   "source": [
    "chans = all_subject_epochs[0].info['ch_names']\n",
    "chans = [chan for chan in chans if chan not in excluded_chans]\n",
    "chans"
   ],
   "id": "1c1121fd9f04dd98",
   "outputs": [
    {
     "data": {
      "text/plain": [
       "['OFC_R', 'OFC_L', 'CG', 'STR_R', 'S1_L', 'S1_R', 'V1_R']"
      ]
     },
     "execution_count": 69,
     "metadata": {},
     "output_type": "execute_result"
    }
   ],
   "execution_count": 69
  },
  {
   "metadata": {},
   "cell_type": "markdown",
   "source": "Compute for both novel and familiar cup interactions",
   "id": "75e4dfc4e77fad2f"
  },
  {
   "metadata": {
    "ExecuteTime": {
     "end_time": "2024-05-07T08:53:36.627436Z",
     "start_time": "2024-05-07T08:50:12.974070Z"
    }
   },
   "cell_type": "code",
   "source": [
    "for interaction_kind in ['novel_cup', 'familiar_cup']:\n",
    "    \n",
    "    fig, axs = plt.subplots(nrows=3, ncols=7, figsize=(35, 15), sharey=True, sharex=True)\n",
    "    axs = axs.ravel()\n",
    "    \n",
    "    grid_index = 0\n",
    "    for i in range(len(chans)):\n",
    "        for j in range(i + 1, len(chans)):\n",
    "            freqs, wt_trgcs, ko_trgcs = get_tr_gc(all_subject_epochs, interaction_kind, chans[i], chans[j])\n",
    "            \n",
    "            averaged_wt_trgcs = np.mean(wt_trgcs, axis=0)\n",
    "            averaged_ko_trgcs = np.mean(ko_trgcs, axis=0)\n",
    "            \n",
    "            axs[grid_index].plot((freqs[0], freqs[-1]), (0, 0), linewidth=2, linestyle=\"--\", color=\"k\")\n",
    "            axs[grid_index].plot(freqs, averaged_wt_trgcs[0], linewidth=2, label='DRD2-WT')\n",
    "            axs[grid_index].plot(freqs, averaged_ko_trgcs[0], linewidth=2, label='DRD2-KO')\n",
    "            axs[grid_index].legend()\n",
    "            for band, (start, end) in freq_bands_eeg.items():\n",
    "                axs[grid_index].axvline(x=start, color='gray', linestyle='--', alpha=0.3)\n",
    "                axs[grid_index].axvline(x=end, color='gray', linestyle='--', alpha=0.3)\n",
    "                axs[grid_index].text((start + end) / 2, axs[grid_index].get_ylim()[1] * 1.01, band, horizontalalignment='center', verticalalignment='top', fontsize=8, color='black')\n",
    "            axs[grid_index].set_title(f'Time-reversed GC: net[{chans[i]} => {chans[j]}]')\n",
    "            grid_index += 1\n",
    "    \n",
    "    save_figure(os.path.join(plot_folder, f\"connectivity/TRGC_{interaction_kind}_grid.pdf\"))"
   ],
   "id": "b68320319cdf446a",
   "outputs": [],
   "execution_count": 70
  }
 ],
 "metadata": {
  "kernelspec": {
   "display_name": "Python 3",
   "language": "python",
   "name": "python3"
  },
  "language_info": {
   "codemirror_mode": {
    "name": "ipython",
    "version": 2
   },
   "file_extension": ".py",
   "mimetype": "text/x-python",
   "name": "python",
   "nbconvert_exporter": "python",
   "pygments_lexer": "ipython2",
   "version": "2.7.6"
  }
 },
 "nbformat": 4,
 "nbformat_minor": 5
}
