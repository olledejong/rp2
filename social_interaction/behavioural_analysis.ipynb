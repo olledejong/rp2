{
 "cells": [
  {
   "metadata": {
    "ExecuteTime": {
     "end_time": "2024-05-06T07:24:50.270254Z",
     "start_time": "2024-05-06T07:24:50.187529Z"
    }
   },
   "cell_type": "code",
   "source": [
    "import numpy as np\n",
    "import pandas as pd\n",
    "import seaborn as sns\n",
    "\n",
    "from scipy.stats import ttest_ind\n",
    "\n",
    "from shared.helper_functions import *\n",
    "from settings_general import subject_id_batch_cage_dict"
   ],
   "id": "5c160015f002a747",
   "execution_count": 1,
   "outputs": []
  },
  {
   "metadata": {},
   "cell_type": "markdown",
   "source": "Get the path to the folder that holds the behaviour data exported from BORIS software.",
   "id": "cc4e555ae719d140"
  },
  {
   "metadata": {
    "ExecuteTime": {
     "end_time": "2024-05-06T07:25:09.063317Z",
     "start_time": "2024-05-06T07:24:54.100869Z"
    }
   },
   "cell_type": "code",
   "source": "behaviour_data_dir = select_folder(\"Please select the sociability behaviour data directory\")",
   "id": "48d0a24a84b10220",
   "execution_count": 2,
   "outputs": []
  },
  {
   "metadata": {},
   "cell_type": "markdown",
   "source": "If you want to save plots, select a directory you want to save them to.",
   "id": "6d2f0b3ae38a8223"
  },
  {
   "metadata": {
    "ExecuteTime": {
     "end_time": "2024-05-06T07:25:26.232810Z",
     "start_time": "2024-05-06T07:25:12.866126Z"
    }
   },
   "cell_type": "code",
   "source": "plot_output_dir = select_or_create_folder(\"Please select or create a folder you wish to save the plots\")",
   "id": "b7c72c180077260d",
   "execution_count": 3,
   "outputs": []
  },
  {
   "metadata": {},
   "cell_type": "markdown",
   "source": "## Load the animal metadata",
   "id": "e9ffcce0303f"
  },
  {
   "metadata": {},
   "cell_type": "markdown",
   "source": "First, let's load the metadata that tells us which batch/cage combination is which animal (id).",
   "id": "49cce31e938c8b73"
  },
  {
   "metadata": {
    "ExecuteTime": {
     "end_time": "2024-05-06T07:25:42.897605Z",
     "start_time": "2024-05-06T07:25:30.394483Z"
    }
   },
   "cell_type": "code",
   "source": [
    "all_animals_metadata = select_file(\"Please select the file holding metadata for all animals\")\n",
    "metadata = pd.read_excel(all_animals_metadata)\n",
    "metadata"
   ],
   "id": "dbf5e2b6e9d9e148",
   "execution_count": 4,
   "outputs": []
  },
  {
   "metadata": {},
   "cell_type": "markdown",
   "source": [
    "## Data pre-processing\n",
    "\n",
    "The data that is exported from the BORIS tracking application provides two rows per state-event. One represents the start of the event, and one the stop, each having a single timestamp.\n",
    "\n",
    "We want to merge these rows and immediately calculate the duration of the (non)social cup state-event interaction. Let's do this first.\n",
    "\n",
    "To do so, we define a function that merges some information from the START and the STOP rows."
   ],
   "id": "141e69a9495eabf7"
  },
  {
   "metadata": {
    "ExecuteTime": {
     "end_time": "2024-05-06T07:25:44.443545Z",
     "start_time": "2024-05-06T07:25:44.433245Z"
    }
   },
   "cell_type": "code",
   "source": [
    "def merge_event_rows(beh_data):\n",
    "    merged_df = pd.concat([\n",
    "        beh_data.iloc[::2].reset_index(drop=True),  # only keep each start row\n",
    "        beh_data.iloc[::2].reset_index(drop=True)['Image index'].rename('Frame start'),  # interaction start frame, name it 'Frame start'\n",
    "        beh_data.iloc[1::2].reset_index(drop=True)['Image index'].rename('Frame stop'),  # interaction stop frame, name it 'Frame stop'\n",
    "        beh_data.iloc[1::2].reset_index(drop=True)['Time'] - beh_data.iloc[::2]['Time'].reset_index(drop=True),  # interaction duration\n",
    "    ], axis=1)\n",
    "    # rename the last column as it represents the duration of the interaction\n",
    "    merged_df = merged_df.set_axis([*merged_df.columns[:-1], 'Interaction duration'], axis=1)\n",
    "    # drop the columns we don't need\n",
    "    cols_to_drop = ['Image index', 'Time', 'Observation type', 'Source', 'Time offset (s)', 'Subject', 'Comment', 'Image file path', 'Description', 'Behavioral category', 'Behavior type']\n",
    "    return merged_df.drop(columns=cols_to_drop)"
   ],
   "id": "63845108c2370585",
   "execution_count": 5,
   "outputs": []
  },
  {
   "metadata": {},
   "cell_type": "markdown",
   "source": "Generate a df holding a single event line per event",
   "id": "cea8a91cc209e64e"
  },
  {
   "metadata": {
    "ExecuteTime": {
     "end_time": "2024-05-06T08:31:52.876009Z",
     "start_time": "2024-05-06T08:31:51.528514Z"
    }
   },
   "cell_type": "code",
   "source": [
    "beh_df = pd.DataFrame()\n",
    "\n",
    "# for each behaviour file (which holds behaviour data on one animal only)\n",
    "for file in os.listdir(behaviour_data_dir):\n",
    "    if not file.endswith('.xlsx') and 'batch' not in file:\n",
    "        continue\n",
    "        \n",
    "    beh_dat = pd.read_excel(os.path.join(behaviour_data_dir, file))\n",
    "    \n",
    "    # get the subject id\n",
    "    batch_cage = file.split('.')[0]\n",
    "    subject_id = [x for x in subject_id_batch_cage_dict.keys() if subject_id_batch_cage_dict[x] == batch_cage][0]\n",
    "    genotype = metadata[metadata.mouseId == subject_id]['genotype'].iloc[0]\n",
    "\n",
    "    for event_type in beh_dat['Behavior'].unique():\n",
    "        beh_dat_event = beh_dat[beh_dat['Behavior'] == event_type]\n",
    "        starts = beh_dat_event[beh_dat_event['Behavior type'] == 'START']\n",
    "        stops = beh_dat_event[beh_dat_event['Behavior type'] == 'STOP']\n",
    "        \n",
    "        if len(stops) < len(starts):\n",
    "            print(f'({batch_cage}, {subject_id}) Number of STOPs is smaller than number of STARTs for {event_type}')\n",
    "            if beh_dat_event.iloc[-1]['Behavior type'] == 'START':\n",
    "                print('Removing last row because it is of type START')\n",
    "                beh_dat_event = beh_dat_event.drop(beh_dat_event.index[-1])\n",
    "        if len(starts) < len(stops):\n",
    "            print(f'({batch_cage}, {subject_id}) Number of STARTs is smaller than number of STOPs for {event_type}')\n",
    "            if beh_dat_event.iloc[0]['Behavior type'] == 'STOP':\n",
    "                print('Removing first row because it is of type STOP')\n",
    "                beh_dat_event = beh_dat_event.drop(beh_dat_event.index[0])\n",
    "\n",
    "        beh_dat_event = merge_event_rows(beh_dat_event)\n",
    "        # merge the start and stop rows and calculate some stuff (interaction duration etc)\n",
    "        beh_dat_event.insert(1, 'subject_id', subject_id)\n",
    "        beh_dat_event.insert(2, 'genotype', genotype)\n",
    "        beh_df = pd.concat([beh_df, beh_dat_event], axis=0)"
   ],
   "id": "9eb2d99c3667cc4a",
   "execution_count": 43,
   "outputs": []
  },
  {
   "metadata": {},
   "cell_type": "markdown",
   "source": "Let's inspect the dataframe",
   "id": "e95a6b97d841ac00"
  },
  {
   "metadata": {
    "ExecuteTime": {
     "end_time": "2024-05-06T08:32:01.105937Z",
     "start_time": "2024-05-06T08:32:01.073992Z"
    }
   },
   "cell_type": "code",
   "source": "beh_df",
   "id": "86281412163a3805",
   "execution_count": 44,
   "outputs": []
  },
  {
   "metadata": {
    "ExecuteTime": {
     "end_time": "2024-05-06T08:32:02.190389Z",
     "start_time": "2024-05-06T08:32:02.183733Z"
    }
   },
   "cell_type": "code",
   "source": "print(f'Subjects/animals present (n={len(np.unique(beh_df[\"subject_id\"]))}):\\n{np.unique(beh_df[\"subject_id\"])} ')",
   "id": "a8da0c138cd9d9db",
   "execution_count": 45,
   "outputs": []
  },
  {
   "metadata": {},
   "cell_type": "markdown",
   "source": "## Sociability metric calculations",
   "id": "5105d3b2917b42d9"
  },
  {
   "metadata": {
    "ExecuteTime": {
     "end_time": "2024-05-06T08:32:04.978829Z",
     "start_time": "2024-05-06T08:32:04.845225Z"
    }
   },
   "cell_type": "code",
   "source": [
    "behaviour_stats = pd.DataFrame()\n",
    "\n",
    "# for each behaviour file (which holds behaviour data on one animal only)\n",
    "for subject_id in np.unique(beh_df[\"subject_id\"]):\n",
    "    \n",
    "    subject_data = beh_df[beh_df[\"subject_id\"] == subject_id]\n",
    "    genotype = subject_data['genotype'].iloc[0]\n",
    "    \n",
    "    for behaviour in np.unique(subject_data[\"Behavior\"]):\n",
    "        \n",
    "        behaviour_data = subject_data[subject_data[\"Behavior\"] == behaviour]\n",
    "        \n",
    "        temp = pd.DataFrame({\n",
    "            'subject_id': subject_id,\n",
    "            'genotype': genotype,\n",
    "            'event_type': behaviour,\n",
    "            'event_count' : len(behaviour_data),\n",
    "            'total_event_duration': np.sum(behaviour_data['Interaction duration']),\n",
    "            'average_event_duration': np.mean(subject_data['Interaction duration'])\n",
    "        }, index=[0])\n",
    "        behaviour_stats = pd.concat([behaviour_stats, temp], ignore_index=True)"
   ],
   "id": "f96d1dcf19d7ff73",
   "execution_count": 46,
   "outputs": []
  },
  {
   "metadata": {
    "ExecuteTime": {
     "end_time": "2024-05-06T08:32:06.141632Z",
     "start_time": "2024-05-06T08:32:06.117378Z"
    }
   },
   "cell_type": "code",
   "source": "behaviour_stats",
   "id": "4669024a931714e6",
   "execution_count": 47,
   "outputs": []
  },
  {
   "metadata": {
    "ExecuteTime": {
     "end_time": "2024-05-06T08:32:09.154038Z",
     "start_time": "2024-05-06T08:32:09.139218Z"
    }
   },
   "cell_type": "code",
   "source": "np.unique(behaviour_stats.genotype, return_counts=True)",
   "id": "46320a6a4831857b",
   "execution_count": 48,
   "outputs": []
  },
  {
   "metadata": {
    "ExecuteTime": {
     "end_time": "2024-05-06T08:32:10.491050Z",
     "start_time": "2024-05-06T08:32:10.478069Z"
    }
   },
   "cell_type": "code",
   "source": [
    "behaviour_stats = behaviour_stats.sort_values(by='genotype', ascending=False)\n",
    "boxplot_cols = behaviour_stats.columns[3:]\n",
    "boxplot_cols"
   ],
   "id": "eaf27db976927f3f",
   "execution_count": 49,
   "outputs": []
  },
  {
   "metadata": {
    "ExecuteTime": {
     "end_time": "2024-05-06T08:44:30.869553Z",
     "start_time": "2024-05-06T08:44:24.615530Z"
    }
   },
   "cell_type": "code",
   "source": [
    "swarmplot_palette = {'DRD2-WT':'#AEC2B3', 'DRD2-KO':'#C68083'}\n",
    "violin_palette = {'DRD2-WT':'#6A8D73', 'DRD2-KO':'#984447'}\n",
    "\n",
    "for event_type in behaviour_stats.event_type.unique():\n",
    "        \n",
    "    fig, axs = plt.subplots(nrows=1, ncols=3, figsize=(20, 7))\n",
    "    axs = axs.ravel()\n",
    "    \n",
    "    event_type_behaviour_stats = behaviour_stats[behaviour_stats.event_type == event_type]\n",
    "    \n",
    "    for i, metric in enumerate(boxplot_cols):\n",
    "        wt_metric_data = event_type_behaviour_stats[event_type_behaviour_stats.genotype == 'DRD2-WT'][metric]\n",
    "        ko_metric_data = event_type_behaviour_stats[event_type_behaviour_stats.genotype == 'DRD2-KO'][metric]\n",
    "    \n",
    "        t_statistic, p_val = ttest_ind(wt_metric_data, ko_metric_data)\n",
    "        \n",
    "        sns.boxplot(data=event_type_behaviour_stats, x='genotype', hue='genotype', y=metric, ax=axs[i], linewidth=2, palette=violin_palette)\n",
    "        sns.swarmplot(data=event_type_behaviour_stats, x='genotype', hue='genotype', y=metric, ax=axs[i], color=\"white\", edgecolor=\"auto\", s=6, palette=swarmplot_palette)\n",
    "        \n",
    "        y_range = axs[i].get_ylim()\n",
    "        offset = 0.08 * (y_range[1] - y_range[0])\n",
    "        \n",
    "        axs[i].text(0.5, y_range[1] - offset, f'T-stat: {round(t_statistic, 3)}\\nP-value: {round(p_val, 3)}', ha='center', va='top', fontsize=9, fontweight='bold')\n",
    "        \n",
    "    fig.tight_layout()\n",
    "    plt.suptitle(f'Comparison of {event_type} metrics in DRD2-WT and DRD2-KO Mice', fontsize=14, fontweight='bold', fontstyle='italic', y=1.025)\n",
    "    save_figure(os.path.join(plot_output_dir, f'behavioural_analysis/violin_grid_{event_type}.pdf'))"
   ],
   "id": "2e8b545c6f1910c",
   "execution_count": 51,
   "outputs": []
  }
 ],
 "metadata": {
  "kernelspec": {
   "display_name": "Python 3",
   "language": "python",
   "name": "python3"
  },
  "language_info": {
   "codemirror_mode": {
    "name": "ipython",
    "version": 2
   },
   "file_extension": ".py",
   "mimetype": "text/x-python",
   "name": "python",
   "nbconvert_exporter": "python",
   "pygments_lexer": "ipython2",
   "version": "2.7.6"
  }
 },
 "nbformat": 4,
 "nbformat_minor": 5
}
