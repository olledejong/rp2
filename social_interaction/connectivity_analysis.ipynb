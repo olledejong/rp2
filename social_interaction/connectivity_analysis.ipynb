{
 "cells": [
  {
   "metadata": {
    "ExecuteTime": {
     "end_time": "2024-05-06T09:17:32.949756Z",
     "start_time": "2024-05-06T09:17:32.944965Z"
    }
   },
   "cell_type": "code",
   "source": [
    "import os\n",
    "import mne\n",
    "import numpy as np\n",
    "import pandas as pd\n",
    "import seaborn as sns\n",
    "import matplotlib.pyplot as plt\n",
    "from mne_connectivity import spectral_connectivity_epochs, seed_target_indices\n",
    "\n",
    "from shared.helper_functions import save_figure, select_folder, select_or_create_folder\n",
    "from settings_general import low_qual_chans, freq_bands_eeg"
   ],
   "id": "90dd976f6ce8707a",
   "execution_count": 2,
   "outputs": []
  },
  {
   "metadata": {},
   "cell_type": "markdown",
   "source": "Change plot theme",
   "id": "36f4ef8a1e0537d2"
  },
  {
   "metadata": {
    "ExecuteTime": {
     "end_time": "2024-05-06T09:17:33.631018Z",
     "start_time": "2024-05-06T09:17:33.626785Z"
    }
   },
   "cell_type": "code",
   "source": "sns.set_theme()",
   "id": "bf8570608a5d45e7",
   "execution_count": 3,
   "outputs": []
  },
  {
   "metadata": {},
   "cell_type": "markdown",
   "source": "And define a palette to plot with",
   "id": "b5447da95f64d0ef"
  },
  {
   "metadata": {
    "ExecuteTime": {
     "end_time": "2024-05-06T09:17:38.030637Z",
     "start_time": "2024-05-06T09:17:38.024765Z"
    }
   },
   "cell_type": "code",
   "source": [
    "palette = {'DRD2-WT': '#427C99', 'DRD2-KO': '#AF5541'}\n",
    "palette_gr = {'DRD2-WT':'#6A8D73', 'DRD2-KO':'#984447'}"
   ],
   "id": "e5c352d0d1bb44e7",
   "execution_count": 4,
   "outputs": []
  },
  {
   "metadata": {},
   "cell_type": "markdown",
   "source": "Let the user select the needed folders",
   "id": "c13ab6b23e5af621"
  },
  {
   "metadata": {
    "ExecuteTime": {
     "end_time": "2024-05-06T09:18:07.716538Z",
     "start_time": "2024-05-06T09:17:42.033545Z"
    }
   },
   "cell_type": "code",
   "source": [
    "epoch_folder = select_folder(\"Select the folder that holds the social interaction experiment's epoch files\")\n",
    "plot_folder = select_or_create_folder(\"Create or select a folder the plots will be saved to\")"
   ],
   "id": "8aed3dc1b00ee6cc",
   "execution_count": 5,
   "outputs": []
  },
  {
   "metadata": {
    "ExecuteTime": {
     "end_time": "2024-05-06T09:18:11.054888Z",
     "start_time": "2024-05-06T09:18:11.044116Z"
    }
   },
   "cell_type": "code",
   "source": "epoch_folder",
   "id": "4821c657e118b6d2",
   "execution_count": 6,
   "outputs": []
  },
  {
   "metadata": {
    "ExecuteTime": {
     "end_time": "2024-05-06T09:18:11.422825Z",
     "start_time": "2024-05-06T09:18:11.414022Z"
    }
   },
   "cell_type": "code",
   "source": "plot_folder",
   "id": "54e9cceed4e4d5fa",
   "execution_count": 7,
   "outputs": []
  },
  {
   "metadata": {},
   "cell_type": "markdown",
   "source": "Define the channels we're not interested in",
   "id": "a6537ea882393663"
  },
  {
   "metadata": {
    "ExecuteTime": {
     "end_time": "2024-05-06T09:18:15.901928Z",
     "start_time": "2024-05-06T09:18:15.896545Z"
    }
   },
   "cell_type": "code",
   "source": "excluded_chans = ['EMG_L', 'EMG_R']",
   "id": "ce730ca4be9d0dc3",
   "execution_count": 8,
   "outputs": []
  },
  {
   "metadata": {},
   "cell_type": "markdown",
   "source": "Load all subject epochs",
   "id": "f27efe5e1998c4b"
  },
  {
   "metadata": {
    "ExecuteTime": {
     "end_time": "2024-05-06T09:18:21.959147Z",
     "start_time": "2024-05-06T09:18:21.333989Z"
    }
   },
   "cell_type": "code",
   "source": [
    "all_subject_epochs = []\n",
    "for file in os.listdir(epoch_folder):\n",
    "    if not file.endswith('.fif') or file.startswith('.'):\n",
    "        continue\n",
    "    all_subject_epochs.append(mne.read_epochs(os.path.join(epoch_folder, file), preload=True, verbose='WARNING'))"
   ],
   "id": "d4f245d2480119c1",
   "execution_count": 9,
   "outputs": []
  },
  {
   "metadata": {
    "ExecuteTime": {
     "end_time": "2024-05-06T09:18:23.538243Z",
     "start_time": "2024-05-06T09:18:23.527990Z"
    }
   },
   "cell_type": "code",
   "source": "len(all_subject_epochs)",
   "id": "ea2c9320301d2e21",
   "execution_count": 10,
   "outputs": []
  },
  {
   "metadata": {},
   "cell_type": "markdown",
   "source": "### Define some computation functions",
   "id": "4f80c01d38d34e9"
  },
  {
   "metadata": {
    "ExecuteTime": {
     "end_time": "2024-05-06T09:18:24.860267Z",
     "start_time": "2024-05-06T09:18:24.855420Z"
    }
   },
   "cell_type": "code",
   "source": [
    "def compute_con(epochs, method, fmin=0, fmax=100):\n",
    "    # Compute spectral connectivity\n",
    "    con = spectral_connectivity_epochs(\n",
    "        epochs, method=method, mode='multitaper', sfreq=epochs.info['sfreq'],\n",
    "        fmin=fmin, fmax=fmax, faverage=True, verbose=\"ERROR\", gc_n_lags=40)\n",
    "    return con.get_data(output='dense')"
   ],
   "id": "b25b4d432f426964",
   "execution_count": 11,
   "outputs": []
  },
  {
   "metadata": {},
   "cell_type": "markdown",
   "source": "And a function that computes a dataframe holding the connectivity for all the subject's epochs.",
   "id": "735efc4f695e819"
  },
  {
   "metadata": {
    "ExecuteTime": {
     "end_time": "2024-05-06T09:18:27.189581Z",
     "start_time": "2024-05-06T09:18:27.180104Z"
    }
   },
   "cell_type": "code",
   "source": [
    "def connectivity_df(subject_epoch_objects, method):\n",
    "    results_df = pd.DataFrame()\n",
    "\n",
    "    for subject_epochs in subject_epoch_objects:\n",
    "                \n",
    "        for event_type in subject_epochs.metadata['interaction_kind'].unique():\n",
    "                \n",
    "            interaction_kind_epochs = subject_epochs[subject_epochs.metadata['interaction_kind'] == event_type]\n",
    "            if len(interaction_kind_epochs) == 0:\n",
    "                continue\n",
    "                \n",
    "            interaction_kind_epochs = interaction_kind_epochs.drop_channels(excluded_chans)\n",
    "            \n",
    "            subject_id = int(interaction_kind_epochs.metadata['subject_id'].iloc[0])    \n",
    "            genotype = interaction_kind_epochs.metadata['genotype'].iloc[0]\n",
    "    \n",
    "            # compute the given connectivity measure for every frequency band\n",
    "            for band_name, (fmin, fmax) in freq_bands_eeg.items():\n",
    "                \n",
    "                # compute the connectivity using the provided method\n",
    "                con = compute_con(interaction_kind_epochs, method, fmin, fmax)\n",
    "                \n",
    "                # loop through every channel combination\n",
    "                for i in range(con.shape[1]):\n",
    "                    for j in range(i+1, con.shape[0]):\n",
    "                        if subject_id in low_qual_chans.keys():\n",
    "                            if interaction_kind_epochs.ch_names[i] in low_qual_chans[subject_id] or interaction_kind_epochs.ch_names[j] in low_qual_chans[subject_id]:\n",
    "                                continue\n",
    "                        # add the data\n",
    "                        results_df = pd.concat([results_df, pd.DataFrame({\n",
    "                            'con' : con[j, i, 0],\n",
    "                            'node1' : interaction_kind_epochs.ch_names[i],\n",
    "                            'node2' : interaction_kind_epochs.ch_names[j],\n",
    "                            'band' : band_name,\n",
    "                            'subject_id': subject_id,\n",
    "                            'genotype': genotype,\n",
    "                            'event_type': event_type,\n",
    "                        }, index=[0])], ignore_index=True)\n",
    "                                \n",
    "    return results_df"
   ],
   "id": "f7f7cdfa60509adf",
   "execution_count": 12,
   "outputs": []
  },
  {
   "metadata": {},
   "cell_type": "markdown",
   "source": "And also a function that allows us to generate a heatmap of the connectivity per channel combination",
   "id": "4c3e27749ea8b79d"
  },
  {
   "metadata": {
    "ExecuteTime": {
     "end_time": "2024-05-06T09:18:31.380017Z",
     "start_time": "2024-05-06T09:18:31.372223Z"
    }
   },
   "cell_type": "code",
   "source": [
    "def generate_con_heatmap(df, freq_band, cmap, fig_title='', method='', ax=None):\n",
    "    # subset the data for a given frequency band\n",
    "    filtered_df = df[df['band'] == freq_band]\n",
    "\n",
    "    # generate pivot table with mean 'method' values\n",
    "    pivot_table = filtered_df.pivot_table(index='node1', columns='node2', values='con', aggfunc='mean')\n",
    "\n",
    "    # make table symmetric by filling missing values\n",
    "    pivot_table = pivot_table.combine_first(pivot_table.T)\n",
    "\n",
    "    # set diagonal and upper triangle values to NaN, this way we still plot all data\n",
    "    for i in range(pivot_table.shape[0]):\n",
    "        for j in range(i, pivot_table.shape[1]):\n",
    "            pivot_table.iat[i, j] = np.nan\n",
    "\n",
    "    fig = sns.heatmap(pivot_table, cmap=cmap, annot=True, fmt=\".2f\", vmin=0, vmax=1, ax=ax, square=True, cbar_kws={'shrink': 0.75})\n",
    "    fig.set_title(fig_title)\n",
    "\n",
    "    cbar = fig.collections[0].colorbar\n",
    "    cbar.set_label(f'Mean {method}', fontsize=12)\n",
    "    cbar.outline.set_edgecolor('black')\n",
    "    cbar.outline.set_linewidth(1)"
   ],
   "id": "3d85f8ed70223fee",
   "execution_count": 13,
   "outputs": []
  },
  {
   "metadata": {
    "ExecuteTime": {
     "end_time": "2024-05-06T09:18:31.986851Z",
     "start_time": "2024-05-06T09:18:31.978866Z"
    }
   },
   "cell_type": "code",
   "source": [
    "def generate_grid_plot_wt_vs_ko(data, event_type, method, cmap='flare'):\n",
    "    fig, ax = plt.subplots(nrows=2, ncols=5, figsize=(24, 10))\n",
    "    \n",
    "    freq_band_names = freq_bands_eeg.keys()\n",
    "    genotypes = data['genotype'].unique()\n",
    "    \n",
    "    # loop through genotypes\n",
    "    for i, genotype in enumerate(genotypes):\n",
    "        genotype_data = data[data['genotype'] == genotype]\n",
    "        for j, band in enumerate(freq_band_names):\n",
    "            generate_con_heatmap(genotype_data, band, cmap=cmap, fig_title=f'{genotype} - {band} Band', method=method, ax=ax[i, j])\n",
    "    \n",
    "    plt.tight_layout()\n",
    "    plt.subplots_adjust(wspace=0.25, hspace=-0.1)\n",
    "    save_figure(os.path.join(plot_folder, f\"connectivity/heatmaps/wt_vs_ko_{event_type}_{method}.pdf\"))"
   ],
   "id": "738d03deeb9e54dd",
   "execution_count": 14,
   "outputs": []
  },
  {
   "metadata": {},
   "cell_type": "markdown",
   "source": "Lastly a function that allows us to generate barplots of the connectivity measures",
   "id": "25c243ad1844576"
  },
  {
   "metadata": {
    "ExecuteTime": {
     "end_time": "2024-05-06T09:18:32.850530Z",
     "start_time": "2024-05-06T09:18:32.841528Z"
    }
   },
   "cell_type": "code",
   "source": [
    "def generate_barplots(data, event_type, method):\n",
    "    combinations = data['node1'] + '-' + data['node2']\n",
    "    unique_combinations = combinations.unique()\n",
    "    \n",
    "    fig, axs = plt.subplots(nrows=3, ncols=7, figsize=(35, 15), sharey=True, sharex=True)\n",
    "    axs = axs.ravel()\n",
    "    \n",
    "    for i, combination in enumerate(unique_combinations):\n",
    "        # subset the data\n",
    "        chan1, chan2 = combination.split('-')\n",
    "        data_subset = data[(data['node1'] == chan1) & (data['node2'] == chan2)]\n",
    "        \n",
    "        sns.barplot(data=data_subset, x=\"band\", y=\"con\", hue=\"genotype\", palette=palette, hue_order=[\"DRD2-WT\", \"DRD2-KO\"], ax=axs[i], errorbar=None)\n",
    "        sns.stripplot(data=data_subset, x=\"band\", y=\"con\", hue=\"genotype\", palette='dark:black', hue_order=[\"DRD2-WT\", \"DRD2-KO\"], alpha=0.4, dodge=True, legend=False, ax=axs[i])\n",
    "        \n",
    "        axs[i].set_title(f\"Connectivity of {chan1} and {chan2} ({method.upper()})\")\n",
    "        axs[i].set_xlabel(\"Frequency band\")\n",
    "        axs[i].set_ylabel(f\"Connectivity ({method.upper()})\")\n",
    "    \n",
    "    plt.subplots_adjust(wspace=0.3, hspace=0.3)\n",
    "    plt.tight_layout()\n",
    "    save_figure(os.path.join(plot_folder, f\"connectivity/barplots/grid_{event_type}_{method}.pdf\"))"
   ],
   "id": "e8a114beec28daa3",
   "execution_count": 15,
   "outputs": []
  },
  {
   "metadata": {},
   "cell_type": "markdown",
   "source": [
    "## Exploration on a single subject (30958)\n",
    "\n",
    "### Phase Lag Index exploration\n",
    "\n",
    "#### Directed Phase-Lag-Index (dPLI)"
   ],
   "id": "f5d36d17622bbf0f"
  },
  {
   "metadata": {
    "ExecuteTime": {
     "end_time": "2024-05-03T11:41:34.443872Z",
     "start_time": "2024-05-03T11:41:34.357005Z"
    }
   },
   "cell_type": "code",
   "source": [
    "for obj in all_subject_epochs:\n",
    "    if obj.metadata.subject_id.iloc[0] == '39508':\n",
    "        epochs_39508 = obj.copy()\n",
    "        \n",
    "epochs_39508.drop_channels(['S1_L', 'S1_R', 'V1_R', 'EMG_L', 'EMG_R'])\n",
    "epochs_39508.info['ch_names']"
   ],
   "id": "deaa0f037c4a7ef7",
   "execution_count": 15,
   "outputs": []
  },
  {
   "metadata": {
    "ExecuteTime": {
     "end_time": "2024-05-03T11:41:48.180482Z",
     "start_time": "2024-05-03T11:41:47.761643Z"
    }
   },
   "cell_type": "code",
   "source": [
    "fig = plt.figure(figsize=(16, 3))\n",
    "plt.plot(epochs_39508[5].get_data(picks='CG')[0,0,:], label='GC')\n",
    "plt.plot(epochs_39508[5].get_data(picks='STR_R')[0,0,:], label='STR_R')\n",
    "plt.legend()"
   ],
   "id": "ff6528e5d62da762",
   "execution_count": 17,
   "outputs": []
  },
  {
   "metadata": {},
   "cell_type": "markdown",
   "source": "Visually, the STR_R seems to lag behind the GC, or the GC leads the STR_R",
   "id": "2d4ab0bb57e7b14e"
  },
  {
   "metadata": {
    "ExecuteTime": {
     "end_time": "2024-05-03T11:42:11.690689Z",
     "start_time": "2024-05-03T11:42:11.635834Z"
    }
   },
   "cell_type": "code",
   "source": [
    "seeds = [idx for idx, ch_info in enumerate(['OFC_R', 'OFC_L', 'CG', 'STR_R'])]\n",
    "targets = [idx for idx, ch_info in enumerate(['OFC_R', 'OFC_L', 'CG', 'STR_R'])]\n",
    "indices = seed_target_indices(seeds, targets)\n",
    "print(f'Bi-variate indexes used for pairwise connectivity calculations:\\n {indices}')\n",
    "\n",
    "# calculate dpli for one specific epoch\n",
    "dpli_test = spectral_connectivity_epochs(\n",
    "    epochs_39508[5], indices=indices, sfreq=epochs_39508.info['sfreq'], method=\"dpli\", fmin=5, fmax=100\n",
    ")\n",
    "\n",
    "# report some stuff\n",
    "print(f'\\nShape of the dpli output: {dpli_test.get_data(output=\"dense\").shape}')\n",
    "print(f'\\nLength of the frequency array (holds at which the dPLI is calculated): {len(dpli_test.freqs)}')\n",
    "print(f'\\nThe dPLI output:\\n {dpli_test.get_data(output=\"dense\")}')"
   ],
   "id": "f14a7ca234342f22",
   "execution_count": 19,
   "outputs": []
  },
  {
   "metadata": {
    "ExecuteTime": {
     "end_time": "2024-05-03T11:42:39.631843Z",
     "start_time": "2024-05-03T11:42:39.626619Z"
    }
   },
   "cell_type": "code",
   "source": [
    "print(f'Mean dPLI for CG --> STR_R:  {np.average(dpli_test.get_data(output=\"dense\")[2,3,:])}')\n",
    "print(f'Mean dPLI for STR_R --> CG:  {np.average(dpli_test.get_data(output=\"dense\")[3,2,:])}')"
   ],
   "id": "4a92ac9f79ca2143",
   "execution_count": 20,
   "outputs": []
  },
  {
   "metadata": {},
   "cell_type": "markdown",
   "source": [
    "We can, from these, observe that they are each others opposites, which makes sense, as we calculate the **directed** phase-lag index here. If one leads or lags the other, the score of the reverse is gonna be the opposite. Note; the dPLI ranges from 0 to 1.\n",
    "\n",
    "Now, how do we interpret this?\n",
    "\n",
    "The reference (first provided signal) is lagging the other signal if dPLI is between 0 and 0.5, and the reference signal is leading the other signal is the dPLI is between 0.5 and 1.0.\n",
    "\n",
    "So, the CG is leading the STR_R signal, or, the STR_R is lagging the CG signal."
   ],
   "id": "7ba4a56863005208"
  },
  {
   "metadata": {},
   "cell_type": "markdown",
   "source": "#### Weighted Phase-Lag-Index (wPLI)",
   "id": "b6083876ae9463c9"
  },
  {
   "metadata": {
    "ExecuteTime": {
     "end_time": "2024-05-03T11:46:27.178141Z",
     "start_time": "2024-05-03T11:46:27.088610Z"
    }
   },
   "cell_type": "code",
   "source": [
    "print(f'Bi-variate indexes used for pairwise connectivity calculations:\\n {indices}')\n",
    "\n",
    "# calculate dpli for one specific epoch\n",
    "wpli_test = spectral_connectivity_epochs(\n",
    "    epochs_39508[5], indices=indices, sfreq=epochs_39508.info['sfreq'], method=\"wpli\", fmin=5, fmax=100\n",
    ")\n",
    "\n",
    "# report some stuff\n",
    "print(f'\\nShape of the dpli output: {wpli_test.get_data(output=\"dense\").shape}')\n",
    "print(f'\\nLength of the frequency array (holds at which the dPLI is calculated): {len(wpli_test.freqs)}')\n",
    "print(f'\\nThe dPLI output:\\n {wpli_test.get_data(output=\"dense\")}')"
   ],
   "id": "e41d29dfb46570be",
   "execution_count": 21,
   "outputs": []
  },
  {
   "metadata": {
    "ExecuteTime": {
     "end_time": "2024-05-03T11:46:31.716415Z",
     "start_time": "2024-05-03T11:46:31.706879Z"
    }
   },
   "cell_type": "code",
   "source": "wpli_test.get_data(output=\"dense\")[2,3,:]",
   "id": "b6c0cd405158a11",
   "execution_count": 22,
   "outputs": []
  },
  {
   "metadata": {
    "ExecuteTime": {
     "end_time": "2024-05-03T11:47:35.373205Z",
     "start_time": "2024-05-03T11:47:35.365224Z"
    }
   },
   "cell_type": "code",
   "source": [
    "print(f'Mean wPLI for CG --> STR_R:  {np.average(wpli_test.get_data(output=\"dense\")[2,3,:])}')\n",
    "print(f'Mean wPLI for STR_R --> CG:  {np.average(wpli_test.get_data(output=\"dense\")[3,2,:])}')"
   ],
   "id": "468fdbada212eda5",
   "execution_count": 23,
   "outputs": []
  },
  {
   "metadata": {},
   "cell_type": "markdown",
   "source": "The wPLI ranges from 0 to 1, where 0 means no phase synchronization, and 1.0 means perfect phase synchronization, which refers to a situation where two signals exhibit a constant and consistent phase relationship across time. In this specific epoch, that wPLI tells us that that is the case.",
   "id": "2b141963c132ce33"
  },
  {
   "metadata": {},
   "cell_type": "markdown",
   "source": [
    "## Connectivity for social versus non-social cup interaction epochs\n",
    "\n",
    "### Coherence (coh)"
   ],
   "id": "a04d65ea7d2f386b"
  },
  {
   "metadata": {
    "ExecuteTime": {
     "end_time": "2024-05-03T12:11:40.631013Z",
     "start_time": "2024-05-03T12:11:27.594440Z"
    }
   },
   "cell_type": "code",
   "source": "conn = connectivity_df(all_subject_epochs, \"coh\")",
   "id": "ae363848513ffd4a",
   "execution_count": 42,
   "outputs": []
  },
  {
   "metadata": {
    "ExecuteTime": {
     "end_time": "2024-05-03T12:12:34.901552Z",
     "start_time": "2024-05-03T12:11:48.980047Z"
    }
   },
   "cell_type": "code",
   "source": [
    "generate_grid_plot_wt_vs_ko(conn[conn.event_type == 'sniff'], 'sniff', 'coh')\n",
    "generate_grid_plot_wt_vs_ko(conn[conn.event_type == 'follow'], 'follow', 'coh')\n",
    "generate_grid_plot_wt_vs_ko(conn[conn.event_type == 'groom'], 'groom', 'coh')"
   ],
   "id": "7a0408c8c2468bae",
   "execution_count": 44,
   "outputs": []
  },
  {
   "metadata": {},
   "cell_type": "code",
   "execution_count": 30,
   "source": [
    "generate_barplots(conn[conn.event_type == 'sniff'], 'sniff', 'coh')\n",
    "generate_barplots(conn[conn.event_type == 'follow'], 'follow', 'coh')\n",
    "generate_barplots(conn[conn.event_type == 'groom'], 'groom', 'coh')"
   ],
   "id": "dec313f7279046f7",
   "outputs": []
  },
  {
   "metadata": {},
   "cell_type": "markdown",
   "source": "### Imaginary coherence (imcoh)",
   "id": "9c880162b2db492b"
  },
  {
   "metadata": {
    "ExecuteTime": {
     "end_time": "2024-05-03T12:15:53.810273Z",
     "start_time": "2024-05-03T12:15:42.190979Z"
    }
   },
   "cell_type": "code",
   "source": "conn = connectivity_df(all_subject_epochs, \"imcoh\")",
   "id": "3605441ab280b159",
   "execution_count": 45,
   "outputs": []
  },
  {
   "metadata": {
    "ExecuteTime": {
     "end_time": "2024-05-03T12:16:24.217009Z",
     "start_time": "2024-05-03T12:15:53.814753Z"
    }
   },
   "cell_type": "code",
   "source": [
    "generate_grid_plot_wt_vs_ko(conn[conn.event_type == 'sniff'], 'sniff', 'imcoh')\n",
    "generate_grid_plot_wt_vs_ko(conn[conn.event_type == 'follow'], 'follow', 'imcoh')\n",
    "generate_grid_plot_wt_vs_ko(conn[conn.event_type == 'groom'], 'groom', 'imcoh')"
   ],
   "id": "488ba05d77fdc064",
   "execution_count": 46,
   "outputs": []
  },
  {
   "metadata": {
    "ExecuteTime": {
     "end_time": "2024-05-03T12:16:49.139345Z",
     "start_time": "2024-05-03T12:16:24.218854Z"
    }
   },
   "cell_type": "code",
   "source": [
    "generate_barplots(conn[conn.event_type == 'sniff'], 'sniff', 'imcoh')\n",
    "generate_barplots(conn[conn.event_type == 'follow'], 'follow', 'imcoh')\n",
    "generate_barplots(conn[conn.event_type == 'groom'], 'groom', 'imcoh')"
   ],
   "id": "2e1ebafa2a2627f2",
   "execution_count": 47,
   "outputs": []
  },
  {
   "metadata": {},
   "cell_type": "markdown",
   "source": "### Corrected imaginary Phase Locking Value (ciPLV)",
   "id": "26c3a085cffc4520"
  },
  {
   "metadata": {
    "ExecuteTime": {
     "end_time": "2024-05-03T12:16:57.421067Z",
     "start_time": "2024-05-03T12:16:49.144350Z"
    }
   },
   "cell_type": "code",
   "source": "conn = connectivity_df(all_subject_epochs, \"ciplv\")",
   "id": "cfda8234de6c3cb4",
   "execution_count": 48,
   "outputs": []
  },
  {
   "metadata": {
    "ExecuteTime": {
     "end_time": "2024-05-03T12:17:24.692270Z",
     "start_time": "2024-05-03T12:16:57.423584Z"
    }
   },
   "cell_type": "code",
   "source": [
    "generate_grid_plot_wt_vs_ko(conn[conn.event_type == 'sniff'], 'sniff', 'ciplv')\n",
    "generate_grid_plot_wt_vs_ko(conn[conn.event_type == 'follow'], 'follow', 'ciplv')\n",
    "generate_grid_plot_wt_vs_ko(conn[conn.event_type == 'groom'], 'groom', 'ciplv')"
   ],
   "id": "b85ae03165fd111c",
   "execution_count": 49,
   "outputs": []
  },
  {
   "metadata": {
    "ExecuteTime": {
     "end_time": "2024-05-03T12:17:48.743398Z",
     "start_time": "2024-05-03T12:17:24.695161Z"
    }
   },
   "cell_type": "code",
   "source": [
    "generate_barplots(conn[conn.event_type == 'sniff'], 'sniff', 'ciplv')\n",
    "generate_barplots(conn[conn.event_type == 'follow'], 'follow', 'ciplv')\n",
    "generate_barplots(conn[conn.event_type == 'groom'], 'groom', 'ciplv')"
   ],
   "id": "809a2ca8b15d047f",
   "execution_count": 50,
   "outputs": []
  },
  {
   "metadata": {},
   "cell_type": "markdown",
   "source": "### Directed Phase Lag Index (dPLI)",
   "id": "70e1da7b99c8d408"
  },
  {
   "metadata": {
    "ExecuteTime": {
     "end_time": "2024-05-03T12:17:56.923943Z",
     "start_time": "2024-05-03T12:17:48.745862Z"
    }
   },
   "cell_type": "code",
   "source": "conn = connectivity_df(all_subject_epochs, \"dpli\")",
   "id": "8e76d75c03121552",
   "execution_count": 51,
   "outputs": []
  },
  {
   "metadata": {
    "ExecuteTime": {
     "end_time": "2024-05-03T12:18:22.840911Z",
     "start_time": "2024-05-03T12:17:56.926618Z"
    }
   },
   "cell_type": "code",
   "source": [
    "generate_grid_plot_wt_vs_ko(conn[conn.event_type == 'sniff'], 'sniff', 'dpli')\n",
    "generate_grid_plot_wt_vs_ko(conn[conn.event_type == 'follow'], 'follow', 'dpli')\n",
    "generate_grid_plot_wt_vs_ko(conn[conn.event_type == 'groom'], 'groom', 'dpli')"
   ],
   "id": "2a3be96ec2a66b1e",
   "execution_count": 52,
   "outputs": []
  },
  {
   "metadata": {
    "ExecuteTime": {
     "end_time": "2024-05-03T12:18:47.830255Z",
     "start_time": "2024-05-03T12:18:22.843057Z"
    }
   },
   "cell_type": "code",
   "source": [
    "generate_barplots(conn[conn.event_type == 'sniff'], 'sniff', 'dpli')\n",
    "generate_barplots(conn[conn.event_type == 'follow'], 'follow', 'dpli')\n",
    "generate_barplots(conn[conn.event_type == 'groom'], 'groom', 'dpli')"
   ],
   "id": "e53d00815eb8df99",
   "execution_count": 53,
   "outputs": []
  },
  {
   "metadata": {},
   "cell_type": "markdown",
   "source": "### Weighted Phase Lag Index (wPLI)",
   "id": "7714965cac92b411"
  },
  {
   "metadata": {
    "ExecuteTime": {
     "end_time": "2024-05-03T12:19:00.452721Z",
     "start_time": "2024-05-03T12:18:47.837569Z"
    }
   },
   "cell_type": "code",
   "source": "conn = connectivity_df(all_subject_epochs, \"wpli\")",
   "id": "a99af0caef3509ed",
   "execution_count": 54,
   "outputs": []
  },
  {
   "metadata": {
    "ExecuteTime": {
     "end_time": "2024-05-03T12:19:28.554530Z",
     "start_time": "2024-05-03T12:19:00.455694Z"
    }
   },
   "cell_type": "code",
   "source": [
    "generate_grid_plot_wt_vs_ko(conn[conn.event_type == 'sniff'], 'sniff', 'wpli')\n",
    "generate_grid_plot_wt_vs_ko(conn[conn.event_type == 'follow'], 'follow', 'wpli')\n",
    "generate_grid_plot_wt_vs_ko(conn[conn.event_type == 'groom'], 'groom', 'wpli')"
   ],
   "id": "880d1e74b33b2191",
   "execution_count": 55,
   "outputs": []
  },
  {
   "metadata": {
    "ExecuteTime": {
     "end_time": "2024-05-03T12:19:53.183912Z",
     "start_time": "2024-05-03T12:19:28.556902Z"
    }
   },
   "cell_type": "code",
   "source": [
    "generate_barplots(conn[conn.event_type == 'sniff'], 'sniff', 'wpli')\n",
    "generate_barplots(conn[conn.event_type == 'follow'], 'follow', 'wpli')\n",
    "generate_barplots(conn[conn.event_type == 'groom'], 'groom', 'wpli')"
   ],
   "id": "a2e744970f1852e6",
   "execution_count": 56,
   "outputs": []
  },
  {
   "metadata": {},
   "cell_type": "markdown",
   "source": "### Debiased estimator of squared WPLI (wPLI-2 debiased)",
   "id": "b07205ba5cffcdf"
  },
  {
   "metadata": {
    "ExecuteTime": {
     "end_time": "2024-05-03T12:20:02.286078Z",
     "start_time": "2024-05-03T12:19:53.185826Z"
    }
   },
   "cell_type": "code",
   "source": "conn = connectivity_df(all_subject_epochs, \"wpli2_debiased\")",
   "id": "498b69b9f289162f",
   "execution_count": 57,
   "outputs": []
  },
  {
   "metadata": {
    "ExecuteTime": {
     "end_time": "2024-05-03T12:20:28.837470Z",
     "start_time": "2024-05-03T12:20:02.288160Z"
    }
   },
   "cell_type": "code",
   "source": [
    "generate_grid_plot_wt_vs_ko(conn[conn.event_type == 'sniff'], 'sniff', 'wpli2_debiased')\n",
    "generate_grid_plot_wt_vs_ko(conn[conn.event_type == 'follow'], 'follow', 'wpli2_debiased')\n",
    "generate_grid_plot_wt_vs_ko(conn[conn.event_type == 'groom'], 'groom', 'wpli2_debiased')"
   ],
   "id": "fa06c2a68b640dea",
   "execution_count": 58,
   "outputs": []
  },
  {
   "metadata": {
    "ExecuteTime": {
     "end_time": "2024-05-03T12:20:52.825415Z",
     "start_time": "2024-05-03T12:20:28.839184Z"
    }
   },
   "cell_type": "code",
   "source": [
    "generate_barplots(conn[conn.event_type == 'sniff'], 'sniff', 'wpli2_debiased')\n",
    "generate_barplots(conn[conn.event_type == 'follow'], 'follow', 'wpli2_debiased')\n",
    "generate_barplots(conn[conn.event_type == 'groom'], 'groom', 'wpli2_debiased')"
   ],
   "id": "20591e51bbc9adf",
   "execution_count": 59,
   "outputs": []
  },
  {
   "metadata": {},
   "cell_type": "markdown",
   "source": "### Pairwise Phase Consistency (PPC)",
   "id": "fbcc1fa09df2f1b0"
  },
  {
   "metadata": {
    "ExecuteTime": {
     "end_time": "2024-05-03T12:21:01.258487Z",
     "start_time": "2024-05-03T12:20:52.827760Z"
    }
   },
   "cell_type": "code",
   "source": "conn = connectivity_df(all_subject_epochs, \"ppc\")",
   "id": "a3e59bfda72a1aa7",
   "execution_count": 60,
   "outputs": []
  },
  {
   "metadata": {
    "ExecuteTime": {
     "end_time": "2024-05-03T12:21:28.963851Z",
     "start_time": "2024-05-03T12:21:01.260693Z"
    }
   },
   "cell_type": "code",
   "source": [
    "generate_grid_plot_wt_vs_ko(conn[conn.event_type == 'sniff'], 'sniff', 'ppc')\n",
    "generate_grid_plot_wt_vs_ko(conn[conn.event_type == 'follow'], 'follow', 'ppc')\n",
    "generate_grid_plot_wt_vs_ko(conn[conn.event_type == 'groom'], 'groom', 'ppc')"
   ],
   "id": "1f2325f7f46442d1",
   "execution_count": 61,
   "outputs": []
  },
  {
   "metadata": {
    "ExecuteTime": {
     "end_time": "2024-05-03T12:21:53.003275Z",
     "start_time": "2024-05-03T12:21:28.966271Z"
    }
   },
   "cell_type": "code",
   "source": [
    "generate_barplots(conn[conn.event_type == 'sniff'], 'sniff', 'ppc')\n",
    "generate_barplots(conn[conn.event_type == 'follow'], 'follow', 'ppc')\n",
    "generate_barplots(conn[conn.event_type == 'groom'], 'groom', 'ppc')"
   ],
   "id": "21e21fb9fb3d0b6b",
   "execution_count": 62,
   "outputs": []
  },
  {
   "metadata": {},
   "cell_type": "markdown",
   "source": [
    "## Multivariate connectivity analysis\n",
    "\n",
    "Compute the multivariate connectivity measures for all subject's epochs\n",
    "\n",
    "#### First, we use all EEG channels\n",
    "\n",
    "Now, we also include the skull electrodes, and of course still exclude the EMGs"
   ],
   "id": "9f00358f9012d30e"
  },
  {
   "metadata": {
    "ExecuteTime": {
     "end_time": "2024-05-06T09:19:44.285598Z",
     "start_time": "2024-05-06T09:18:45.212900Z"
    }
   },
   "cell_type": "code",
   "source": [
    "results_df = pd.DataFrame()\n",
    "\n",
    "# for each subject, get the resting/active/sleep epochs, drop the emg channels and calculate the mic and mim\n",
    "for subj_epochs in all_subject_epochs:\n",
    "    subject_id = int(subj_epochs.metadata['subject_id'].iloc[0])\n",
    "    genotype = subj_epochs.metadata['genotype'].iloc[0]\n",
    "    \n",
    "    for behaviour in subj_epochs.metadata['interaction_kind'].unique():\n",
    "        state_epochs = subj_epochs[subj_epochs.metadata['interaction_kind'] == behaviour]\n",
    "\n",
    "        (mic, mim) = spectral_connectivity_epochs(state_epochs, method=['mic', 'mim'], n_jobs=-1, fmin=1, fmax=100, verbose='ERROR')\n",
    "    \n",
    "        results_df = pd.concat([results_df, pd.DataFrame({\n",
    "            'animal_id' : subject_id,\n",
    "            'genotype' : genotype,\n",
    "            'behaviour': behaviour,\n",
    "            'freqs' : mic.freqs,\n",
    "            'mic' : mic.get_data()[0,:],\n",
    "            'mim' : mim.get_data()[0,:],\n",
    "            'low_qual_chans': True if subject_id in low_qual_chans.keys() else False\n",
    "        })])"
   ],
   "id": "710d73cbbc362f03",
   "execution_count": 16,
   "outputs": []
  },
  {
   "metadata": {
    "ExecuteTime": {
     "end_time": "2024-05-06T09:24:33.946428Z",
     "start_time": "2024-05-06T09:24:33.940177Z"
    }
   },
   "cell_type": "code",
   "source": "results_df_wo_low_qual_chans = results_df[results_df.low_qual_chans == False]",
   "id": "fbd1958895f85e2",
   "execution_count": 23,
   "outputs": []
  },
  {
   "metadata": {
    "ExecuteTime": {
     "end_time": "2024-05-06T09:27:33.714882Z",
     "start_time": "2024-05-06T09:27:17.132627Z"
    }
   },
   "cell_type": "code",
   "source": [
    "fig, axs = plt.subplots(nrows=1, ncols=3, figsize=(22, 5))\n",
    "axs = axs.ravel()\n",
    "\n",
    "for i, interaction_kind in enumerate(results_df_wo_low_qual_chans.behaviour.unique()):\n",
    "    results = results_df_wo_low_qual_chans.loc[results_df_wo_low_qual_chans['behaviour'] == interaction_kind]\n",
    "    \n",
    "    sns.lineplot(x=results.freqs, y=np.abs(results.mic), hue=results.genotype, errorbar=('ci', 95), ax=axs[i], palette=palette_gr)\n",
    "    axs[i].set_xlabel(\"Frequency (Hz)\")\n",
    "    axs[i].set_ylabel(\"Absolute connectivity (A.U.)\")\n",
    "    axs[i].set_title(interaction_kind)\n",
    "    axs[i].legend(loc='lower right', frameon=False)\n",
    "    \n",
    "fig.suptitle(\"Maximised imaginary part of coherency (MIC) for the three events\", y=0.99)\n",
    "save_figure(os.path.join(plot_folder, f\"connectivity/multivariate/total_mic.pdf\"))"
   ],
   "id": "41b632f143063ac9",
   "execution_count": 26,
   "outputs": []
  },
  {
   "metadata": {
    "ExecuteTime": {
     "end_time": "2024-05-06T09:27:48.115707Z",
     "start_time": "2024-05-06T09:27:33.717975Z"
    }
   },
   "cell_type": "code",
   "source": [
    "fig, axs = plt.subplots(nrows=1, ncols=3, figsize=(22, 5))\n",
    "axs = axs.ravel()\n",
    "\n",
    "for i, interaction_kind in enumerate(results_df_wo_low_qual_chans.behaviour.unique()):\n",
    "    results = results_df_wo_low_qual_chans.loc[results_df_wo_low_qual_chans['behaviour'] == interaction_kind]\n",
    "    \n",
    "    sns.lineplot(x=results.freqs, y=results.mim, hue=results.genotype, errorbar=('ci', 95), ax=axs[i], palette=palette_gr)\n",
    "    axs[i].set_xlabel(\"Frequency (Hz)\")\n",
    "    axs[i].set_ylabel(\"Absolute connectivity (A.U.)\")\n",
    "    axs[i].set_title(interaction_kind)\n",
    "    axs[i].legend(loc='lower right', frameon=False)\n",
    "    \n",
    "fig.suptitle(\"Multivariate interaction measure (MIM) for the three events\", y=0.99)\n",
    "save_figure(os.path.join(plot_folder, f\"connectivity/multivariate/total_mim.pdf\"))"
   ],
   "id": "6ac09279c9a7ccf3",
   "execution_count": 27,
   "outputs": []
  }
 ],
 "metadata": {
  "kernelspec": {
   "display_name": "Python 3",
   "language": "python",
   "name": "python3"
  },
  "language_info": {
   "codemirror_mode": {
    "name": "ipython",
    "version": 2
   },
   "file_extension": ".py",
   "mimetype": "text/x-python",
   "name": "python",
   "nbconvert_exporter": "python",
   "pygments_lexer": "ipython2",
   "version": "2.7.6"
  }
 },
 "nbformat": 4,
 "nbformat_minor": 5
}
