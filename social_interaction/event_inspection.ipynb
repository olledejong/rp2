{
 "cells": [
  {
   "metadata": {
    "ExecuteTime": {
     "end_time": "2024-05-08T07:42:25.645783Z",
     "start_time": "2024-05-08T07:42:25.629228Z"
    }
   },
   "cell_type": "code",
   "source": [
    "import os\n",
    "import mne\n",
    "import numpy as np\n",
    "import pandas as pd\n",
    "import seaborn as sns\n",
    "import matplotlib.pyplot as plt\n",
    "from mne_connectivity import spectral_connectivity_epochs, seed_target_indices\n",
    "\n",
    "from shared.helper_functions import save_figure, select_folder, select_or_create_folder\n",
    "from settings_general import low_qual_chans, freq_bands_eeg, subject_id_batch_cage_dict"
   ],
   "id": "bf363b6df47d7e1a",
   "outputs": [],
   "execution_count": 53
  },
  {
   "metadata": {
    "ExecuteTime": {
     "end_time": "2024-05-08T07:21:26.914495Z",
     "start_time": "2024-05-08T07:21:26.908264Z"
    }
   },
   "cell_type": "code",
   "source": "sns.set_theme()",
   "id": "94f2579328df5a7d",
   "outputs": [],
   "execution_count": 2
  },
  {
   "metadata": {
    "ExecuteTime": {
     "end_time": "2024-05-08T07:21:26.928044Z",
     "start_time": "2024-05-08T07:21:26.919912Z"
    }
   },
   "cell_type": "code",
   "source": [
    "palette = {'DRD2-WT': '#427C99', 'DRD2-KO': '#AF5541'}\n",
    "palette_gr = {'DRD2-WT':'#6A8D73', 'DRD2-KO':'#984447'}"
   ],
   "id": "402ce1672e3d6345",
   "outputs": [],
   "execution_count": 3
  },
  {
   "metadata": {
    "ExecuteTime": {
     "end_time": "2024-05-08T07:21:34.509570Z",
     "start_time": "2024-05-08T07:21:26.931205Z"
    }
   },
   "cell_type": "code",
   "source": "boris_folder = select_folder(\"Select the folder that holds the BORIS behaviour tracking files\")",
   "id": "2598e959e8ef523d",
   "outputs": [
    {
     "name": "stderr",
     "output_type": "stream",
     "text": [
      "2024-05-08 09:21:31.026 python[12364:491877] +[CATransaction synchronize] called within transaction\n"
     ]
    }
   ],
   "execution_count": 4
  },
  {
   "metadata": {
    "ExecuteTime": {
     "end_time": "2024-05-08T07:21:34.527055Z",
     "start_time": "2024-05-08T07:21:34.511886Z"
    }
   },
   "cell_type": "code",
   "source": "boris_folder",
   "id": "2ea16ea40f6cd2c4",
   "outputs": [
    {
     "data": {
      "text/plain": [
       "'/Users/olledejong/Documents/MSc_Biology/ResearchProject2/rp2_data/social_interaction/input/behavioural_data'"
      ]
     },
     "execution_count": 5,
     "metadata": {},
     "output_type": "execute_result"
    }
   ],
   "execution_count": 5
  },
  {
   "metadata": {
    "ExecuteTime": {
     "end_time": "2024-05-08T07:24:26.384787Z",
     "start_time": "2024-05-08T07:24:26.343394Z"
    }
   },
   "cell_type": "code",
   "source": [
    "def merge_event_rows(beh_data):\n",
    "    merged_df = pd.concat([\n",
    "        beh_data.iloc[::2].reset_index(drop=True),  # only keep each start row\n",
    "        beh_data.iloc[::2].reset_index(drop=True)['Image index'].rename('Frame start'),  # interaction start frame\n",
    "        beh_data.iloc[1::2].reset_index(drop=True)['Image index'].rename('Frame stop'),  # interaction stop frame\n",
    "        beh_data.iloc[1::2].reset_index(drop=True)['Time'] - beh_data.iloc[::2]['Time'].reset_index(drop=True),\n",
    "        # duration\n",
    "    ], axis=1)\n",
    "    # rename the last column as it represents the duration of the interaction\n",
    "    merged_df = merged_df.set_axis([*merged_df.columns[:-1], 'Interaction duration'], axis=1)\n",
    "    # drop the columns we don't need\n",
    "    cols_to_drop = [\n",
    "        'Image index', 'Time', 'Observation type', 'Source', 'Time offset (s)', 'Subject', 'Comment', 'Image file path',\n",
    "        'Description', 'Behavioral category', 'Behavior type'\n",
    "    ]\n",
    "    return merged_df.drop(columns=cols_to_drop)"
   ],
   "id": "f1f57fe99841d684",
   "outputs": [],
   "execution_count": 7
  },
  {
   "metadata": {
    "ExecuteTime": {
     "end_time": "2024-05-08T07:34:55.536098Z",
     "start_time": "2024-05-08T07:34:53.695318Z"
    }
   },
   "cell_type": "code",
   "source": [
    "beh_df = pd.DataFrame()\n",
    "\n",
    "for file in os.listdir(boris_folder):\n",
    "    if not file.endswith('.xlsx'):\n",
    "        continue\n",
    "    beh_data = pd.read_excel(os.path.join(boris_folder, file))\n",
    "    batch_cage = file.split('.')[0]\n",
    "    subject_id = [key for key, value in subject_id_batch_cage_dict.items() if value == batch_cage][0]\n",
    "\n",
    "    for event_type in beh_data['Behavior'].unique():\n",
    "        beh_dat_event = beh_data[beh_data['Behavior'] == event_type]\n",
    "        starts = beh_dat_event[beh_dat_event['Behavior type'] == 'START']\n",
    "        stops = beh_dat_event[beh_dat_event['Behavior type'] == 'STOP']\n",
    "\n",
    "        if len(stops) < len(starts):\n",
    "            print(f'({batch_cage}, {subject_id}) Number of STOPs is smaller than number of STARTs for {event_type}')\n",
    "            if beh_dat_event.iloc[-1]['Behavior type'] == 'START':\n",
    "                print('Removing last row because it is of type START')\n",
    "                beh_dat_event = beh_dat_event.drop(beh_dat_event.index[-1])\n",
    "            else:\n",
    "                print(f'Number of STOPs is smaller than number of STARTs, but this is not caused by a START at '\n",
    "                      f'the last row of the dataframe. Skipping..')\n",
    "                continue\n",
    "        if len(starts) < len(stops):\n",
    "            print(f'({batch_cage}, {subject_id}) Number of STARTs is smaller than number of STOPs for {event_type}')\n",
    "            if beh_dat_event.iloc[0]['Behavior type'] == 'STOP':\n",
    "                print('Removing first row because it is of type STOP')\n",
    "                beh_dat_event = beh_dat_event.drop(beh_dat_event.index[0])\n",
    "            else:\n",
    "                print(f'Number of STARTs is smaller than number of STOPs, but this is not caused by a STOP at '\n",
    "                      f'the first row of the dataframe. Skipping..')\n",
    "                continue\n",
    "\n",
    "        beh_dat_event = merge_event_rows(beh_dat_event)\n",
    "        # merge the start and stop rows and calculate some stuff (interaction duration etc)\n",
    "        beh_dat_event.insert(1, 'subject_id', subject_id)\n",
    "        beh_df = pd.concat([beh_df, beh_dat_event], axis=0)"
   ],
   "id": "210e722f6a0510a9",
   "outputs": [
    {
     "name": "stdout",
     "output_type": "stream",
     "text": [
      "(batch2_cage3, 79604) Number of STOPs is smaller than number of STARTs for sniff\n",
      "Removing last row because it is of type START\n",
      "(batch2_cage2, 79592) Number of STARTs is smaller than number of STOPs for sniff\n",
      "Removing first row because it is of type STOP\n",
      "(batch1_cage1, 78211) Number of STARTs is smaller than number of STOPs for sniff\n",
      "Removing first row because it is of type STOP\n",
      "(batch2_cage4, 79602) Number of STOPs is smaller than number of STARTs for follow\n",
      "Removing last row because it is of type START\n",
      "(batch5b_cage1, 81217) Number of STARTs is smaller than number of STOPs for sniff\n",
      "Removing first row because it is of type STOP\n",
      "(batch3_cage3, 80108) Number of STARTs is smaller than number of STOPs for sniff\n",
      "Removing first row because it is of type STOP\n"
     ]
    }
   ],
   "execution_count": 30
  },
  {
   "metadata": {
    "ExecuteTime": {
     "end_time": "2024-05-08T07:34:57.704700Z",
     "start_time": "2024-05-08T07:34:57.671683Z"
    }
   },
   "cell_type": "code",
   "source": "beh_df",
   "id": "2f1fa0ba71c1d4f",
   "outputs": [
    {
     "data": {
      "text/plain": [
       "   Observation id  subject_id         Observation date  Observation duration  \\\n",
       "0       B5C4 redo       81193  2024-02-16 12:23:23.147               274.502   \n",
       "1       B5C4 redo       81193  2024-02-16 12:23:23.147               274.502   \n",
       "2       B5C4 redo       81193  2024-02-16 12:23:23.147               274.502   \n",
       "3       B5C4 redo       81193  2024-02-16 12:23:23.147               274.502   \n",
       "4       B5C4 redo       81193  2024-02-16 12:23:23.147               274.502   \n",
       "..            ...         ...                      ...                   ...   \n",
       "11           B1C3       78227  2024-02-15 13:41:11.468               284.706   \n",
       "12           B1C3       78227  2024-02-15 13:41:11.468               284.706   \n",
       "13           B1C3       78227  2024-02-15 13:41:11.468               284.706   \n",
       "14           B1C3       78227  2024-02-15 13:41:11.468               284.706   \n",
       "15           B1C3       78227  2024-02-15 13:41:11.468               284.706   \n",
       "\n",
       "    Media duration (s)   FPS Behavior  \\\n",
       "0             1629.924  30.0    sniff   \n",
       "1             1629.924  30.0    sniff   \n",
       "2             1629.924  30.0    sniff   \n",
       "3             1629.924  30.0    sniff   \n",
       "4             1629.924  30.0    sniff   \n",
       "..                 ...   ...      ...   \n",
       "11            1607.620  30.0   follow   \n",
       "12            1607.620  30.0   follow   \n",
       "13            1607.620  30.0   follow   \n",
       "14            1607.620  30.0   follow   \n",
       "15            1607.620  30.0   follow   \n",
       "\n",
       "                                      Media file name  Frame start  \\\n",
       "0   C:/Users/rebek/Downloads/drd2_batch5_social-in...        39276   \n",
       "1   C:/Users/rebek/Downloads/drd2_batch5_social-in...        39802   \n",
       "2   C:/Users/rebek/Downloads/drd2_batch5_social-in...        39990   \n",
       "3   C:/Users/rebek/Downloads/drd2_batch5_social-in...        40587   \n",
       "4   C:/Users/rebek/Downloads/drd2_batch5_social-in...        41150   \n",
       "..                                                ...          ...   \n",
       "11                           D:/BORIS videos/B1C3.mp4        43053   \n",
       "12                           D:/BORIS videos/B1C3.mp4        43078   \n",
       "13                           D:/BORIS videos/B1C3.mp4        43110   \n",
       "14                           D:/BORIS videos/B1C3.mp4        43190   \n",
       "15                           D:/BORIS videos/B1C3.mp4        43319   \n",
       "\n",
       "    Frame stop  Interaction duration  \n",
       "0        39288                 0.400  \n",
       "1        39823                 0.701  \n",
       "2        39996                 0.199  \n",
       "3        40596                 0.300  \n",
       "4        41157                 0.234  \n",
       "..         ...                   ...  \n",
       "11       43073                 0.667  \n",
       "12       43093                 0.500  \n",
       "13       43117                 0.233  \n",
       "14       43243                 1.767  \n",
       "15       43360                 1.368  \n",
       "\n",
       "[827 rows x 11 columns]"
      ],
      "text/html": [
       "<div>\n",
       "<style scoped>\n",
       "    .dataframe tbody tr th:only-of-type {\n",
       "        vertical-align: middle;\n",
       "    }\n",
       "\n",
       "    .dataframe tbody tr th {\n",
       "        vertical-align: top;\n",
       "    }\n",
       "\n",
       "    .dataframe thead th {\n",
       "        text-align: right;\n",
       "    }\n",
       "</style>\n",
       "<table border=\"1\" class=\"dataframe\">\n",
       "  <thead>\n",
       "    <tr style=\"text-align: right;\">\n",
       "      <th></th>\n",
       "      <th>Observation id</th>\n",
       "      <th>subject_id</th>\n",
       "      <th>Observation date</th>\n",
       "      <th>Observation duration</th>\n",
       "      <th>Media duration (s)</th>\n",
       "      <th>FPS</th>\n",
       "      <th>Behavior</th>\n",
       "      <th>Media file name</th>\n",
       "      <th>Frame start</th>\n",
       "      <th>Frame stop</th>\n",
       "      <th>Interaction duration</th>\n",
       "    </tr>\n",
       "  </thead>\n",
       "  <tbody>\n",
       "    <tr>\n",
       "      <th>0</th>\n",
       "      <td>B5C4 redo</td>\n",
       "      <td>81193</td>\n",
       "      <td>2024-02-16 12:23:23.147</td>\n",
       "      <td>274.502</td>\n",
       "      <td>1629.924</td>\n",
       "      <td>30.0</td>\n",
       "      <td>sniff</td>\n",
       "      <td>C:/Users/rebek/Downloads/drd2_batch5_social-in...</td>\n",
       "      <td>39276</td>\n",
       "      <td>39288</td>\n",
       "      <td>0.400</td>\n",
       "    </tr>\n",
       "    <tr>\n",
       "      <th>1</th>\n",
       "      <td>B5C4 redo</td>\n",
       "      <td>81193</td>\n",
       "      <td>2024-02-16 12:23:23.147</td>\n",
       "      <td>274.502</td>\n",
       "      <td>1629.924</td>\n",
       "      <td>30.0</td>\n",
       "      <td>sniff</td>\n",
       "      <td>C:/Users/rebek/Downloads/drd2_batch5_social-in...</td>\n",
       "      <td>39802</td>\n",
       "      <td>39823</td>\n",
       "      <td>0.701</td>\n",
       "    </tr>\n",
       "    <tr>\n",
       "      <th>2</th>\n",
       "      <td>B5C4 redo</td>\n",
       "      <td>81193</td>\n",
       "      <td>2024-02-16 12:23:23.147</td>\n",
       "      <td>274.502</td>\n",
       "      <td>1629.924</td>\n",
       "      <td>30.0</td>\n",
       "      <td>sniff</td>\n",
       "      <td>C:/Users/rebek/Downloads/drd2_batch5_social-in...</td>\n",
       "      <td>39990</td>\n",
       "      <td>39996</td>\n",
       "      <td>0.199</td>\n",
       "    </tr>\n",
       "    <tr>\n",
       "      <th>3</th>\n",
       "      <td>B5C4 redo</td>\n",
       "      <td>81193</td>\n",
       "      <td>2024-02-16 12:23:23.147</td>\n",
       "      <td>274.502</td>\n",
       "      <td>1629.924</td>\n",
       "      <td>30.0</td>\n",
       "      <td>sniff</td>\n",
       "      <td>C:/Users/rebek/Downloads/drd2_batch5_social-in...</td>\n",
       "      <td>40587</td>\n",
       "      <td>40596</td>\n",
       "      <td>0.300</td>\n",
       "    </tr>\n",
       "    <tr>\n",
       "      <th>4</th>\n",
       "      <td>B5C4 redo</td>\n",
       "      <td>81193</td>\n",
       "      <td>2024-02-16 12:23:23.147</td>\n",
       "      <td>274.502</td>\n",
       "      <td>1629.924</td>\n",
       "      <td>30.0</td>\n",
       "      <td>sniff</td>\n",
       "      <td>C:/Users/rebek/Downloads/drd2_batch5_social-in...</td>\n",
       "      <td>41150</td>\n",
       "      <td>41157</td>\n",
       "      <td>0.234</td>\n",
       "    </tr>\n",
       "    <tr>\n",
       "      <th>...</th>\n",
       "      <td>...</td>\n",
       "      <td>...</td>\n",
       "      <td>...</td>\n",
       "      <td>...</td>\n",
       "      <td>...</td>\n",
       "      <td>...</td>\n",
       "      <td>...</td>\n",
       "      <td>...</td>\n",
       "      <td>...</td>\n",
       "      <td>...</td>\n",
       "      <td>...</td>\n",
       "    </tr>\n",
       "    <tr>\n",
       "      <th>11</th>\n",
       "      <td>B1C3</td>\n",
       "      <td>78227</td>\n",
       "      <td>2024-02-15 13:41:11.468</td>\n",
       "      <td>284.706</td>\n",
       "      <td>1607.620</td>\n",
       "      <td>30.0</td>\n",
       "      <td>follow</td>\n",
       "      <td>D:/BORIS videos/B1C3.mp4</td>\n",
       "      <td>43053</td>\n",
       "      <td>43073</td>\n",
       "      <td>0.667</td>\n",
       "    </tr>\n",
       "    <tr>\n",
       "      <th>12</th>\n",
       "      <td>B1C3</td>\n",
       "      <td>78227</td>\n",
       "      <td>2024-02-15 13:41:11.468</td>\n",
       "      <td>284.706</td>\n",
       "      <td>1607.620</td>\n",
       "      <td>30.0</td>\n",
       "      <td>follow</td>\n",
       "      <td>D:/BORIS videos/B1C3.mp4</td>\n",
       "      <td>43078</td>\n",
       "      <td>43093</td>\n",
       "      <td>0.500</td>\n",
       "    </tr>\n",
       "    <tr>\n",
       "      <th>13</th>\n",
       "      <td>B1C3</td>\n",
       "      <td>78227</td>\n",
       "      <td>2024-02-15 13:41:11.468</td>\n",
       "      <td>284.706</td>\n",
       "      <td>1607.620</td>\n",
       "      <td>30.0</td>\n",
       "      <td>follow</td>\n",
       "      <td>D:/BORIS videos/B1C3.mp4</td>\n",
       "      <td>43110</td>\n",
       "      <td>43117</td>\n",
       "      <td>0.233</td>\n",
       "    </tr>\n",
       "    <tr>\n",
       "      <th>14</th>\n",
       "      <td>B1C3</td>\n",
       "      <td>78227</td>\n",
       "      <td>2024-02-15 13:41:11.468</td>\n",
       "      <td>284.706</td>\n",
       "      <td>1607.620</td>\n",
       "      <td>30.0</td>\n",
       "      <td>follow</td>\n",
       "      <td>D:/BORIS videos/B1C3.mp4</td>\n",
       "      <td>43190</td>\n",
       "      <td>43243</td>\n",
       "      <td>1.767</td>\n",
       "    </tr>\n",
       "    <tr>\n",
       "      <th>15</th>\n",
       "      <td>B1C3</td>\n",
       "      <td>78227</td>\n",
       "      <td>2024-02-15 13:41:11.468</td>\n",
       "      <td>284.706</td>\n",
       "      <td>1607.620</td>\n",
       "      <td>30.0</td>\n",
       "      <td>follow</td>\n",
       "      <td>D:/BORIS videos/B1C3.mp4</td>\n",
       "      <td>43319</td>\n",
       "      <td>43360</td>\n",
       "      <td>1.368</td>\n",
       "    </tr>\n",
       "  </tbody>\n",
       "</table>\n",
       "<p>827 rows × 11 columns</p>\n",
       "</div>"
      ]
     },
     "execution_count": 31,
     "metadata": {},
     "output_type": "execute_result"
    }
   ],
   "execution_count": 31
  },
  {
   "metadata": {
    "ExecuteTime": {
     "end_time": "2024-05-08T07:43:31.036421Z",
     "start_time": "2024-05-08T07:43:28.788146Z"
    }
   },
   "cell_type": "code",
   "source": [
    "sns.displot(beh_df['Interaction duration'], bins=200, aspect=2)\n",
    "plt.xlabel('Interaction duration (s)')\n",
    "plt.xticks(np.arange(0, 5, 0.4))\n",
    "plt.xlim(0, 5)\n",
    "plt.show()"
   ],
   "id": "41c87e4e1a20f78d",
   "outputs": [
    {
     "data": {
      "text/plain": [
       "<Figure size 1000x500 with 1 Axes>"
      ],
      "image/png": "[encoded data removed]"
     },
     "metadata": {},
     "output_type": "display_data"
    }
   ],
   "execution_count": 57
  },
  {
   "metadata": {},
   "cell_type": "code",
   "outputs": [],
   "execution_count": null,
   "source": "",
   "id": "1327ec88a6c29869"
  }
 ],
 "metadata": {
  "kernelspec": {
   "display_name": "Python 3",
   "language": "python",
   "name": "python3"
  },
  "language_info": {
   "codemirror_mode": {
    "name": "ipython",
    "version": 2
   },
   "file_extension": ".py",
   "mimetype": "text/x-python",
   "name": "python",
   "nbconvert_exporter": "python",
   "pygments_lexer": "ipython2",
   "version": "2.7.6"
  }
 },
 "nbformat": 4,
 "nbformat_minor": 5
}
