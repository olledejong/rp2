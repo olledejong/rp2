{
 "cells": [
  {
   "metadata": {
    "ExecuteTime": {
     "end_time": "2024-05-08T07:42:25.645783Z",
     "start_time": "2024-05-08T07:42:25.629228Z"
    }
   },
   "cell_type": "code",
   "source": [
    "import os\n",
    "import mne\n",
    "import numpy as np\n",
    "import pandas as pd\n",
    "import seaborn as sns\n",
    "import matplotlib.pyplot as plt\n",
    "from mne_connectivity import spectral_connectivity_epochs, seed_target_indices\n",
    "\n",
    "from shared.helper_functions import save_figure, select_folder, select_or_create_folder\n",
    "from settings_general import low_qual_chans, freq_bands_eeg, subject_id_batch_cage_dict"
   ],
   "id": "bf363b6df47d7e1a",
   "execution_count": 53,
   "outputs": []
  },
  {
   "metadata": {
    "ExecuteTime": {
     "end_time": "2024-05-08T07:21:26.914495Z",
     "start_time": "2024-05-08T07:21:26.908264Z"
    }
   },
   "cell_type": "code",
   "source": "sns.set_theme()",
   "id": "94f2579328df5a7d",
   "execution_count": 2,
   "outputs": []
  },
  {
   "metadata": {
    "ExecuteTime": {
     "end_time": "2024-05-08T07:21:26.928044Z",
     "start_time": "2024-05-08T07:21:26.919912Z"
    }
   },
   "cell_type": "code",
   "source": [
    "palette = {'DRD2-WT': '#427C99', 'DRD2-KO': '#AF5541'}\n",
    "palette_gr = {'DRD2-WT':'#6A8D73', 'DRD2-KO':'#984447'}"
   ],
   "id": "402ce1672e3d6345",
   "execution_count": 3,
   "outputs": []
  },
  {
   "metadata": {
    "ExecuteTime": {
     "end_time": "2024-05-08T07:21:34.509570Z",
     "start_time": "2024-05-08T07:21:26.931205Z"
    }
   },
   "cell_type": "code",
   "source": "boris_folder = select_folder(\"Select the folder that holds the BORIS behaviour tracking files\")",
   "id": "2598e959e8ef523d",
   "execution_count": 4,
   "outputs": []
  },
  {
   "metadata": {
    "ExecuteTime": {
     "end_time": "2024-05-08T07:21:34.527055Z",
     "start_time": "2024-05-08T07:21:34.511886Z"
    }
   },
   "cell_type": "code",
   "source": "boris_folder",
   "id": "2ea16ea40f6cd2c4",
   "execution_count": 5,
   "outputs": []
  },
  {
   "metadata": {
    "ExecuteTime": {
     "end_time": "2024-05-08T07:24:26.384787Z",
     "start_time": "2024-05-08T07:24:26.343394Z"
    }
   },
   "cell_type": "code",
   "source": [
    "def merge_event_rows(beh_data):\n",
    "    merged_df = pd.concat([\n",
    "        beh_data.iloc[::2].reset_index(drop=True),  # only keep each start row\n",
    "        beh_data.iloc[::2].reset_index(drop=True)['Image index'].rename('Frame start'),  # interaction start frame\n",
    "        beh_data.iloc[1::2].reset_index(drop=True)['Image index'].rename('Frame stop'),  # interaction stop frame\n",
    "        beh_data.iloc[1::2].reset_index(drop=True)['Time'] - beh_data.iloc[::2]['Time'].reset_index(drop=True),\n",
    "        # duration\n",
    "    ], axis=1)\n",
    "    # rename the last column as it represents the duration of the interaction\n",
    "    merged_df = merged_df.set_axis([*merged_df.columns[:-1], 'Interaction duration'], axis=1)\n",
    "    # drop the columns we don't need\n",
    "    cols_to_drop = [\n",
    "        'Image index', 'Time', 'Observation type', 'Source', 'Time offset (s)', 'Subject', 'Comment', 'Image file path',\n",
    "        'Description', 'Behavioral category', 'Behavior type'\n",
    "    ]\n",
    "    return merged_df.drop(columns=cols_to_drop)"
   ],
   "id": "f1f57fe99841d684",
   "execution_count": 7,
   "outputs": []
  },
  {
   "metadata": {
    "ExecuteTime": {
     "end_time": "2024-05-08T07:34:55.536098Z",
     "start_time": "2024-05-08T07:34:53.695318Z"
    }
   },
   "cell_type": "code",
   "source": [
    "beh_df = pd.DataFrame()\n",
    "\n",
    "for file in os.listdir(boris_folder):\n",
    "    if not file.endswith('.xlsx'):\n",
    "        continue\n",
    "    beh_data = pd.read_excel(os.path.join(boris_folder, file))\n",
    "    batch_cage = file.split('.')[0]\n",
    "    subject_id = [key for key, value in subject_id_batch_cage_dict.items() if value == batch_cage][0]\n",
    "\n",
    "    for event_type in beh_data['Behavior'].unique():\n",
    "        beh_dat_event = beh_data[beh_data['Behavior'] == event_type]\n",
    "        starts = beh_dat_event[beh_dat_event['Behavior type'] == 'START']\n",
    "        stops = beh_dat_event[beh_dat_event['Behavior type'] == 'STOP']\n",
    "\n",
    "        if len(stops) < len(starts):\n",
    "            print(f'({batch_cage}, {subject_id}) Number of STOPs is smaller than number of STARTs for {event_type}')\n",
    "            if beh_dat_event.iloc[-1]['Behavior type'] == 'START':\n",
    "                print('Removing last row because it is of type START')\n",
    "                beh_dat_event = beh_dat_event.drop(beh_dat_event.index[-1])\n",
    "            else:\n",
    "                print(f'Number of STOPs is smaller than number of STARTs, but this is not caused by a START at '\n",
    "                      f'the last row of the dataframe. Skipping..')\n",
    "                continue\n",
    "        if len(starts) < len(stops):\n",
    "            print(f'({batch_cage}, {subject_id}) Number of STARTs is smaller than number of STOPs for {event_type}')\n",
    "            if beh_dat_event.iloc[0]['Behavior type'] == 'STOP':\n",
    "                print('Removing first row because it is of type STOP')\n",
    "                beh_dat_event = beh_dat_event.drop(beh_dat_event.index[0])\n",
    "            else:\n",
    "                print(f'Number of STARTs is smaller than number of STOPs, but this is not caused by a STOP at '\n",
    "                      f'the first row of the dataframe. Skipping..')\n",
    "                continue\n",
    "\n",
    "        beh_dat_event = merge_event_rows(beh_dat_event)\n",
    "        # merge the start and stop rows and calculate some stuff (interaction duration etc)\n",
    "        beh_dat_event.insert(1, 'subject_id', subject_id)\n",
    "        beh_df = pd.concat([beh_df, beh_dat_event], axis=0)"
   ],
   "id": "210e722f6a0510a9",
   "execution_count": 30,
   "outputs": []
  },
  {
   "metadata": {
    "ExecuteTime": {
     "end_time": "2024-05-08T07:34:57.704700Z",
     "start_time": "2024-05-08T07:34:57.671683Z"
    }
   },
   "cell_type": "code",
   "source": "beh_df",
   "id": "2f1fa0ba71c1d4f",
   "execution_count": 31,
   "outputs": []
  },
  {
   "metadata": {
    "ExecuteTime": {
     "end_time": "2024-05-08T07:43:31.036421Z",
     "start_time": "2024-05-08T07:43:28.788146Z"
    }
   },
   "cell_type": "code",
   "source": [
    "sns.displot(beh_df['Interaction duration'], bins=200, aspect=2)\n",
    "plt.xlabel('Interaction duration (s)')\n",
    "plt.xticks(np.arange(0, 5, 0.4))\n",
    "plt.xlim(0, 5)\n",
    "plt.show()"
   ],
   "id": "41c87e4e1a20f78d",
   "execution_count": 57,
   "outputs": []
  },
  {
   "metadata": {},
   "cell_type": "code",
   "execution_count": null,
   "source": "",
   "id": "1327ec88a6c29869",
   "outputs": []
  }
 ],
 "metadata": {
  "kernelspec": {
   "display_name": "Python 3",
   "language": "python",
   "name": "python3"
  },
  "language_info": {
   "codemirror_mode": {
    "name": "ipython",
    "version": 2
   },
   "file_extension": ".py",
   "mimetype": "text/x-python",
   "name": "python",
   "nbconvert_exporter": "python",
   "pygments_lexer": "ipython2",
   "version": "2.7.6"
  }
 },
 "nbformat": 4,
 "nbformat_minor": 5
}
