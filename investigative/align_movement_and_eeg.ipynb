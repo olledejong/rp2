{
 "cells": [
  {
   "cell_type": "code",
   "outputs": [],
   "source": [
    "import os\n",
    "import mne\n",
    "import json\n",
    "import pickle\n",
    "import ndx_events\n",
    "import numpy as np\n",
    "import matplotlib.pyplot as plt\n",
    "from pynwb import NWBHDF5IO"
   ],
   "metadata": {
    "collapsed": false,
    "ExecuteTime": {
     "end_time": "2024-02-09T12:39:03.121179700Z",
     "start_time": "2024-02-09T12:39:00.771958700Z"
    }
   },
   "id": "c2e54840a4e576bc",
   "execution_count": 1
  },
  {
   "cell_type": "code",
   "outputs": [],
   "source": [
    "with open('../settings.json', \"r\") as f:\n",
    "    settings = json.load(f)\n",
    "    \n",
    "epoch_folder = settings['epochs_folder']\n",
    "plot_folder = settings['plots_folder']\n",
    "nwb_folder = settings['nwb_files_folder']"
   ],
   "metadata": {
    "collapsed": false,
    "ExecuteTime": {
     "end_time": "2024-02-09T14:54:19.394939100Z",
     "start_time": "2024-02-09T14:54:19.384618300Z"
    }
   },
   "id": "9097ab9405c6dfa4",
   "execution_count": 92
  },
  {
   "cell_type": "markdown",
   "source": [
    "Let's create some handy converting functions"
   ],
   "metadata": {
    "collapsed": false
   },
   "id": "92d989e979958d93"
  },
  {
   "cell_type": "code",
   "outputs": [],
   "source": [
    "def sample_to_frame(tll_onset_secs, fps, offset):\n",
    "    \"\"\"\n",
    "    Function that calculates the time-point of the video (in frames) given\n",
    "     the sample number in the EEG.\n",
    "    \"\"\"\n",
    "    secs_video = tll_onset_secs - offset\n",
    "    \n",
    "    return secs_video * fps"
   ],
   "metadata": {
    "collapsed": false,
    "ExecuteTime": {
     "end_time": "2024-02-09T14:54:23.851733100Z",
     "start_time": "2024-02-09T14:54:23.845526700Z"
    }
   },
   "id": "dfdc2a6e40e6c202",
   "execution_count": 93
  },
  {
   "cell_type": "code",
   "outputs": [],
   "source": [
    "def frame_to_sample(frame_number, fps, offset):\n",
    "    \"\"\"\n",
    "    Function that calculates the time-point of the video (in frames) given\n",
    "     the sample number in the EEG.\n",
    "    \"\"\"\n",
    "    tp_secs_video = frame_number / fps  # time-point on video in seconds\n",
    "    secs_eeg = tp_secs_video + offset\n",
    "    \n",
    "    return secs_eeg"
   ],
   "metadata": {
    "collapsed": false,
    "ExecuteTime": {
     "end_time": "2024-02-09T14:54:24.292990100Z",
     "start_time": "2024-02-09T14:54:24.285715400Z"
    }
   },
   "id": "7c6c0a96360a8e14",
   "execution_count": 94
  },
  {
   "cell_type": "markdown",
   "source": [
    "### Now, let's test and validate the converting process"
   ],
   "metadata": {
    "collapsed": false
   },
   "id": "6d55fdca3fb10126"
  },
  {
   "cell_type": "markdown",
   "source": [
    "More sophisticated approach; get all LED onset frame numbers and calculate the seconds/sample num of the EEG. If they are close enough, the method works.\n",
    "\n",
    "First, let's get all EEG TTL onset timepoints"
   ],
   "metadata": {
    "collapsed": false
   },
   "id": "739b12398e49f736"
  },
  {
   "cell_type": "code",
   "outputs": [],
   "source": [
    "test_subject = \"78233\"  # is in batch 1 (see metadata excel sheets)"
   ],
   "metadata": {
    "collapsed": false,
    "ExecuteTime": {
     "end_time": "2024-02-09T14:54:26.863823200Z",
     "start_time": "2024-02-09T14:54:26.858148900Z"
    }
   },
   "id": "804bf907877ca6ed",
   "execution_count": 95
  },
  {
   "cell_type": "code",
   "outputs": [],
   "source": [
    "eeg_ttl_onsets_secs = []  # container (to make it accessible through notebook)\n",
    "s_freq = 0  # placeholder\n",
    "\n",
    "for file in os.listdir(nwb_folder):\n",
    "    if test_subject in file and file.endswith(\".nwb\"):\n",
    "        with NWBHDF5IO(f'{nwb_folder}/{file}', \"r\") as io:  # open it\n",
    "            nwb = io.read()\n",
    "            eeg_ttl_onsets_secs = list(nwb.acquisition[\"TTL_1\"].timestamps)\n",
    "            s_freq = nwb.acquisition['raw_EEG'].rate"
   ],
   "metadata": {
    "collapsed": false,
    "ExecuteTime": {
     "end_time": "2024-02-09T14:54:28.004714300Z",
     "start_time": "2024-02-09T14:54:27.933191400Z"
    }
   },
   "id": "433aa5d2763c513a",
   "execution_count": 96
  },
  {
   "cell_type": "markdown",
   "source": [
    "Now that we have the TTL onset timepoints from the EEG of the test_subject, let's load the data that holds the LED ON timepoints from the accompanying video file."
   ],
   "metadata": {
    "collapsed": false
   },
   "id": "cb7422f3bf3dfc6"
  },
  {
   "cell_type": "code",
   "outputs": [],
   "source": [
    "folder_path = r\"C:\\Users\\Olle de Jong\\Documents\\MSc Biology\\rp2\\rp2_data\\resting_state\\output\\videos\"\n",
    "pickle_path = rf\"{folder_path}\\pickle\"\n",
    "\n",
    "led_states = 0\n",
    "with open(f'{pickle_path}/led_states_batch1.pickle', \"rb\") as f:\n",
    "    led_states = pickle.load(f)\n",
    "\n",
    "movie_name = list(led_states.keys())[0]\n",
    "led_states_data = list(led_states.values())[0]"
   ],
   "metadata": {
    "collapsed": false,
    "ExecuteTime": {
     "end_time": "2024-02-09T14:54:29.101957700Z",
     "start_time": "2024-02-09T14:54:29.096971900Z"
    }
   },
   "id": "2a0f95020e830893",
   "execution_count": 97
  },
  {
   "cell_type": "markdown",
   "source": [
    "We only need the frame numbers where the LED switches ON, not all frames where the LED is ON."
   ],
   "metadata": {
    "collapsed": false
   },
   "id": "75f61a892d69d667"
  },
  {
   "cell_type": "code",
   "outputs": [],
   "source": [
    "led_turns_on_indexes = np.where(np.logical_and(np.diff(led_states_data), led_states_data[1:]))[0] + 1  # get all False to True changes in the array"
   ],
   "metadata": {
    "collapsed": false,
    "ExecuteTime": {
     "end_time": "2024-02-09T14:54:29.918432Z",
     "start_time": "2024-02-09T14:54:29.910069900Z"
    }
   },
   "id": "cbab49c8acf151b",
   "execution_count": 98
  },
  {
   "cell_type": "markdown",
   "source": [
    "Using the frame number where the LED turns ON for the first time, we can calculate the needed offset.\n",
    "We calculate this by subtracting the time elapsed between start of **video** and the first LED onset from the time elapsed between start of **EEG** recording and the first TTL onset."
   ],
   "metadata": {
    "collapsed": false
   },
   "id": "8bafcc35e9decce3"
  },
  {
   "cell_type": "code",
   "outputs": [],
   "source": [
    "video_fps = 30\n",
    "first_ttl_onset = eeg_ttl_onsets_secs[0]\n",
    "last_ttl_onset = eeg_ttl_onsets_secs[-1]\n",
    "first_LED_onset = led_turns_on_indexes[0]\n",
    "last_LED_onset = led_turns_on_indexes[-1]\n",
    "\n",
    "offset = first_ttl_onset - first_LED_onset / video_fps  # TTL onset is in seconds, so we need to transform the LED onset (in frames) to seconds as well (divide by frames per second)\n",
    "offset_end = last_ttl_onset - last_LED_onset / video_fps\n",
    "offset_average = (offset + offset_end) / 2"
   ],
   "metadata": {
    "collapsed": false,
    "ExecuteTime": {
     "end_time": "2024-02-09T14:57:13.695415200Z",
     "start_time": "2024-02-09T14:57:13.687232300Z"
    }
   },
   "id": "fb1b2a986f179d4e",
   "execution_count": 106
  },
  {
   "cell_type": "code",
   "outputs": [
    {
     "name": "stdout",
     "output_type": "stream",
     "text": [
      "Onset 0. Actual EEG TTL onset: 13.0716, calculated: 13.0716\n",
      "Onset 1. Actual EEG TTL onset: 14.0727, calculated: 14.0716\n",
      "Onset 2. Actual EEG TTL onset: 15.0748, calculated: 15.0716\n",
      "Onset 3. Actual EEG TTL onset: 25.2968, calculated: 25.2716\n",
      "Onset 4. Actual EEG TTL onset: 26.298, calculated: 26.2716\n",
      "Onset 5. Actual EEG TTL onset: 27.2992, calculated: 27.2716\n",
      "Onset 6. Actual EEG TTL onset: 19744.0058, calculated: 19728.938266666664\n",
      "Onset 7. Actual EEG TTL onset: 19745.0079, calculated: 19729.938266666664\n",
      "Onset 8. Actual EEG TTL onset: 19746.01, calculated: 19730.938266666664\n"
     ]
    }
   ],
   "source": [
    "for i, frame_led_on in enumerate(led_turns_on_indexes):\n",
    "    eeg_ttl_in_secs = frame_to_sample(frame_led_on, fps=30, offset=offset)\n",
    "    print(f\"Onset {i}. Actual EEG TTL onset: {eeg_ttl_onsets_secs[i]}, calculated: {eeg_ttl_in_secs}\")"
   ],
   "metadata": {
    "collapsed": false,
    "ExecuteTime": {
     "end_time": "2024-02-09T14:57:18.433816300Z",
     "start_time": "2024-02-09T14:57:18.427541Z"
    }
   },
   "id": "a4dbea78bd6503c0",
   "execution_count": 107
  },
  {
   "cell_type": "markdown",
   "source": [
    "Now let's try the other way around"
   ],
   "metadata": {
    "collapsed": false
   },
   "id": "c6b54c09236be80"
  },
  {
   "cell_type": "code",
   "outputs": [
    {
     "name": "stdout",
     "output_type": "stream",
     "text": [
      "Onset 0. Actual frame LED onset: 120, calculated: 120.0\n",
      "Onset 1. Actual frame LED onset: 150, calculated: 150.033\n",
      "Onset 2. Actual frame LED onset: 180, calculated: 180.096\n",
      "Onset 3. Actual frame LED onset: 486, calculated: 486.75600000000003\n",
      "Onset 4. Actual frame LED onset: 516, calculated: 516.7919999999999\n",
      "Onset 5. Actual frame LED onset: 546, calculated: 546.828\n",
      "Onset 6. Actual frame LED onset: 591596, calculated: 592048.026\n",
      "Onset 7. Actual frame LED onset: 591626, calculated: 592078.089\n",
      "Onset 8. Actual frame LED onset: 591656, calculated: 592108.152\n"
     ]
    }
   ],
   "source": [
    "for i, eeg_ttl_onset in enumerate(eeg_ttl_onsets_secs):\n",
    "    frame_of_led_onset = sample_to_frame(eeg_ttl_onset, fps=30, offset=offset)\n",
    "    print(f\"Onset {i}. Actual frame LED onset: {led_turns_on_indexes[i]}, calculated: {frame_of_led_onset}\")"
   ],
   "metadata": {
    "collapsed": false,
    "ExecuteTime": {
     "end_time": "2024-02-09T14:57:19.781634800Z",
     "start_time": "2024-02-09T14:57:19.751514900Z"
    }
   },
   "id": "3674f6c22027eca4",
   "execution_count": 108
  },
  {
   "cell_type": "markdown",
   "source": [
    "And now let's try the same but with averaged offset"
   ],
   "metadata": {
    "collapsed": false
   },
   "id": "81abe934fa3b4a8f"
  },
  {
   "cell_type": "code",
   "outputs": [],
   "source": [
    "# TODO continue here.. Calculation of average offset does not seem to be right. We might need the last frame number and max duration of EEG for this to calculate it backwards.\n",
    "last_ttl_onset = eeg_ttl_onsets_secs[-1]\n",
    "last_LED_onset = led_turns_on_indexes[-1]\n",
    "\n",
    "offset_end = last_ttl_onset - last_LED_onset / video_fps\n",
    "offset_average = (offset + offset_end) / 2"
   ],
   "metadata": {
    "collapsed": false
   },
   "id": "158e426d076e4f88"
  },
  {
   "cell_type": "code",
   "outputs": [
    {
     "name": "stdout",
     "output_type": "stream",
     "text": [
      "Onset 0. Actual EEG TTL onset: 13.0716, calculated: 20.607466666666717\n",
      "Onset 1. Actual EEG TTL onset: 14.0727, calculated: 21.607466666666717\n",
      "Onset 2. Actual EEG TTL onset: 15.0748, calculated: 22.607466666666717\n",
      "Onset 3. Actual EEG TTL onset: 25.2968, calculated: 32.80746666666671\n",
      "Onset 4. Actual EEG TTL onset: 26.298, calculated: 33.80746666666671\n",
      "Onset 5. Actual EEG TTL onset: 27.2992, calculated: 34.80746666666671\n",
      "Onset 6. Actual EEG TTL onset: 19744.0058, calculated: 19736.474133333333\n",
      "Onset 7. Actual EEG TTL onset: 19745.0079, calculated: 19737.474133333333\n",
      "Onset 8. Actual EEG TTL onset: 19746.01, calculated: 19738.474133333333\n"
     ]
    }
   ],
   "source": [
    "\n",
    "for i, frame_led_on in enumerate(led_turns_on_indexes):\n",
    "    eeg_ttl_in_secs = frame_to_sample(frame_led_on, fps=30, offset=offset_average)\n",
    "    print(f\"Onset {i}. Actual EEG TTL onset: {eeg_ttl_onsets_secs[i]}, calculated: {eeg_ttl_in_secs}\")"
   ],
   "metadata": {
    "collapsed": false
   },
   "id": "d75d4d8adad10ea2",
   "execution_count": 109
  },
  {
   "cell_type": "code",
   "outputs": [
    {
     "name": "stdout",
     "output_type": "stream",
     "text": [
      "Onset 0. Actual frame LED onset: 120, calculated: -106.0760000000015\n",
      "Onset 1. Actual frame LED onset: 150, calculated: -76.04300000000153\n",
      "Onset 2. Actual frame LED onset: 180, calculated: -45.98000000000152\n",
      "Onset 3. Actual frame LED onset: 486, calculated: 260.67999999999853\n",
      "Onset 4. Actual frame LED onset: 516, calculated: 290.7159999999984\n",
      "Onset 5. Actual frame LED onset: 546, calculated: 320.7519999999985\n",
      "Onset 6. Actual frame LED onset: 591596, calculated: 591821.95\n",
      "Onset 7. Actual frame LED onset: 591626, calculated: 591852.0129999999\n",
      "Onset 8. Actual frame LED onset: 591656, calculated: 591882.0759999999\n"
     ]
    }
   ],
   "source": [
    "for i, eeg_ttl_onset in enumerate(eeg_ttl_onsets_secs):\n",
    "    frame_of_led_onset = sample_to_frame(eeg_ttl_onset, fps=30, offset=offset_average)\n",
    "    print(f\"Onset {i}. Actual frame LED onset: {led_turns_on_indexes[i]}, calculated: {frame_of_led_onset}\")"
   ],
   "metadata": {
    "collapsed": false
   },
   "id": "88c962824867249d",
   "execution_count": 110
  },
  {
   "cell_type": "markdown",
   "source": [
    "### Plotting the events (before and after aligning)\n",
    "\n",
    "#### Before"
   ],
   "metadata": {
    "collapsed": false
   },
   "id": "ba2401fd7a041e01"
  },
  {
   "cell_type": "code",
   "outputs": [],
   "source": [
    "positions = np.array([2, 4, 6])[:,np.newaxis] \n",
    "offsets = [2,4,6] \n",
    "\n",
    "plt.eventplot(positions, lineoffsets=offsets) \n",
    "plt.show() "
   ],
   "metadata": {
    "collapsed": false
   },
   "id": "69f2722016d0549c"
  },
  {
   "cell_type": "markdown",
   "source": [
    "#### After"
   ],
   "metadata": {
    "collapsed": false
   },
   "id": "85d235b83bbd9005"
  },
  {
   "cell_type": "markdown",
   "source": [
    "\n",
    "\n",
    "\n",
    "\n",
    "\n",
    "\n",
    "\n",
    "\n",
    "\n",
    "\n",
    "\n",
    "\n",
    "\n",
    "\n",
    "\n",
    "\n",
    "\n",
    "\n",
    "\n",
    "\n",
    "\n",
    "\n",
    "\n",
    "\n",
    "\n",
    "\n",
    "\n",
    "\n"
   ],
   "metadata": {
    "collapsed": false
   },
   "id": "ce90b9cfe4a0a469"
  },
  {
   "cell_type": "markdown",
   "source": [
    "Let's load a single filtered epoch file"
   ],
   "metadata": {
    "collapsed": false
   },
   "id": "280a31fa73c9ce16"
  },
  {
   "cell_type": "code",
   "outputs": [
    {
     "name": "stdout",
     "output_type": "stream",
     "text": [
      "Reading C:\\Users\\Olle de Jong\\Documents\\MSc Biology\\rp2\\rp2_data\\resting_state\\output\\epochs\\filtered_epochs_resting_state_79593-epo.fif ...\n",
      "Isotrak not found\n",
      "    Found the data of interest:\n",
      "        t =       0.00 ...    4998.53 ms\n",
      "        0 CTF compensation matrices available\n",
      "Adding metadata with 3 columns\n",
      "1108 matching events found\n",
      "No baseline correction applied\n",
      "0 projection items activated\n",
      "<EpochsFIF |  1108 events (all good), 0 – 4.99853 s, baseline off, ~412.6 MB, data loaded, with metadata,\n",
      " '1': 1108>\n"
     ]
    }
   ],
   "source": [
    "for file in os.listdir(epoch_folder):\n",
    "    if test_subject in file and \"filtered\" in file and file.endswith(\".fif\"):\n",
    "        epochs = mne.read_epochs(os.path.join(epoch_folder, file), preload=True)\n",
    "        print(epochs)"
   ],
   "metadata": {
    "collapsed": false
   },
   "id": "dfb4da848472c608",
   "execution_count": 7
  }
 ],
 "metadata": {
  "kernelspec": {
   "display_name": "Python 3",
   "language": "python",
   "name": "python3"
  },
  "language_info": {
   "codemirror_mode": {
    "name": "ipython",
    "version": 2
   },
   "file_extension": ".py",
   "mimetype": "text/x-python",
   "name": "python",
   "nbconvert_exporter": "python",
   "pygments_lexer": "ipython2",
   "version": "2.7.6"
  }
 },
 "nbformat": 4,
 "nbformat_minor": 5
}
