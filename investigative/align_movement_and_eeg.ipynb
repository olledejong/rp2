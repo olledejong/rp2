{
 "cells": [
  {
   "cell_type": "code",
   "outputs": [],
   "source": [
    "import os\n",
    "import cv2\n",
    "import mne\n",
    "import json\n",
    "import pickle\n",
    "import ndx_events\n",
    "import numpy as np\n",
    "import matplotlib.pyplot as plt\n",
    "from pynwb import NWBHDF5IO"
   ],
   "metadata": {
    "collapsed": false,
    "ExecuteTime": {
     "end_time": "2024-02-13T10:46:25.109404Z",
     "start_time": "2024-02-13T10:46:13.770845Z"
    }
   },
   "id": "c2e54840a4e576bc",
   "execution_count": 1
  },
  {
   "cell_type": "code",
   "outputs": [],
   "source": [
    "with open('../settings.json', \"r\") as f:\n",
    "    settings = json.load(f)\n",
    "    \n",
    "epoch_folder = settings['epochs_folder']\n",
    "plot_folder = settings['plots_folder']\n",
    "nwb_folder = settings['nwb_files_folder']"
   ],
   "metadata": {
    "collapsed": false,
    "ExecuteTime": {
     "end_time": "2024-02-13T10:46:32.373585Z",
     "start_time": "2024-02-13T10:46:32.346295Z"
    }
   },
   "id": "9097ab9405c6dfa4",
   "execution_count": 2
  },
  {
   "cell_type": "markdown",
   "source": [
    "Let's create some handy converting functions"
   ],
   "metadata": {
    "collapsed": false
   },
   "id": "92d989e979958d93"
  },
  {
   "cell_type": "code",
   "outputs": [],
   "source": [
    "def sample_to_frame(tll_onset_secs, fps, offset):\n",
    "    \"\"\"\n",
    "    Function that calculates the time-point of the video (in frames) given\n",
    "     the sample number in the EEG.\n",
    "    \"\"\"\n",
    "    secs_video = tll_onset_secs - offset\n",
    "    \n",
    "    return secs_video * fps"
   ],
   "metadata": {
    "collapsed": false,
    "ExecuteTime": {
     "end_time": "2024-02-13T10:46:33.682841Z",
     "start_time": "2024-02-13T10:46:33.675967Z"
    }
   },
   "id": "dfdc2a6e40e6c202",
   "execution_count": 3
  },
  {
   "cell_type": "code",
   "outputs": [],
   "source": [
    "def frame_to_sample(frame_number, fps, offset):\n",
    "    \"\"\"\n",
    "    Function that calculates the time-point of the video (in frames) given\n",
    "     the sample number in the EEG.\n",
    "    \"\"\"\n",
    "    tp_secs_video = frame_number / fps  # time-point on video in seconds\n",
    "    secs_eeg = tp_secs_video + offset\n",
    "    \n",
    "    return secs_eeg"
   ],
   "metadata": {
    "collapsed": false,
    "ExecuteTime": {
     "end_time": "2024-02-13T10:46:34.182577Z",
     "start_time": "2024-02-13T10:46:34.162794Z"
    }
   },
   "id": "7c6c0a96360a8e14",
   "execution_count": 4
  },
  {
   "cell_type": "code",
   "outputs": [],
   "source": [
    "def get_fps(video_path):\n",
    "    # Open the video file\n",
    "    video = cv2.VideoCapture(video_path)\n",
    "    \n",
    "    # Check if the video is opened successfully\n",
    "    if not video.isOpened():\n",
    "        print(\"Error: Unable to open video file\")\n",
    "        return None\n",
    "    \n",
    "    # get the frames per second (FPS)\n",
    "    fps = video.get(cv2.CAP_PROP_FPS)\n",
    "    \n",
    "    # Release the video object\n",
    "    video.release()\n",
    "    \n",
    "    return fps"
   ],
   "metadata": {
    "collapsed": false,
    "ExecuteTime": {
     "end_time": "2024-02-13T10:46:34.447141Z",
     "start_time": "2024-02-13T10:46:34.421708Z"
    }
   },
   "id": "644980d6cfb11d9d",
   "execution_count": 5
  },
  {
   "cell_type": "markdown",
   "source": [
    "### Now, let's test and validate the converting process"
   ],
   "metadata": {
    "collapsed": false
   },
   "id": "6d55fdca3fb10126"
  },
  {
   "cell_type": "markdown",
   "source": [
    "More sophisticated approach; get all LED onset frame numbers and calculate the seconds/sample num of the EEG. If they are close enough, the method works.\n",
    "\n",
    "First, let's get all EEG TTL onset timepoints"
   ],
   "metadata": {
    "collapsed": false
   },
   "id": "739b12398e49f736"
  },
  {
   "cell_type": "code",
   "outputs": [],
   "source": [
    "test_subject = \"80630\"  # is in batch 1 (see metadata excel sheets)\n",
    "video_filename = \"drd2_batch1_resting-state Camera 1 7-7-2023 09_40_22 1.mp4\""
   ],
   "metadata": {
    "collapsed": false,
    "ExecuteTime": {
     "end_time": "2024-02-13T10:46:36.448525Z",
     "start_time": "2024-02-13T10:46:36.440372Z"
    }
   },
   "id": "804bf907877ca6ed",
   "execution_count": 6
  },
  {
   "cell_type": "code",
   "outputs": [
    {
     "name": "stdout",
     "output_type": "stream",
     "text": [
      "548948\n",
      "[nan nan nan ...  0.  0.  0.]\n",
      "[0.0000000e+00 3.3000000e-02 6.7000000e-02 ... 1.8305010e+04 1.8305044e+04\n",
      " 1.8305077e+04]\n"
     ]
    }
   ],
   "source": [
    "eeg_ttl_onsets_secs = []  # container (to make it accessible through notebook)\n",
    "s_freq = 0  # placeholder\n",
    "\n",
    "for file in os.listdir(nwb_folder):\n",
    "    if test_subject in file and file.endswith(\".nwb\"):\n",
    "        with NWBHDF5IO(f'{nwb_folder}/{file}', \"r\") as io:  # open it\n",
    "            nwb = io.read()\n",
    "            eeg_ttl_onsets_secs = list(nwb.acquisition[\"TTL_1\"].timestamps)\n",
    "            s_freq = nwb.acquisition['raw_EEG'].rate"
   ],
   "metadata": {
    "collapsed": false,
    "ExecuteTime": {
     "end_time": "2024-02-13T10:50:52.445960Z",
     "start_time": "2024-02-13T10:50:52.202789Z"
    }
   },
   "id": "433aa5d2763c513a",
   "execution_count": 10
  },
  {
   "cell_type": "markdown",
   "source": [
    "Now that we have the TTL onset timepoints from the EEG of the test_subject, let's load the data that holds the LED ON timepoints from the accompanying video file."
   ],
   "metadata": {
    "collapsed": false
   },
   "id": "cb7422f3bf3dfc6"
  },
  {
   "cell_type": "code",
   "outputs": [],
   "source": [
    "folder_path = \"/Users/olledejong/Documents/MSc_Biology/ResearchProject2/rp2_data/resting_state/output/videos\"\n",
    "pickle_path = f\"{folder_path}/pickle\"\n",
    "\n",
    "led_states = 0\n",
    "with open(f'{pickle_path}/led_states_all_videos.pickle', \"rb\") as f:\n",
    "    led_states = pickle.load(f)\n",
    "\n",
    "# movie_name = list(led_states.keys())[0]\n",
    "# led_states_data = list(led_states.values())[0]"
   ],
   "metadata": {
    "collapsed": false,
    "ExecuteTime": {
     "end_time": "2024-02-12T14:35:43.011765Z",
     "start_time": "2024-02-12T14:35:42.921974Z"
    }
   },
   "id": "2a0f95020e830893",
   "execution_count": 92
  },
  {
   "cell_type": "code",
   "outputs": [],
   "source": [
    "led_states_data = led_states[\"drd2_batch4_resting-state Camera 1 13-10-2023 09_29_44 1.mp4\"]"
   ],
   "metadata": {
    "collapsed": false,
    "ExecuteTime": {
     "end_time": "2024-02-12T14:35:50.947301Z",
     "start_time": "2024-02-12T14:35:50.888277Z"
    }
   },
   "id": "52a6106bd1156a49",
   "execution_count": 93
  },
  {
   "cell_type": "markdown",
   "source": [
    "We only need the frame numbers where the LED switches ON, not all frames where the LED is ON."
   ],
   "metadata": {
    "collapsed": false
   },
   "id": "75f61a892d69d667"
  },
  {
   "cell_type": "code",
   "outputs": [],
   "source": [
    "led_turns_on_indexes = np.where(np.logical_and(np.diff(led_states_data), led_states_data[1:]))[0] + 1  # get all False to True changes in the array"
   ],
   "metadata": {
    "collapsed": false,
    "ExecuteTime": {
     "end_time": "2024-02-12T14:35:51.769696Z",
     "start_time": "2024-02-12T14:35:51.717966Z"
    }
   },
   "id": "cbab49c8acf151b",
   "execution_count": 94
  },
  {
   "cell_type": "code",
   "outputs": [
    {
     "name": "stdout",
     "output_type": "stream",
     "text": [
      "[   220    250    280 548578 548608 548638]\n"
     ]
    }
   ],
   "source": [
    "print(led_turns_on_indexes)"
   ],
   "metadata": {
    "collapsed": false,
    "ExecuteTime": {
     "end_time": "2024-02-12T14:35:52.227494Z",
     "start_time": "2024-02-12T14:35:52.199200Z"
    }
   },
   "id": "c088daf1ce9c56f5",
   "execution_count": 95
  },
  {
   "cell_type": "markdown",
   "source": [
    "Using the frame number where the LED turns ON for the first time, we can calculate the needed offset.\n",
    "We calculate this by subtracting the time elapsed between start of **video** and the first LED onset from the time elapsed between start of **EEG** recording and the first TTL onset."
   ],
   "metadata": {
    "collapsed": false
   },
   "id": "8bafcc35e9decce3"
  },
  {
   "cell_type": "code",
   "outputs": [],
   "source": [
    "video_fps = 30\n",
    "\n",
    "first_ttl_onset = eeg_ttl_onsets_secs[0]\n",
    "first_LED_onset = led_turns_on_indexes[0]\n",
    "\n",
    "offset = first_ttl_onset - first_LED_onset / video_fps  # TTL onset is in seconds, so we need to transform the LED onset (in frames) to seconds as well (divide by frames per second)\n",
    "# 19"
   ],
   "metadata": {
    "collapsed": false,
    "ExecuteTime": {
     "end_time": "2024-02-12T14:36:06.022167Z",
     "start_time": "2024-02-12T14:36:06.011783Z"
    }
   },
   "id": "fb1b2a986f179d4e",
   "execution_count": 96
  },
  {
   "cell_type": "code",
   "outputs": [
    {
     "name": "stdout",
     "output_type": "stream",
     "text": [
      "Onset 0. Actual EEG TTL onset: 16.0023, calculated: 16.0023. Delta: 0.0\n",
      "Onset 1. Actual EEG TTL onset: 17.0044, calculated: 17.002300000000005. Delta: 0.0020999999999951058\n",
      "Onset 2. Actual EEG TTL onset: 18.0065, calculated: 18.002300000000005. Delta: 0.004199999999993764\n",
      "Onset 3. Actual EEG TTL onset: 18309.3886, calculated: 18294.602300000002. Delta: 14.786299999996118\n",
      "Onset 4. Actual EEG TTL onset: 18310.3898, calculated: 18295.602300000002. Delta: 14.787499999998545\n",
      "Onset 5. Actual EEG TTL onset: 18311.3919, calculated: 18296.602300000002. Delta: 14.789599999996426\n"
     ]
    }
   ],
   "source": [
    "for i, frame_led_on in enumerate(led_turns_on_indexes):\n",
    "    eeg_ttl_in_secs = frame_to_sample(frame_led_on, fps=video_fps, offset=offset)\n",
    "    print(f\"Onset {i}. Actual EEG TTL onset: {eeg_ttl_onsets_secs[i]}, calculated: {eeg_ttl_in_secs}. Delta: {eeg_ttl_onsets_secs[i] - eeg_ttl_in_secs}\")"
   ],
   "metadata": {
    "collapsed": false,
    "ExecuteTime": {
     "end_time": "2024-02-12T14:36:07.462083Z",
     "start_time": "2024-02-12T14:36:07.431555Z"
    }
   },
   "id": "a4dbea78bd6503c0",
   "execution_count": 97
  },
  {
   "cell_type": "markdown",
   "source": [
    "Now let's try the other way around"
   ],
   "metadata": {
    "collapsed": false
   },
   "id": "c6b54c09236be80"
  },
  {
   "cell_type": "code",
   "outputs": [
    {
     "name": "stdout",
     "output_type": "stream",
     "text": [
      "Onset 0. Actual frame LED onset: 120, calculated: 120.0\n",
      "Onset 1. Actual frame LED onset: 150, calculated: 150.033\n",
      "Onset 2. Actual frame LED onset: 180, calculated: 180.096\n",
      "Onset 3. Actual frame LED onset: 486, calculated: 486.75600000000003\n",
      "Onset 4. Actual frame LED onset: 516, calculated: 516.7919999999999\n",
      "Onset 5. Actual frame LED onset: 546, calculated: 546.828\n",
      "Onset 6. Actual frame LED onset: 591596, calculated: 592048.026\n",
      "Onset 7. Actual frame LED onset: 591626, calculated: 592078.089\n",
      "Onset 8. Actual frame LED onset: 591656, calculated: 592108.152\n"
     ]
    }
   ],
   "source": [
    "for i, eeg_ttl_onset in enumerate(eeg_ttl_onsets_secs):\n",
    "    frame_of_led_onset = sample_to_frame(eeg_ttl_onset, fps=video_fps, offset=offset)\n",
    "    print(f\"Onset {i}. Actual frame LED onset: {led_turns_on_indexes[i]}, calculated: {frame_of_led_onset}\")"
   ],
   "metadata": {
    "collapsed": false,
    "ExecuteTime": {
     "end_time": "2024-02-12T09:36:53.675837Z",
     "start_time": "2024-02-12T09:36:53.631644Z"
    }
   },
   "id": "3674f6c22027eca4",
   "execution_count": 30
  },
  {
   "cell_type": "markdown",
   "source": [
    "#### Try with FPS extracted from video"
   ],
   "metadata": {
    "collapsed": false
   },
   "id": "f94a74f369cb90e3"
  },
  {
   "cell_type": "code",
   "outputs": [
    {
     "name": "stdout",
     "output_type": "stream",
     "text": [
      "The FPS extracted from the video is 29.988787547921188\n"
     ]
    }
   ],
   "source": [
    "video_fps = get_fps(os.path.join(folder_path, video_filename))\n",
    "print(f\"The FPS extracted from the video is {video_fps}\")"
   ],
   "metadata": {
    "collapsed": false,
    "ExecuteTime": {
     "end_time": "2024-02-12T09:36:57.021790Z",
     "start_time": "2024-02-12T09:36:56.878725Z"
    }
   },
   "id": "e20da45098c3eca3",
   "execution_count": 31
  },
  {
   "cell_type": "code",
   "outputs": [
    {
     "name": "stdout",
     "output_type": "stream",
     "text": [
      "Onset 0. Actual EEG TTL onset: 13.0716, calculated: 13.073095552570893\n",
      "Onset 1. Actual EEG TTL onset: 14.0727, calculated: 14.073469440713616\n",
      "Onset 2. Actual EEG TTL onset: 15.0748, calculated: 15.07384332885634\n",
      "Onset 3. Actual EEG TTL onset: 25.2968, calculated: 25.277656987912117\n",
      "Onset 4. Actual EEG TTL onset: 26.298, calculated: 26.27803087605484\n",
      "Onset 5. Actual EEG TTL onset: 27.2992, calculated: 27.27840476419756\n",
      "Onset 6. Actual EEG TTL onset: 19744.0058, calculated: 19736.311290989415\n",
      "Onset 7. Actual EEG TTL onset: 19745.0079, calculated: 19737.311664877558\n",
      "Onset 8. Actual EEG TTL onset: 19746.01, calculated: 19738.3120387657\n"
     ]
    }
   ],
   "source": [
    "for i, frame_led_on in enumerate(led_turns_on_indexes):\n",
    "    eeg_ttl_in_secs = frame_to_sample(frame_led_on, fps=video_fps, offset=offset)\n",
    "    print(f\"Onset {i}. Actual EEG TTL onset: {eeg_ttl_onsets_secs[i]}, calculated: {eeg_ttl_in_secs}\")"
   ],
   "metadata": {
    "collapsed": false,
    "ExecuteTime": {
     "end_time": "2024-02-12T09:36:57.345932Z",
     "start_time": "2024-02-12T09:36:57.327331Z"
    }
   },
   "id": "67eac85e0036778",
   "execution_count": 32
  },
  {
   "cell_type": "code",
   "outputs": [
    {
     "name": "stdout",
     "output_type": "stream",
     "text": [
      "Onset 0. Actual frame LED onset: 120, calculated: 119.95515019168475\n",
      "Onset 1. Actual frame LED onset: 150, calculated: 149.97692540590862\n",
      "Onset 2. Actual frame LED onset: 180, calculated: 180.02868940768047\n",
      "Onset 3. Actual frame LED onset: 486, calculated: 486.5740757225309\n",
      "Onset 4. Actual frame LED onset: 516, calculated: 516.5988498155095\n",
      "Onset 5. Actual frame LED onset: 546, calculated: 546.6236239084882\n",
      "Onset 6. Actual frame LED onset: 591596, calculated: 591826.748996004\n",
      "Onset 7. Actual frame LED onset: 591626, calculated: 591856.8007600058\n",
      "Onset 8. Actual frame LED onset: 591656, calculated: 591886.8525240076\n"
     ]
    }
   ],
   "source": [
    "for i, eeg_ttl_onset in enumerate(eeg_ttl_onsets_secs):\n",
    "    frame_of_led_onset = sample_to_frame(eeg_ttl_onset, fps=video_fps, offset=offset)\n",
    "    print(f\"Onset {i}. Actual frame LED onset: {led_turns_on_indexes[i]}, calculated: {frame_of_led_onset}\")"
   ],
   "metadata": {
    "collapsed": false,
    "ExecuteTime": {
     "end_time": "2024-02-12T09:37:05.920371Z",
     "start_time": "2024-02-12T09:37:05.872567Z"
    }
   },
   "id": "3952bed950d2ea04",
   "execution_count": 33
  },
  {
   "cell_type": "markdown",
   "source": [
    "This does seem to increase the accuracy of converting FPS to sample number.\n",
    "\n",
    "#### Averaged offset (first and last LED onset)\n",
    "\n",
    "And now let's try the same but with averaged offset"
   ],
   "metadata": {
    "collapsed": false
   },
   "id": "81abe934fa3b4a8f"
  },
  {
   "cell_type": "code",
   "outputs": [],
   "source": [
    "last_ttl_onset = eeg_ttl_onsets_secs[-1]\n",
    "last_LED_onset = led_turns_on_indexes[-1]\n",
    "\n",
    "offset_end = last_ttl_onset - last_LED_onset / video_fps\n",
    "offset_average = (offset + offset_end) / 2"
   ],
   "metadata": {
    "collapsed": false,
    "ExecuteTime": {
     "end_time": "2024-02-12T09:39:35.927873Z",
     "start_time": "2024-02-12T09:39:35.900394Z"
    }
   },
   "id": "158e426d076e4f88",
   "execution_count": 34
  },
  {
   "cell_type": "code",
   "outputs": [
    {
     "name": "stdout",
     "output_type": "stream",
     "text": [
      "Onset 0. Actual EEG TTL onset: 13.0716, calculated: 16.922076169719755\n",
      "Onset 1. Actual EEG TTL onset: 14.0727, calculated: 17.922450057862477\n",
      "Onset 2. Actual EEG TTL onset: 15.0748, calculated: 18.922823946005202\n",
      "Onset 3. Actual EEG TTL onset: 25.2968, calculated: 29.126637605060978\n",
      "Onset 4. Actual EEG TTL onset: 26.298, calculated: 30.127011493203703\n",
      "Onset 5. Actual EEG TTL onset: 27.2992, calculated: 31.12738538134642\n",
      "Onset 6. Actual EEG TTL onset: 19744.0058, calculated: 19740.160271606564\n",
      "Onset 7. Actual EEG TTL onset: 19745.0079, calculated: 19741.160645494707\n",
      "Onset 8. Actual EEG TTL onset: 19746.01, calculated: 19742.16101938285\n"
     ]
    }
   ],
   "source": [
    "for i, frame_led_on in enumerate(led_turns_on_indexes):\n",
    "    eeg_ttl_in_secs = frame_to_sample(frame_led_on, fps=video_fps, offset=offset_average)\n",
    "    print(f\"Onset {i}. Actual EEG TTL onset: {eeg_ttl_onsets_secs[i]}, calculated: {eeg_ttl_in_secs}\")"
   ],
   "metadata": {
    "collapsed": false,
    "ExecuteTime": {
     "end_time": "2024-02-12T09:39:37.049650Z",
     "start_time": "2024-02-12T09:39:37.011333Z"
    }
   },
   "id": "d75d4d8adad10ea2",
   "execution_count": 35
  },
  {
   "cell_type": "code",
   "outputs": [
    {
     "name": "stdout",
     "output_type": "stream",
     "text": [
      "Onset 0. Actual frame LED onset: 120, calculated: 4.528888187940927\n",
      "Onset 1. Actual frame LED onset: 150, calculated: 34.55066340216481\n",
      "Onset 2. Actual frame LED onset: 180, calculated: 64.60242740393664\n",
      "Onset 3. Actual frame LED onset: 486, calculated: 371.14781371878706\n",
      "Onset 4. Actual frame LED onset: 516, calculated: 401.17258781176565\n",
      "Onset 5. Actual frame LED onset: 546, calculated: 431.1973619047444\n",
      "Onset 6. Actual frame LED onset: 591596, calculated: 591711.3227340003\n",
      "Onset 7. Actual frame LED onset: 591626, calculated: 591741.374498002\n",
      "Onset 8. Actual frame LED onset: 591656, calculated: 591771.4262620037\n"
     ]
    }
   ],
   "source": [
    "for i, eeg_ttl_onset in enumerate(eeg_ttl_onsets_secs):\n",
    "    frame_of_led_onset = sample_to_frame(eeg_ttl_onset, fps=video_fps, offset=offset_average)\n",
    "    print(f\"Onset {i}. Actual frame LED onset: {led_turns_on_indexes[i]}, calculated: {frame_of_led_onset}\")"
   ],
   "metadata": {
    "collapsed": false,
    "ExecuteTime": {
     "end_time": "2024-02-12T09:39:40.602792Z",
     "start_time": "2024-02-12T09:39:40.557910Z"
    }
   },
   "id": "88c962824867249d",
   "execution_count": 36
  },
  {
   "cell_type": "markdown",
   "source": [
    "#### Calculate average offset (using all LED on events)\n",
    "\n",
    "Now, let's try to calculate the average offset by incorporating all LED on events"
   ],
   "metadata": {
    "collapsed": false
   },
   "id": "b25f0fd26a52d684"
  },
  {
   "cell_type": "code",
   "outputs": [
    {
     "name": "stdout",
     "output_type": "stream",
     "text": [
      "All calculated offsets: [9.070104447429108, 9.070830559286383, 9.07255667114366, 9.090743012087884, 9.09156912394516, 9.092395235802439, 16.766109010583023, 16.767835122442193, 16.769561234297726]\n",
      "Average offset: 11.643522713001953\n"
     ]
    }
   ],
   "source": [
    "offsets = []\n",
    "for ttl_onset, led_onset in zip(eeg_ttl_onsets_secs, led_turns_on_indexes):    \n",
    "    offsets.append(ttl_onset - led_onset / video_fps)\n",
    "\n",
    "average_offset = sum(offsets) / len(offsets)\n",
    "\n",
    "print(f\"All calculated offsets: {offsets}\")\n",
    "print(f\"Average offset: {average_offset}\")"
   ],
   "metadata": {
    "collapsed": false,
    "ExecuteTime": {
     "end_time": "2024-02-12T09:39:46.321880Z",
     "start_time": "2024-02-12T09:39:46.292618Z"
    }
   },
   "id": "542999a037fb81b5",
   "execution_count": 37
  },
  {
   "cell_type": "code",
   "outputs": [
    {
     "name": "stdout",
     "output_type": "stream",
     "text": [
      "Onset 0. Actual EEG TTL onset: 13.0716, calculated: 15.645018265572846\n",
      "Onset 1. Actual EEG TTL onset: 14.0727, calculated: 16.64539215371557\n",
      "Onset 2. Actual EEG TTL onset: 15.0748, calculated: 17.645766041858295\n",
      "Onset 3. Actual EEG TTL onset: 25.2968, calculated: 27.84957970091407\n",
      "Onset 4. Actual EEG TTL onset: 26.298, calculated: 28.849953589056792\n",
      "Onset 5. Actual EEG TTL onset: 27.2992, calculated: 29.850327477199514\n",
      "Onset 6. Actual EEG TTL onset: 19744.0058, calculated: 19738.88321370242\n",
      "Onset 7. Actual EEG TTL onset: 19745.0079, calculated: 19739.88358759056\n",
      "Onset 8. Actual EEG TTL onset: 19746.01, calculated: 19740.883961478703\n"
     ]
    }
   ],
   "source": [
    "for i, frame_led_on in enumerate(led_turns_on_indexes):\n",
    "    eeg_ttl_in_secs = frame_to_sample(frame_led_on, fps=video_fps, offset=average_offset)\n",
    "    print(f\"Onset {i}. Actual EEG TTL onset: {eeg_ttl_onsets_secs[i]}, calculated: {eeg_ttl_in_secs}\")"
   ],
   "metadata": {
    "collapsed": false,
    "ExecuteTime": {
     "end_time": "2024-02-12T09:39:48.799295Z",
     "start_time": "2024-02-12T09:39:48.788584Z"
    }
   },
   "id": "8e7a89699f5d3269",
   "execution_count": 38
  },
  {
   "cell_type": "code",
   "outputs": [
    {
     "name": "stdout",
     "output_type": "stream",
     "text": [
      "Onset 0. Actual frame LED onset: 120, calculated: 42.82630636179609\n",
      "Onset 1. Actual frame LED onset: 150, calculated: 72.84808157601998\n",
      "Onset 2. Actual frame LED onset: 180, calculated: 102.89984557779181\n",
      "Onset 3. Actual frame LED onset: 486, calculated: 409.44523189264225\n",
      "Onset 4. Actual frame LED onset: 516, calculated: 439.47000598562084\n",
      "Onset 5. Actual frame LED onset: 546, calculated: 469.49478007859955\n",
      "Onset 6. Actual frame LED onset: 591596, calculated: 591749.620152174\n",
      "Onset 7. Actual frame LED onset: 591626, calculated: 591779.6719161759\n",
      "Onset 8. Actual frame LED onset: 591656, calculated: 591809.7236801776\n"
     ]
    }
   ],
   "source": [
    "for i, eeg_ttl_onset in enumerate(eeg_ttl_onsets_secs):\n",
    "    frame_of_led_onset = sample_to_frame(eeg_ttl_onset, fps=video_fps, offset=average_offset)\n",
    "    print(f\"Onset {i}. Actual frame LED onset: {led_turns_on_indexes[i]}, calculated: {frame_of_led_onset}\")"
   ],
   "metadata": {
    "collapsed": false,
    "ExecuteTime": {
     "end_time": "2024-02-12T09:39:49.625764Z",
     "start_time": "2024-02-12T09:39:49.593877Z"
    }
   },
   "id": "18cb02ccc5b8ac9a",
   "execution_count": 39
  },
  {
   "cell_type": "markdown",
   "source": [
    "### Plotting the events (before and after aligning)\n",
    "\n",
    "#### Before"
   ],
   "metadata": {
    "collapsed": false
   },
   "id": "ba2401fd7a041e01"
  },
  {
   "cell_type": "code",
   "outputs": [],
   "source": [
    "positions = np.array([2, 4, 6])[:,np.newaxis] \n",
    "offsets = [2,4,6] \n",
    "\n",
    "plt.eventplot(positions, lineoffsets=offsets) \n",
    "plt.show() "
   ],
   "metadata": {
    "collapsed": false
   },
   "id": "69f2722016d0549c"
  },
  {
   "cell_type": "markdown",
   "source": [
    "#### After"
   ],
   "metadata": {
    "collapsed": false
   },
   "id": "85d235b83bbd9005"
  },
  {
   "cell_type": "markdown",
   "source": [
    "\n",
    "\n",
    "\n",
    "\n",
    "\n",
    "\n",
    "\n",
    "\n",
    "\n",
    "\n",
    "\n",
    "\n",
    "\n",
    "\n",
    "\n",
    "\n",
    "\n",
    "\n",
    "\n",
    "\n",
    "\n",
    "\n",
    "\n",
    "\n",
    "\n",
    "\n",
    "\n",
    "\n"
   ],
   "metadata": {
    "collapsed": false
   },
   "id": "ce90b9cfe4a0a469"
  },
  {
   "cell_type": "markdown",
   "source": [
    "Let's load a single filtered epoch file"
   ],
   "metadata": {
    "collapsed": false
   },
   "id": "280a31fa73c9ce16"
  },
  {
   "cell_type": "code",
   "outputs": [
    {
     "name": "stdout",
     "output_type": "stream",
     "text": [
      "Reading C:\\Users\\Olle de Jong\\Documents\\MSc Biology\\rp2\\rp2_data\\resting_state\\output\\epochs\\filtered_epochs_resting_state_79593-epo.fif ...\n",
      "Isotrak not found\n",
      "    Found the data of interest:\n",
      "        t =       0.00 ...    4998.53 ms\n",
      "        0 CTF compensation matrices available\n",
      "Adding metadata with 3 columns\n",
      "1108 matching events found\n",
      "No baseline correction applied\n",
      "0 projection items activated\n",
      "<EpochsFIF |  1108 events (all good), 0 – 4.99853 s, baseline off, ~412.6 MB, data loaded, with metadata,\n",
      " '1': 1108>\n"
     ]
    }
   ],
   "source": [
    "for file in os.listdir(epoch_folder):\n",
    "    if test_subject in file and \"filtered\" in file and file.endswith(\".fif\"):\n",
    "        epochs = mne.read_epochs(os.path.join(epoch_folder, file), preload=True)\n",
    "        print(epochs)"
   ],
   "metadata": {
    "collapsed": false
   },
   "id": "dfb4da848472c608",
   "execution_count": 7
  }
 ],
 "metadata": {
  "kernelspec": {
   "display_name": "Python 3",
   "language": "python",
   "name": "python3"
  },
  "language_info": {
   "codemirror_mode": {
    "name": "ipython",
    "version": 2
   },
   "file_extension": ".py",
   "mimetype": "text/x-python",
   "name": "python",
   "nbconvert_exporter": "python",
   "pygments_lexer": "ipython2",
   "version": "2.7.6"
  }
 },
 "nbformat": 4,
 "nbformat_minor": 5
}
