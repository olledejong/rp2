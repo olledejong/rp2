{
 "cells": [
  {
   "cell_type": "code",
   "execution_count": 1,
   "id": "e0dec147a5f01fe9",
   "metadata": {
    "collapsed": false,
    "ExecuteTime": {
     "end_time": "2024-01-31T13:11:57.172443Z",
     "start_time": "2024-01-31T13:11:16.650035Z"
    }
   },
   "outputs": [],
   "source": [
    "import os\n",
    "import mne\n",
    "import json\n",
    "import ndx_events\n",
    "import numpy as np\n",
    "import pandas as pd\n",
    "import matplotlib.pyplot as plt\n",
    "from pynwb import NWBHDF5IO\n",
    "from mne.time_frequency import psd_array_multitaper"
   ]
  },
  {
   "cell_type": "code",
   "outputs": [],
   "source": [
    "# load settings\n",
    "with open('../settings.json', \"r\") as f:  # load settings\n",
    "    settings = json.load(f)\n",
    "\n",
    "nwb_folder = settings[\"nwb_files_folder\"]"
   ],
   "metadata": {
    "collapsed": true,
    "ExecuteTime": {
     "end_time": "2024-01-31T13:12:13.618603Z",
     "start_time": "2024-01-31T13:12:13.598778Z"
    }
   },
   "id": "initial_id",
   "execution_count": 2
  },
  {
   "cell_type": "code",
   "outputs": [],
   "source": [
    "df = pd.DataFrame(columns=['freq', 'psd (means)', 'subject_id', 'genotype', 'channel'])\n",
    "\n",
    "for i, file in enumerate(os.listdir(nwb_folder)):  # loop through all files (which contain signal for 9 diff channels)\n",
    "    if not file.endswith(\".nwb\"):\n",
    "        i += 1\n",
    "        continue\n",
    "    with NWBHDF5IO(f'{nwb_folder}/{file}', \"r\") as io:  # open it\n",
    "        nwb = io.read()\n",
    "        \n",
    "        filtered_eeg = nwb.acquisition['filtered_EEG'].data[:].T  # array of shape (9, 21.xxx.xxx)\n",
    "        locations = nwb.electrodes.location.data[:]  # get all electrode locations (1-d array)\n",
    "        s_freq = nwb.acquisition['filtered_EEG'].rate  # sampling frequency of the EEG\n",
    "        subject_id = nwb.subject.subject_id  # subject id\n",
    "        genotype = nwb.subject.genotype  # genotype of the subject\n",
    "        \n",
    "        print(f\"Data is loaded. Subject id: {subject_id}. Genotype: {genotype}. Sampling frequency: {s_freq}.\")\n",
    "        \n",
    "        # generate info object needed for creation of MNE RawArray object\n",
    "        ch_types = [\"emg\" if \"EMG\" in chan else \"eeg\" for chan in locations]\n",
    "        info = mne.create_info(ch_names=list(locations), ch_types=ch_types, sfreq=s_freq)\n",
    "        \n",
    "        # create MNE RawArray object and split into fixed length epochs (5 secs)\n",
    "        simulated_raw = mne.io.RawArray(filtered_eeg, info)\n",
    "        epochs = mne.make_fixed_length_epochs(simulated_raw, 5.0)\n",
    "        \n",
    "        # calculate the PSD for each EEG channel from 0 through 100 Hz (omits the EMG channels)\n",
    "        psds, freqs = psd_array_multitaper(epochs.get_data(picks=['eeg']), fmin=0, fmax=100, sfreq=s_freq, n_jobs=-1)\n",
    "        print(f\"PSD object has shape {psds.shape}. Freqs object has shape {freqs.shape}.\")  # (num_epochs, num_chans, num_dp_per_epoch)\n",
    "        \n",
    "        for j, chan in enumerate(locations):\n",
    "            if chan in ['EMG_L', 'EMG_R']:\n",
    "                continue\n",
    "            mean_psd = np.mean(psds[:, j, :], axis=0)  # calculate the mean psd of the epochs in this channel\n",
    "            df = pd.concat([df, pd.DataFrame({\n",
    "                \"freq\": freqs, \n",
    "                \"psd (means)\": mean_psd,\n",
    "                \"subject_id\": np.repeat(subject_id, len(freqs)),\n",
    "                \"genotype\": np.repeat(genotype, len(freqs)),\n",
    "                \"channel\": np.repeat(chan, len(freqs))\n",
    "            })])\n",
    "        \n",
    "        io.close()  # close the file\n",
    "        i += 1  # increment counter\n",
    "        print(f\"Saved PSD data for subject {subject_id} ({file}). DF now has shape {df.shape}.\")\n",
    "        print(f\"{round(i / len(os.listdir(nwb_folder)) * 100)}\")\n",
    "        # at the end n-rows should be equal to 63.126"
   ],
   "metadata": {
    "collapsed": false
   },
   "id": "9c374e4f3a6d1e05",
   "execution_count": null
  },
  {
   "cell_type": "code",
   "outputs": [],
   "source": [
    "df.to_csv(os.path.join(settings['psd_data_folder'], 'psd_averaged_epochs.csv'))"
   ],
   "metadata": {
    "collapsed": false,
    "ExecuteTime": {
     "end_time": "2024-01-31T13:37:46.110388Z",
     "start_time": "2024-01-31T13:37:45.515801Z"
    }
   },
   "id": "64eb2f0e528a0345",
   "execution_count": 13
  },
  {
   "cell_type": "markdown",
   "source": [
    "Inspect the data."
   ],
   "metadata": {
    "collapsed": false
   },
   "id": "bdde54200c93ace2"
  },
  {
   "cell_type": "code",
   "outputs": [
    {
     "data": {
      "text/plain": "       freq  psd (means) subject_id genotype channel\n0  0.000000     0.000028      81193  DRD2-KO   OFC_R\n1  0.199985     0.000057      81193  DRD2-KO   OFC_R\n2  0.399970     0.000071      81193  DRD2-KO   OFC_R\n3  0.599955     0.000085      81193  DRD2-KO   OFC_R\n4  0.799940     0.000098      81193  DRD2-KO   OFC_R",
      "text/html": "<div>\n<style scoped>\n    .dataframe tbody tr th:only-of-type {\n        vertical-align: middle;\n    }\n\n    .dataframe tbody tr th {\n        vertical-align: top;\n    }\n\n    .dataframe thead th {\n        text-align: right;\n    }\n</style>\n<table border=\"1\" class=\"dataframe\">\n  <thead>\n    <tr style=\"text-align: right;\">\n      <th></th>\n      <th>freq</th>\n      <th>psd (means)</th>\n      <th>subject_id</th>\n      <th>genotype</th>\n      <th>channel</th>\n    </tr>\n  </thead>\n  <tbody>\n    <tr>\n      <th>0</th>\n      <td>0.000000</td>\n      <td>0.000028</td>\n      <td>81193</td>\n      <td>DRD2-KO</td>\n      <td>OFC_R</td>\n    </tr>\n    <tr>\n      <th>1</th>\n      <td>0.199985</td>\n      <td>0.000057</td>\n      <td>81193</td>\n      <td>DRD2-KO</td>\n      <td>OFC_R</td>\n    </tr>\n    <tr>\n      <th>2</th>\n      <td>0.399970</td>\n      <td>0.000071</td>\n      <td>81193</td>\n      <td>DRD2-KO</td>\n      <td>OFC_R</td>\n    </tr>\n    <tr>\n      <th>3</th>\n      <td>0.599955</td>\n      <td>0.000085</td>\n      <td>81193</td>\n      <td>DRD2-KO</td>\n      <td>OFC_R</td>\n    </tr>\n    <tr>\n      <th>4</th>\n      <td>0.799940</td>\n      <td>0.000098</td>\n      <td>81193</td>\n      <td>DRD2-KO</td>\n      <td>OFC_R</td>\n    </tr>\n  </tbody>\n</table>\n</div>"
     },
     "execution_count": 11,
     "metadata": {},
     "output_type": "execute_result"
    }
   ],
   "source": [
    "df.head()"
   ],
   "metadata": {
    "collapsed": false,
    "ExecuteTime": {
     "end_time": "2024-01-31T13:34:58.041322Z",
     "start_time": "2024-01-31T13:34:58.005730Z"
    }
   },
   "id": "dffd025beb99cd1",
   "execution_count": 11
  },
  {
   "cell_type": "code",
   "outputs": [
    {
     "data": {
      "text/plain": "channel\nOFC_R    9018\nOFC_L    9018\nCG       9018\nSTR_R    9018\nS1_L     9018\nS1_R     9018\nV1_R     9018\nName: count, dtype: int64"
     },
     "execution_count": 8,
     "metadata": {},
     "output_type": "execute_result"
    }
   ],
   "source": [
    "df.channel.value_counts()"
   ],
   "metadata": {
    "collapsed": false,
    "ExecuteTime": {
     "end_time": "2024-01-31T13:34:04.151282Z",
     "start_time": "2024-01-31T13:34:04.130459Z"
    }
   },
   "id": "bbafd65316cce241",
   "execution_count": 8
  },
  {
   "cell_type": "markdown",
   "source": [
    "Let's perform some actual plotting"
   ],
   "metadata": {
    "collapsed": false
   },
   "id": "5e55f5acd8acd0cc"
  },
  {
   "cell_type": "code",
   "outputs": [],
   "source": [],
   "metadata": {
    "collapsed": false
   },
   "id": "3861b0ab7725da4"
  }
 ],
 "metadata": {
  "kernelspec": {
   "display_name": "Python 3",
   "language": "python",
   "name": "python3"
  },
  "language_info": {
   "codemirror_mode": {
    "name": "ipython",
    "version": 2
   },
   "file_extension": ".py",
   "mimetype": "text/x-python",
   "name": "python",
   "nbconvert_exporter": "python",
   "pygments_lexer": "ipython2",
   "version": "2.7.6"
  }
 },
 "nbformat": 4,
 "nbformat_minor": 5
}
